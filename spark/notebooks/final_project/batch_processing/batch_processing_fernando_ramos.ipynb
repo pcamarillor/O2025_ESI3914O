{
 "cells": [
  {
   "cell_type": "markdown",
   "id": "b92d9622",
   "metadata": {},
   "source": [
    "# <center> <img src=\"../../img/ITESOLogo.png\" alt=\"ITESO\" width=\"480\" height=\"130\"> </center>\n",
    "# <center> **Departamento de Electrónica, Sistemas e Informática** </center>\n",
    "---\n",
    "## <center> Computer Systems Engineering  </center>\n",
    "---\n",
    "### <center> Big Data Processing </center>\n",
    "---\n",
    "#### <center> **Autumn 2025** </center>\n",
    "\n",
    "#### <center> **Final Project: Batch Processing** </center>\n",
    "---\n",
    "\n",
    "**Date**: October, 2025\n",
    "\n",
    "**Student Name**: Luis Fernando Ramirez Ramos\n",
    "\n",
    "**Professor**: Pablo Camarillo Ramirez"
   ]
  },
  {
   "cell_type": "code",
   "execution_count": 1,
   "id": "a4eac1af-272c-4486-a269-f9867bd4398e",
   "metadata": {},
   "outputs": [],
   "source": [
    "import findspark\n",
    "findspark.init()"
   ]
  },
  {
   "cell_type": "code",
   "execution_count": 2,
   "id": "49a64454-eb5f-49c6-a339-741085b676cc",
   "metadata": {},
   "outputs": [
    {
     "name": "stderr",
     "output_type": "stream",
     "text": [
      "WARNING: Using incubator modules: jdk.incubator.vector\n",
      "25/10/28 05:31:18 WARN NativeCodeLoader: Unable to load native-hadoop library for your platform... using builtin-java classes where applicable\n",
      "Using Spark's default log4j profile: org/apache/spark/log4j2-defaults.properties\n",
      "Setting default log level to \"WARN\".\n",
      "To adjust logging level use sc.setLogLevel(newLevel). For SparkR, use setLogLevel(newLevel).\n"
     ]
    }
   ],
   "source": [
    "from pyspark.sql import SparkSession\n",
    "from pyspark.sql.functions import avg, trim, col, count, isnull, when, lit, \\\n",
    "     concat, round, asc, desc, input_file_name, current_timestamp\n",
    "from datetime import datetime\n",
    "from fernandoramos.spark_utils import SparkUtils\n",
    "\n",
    "spark = SparkSession.builder \\\n",
    "    .appName(\"Car catalogue normalization and match.\") \\\n",
    "    .master(\"spark://3fc414c80e1d:7077\") \\\n",
    "    .config(\"spark.jars\", \"/opt/spark/work-dir/jars/postgresql-42.7.8.jar\") \\\n",
    "    .config(\"spark.ui.port\", \"4040\") \\\n",
    "    .getOrCreate()\n",
    "\n",
    "sc = spark.sparkContext\n",
    "sc.setLogLevel(\"ERROR\")"
   ]
  },
  {
   "cell_type": "markdown",
   "id": "a4dd2743",
   "metadata": {},
   "source": [
    "# Introduction\n",
    "\n",
    "We will build a compact batch data pipeline in PySpark that ingests five CSV catalogues from real insurers (Zurich, HDI, Quálitas, Chubb, El Potosí), normalizes core attributes (brand, model, year, transmission, version), and writes a master catalog to PostgreSQL (both run locally in Docker).\n",
    "\n",
    "### Two matching layers will be used:\n",
    "\n",
    "#### Commercial hash candidates \n",
    "We form a deterministic key from (brand, normalized model, year, transmission) to quickly find likely matches across insurers.\n",
    "\n",
    "#### Version similarity \n",
    "We normalize the free-text version_original into a single cleaned field version_clean (we keep all specs together). We then compare versions using Jaccard similarity (set overlap) and a coverage index (bidirectional overlap) to confirm real matches."
   ]
  },
  {
   "cell_type": "raw",
   "id": "a0337cdf-58fe-43ff-887e-a97a1593fefe",
   "metadata": {},
   "source": [
    "CSV (5 insurers)\n",
    "      │\n",
    "      ▼\n",
    "[PySpark Ingest] ──> [Normalize brand/model/year/transmission]\n",
    "      │\n",
    "      ├─> [version_original  ──normalize──> version_clean]\n",
    "      │\n",
    "      └─> [commercial_hash = H(brand|model|year|transmission)]\n",
    "                           │\n",
    "                           ▼\n",
    "                [Candidate join on hash]\n",
    "                           │\n",
    "                           ▼\n",
    "        [Version similarity: Jaccard + Coverage]\n",
    "                           │\n",
    "                           ▼\n",
    "                   [Master catalog in PG]"
   ]
  },
  {
   "cell_type": "markdown",
   "id": "1757b962",
   "metadata": {},
   "source": [
    "# Dataset\n",
    "\n",
    "The input data is extracted from real insurers’ vehicle catalogues. Each CSV row is one vehicle entry as published by the insurer.\n",
    "\n",
    "Raw fields: origen, id_original, marca, modelo, anio, version_original, transmision, activo\n",
    "\n",
    "#### origen \n",
    "Insurer code/name the row comes from (e.g., ZURICH, HDI).\n",
    "\n",
    "#### id_original \n",
    "The insurer’s primary/row identifier (keep as string to avoid overflow or formatting issues).\n",
    "\n",
    "#### marca \n",
    "Vehicle brand as provided by the insurer (will be uppercased/canonicalized later).\n",
    "\n",
    "#### modelo \n",
    "Vehicle model name as provided (to be normalized).\n",
    "\n",
    "#### anio \n",
    "Model year (integer).\n",
    "\n",
    "#### version_original \n",
    "Free-text trim/spec line (contains trim, HP, doors, body type, etc.).\n",
    "\n",
    "#### transmision \n",
    "Transmission as provided; may be blank/messy; later normalized to AUTO or MANUAL.\n",
    "\n",
    "#### activo \n",
    "Row activity flag from the source; typically 1/0 or boolean; we’ll filter to active rows."
   ]
  },
  {
   "cell_type": "markdown",
   "id": "2d010fcf-fddc-4de7-8f3e-a751382c8ba2",
   "metadata": {},
   "source": [
    "## Version Matching Spec\n",
    "#### Token sets"
   ]
  },
  {
   "cell_type": "raw",
   "id": "1ebe6e27-f42a-4e14-ac35-7b0c64c55b0b",
   "metadata": {},
   "source": [
    "Let A and B be token sets from version_clean.\n",
    "\n",
    "Coverage (directional):\n",
    "Cov(A → B) = ∣A∩B∣\n",
    "             ∣A∣\n",
    "\n",
    "Bidirectional Coverage (primary score):⁡\n",
    "{ CovBi(A, B) } = min{Cov(𝐴 → 𝐵), Cov(𝐵 → 𝐴) } \n",
    "\n",
    "Jaccard (secondary score):\n",
    "Jac(A,B) = ∣A∪B∣\n",
    "           ∣A∩B∣"
   ]
  },
  {
   "cell_type": "markdown",
   "id": "9afe53e3-c957-4624-bd7e-236bfb439185",
   "metadata": {},
   "source": [
    "### Why both?\n",
    "\n",
    "Bidirectional Coverage ensures both sides are sufficiently covered (prevents subset false positives).\n",
    "\n",
    "Jaccard penalizes large unions (lots of extra tokens) and is a good guardrail/tie-breaker.\n",
    "\n",
    "Keeping both keeps precision high with little extra complexity."
   ]
  },
  {
   "cell_type": "markdown",
   "id": "df0a0e72",
   "metadata": {},
   "source": [
    "# Transformations and Actions"
   ]
  },
  {
   "cell_type": "markdown",
   "id": "66570d37-c03c-4a78-adaf-c22c3c068dda",
   "metadata": {},
   "source": [
    "### Define Input Schema"
   ]
  },
  {
   "cell_type": "code",
   "execution_count": 3,
   "id": "2184cf49-8e20-452b-95aa-b9a434adb422",
   "metadata": {},
   "outputs": [
    {
     "name": "stdout",
     "output_type": "stream",
     "text": [
      "Schema generated.\n"
     ]
    }
   ],
   "source": [
    "raw_vehicle_data_schema = SparkUtils.generate_schema([\n",
    "    (\"origen_aseguradora\", \"string\", True),\n",
    "    (\"id_original\", \"string\", True),\n",
    "    (\"marca\", \"string\", True),\n",
    "    (\"modelo\", \"string\", True),\n",
    "    (\"anio\", \"int\", True),\n",
    "    (\"version_original\", \"string\", True),\n",
    "    (\"transmision\", \"string\", True), # {AUTO, MANUAL}\n",
    "    (\"activo\", \"string\", True) \n",
    "])\n",
    "\n",
    "print(\"Schema generated.\")"
   ]
  },
  {
   "cell_type": "markdown",
   "id": "4514edf5-46d5-4f38-b9a9-b6e4e95a39d6",
   "metadata": {},
   "source": [
    "### Origin Data Load"
   ]
  },
  {
   "cell_type": "code",
   "execution_count": 8,
   "id": "faf2fc2e-632e-4ae5-9422-ee8303b22aa7",
   "metadata": {},
   "outputs": [
    {
     "name": "stdout",
     "output_type": "stream",
     "text": [
      "Rows loaded from CSV files: 171,190\n",
      "\n",
      "Sample raw data (first 5 rows):\n",
      "+------+-----------+-----+------+----+----------+\n",
      "|origen|id_original|marca|modelo|anio|activo_int|\n",
      "+------+-----------+-----+------+----+----------+\n",
      "|ZURICH|72315      |ACURA|ADX   |2025|1         |\n",
      "|ZURICH|72316      |ACURA|ADX   |2025|1         |\n",
      "|ZURICH|32380      |ACURA|ILX   |2013|1         |\n",
      "|ZURICH|32381      |ACURA|ILX   |2013|1         |\n",
      "|ZURICH|32382      |ACURA|ILX   |2014|1         |\n",
      "+------+-----------+-----+------+----+----------+\n",
      "only showing top 5 rows\n"
     ]
    }
   ],
   "source": [
    "vehicle_dataset = spark \\\n",
    "  .read \\\n",
    "  .format(\"csv\") \\\n",
    "  .option(\"header\", \"true\") \\\n",
    "  .option(\"quote\", '\"') \\\n",
    "  .option(\"escape\", '\"') \\\n",
    "  .option(\"mode\", \"PERMISSIVE\") \\\n",
    "  .schema(raw_vehicle_data_schema) \\\n",
    "  .csv(\"/opt/spark/work-dir/data/insurers/\")\n",
    "\n",
    "# Add metadata columns \n",
    "vehicle_dataset = vehicle_dataset \\\n",
    "  .withColumn(\"source_file\", input_file_name()) \\\n",
    "  .withColumn(\"ingestion_ts\", current_timestamp()) \\\n",
    "  .withColumnRenamed(\"origen_aseguradora\", \"origen\")\n",
    "\n",
    "# Safe conversion of activo from string to int\n",
    "# Malformed rows will have NULL in activo_int\n",
    "vehicle_dataset = vehicle_dataset.withColumn(\n",
    "  \"activo_int\",\n",
    "  when(col(\"activo\").rlike(\"^[0-9]+$\"), col(\"activo\").cast(\"int\"))\n",
    "  .otherwise(None)\n",
    ")\n",
    "\n",
    "rows_read = vehicle_dataset.count()\n",
    "print(f\"Rows loaded from CSV files: {rows_read:,}\")\n",
    "\n",
    "# Show sample to verify data loaded correctly\n",
    "print(\"\\nSample raw data (first 5 rows):\")\n",
    "vehicle_dataset.select(\"origen\", \"id_original\", \"marca\", \"modelo\", \"anio\", \"activo_int\").show(5, truncate=False)\n"
   ]
  },
  {
   "cell_type": "markdown",
   "id": "d63a4204-ce02-491e-821a-eba526ef5d39",
   "metadata": {},
   "source": [
    "### Filter only valid data"
   ]
  },
  {
   "cell_type": "code",
   "execution_count": null,
   "id": "244aec37-66a1-4ab6-aacd-7ff4c221475c",
   "metadata": {},
   "outputs": [],
   "source": []
  },
  {
   "cell_type": "raw",
   "id": "61a81c9d-29f7-48de-86e6-331574e0cfa9",
   "metadata": {
    "scrolled": true
   },
   "source": [
    "current_year = datetime.now().year\n",
    "\n",
    "vehicle_dataset_filtered = vehicle_dataset \\\n",
    "  .filter(col(\"activo_int\") == 1) \\\n",
    "  .filter(col(\"marca\").isNotNull() & (col(\"marca\") != \"\")) \\\n",
    "  .filter(col(\"modelo\").isNotNull() & (col(\"modelo\") != \"\")) \\\n",
    "  .filter(col(\"anio\").isNotNull()) \\\n",
    "  .filter((col(\"anio\") >= 2000) & (col(\"anio\") <= current_year + 1)) \\\n",
    "  .drop(\"activo\") \\\n",
    "  .withColumnRenamed(\"activo_int\", \"activo\")\n",
    "\n",
    "rows_after_filter = vehicle_dataset_filtered.count()\n",
    "print(f\"Rows after filtering: {rows_after_filter:,}\")\n",
    "\n",
    "# Show sample filtered data\n",
    "print(\"\\nSample filtered data (first 10 rows):\")\n",
    "vehicle_dataset_filtered.select(\"origen\", \"marca\", \"modelo\", \"anio\", \"transmision\", \"activo\").show(10, truncate=False)\n"
   ]
  },
  {
   "cell_type": "markdown",
   "id": "4e1d0282-e261-4a2d-9862-cb91ec556d04",
   "metadata": {},
   "source": [
    "### Normalized Output Schema"
   ]
  },
  {
   "cell_type": "code",
   "execution_count": 5,
   "id": "dcf41ffc-c233-40b9-9d1f-f1ebd1a0db00",
   "metadata": {},
   "outputs": [
    {
     "name": "stdout",
     "output_type": "stream",
     "text": [
      "Schema generated.\n"
     ]
    }
   ],
   "source": [
    "normalized_schema = SparkUtils.generate_schema([\n",
    "    (\"brand_norm\", \"string\", False),\n",
    "    (\"model_norm\", \"string\", False),\n",
    "    (\"year\", \"int\", False),\n",
    "    (\"transmission_norm\", \"string\", False),\n",
    "    (\"version_clean\", \"string\", False),\n",
    "    (\"token_list\", \"array<string>\", False),\n",
    "    (\"commercial_hash\", \"string\", False),\n",
    "    (\"activo\", \"int\", False),\n",
    "    (\"disponibilidad\", \"struct<origen:string,id_original:string,version_original:string,source_file:string,ingestion_ts:timestamp>\", False)\n",
    "])\n",
    "\n",
    "print(\"Schema generated.\")"
   ]
  },
  {
   "cell_type": "markdown",
   "id": "bc61d130",
   "metadata": {},
   "source": [
    "# Persistence Data"
   ]
  },
  {
   "cell_type": "markdown",
   "id": "e74ef5f1",
   "metadata": {},
   "source": [
    "# DAG"
   ]
  }
 ],
 "metadata": {
  "kernelspec": {
   "display_name": "Python 3 (ipykernel)",
   "language": "python",
   "name": "python3"
  },
  "language_info": {
   "codemirror_mode": {
    "name": "ipython",
    "version": 3
   },
   "file_extension": ".py",
   "mimetype": "text/x-python",
   "name": "python",
   "nbconvert_exporter": "python",
   "pygments_lexer": "ipython3",
   "version": "3.10.12"
  }
 },
 "nbformat": 4,
 "nbformat_minor": 5
}
