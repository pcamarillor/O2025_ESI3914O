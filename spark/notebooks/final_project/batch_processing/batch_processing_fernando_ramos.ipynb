{
 "cells": [
  {
   "cell_type": "markdown",
   "id": "b92d9622",
   "metadata": {},
   "source": [
    "# <center> <img src=\"../../img/ITESOLogo.png\" alt=\"ITESO\" width=\"480\" height=\"130\"> </center>\n",
    "# <center> **Departamento de Electrónica, Sistemas e Informática** </center>\n",
    "---\n",
    "## <center> Computer Systems Engineering  </center>\n",
    "---\n",
    "### <center> Big Data Processing </center>\n",
    "---\n",
    "#### <center> **Autumn 2025** </center>\n",
    "\n",
    "#### <center> **Final Project: Batch Processing** </center>\n",
    "---\n",
    "\n",
    "**Date**: October, 2025\n",
    "\n",
    "**Student Name**: Luis Fernando Ramirez Ramos\n",
    "\n",
    "**Professor**: Pablo Camarillo Ramirez"
   ]
  },
  {
   "cell_type": "code",
   "execution_count": 1,
   "id": "a4eac1af-272c-4486-a269-f9867bd4398e",
   "metadata": {},
   "outputs": [],
   "source": [
    "import findspark\n",
    "findspark.init()"
   ]
  },
  {
   "cell_type": "code",
   "execution_count": 2,
   "id": "49a64454-eb5f-49c6-a339-741085b676cc",
   "metadata": {
    "scrolled": true
   },
   "outputs": [
    {
     "name": "stderr",
     "output_type": "stream",
     "text": [
      "WARNING: Using incubator modules: jdk.incubator.vector\n",
      "25/10/28 10:55:05 WARN NativeCodeLoader: Unable to load native-hadoop library for your platform... using builtin-java classes where applicable\n",
      "Using Spark's default log4j profile: org/apache/spark/log4j2-defaults.properties\n",
      "Setting default log level to \"WARN\".\n",
      "To adjust logging level use sc.setLogLevel(newLevel). For SparkR, use setLogLevel(newLevel).\n"
     ]
    }
   ],
   "source": [
    "import re\n",
    "import sys\n",
    "import hashlib\n",
    "import unicodedata\n",
    "from pyspark.sql import SparkSession, Window\n",
    "from pyspark.sql.functions import (\n",
    "    udf, avg, trim, col, count, isnull, when, lit, concat, round, asc, desc,\n",
    "    input_file_name, current_timestamp, struct, min, least, array_size, length,\n",
    "    row_number, collect_list, array, explode, size, concat as spark_concat\n",
    ")\n",
    "from datetime import datetime\n",
    "from fernandoramos.spark_utils import SparkUtils\n",
    "\n",
    "spark = SparkSession.builder \\\n",
    "    .appName(\"Car catalogue normalization and match.\") \\\n",
    "    .master(\"spark://3fc414c80e1d:7077\") \\\n",
    "    .config(\"spark.jars\", \"/opt/spark/work-dir/jars/postgresql-42.7.8.jar\") \\\n",
    "    .config(\"spark.ui.port\", \"4040\") \\\n",
    "    .getOrCreate()\n",
    "\n",
    "sc = spark.sparkContext\n",
    "sc.setLogLevel(\"ERROR\")"
   ]
  },
  {
   "cell_type": "markdown",
   "id": "a4dd2743",
   "metadata": {},
   "source": [
    "# Introduction\n",
    "\n",
    "I will build a compact batch data pipeline in PySpark that ingests five CSV catalogues from real insurers (Zurich, HDI, Quálitas, Chubb, El Potosí), normalizes core attributes (brand, model, year, transmission), and writes a master catalog to PostgreSQL (both run locally in Docker).\n",
    "\n",
    "### Matching strategy:\n",
    "\n",
    "#### Commercial hash candidates \n",
    "I form a deterministic key from normalized (brand, model, year, transmission) to find matches across insurers.\n",
    "\n",
    "### Second meant strategy (out of scope)\n",
    "\n",
    "#### Version similarity \n",
    "I meant to normalize the free-text version_original into a single cleaned field version_clean (keeping all specs together) in order to create tighter and more accurate matches. Versions would then be compared using Jaccard similarity (set overlap) and a coverage index (bidirectional overlap) to confirm real matches.\n",
    "\n",
    "This matching layer was discarted since it seems to be too expensive in CPU and memory, since a lot of comparisons were needed. This strategies are not used, but they were kept at the end of the code for a possible future implementation."
   ]
  },
  {
   "cell_type": "raw",
   "id": "a0337cdf-58fe-43ff-887e-a97a1593fefe",
   "metadata": {},
   "source": [
    "CSV (5 insurers)\n",
    "      │\n",
    "      ▼\n",
    "[PySpark Ingest] ──> [Normalize brand/model/year/transmission]\n",
    "      │\n",
    "      ├─> [version_original  ──normalize──> extract tranmission if needed]\n",
    "      │\n",
    "      └─> [commercial_hash = H(brand|model|year|transmission)]\n",
    "                           │\n",
    "                           ▼\n",
    "                     [Join on hash]\n",
    "                           │\n",
    "                           ▼\n",
    "                 [Master catalog in PG]"
   ]
  },
  {
   "cell_type": "markdown",
   "id": "1757b962",
   "metadata": {},
   "source": [
    "# Dataset\n",
    "\n",
    "The input data is extracted from real insurers’ vehicle catalogues. Each CSV row is one vehicle entry as published by the insurer.\n",
    "\n",
    "Raw fields: origen, id_original, marca, modelo, anio, version_original, transmision, activo\n",
    "\n",
    "#### origen \n",
    "Insurer code/name the row comes from (e.g., ZURICH, HDI).\n",
    "\n",
    "#### id_original \n",
    "The insurer’s primary/row identifier (keep as string to avoid overflow or formatting issues).\n",
    "\n",
    "#### marca \n",
    "Vehicle brand as provided by the insurer (will be uppercased/canonicalized later).\n",
    "\n",
    "#### modelo \n",
    "Vehicle model name as provided (to be normalized).\n",
    "\n",
    "#### anio \n",
    "Model year (integer).\n",
    "\n",
    "#### version_original \n",
    "Free-text trim/spec line (contains trim, HP, doors, body type, etc.).\n",
    "\n",
    "#### transmision \n",
    "Transmission as provided; may be blank/messy; later normalized to AUTO or MANUAL.\n",
    "\n",
    "#### activo \n",
    "Row activity flag from the source; typically 1/0 or boolean; we’ll filter to active rows."
   ]
  },
  {
   "cell_type": "markdown",
   "id": "df0a0e72",
   "metadata": {},
   "source": [
    "# Transformations and Actions"
   ]
  },
  {
   "cell_type": "markdown",
   "id": "66570d37-c03c-4a78-adaf-c22c3c068dda",
   "metadata": {},
   "source": [
    "### Define Input Schema"
   ]
  },
  {
   "cell_type": "code",
   "execution_count": 3,
   "id": "2184cf49-8e20-452b-95aa-b9a434adb422",
   "metadata": {},
   "outputs": [
    {
     "name": "stdout",
     "output_type": "stream",
     "text": [
      "Schema generated.\n"
     ]
    }
   ],
   "source": [
    "raw_vehicle_data_schema = SparkUtils.generate_schema([\n",
    "    (\"origen_aseguradora\", \"string\", True),\n",
    "    (\"id_original\", \"string\", True),\n",
    "    (\"marca\", \"string\", True),\n",
    "    (\"modelo\", \"string\", True),\n",
    "    (\"anio\", \"int\", True),\n",
    "    (\"version_original\", \"string\", True),\n",
    "    (\"transmision\", \"string\", True), # {AUTO, MANUAL}\n",
    "    (\"activo\", \"string\", True) \n",
    "])\n",
    "\n",
    "print(\"Schema generated.\")"
   ]
  },
  {
   "cell_type": "markdown",
   "id": "4514edf5-46d5-4f38-b9a9-b6e4e95a39d6",
   "metadata": {},
   "source": [
    "### Origin Data Load"
   ]
  },
  {
   "cell_type": "code",
   "execution_count": 4,
   "id": "faf2fc2e-632e-4ae5-9422-ee8303b22aa7",
   "metadata": {},
   "outputs": [],
   "source": [
    "vehicle_dataset = spark \\\n",
    "  .read \\\n",
    "  .format(\"csv\") \\\n",
    "  .option(\"header\", \"true\") \\\n",
    "  .option(\"quote\", '\"') \\\n",
    "  .option(\"escape\", '\"') \\\n",
    "  .option(\"mode\", \"PERMISSIVE\") \\\n",
    "  .schema(raw_vehicle_data_schema) \\\n",
    "  .csv(\"/opt/spark/work-dir/data/insurers/\")\n",
    "\n",
    "# Add metadata columns \n",
    "vehicle_dataset = vehicle_dataset \\\n",
    "  .withColumn(\"source_file\", input_file_name()) \\\n",
    "  .withColumn(\"ingestion_ts\", current_timestamp()) \\\n",
    "  .withColumnRenamed(\"origen_aseguradora\", \"origen\")\n",
    "\n",
    "# Safe conversion of activo from string to int\n",
    "# Malformed rows will have NULL in activo_int\n",
    "vehicle_dataset = vehicle_dataset.withColumn(\n",
    "  \"activo_int\",\n",
    "  when(col(\"activo\").rlike(\"^[0-9]+$\"), col(\"activo\").cast(\"int\"))\n",
    "  .otherwise(None)\n",
    ")"
   ]
  },
  {
   "cell_type": "markdown",
   "id": "d63a4204-ce02-491e-821a-eba526ef5d39",
   "metadata": {},
   "source": [
    "### Filter only valid data"
   ]
  },
  {
   "cell_type": "code",
   "execution_count": 5,
   "id": "c7b1f8ae-5724-421c-bdc8-a1107aca7813",
   "metadata": {
    "scrolled": true
   },
   "outputs": [],
   "source": [
    "current_year = datetime.now().year\n",
    "\n",
    "vehicle_dataset_filtered = vehicle_dataset \\\n",
    "  .filter(col(\"activo_int\") == 1) \\\n",
    "  .filter(col(\"marca\").isNotNull() & (col(\"marca\") != \"\")) \\\n",
    "  .filter(col(\"modelo\").isNotNull() & (col(\"modelo\") != \"\")) \\\n",
    "  .filter(col(\"anio\").isNotNull()) \\\n",
    "  .filter((col(\"anio\") >= 2000) & (col(\"anio\") <= current_year + 1)) \\\n",
    "  .drop(\"activo\") \\\n",
    "  .withColumnRenamed(\"activo_int\", \"activo\")"
   ]
  },
  {
   "cell_type": "markdown",
   "id": "ef0359ef-6e0e-4357-961d-95208430c0ed",
   "metadata": {},
   "source": [
    "### Normalization Functions"
   ]
  },
  {
   "cell_type": "code",
   "execution_count": 6,
   "id": "dd83097f-89e5-4ed9-b564-edfcd3aea7e5",
   "metadata": {},
   "outputs": [
    {
     "name": "stdout",
     "output_type": "stream",
     "text": [
      "Config imported successfully\n",
      "   - Brand aliases: 23 mappings\n",
      "   - Model aliases: 33 mappings\n",
      "   - Transmission keywords: 21 mappings\n",
      "   - Token exclusions: 108 tokens\n"
     ]
    }
   ],
   "source": [
    "from normalization_config import (\n",
    "    BRAND_ALIASES, MODEL_ALIASES, TRANSMISSION_KEYWORDS,\n",
    "    UNIT_MAPPINGS, SYNONYM_MAPPINGS, TOKEN_EXCLUSIONS\n",
    ")\n",
    "\n",
    "# Helper function: Remove accents\n",
    "def remove_accents(text):\n",
    "    if not text:\n",
    "        return text\n",
    "    nfd = unicodedata.normalize('NFD', text)\n",
    "    return ''.join([c for c in nfd if unicodedata.category(c) != 'Mn'])\n",
    "\n",
    "print(\"Config imported successfully\")\n",
    "print(f\"   - Brand aliases: {len(BRAND_ALIASES)} mappings\")\n",
    "print(f\"   - Model aliases: {len(MODEL_ALIASES)} mappings\")\n",
    "print(f\"   - Transmission keywords: {len(TRANSMISSION_KEYWORDS)} mappings\")\n",
    "print(f\"   - Token exclusions: {len(TOKEN_EXCLUSIONS)} tokens\")"
   ]
  },
  {
   "cell_type": "markdown",
   "id": "ec81cbdd-04a0-43a8-9f8d-5967f3092b86",
   "metadata": {},
   "source": [
    "### Brand and Model Normalization Functions"
   ]
  },
  {
   "cell_type": "code",
   "execution_count": 7,
   "id": "3369fa3a-cdb0-459f-ba60-90498ec24ffc",
   "metadata": {},
   "outputs": [],
   "source": [
    "def normalize_brand_model(value, aliases_dict):\n",
    "    if not value or value.strip() == \"\":\n",
    "        return value\n",
    "    \n",
    "    # Uppercase and trim\n",
    "    normalized = str(value).upper().strip()\n",
    "    \n",
    "    # Remove accents\n",
    "    normalized = remove_accents(normalized)\n",
    "    \n",
    "    # Collapse multiple spaces\n",
    "    normalized = re.sub(r'\\s+', ' ', normalized)\n",
    "    \n",
    "    # Apply alias mapping\n",
    "    if normalized in aliases_dict:\n",
    "        normalized = aliases_dict[normalized]\n",
    "    \n",
    "    return normalized\n",
    "\n",
    "# Create UDFs for brand and model\n",
    "normalize_brand_udf = udf(\n",
    "    lambda x: normalize_brand_model(x, BRAND_ALIASES), \n",
    "    \"string\"\n",
    ")\n",
    "normalize_model_udf = udf(\n",
    "    lambda x: normalize_brand_model(x, MODEL_ALIASES), \n",
    "    \"string\"\n",
    ")"
   ]
  },
  {
   "cell_type": "markdown",
   "id": "6676cb91-9ae6-467e-b57f-f709e1c338bc",
   "metadata": {},
   "source": [
    "### Transmission Normalization Function"
   ]
  },
  {
   "cell_type": "code",
   "execution_count": 8,
   "id": "779c3ce0-2c4d-4da2-a7b9-b02952aa9b86",
   "metadata": {},
   "outputs": [],
   "source": [
    "def infer_transmission(transmision_field, version_original):\n",
    "    # Normalize transmission to AUTO or MANUAL\n",
    "    # First try the transmision field\n",
    "    if transmision_field and transmision_field.strip():\n",
    "        trans_upper = transmision_field.upper().strip()\n",
    "        \n",
    "        # Check if it matches any keyword\n",
    "        for keyword, canonical in TRANSMISSION_KEYWORDS.items():\n",
    "            if keyword in trans_upper:\n",
    "                return canonical\n",
    "    \n",
    "    # If empty or no match, try to infer from version_original\n",
    "    if version_original and version_original.strip():\n",
    "        version_upper = version_original.upper().strip()\n",
    "        \n",
    "        for keyword, canonical in TRANSMISSION_KEYWORDS.items():\n",
    "            if keyword in version_upper:\n",
    "                return canonical\n",
    "    \n",
    "    # Return None if cannot infer \n",
    "    return None\n",
    "\n",
    "normalize_transmission_udf = udf(infer_transmission, \"string\")"
   ]
  },
  {
   "cell_type": "markdown",
   "id": "614166a9-ca66-45b3-9156-a25de885dd42",
   "metadata": {},
   "source": [
    "### Commercial Hash Function"
   ]
  },
  {
   "cell_type": "code",
   "execution_count": 9,
   "id": "e0380fec-ab92-4410-a8df-f35a73b3dec3",
   "metadata": {},
   "outputs": [],
   "source": [
    "def compute_commercial_hash(brand_norm, model_norm, year, transmission_norm):\n",
    "    # Commercial_hash = SHA-256(brand_norm|model_norm|year|transmission_norm)\n",
    "    if not all([brand_norm, model_norm, year, transmission_norm]):\n",
    "        return None\n",
    "    \n",
    "    # Create composite key\n",
    "    composite_key = f\"{brand_norm}|{model_norm}|{year}|{transmission_norm}\"\n",
    "    \n",
    "    # Compute SHA-256 hash\n",
    "    hash_obj = hashlib.sha256(composite_key.encode('utf-8'))\n",
    "    return hash_obj.hexdigest()\n",
    "\n",
    "compute_commercial_hash_udf = udf(compute_commercial_hash, \"string\")"
   ]
  },
  {
   "cell_type": "markdown",
   "id": "8dfc952a-2d56-48b5-9821-718eb338294d",
   "metadata": {},
   "source": [
    "## Apply Normalization Pipeline"
   ]
  },
  {
   "cell_type": "code",
   "execution_count": 10,
   "id": "20480336-84f2-42ec-b3ec-c40311b1b1f4",
   "metadata": {},
   "outputs": [
    {
     "data": {
      "text/plain": [
       "DataFrame[origen: string, id_original: string, marca: string, modelo: string, anio: int, version_original: string, transmision: string, source_file: string, ingestion_ts: timestamp, activo: int, brand_norm: string, model_norm: string, year: int, transmission_norm: string, commercial_hash: string, disponibilidad: struct<origen:string,id_original:string,version_original:string,source_file:string,ingestion_ts:timestamp>]"
      ]
     },
     "execution_count": 10,
     "metadata": {},
     "output_type": "execute_result"
    }
   ],
   "source": [
    "# Apply all normalization UDFs and build disponibilidad struct\n",
    "df_catalog_clean = vehicle_dataset_filtered \\\n",
    "    .withColumn(\"brand_norm\", normalize_brand_udf(col(\"marca\"))) \\\n",
    "    .withColumn(\"model_norm\", normalize_model_udf(col(\"modelo\"))) \\\n",
    "    .withColumn(\"year\", col(\"anio\")) \\\n",
    "    .withColumn(\"transmission_norm\", normalize_transmission_udf(col(\"transmision\"), col(\"version_original\"))) \\\n",
    "    .withColumn(\"commercial_hash\", compute_commercial_hash_udf(\n",
    "        col(\"brand_norm\"), col(\"model_norm\"), col(\"year\"), col(\"transmission_norm\")\n",
    "    )) \\\n",
    "    .withColumn(\"disponibilidad\", struct(\n",
    "        col(\"origen\"),\n",
    "        col(\"id_original\"),\n",
    "        col(\"version_original\"),\n",
    "        col(\"source_file\"),\n",
    "        col(\"ingestion_ts\")\n",
    "    )) \n",
    "\n",
    "# IMPORTANT: Filter out records where transmission_norm is NULL\n",
    "# This removes records where we couldn't determine transmission from field version\n",
    "df_catalog_clean = df_catalog_clean.filter(col(\"transmission_norm\").isNotNull())\n",
    "\n",
    "# Cache DataFrame\n",
    "df_catalog_clean.cache()"
   ]
  },
  {
   "cell_type": "markdown",
   "id": "9a5e55af-ade3-4e24-a50b-76f6e34edddc",
   "metadata": {},
   "source": [
    "## Pass 1: Zurich Anchor Building (Hash-Based Clustering)\n",
    "\n",
    "**Approach:** Group Zurich vehicles by `commercial_hash` (brand + model + year + transmission). Each unique hash represents one cluster. Select one representative record per cluster as the \"anchor.\""
   ]
  },
  {
   "cell_type": "code",
   "execution_count": 11,
   "id": "0237118a-aad6-4311-97f8-9228250f9b4b",
   "metadata": {},
   "outputs": [],
   "source": [
    "# Filter to Zurich only\n",
    "df_zurich = df_catalog_clean.filter(col(\"disponibilidad.origen\") == \"ZURICH\")\n",
    "\n",
    "# Cluster by commercial_hash (each unique hash = one cluster)\n",
    "df_zurich_clustered = df_zurich.withColumn(\"cluster_id\", col(\"commercial_hash\"))"
   ]
  },
  {
   "cell_type": "code",
   "execution_count": 12,
   "id": "50626a5a-2c7f-4c23-b910-7bcf75b83a16",
   "metadata": {},
   "outputs": [
    {
     "data": {
      "text/plain": [
       "DataFrame[origen: string, id_original: string, marca: string, modelo: string, anio: int, version_original: string, transmision: string, source_file: string, ingestion_ts: timestamp, activo: int, brand_norm: string, model_norm: string, year: int, transmission_norm: string, commercial_hash: string, disponibilidad: struct<origen:string,id_original:string,version_original:string,source_file:string,ingestion_ts:timestamp>, cluster_id: string, anchor_id: string, anchor_origin: string, operation: string]"
      ]
     },
     "execution_count": 12,
     "metadata": {},
     "output_type": "execute_result"
    }
   ],
   "source": [
    "window_cluster = Window.partitionBy(\"cluster_id\").orderBy(\"disponibilidad.id_original\")\n",
    "\n",
    "df_anchors = df_zurich_clustered \\\n",
    "    .withColumn(\"rank\", row_number().over(window_cluster)) \\\n",
    "    .filter(col(\"rank\") == 1) \\\n",
    "    .drop(\"rank\") \\\n",
    "    .withColumn(\"anchor_id\", col(\"disponibilidad.id_original\")) \\\n",
    "    .withColumn(\"anchor_origin\", lit(\"ZURICH\")) \\\n",
    "    .withColumn(\"operation\", lit(\"INSERT\"))\n",
    "\n",
    "df_anchors.cache()"
   ]
  },
  {
   "cell_type": "markdown",
   "id": "93bd08d3-b571-4d84-ae18-9f4531efec6a",
   "metadata": {},
   "source": [
    "## Pass 2: Non-Authoring Insurer Matching (Hash Lookup)\n",
    "\n",
    "**Approach:** Match vehicles from HDI, Qualitas, Chubb, and El Potosi to Zurich anchors by looking up their `commercial_hash`.\n",
    "\n",
    "**Decision Rules:**\n",
    "- `commercial_hash` matches Zurich anchor → **LINK** (reason: HASH_MATCH)\n",
    "- No matching Zurich anchor → **NO_MATCH** (reason: MISSING_ZURICH_ANCHOR)\n",
    "\n",
    "**Processing Order:** HDI → Qualitas → Chubb → El Potosi"
   ]
  },
  {
   "cell_type": "code",
   "execution_count": 13,
   "id": "bec675c8-126e-426a-b736-007da9a41fb4",
   "metadata": {},
   "outputs": [],
   "source": [
    "# Filter non-Zurich insurers\n",
    "df_non_zurich = df_catalog_clean.filter(col(\"disponibilidad.origen\") != \"ZURICH\")\n",
    "\n",
    "# Create anchor lookup table (commercial_hash → anchor_id)\n",
    "df_anchor_lookup = df_anchors.select(\n",
    "    col(\"commercial_hash\").alias(\"lookup_hash\"),\n",
    "    col(\"anchor_id\").alias(\"target_anchor_id\")\n",
    ")"
   ]
  },
  {
   "cell_type": "code",
   "execution_count": 14,
   "id": "c8a5d9c7-291e-436b-a247-63ef97b51add",
   "metadata": {},
   "outputs": [
    {
     "data": {
      "text/plain": [
       "DataFrame[insurer: string, record_id: string, brand_norm: string, model_norm: string, year: int, transmission_norm: string, version_original: string, target_anchor_id: string, decision: string, reason: string]"
      ]
     },
     "execution_count": 14,
     "metadata": {},
     "output_type": "execute_result"
    }
   ],
   "source": [
    "# Join non-Zurich records with Zurich anchors on commercial_hash\n",
    "df_links = df_non_zurich.alias(\"nz\") \\\n",
    "    .join(\n",
    "        df_anchor_lookup.alias(\"anch\"),\n",
    "        col(\"nz.commercial_hash\") == col(\"anch.lookup_hash\"),\n",
    "        \"left\"\n",
    "    ) \\\n",
    "    .select(\n",
    "        col(\"nz.disponibilidad.origen\").alias(\"insurer\"),\n",
    "        col(\"nz.disponibilidad.id_original\").alias(\"record_id\"),\n",
    "        col(\"nz.brand_norm\"),\n",
    "        col(\"nz.model_norm\"),\n",
    "        col(\"nz.year\"),\n",
    "        col(\"nz.transmission_norm\"),\n",
    "        col(\"nz.version_original\"),\n",
    "        col(\"anch.target_anchor_id\"),\n",
    "        when(col(\"anch.target_anchor_id\").isNotNull(), lit(\"LINK\"))\n",
    "         .otherwise(lit(\"NO_MATCH\")).alias(\"decision\"),\n",
    "        when(col(\"anch.target_anchor_id\").isNotNull(), lit(\"HASH_MATCH\"))\n",
    "         .otherwise(lit(\"MISSING_ZURICH_ANCHOR\")).alias(\"reason\")\n",
    "    )\n",
    "\n",
    "df_links.cache()"
   ]
  },
  {
   "cell_type": "markdown",
   "id": "aeff3e45-8739-4165-8c0d-9a9333602fb9",
   "metadata": {},
   "source": [
    "### Master Catalogue Creation\n",
    "\n",
    "Create unified master catalog combining:\n",
    "- Zurich anchors \n",
    "- Non-Zurich records with their linking information"
   ]
  },
  {
   "cell_type": "code",
   "execution_count": 15,
   "id": "44deacbe-5b19-4b3e-92c3-90d94462ba3d",
   "metadata": {},
   "outputs": [],
   "source": [
    "# Step 1: Prepare records with insurer + version metadata\n",
    "# Group by (commercial_hash + insurer) to aggregate versions per insurer\n",
    "df_insurer_aggregated = df_catalog_clean.select(\n",
    "    col(\"commercial_hash\"),\n",
    "    col(\"brand_norm\"),\n",
    "    col(\"model_norm\"),\n",
    "    col(\"year\"),\n",
    "    col(\"transmission_norm\"),\n",
    "    col(\"disponibilidad.origen\").alias(\"insurer\"),\n",
    "    col(\"disponibilidad.id_original\").alias(\"original_id\"),\n",
    "    col(\"version_original\"),\n",
    "    col(\"disponibilidad.ingestion_ts\").alias(\"processing_timestamp\")\n",
    ").groupBy(\n",
    "    \"commercial_hash\",\n",
    "    \"brand_norm\",\n",
    "    \"model_norm\",\n",
    "    \"year\",\n",
    "    \"transmission_norm\",\n",
    "    \"insurer\"\n",
    ").agg(\n",
    "    collect_list(\"original_id\").alias(\"original_ids\"),\n",
    "    collect_list(\"version_original\").alias(\"versions\"),\n",
    "    min(\"processing_timestamp\").alias(\"first_processed_at\")\n",
    ")\n",
    "\n",
    "# Step 2: Create insurer metadata struct\n",
    "df_with_insurer_struct = df_insurer_aggregated.withColumn(\n",
    "    \"insurer_metadata\",\n",
    "    struct(\n",
    "        col(\"insurer\"),\n",
    "        col(\"original_ids\"),\n",
    "        col(\"versions\"),\n",
    "        col(\"first_processed_at\"),\n",
    "        when(col(\"insurer\") == \"ZURICH\", lit(True)).otherwise(lit(False)).alias(\"is_origin\")\n",
    "    )\n",
    ")\n",
    "\n",
    "# Step 3: Group by commercial_hash to build final master catalog\n",
    "df_master_catalog_all = df_with_insurer_struct.groupBy(\n",
    "    \"commercial_hash\",\n",
    "    \"brand_norm\",\n",
    "    \"model_norm\",\n",
    "    \"year\",\n",
    "    \"transmission_norm\"\n",
    ").agg(\n",
    "    collect_list(\"insurer_metadata\").alias(\"disponibilidad\")\n",
    ")\n",
    "\n",
    "# Step 4: Filter to Zurich-only vehicles (INSERT rule)\n",
    "# A vehicle can only be in master catalog if Zurich has it\n",
    "from pyspark.sql.functions import array_contains, expr\n",
    "\n",
    "df_master_catalog = df_master_catalog_all.filter(\n",
    "    expr(\"exists(disponibilidad, x -> x.insurer = 'ZURICH')\")\n",
    ")"
   ]
  },
  {
   "cell_type": "markdown",
   "id": "bc61d130",
   "metadata": {},
   "source": [
    "# Data Persistence "
   ]
  },
  {
   "cell_type": "code",
   "execution_count": 16,
   "id": "ca929d09-54ce-4303-b1c5-898a74e71ec8",
   "metadata": {},
   "outputs": [
    {
     "name": "stderr",
     "output_type": "stream",
     "text": [
      "[Stage 6:=============================>                             (1 + 1) / 2]"
     ]
    },
    {
     "name": "stdout",
     "output_type": "stream",
     "text": [
      "Table successfully written to PostgreSQL.\n",
      "   Table name: master_catalog\n"
     ]
    },
    {
     "name": "stderr",
     "output_type": "stream",
     "text": [
      "                                                                                "
     ]
    }
   ],
   "source": [
    "# Convert disponibilidad array to JSON object for PostgreSQL\n",
    "from pyspark.sql.functions import to_json\n",
    "\n",
    "df_master_catalog_for_db = df_master_catalog.withColumn(\n",
    "    \"disponibilidad_json\",\n",
    "    to_json(col(\"disponibilidad\"))\n",
    ").drop(\"disponibilidad\")\n",
    "\n",
    "# Write to PostgreSQL\n",
    "jdbc_url = \"jdbc:postgresql://postgres-iteso:5432/postgres\"\n",
    "table_name = \"master_catalog\"\n",
    "\n",
    "df_master_catalog_for_db.write \\\n",
    "    .format(\"jdbc\") \\\n",
    "    .option(\"url\", jdbc_url) \\\n",
    "    .option(\"dbtable\", table_name) \\\n",
    "    .option(\"user\", \"postgres\") \\\n",
    "    .option(\"password\", \"Admin@1234\") \\\n",
    "    .option(\"driver\", \"org.postgresql.Driver\") \\\n",
    "    .mode(\"overwrite\") \\\n",
    "    .save()\n",
    "\n",
    "print(f\"Table successfully written to PostgreSQL.\")\n",
    "print(f\"   Table name: {table_name}\")"
   ]
  },
  {
   "cell_type": "code",
   "execution_count": 17,
   "id": "80eace94-89bd-4bac-9537-a7a636db4088",
   "metadata": {},
   "outputs": [
    {
     "name": "stdout",
     "output_type": "stream",
     "text": [
      "\n",
      "Schema:\n",
      "root\n",
      " |-- commercial_hash: string (nullable = true)\n",
      " |-- brand_norm: string (nullable = true)\n",
      " |-- model_norm: string (nullable = true)\n",
      " |-- year: integer (nullable = true)\n",
      " |-- transmission_norm: string (nullable = true)\n",
      " |-- disponibilidad_json: string (nullable = true)\n",
      "\n",
      "\n",
      "View 1 - Clean Vehicle List (20 records):\n",
      "+-------------+----------+----+-----------------+\n",
      "|brand_norm   |model_norm|year|transmission_norm|\n",
      "+-------------+----------+----+-----------------+\n",
      "|MERCEDES BENZ|CLASE SLK |2002|AUTO             |\n",
      "|MERCEDES BENZ|CLASE GL  |2014|AUTO             |\n",
      "|BMW          |SERIE 1   |2023|AUTO             |\n",
      "|HONDA        |CITY      |2022|MANUAL           |\n",
      "|FORD         |EXPLORER  |2003|AUTO             |\n",
      "|CHEVROLET    |AVEO      |2023|AUTO             |\n",
      "|RENAULT      |FLUENCE   |2017|MANUAL           |\n",
      "|LAND ROVER   |DISCOVERY |2018|AUTO             |\n",
      "|AUDI         |A1        |2017|MANUAL           |\n",
      "|DODGE        |DURANGO   |2004|AUTO             |\n",
      "|TOYOTA       |AVANZA    |2023|MANUAL           |\n",
      "|BAIC         |D20       |2017|AUTO             |\n",
      "|JAGUAR       |XKR       |2007|AUTO             |\n",
      "|CHEVROLET    |AVEO      |2023|MANUAL           |\n",
      "|MAZDA        |MAZDA MX-5|2015|AUTO             |\n",
      "|HONDA        |CR-V      |2015|AUTO             |\n",
      "|RENAULT      |DUSTER    |2015|AUTO             |\n",
      "|SUZUKI       |SWIFT     |2024|AUTO             |\n",
      "|ISUZU        |ELF300    |2011|MANUAL           |\n",
      "|AUDI         |R8        |2014|AUTO             |\n",
      "+-------------+----------+----+-----------------+\n",
      "only showing top 20 rows\n",
      "\n",
      "View 2 - Vehicle Coverage by Insurer (20 records):\n",
      "+-------------+----------+----+-----------------+--------------------------------------+\n",
      "|brand_norm   |model_norm|year|transmission_norm|insurers                              |\n",
      "+-------------+----------+----+-----------------+--------------------------------------+\n",
      "|MERCEDES BENZ|CLASE SLK |2002|AUTO             |CHUBB, ZURICH                         |\n",
      "|MERCEDES BENZ|CLASE GL  |2014|AUTO             |CHUBB, HDI, ZURICH                    |\n",
      "|BMW          |SERIE 1   |2023|AUTO             |CHUBB, HDI, ELPOTOSI, ZURICH          |\n",
      "|HONDA        |CITY      |2022|MANUAL           |CHUBB, QUALITAS, ELPOTOSI, HDI, ZURICH|\n",
      "|FORD         |EXPLORER  |2003|AUTO             |CHUBB, ELPOTOSI, ZURICH, QUALITAS     |\n",
      "|CHEVROLET    |AVEO      |2023|AUTO             |ZURICH, ELPOTOSI, HDI, QUALITAS       |\n",
      "|RENAULT      |FLUENCE   |2017|MANUAL           |HDI, QUALITAS, CHUBB, ELPOTOSI, ZURICH|\n",
      "|LAND ROVER   |DISCOVERY |2018|AUTO             |ELPOTOSI, HDI, CHUBB, ZURICH          |\n",
      "|AUDI         |A1        |2017|MANUAL           |CHUBB, QUALITAS, ZURICH, ELPOTOSI, HDI|\n",
      "|DODGE        |DURANGO   |2004|AUTO             |ELPOTOSI, ZURICH                      |\n",
      "|TOYOTA       |AVANZA    |2023|MANUAL           |CHUBB, HDI, QUALITAS, ZURICH, ELPOTOSI|\n",
      "|BAIC         |D20       |2017|AUTO             |HDI, QUALITAS, ZURICH, CHUBB          |\n",
      "|JAGUAR       |XKR       |2007|AUTO             |CHUBB, QUALITAS, ZURICH, HDI          |\n",
      "|CHEVROLET    |AVEO      |2023|MANUAL           |ELPOTOSI, HDI, ZURICH, QUALITAS       |\n",
      "|MAZDA        |MAZDA MX-5|2015|AUTO             |ZURICH                                |\n",
      "|HONDA        |CR-V      |2015|AUTO             |HDI, CHUBB, QUALITAS, ZURICH          |\n",
      "|RENAULT      |DUSTER    |2015|AUTO             |CHUBB, ELPOTOSI, QUALITAS, HDI, ZURICH|\n",
      "|SUZUKI       |SWIFT     |2024|AUTO             |HDI, QUALITAS, CHUBB, ZURICH          |\n",
      "|ISUZU        |ELF300    |2011|MANUAL           |ZURICH                                |\n",
      "|AUDI         |R8        |2014|AUTO             |HDI, ZURICH, CHUBB, ELPOTOSI, QUALITAS|\n",
      "+-------------+----------+----+-----------------+--------------------------------------+\n",
      "only showing top 20 rows\n",
      "\n",
      "View 3 - Version Details per Insurer (20 records):\n",
      "+-------------+----------+----+--------+---------+----------------------------------------------+----------------------------------------------------------------------------------------------------+\n",
      "|   brand_norm|model_norm|year| insurer|is_zurich|                                  original_ids|                                                                                       versions_list|\n",
      "+-------------+----------+----+--------+---------+----------------------------------------------+----------------------------------------------------------------------------------------------------+\n",
      "|MERCEDES BENZ| CLASE SLK|2002|   CHUBB|    false|                              1933, 1935, 3817|[230 CONV L4 IMP/TUR AUT 2 ABS CA CE PIEL CD SQ CB, 320 CONV L4 IMP AUT 2 ABS CA CE PIEL CD SQ CB...|\n",
      "|MERCEDES BENZ| CLASE SLK|2002|  ZURICH|     true|                           44482, 44483, 44484|[230 K SPORT CONV AUT 193HP 2.2L 4CIL 2P 2OCUP, 320 K SPORT CONV AUT 218HP 3.1L 6CIL 2P 2OCUP, 32...|\n",
      "|MERCEDES BENZ|  CLASE GL|2014|   CHUBB|    false|                                    1879, 4458|         [500 SUV V8 IMP AUT 4 ABS CA CE PIEL CD CQ CB, 63 AMG V8 IMP AUT 5 ABS CA CE PIEL CD CQ CB]|\n",
      "|MERCEDES BENZ|  CLASE GL|2014|     HDI|    false|                                   9417, 93906|                   [500 BASE V8 4.7T 435 CP 5 PUERTAS AUT, 63 AMG BASE V8 5.5T 557 CP 5 PUERTAS AUT]|\n",
      "|MERCEDES BENZ|  CLASE GL|2014|  ZURICH|     true|                           45230, 45231, 64728|[500 SUV G-TRONIC 429HP 4.7L 8CIL 5P 7OCUP, 63 AMG BTU 4WD JV5 SUV G-TRONIC AA EE CD BA QC VP 557...|\n",
      "|          BMW|   SERIE 1|2023|   CHUBB|    false|                        3295, 4143, 7540, 8062|[118IA L4 IMP AUT 5 ABS CA CE PIEL CD SQ CB, 118IA M SPORT L4 IMP AUT 5 ABS CA CE PIEL CD CQ CB, ...|\n",
      "|          BMW|   SERIE 1|2023|     HDI|    false|                    83481, 87598, 87599, 87600|[118I M SPORT, L3, 1.5T, 140 CP, 5 PUERTAS, AUT, 118IA BASE, L3, 1.5T, 140 CP, 5 PUERTAS, AUT, 12...|\n",
      "|          BMW|   SERIE 1|2023|ELPOTOSI|    false|                    49324, 49322, 49327, 49321|[M135A XDRIVEAUT 5 PTAS 5 OCUP , 4 CIL, ABS, A/A, E/E, TELA, B/A, 118I M SPORTAUT 4 PTAS 5 OCUP ,...|\n",
      "|          BMW|   SERIE 1|2023|  ZURICH|     true|                           69235, 69236, 69237|[118IA HB STEPTRONIC AA EE CD BA 134HP ABS 1.5L 3CIL 5P 5OCUP, M135IA XDRIVE 4WD HB STEPTRONIC AA...|\n",
      "|        HONDA|      CITY|2022|   CHUBB|    false|                                          8021|                                                         [UNIQ L4 SAE STD 4 ABS CA CE TELA SM SQ CB]|\n",
      "|        HONDA|      CITY|2022|QUALITAS|    false|                                        366964|                                                              [UNIQ 4P L4 1.5L ABS BA AC STD 5 OCUP]|\n",
      "|        HONDA|      CITY|2022|ELPOTOSI|    false|                                         46013|                                 [UNIQ 1.5L 119 CP S 0 TON 5 OCUP 4 PTAS L4 TAM CA CE TELA CD SQ CB]|\n",
      "|        HONDA|      CITY|2022|     HDI|    false|                                         91300|                                                          [UNIQ L4 1.5L 119 CP 4 PUERTAS STD  BA AA]|\n",
      "|        HONDA|      CITY|2022|  ZURICH|     true|                                         68605|                                           [UNIQ SEDAN STD AA EE CD BA 119HP ABS 1.5L 4CIL 4P 5OCUP]|\n",
      "|         FORD|  EXPLORER|2003|   CHUBB|    false|                  919, 920, 921, 922, 923, 925|[EDDIE BAUER V6 IMP AUT 5 ABS CA SE PIEL CT SQ CB, EDDIE BAUER V8 IMP AUT 5 ABS CA CE PIEL CT SQ ...|\n",
      "|         FORD|  EXPLORER|2003|ELPOTOSI|    false|                                  47839, 47865|[XLT 4 X 2AUT 5 PTAS 5 OCUP , 8 CIL, ABS, A/A, E/E, TELA, B/A, XLT 4 X 2AUT 5 PTAS 5 OCUP , 8 CIL...|\n",
      "|         FORD|  EXPLORER|2003|  ZURICH|     true|      40927, 40928, 40929, 40930, 40931, 40932|[E2A  SPORT 4X2 SUV AUT 210HP 4L 6CIL 3P 5OCUP, E7D  XLT 4X2 SUV AUT 210HP 4.9L 8CIL 5P 5OCUP, E9...|\n",
      "|         FORD|  EXPLORER|2003|QUALITAS|    false|337134, 337135, 337136, 337137, 337138, 337139|[SPORT 4X2 AUT., 07 OCUP., EDDIE BAUER V8 4X2 V/P AUT., 07 OCUP., EDDIE BAUER V8 4X4 V/P AUT., 07...|\n",
      "|    CHEVROLET|      AVEO|2023|  ZURICH|     true|                                         69858|                                              [LS B SEDAN AUT AA CD BA 107HP ABS 1.5L 4CIL 4P 5OCUP]|\n",
      "|    CHEVROLET|      AVEO|2023|ELPOTOSI|    false|                                  46904, 46901|[LT 1.5AUT 4 PTAS 5 OCUP , 4 CIL, ABS, A/A, E/E, TELA, B/A, LSAUT 4 PTAS 5 OCUP , 4 CIL, ABS, A/A...|\n",
      "+-------------+----------+----+--------+---------+----------------------------------------------+----------------------------------------------------------------------------------------------------+\n",
      "only showing top 20 rows\n",
      "\n",
      "View 4 - Sample Version Text (10 records, showing actual version strings):\n",
      "-RECORD 0--------------------------------------------------------------------------------------------------------------------------------------------------------------\n",
      " brand_norm   | MERCEDES BENZ                                                                                                                                          \n",
      " model_norm   | CLASE SLK                                                                                                                                              \n",
      " year         | 2002                                                                                                                                                   \n",
      " insurer      | CHUBB                                                                                                                                                  \n",
      " all_versions | 230 CONV L4 IMP/TUR AUT 2 ABS CA CE PIEL CD SQ CB | 320 CONV L4 IMP AUT 2 ABS CA CE PIEL CD SQ CB | 32 AMG AUT L8 IMP AUT 2 ABS CA CE PIEL CD SQ CB    \n",
      "-RECORD 1--------------------------------------------------------------------------------------------------------------------------------------------------------------\n",
      " brand_norm   | MERCEDES BENZ                                                                                                                                          \n",
      " model_norm   | CLASE SLK                                                                                                                                              \n",
      " year         | 2002                                                                                                                                                   \n",
      " insurer      | ZURICH                                                                                                                                                 \n",
      " all_versions | 230 K SPORT CONV AUT 193HP 2.2L 4CIL 2P 2OCUP | 320 K SPORT CONV AUT 218HP 3.1L 6CIL 2P 2OCUP | 32 AMG CONV AUT 354HP 3.1L 6CIL 2P 2OCUP               \n",
      "-RECORD 2--------------------------------------------------------------------------------------------------------------------------------------------------------------\n",
      " brand_norm   | MERCEDES BENZ                                                                                                                                          \n",
      " model_norm   | CLASE GL                                                                                                                                               \n",
      " year         | 2014                                                                                                                                                   \n",
      " insurer      | CHUBB                                                                                                                                                  \n",
      " all_versions | 500 SUV V8 IMP AUT 4 ABS CA CE PIEL CD CQ CB | 63 AMG V8 IMP AUT 5 ABS CA CE PIEL CD CQ CB                                                             \n",
      "-RECORD 3--------------------------------------------------------------------------------------------------------------------------------------------------------------\n",
      " brand_norm   | MERCEDES BENZ                                                                                                                                          \n",
      " model_norm   | CLASE GL                                                                                                                                               \n",
      " year         | 2014                                                                                                                                                   \n",
      " insurer      | HDI                                                                                                                                                    \n",
      " all_versions | 500 BASE V8 4.7T 435 CP 5 PUERTAS AUT | 63 AMG BASE V8 5.5T 557 CP 5 PUERTAS AUT                                                                       \n",
      "-RECORD 4--------------------------------------------------------------------------------------------------------------------------------------------------------------\n",
      " brand_norm   | MERCEDES BENZ                                                                                                                                          \n",
      " model_norm   | CLASE GL                                                                                                                                               \n",
      " year         | 2014                                                                                                                                                   \n",
      " insurer      | ZURICH                                                                                                                                                 \n",
      " all_versions | 500 SUV G-TRONIC 429HP 4.7L 8CIL 5P 7OCUP | 63 AMG BTU 4WD JV5 SUV G-TRONIC AA EE CD BA QC VP 557HP ABS 5.5L 8CIL 5P 7OCUP | 63 AMG BTU 4WD SUV G-T... \n",
      "-RECORD 5--------------------------------------------------------------------------------------------------------------------------------------------------------------\n",
      " brand_norm   | BMW                                                                                                                                                    \n",
      " model_norm   | SERIE 1                                                                                                                                                \n",
      " year         | 2023                                                                                                                                                   \n",
      " insurer      | CHUBB                                                                                                                                                  \n",
      " all_versions | 118IA L4 IMP AUT 5 ABS CA CE PIEL CD SQ CB | 118IA M SPORT L4 IMP AUT 5 ABS CA CE PIEL CD CQ CB | M135IA XDRIVE L4 IMP AUT 5 ABS CA CE PIEL SM CQ C... \n",
      "-RECORD 6--------------------------------------------------------------------------------------------------------------------------------------------------------------\n",
      " brand_norm   | BMW                                                                                                                                                    \n",
      " model_norm   | SERIE 1                                                                                                                                                \n",
      " year         | 2023                                                                                                                                                   \n",
      " insurer      | HDI                                                                                                                                                    \n",
      " all_versions | 118I M SPORT, L3, 1.5T, 140 CP, 5 PUERTAS, AUT | 118IA BASE, L3, 1.5T, 140 CP, 5 PUERTAS, AUT | 128TI BASE, L4, 2.0T, 245 CP, 5 PUERTAS, AUT | M135... \n",
      "-RECORD 7--------------------------------------------------------------------------------------------------------------------------------------------------------------\n",
      " brand_norm   | BMW                                                                                                                                                    \n",
      " model_norm   | SERIE 1                                                                                                                                                \n",
      " year         | 2023                                                                                                                                                   \n",
      " insurer      | ELPOTOSI                                                                                                                                               \n",
      " all_versions | M135A XDRIVEAUT 5 PTAS 5 OCUP , 4 CIL, ABS, A/A, E/E, TELA, B/A | 118I M SPORTAUT 4 PTAS 5 OCUP , , ABS, A/A, E/E, PIEL, B/A | 128 TIAUT 4 PTAS 5 O... \n",
      "-RECORD 8--------------------------------------------------------------------------------------------------------------------------------------------------------------\n",
      " brand_norm   | BMW                                                                                                                                                    \n",
      " model_norm   | SERIE 1                                                                                                                                                \n",
      " year         | 2023                                                                                                                                                   \n",
      " insurer      | ZURICH                                                                                                                                                 \n",
      " all_versions | 118IA HB STEPTRONIC AA EE CD BA 134HP ABS 1.5L 3CIL 5P 5OCUP | M135IA XDRIVE 4WD HB STEPTRONIC AA EE CD BA QC VP 301HP ABS 2L 4CIL 5P 5OCUP | 128TI... \n",
      "-RECORD 9--------------------------------------------------------------------------------------------------------------------------------------------------------------\n",
      " brand_norm   | HONDA                                                                                                                                                  \n",
      " model_norm   | CITY                                                                                                                                                   \n",
      " year         | 2022                                                                                                                                                   \n",
      " insurer      | CHUBB                                                                                                                                                  \n",
      " all_versions | UNIQ L4 SAE STD 4 ABS CA CE TELA SM SQ CB                                                                                                              \n",
      "only showing top 10 rows\n"
     ]
    }
   ],
   "source": [
    "# Read data from PostgreSQL to verify\n",
    "jdbc_url = \"jdbc:postgresql://postgres-iteso:5432/postgres\"\n",
    "table_name = \"master_catalog\"\n",
    "db_properties = {\n",
    "    \"user\": \"postgres\",\n",
    "    \"password\": \"Admin@1234\",\n",
    "    \"driver\": \"org.postgresql.Driver\"\n",
    "}\n",
    "\n",
    "df_verify = spark.read \\\n",
    "    .jdbc(url=jdbc_url, table=table_name, properties=db_properties)\n",
    "\n",
    "print(\"\\nSchema:\")\n",
    "df_verify.printSchema()\n",
    "\n",
    "from pyspark.sql.functions import from_json, schema_of_json, concat_ws\n",
    "\n",
    "sample_json = df_verify.select(\"disponibilidad_json\").first()[0]\n",
    "json_schema = schema_of_json(sample_json)\n",
    "\n",
    "df_parsed = df_verify.withColumn(\"disp_parsed\", from_json(col(\"disponibilidad_json\"), json_schema))\n",
    "\n",
    "# View 1: Vehicle info without json mess (clean table)\n",
    "print(\"\\nView 1 - Clean Vehicle List (20 records):\")\n",
    "df_verify.select(\n",
    "    \"brand_norm\",\n",
    "    \"model_norm\",\n",
    "    \"year\",\n",
    "    \"transmission_norm\"\n",
    ").show(20, truncate=False)\n",
    "\n",
    "# View 2: Show which insurers carry each vehicle \n",
    "print(\"\\nView 2 - Vehicle Coverage by Insurer (20 records):\")\n",
    "df_parsed.select(\n",
    "    \"brand_norm\",\n",
    "    \"model_norm\",\n",
    "    \"year\",\n",
    "    \"transmission_norm\",\n",
    "    concat_ws(\", \", col(\"disp_parsed.insurer\")).alias(\"insurers\")\n",
    ").show(20, truncate=False)\n",
    "\n",
    "# View 3: Show actual version details per insurer\n",
    "print(\"\\nView 3 - Version Details per Insurer (20 records):\")\n",
    "df_parsed.select(\n",
    "    \"brand_norm\",\n",
    "    \"model_norm\",\n",
    "    \"year\",\n",
    "    explode(\"disp_parsed\").alias(\"ins\")\n",
    ").select(\n",
    "    \"brand_norm\",\n",
    "    \"model_norm\",\n",
    "    \"year\",\n",
    "    col(\"ins.insurer\").alias(\"insurer\"),\n",
    "    col(\"ins.is_origin\").alias(\"is_zurich\"),\n",
    "    concat_ws(\", \", col(\"ins.original_ids\")).alias(\"original_ids\"),\n",
    "    col(\"ins.versions\").alias(\"versions_list\")\n",
    ").show(20, truncate=100)\n",
    "\n",
    "# View 4: Show verstion text (first 3 versions per insurer)\n",
    "print(\"\\nView 4 - Sample Version Text (10 records, showing actual version strings):\")\n",
    "df_parsed.select(\n",
    "    \"brand_norm\",\n",
    "    \"model_norm\",\n",
    "    \"year\",\n",
    "    explode(\"disp_parsed\").alias(\"ins\")\n",
    ").select(\n",
    "    \"brand_norm\",\n",
    "    \"model_norm\",\n",
    "    \"year\",\n",
    "    col(\"ins.insurer\").alias(\"insurer\"),\n",
    "    concat_ws(\" | \", col(\"ins.versions\")).alias(\"all_versions\")\n",
    ").show(10, truncate=150, vertical=True)"
   ]
  },
  {
   "cell_type": "markdown",
   "id": "f8b2feee-4a68-4ff7-b6ab-932705f25846",
   "metadata": {},
   "source": [
    "### PostreSQL Selection Justification\n",
    "  1. Native JSON Support: Crucial for the complex disponibilidad structure with nested arrays and metadata\n",
    "  2. Performance & Scalability: PostgreSQL's stands out for its ability to handle large datasets and efficiently query JSON fields\n",
    "  3. Familiarity & Reliability: I have experience working with PostreSQL databases, so I knew I would feel more comfortable with this decision\n",
    "  4. Structured Yet Flexible Schema:\n",
    "    - Relational fields: brand, model, year, transmission, hash (for fast querying)\n",
    "    - JSON field: disponibilidad (for flexible insurer metadata)"
   ]
  },
  {
   "cell_type": "markdown",
   "id": "e74ef5f1",
   "metadata": {},
   "source": [
    "# DAG"
   ]
  },
  {
   "attachments": {
    "d0bb8933-96f6-4023-b2f4-f2a01907959a.png": {
     "image/png": "[encoded data removed]"
    }
   },
   "cell_type": "markdown",
   "id": "2f4a1645-009b-4c46-ba85-37dde74b7c4a",
   "metadata": {},
   "source": [
    "![Screenshot 2025-10-28 044527.png](attachment:d0bb8933-96f6-4023-b2f4-f2a01907959a.png)"
   ]
  },
  {
   "cell_type": "markdown",
   "id": "2d010fcf-fddc-4de7-8f3e-a751382c8ba2",
   "metadata": {},
   "source": [
    "## Version Matching Spec\n",
    "#### Token sets"
   ]
  },
  {
   "cell_type": "markdown",
   "id": "f025dcd2-f872-46e3-969d-ab2bf8e2ec28",
   "metadata": {},
   "source": [
    "### Similarity Metric Functions"
   ]
  },
  {
   "cell_type": "raw",
   "id": "1ebe6e27-f42a-4e14-ac35-7b0c64c55b0b",
   "metadata": {},
   "source": [
    "Let A and B be token sets from version_clean.\n",
    "\n",
    "Coverage (directional):\n",
    "Cov(A → B) = ∣A∩B∣\n",
    "             ∣A∣\n",
    "\n",
    "Bidirectional Coverage (primary score):⁡\n",
    "{ CovBi(A, B) } = min{Cov(𝐴 → 𝐵), Cov(𝐵 → 𝐴) } \n",
    "\n",
    "Jaccard (secondary score):\n",
    "Jac(A, B) = ∣A∪B∣\n",
    "            ∣A∩B∣"
   ]
  },
  {
   "cell_type": "raw",
   "id": "e8a021ca-c528-430b-bc47-4cbca37ea8d1",
   "metadata": {},
   "source": [
    "# Compute Coverage (directional coverage)\n",
    "def compute_coverage(tokens_a, tokens_b):\n",
    "    # Compute Cov(A→B) = |A ∩ B| / |A|\n",
    "    if not tokens_a or len(tokens_a) == 0:\n",
    "        return 0.0\n",
    "    \n",
    "    set_a = set(tokens_a)\n",
    "    set_b = set(tokens_b) if tokens_b else set()\n",
    "    \n",
    "    intersection = set_a.intersection(set_b)\n",
    "    return len(intersection) / len(set_a)\n",
    "\n",
    "compute_coverage_udf = udf(compute_coverage, \"double\")"
   ]
  },
  {
   "cell_type": "raw",
   "id": "d83c13db-6b6f-4ec3-879f-f06a3c0f5901",
   "metadata": {},
   "source": [
    "# Compute Bidirectional Coverage\n",
    "def compute_cov_bi(tokens_a, tokens_b):\n",
    "    # Compute Cov_bi(A, B) = min(Cov(A → B), Cov(B → A))\n",
    "    if not tokens_a or not tokens_b or len(tokens_a) == 0 or len(tokens_b) == 0:\n",
    "        return 0.0\n",
    "    \n",
    "    cov_a_to_b = compute_coverage(tokens_a, tokens_b)\n",
    "    cov_b_to_a = compute_coverage(tokens_b, tokens_a)\n",
    "    \n",
    "    return min(cov_a_to_b, cov_b_to_a)\n",
    "\n",
    "compute_cov_bi_udf = udf(compute_cov_bi, \"double\")"
   ]
  },
  {
   "cell_type": "raw",
   "id": "578185c6-bba0-43d6-914d-cafd6393fe11",
   "metadata": {},
   "source": [
    "# Compute Jaccard Similarity\n",
    "def compute_jaccard(tokens_a, tokens_b):\n",
    "    # Compute Jaccard(A, B) = |A ∩ B| / |A ∪ B|\n",
    "    if not tokens_a or not tokens_b:\n",
    "        return 0.0\n",
    "    \n",
    "    set_a = set(tokens_a)\n",
    "    set_b = set(tokens_b)\n",
    "    \n",
    "    intersection = set_a.intersection(set_b)\n",
    "    union = set_a.union(set_b)\n",
    "    \n",
    "    if len(union) == 0:\n",
    "        return 0.0\n",
    "    \n",
    "    return len(intersection) / len(union)\n",
    "\n",
    "compute_jaccard_udf = udf(compute_jaccard, \"double\")"
   ]
  },
  {
   "cell_type": "markdown",
   "id": "b431aad5-05ff-46f6-8f5e-3bc824264341",
   "metadata": {},
   "source": [
    "### Version Cleaning and Normalization Function"
   ]
  },
  {
   "cell_type": "raw",
   "id": "eed7dffd-609e-4ac4-b391-1a11124182e6",
   "metadata": {},
   "source": [
    "def clean_version(version_original):\n",
    "    if not version_original or version_original.strip() == \"\":\n",
    "        return \"\"\n",
    "    \n",
    "    # Uppercase and remove accents\n",
    "    text = version_original.upper().strip()\n",
    "    text = remove_accents(text)\n",
    "    \n",
    "    # Collapse multiple spaces\n",
    "    text = re.sub(r'\\s+', ' ', text)\n",
    "    \n",
    "    # Apply unit standardization (HP/CP/CV → HP, L/LTS → L, etc.)\n",
    "    for old_unit, new_unit in UNIT_MAPPINGS.items():\n",
    "        text = re.sub(r'\\b' + re.escape(old_unit) + r'\\b', new_unit, text)\n",
    "    \n",
    "    # Apply synonym mappings (SEDAN/SED → SEDAN, etc.)\n",
    "    for synonym, canonical in SYNONYM_MAPPINGS.items():\n",
    "        text = re.sub(r'\\b' + re.escape(synonym) + r'\\b', canonical, text)\n",
    "    \n",
    "    # Identify and protect hyphenated trims (e.g., I-GRAND-TOURING, A-SPEC)\n",
    "    # Pattern: alphanumeric-alphanumeric sequences\n",
    "    protected_hyphens = re.findall(r'\\b[A-Z0-9]+-[A-Z0-9]+(?:-[A-Z0-9]+)*\\b', text)\n",
    "    \n",
    "    # Temporarily replace hyphens with placeholder in protected terms\n",
    "    protected_map = {}\n",
    "    for i, term in enumerate(protected_hyphens):\n",
    "        placeholder = f\"__HYPHEN{i}__\"\n",
    "        protected_map[placeholder] = term\n",
    "        text = text.replace(term, placeholder)\n",
    "    \n",
    "    # Remove all other punctuation (except alphanumeric and spaces)\n",
    "    text = re.sub(r'[^A-Z0-9\\s_]', ' ', text)\n",
    "    \n",
    "    # Restore protected hyphens\n",
    "    for placeholder, original in protected_map.items():\n",
    "        text = text.replace(placeholder, original)\n",
    "    \n",
    "    # Split into tokens, dedupe, and rejoin\n",
    "    tokens = text.split()\n",
    "    seen = set()\n",
    "    deduped = []\n",
    "    for token in tokens:\n",
    "        if token not in seen and token.strip():\n",
    "            seen.add(token)\n",
    "            deduped.append(token)\n",
    "    \n",
    "    return ' '.join(deduped)\n",
    "\n",
    "clean_version_udf = udf(clean_version, \"string\")"
   ]
  },
  {
   "cell_type": "markdown",
   "id": "8328f21d-d99c-4567-a4d7-f6a71fe43080",
   "metadata": {},
   "source": [
    "### Tokenize and Sort Function"
   ]
  },
  {
   "cell_type": "raw",
   "id": "61f44709-d217-4c4c-9feb-d5ef55bbde69",
   "metadata": {},
   "source": [
    "def tokenize_and_sort(version_clean):\n",
    "    if not version_clean or version_clean.strip() == \"\":\n",
    "        return []\n",
    "    \n",
    "    # Split into tokens\n",
    "    tokens = version_clean.split()\n",
    "    \n",
    "    # Filter out exclusion tokens\n",
    "    exclusion_set = set(TOKEN_EXCLUSIONS)\n",
    "    filtered_tokens = [t for t in tokens if t not in exclusion_set]\n",
    "    \n",
    "    # Sort alphabetically (deterministic ordering)\n",
    "    sorted_tokens = sorted(filtered_tokens)\n",
    "    \n",
    "    return sorted_tokens\n",
    "\n",
    "tokenize_and_sort_udf = udf(tokenize_and_sort, \"array<string>\")"
   ]
  }
 ],
 "metadata": {
  "kernelspec": {
   "display_name": "Python 3 (ipykernel)",
   "language": "python",
   "name": "python3"
  },
  "language_info": {
   "codemirror_mode": {
    "name": "ipython",
    "version": 3
   },
   "file_extension": ".py",
   "mimetype": "text/x-python",
   "name": "python",
   "nbconvert_exporter": "python",
   "pygments_lexer": "ipython3",
   "version": "3.10.12"
  }
 },
 "nbformat": 4,
 "nbformat_minor": 5
}
