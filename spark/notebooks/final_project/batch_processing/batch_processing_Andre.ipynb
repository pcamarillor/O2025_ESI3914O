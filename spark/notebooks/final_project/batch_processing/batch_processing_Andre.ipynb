{
 "cells": [
  {
   "cell_type": "markdown",
   "id": "b92d9622",
   "metadata": {},
   "source": [
    "# <center> <img src=\"../../img/ITESOLogo.png\" alt=\"ITESO\" width=\"480\" height=\"130\"> </center>\n",
    "# <center> **Departamento de Electrónica, Sistemas e Informática** </center>\n",
    "---\n",
    "## <center> Computer Systems Engineering  </center>\n",
    "---\n",
    "### <center> Big Data Processing </center>\n",
    "---\n",
    "#### <center> **Autumn 2025** </center>\n",
    "\n",
    "#### <center> **Final Project: Batch Processing** </center>\n",
    "---\n",
    "\n",
    "**Date**: October, 2025\n",
    "\n",
    "**Student Name**: Andre Jair Sanchez Contreras\n",
    "\n",
    "**Professor**: Pablo Camarillo Ramirez"
   ]
  },
  {
   "cell_type": "markdown",
   "id": "a4dd2743",
   "metadata": {},
   "source": [
    "# Introduction"
   ]
  },
  {
   "cell_type": "markdown",
   "id": "6cbd5255-76ff-469f-8b3f-d1184b0d0d88",
   "metadata": {},
   "source": [
    "The project seeks to identify the best electric vehicle (EV) purchasing options based on an analysis of recent market data. Given the growing demand for new makes and models, options are compared based on make, model, battery capacity, cell count, range, and energy consumption. The selected dataset allows for the integration of these dimensions and the construction of comparable metrics to support an informed, evidence-based decision."
   ]
  },
  {
   "cell_type": "markdown",
   "id": "1757b962",
   "metadata": {},
   "source": [
    "# Dataset"
   ]
  },
  {
   "cell_type": "markdown",
   "id": "68ba77d8-8c9d-442d-a4b5-ae059931b093",
   "metadata": {},
   "source": [
    "The public Kaggle dataset “electric_vehicles_spec_2025.csv” (CSV, 22 columns) is used. It includes key fields such as Brand, Model, Top Speed (km/h), Battery Capacity (kWh), Battery Type, Number of Cells, Torque (Nm), Efficiency (Wh/km), Range (km), Acceleration (0–100 s), among others. This coverage of technical variables allows for the construction of comparable metrics (e.g., effective range and charging convenience) and segmentation by user profiles.\n",
    "\n",
    "URL: https://www.kaggle.com/datasets/afnansaifafnan/electric-car-performance-and-battery-dataset\n",
    "\n",
    "\n",
    "Database PostgreSQL"
   ]
  },
  {
   "cell_type": "code",
   "execution_count": null,
   "id": "2fdcd2be-b83a-4da2-81b3-61369a037f3f",
   "metadata": {},
   "outputs": [],
   "source": [
    "from pcamarillor.spark_utils import SparkUtils\n",
    "EV_schema_columns = [(\"brand\",\"string\"),\n",
    "                     (\"model\",\"string\"),\n",
    "                     (\"top_speed\",\"int\"),\n",
    "                     (\"battery_capacity\",\"int\"),\n",
    "                     (\"number_cells\",\"int\"),\n",
    "                     (\"torque \",\"int\"),\n",
    "                     (\"efficiency\",\"int\"),\n",
    "                     (\"range\",\"int\"),\n",
    "                     (\"acceleration\",\"int\"),\n",
    "                     (\"body_type\",\"string\")\n",
    "                     ]\n",
    "EV_schema = SparkUtils.generate_schema(EV_schema_columns)"
   ]
  },
  {
   "cell_type": "markdown",
   "id": "bc61d130",
   "metadata": {},
   "source": [
    "# Persistence Data"
   ]
  },
  {
   "cell_type": "code",
   "execution_count": 1,
   "id": "8c922722-5ecc-4714-b64a-da0ccb56728e",
   "metadata": {},
   "outputs": [],
   "source": [
    "import findspark\n",
    "findspark.init()"
   ]
  },
  {
   "cell_type": "code",
   "execution_count": 2,
   "id": "3ca023b6-6848-4026-bc39-a9616c93ed89",
   "metadata": {},
   "outputs": [
    {
     "name": "stderr",
     "output_type": "stream",
     "text": [
      "WARNING: Using incubator modules: jdk.incubator.vector\n",
      ":: loading settings :: url = jar:file:/opt/spark/jars/ivy-2.5.3.jar!/org/apache/ivy/core/settings/ivysettings.xml\n",
      "Ivy Default Cache set to: /root/.ivy2.5.2/cache\n",
      "The jars for the packages stored in: /root/.ivy2.5.2/jars\n",
      "org.postgresql#postgresql added as a dependency\n",
      ":: resolving dependencies :: org.apache.spark#spark-submit-parent-7db57633-abd3-44c7-9ce0-4af8bb98d8ba;1.0\n",
      "\tconfs: [default]\n",
      "\tfound org.postgresql#postgresql;42.7.8 in central\n",
      "\tfound org.checkerframework#checker-qual;3.49.5 in central\n",
      ":: resolution report :: resolve 341ms :: artifacts dl 13ms\n",
      "\t:: modules in use:\n",
      "\torg.checkerframework#checker-qual;3.49.5 from central in [default]\n",
      "\torg.postgresql#postgresql;42.7.8 from central in [default]\n",
      "\t---------------------------------------------------------------------\n",
      "\t|                  |            modules            ||   artifacts   |\n",
      "\t|       conf       | number| search|dwnlded|evicted|| number|dwnlded|\n",
      "\t---------------------------------------------------------------------\n",
      "\t|      default     |   2   |   0   |   0   |   0   ||   2   |   0   |\n",
      "\t---------------------------------------------------------------------\n",
      ":: retrieving :: org.apache.spark#spark-submit-parent-7db57633-abd3-44c7-9ce0-4af8bb98d8ba\n",
      "\tconfs: [default]\n",
      "\t0 artifacts copied, 2 already retrieved (0kB/13ms)\n",
      "25/10/28 03:42:25 WARN NativeCodeLoader: Unable to load native-hadoop library for your platform... using builtin-java classes where applicable\n",
      "Using Spark's default log4j profile: org/apache/spark/log4j2-defaults.properties\n",
      "Setting default log level to \"WARN\".\n",
      "To adjust logging level use sc.setLogLevel(newLevel). For SparkR, use setLogLevel(newLevel).\n"
     ]
    }
   ],
   "source": [
    "from pyspark.sql import SparkSession\n",
    "\n",
    "spark = (\n",
    "    SparkSession.builder\n",
    "    .appName(\"EVs -> MongoDB\")\n",
    "    .master(\"local[*]\")\n",
    "    .config(\"spark.ui.port\", \"4040\")\n",
    "    .config(\"spark.jars.packages\", \"org.postgresql:postgresql:42.7.8\")\n",
    "    .getOrCreate()\n",
    ")\n",
    "\n",
    "sc = spark.sparkContext\n",
    "sc.setLogLevel(\"ERROR\")\n"
   ]
  },
  {
   "cell_type": "code",
   "execution_count": 3,
   "id": "5c6243d0-ed7f-44a7-9b9b-9d896c49280d",
   "metadata": {},
   "outputs": [
    {
     "data": {
      "text/plain": [
       "'4.0.0'"
      ]
     },
     "execution_count": 3,
     "metadata": {},
     "output_type": "execute_result"
    }
   ],
   "source": [
    "spark.version"
   ]
  },
  {
   "cell_type": "code",
   "execution_count": 4,
   "id": "81e1c601-bc94-4006-8ef0-7443b5f29c7a",
   "metadata": {},
   "outputs": [],
   "source": [
    "from pyspark.sql.types import StructType, StructField, StringType, IntegerType, DoubleType\n",
    "\n",
    "EV_schema = StructType([\n",
    "    StructField(\"brand\", StringType(), True),\n",
    "    StructField(\"model\", StringType(), True),\n",
    "    StructField(\"top_speed_kmh\", IntegerType(), True),\n",
    "    StructField(\"battery_capacity\", DoubleType(), True),\n",
    "    StructField(\"battery_type\", StringType(), True),       \n",
    "    StructField(\"number_of_cells\", IntegerType(), True),   \n",
    "    StructField(\"torque\", IntegerType(), True),\n",
    "    StructField(\"efficiency\", IntegerType(), True),\n",
    "    StructField(\"range\", IntegerType(), True),\n",
    "    StructField(\"acceleration\", DoubleType(), True),\n",
    "    StructField(\"body_type\", StringType(), True),\n",
    "])\n"
   ]
  },
  {
   "cell_type": "code",
   "execution_count": 5,
   "id": "fd4039d7-edf0-4fb1-97ad-cea33a307a34",
   "metadata": {},
   "outputs": [
    {
     "name": "stdout",
     "output_type": "stream",
     "text": [
      "root\n",
      " |-- brand: string (nullable = true)\n",
      " |-- model: string (nullable = true)\n",
      " |-- top_speed_kmh: integer (nullable = true)\n",
      " |-- battery_capacity: double (nullable = true)\n",
      " |-- battery_type: string (nullable = true)\n",
      " |-- number_of_cells: integer (nullable = true)\n",
      " |-- torque: integer (nullable = true)\n",
      " |-- efficiency: integer (nullable = true)\n",
      " |-- range: integer (nullable = true)\n",
      " |-- acceleration: double (nullable = true)\n",
      " |-- body_type: string (nullable = true)\n",
      "\n"
     ]
    },
    {
     "name": "stderr",
     "output_type": "stream",
     "text": [
      "[Stage 0:>                                                          (0 + 1) / 1]"
     ]
    },
    {
     "name": "stdout",
     "output_type": "stream",
     "text": [
      "+------+-------------------+-------------+----------------+------------+---------------+------+----------+-----+------------+---------+\n",
      "|brand |model              |top_speed_kmh|battery_capacity|battery_type|number_of_cells|torque|efficiency|range|acceleration|body_type|\n",
      "+------+-------------------+-------------+----------------+------------+---------------+------+----------+-----+------------+---------+\n",
      "|Abarth|500e Convertible   |155          |37.8            |Lithium-ion |192            |235   |156       |225  |7.0         |67       |\n",
      "|Abarth|500e Hatchback     |155          |37.8            |Lithium-ion |192            |235   |149       |225  |7.0         |67       |\n",
      "|Abarth|600e Scorpionissima|200          |50.8            |Lithium-ion |102            |345   |158       |280  |5.9         |79       |\n",
      "|Abarth|600e Turismo       |200          |50.8            |Lithium-ion |102            |345   |158       |280  |6.2         |79       |\n",
      "|Aiways|U5                 |150          |60.0            |Lithium-ion |NULL           |310   |156       |315  |7.5         |78       |\n",
      "+------+-------------------+-------------+----------------+------------+---------------+------+----------+-----+------------+---------+\n",
      "only showing top 5 rows\n"
     ]
    },
    {
     "name": "stderr",
     "output_type": "stream",
     "text": [
      "                                                                                "
     ]
    }
   ],
   "source": [
    "df_cars = (spark.read\n",
    "    .option(\"header\", \"true\")\n",
    "    .schema(EV_schema)     \n",
    "    .csv(\"/opt/spark/work-dir/data/cars/\"))\n",
    "\n",
    "df_cars.printSchema()\n",
    "df_cars.show(5, truncate=False)\n"
   ]
  },
  {
   "cell_type": "code",
   "execution_count": 6,
   "id": "4366bae8-9830-4c9a-a659-bf43e529b7cd",
   "metadata": {},
   "outputs": [
    {
     "name": "stdout",
     "output_type": "stream",
     "text": [
      "number of records before cleaning: 478\n",
      "+-----+-----+-------------+----------------+------------+---------------+------+----------+-----+------------+---------+\n",
      "|brand|model|top_speed_kmh|battery_capacity|battery_type|number_of_cells|torque|efficiency|range|acceleration|body_type|\n",
      "+-----+-----+-------------+----------------+------------+---------------+------+----------+-----+------------+---------+\n",
      "|0    |1    |0            |0               |0           |202            |7     |0         |0    |0           |1        |\n",
      "+-----+-----+-------------+----------------+------------+---------------+------+----------+-----+------------+---------+\n",
      "\n"
     ]
    },
    {
     "name": "stderr",
     "output_type": "stream",
     "text": [
      "                                                                                "
     ]
    },
    {
     "name": "stdout",
     "output_type": "stream",
     "text": [
      "number of records after cleaning with trim/ranges/deduplicate/filter: 478\n"
     ]
    },
    {
     "name": "stderr",
     "output_type": "stream",
     "text": [
      "                                                                                "
     ]
    },
    {
     "name": "stdout",
     "output_type": "stream",
     "text": [
      "+-----+-----+-------------+----------------+------------+---------------+------+----------+-----+------------+---------+\n",
      "|brand|model|top_speed_kmh|battery_capacity|battery_type|number_of_cells|torque|efficiency|range|acceleration|body_type|\n",
      "+-----+-----+-------------+----------------+------------+---------------+------+----------+-----+------------+---------+\n",
      "|0    |1    |0            |0               |0           |202            |7     |4         |0    |0           |1        |\n",
      "+-----+-----+-------------+----------------+------------+---------------+------+----------+-----+------------+---------+\n",
      "\n",
      "+------+------------------------------------+----------------+-----+----------+------------+---------+\n",
      "|brand |model                               |battery_capacity|range|efficiency|acceleration|body_type|\n",
      "+------+------------------------------------+----------------+-----+----------+------------+---------+\n",
      "|Abarth|500e Convertible                    |37.8            |225  |156       |7.0         |67       |\n",
      "|Abarth|500e Hatchback                      |37.8            |225  |149       |7.0         |67       |\n",
      "|Abarth|600e Scorpionissima                 |50.8            |280  |158       |5.9         |79       |\n",
      "|Abarth|600e Turismo                        |50.8            |280  |158       |6.2         |79       |\n",
      "|Aiways|U5                                  |60.0            |315  |156       |7.5         |78       |\n",
      "|Aiways|U6                                  |60.0            |350  |150       |7.0         |78       |\n",
      "|Alfa  |Romeo Junior Elettrica 54 Kwh       |50.8            |320  |128       |9.0         |85       |\n",
      "|Alfa  |Romeo Junior Elettrica 54 Kwh Veloce|50.8            |310  |164       |6.0         |85       |\n",
      "|Alpine|A290 Electric 180 Hp                |52.0            |310  |138       |7.4         |70       |\n",
      "|Alpine|A290 Electric 220 Hp                |52.0            |305  |144       |6.4         |70       |\n",
      "+------+------------------------------------+----------------+-----+----------+------------+---------+\n",
      "only showing top 10 rows\n"
     ]
    }
   ],
   "source": [
    "#Data Cleaning \n",
    "\n",
    "from pyspark.sql import functions as F\n",
    "\n",
    "ev_cols = [\n",
    "    \"brand\",\"model\",\"top_speed_kmh\",\"battery_capacity\",\"battery_type\",\n",
    "    \"number_of_cells\",\"torque\",\"efficiency\",\"range\",\"acceleration\",\"body_type\"\n",
    "]\n",
    "\n",
    "#Conteos de inicio \n",
    "print(f\"number of records before cleaning: {df_cars.count()}\")\n",
    "(\n",
    "    df_cars.select([F.count(F.when(F.col(c).isNull(), c)).alias(c) for c in ev_cols])\n",
    "            .show(truncate=False)\n",
    ")\n",
    "\n",
    "# 2)Limpieza columna por columna \n",
    "\n",
    "bodytype_map = {\n",
    "    \"Suv\":\"SUV\",\"Crossover\":\"SUV\",\"Sport Utility Vehicle\":\"SUV\",\n",
    "    \"Sedan\":\"Sedan\",\"Saloon\":\"Sedan\",\n",
    "    \"Hatchback\":\"Hatchback\",\n",
    "    \"Wagon\":\"Wagon\",\"Estate\":\"Wagon\",\n",
    "    \"Pickup\":\"Pickup\",\"Pick-Up\":\"Pickup\",\n",
    "    \"Mpv\":\"MPV\",\"Minivan\":\"MPV\",\n",
    "    \"Coupe\":\"Coupe\",\"Coupé\":\"Coupe\"\n",
    "}\n",
    "bt_expr = F.create_map([F.lit(x) for kv in bodytype_map.items() for x in kv])\n",
    "\n",
    "ev_clean = (\n",
    "    df_cars\n",
    "    #strings limpios y con espacios comprimidos\n",
    "    .withColumn(\"brand\", F.initcap(F.regexp_replace(F.trim(\"brand\"), r\"\\s+\", \" \")))\n",
    "    .withColumn(\"model\", F.initcap(F.regexp_replace(F.trim(\"model\"), r\"\\s+\", \" \")))\n",
    "    .withColumn(\"battery_type\", F.initcap(F.trim(\"battery_type\")))\n",
    "    .withColumn(\"body_type\", F.initcap(F.trim(\"body_type\")))\n",
    "    .withColumn(\"body_type\", F.coalesce(bt_expr[F.col(\"body_type\")], F.col(\"body_type\")))\n",
    "    #Valores imposibles a null \n",
    "    .withColumn(\"top_speed_kmh\", F.when((F.col(\"top_speed_kmh\") < 50) | (F.col(\"top_speed_kmh\") > 450), None).otherwise(F.col(\"top_speed_kmh\")))\n",
    "    .withColumn(\"battery_capacity\", F.when((F.col(\"battery_capacity\") <= 5) | (F.col(\"battery_capacity\") > 200), None).otherwise(F.col(\"battery_capacity\")))\n",
    "    .withColumn(\"number_of_cells\", F.when((F.col(\"number_of_cells\") <= 0) | (F.col(\"number_of_cells\") > 10000), None).otherwise(F.col(\"number_of_cells\")))\n",
    "    .withColumn(\"torque\", F.when((F.col(\"torque\") <= 30) | (F.col(\"torque\") > 12000), None).otherwise(F.col(\"torque\")))\n",
    "    .withColumn(\"efficiency\", F.when((F.col(\"efficiency\") < 80) | (F.col(\"efficiency\") > 300), None).otherwise(F.col(\"efficiency\")))\n",
    "    .withColumn(\"range\", F.when((F.col(\"range\") < 50) | (F.col(\"range\") > 1200), None).otherwise(F.col(\"range\")))\n",
    "    .withColumn(\"acceleration\", F.when((F.col(\"acceleration\") <= 1.2) | (F.col(\"acceleration\") > 25), None).otherwise(F.col(\"acceleration\")))\n",
    "    #fitros\n",
    "    .dropDuplicates([\"brand\",\"model\"])\n",
    "    .filter(F.col(\"battery_capacity\").isNotNull() & F.col(\"range\").isNotNull())\n",
    ")\n",
    "\n",
    "print(f\"number of records after cleaning with trim/ranges/deduplicate/filter: {ev_clean.count()}\")\n",
    "(\n",
    "    ev_clean.select([F.count(F.when(F.col(c).isNull(), c)).alias(c) for c in ev_cols])\n",
    "            .show(truncate=False)\n",
    ")\n",
    "ev_clean.select(\"brand\",\"model\",\"battery_capacity\",\"range\",\"efficiency\",\"acceleration\",\"body_type\").show(10, truncate=False)\n"
   ]
  },
  {
   "cell_type": "code",
   "execution_count": 7,
   "id": "2625fc75-64f6-4678-a247-f4dd75145e30",
   "metadata": {},
   "outputs": [
    {
     "name": "stdout",
     "output_type": "stream",
     "text": [
      "+-------------+-----------------------------+-------------+-----------+\n",
      "|brand        |model                        |top_speed_kmh|speed_class|\n",
      "+-------------+-----------------------------+-------------+-----------+\n",
      "|Mercedes-benz|Eqa 250                      |160          |estandar   |\n",
      "|Tesla        |Model Y Rwd (juniper)        |201          |deportivo  |\n",
      "|Volkswagen   |Id.4 Gtx                     |180          |estandar   |\n",
      "|Audi         |Q6 E-tron                    |210          |deportivo  |\n",
      "|Citroen      |E-spacetourer Xl 75 Kwh      |130          |estandar   |\n",
      "|Kia          |Ev4 Sedan Standard Range     |170          |estandar   |\n",
      "|Mg           |Cyberster Trophy             |195          |estandar   |\n",
      "|Skoda        |Elroq 85                     |180          |estandar   |\n",
      "|Lotus        |Eletre R                     |260          |deportivo  |\n",
      "|Volkswagen   |Id.3 Pro                     |160          |estandar   |\n",
      "|Volvo        |Ec40 Single Motor Er (my26)  |180          |estandar   |\n",
      "|Byd          |Sealion 7 82.5 Kwh Awd Design|215          |deportivo  |\n",
      "|Porsche      |Taycan 4s Cross Turismo      |240          |deportivo  |\n",
      "|Bmw          |Ix2 Xdrive30                 |180          |estandar   |\n",
      "|Mercedes-benz|Eqe 500 4matic               |210          |deportivo  |\n",
      "+-------------+-----------------------------+-------------+-----------+\n",
      "only showing top 15 rows\n"
     ]
    }
   ],
   "source": [
    "#Columna nueva  \n",
    "from pyspark.sql import functions as F\n",
    "\n",
    "max_speed = 200  #velocidades\n",
    "\n",
    "df_feat = (\n",
    "    ev_clean  \n",
    "    .withColumn(\n",
    "        \"speed_class\",\n",
    "        F.when(F.col(\"top_speed_kmh\").isNull(), F.lit(\"unknown\"))\n",
    "         .when(F.col(\"top_speed_kmh\") > max_speed, F.lit(\"deportivo\"))\n",
    "         .otherwise(F.lit(\"estandar\"))\n",
    "    )\n",
    ")\n",
    "\n",
    "df_feat.select(\"brand\",\"model\",\"top_speed_kmh\",\"speed_class\").show(15, truncate=False)\n"
   ]
  },
  {
   "cell_type": "code",
   "execution_count": 8,
   "id": "051cadb4-8383-4c0e-81a9-dd25c0312f85",
   "metadata": {},
   "outputs": [
    {
     "name": "stdout",
     "output_type": "stream",
     "text": [
      "+-------------+--------+\n",
      "|brand        |n_models|\n",
      "+-------------+--------+\n",
      "|Mercedes-benz|42      |\n",
      "|Audi         |28      |\n",
      "|Porsche      |26      |\n",
      "|Volkswagen   |23      |\n",
      "|Ford         |22      |\n",
      "|Bmw          |20      |\n",
      "|Peugeot      |19      |\n",
      "|Volvo        |18      |\n",
      "|Byd          |17      |\n",
      "|Smart        |17      |\n",
      "|Kia          |16      |\n",
      "|Hyundai      |14      |\n",
      "|Opel         |14      |\n",
      "|Mg           |12      |\n",
      "|Nio          |12      |\n",
      "|Citroen      |12      |\n",
      "|Skoda        |12      |\n",
      "|Tesla        |11      |\n",
      "|Renault      |11      |\n",
      "|Zeekr        |9       |\n",
      "+-------------+--------+\n",
      "only showing top 20 rows\n"
     ]
    }
   ],
   "source": [
    "#Agreggation modelos por marca \n",
    "from pyspark.sql import functions as F\n",
    "\n",
    "brand_agg = (\n",
    "    ev_clean\n",
    "    .groupBy(\"brand\")\n",
    "    .agg(\n",
    "        F.count(\"*\").alias(\"n_models\"),\n",
    "    )\n",
    "    .orderBy(F.desc(\"n_models\"))\n",
    ")\n",
    "\n",
    "brand_agg.show(20, truncate=False)\n"
   ]
  },
  {
   "cell_type": "code",
   "execution_count": 9,
   "id": "c090185d-2951-48bd-870d-b35e86f076be",
   "metadata": {},
   "outputs": [
    {
     "name": "stderr",
     "output_type": "stream",
     "text": [
      "                                                                                "
     ]
    }
   ],
   "source": [
    "#df to parquet\n",
    "(ev_clean\n",
    "  .repartition(8)                \n",
    "  .write.mode(\"overwrite\")\n",
    "  .parquet(\"/opt/spark/work-dir/data/curated/ev_cars_parquet\"))"
   ]
  },
  {
   "cell_type": "markdown",
   "id": "df0a0e72",
   "metadata": {},
   "source": [
    "# Transformations and Actions"
   ]
  },
  {
   "cell_type": "markdown",
   "id": "ea50c38e-8a0e-42da-870c-195d8b262513",
   "metadata": {},
   "source": [
    "For this project, I used PostgreSQL because this electric car dataset is quite well-defined (22 clear columns), and it's convenient for me to have it in tables with classic SQL to perform aggregations and joins without complicating things. I can also create indexes for filters (by range_km, efficiency_wh_km) and run queries like \"top by autonomy\" or \"count by brand\" more directly. Finally, I wanted to use PostgreSQL since it's a tool I've used very little during my university career, and I wanted to become a little more familiar with it."
   ]
  },
  {
   "cell_type": "markdown",
   "id": "b6a7f5b7-29de-4bce-9703-35ff78d15118",
   "metadata": {},
   "source": [
    "docker run -d --name postgres-project -p 5432:5432 --network spark_default -e POSTGRES_PASSWORD=Admin@1234 postgres"
   ]
  },
  {
   "cell_type": "code",
   "execution_count": 10,
   "id": "c5278a2e-e22b-4864-af65-3b00cf586c37",
   "metadata": {},
   "outputs": [
    {
     "name": "stdout",
     "output_type": "stream",
     "text": [
      "+------+-------------------+-------------+----------------+------------+---------------+------+----------------+--------+------------------+---------+\n",
      "|brand |model              |top_speed_kmh|battery_capacity|battery_type|number_of_cells|torque|efficiency_wh_km|range_km|acceleration_0_100|body_type|\n",
      "+------+-------------------+-------------+----------------+------------+---------------+------+----------------+--------+------------------+---------+\n",
      "|Abarth|500e Convertible   |155          |37.8            |Lithium-ion |192            |235   |156             |225     |7.0               |67       |\n",
      "|Abarth|500e Hatchback     |155          |37.8            |Lithium-ion |192            |235   |149             |225     |7.0               |67       |\n",
      "|Abarth|600e Scorpionissima|200          |50.8            |Lithium-ion |102            |345   |158             |280     |5.9               |79       |\n",
      "|Abarth|600e Turismo       |200          |50.8            |Lithium-ion |102            |345   |158             |280     |6.2               |79       |\n",
      "|Aiways|U5                 |150          |60.0            |Lithium-ion |NULL           |310   |156             |315     |7.5               |78       |\n",
      "+------+-------------------+-------------+----------------+------------+---------------+------+----------------+--------+------------------+---------+\n",
      "only showing top 5 rows\n"
     ]
    }
   ],
   "source": [
    "#Load data into postgreSQL\n",
    "from pyspark.sql import functions as F\n",
    "\n",
    "\n",
    "df_ev = (ev_clean\n",
    "  .select(\n",
    "    F.col(\"brand\").cast(\"string\"),\n",
    "    F.col(\"model\").cast(\"string\"),\n",
    "    F.col(\"top_speed_kmh\").cast(\"int\"),\n",
    "    F.col(\"battery_capacity\").cast(\"double\"),\n",
    "    F.col(\"battery_type\").cast(\"string\"),\n",
    "    F.col(\"number_of_cells\").cast(\"int\"),\n",
    "    F.col(\"torque\").cast(\"int\"),\n",
    "    F.col(\"efficiency\").alias(\"efficiency_wh_km\").cast(\"int\"),\n",
    "    F.col(\"range\").alias(\"range_km\").cast(\"int\"),\n",
    "    F.col(\"acceleration\").alias(\"acceleration_0_100\").cast(\"double\"),\n",
    "    F.col(\"body_type\").cast(\"string\")\n",
    "  )\n",
    "  .dropDuplicates([\"brand\",\"model\"])\n",
    ")\n",
    "\n",
    "df_ev.show(5, truncate=False)\n",
    "\n"
   ]
  },
  {
   "cell_type": "code",
   "execution_count": 13,
   "id": "71339723-6d18-4232-8d0b-1d0b4a8a7cd0",
   "metadata": {},
   "outputs": [
    {
     "name": "stdout",
     "output_type": "stream",
     "text": [
      "DataFrame successfully written into a PostgreSQL DB!\n"
     ]
    }
   ],
   "source": [
    "jdbc_url = \"jdbc:postgresql://postgres-project:5432/postgres\"\n",
    "table_name = \"ev_cars\"\n",
    "\n",
    "(df_ev.write\n",
    "  .format(\"jdbc\")\n",
    "  .option(\"url\", jdbc_url)\n",
    "  .option(\"dbtable\", table_name)\n",
    "  .option(\"user\", \"postgres\")\n",
    "  .option(\"password\", \"Admin@1234\")\n",
    "  .option(\"driver\", \"org.postgresql.Driver\")\n",
    "  .mode(\"append\")     \n",
    "  .save())\n",
    "\n",
    "print(\"DataFrame successfully written into a PostgreSQL DB!\")"
   ]
  },
  {
   "cell_type": "code",
   "execution_count": 15,
   "id": "4da616ec-090e-406b-9ca5-94360ae8973f",
   "metadata": {},
   "outputs": [
    {
     "name": "stdout",
     "output_type": "stream",
     "text": [
      "root\n",
      " |-- brand: string (nullable = true)\n",
      " |-- model: string (nullable = true)\n",
      " |-- top_speed_kmh: integer (nullable = true)\n",
      " |-- battery_capacity: double (nullable = true)\n",
      " |-- battery_type: string (nullable = true)\n",
      " |-- number_of_cells: integer (nullable = true)\n",
      " |-- torque: integer (nullable = true)\n",
      " |-- efficiency_wh_km: integer (nullable = true)\n",
      " |-- range_km: integer (nullable = true)\n",
      " |-- acceleration_0_100: double (nullable = true)\n",
      " |-- body_type: string (nullable = true)\n",
      "\n",
      "+------+-------------------+-------------+----------------+------------+---------------+------+----------------+--------+------------------+---------+\n",
      "|brand |model              |top_speed_kmh|battery_capacity|battery_type|number_of_cells|torque|efficiency_wh_km|range_km|acceleration_0_100|body_type|\n",
      "+------+-------------------+-------------+----------------+------------+---------------+------+----------------+--------+------------------+---------+\n",
      "|Abarth|500e Convertible   |155          |37.8            |Lithium-ion |192            |235   |156             |225     |7.0               |67       |\n",
      "|Abarth|500e Hatchback     |155          |37.8            |Lithium-ion |192            |235   |149             |225     |7.0               |67       |\n",
      "|Abarth|600e Scorpionissima|200          |50.8            |Lithium-ion |102            |345   |158             |280     |5.9               |79       |\n",
      "|Abarth|600e Turismo       |200          |50.8            |Lithium-ion |102            |345   |158             |280     |6.2               |79       |\n",
      "|Aiways|U5                 |150          |60.0            |Lithium-ion |NULL           |310   |156             |315     |7.5               |78       |\n",
      "+------+-------------------+-------------+----------------+------------+---------------+------+----------------+--------+------------------+---------+\n",
      "only showing top 5 rows\n"
     ]
    }
   ],
   "source": [
    "jdbc_url = \"jdbc:postgresql://postgres-project:5432/postgres\"\n",
    "db_props = {\n",
    "    \"user\": \"postgres\",\n",
    "    \"password\": \"Admin@1234\",\n",
    "    \"driver\": \"org.postgresql.Driver\"\n",
    "}\n",
    "\n",
    "df_check = spark.read.jdbc(url=jdbc_url, table=table_name, properties=db_props)\n",
    "df_check.printSchema()\n",
    "df_check.show(5, truncate=False)"
   ]
  },
  {
   "cell_type": "markdown",
   "id": "e74ef5f1",
   "metadata": {},
   "source": [
    "# DAG"
   ]
  },
  {
   "attachments": {
    "49d56130-1b01-4d46-8e1a-032bfb8a1d8a.png": {
     "image/png": "[encoded data removed]"
    }
   },
   "cell_type": "markdown",
   "id": "4e446d7a-4ce1-4627-a44b-a61603ede219",
   "metadata": {},
   "source": [
    "![image.png](attachment:49d56130-1b01-4d46-8e1a-032bfb8a1d8a.png)"
   ]
  },
  {
   "cell_type": "code",
   "execution_count": 16,
   "id": "1d07bf3e-9f4f-4a42-ae4f-e99fa68ef106",
   "metadata": {},
   "outputs": [],
   "source": [
    "sc.stop()"
   ]
  },
  {
   "cell_type": "markdown",
   "id": "f804dd79-1879-4f70-b709-6733e4dfe82e",
   "metadata": {},
   "source": [
    "# PR"
   ]
  },
  {
   "cell_type": "code",
   "execution_count": null,
   "id": "d6e67aae-5aee-438a-82bb-033a74f77f05",
   "metadata": {},
   "outputs": [],
   "source": []
  }
 ],
 "metadata": {
  "kernelspec": {
   "display_name": "Python 3 (ipykernel)",
   "language": "python",
   "name": "python3"
  },
  "language_info": {
   "codemirror_mode": {
    "name": "ipython",
    "version": 3
   },
   "file_extension": ".py",
   "mimetype": "text/x-python",
   "name": "python",
   "nbconvert_exporter": "python",
   "pygments_lexer": "ipython3",
   "version": "3.10.12"
  }
 },
 "nbformat": 4,
 "nbformat_minor": 5
}
