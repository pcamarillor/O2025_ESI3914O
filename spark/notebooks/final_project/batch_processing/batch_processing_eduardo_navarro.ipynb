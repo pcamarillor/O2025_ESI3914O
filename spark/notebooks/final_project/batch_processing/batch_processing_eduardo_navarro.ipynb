{
 "cells": [
  {
   "cell_type": "markdown",
   "id": "b92d9622",
   "metadata": {},
   "source": [
    "# <center> <img src=\"../../img/ITESOLogo.png\" alt=\"ITESO\" width=\"480\" height=\"130\"> </center>\n",
    "# <center> **Departamento de Electrónica, Sistemas e Informática** </center>\n",
    "---\n",
    "## <center> Computer Systems Engineering  </center>\n",
    "---\n",
    "### <center> Big Data Processing </center>\n",
    "---\n",
    "#### <center> **Autumn 2025** </center>\n",
    "\n",
    "#### <center> **Final Project: Batch Processing** </center>\n",
    "---\n",
    "\n",
    "**Date**: October, 2025\n",
    "\n",
    "**Student Name**:\n",
    "\n",
    "**Professor**: Pablo Camarillo Ramirez"
   ]
  },
  {
   "cell_type": "markdown",
   "id": "a4dd2743",
   "metadata": {},
   "source": [
    "# Introduction\n",
    "\n",
    "## Problem Statement: Game Recommendation System\n",
    "\n",
    "This project addresses the challenge of **personalizing game recommendations** for users based on their gaming behavior, preferences, and demographic information. The gaming industry generates massive amounts of user interaction data daily, making it an ideal use case for big data processing.\n",
    "\n",
    "### Objective\n",
    "\n",
    "Build a data pipeline that analyzes user gaming patterns, ratings, and session data to generate insights that could power a recommendation engine. The pipeline will process user demographics, game library ownership, play time, ratings, and gaming sessions to identify patterns and preferences.\n",
    "\n",
    "### Business Value\n",
    "\n",
    "- **Improve user engagement** by recommending games aligned with their preferences\n",
    "- **Identify trending games** within specific user demographics\n",
    "- **Analyze player behavior** to understand what keeps users engaged\n",
    "- **Provide insights** for game developers and publishers about their target audience\n",
    "\n",
    "The pipeline leverages Apache Spark's distributed computing capabilities to handle large-scale gaming data, performing transformations such as aggregations, joins, and feature engineering that will feed into recommendation algorithms."
   ]
  },
  {
   "cell_type": "markdown",
   "id": "1757b962",
   "metadata": {},
   "source": [
    "# Dataset\n",
    "\n",
    "## Data Model\n",
    "\n",
    "The dataset follows a **denormalized relational model** that combines multiple entities into a single flat structure optimized for analytical processing. This approach is ideal for batch processing with Spark as it minimizes the need for expensive joins during transformation.\n",
    "\n",
    "### Original Entities (Normalized Design)\n",
    "\n",
    "The data conceptually represents the following entities:\n",
    "\n",
    "1. **Users** - Player demographic and registration information\n",
    "2. **Games** - Video game catalog with metadata\n",
    "3. **User-Games** - Ownership and play time relationships\n",
    "4. **Ratings** - User reviews and ratings (nullable)\n",
    "5. **Sessions** - Individual gaming session records\n",
    "\n",
    "### Data Schema\n",
    "\n",
    "The denormalized dataset contains the following fields:\n",
    "\n",
    "| Field | Type | Description |\n",
    "|-------|------|-------------|\n",
    "| **user_id** | string | Unique user identifier |\n",
    "| **username** | string | Player username |\n",
    "| **email** | string | User email address |\n",
    "| **country** | string | User's country |\n",
    "| **registration_date** | date | Account creation date |\n",
    "| **age** | int | User age (13-65) |\n",
    "| **game_id** | string | Unique game identifier |\n",
    "| **title** | string | Game title |\n",
    "| **genre** | string | Game genre (FPS, RPG, Strategy, etc.) |\n",
    "| **developer** | string | Game developer/studio |\n",
    "| **release_date** | date | Game release date |\n",
    "| **price** | float | Game price in USD |\n",
    "| **platform** | string | Gaming platform (PC, PS5, Xbox, Switch) |\n",
    "| **purchase_date** | date | Date user acquired the game |\n",
    "| **hours_played** | int | Total hours played |\n",
    "| **last_played** | date | Last session date |\n",
    "| **session_id** | string | Unique session identifier |\n",
    "| **session_date** | date | Session date |\n",
    "| **duration_minutes** | int | Session duration in minutes |\n",
    "| **achievements_unlocked** | int | Achievements earned in session |\n",
    "| **rating_id** | string | Rating identifier (nullable) |\n",
    "| **rating** | int | User rating 1-5 stars (nullable) |\n",
    "| **review_text** | string | Text review (nullable) |\n",
    "| **rating_date** | date | Date of rating (nullable) |\n",
    "\n",
    "## Dataset Generation\n",
    "\n",
    "The dataset is **synthetically generated** using Python with the Faker library. This approach provides:\n",
    "\n",
    "- **Reproducibility**: Seeded random generation ensures consistent results\n",
    "- **Scalability**: Can easily generate datasets of any size\n",
    "- **Referential Integrity**: Maintains valid relationships between users, games, and sessions\n",
    "- **Temporal Consistency**: Ensures dates follow logical sequences (e.g., sessions occur after purchase dates)\n",
    "\n",
    "### Generation Script\n",
    "\n",
    "The data generator script is located at:\n",
    "\n",
    "`notebooks/lib/eduardo_navarro/gameAppGenerator.py`\n",
    "\n",
    "**Dataset Statistics:**\n",
    "- Total records: 600 gaming sessions\n",
    "- Unique users: 100\n",
    "- Unique games: 10\n",
    "- Records with ratings: ~60%\n",
    "\n",
    "The generated CSV file is available at:\n",
    "\n",
    "`notebooks/data/gaming_data_complete.csv`"
   ]
  },
  {
   "cell_type": "markdown",
   "id": "dataset_load_header",
   "metadata": {},
   "source": [
    "## Loading the Dataset"
   ]
  },
  {
   "cell_type": "code",
   "execution_count": 1,
   "id": "7b0cacdd-dce8-424e-ac9f-ce31426afe88",
   "metadata": {},
   "outputs": [
    {
     "name": "stderr",
     "output_type": "stream",
     "text": [
      "WARNING: Using incubator modules: jdk.incubator.vector\n",
      "Using Spark's default log4j profile: org/apache/spark/log4j2-defaults.properties\n",
      "Setting default log level to \"WARN\".\n",
      "To adjust logging level use sc.setLogLevel(newLevel). For SparkR, use setLogLevel(newLevel).\n",
      "25/10/28 05:33:11 WARN NativeCodeLoader: Unable to load native-hadoop library for your platform... using builtin-java classes where applicable\n"
     ]
    }
   ],
   "source": [
    "import findspark\n",
    "findspark.init()\n",
    "\n",
    "from pyspark.sql import SparkSession\n",
    "\n",
    "spark = SparkSession.builder \\\n",
    "    .appName(\"Examples on SparkSQL\") \\\n",
    "    .master(\"spark://13f256fd17f9:7077\") \\\n",
    "    .config(\"spark.ui.port\", \"4040\") \\\n",
    "    .getOrCreate()\n",
    "\n",
    "sc = spark.sparkContext\n",
    "sc.setLogLevel(\"ERROR\")"
   ]
  },
  {
   "cell_type": "code",
   "execution_count": 3,
   "id": "dataset_load_code",
   "metadata": {},
   "outputs": [
    {
     "name": "stdout",
     "output_type": "stream",
     "text": [
      "+--------------------+---------------+--------------------+-----------+-----------------+----+--------------------+--------------------+--------+--------------------+------------+-----+--------------+-------------+------------+-----------+--------------------+------------+----------------+---------------------+--------------------+------+--------------------+-----------+\n",
      "|             user_id|       username|               email|    country|registration_date| age|             game_id|               title|   genre|           developer|release_date|price|      platform|purchase_date|hours_played|last_played|          session_id|session_date|duration_minutes|achievements_unlocked|           rating_id|rating|         review_text|rating_date|\n",
      "+--------------------+---------------+--------------------+-----------+-----------------+----+--------------------+--------------------+--------+--------------------+------------+-----+--------------+-------------+------------+-----------+--------------------+------------+----------------+---------------------+--------------------+------+--------------------+-----------+\n",
      "|d1e73aef-87dc-403...| moralescharles|hernandezlisa@exa...|South Korea|       2021-07-17|  51|687d0fa5-281a-4e5...|Focused Increment...|  Sports|     Dunn-Pennington|  2023-07-14| 4.97|Multi-platform|   2025-02-14|         135| 2025-04-14|03d946cc-40d7-430...|  2025-04-14|             375|                    2|                NULL|  NULL|                NULL|       NULL|\n",
      "|2ebf1028-1677-452...|    alexander67|hamiltonmichael@e...|        USA|       2022-02-13|  56|99bea7dd-122e-4c1...|Intuitive Interac...|  Puzzle|          Lee-Greene|  2020-02-26|35.99|          Xbox|   2025-01-14|         194| 2025-07-17|e895555e-82fe-4d3...|  2025-07-17|              53|                    0|74cfc7c8-bb69-4c7...|   5.0|Story behavior be...|       NULL|\n",
      "|Government progra...|     2025-07-17|                NULL|       NULL|             NULL|NULL|                NULL|                NULL|    NULL|                NULL|        NULL| NULL|          NULL|         NULL|        NULL|       NULL|                NULL|        NULL|            NULL|                 NULL|                NULL|  NULL|                NULL|       NULL|\n",
      "|e6e4844b-dfa1-486...|     dianasmith|osbornejeffery@ex...|      Japan|       2025-03-23|  22|2fa8bdd6-ce54-41b...|Total Bifurcated ...|     RPG|      Bright-Francis|  2025-03-13|15.73|          Xbox|   2025-08-01|         689| 2025-09-04|da143c07-3e9b-43b...|  2025-09-04|             339|                    3|6f20e0f3-6b7b-4d0...|   4.0|Thank not husband...|       NULL|\n",
      "|Second Democrat i...|           NULL|                NULL|       NULL|             NULL|NULL|                NULL|                NULL|    NULL|                NULL|        NULL| NULL|          NULL|         NULL|        NULL|       NULL|                NULL|        NULL|            NULL|                 NULL|                NULL|  NULL|                NULL|       NULL|\n",
      "|Return since noth...|     2025-09-04|                NULL|       NULL|             NULL|NULL|                NULL|                NULL|    NULL|                NULL|        NULL| NULL|          NULL|         NULL|        NULL|       NULL|                NULL|        NULL|            NULL|                 NULL|                NULL|  NULL|                NULL|       NULL|\n",
      "|f1ab2302-cede-4f2...| laurahenderson|cruzcaitlin@examp...|     Brazil|       2025-04-26|  41|67ad7f26-72d1-430...|Compatible Attitu...|Strategy|       Gibson-Morris|  2018-05-05|46.18|           PS4|   2025-07-18|         254| 2025-08-21|c5c17ad2-c50d-47b...|  2025-08-21|             103|                    0|6b86dbc7-f49a-42a...|   3.0|Mouth discover ne...|       NULL|\n",
      "|Investment identi...|     2025-08-21|                NULL|       NULL|             NULL|NULL|                NULL|                NULL|    NULL|                NULL|        NULL| NULL|          NULL|         NULL|        NULL|       NULL|                NULL|        NULL|            NULL|                 NULL|                NULL|  NULL|                NULL|       NULL|\n",
      "|2038d73d-97cc-478...|    stephanie79|  jrivas@example.com|     Brazil|       2022-03-04|  60|20c6a149-8186-46f...|Reactive Transiti...|  Racing|Miller, Murphy an...|  2022-04-19|65.01|Multi-platform|   2024-12-18|         945| 2025-04-19|ecd5238a-2d57-400...|  2025-04-19|              43|                    0|498d195f-f930-414...|   3.0|                NULL| 2025-04-19|\n",
      "|0646050c-bc76-41b...|stricklandfrank|daniel04@example.net|     France|       2024-01-05|  51|f6f8ce72-f183-40b...|Cloned Clear-Thin...|Strategy|Brennan, Wallace ...|  2025-10-11|36.93|           PS4|   2025-10-14|         553| 2025-10-24|7162ab60-843e-483...|  2025-10-24|             433|                    0|                NULL|  NULL|                NULL|       NULL|\n",
      "|96cfff22-720d-4c5...|    wendytaylor|  ddavis@example.org|South Korea|       2022-02-12|  39|5296338a-6599-4a0...|Right-Sized Multi...|  Sports|      Smith and Sons|  2023-07-16|21.82|Multi-platform|   2023-10-30|         497| 2024-10-28|488f7a19-f09b-438...|  2024-10-28|             251|                    0|                NULL|  NULL|                NULL|       NULL|\n",
      "|432488e0-caf7-40e...|         rramos|williamleon@examp...|         UK|       2022-04-06|  17|67ad7f26-72d1-430...|Compatible Attitu...|Strategy|       Gibson-Morris|  2018-05-05|46.18|           PS4|   2024-02-21|           2| 2025-06-25|8ed42d60-e9b0-47c...|  2025-06-25|             204|                    0|                NULL|  NULL|                NULL|       NULL|\n",
      "|e08c0d14-c795-4bb...|          wcole|maryramirez@examp...|South Korea|       2024-12-09|  47|d7f231d6-e5bd-430...|Profit-Focused Re...|  Puzzle|    Burgess-Thompson|  2017-07-04|62.96|        Switch|   2025-04-05|         569| 2025-07-20|f2949188-d70b-44f...|  2025-07-20|             343|                    1|92181eb0-b5f9-4c1...|   5.0|Goal avoid left a...| 2025-07-20|\n",
      "|7c09a8fe-e05d-45c...|     calebsmith|briannasmith@exam...|    Germany|       2021-04-26|  19|5296338a-6599-4a0...|Right-Sized Multi...|  Sports|      Smith and Sons|  2023-07-16|21.82|Multi-platform|   2024-12-16|         991| 2025-01-10|2a9c17f7-cc87-4a5...|  2025-01-10|              34|                    0|                NULL|  NULL|                NULL|       NULL|\n",
      "|9908c469-2fa5-418...|      kcaldwell|stevenscott@examp...|     Mexico|       2022-03-31|  37|67ad7f26-72d1-430...|Compatible Attitu...|Strategy|       Gibson-Morris|  2018-05-05|46.18|           PS4|   2023-08-25|         514| 2024-01-18|d9a198fc-969b-49e...|  2024-01-18|             475|                    2|f09d8720-fb62-454...|   2.0|Exist rich preven...| 2024-01-18|\n",
      "|52bc2cc2-9593-42d...|  carlosjohnson|  chad34@example.net|     Mexico|       2024-12-12|  37|67ad7f26-72d1-430...|Compatible Attitu...|Strategy|       Gibson-Morris|  2018-05-05|46.18|           PS4|   2025-07-09|         609| 2025-10-19|9a779335-7a94-4ad...|  2025-10-19|              39|                    1|15835877-a6d7-4ba...|   2.0|                NULL| 2025-10-19|\n",
      "|e69e4a41-072d-4bd...|     leonardjoe|davidashley@examp...|  Australia|       2021-02-26|  25|932cd80d-6403-4dc...|Up-Sized Didactic...|     FPS|Newton, Moore and...|  2023-07-02|38.77|           PS4|   2023-08-29|         911| 2025-02-02|327f139a-816a-499...|  2025-02-02|             296|                    0|                NULL|  NULL|                NULL|       NULL|\n",
      "|112bcaae-4f98-4c2...|      anthony52|  zlewis@example.com|         UK|       2023-09-18|  62|67ad7f26-72d1-430...|Compatible Attitu...|Strategy|       Gibson-Morris|  2018-05-05|46.18|           PS4|   2025-07-29|         535| 2025-10-11|e05c4346-e636-44a...|  2025-10-11|             166|                    2|f19edbe3-6a97-417...|   4.0|Others child Cong...| 2025-10-11|\n",
      "|c1ceb038-d644-48d...|        ntucker|kbarrera@example.com|     Mexico|       2020-11-01|  37|2fa8bdd6-ce54-41b...|Total Bifurcated ...|     RPG|      Bright-Francis|  2025-03-13|15.73|          Xbox|   2025-08-05|         405| 2025-08-27|c312e4e4-e37b-4fd...|  2025-08-27|              72|                    1|                NULL|  NULL|                NULL|       NULL|\n",
      "|ce494047-baf4-43b...|rodriguezsierra|amydavenport@exam...|    Germany|       2025-07-08|  35|687d0fa5-281a-4e5...|Focused Increment...|  Sports|     Dunn-Pennington|  2023-07-14| 4.97|Multi-platform|   2025-09-20|         769| 2025-09-23|31ca2f5b-01a0-4b9...|  2025-09-23|              42|                    0|                NULL|  NULL|                NULL|       NULL|\n",
      "+--------------------+---------------+--------------------+-----------+-----------------+----+--------------------+--------------------+--------+--------------------+------------+-----+--------------+-------------+------------+-----------+--------------------+------------+----------------+---------------------+--------------------+------+--------------------+-----------+\n",
      "only showing top 20 rows\n"
     ]
    }
   ],
   "source": [
    "from pyspark.sql import SparkSession\n",
    "from pyspark.sql.functions import *\n",
    "from pyspark.sql.types import *\n",
    "\n",
    "from eduardo_navarro.spark_utils import SparkUtils\n",
    "\n",
    "columns_info = [\n",
    "    ('user_id', 'string'),\n",
    "    ('username', 'string'),\n",
    "    ('email', 'string'),\n",
    "    ('country', 'string'),\n",
    "    ('registration_date', 'date'),\n",
    "    ('age', 'int'),\n",
    "    ('game_id', 'string'),\n",
    "    ('title', 'string'),\n",
    "    ('genre', 'string'),\n",
    "    ('developer', 'string'),\n",
    "    ('release_date', 'date'),\n",
    "    ('price', 'float'),\n",
    "    ('platform', 'string'),\n",
    "    ('purchase_date', 'date'),\n",
    "    ('hours_played', 'int'),\n",
    "    ('last_played', 'date'),\n",
    "    ('session_id', 'string'),\n",
    "    ('session_date', 'date'),\n",
    "    ('duration_minutes', 'int'),\n",
    "    ('achievements_unlocked', 'int'),\n",
    "    ('rating_id', 'string'),\n",
    "    ('rating', 'int'),\n",
    "    ('review_text', 'string'),\n",
    "    ('rating_date', 'date')\n",
    "]\n",
    "\n",
    "# Generate schema\n",
    "schema = SparkUtils.generate_schema(columns_info)\n",
    "\n",
    "file_path = '/opt/spark/work-dir/data//game_recomendation/gaming_data_complete.csv'\n",
    "df = spark.read.csv(file_path, header=True, inferSchema=True)\n",
    "\n"
   ]
  },
  {
   "cell_type": "markdown",
   "id": "df0a0e72",
   "metadata": {},
   "source": [
    "# Transformations and Actions"
   ]
  },
  {
   "cell_type": "code",
   "execution_count": 4,
   "id": "10200a55-2507-4396-8862-f44b48f3e19b",
   "metadata": {},
   "outputs": [],
   "source": [
    "# Data Cleaning and Validation\n",
    "from pyspark.sql.functions import col, count, when, isnan\n",
    "\n",
    "\n",
    "df_clean = df.dropDuplicates(['session_id']) \\\n",
    "    .filter(\n",
    "        (col('age').between(13, 100)) &\n",
    "        (col('rating').isNull() | col('rating').between(1, 5)) &\n",
    "        (col('duration_minutes') > 0) &\n",
    "        (col('hours_played') >= 0)\n",
    "    )\n"
   ]
  },
  {
   "cell_type": "code",
   "execution_count": 5,
   "id": "f8d42294-f23a-4ec3-a2a8-71d7366c39ab",
   "metadata": {},
   "outputs": [
    {
     "name": "stdout",
     "output_type": "stream",
     "text": [
      "=== TEMPORAL FEATURES CREATED ===\n",
      "+--------------------+----------------+-------------------+----------------------+--------------+\n",
      "|          session_id|account_age_days|days_since_purchase|days_since_last_played|game_age_years|\n",
      "+--------------------+----------------+-------------------+----------------------+--------------+\n",
      "|57a52641-c89f-423...|            1616|               1101|                   303|             5|\n",
      "|1e567855-d86a-495...|             102|                 75|                    63|             3|\n",
      "|05e15b51-5663-47b...|             132|                 47|                    39|             0|\n",
      "|47191f6c-13dc-44f...|             323|                  9|                     9|             0|\n",
      "|49da49a1-74a5-472...|            1540|                328|                   268|             3|\n",
      "|a90692c4-4d81-439...|            1334|                 74|                    23|             2|\n",
      "|33829a60-41fe-41e...|            1070|                684|                   398|             8|\n",
      "|237f6eca-a879-4b6...|            1705|                 12|                     2|             0|\n",
      "|0d93e4f2-f521-49f...|             143|                  7|                     4|             0|\n",
      "|e6d2ff83-a9b1-4bd...|            1112|                410|                   216|             5|\n",
      "+--------------------+----------------+-------------------+----------------------+--------------+\n",
      "only showing top 10 rows\n"
     ]
    }
   ],
   "source": [
    "from pyspark.sql.functions import datediff, current_date, year, month, dayofweek\n",
    "\n",
    "df_featured = df_clean \\\n",
    "    .withColumn('account_age_days', datediff(current_date(), col('registration_date'))) \\\n",
    "    .withColumn('days_since_purchase', datediff(current_date(), col('purchase_date'))) \\\n",
    "    .withColumn('days_since_last_played', datediff(current_date(), col('last_played'))) \\\n",
    "    .withColumn('game_age_years', (datediff(current_date(), col('release_date')) / 365).cast('int')) \\\n",
    "    .withColumn('session_year', year(col('session_date'))) \\\n",
    "    .withColumn('session_month', month(col('session_date'))) \\\n",
    "    .withColumn('session_day_of_week', dayofweek(col('session_date')))\n"
   ]
  },
  {
   "cell_type": "code",
   "execution_count": 6,
   "id": "21a5c5f2-8264-4830-920a-0e86bd08105c",
   "metadata": {},
   "outputs": [
    {
     "name": "stdout",
     "output_type": "stream",
     "text": [
      "=== ENGAGEMENT METRICS ===\n",
      "+--------------------+--------------------+------------+------+------------------+\n",
      "|             user_id|               title|hours_played|rating|  engagement_score|\n",
      "+--------------------+--------------------+------------+------+------------------+\n",
      "|f2b80ec4-5e8a-462...|Open-Architected ...|         978|   4.0|            340.34|\n",
      "|b073b235-557c-42a...|Total Bifurcated ...|         991|   5.0|331.78000000000003|\n",
      "|2838334f-7099-45f...|Focused Increment...|         985|   5.0|            329.94|\n",
      "|34ea4b85-9d0f-493...|Focused Increment...|         961|   4.0|            329.76|\n",
      "|113d65b6-c585-481...|Right-Sized Multi...|         986|  NULL|329.40000000000003|\n",
      "|b15ea628-22c9-405...|Right-Sized Multi...|         969|  NULL|            326.64|\n",
      "|9dda66e0-099b-48b...|Focused Increment...|         988|   4.0|323.15999999999997|\n",
      "|c6537f7c-d1f9-479...|Cloned Clear-Thin...|        1000|   4.0|            323.12|\n",
      "|ce8cb315-f0cc-4f8...|Up-Sized Didactic...|         987|  NULL|            322.96|\n",
      "|7d52de61-1cb7-43d...|Right-Sized Multi...|         956|   5.0|             322.8|\n",
      "+--------------------+--------------------+------------+------+------------------+\n",
      "only showing top 10 rows\n"
     ]
    }
   ],
   "source": [
    "# Feature Engineering - Engagement Metrics\n",
    "df_featured = df_featured \\\n",
    "    .withColumn('is_active_player', when(col('days_since_last_played') <= 7, 1).otherwise(0)) \\\n",
    "    .withColumn('session_hours', col('duration_minutes') / 60) \\\n",
    "    .withColumn('has_rating', when(col('rating').isNull(), 0).otherwise(1)) \\\n",
    "    .withColumn('is_positive_rating', when(col('rating') >= 4, 1).otherwise(0)) \\\n",
    "    .withColumn('engagement_score', \n",
    "                (col('hours_played') * 0.3 + \n",
    "                 col('duration_minutes') * 0.02 + \n",
    "                 col('achievements_unlocked') * 10 +\n",
    "                 when(col('rating') >= 4, 20).otherwise(0)))\n"
   ]
  },
  {
   "cell_type": "code",
   "execution_count": 7,
   "id": "d0ce7872-4e25-49f4-907e-4ed2444f49a3",
   "metadata": {},
   "outputs": [
    {
     "name": "stdout",
     "output_type": "stream",
     "text": [
      "=== TOP 10 USERS BY PLAYTIME ===\n",
      "+------------------------------------+---------------+-----------+---+-----------+--------------+-------------+--------------------+------------------+------------------+------------------+-------------+------------------+------------------+\n",
      "|user_id                             |username       |country    |age|total_games|total_sessions|total_minutes|avg_session_duration|total_hours_played|total_achievements|avg_rating        |ratings_given|avg_engagement    |total_hours       |\n",
      "+------------------------------------+---------------+-----------+---+-----------+--------------+-------------+--------------------+------------------+------------------+------------------+-------------+------------------+------------------+\n",
      "|e08c0d14-c795-4bbc-9f0f-63098be921e2|wcole          |South Korea|47 |7          |15            |4352         |290.1333333333333   |5831              |11                |3.75              |8            |137.75599999999997|72.53333333333333 |\n",
      "|5345a01c-2885-46a3-953a-38a9f226bb27|eric84         |Brazil     |19 |9          |11            |3391         |308.27272727272725  |4426              |7                 |3.625             |8            |144.14727272727274|56.516666666666666|\n",
      "|f902c277-3daa-4b37-8ae7-44e5e522807f|davisryan      |Germany    |51 |7          |14            |3144         |224.57142857142858  |6743              |6                 |3.75              |8            |160.41285714285715|52.4              |\n",
      "|112bcaae-4f98-4c28-b668-0316e3e6e6b0|anthony52      |UK         |62 |7          |10            |3057         |305.7               |4312              |8                 |4.0               |4            |151.474           |50.95             |\n",
      "|7c09a8fe-e05d-45ca-8433-92dd4ffe8f11|calebsmith     |Germany    |19 |8          |11            |2941         |267.3636363636364   |7113              |4                 |3.5714285714285716|7            |210.24727272727276|49.016666666666666|\n",
      "|ce494047-baf4-43b1-9225-0e743f7308f4|rodriguezsierra|Germany    |35 |7          |11            |2651         |241.0               |4147              |1                 |3.875             |8            |129.7381818181818 |44.18333333333333 |\n",
      "|e69e4a41-072d-4bde-953b-5bac0aa3efd9|leonardjoe     |Australia  |25 |9          |12            |2602         |216.83333333333334  |6079              |8                 |4.8               |5            |171.31166666666664|43.36666666666667 |\n",
      "|c22bee18-f9f4-4211-ba9c-4975cf7b2b1f|michael41      |Mexico     |26 |6          |9             |2555         |283.8888888888889   |5305              |1                 |3.0               |7            |190.2888888888889 |42.583333333333336|\n",
      "|c38da466-e2de-4bef-b7d1-219830a00246|kristin93      |Australia  |33 |5          |7             |2533         |361.85714285714283  |3360              |2                 |4.0               |4            |162.6657142857143 |42.21666666666667 |\n",
      "|7d52de61-1cb7-43df-b681-3c35bcc69ea7|andrewsanchez  |Germany    |26 |6          |9             |2520         |280.0               |4360              |1                 |3.6666666666666665|3            |156.4888888888889 |42.0              |\n",
      "+------------------------------------+---------------+-----------+---+-----------+--------------+-------------+--------------------+------------------+------------------+------------------+-------------+------------------+------------------+\n",
      "only showing top 10 rows\n"
     ]
    }
   ],
   "source": [
    "# Aggregations - User Statistics\n",
    "from pyspark.sql.functions import sum, avg, max, countDistinct\n",
    "\n",
    "user_stats = df_featured.groupBy('user_id', 'username', 'country', 'age') \\\n",
    "    .agg(\n",
    "        countDistinct('game_id').alias('total_games'),\n",
    "        count('session_id').alias('total_sessions'),\n",
    "        sum('duration_minutes').alias('total_minutes'),\n",
    "        avg('duration_minutes').alias('avg_session_duration'),\n",
    "        sum('hours_played').alias('total_hours_played'),\n",
    "        sum('achievements_unlocked').alias('total_achievements'),\n",
    "        avg('rating').alias('avg_rating'),\n",
    "        count(when(col('rating').isNotNull(), 1)).alias('ratings_given'),\n",
    "        avg('engagement_score').alias('avg_engagement')\n",
    "    ) \\\n",
    "    .withColumn('total_hours', col('total_minutes') / 60)\n",
    "\n",
    "print(\"=== TOP 10 USERS BY PLAYTIME ===\")\n",
    "user_stats.orderBy(col('total_hours').desc()).show(10, truncate=False)"
   ]
  },
  {
   "cell_type": "code",
   "execution_count": 8,
   "id": "8c27a38f-14b0-4d8a-aa89-3331b8d47c12",
   "metadata": {},
   "outputs": [
    {
     "name": "stdout",
     "output_type": "stream",
     "text": [
      "=== GAME STATISTICS (Ordered by Avg Rating) ===\n",
      "+------------------------------------+----------------------------------------------+--------+--------------+-----+-------------+--------------+-------------+--------------------+------------------+-------------+----------------+------------------+------------------+-------------------+\n",
      "|game_id                             |title                                         |genre   |platform      |price|total_players|total_sessions|total_minutes|avg_hours_per_player|avg_rating        |total_ratings|positive_ratings|avg_engagement    |total_hours       |positive_rating_pct|\n",
      "+------------------------------------+----------------------------------------------+--------+--------------+-----+-------------+--------------+-------------+--------------------+------------------+-------------+----------------+------------------+------------------+-------------------+\n",
      "|d7f231d6-e5bd-4309-8563-63ecd94359e2|Profit-Focused Real-Time Internet Solution    |Puzzle  |Switch        |62.96|44           |65            |18423        |429.0153846153846   |3.871794871794872 |39           |27              |147.75784615384615|307.05            |69.23              |\n",
      "|76152a8b-87c8-48a5-b45b-8f6128a564b7|Open-Architected Intangible Superstructure    |FPS     |PC            |4.72 |41           |61            |15412        |480.4918032786885   |3.8333333333333335|36           |25              |164.61049180327873|256.8666666666667 |69.44              |\n",
      "|2fa8bdd6-ce54-41bc-892a-e421adbd90aa|Total Bifurcated Projection                   |RPG     |Xbox          |15.73|45           |57            |12947        |442.7719298245614   |3.8205128205128207|39           |27              |152.98842105263154|215.78333333333333|69.23              |\n",
      "|5296338a-6599-4a07-9c1d-fd5b87ac0706|Right-Sized Multi-Tasking Frame               |Sports  |Multi-platform|21.82|45           |57            |14213        |520.0350877192982   |3.7941176470588234|34           |23              |175.73438596491232|236.88333333333333|67.65              |\n",
      "|687d0fa5-281a-4e54-a476-518c5d81c09e|Focused Incremental Graphical User Interface  |Sports  |Multi-platform|4.97 |43           |61            |15756        |511.8032786885246   |3.742857142857143 |35           |23              |172.14950819672126|262.6             |65.71              |\n",
      "|67ad7f26-72d1-4301-b9a4-cf4582ebbcfe|Compatible Attitude-Oriented Graphic Interface|Strategy|PS4           |46.18|42           |59            |13461        |489.79661016949154  |3.71875           |32           |21              |164.21389830508477|224.35            |65.63              |\n",
      "|f6f8ce72-f183-40bb-baa3-815d86494e7c|Cloned Clear-Thinking Focus Group             |Strategy|PS4           |36.93|52           |65            |17272        |528.7692307692307   |3.697674418604651 |43           |26              |176.86830769230767|287.8666666666667 |60.47              |\n",
      "|932cd80d-6403-4dc1-81a2-5bc496019de0|Up-Sized Didactic Internet Solution           |FPS     |PS4           |38.77|37           |54            |13707        |588.0555555555555   |3.6666666666666665|30           |19              |194.45629629629624|228.45            |63.33              |\n",
      "|20c6a149-8186-46f4-b459-45ad051f709a|Reactive Transitional Graphic Interface       |Racing  |Multi-platform|65.01|38           |53            |14199        |455.2641509433962   |3.625             |24           |15              |151.93735849056603|236.65            |62.50              |\n",
      "|99bea7dd-122e-4c16-be32-e837f71f16e0|Intuitive Interactive Functionalities         |Puzzle  |Xbox          |35.99|52           |68            |15237        |503.29411764705884  |3.5869565217391304|46           |26              |167.82264705882355|253.95            |56.52              |\n",
      "+------------------------------------+----------------------------------------------+--------+--------------+-----+-------------+--------------+-------------+--------------------+------------------+-------------+----------------+------------------+------------------+-------------------+\n",
      "\n"
     ]
    }
   ],
   "source": [
    "# Aggregations - Game Statistics\n",
    "game_stats = df_featured.groupBy('game_id', 'title', 'genre', 'platform', 'price') \\\n",
    "    .agg(\n",
    "        countDistinct('user_id').alias('total_players'),\n",
    "        count('session_id').alias('total_sessions'),\n",
    "        sum('duration_minutes').alias('total_minutes'),\n",
    "        avg('hours_played').alias('avg_hours_per_player'),\n",
    "        avg('rating').alias('avg_rating'),\n",
    "        count(when(col('rating').isNotNull(), 1)).alias('total_ratings'),\n",
    "        sum(when(col('rating') >= 4, 1).otherwise(0)).alias('positive_ratings'),\n",
    "        avg('engagement_score').alias('avg_engagement')\n",
    "    ) \\\n",
    "    .withColumn('total_hours', col('total_minutes') / 60) \\\n",
    "    .withColumn('positive_rating_pct', (col('positive_ratings') / col('total_ratings') * 100).cast('decimal(5,2)'))\n",
    "\n",
    "print(\"=== GAME STATISTICS (Ordered by Avg Rating) ===\")\n",
    "game_stats.orderBy(col('avg_rating').desc()).show(10, truncate=False)"
   ]
  },
  {
   "cell_type": "code",
   "execution_count": null,
   "id": "aa8bbdc5-c2a0-4e1f-a1fa-8dcd7e2347d6",
   "metadata": {},
   "outputs": [],
   "source": [
    "# Aggregations - Genre Analysis\n",
    "genre_stats = df_featured.groupBy('genre') \\\n",
    "    .agg(\n",
    "        countDistinct('game_id').alias('games_count'),\n",
    "        countDistinct('user_id').alias('players_count'),\n",
    "        count('session_id').alias('sessions_count'),\n",
    "        sum('duration_minutes').alias('total_minutes'),\n",
    "        avg('rating').alias('avg_rating'),\n",
    "        avg('engagement_score').alias('avg_engagement')\n",
    "    ) \\\n",
    "    .withColumn('total_hours', col('total_minutes') / 60) \\\n",
    "    .orderBy(col('sessions_count').desc())\n",
    "\n",
    "print(\"=== GENRE POPULARITY ===\")\n",
    "genre_stats.show(truncate=False)"
   ]
  },
  {
   "cell_type": "code",
   "execution_count": null,
   "id": "9e18481b-dbcc-4f34-9004-cc623f8794e7",
   "metadata": {},
   "outputs": [],
   "source": [
    "# Window Functions - User Rankings\n",
    "from pyspark.sql.window import Window\n",
    "from pyspark.sql.functions import row_number, percent_rank\n",
    "\n",
    "user_window = Window.orderBy(col('total_hours').desc())\n",
    "\n",
    "user_rankings = user_stats \\\n",
    "    .withColumn('rank', row_number().over(user_window)) \\\n",
    "    .withColumn('percentile', percent_rank().over(user_window))\n",
    "\n",
    "print(\"=== TOP 15 PLAYERS BY PLAYTIME ===\")\n",
    "user_rankings.select('rank', 'username', 'country', 'total_games', 'total_hours', 'percentile') \\\n",
    "    .orderBy('rank').show(15, truncate=False)"
   ]
  },
  {
   "cell_type": "code",
   "execution_count": null,
   "id": "7de63791-8f0d-40b8-bdf0-146d913afeb8",
   "metadata": {},
   "outputs": [],
   "source": [
    "# Window Functions - Game Rankings by Genre\n",
    "genre_window = Window.partitionBy('genre').orderBy(col('avg_rating').desc())\n",
    "\n",
    "game_rankings = game_stats \\\n",
    "    .withColumn('rank_in_genre', row_number().over(genre_window))\n",
    "\n",
    "print(\"=== TOP RATED GAME PER GENRE ===\")\n",
    "game_rankings.filter(col('rank_in_genre') == 1) \\\n",
    "    .select('genre', 'title', 'avg_rating', 'total_players') \\\n",
    "    .orderBy('genre').show(truncate=False)"
   ]
  },
  {
   "cell_type": "code",
   "execution_count": null,
   "id": "e1e36759-fbd2-4639-a9f0-88bdbbec31c2",
   "metadata": {},
   "outputs": [],
   "source": [
    "# User-Game Interaction Matrix for Recommendations\n",
    "user_game_matrix = df_featured.groupBy('user_id', 'username', 'game_id', 'title', 'genre') \\\n",
    "    .agg(\n",
    "        sum('duration_minutes').alias('total_duration'),\n",
    "        max('hours_played').alias('hours_played'),\n",
    "        max('rating').alias('user_rating'),\n",
    "        count('session_id').alias('session_count'),\n",
    "        max('engagement_score').alias('engagement_score')\n",
    "    ) \\\n",
    "    .withColumn('interaction_score',\n",
    "                col('hours_played') * 2 +\n",
    "                col('session_count') * 5 +\n",
    "                when(col('user_rating').isNotNull(), col('user_rating') * 10).otherwise(0))\n",
    "\n",
    "print(\"=== USER-GAME INTERACTION MATRIX (Top 15) ===\")\n",
    "user_game_matrix.orderBy(col('interaction_score').desc()).show(15, truncate=False)"
   ]
  },
  {
   "cell_type": "code",
   "execution_count": null,
   "id": "8d9bbd66-3a96-4f9f-a648-0de034f44b8e",
   "metadata": {},
   "outputs": [],
   "source": [
    "# Cache datasets for performance\n",
    "df_featured.cache()\n",
    "user_stats.cache()\n",
    "game_stats.cache()\n",
    "user_game_matrix.cache()\n",
    "\n",
    "print(\"=== DATASETS CACHED ===\")\n",
    "print(f\"Featured: {df_featured.count()} | Users: {user_stats.count()} | Games: {game_stats.count()} | Matrix: {user_game_matrix.count()}\")"
   ]
  },
  {
   "cell_type": "markdown",
   "id": "bc61d130",
   "metadata": {},
   "source": [
    "# Persistence Data"
   ]
  },
  {
   "cell_type": "markdown",
   "id": "e74ef5f1",
   "metadata": {},
   "source": [
    "# DAG"
   ]
  },
  {
   "cell_type": "code",
   "execution_count": null,
   "id": "99c255a4-4d23-44dc-9c55-35aa65eba1de",
   "metadata": {},
   "outputs": [],
   "source": []
  }
 ],
 "metadata": {
  "kernelspec": {
   "display_name": "Python 3 (ipykernel)",
   "language": "python",
   "name": "python3"
  },
  "language_info": {
   "codemirror_mode": {
    "name": "ipython",
    "version": 3
   },
   "file_extension": ".py",
   "mimetype": "text/x-python",
   "name": "python",
   "nbconvert_exporter": "python",
   "pygments_lexer": "ipython3",
   "version": "3.10.12"
  }
 },
 "nbformat": 4,
 "nbformat_minor": 5
}
