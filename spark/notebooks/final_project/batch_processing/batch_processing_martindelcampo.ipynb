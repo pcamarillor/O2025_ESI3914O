{
 "cells": [
  {
   "cell_type": "markdown",
   "id": "b92d9622",
   "metadata": {},
   "source": [
    "# <center> <img src=\"../../img/ITESOLogo.png\" alt=\"ITESO\" width=\"480\" height=\"130\"> </center>\n",
    "# <center> **Departamento de Electrónica, Sistemas e Informática** </center>\n",
    "---\n",
    "## <center> Computer Systems Engineering  </center>\n",
    "---\n",
    "### <center> Big Data Processing </center>\n",
    "---\n",
    "#### <center> **Autumn 2025** </center>\n",
    "\n",
    "#### <center> **Final Project: Batch Processing** </center>\n",
    "---\n",
    "\n",
    "**Date**: October, 2025\n",
    "\n",
    "**Student Name**: Rodrigo Martín del Campo\n",
    "\n",
    "**Project Name:** US Elections\n",
    "\n",
    "**Professor**: Pablo Camarillo Ramirez"
   ]
  },
  {
   "cell_type": "markdown",
   "id": "a4dd2743",
   "metadata": {},
   "source": [
    "# Introduction\n",
    "\n",
    "In this project, I address the challenges of managing, transforming, and analyzing large volumes of electoral data spanning multiple decades. The dataset used contains information from United States presidential elections between 1976 and 2020, including vote counts by candidate, party affiliation, and state-level results. This dataset was chosen because it provides rich historical data for analysis and prediction, and it was more complete and accessible than equivalent Mexican election datasets, which lacked the necessary structure and consistency for this type of processing.\n",
    "\n",
    "The main objective of this project is to design a robust data pipeline capable of ingesting, cleaning, and transforming electoral data to enable clear visualization and meaningful insights. By integrating electoral data with Electoral College information, the final processed dataset can serve as the foundation for interactive dashboards and predictive models. These models could forecast potential election outcomes based on historical trends, while dashboards would provide readable and intuitive summaries of party performance, vote distribution, and state-level changes over time."
   ]
  },
  {
   "cell_type": "markdown",
   "id": "1757b962",
   "metadata": {},
   "source": [
    "# Dataset"
   ]
  },
  {
   "cell_type": "markdown",
   "id": "00b5c378-3457-4932-8b93-def81cc0e759",
   "metadata": {},
   "source": [
    "### Data model\n",
    "\n",
    "The data model I will use in this project is **relational**.\n",
    "\n",
    "The pipeline will consolidate **US presidential election results** with it's corresponding and relevant information, and join it with data regarding **electoral college votes** per state, which is relevant information to determine presidency winners in the US.  \n",
    "\n",
    "The final processed data will be persisted in **PostgreSQL**, chosen because:\n",
    "- The main operations involve filtering, grouping, and aggregating for which SQL fits perfectly.\n",
    "- Because the data isn't expected to require high frequency writes (added information would be expected every 4 years because of it's nature) a NoSQL solution could add unnecessary complexity.\n",
    "- It provides data integrity through strict typing.\n",
    "- It is easy to connect with BI tools or dashboards later on."
   ]
  },
  {
   "cell_type": "markdown",
   "id": "4e29db41-ab7e-4255-a137-fa930b3733a1",
   "metadata": {},
   "source": [
    "### Data schema\n",
    "\n",
    "The project is based on two main datasets: one containing U.S. presidential election results from 1976 to 2020, and another with Electoral College votes per state. The former extracted from MIT's Election Lab and Harvard's Dataverse, and the latter from ReadySignal.\n",
    "\n",
    "The elections dataset includes information such as the year, state, candidate names, political party, and the number of votes each candidate received. The Electoral College dataset provides the number of votes each state contributes to the national election.\n",
    "\n",
    "The plan is to join both datasets using the state and state abbreviation columns. This will allow the final dataset to include not only the popular vote data but also the Electoral College information for a more complete analysis.\n",
    "\n",
    "The goal is to create a clean and structured dataset that can be used for visualizations and predictive analysis. By transforming and simplifying the data, we can easily generate dashboards that show voting patterns, trends, and results over time."
   ]
  },
  {
   "cell_type": "markdown",
   "id": "9099c568-c2a5-42ff-bcfc-56d3199f61ba",
   "metadata": {},
   "source": [
    "### Datasets sources\n",
    "\n",
    "1976-2020 Presidency Elections Results: _https://dataverse.harvard.edu/dataset.xhtml?persistentId=doi:10.7910/DVN/42MVDX_\n",
    "\n",
    "Electoral College Votes: _https://www.readysignal.com/electoral-college-data-table/_"
   ]
  },
  {
   "cell_type": "markdown",
   "id": "df0a0e72",
   "metadata": {},
   "source": [
    "# Transformations and Actions"
   ]
  },
  {
   "cell_type": "markdown",
   "id": "43327c54",
   "metadata": {},
   "source": [
    "### Importing required libraries and creating the Spark session"
   ]
  },
  {
   "cell_type": "code",
   "execution_count": 1,
   "id": "fdf78b28",
   "metadata": {
    "vscode": {
     "languageId": "plaintext"
    }
   },
   "outputs": [
    {
     "name": "stderr",
     "output_type": "stream",
     "text": [
      "WARNING: Using incubator modules: jdk.incubator.vector\n",
      "25/10/28 01:37:18 WARN NativeCodeLoader: Unable to load native-hadoop library for your platform... using builtin-java classes where applicable\n",
      "Using Spark's default log4j profile: org/apache/spark/log4j2-defaults.properties\n",
      "Setting default log level to \"WARN\".\n",
      "To adjust logging level use sc.setLogLevel(newLevel). For SparkR, use setLogLevel(newLevel).\n"
     ]
    }
   ],
   "source": [
    "import findspark\n",
    "findspark.init()\n",
    "\n",
    "from martindelcampo.spark_utils import SparkUtils\n",
    "from pyspark.sql import SparkSession\n",
    "from pyspark.sql.functions import trim, col, count, isnull, when, lit, concat, avg, upper\n",
    "from pyspark.sql import functions as F\n",
    "from pyspark.sql.window import Window\n",
    "\n",
    "spark = SparkSession.builder \\\n",
    "    .appName(\"FinalProject_BatchProcessing\") \\\n",
    "    .master(\"spark://d1fd305c6e3b:7077\") \\\n",
    "    .config(\"spark.jars\", \"/opt/spark/work-dir/jars/postgresql-42.7.8.jar\") \\\n",
    "    .config(\"spark.ui.port\", \"4040\") \\\n",
    "    .getOrCreate()\n",
    "\n",
    "sc = spark.sparkContext\n",
    "sc.setLogLevel(\"ERROR\")"
   ]
  },
  {
   "cell_type": "markdown",
   "id": "0649a66e-0d31-49d9-ba50-8315a556bc5d",
   "metadata": {},
   "source": [
    "### Create the schemas"
   ]
  },
  {
   "cell_type": "code",
   "execution_count": 2,
   "id": "c3111518-c815-4558-8999-602930e051b9",
   "metadata": {},
   "outputs": [],
   "source": [
    "# Column definition\n",
    "elections_schema_columns = [\n",
    "    (\"year\", \"int\"),\n",
    "    (\"state\", \"string\"),\n",
    "    (\"state_po\", \"string\"),\n",
    "    (\"state_fips\", \"int\"),\n",
    "    (\"state_cen\", \"int\"),\n",
    "    (\"state_ic\", \"int\"),\n",
    "    (\"office\", \"string\"),\n",
    "    (\"candidate\", \"string\"),\n",
    "    (\"party_detailed\", \"string\"),\n",
    "    (\"writein\", \"boolean\"),\n",
    "    (\"candidatevotes\", \"int\"),\n",
    "    (\"totalvotes\", \"int\"),\n",
    "    (\"version\", \"int\"),\n",
    "    (\"notes\", \"string\"),\n",
    "    (\"party_simplified\", \"string\")\n",
    "]\n",
    "\n",
    "# Generate schema with my method\n",
    "elections_schema = SparkUtils.generate_schema(elections_schema_columns)\n",
    "\n",
    "# Column definition for electoral college votes\n",
    "ec_schema_columns = [\n",
    "    (\"state\", \"string\"),                      \n",
    "    (\"state_po\", \"string\"),                 \n",
    "    (\"electoral_college_votes\", \"int\")      \n",
    "]\n",
    "\n",
    "# Generate its Schema\n",
    "ec_schema = SparkUtils.generate_schema(ec_schema_columns)\n"
   ]
  },
  {
   "cell_type": "markdown",
   "id": "2a59bee8-6c21-4a8e-be6e-8727553a7378",
   "metadata": {},
   "source": [
    "### Loading the datasets"
   ]
  },
  {
   "cell_type": "code",
   "execution_count": 3,
   "id": "2ffc4c29-c340-4952-a54f-3de78e396e00",
   "metadata": {},
   "outputs": [],
   "source": [
    "df_elections = spark.read \\\n",
    "                .option(\"header\", \"true\") \\\n",
    "                .schema(elections_schema) \\\n",
    "                .csv(\"/opt/spark/work-dir/data/us_presidential_elections/\")\n",
    "\n",
    "df_electoral_college = spark.read \\\n",
    "                .option(\"header\", \"true\") \\\n",
    "                .schema(ec_schema) \\\n",
    "                .csv(\"/opt/spark/work-dir/data/electoral_college_votes/\")"
   ]
  },
  {
   "cell_type": "markdown",
   "id": "8174a727-ec5d-4d4a-aa1e-c8fe4a96b531",
   "metadata": {},
   "source": [
    "### Transformations"
   ]
  },
  {
   "cell_type": "markdown",
   "id": "51253ef7-bf14-49ff-b369-65fccbcbd8f5",
   "metadata": {},
   "source": [
    "#### Cleaning the Electoral College Votes dataset"
   ]
  },
  {
   "cell_type": "code",
   "execution_count": 4,
   "id": "1436c622-4bb9-4839-8422-2725e2ec1c9c",
   "metadata": {},
   "outputs": [],
   "source": [
    "# I will start by transforming the electoral college votes df since it's very straightforward\n",
    "# I wil join this dataframe since I'm interested in the amount of electoral college votes of each state,\n",
    "# this information will be useful to predict presidential winners, since the system in the US is made so that whoever has\n",
    "# more electoral college votes wins the election, not whoever has more overall votes. I'm only interested in the column\n",
    "# with the number of electoral vote and the state abbreviation since I will use it to join it to the other df\n",
    "\n",
    "df_electoral_college = df_electoral_college.drop(\"state\")"
   ]
  },
  {
   "cell_type": "markdown",
   "id": "ea0c1b21-2fbf-4ba9-8b0a-87231b1bc458",
   "metadata": {},
   "source": [
    "#### Cleaning the Elections dataset"
   ]
  },
  {
   "cell_type": "code",
   "execution_count": 5,
   "id": "91e7d869-7f76-4a25-85eb-c2ce17da652f",
   "metadata": {},
   "outputs": [],
   "source": [
    "# Drop 'state_fips', 'state_cen', and 'state_ic'\n",
    "# These are numerical identifiers for states that aren't needed for this analysis.\n",
    "# I will assign my own numeric identifiers if needed later.\n",
    "df_elections = df_elections.drop(\"state_fips\", \"state_cen\", \"state_ic\")\n",
    "\n",
    "# Drop 'office'\n",
    "# It's unnecessary since all records represent presidential votes (already implicit).\n",
    "df_elections = df_elections.drop(\"office\")\n",
    "\n",
    "# Drop 'writein'\n",
    "# Write-in votes are irrelevant for this project since they don't impact major results.\n",
    "df_elections = df_elections.drop(\"writein\")\n",
    "\n",
    "# Drop 'version'\n",
    "# This column only indicates when new information was added; it has no analytical value here.\n",
    "df_elections = df_elections.drop(\"version\")\n",
    "\n",
    "# Drop 'notes'\n",
    "# This column contains only NA/NULL values and adds no useful information.\n",
    "df_elections = df_elections.drop(\"notes\")\n",
    "\n",
    "# Drop 'party_simplified'\n",
    "# I will create my own simplified classification from 'party_detailed'.\n",
    "# Realistically, only DEMOCRAT, REPUBLICAN, or OTHER categories are needed.\n",
    "df_elections = df_elections.drop(\"party_simplified\")"
   ]
  },
  {
   "cell_type": "markdown",
   "id": "6b6ce43b-20f6-43c3-a976-9b3d710e4ca3",
   "metadata": {},
   "source": [
    "#### Normalizations, mappings, consolidations, aggregations, and even window transformations of the Elections dataset"
   ]
  },
  {
   "cell_type": "code",
   "execution_count": 6,
   "id": "be3b07b2-af03-44ee-9878-e9dad0f51d83",
   "metadata": {},
   "outputs": [],
   "source": [
    "# Create a window ordered alphabetically by state name\n",
    "# A window in Spark lets us apply functions like row_number(), rank(), lag(), or sum()\n",
    "# over a specific ordered set of rows without grouping the entire DataFrame.\n",
    "# Here we order globally by \"state\" (no partition), so functions can see the sequence\n",
    "# of states alphabetically. This is useful for ranking, comparisons, or running totals.\n",
    "# I found out about window functions when looking for a way to rank candidates\n",
    "# and compare rows without using groupBy—Spark's Window API makes that possible.\n",
    "window_spec = Window.orderBy(\"state\")\n",
    "\n",
    "# Use dense_rank to assign an ID 1–50 for the 50 unique states\n",
    "# dense_rank() ensures consecutive numbering without gaps\n",
    "# I will do this since in the future, having numeric values to represent columns will be necessary\n",
    "# I will not yet drop the clomun state since it might be useful when creating map dashboards\n",
    "df_elections = df_elections.withColumn(\"state_id\", F.dense_rank().over(window_spec))\n",
    "\n",
    "# Normalize all text to uppercase and simplify to three categories:\n",
    "# DEMOCRAT and REPUBLICAN stay as they are.\n",
    "# All other parties (Libertarian, Green, Independent, etc.) will be grouped under \"OTHER\"\n",
    "# because let's be real, it's always a race between republicans and democrats\n",
    "df_elections = df_elections.withColumn(\n",
    "    \"party_detailed\",\n",
    "    when(upper(df_elections.party_detailed) == \"DEMOCRAT\", \"DEMOCRAT\")\n",
    "    .when(upper(df_elections.party_detailed) == \"REPUBLICAN\", \"REPUBLICAN\")\n",
    "    .otherwise(\"OTHER\")\n",
    ")\n",
    "\n",
    "# More complicated transformation: I will collapse minor parties into a single OTHER row\n",
    "# 1) Force any non-DEM/REP candidate name to \"OTHER\" (so grouping will collapse them)\n",
    "df_elections_collapsed = df_elections.withColumn(\n",
    "    \"candidate\",\n",
    "    F.when(F.col(\"party_detailed\") == \"OTHER\", F.lit(\"OTHER\")).otherwise(F.col(\"candidate\"))\n",
    ")\n",
    "\n",
    "# 2) Aggregate to get at most 3 rows per (year, state): DEMOCRAT, REPUBLICAN, OTHER\n",
    "#    - Sum candidatevotes for each party bucket (OTHER will sum all minor parties)\n",
    "#    - Keep totalvotes as the state-year total (max is safe; it's the same across candidates for that state-year)\n",
    "df_elections_collapsed = (\n",
    "    df_elections_collapsed\n",
    "    .groupBy(\n",
    "        \"year\", \"state\", \"state_po\", \"state_id\",\n",
    "        \"party_detailed\", \"candidate\"\n",
    "    )\n",
    "    .agg(\n",
    "        F.sum(\"candidatevotes\").alias(\"candidatevotes\"),\n",
    "        F.max(\"totalvotes\").alias(\"totalvotes\")\n",
    "    )\n",
    ")\n",
    "\n",
    "# Assign numeric identifiers for each party:\n",
    "# REPUBLICAN -> 0\n",
    "# DEMOCRAT   -> 1\n",
    "# OTHER      -> 2\n",
    "# Mapping will simplify processes with the data later on\n",
    "df_elections_collapsed = df_elections_collapsed.withColumn(\n",
    "    \"party_id\",\n",
    "    when(col(\"party_detailed\") == \"REPUBLICAN\", 0)\n",
    "    .when(col(\"party_detailed\") == \"DEMOCRAT\", 1)\n",
    "    .otherwise(2)\n",
    ")\n",
    "\n",
    "# I will define another window partitioned by year and state to compare each party's votes within that state/year\n",
    "# this will help me define a new column \"state_victory\", which will contain true/false 0/1 values to know if the candidate\n",
    "# won that state in that year and if he takes the electoral votes that I will join later on\n",
    "window_spec = Window.partitionBy(\"year\", \"state\")\n",
    "\n",
    "# Determine which row (party) has the maximum votes in that state/year\n",
    "df_elections_collapsed = df_elections_collapsed.withColumn(\n",
    "    \"state_victory\",\n",
    "    F.when(\n",
    "        F.col(\"candidatevotes\") == F.max(\"candidatevotes\").over(window_spec),\n",
    "        F.lit(1)  # 1 means this party won the state\n",
    "    ).otherwise(F.lit(0))  # 0 means this party lost the state\n",
    ")"
   ]
  },
  {
   "cell_type": "markdown",
   "id": "550d8139-2691-49cb-a9bb-b73191ef90e7",
   "metadata": {},
   "source": [
    "#### Join presidential results and electoral college datasets and order the final dataframe"
   ]
  },
  {
   "cell_type": "code",
   "execution_count": 7,
   "id": "85cc9b50-56ee-4046-bc1a-f9d67e0b3981",
   "metadata": {},
   "outputs": [],
   "source": [
    "# Now I will perform the join between my two dataframes, adding the important values of \"electoral_college_votes\" to the election dataframe:\n",
    "# Since electoral_college data is not static (meaning it has changed historically, this isn't great since those values have changed historically, but\n",
    "# I couldn't find a dataset with year information, but these current electoral college points will be useful to model and predict victories in the\n",
    "# next deliverables), we join only by 'state_po'.\n",
    "df_elections_final = df_elections_collapsed.join(\n",
    "    df_electoral_college.select(\"state_po\", \"electoral_college_votes\"),\n",
    "    on=\"state_po\",\n",
    "    how=\"left\"\n",
    ")\n",
    "\n",
    "# Order the information by year, state, and party for easier data understanding when looking at the result table\n",
    "df_elections_final = df_elections_final.orderBy(\"year\", \"state\", \"party_id\")"
   ]
  },
  {
   "cell_type": "markdown",
   "id": "bc61d130",
   "metadata": {},
   "source": [
    "# Persistence Data"
   ]
  },
  {
   "cell_type": "markdown",
   "id": "aadbcb66-2125-4f4f-9eb7-1ffea1500fd3",
   "metadata": {},
   "source": [
    "### Database justification\n",
    "\n",
    "The decision to use PostgreSQL is based on the nature and purpose of the datasets used in this project. Both the U.S. presidential elections data (1976–2020) and the Electoral College votes are structured and relational, making a SQL-based system the most appropriate choice.\n",
    "\n",
    "**Key Reasons:**\n",
    "- Structured Data: Each record contains clearly defined attributes such as year, state, party, and votes, which fit naturally into a relational model.\n",
    "- Ease of Integration: Relational joins between state results and Electoral College votes are straightforward and efficient.\n",
    "- Low Update Frequency: Since new data is only added every four years, a real-time or NoSQL system is unnecessary.\n",
    "- Analytical Capability: PostgreSQL supports aggregations, queries, and visualization tools for dashboard creation.\n",
    "- Reliability and Consistency: Ensures data integrity and long-term stability for historical datasets."
   ]
  },
  {
   "cell_type": "markdown",
   "id": "9f79a4bf-2e09-413d-8d14-9d6fe9393d62",
   "metadata": {},
   "source": [
    "### Persist / Write to PostgreSQL"
   ]
  },
  {
   "cell_type": "code",
   "execution_count": 8,
   "id": "4542ea8f-a562-4dd2-b9e9-e14fdb2cbf0b",
   "metadata": {},
   "outputs": [
    {
     "name": "stderr",
     "output_type": "stream",
     "text": [
      "[Stage 3:>                                                          (0 + 1) / 1]"
     ]
    },
    {
     "name": "stdout",
     "output_type": "stream",
     "text": [
      "DataFrame successfully written into PostgreSQL table 'elections_1976_2020_with_ec'!\n"
     ]
    },
    {
     "name": "stderr",
     "output_type": "stream",
     "text": [
      "                                                                                "
     ]
    }
   ],
   "source": [
    "jdbc_url   = \"jdbc:postgresql://postgres-iteso:5432/postgres\"\n",
    "table_name = \"elections_1976_2020_with_ec\"\n",
    "\n",
    "(\n",
    "    df_elections_final.write\n",
    "      .format(\"jdbc\")\n",
    "      .option(\"url\", jdbc_url)\n",
    "      .option(\"dbtable\", table_name)\n",
    "      .option(\"user\", \"postgres\")\n",
    "      .option(\"password\", \"Admin@1234\")\n",
    "      .option(\"driver\", \"org.postgresql.Driver\")\n",
    "      .mode(\"overwrite\")                 \n",
    "      .save()\n",
    ")\n",
    "\n",
    "print(f\"DataFrame successfully written into PostgreSQL table '{table_name}'!\")"
   ]
  },
  {
   "cell_type": "markdown",
   "id": "1b438dc1-865c-4d8d-bd00-be24e8b0e7e6",
   "metadata": {},
   "source": [
    "### Read/Actions to validate persistence"
   ]
  },
  {
   "cell_type": "code",
   "execution_count": 9,
   "id": "8f14d265-52e4-4d12-89b8-3527712a3ebb",
   "metadata": {},
   "outputs": [
    {
     "name": "stdout",
     "output_type": "stream",
     "text": [
      "root\n",
      " |-- state_po: string (nullable = true)\n",
      " |-- year: integer (nullable = true)\n",
      " |-- state: string (nullable = true)\n",
      " |-- state_id: integer (nullable = true)\n",
      " |-- party_detailed: string (nullable = true)\n",
      " |-- candidate: string (nullable = true)\n",
      " |-- candidatevotes: long (nullable = true)\n",
      " |-- totalvotes: integer (nullable = true)\n",
      " |-- party_id: integer (nullable = true)\n",
      " |-- state_victory: integer (nullable = true)\n",
      " |-- electoral_college_votes: integer (nullable = true)\n",
      "\n",
      "+--------+----+-----------+--------+--------------+-------------+--------------+----------+--------+-------------+-----------------------+\n",
      "|state_po|year|      state|state_id|party_detailed|    candidate|candidatevotes|totalvotes|party_id|state_victory|electoral_college_votes|\n",
      "+--------+----+-----------+--------+--------------+-------------+--------------+----------+--------+-------------+-----------------------+\n",
      "|      AL|1976|    ALABAMA|       1|    REPUBLICAN| FORD, GERALD|        504070|   1182850|       0|            0|                      9|\n",
      "|      AL|1976|    ALABAMA|       1|      DEMOCRAT|CARTER, JIMMY|        659170|   1182850|       1|            1|                      9|\n",
      "|      AL|1976|    ALABAMA|       1|         OTHER|        OTHER|         19610|   1182850|       2|            0|                      9|\n",
      "|      AK|1976|     ALASKA|       2|    REPUBLICAN| FORD, GERALD|         71555|    123574|       0|            1|                      3|\n",
      "|      AK|1976|     ALASKA|       2|      DEMOCRAT|CARTER, JIMMY|         44058|    123574|       1|            0|                      3|\n",
      "|      AK|1976|     ALASKA|       2|         OTHER|        OTHER|          7961|    123574|       2|            0|                      3|\n",
      "|      AZ|1976|    ARIZONA|       3|    REPUBLICAN| FORD, GERALD|        418642|    742719|       0|            1|                     11|\n",
      "|      AZ|1976|    ARIZONA|       3|      DEMOCRAT|CARTER, JIMMY|        295602|    742719|       1|            0|                     11|\n",
      "|      AZ|1976|    ARIZONA|       3|         OTHER|        OTHER|         28475|    742719|       2|            0|                     11|\n",
      "|      AR|1976|   ARKANSAS|       4|    REPUBLICAN| FORD, GERALD|        267903|    767535|       0|            0|                      6|\n",
      "|      AR|1976|   ARKANSAS|       4|      DEMOCRAT|CARTER, JIMMY|        498604|    767535|       1|            1|                      6|\n",
      "|      AR|1976|   ARKANSAS|       4|         OTHER|        OTHER|          1028|    767535|       2|            0|                      6|\n",
      "|      CA|1976| CALIFORNIA|       5|    REPUBLICAN| FORD, GERALD|       3882244|   7803770|       0|            1|                     55|\n",
      "|      CA|1976| CALIFORNIA|       5|      DEMOCRAT|CARTER, JIMMY|       3742284|   7803770|       1|            0|                     55|\n",
      "|      CA|1976| CALIFORNIA|       5|         OTHER|        OTHER|        179242|   7803770|       2|            0|                     55|\n",
      "|      CO|1976|   COLORADO|       6|    REPUBLICAN| FORD, GERALD|        584278|   1081440|       0|            1|                      9|\n",
      "|      CO|1976|   COLORADO|       6|      DEMOCRAT|CARTER, JIMMY|        460801|   1081440|       1|            0|                      9|\n",
      "|      CO|1976|   COLORADO|       6|         OTHER|        OTHER|         36361|   1081440|       2|            0|                      9|\n",
      "|      CT|1976|CONNECTICUT|       7|    REPUBLICAN| FORD, GERALD|        719261|   1386355|       0|            1|                      7|\n",
      "|      CT|1976|CONNECTICUT|       7|      DEMOCRAT|CARTER, JIMMY|        647895|   1386355|       1|            0|                      7|\n",
      "+--------+----+-----------+--------+--------------+-------------+--------------+----------+--------+-------------+-----------------------+\n",
      "only showing top 20 rows\n"
     ]
    }
   ],
   "source": [
    "jdbc_url = \"jdbc:postgresql://postgres-iteso:5432/postgres\"\n",
    "db_properties = {\n",
    "    \"user\": \"postgres\",\n",
    "    \"password\": \"Admin@1234\",\n",
    "    \"driver\": \"org.postgresql.Driver\"\n",
    "}\n",
    "\n",
    "table_name = \"elections_1976_2020_with_ec\"\n",
    "\n",
    "# Read the data back from PostgreSQL\n",
    "df = spark.read.jdbc(url=jdbc_url, table=table_name, properties=db_properties)\n",
    "\n",
    "# I can finally print the schema and execute a show action to validate this first deliverable of the project\n",
    "df.printSchema()\n",
    "df.show()"
   ]
  },
  {
   "cell_type": "markdown",
   "id": "e74ef5f1",
   "metadata": {},
   "source": [
    "# DAG"
   ]
  },
  {
   "attachments": {
    "b25ded2a-c054-4bf3-a179-6fc5e95d2cf3.png": {
     "image/png": "[encoded data removed]"
    }
   },
   "cell_type": "markdown",
   "id": "e7b4159c-dac6-4694-a39e-c7ab5f1fa6b1",
   "metadata": {},
   "source": [
    "![image.png](attachment:b25ded2a-c054-4bf3-a179-6fc5e95d2cf3.png)"
   ]
  },
  {
   "cell_type": "code",
   "execution_count": 10,
   "id": "aa138c64-ffbd-49fe-88e2-5739f6c8bc9e",
   "metadata": {},
   "outputs": [],
   "source": [
    "sc.stop()"
   ]
  }
 ],
 "metadata": {
  "kernelspec": {
   "display_name": "Python 3 (ipykernel)",
   "language": "python",
   "name": "python3"
  },
  "language_info": {
   "codemirror_mode": {
    "name": "ipython",
    "version": 3
   },
   "file_extension": ".py",
   "mimetype": "text/x-python",
   "name": "python",
   "nbconvert_exporter": "python",
   "pygments_lexer": "ipython3",
   "version": "3.10.12"
  }
 },
 "nbformat": 4,
 "nbformat_minor": 5
}
