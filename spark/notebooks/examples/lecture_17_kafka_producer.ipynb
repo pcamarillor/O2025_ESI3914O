{
 "cells": [
  {
   "cell_type": "markdown",
   "metadata": {},
   "source": [
    "# <center> <img src=\"../img/ITESOLogo.png\" alt=\"ITESO\" width=\"480\" height=\"130\"> </center>\n",
    "# <center> **Departamento de Electrónica, Sistemas e Informática** </center>\n",
    "---\n",
    "## <center> **Big Data** </center>\n",
    "---\n",
    "### <center> **Autumn 2025** </center>\n",
    "---\n",
    "### <center> **Examples on Structured Streaming (Kakfa producer)** </center>\n",
    "---\n",
    "**Profesor**: Pablo Camarillo Ramirez"
   ]
  },
  {
   "cell_type": "markdown",
   "metadata": {},
   "source": [
    "# Create SparkSession"
   ]
  },
  {
   "cell_type": "code",
   "execution_count": null,
   "metadata": {},
   "outputs": [],
   "source": [
    "import findspark\n",
    "findspark.init()\n",
    "\n",
    "from pyspark.sql import SparkSession\n",
    "\n",
    "spark = SparkSession.builder \\\n",
    "    .appName(\"Examples on Structured Streaming (Kafka)\") \\\n",
    "    .master(\"spark://spark-master:7077\") \\\n",
    "    .config(\"spark.jars.packages\", \"org.apache.spark:spark-sql-kafka-0-10_2.13:4.0.0\") \\\n",
    "    .config(\"spark.ui.port\", \"4040\") \\\n",
    "    .getOrCreate()\n",
    "\n",
    "sc = spark.sparkContext\n",
    "sc.setLogLevel(\"INFO\")\n",
    "\n",
    "# Optimization (reduce the number of shuffle partitions)\n",
    "spark.conf.set(\"spark.sql.shuffle.partitions\", \"5\")"
   ]
  },
  {
   "cell_type": "markdown",
   "metadata": {},
   "source": [
    "# Create a data stream from a Kafka topic"
   ]
  },
  {
   "cell_type": "code",
   "execution_count": null,
   "metadata": {},
   "outputs": [],
   "source": [
    "# Create the remote connection\n",
    "kafka_df = spark.readStream \\\n",
    "            .format(\"kafka\") \\\n",
    "            .option(\"kafka.bootstrap.servers\", \"kafka:9093\") \\\n",
    "            .option(\"subscribe\", \"pkg-telemetry\") \\\n",
    "            .load()\n",
    "\n",
    "kafka_df.printSchema()"
   ]
  },
  {
   "cell_type": "code",
   "execution_count": null,
   "metadata": {},
   "outputs": [],
   "source": [
    "from pyspark.sql.functions import year, month, day, from_json, col\n",
    "from pcamarillor.spark_utils import SparkUtils\n",
    "vg_telemetry_df = kafka_df.select(kafka_df.value.cast(\"string\").alias(\"value_str\"))\n",
    "\n",
    "# We need to extract the columns from the input JSON\n",
    "schema_columns = [(\"player_id\", \"string\"),\n",
    "                  (\"timestamp\", \"string\"),\n",
    "                  (\"device\", \"string\"),\n",
    "                  (\"action\", \"string\"),\n",
    "                  (\"location\", \"struct\"),\n",
    "                  (\"speed_m_s\", \"float\"),\n",
    "                  (\"battery_level\", \"float\")]\n",
    "pkg_schema = SparkUtils.generate_schema(schema_columns)\n",
    "vg_extracted_df = vg_telemetry_df.withColumn(\"player_id\", from_json(vg_telemetry_df.value_str, pkg_schema))\n",
    "\n",
    "# Extract the year, monht, and day from the timestamp column\n",
    "vg_extracted_time_df = vg_extracted_df.withColumn(\"year\", year(vg_extracted_df.timestamp)) \\\n",
    "                                      .withColumn(\"month\", month(vg_extracted_df.timestamp)) \\\n",
    "                                      .withColumn(\"day\", day(vg_extracted_df.timestamp))\n",
    "\n",
    "query_console = vg_extracted_time_df.writeStream \\\n",
    "                    .format(\"console\") \\\n",
    "                    .outputMode(\"append\") \\\n",
    "                    .start()\n",
    "\n",
    "query_console.awaitTermination(30)\n",
    "query_console.stop()\n",
    "                                        "
   ]
  },
  {
   "cell_type": "code",
   "execution_count": null,
   "metadata": {},
   "outputs": [],
   "source": [
    "# Finally, we send the stream to a files sink\n",
    "query_files = vg_extracted_time_df.writeStream \\\n",
    "                .trigger(processingTime=\"10 seconds\") \\      \n",
    "                .partitionBy(col(\"player_id\"), col(\"year\"), col(\"month\"), col(\"day\")) \\\n",
    "                .format(\"csv\") \\\n",
    "                .option(\"header\", \"true\") \\\n",
    "                .option(\"path\", \"/opt/workdir\")\n",
    "                .start()"
   ]
  },
  {
   "cell_type": "code",
   "execution_count": null,
   "metadata": {},
   "outputs": [],
   "source": [
    "sc.stop()"
   ]
  }
 ],
 "metadata": {
  "kernelspec": {
   "display_name": "Python 3 (ipykernel)",
   "language": "python",
   "name": "python3"
  },
  "language_info": {
   "codemirror_mode": {
    "name": "ipython",
    "version": 3
   },
   "file_extension": ".py",
   "mimetype": "text/x-python",
   "name": "python",
   "nbconvert_exporter": "python",
   "pygments_lexer": "ipython3",
   "version": "3.10.12"
  }
 },
 "nbformat": 4,
 "nbformat_minor": 4
}
