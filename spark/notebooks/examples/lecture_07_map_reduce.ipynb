{
 "cells": [
  {
   "cell_type": "markdown",
   "metadata": {},
   "source": [
    "# <center> <img src=\"../img/ITESOLogo.png\" alt=\"ITESO\" width=\"480\" height=\"130\"> </center>\n",
    "# <center> **Departamento de Electrónica, Sistemas e Informática** </center>\n",
    "---\n",
    "## <center> **Big Data** </center>\n",
    "---\n",
    "### <center> **Autumn 2025** </center>\n",
    "---\n",
    "### <center> **Examples on MapReduce with Apache Spark** </center>\n",
    "---\n",
    "**Profesor**: Pablo Camarillo Ramirez"
   ]
  },
  {
   "cell_type": "markdown",
   "metadata": {},
   "source": [
    "# Find the PySpark Installation"
   ]
  },
  {
   "cell_type": "code",
   "execution_count": 2,
   "metadata": {},
   "outputs": [],
   "source": [
    "import findspark\n",
    "findspark.init()"
   ]
  },
  {
   "cell_type": "markdown",
   "metadata": {},
   "source": [
    "# Create SparkSession"
   ]
  },
  {
   "cell_type": "code",
   "execution_count": 3,
   "metadata": {},
   "outputs": [
    {
     "name": "stderr",
     "output_type": "stream",
     "text": [
      "WARNING: Using incubator modules: jdk.incubator.vector\n",
      "Using Spark's default log4j profile: org/apache/spark/log4j2-defaults.properties\n",
      "Setting default log level to \"WARN\".\n",
      "To adjust logging level use sc.setLogLevel(newLevel). For SparkR, use setLogLevel(newLevel).\n",
      "25/09/10 05:35:04 WARN NativeCodeLoader: Unable to load native-hadoop library for your platform... using builtin-java classes where applicable\n"
     ]
    }
   ],
   "source": [
    "from pyspark.sql import SparkSession\n",
    "\n",
    "spark = SparkSession.builder \\\n",
    "    .appName(\"Examples on Map Reduce\") \\\n",
    "    .master(\"spark://2abf04f86c87:7077\") \\\n",
    "    .config(\"spark.ui.port\", \"4040\") \\\n",
    "    .getOrCreate()\n",
    "\n",
    "sc = spark.sparkContext\n",
    "sc.setLogLevel(\"ERROR\")"
   ]
  },
  {
   "cell_type": "markdown",
   "metadata": {},
   "source": [
    "# Example: Word counter\n",
    "## Create the RDD"
   ]
  },
  {
   "cell_type": "code",
   "execution_count": 10,
   "metadata": {},
   "outputs": [],
   "source": [
    "input = [\"Lorem\", \"ipsum\", \"dolor\", \"Lorem\", 53, 234.9345, 53]\n",
    "rdd_input = sc.parallelize(input)"
   ]
  },
  {
   "cell_type": "markdown",
   "metadata": {},
   "source": [
    "## Map Phase"
   ]
  },
  {
   "cell_type": "code",
   "execution_count": 11,
   "metadata": {},
   "outputs": [
    {
     "data": {
      "text/plain": [
       "[('Lorem', 1),\n",
       " ('ipsum', 1),\n",
       " ('dolor', 1),\n",
       " ('Lorem', 1),\n",
       " (53, 1),\n",
       " (234.9345, 1),\n",
       " (53, 1)]"
      ]
     },
     "execution_count": 11,
     "metadata": {},
     "output_type": "execute_result"
    }
   ],
   "source": [
    "rdd_map = rdd_input.map(lambda x: (x,1))\n",
    "rdd_map.collect()"
   ]
  },
  {
   "cell_type": "markdown",
   "metadata": {},
   "source": [
    "## Shuffle and Reduce Phases"
   ]
  },
  {
   "cell_type": "code",
   "execution_count": 12,
   "metadata": {},
   "outputs": [
    {
     "data": {
      "text/plain": [
       "[('Lorem', 2), ('ipsum', 1), (234.9345, 1), ('dolor', 1), (53, 2)]"
      ]
     },
     "execution_count": 12,
     "metadata": {},
     "output_type": "execute_result"
    }
   ],
   "source": [
    "rdd_reduced = rdd_map.reduceByKey(lambda x, y: x + y)\n",
    "rdd_reduced.collect()"
   ]
  },
  {
   "cell_type": "code",
   "execution_count": 13,
   "metadata": {},
   "outputs": [
    {
     "data": {
      "text/plain": [
       "[('fruit', 'apple'), ('fruit', 'banana'), ('vegetable', 'carrot')]"
      ]
     },
     "execution_count": 13,
     "metadata": {},
     "output_type": "execute_result"
    }
   ],
   "source": [
    "data = [\n",
    "('fruit', 'apple'),\n",
    "('fruit', 'banana'),\n",
    "('vegetable', 'carrot')\n",
    "]\n",
    "rdd = sc.parallelize(data)\n",
    "rdd.collect()"
   ]
  },
  {
   "cell_type": "code",
   "execution_count": 24,
   "metadata": {},
   "outputs": [
    {
     "name": "stdout",
     "output_type": "stream",
     "text": [
      "vegetable: ['carrot']\n",
      "fruit: ['apple', 'banana']\n"
     ]
    }
   ],
   "source": [
    "group_rdd = rdd.groupByKey()\n",
    "for k,v in group_rdd.collect():\n",
    "    print(f\"{k}: {list(v)}\")"
   ]
  },
  {
   "cell_type": "code",
   "execution_count": 44,
   "metadata": {},
   "outputs": [
    {
     "data": {
      "text/plain": [
       "defaultdict(int, {'apple': 3, 'banana': 2, 'orange': 3})"
      ]
     },
     "execution_count": 44,
     "metadata": {},
     "output_type": "execute_result"
    }
   ],
   "source": [
    "words = [\"apple\", \"banana\", \"apple\", \"orange\",\n",
    "\"banana\", \"apple\", \"orange\", \"orange\"]\n",
    "words_rdd = sc.parallelize(words)\n",
    "words_rdd.collect()\n",
    "words_rdd.countByValue()"
   ]
  },
  {
   "cell_type": "markdown",
   "metadata": {},
   "source": [
    "## Collect results"
   ]
  },
  {
   "cell_type": "markdown",
   "metadata": {},
   "source": [
    "# Example: Log Analysis\n",
    "## Create RDD"
   ]
  },
  {
   "cell_type": "code",
   "execution_count": 28,
   "metadata": {},
   "outputs": [
    {
     "data": {
      "text/plain": [
       "['u001,https://shop.example.com/,2025-09-09T12:03:14Z',\n",
       " 'u002,https://shop.example.com/product/42,2025-09-07T12:04:10Z',\n",
       " 'u001,https://shop.example.com/product/42,2025-09-07T12:07:55Z',\n",
       " 'u001,https://shop.example.com/,2025-09-07T12:03:14Z',\n",
       " 'u002,https://shop.example.com/product/42,2025-09-07T12:04:10Z',\n",
       " 'u001,https://shop.example.com/product/42,2025-09-07T12:07:55Z',\n",
       " 'u001,https://shop.example.com/,2025-09-07T12:03:14Z',\n",
       " 'u002,https://shop.example.com/product/42,2025-09-09T12:04:10Z',\n",
       " 'u001,https://shop.example.com/product/42,2025-09-07T12:07:55Z',\n",
       " 'u001,https://shop.example.com/,2025-09-07T12:03:14Z',\n",
       " 'u002,https://shop.example.com/product/42,2025-09-07T12:04:10Z',\n",
       " 'u001,https://shop.example.com/product/42,2025-09-09T12:07:55Z',\n",
       " 'u001,https://shop.example.com/,2025-09-07T12:03:14Z',\n",
       " 'u002,https://shop.example.com/product/42,2025-09-09T12:04:10Z',\n",
       " 'u001,https://shop.example.com/product/42,2025-09-07T12:07:55Z']"
      ]
     },
     "execution_count": 28,
     "metadata": {},
     "output_type": "execute_result"
    }
   ],
   "source": [
    "lines = sc.textFile(\"/opt/spark/work-dir/data/web_access2.log\")\n",
    "lines.collect()"
   ]
  },
  {
   "cell_type": "markdown",
   "metadata": {},
   "source": [
    "## Transform every line in a tuple"
   ]
  },
  {
   "cell_type": "code",
   "execution_count": 29,
   "metadata": {},
   "outputs": [
    {
     "data": {
      "text/plain": [
       "[('u001', 'https://shop.example.com/', '2025-09-09T12:03:14Z'),\n",
       " ('u002', 'https://shop.example.com/product/42', '2025-09-07T12:04:10Z'),\n",
       " ('u001', 'https://shop.example.com/product/42', '2025-09-07T12:07:55Z'),\n",
       " ('u001', 'https://shop.example.com/', '2025-09-07T12:03:14Z'),\n",
       " ('u002', 'https://shop.example.com/product/42', '2025-09-07T12:04:10Z'),\n",
       " ('u001', 'https://shop.example.com/product/42', '2025-09-07T12:07:55Z'),\n",
       " ('u001', 'https://shop.example.com/', '2025-09-07T12:03:14Z'),\n",
       " ('u002', 'https://shop.example.com/product/42', '2025-09-09T12:04:10Z'),\n",
       " ('u001', 'https://shop.example.com/product/42', '2025-09-07T12:07:55Z'),\n",
       " ('u001', 'https://shop.example.com/', '2025-09-07T12:03:14Z'),\n",
       " ('u002', 'https://shop.example.com/product/42', '2025-09-07T12:04:10Z'),\n",
       " ('u001', 'https://shop.example.com/product/42', '2025-09-09T12:07:55Z'),\n",
       " ('u001', 'https://shop.example.com/', '2025-09-07T12:03:14Z'),\n",
       " ('u002', 'https://shop.example.com/product/42', '2025-09-09T12:04:10Z'),\n",
       " ('u001', 'https://shop.example.com/product/42', '2025-09-07T12:07:55Z')]"
      ]
     },
     "execution_count": 29,
     "metadata": {},
     "output_type": "execute_result"
    }
   ],
   "source": [
    "from pcamarillor.spark_utils import parse_line\n",
    "records = lines.map(parse_line)\n",
    "records.collect()"
   ]
  },
  {
   "cell_type": "markdown",
   "metadata": {},
   "source": [
    "## Filter data from yesterday"
   ]
  },
  {
   "cell_type": "code",
   "execution_count": 33,
   "metadata": {},
   "outputs": [
    {
     "data": {
      "text/plain": [
       "'2025-09-07'"
      ]
     },
     "execution_count": 33,
     "metadata": {},
     "output_type": "execute_result"
    }
   ],
   "source": [
    "from datetime import datetime, timezone, timedelta\n",
    "from pcamarillor.spark_utils import is_yesterday, to_domain\n",
    "yesterday = (datetime.now(timezone.utc).date() - timedelta(days=3)).isoformat()\n",
    "yesterday"
   ]
  },
  {
   "cell_type": "code",
   "execution_count": 34,
   "metadata": {},
   "outputs": [
    {
     "data": {
      "text/plain": [
       "[('u002', 'https://shop.example.com/product/42', '2025-09-07T12:04:10Z'),\n",
       " ('u001', 'https://shop.example.com/product/42', '2025-09-07T12:07:55Z'),\n",
       " ('u001', 'https://shop.example.com/', '2025-09-07T12:03:14Z'),\n",
       " ('u002', 'https://shop.example.com/product/42', '2025-09-07T12:04:10Z'),\n",
       " ('u001', 'https://shop.example.com/product/42', '2025-09-07T12:07:55Z'),\n",
       " ('u001', 'https://shop.example.com/', '2025-09-07T12:03:14Z'),\n",
       " ('u001', 'https://shop.example.com/product/42', '2025-09-07T12:07:55Z'),\n",
       " ('u001', 'https://shop.example.com/', '2025-09-07T12:03:14Z'),\n",
       " ('u002', 'https://shop.example.com/product/42', '2025-09-07T12:04:10Z'),\n",
       " ('u001', 'https://shop.example.com/', '2025-09-07T12:03:14Z'),\n",
       " ('u001', 'https://shop.example.com/product/42', '2025-09-07T12:07:55Z')]"
      ]
     },
     "execution_count": 34,
     "metadata": {},
     "output_type": "execute_result"
    }
   ],
   "source": [
    "y_records = records.filter(lambda record: is_yesterday(record[2], yesterday))\n",
    "y_records.collect()"
   ]
  },
  {
   "cell_type": "markdown",
   "metadata": {},
   "source": [
    "## Reduce by domain, user"
   ]
  },
  {
   "cell_type": "code",
   "execution_count": 35,
   "metadata": {},
   "outputs": [
    {
     "data": {
      "text/plain": [
       "[(('shop.example.com', 'u002'), 1),\n",
       " (('shop.example.com', 'u001'), 1),\n",
       " (('shop.example.com', 'u001'), 1),\n",
       " (('shop.example.com', 'u002'), 1),\n",
       " (('shop.example.com', 'u001'), 1),\n",
       " (('shop.example.com', 'u001'), 1),\n",
       " (('shop.example.com', 'u001'), 1),\n",
       " (('shop.example.com', 'u001'), 1),\n",
       " (('shop.example.com', 'u002'), 1),\n",
       " (('shop.example.com', 'u001'), 1),\n",
       " (('shop.example.com', 'u001'), 1)]"
      ]
     },
     "execution_count": 35,
     "metadata": {},
     "output_type": "execute_result"
    }
   ],
   "source": [
    "domain_user_ones = y_records.map(lambda record: ((to_domain(record[1]), record[0]), 1))\n",
    "domain_user_ones.collect()"
   ]
  },
  {
   "cell_type": "code",
   "execution_count": null,
   "metadata": {},
   "outputs": [],
   "source": []
  },
  {
   "cell_type": "code",
   "execution_count": 36,
   "metadata": {},
   "outputs": [
    {
     "data": {
      "text/plain": [
       "[(('shop.example.com', 'u001'), 1), (('shop.example.com', 'u002'), 1)]"
      ]
     },
     "execution_count": 36,
     "metadata": {},
     "output_type": "execute_result"
    }
   ],
   "source": [
    "unique_domain_user = domain_user_ones.reduceByKey(lambda a, b: 1)\n",
    "unique_domain_user.collect()"
   ]
  },
  {
   "cell_type": "code",
   "execution_count": null,
   "metadata": {},
   "outputs": [],
   "source": []
  },
  {
   "cell_type": "markdown",
   "metadata": {},
   "source": [
    "## Count unique users per domain"
   ]
  },
  {
   "cell_type": "code",
   "execution_count": 37,
   "metadata": {},
   "outputs": [
    {
     "data": {
      "text/plain": [
       "[('shop.example.com', 2)]"
      ]
     },
     "execution_count": 37,
     "metadata": {},
     "output_type": "execute_result"
    }
   ],
   "source": [
    "domain_ones = unique_domain_user.map(lambda kv: (kv[0][0], 1))\n",
    "unique_visitors_per_domain = domain_ones.reduceByKey(lambda a, b: a + b)\n",
    "unique_visitors_per_domain.collect()"
   ]
  },
  {
   "cell_type": "markdown",
   "metadata": {},
   "source": [
    "# Get results"
   ]
  },
  {
   "cell_type": "code",
   "execution_count": 38,
   "metadata": {},
   "outputs": [
    {
     "data": {
      "text/plain": [
       "[('shop.example.com', 2)]"
      ]
     },
     "execution_count": 38,
     "metadata": {},
     "output_type": "execute_result"
    }
   ],
   "source": [
    "result = unique_visitors_per_domain.collect()\n",
    "result"
   ]
  },
  {
   "cell_type": "markdown",
   "metadata": {},
   "source": [
    "# Close SparkContext"
   ]
  },
  {
   "cell_type": "code",
   "execution_count": 39,
   "metadata": {},
   "outputs": [],
   "source": [
    "sc.stop()"
   ]
  },
  {
   "cell_type": "code",
   "execution_count": 42,
   "metadata": {},
   "outputs": [
    {
     "name": "stdout",
     "output_type": "stream",
     "text": [
      "Arantxa -> Temperatures from Celsius to Fahrenheit\n",
      "Daniel ->  Extract Timestamps\n",
      "Francisco -> Counting words\n",
      "Ivan ->  Extract Timestamps\n",
      "Xavier ->  Extract Timestamps\n",
      "Mateo -> Temperatures from Celsius to Fahrenheit\n",
      "Luis ->  Extract Timestamps\n",
      "Joss ->  Extract Timestamps\n",
      "Rodrigo ->  Extract Timestamps\n",
      "Eduardo ->  Extract Timestamps\n",
      "Roberto -> Temperatures from Celsius to Fahrenheit\n",
      "Fernando -> Temperatures from Celsius to Fahrenheit\n",
      "Andre ->  Extract Timestamps\n",
      "Renata -> Temperatures from Celsius to Fahrenheit\n"
     ]
    }
   ],
   "source": [
    "import random\n",
    "names = [\n",
    "    \"Arantxa\",\n",
    "    \"Daniel\",\n",
    "    \"Francisco\",\n",
    "    \"Ivan\",\n",
    "    \"Xavier\",\n",
    "    \"Mateo\",\n",
    "    \"Luis\",\n",
    "    \"Joss\",\n",
    "    \"Rodrigo\",\n",
    "    \"Eduardo\",\n",
    "    \"Roberto\",\n",
    "    \"Fernando\",\n",
    "    \"Andre\",\n",
    "    \"Renata\"\n",
    "]\n",
    "\n",
    "\n",
    "problems = [\"Temperatures from Celsius to Fahrenheit\", \" Extract Timestamps\", \"Counting words\"]\n",
    "assignments = {student: random.choice(problems) for student in names}\n",
    "for s, p in assignments.items():\n",
    "    print(f\"{s} -> {p}\")"
   ]
  },
  {
   "attachments": {
    "217f7662-e731-4f8c-b9c6-e2d36c05f803.png": {
     "image/png": "[encoded data removed]"
    }
   },
   "cell_type": "markdown",
   "metadata": {},
   "source": [
    "![image.png](attachment:217f7662-e731-4f8c-b9c6-e2d36c05f803.png)"
   ]
  },
  {
   "cell_type": "code",
   "execution_count": 7,
   "metadata": {},
   "outputs": [],
   "source": [
    "logs = [\n",
    "\"2023-10-01 12:00:00 INFO: System started\",\n",
    "\"2023-10-01 12:05:00 ERROR: Disk full\",\n",
    "\"2023-10-01 12:10:00 INFO: Backup completed\"\n",
    "]\n",
    "rdd = sc.parallelize(logs)"
   ]
  },
  {
   "cell_type": "code",
   "execution_count": 8,
   "metadata": {},
   "outputs": [
    {
     "name": "stdout",
     "output_type": "stream",
     "text": [
      "Extracted Timestamps: ['12:00:00', '12:05:00', '12:10:00']\n"
     ]
    },
    {
     "name": "stderr",
     "output_type": "stream",
     "text": [
      "                                                                                "
     ]
    }
   ],
   "source": [
    "timestamps_rdd = rdd.map(lambda log_line: log_line.split(' ')[1])\n",
    "\n",
    "extracted_timestamps = timestamps_rdd.collect()\n",
    "\n",
    "print(f\"Extracted Timestamps: {extracted_timestamps}\")"
   ]
  },
  {
   "cell_type": "code",
   "execution_count": null,
   "metadata": {},
   "outputs": [],
   "source": []
  }
 ],
 "metadata": {
  "kernelspec": {
   "display_name": "Python 3 (ipykernel)",
   "language": "python",
   "name": "python3"
  },
  "language_info": {
   "codemirror_mode": {
    "name": "ipython",
    "version": 3
   },
   "file_extension": ".py",
   "mimetype": "text/x-python",
   "name": "python",
   "nbconvert_exporter": "python",
   "pygments_lexer": "ipython3",
   "version": "3.10.12"
  }
 },
 "nbformat": 4,
 "nbformat_minor": 4
}
