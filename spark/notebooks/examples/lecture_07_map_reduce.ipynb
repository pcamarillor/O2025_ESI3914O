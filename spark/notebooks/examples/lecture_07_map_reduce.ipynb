{
 "cells": [
  {
   "cell_type": "markdown",
   "metadata": {},
   "source": [
    "# <center> <img src=\"../img/ITESOLogo.png\" alt=\"ITESO\" width=\"480\" height=\"130\"> </center>\n",
    "# <center> **Departamento de Electrónica, Sistemas e Informática** </center>\n",
    "---\n",
    "## <center> **Big Data** </center>\n",
    "---\n",
    "### <center> **Autumn 2025** </center>\n",
    "---\n",
    "### <center> **Examples on MapReduce with Apache Spark** </center>\n",
    "---\n",
    "**Profesor**: Pablo Camarillo Ramirez"
   ]
  },
  {
   "cell_type": "markdown",
   "metadata": {},
   "source": [
    "# Find the PySpark Installation"
   ]
  },
  {
   "cell_type": "code",
   "execution_count": 1,
   "metadata": {},
   "outputs": [],
   "source": [
    "import findspark\n",
    "findspark.init()"
   ]
  },
  {
   "cell_type": "markdown",
   "metadata": {},
   "source": [
    "# Create SparkSession"
   ]
  },
  {
   "cell_type": "code",

   "metadata": {},
   "outputs": [
    {
     "name": "stderr",
     "output_type": "stream",
     "text": [
      "WARNING: Using incubator modules: jdk.incubator.vector\n",
      "Using Spark's default log4j profile: org/apache/spark/log4j2-defaults.properties\n",
      "Setting default log level to \"WARN\".\n",
      "To adjust logging level use sc.setLogLevel(newLevel). For SparkR, use setLogLevel(newLevel).\n",
      "25/09/10 01:29:31 WARN NativeCodeLoader: Unable to load native-hadoop library for your platform... using builtin-java classes where applicable\n"
     ]
    }
   ],
   "source": [
    "from pyspark.sql import SparkSession\n",
    "\n",
    "spark = SparkSession.builder \\\n",
    "    .appName(\"Examples on Map Reduce\") \\\n",
<<<<<<< HEAD
    "    .master(\"spark://spark-spark-master-1:7077\") \\\n",
=======
    "    .master(\"spark://a8d253fcd1c5:7077\") \\\n",
>>>>>>> 09c65552784ef2809ab22b33bd68599b210da6b8
    "    .config(\"spark.ui.port\", \"4040\") \\\n",
    "    .getOrCreate()\n",
    "\n",
    "sc = spark.sparkContext\n",
    "sc.setLogLevel(\"ERROR\")\n"
   ]
  },
  {
   "cell_type": "markdown",
   "metadata": {},
   "source": [
    "# Example: Word counter\n",
    "## Create the RDD"
   ]
  },
  {
   "cell_type": "code",
<<<<<<< HEAD
   "execution_count": 2,
=======
   "execution_count": 10,
>>>>>>> 09c65552784ef2809ab22b33bd68599b210da6b8
   "metadata": {},
   "outputs": [],
   "source": [
    "input = [\"Lorem\", \"ipsum\", \"dolor\", \"Lorem\", 53, 234.9345, 53]\n",
    "rdd_input = sc.parallelize(input)"
   ]
  },
  {
   "cell_type": "code",
   "execution_count": 4,
   "metadata": {},
   "outputs": [
    {
     "name": "stdout",
     "output_type": "stream",
     "text": [
      "['Lorem', 'ipsum', 'dolor', 'Lorem']\n"
     ]
    }
   ],
   "source": [
    "print(rdd_input.collect())\n"
   ]
  },
  {
   "cell_type": "code",
   "execution_count": 5,
   "metadata": {},
   "outputs": [
    {
     "name": "stderr",
     "output_type": "stream",
     "text": [
      "[Stage 2:>                                                          (0 + 1) / 2]"
     ]
    },
    {
     "name": "stdout",
     "output_type": "stream",
     "text": [
      "Extracted Timestamps: ['12:00:00', '12:05:00', '12:10:00']\n"
     ]
    },
    {
     "name": "stderr",
     "output_type": "stream",
     "text": [
      "                                                                                "
     ]
    }
   ],
   "source": [
    "logs = [\n",
    "    \"2023-10-01 12:00:00 INFO: System started\",\n",
    "    \"2023-10-01 12:05:00 ERROR: Disk full\",\n",
    "    \"2023-10-01 12:10:00 INFO: Backup completed\"\n",
    "]\n",
    "\n",
    "rdd = sc.parallelize(logs)\n",
    "\n",
    "# Extract the time portion from each line\n",
    "timestamps = rdd.map(lambda line: line.split()[1]).collect()\n",
    "\n",
    "print(\"Extracted Timestamps:\", timestamps)\n"
   ]
  },
  {
   "attachments": {
    "21e73d9b-071a-4015-ab64-a48422bc30e8.png": {
     "image/png": "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"
    }
   },
   "cell_type": "markdown",
   "metadata": {},
   "source": [
    "![image.png](attachment:21e73d9b-071a-4015-ab64-a48422bc30e8.png)"
   ]
  },
  {
   "cell_type": "markdown",
   "metadata": {},
   "source": [
    "## Map Phase"
   ]
  },
  {
   "cell_type": "code",
   "execution_count": 11,
   "metadata": {},
   "outputs": [
    {
     "data": {
      "text/plain": [
       "[('Lorem', 1),\n",
       " ('ipsum', 1),\n",
       " ('dolor', 1),\n",
       " ('Lorem', 1),\n",
       " (53, 1),\n",
       " (234.9345, 1),\n",
       " (53, 1)]"
      ]
     },
     "execution_count": 11,
     "metadata": {},
     "output_type": "execute_result"
    }
   ],
   "source": [
    "rdd_map = rdd_input.map(lambda x: (x,1))\n",
    "rdd_map.collect()"
   ]
  },
  {
   "cell_type": "markdown",
   "metadata": {},
   "source": [
    "## Shuffle and Reduce Phases"
   ]
  },
  {
   "cell_type": "code",
   "execution_count": 12,
   "metadata": {},
   "outputs": [
    {
     "data": {
      "text/plain": [
       "[('Lorem', 2), ('ipsum', 1), (234.9345, 1), ('dolor', 1), (53, 2)]"
      ]
     },
     "execution_count": 12,
     "metadata": {},
     "output_type": "execute_result"
    }
   ],
   "source": [
    "rdd_reduced = rdd_map.reduceByKey(lambda x, y: x + y)\n",
    "rdd_reduced.collect()"
   ]
  },
  {
   "cell_type": "code",
   "execution_count": 13,
   "metadata": {},
   "outputs": [
    {
     "data": {
      "text/plain": [
       "[('fruit', 'apple'), ('fruit', 'banana'), ('vegetable', 'carrot')]"
      ]
     },
     "execution_count": 13,
     "metadata": {},
     "output_type": "execute_result"
    }
   ],
   "source": [
    "data = [\n",
    "('fruit', 'apple'),\n",
    "('fruit', 'banana'),\n",
    "('vegetable', 'carrot')\n",
    "]\n",
    "rdd = sc.parallelize(data)\n",
    "rdd.collect()"
   ]
  },
  {
   "cell_type": "code",
   "execution_count": 24,
   "metadata": {},
   "outputs": [
    {
     "name": "stdout",
     "output_type": "stream",
     "text": [
      "vegetable: ['carrot']\n",
      "fruit: ['apple', 'banana']\n"
     ]
    }
   ],
   "source": [
    "group_rdd = rdd.groupByKey()\n",
    "for k,v in group_rdd.collect():\n",
    "    print(f\"{k}: {list(v)}\")"
   ]
  },
  {
   "cell_type": "code",
   "execution_count": 44,
   "metadata": {},
   "outputs": [
    {
     "data": {
      "text/plain": [
       "defaultdict(int, {'apple': 3, 'banana': 2, 'orange': 3})"
      ]
     },
     "execution_count": 44,
     "metadata": {},
     "output_type": "execute_result"
    }
   ],
   "source": [
    "words = [\"apple\", \"banana\", \"apple\", \"orange\",\n",
    "\"banana\", \"apple\", \"orange\", \"orange\"]\n",
    "words_rdd = sc.parallelize(words)\n",
    "words_rdd.collect()\n",
    "words_rdd.countByValue()"
   ]
  },
  {
   "cell_type": "markdown",
   "metadata": {},
   "source": [
    "## Collect results"
   ]
  },
  {
   "cell_type": "markdown",
   "metadata": {},
   "source": [
    "# Example: Log Analysis\n",
    "## Create RDD"
   ]
  },
  {
   "cell_type": "code",
   "execution_count": 28,
   "metadata": {},
   "outputs": [
    {
     "data": {
      "text/plain": [
       "['u001,https://shop.example.com/,2025-09-09T12:03:14Z',\n",
       " 'u002,https://shop.example.com/product/42,2025-09-07T12:04:10Z',\n",
       " 'u001,https://shop.example.com/product/42,2025-09-07T12:07:55Z',\n",
       " 'u001,https://shop.example.com/,2025-09-07T12:03:14Z',\n",
       " 'u002,https://shop.example.com/product/42,2025-09-07T12:04:10Z',\n",
       " 'u001,https://shop.example.com/product/42,2025-09-07T12:07:55Z',\n",
       " 'u001,https://shop.example.com/,2025-09-07T12:03:14Z',\n",
       " 'u002,https://shop.example.com/product/42,2025-09-09T12:04:10Z',\n",
       " 'u001,https://shop.example.com/product/42,2025-09-07T12:07:55Z',\n",
       " 'u001,https://shop.example.com/,2025-09-07T12:03:14Z',\n",
       " 'u002,https://shop.example.com/product/42,2025-09-07T12:04:10Z',\n",
       " 'u001,https://shop.example.com/product/42,2025-09-09T12:07:55Z',\n",
       " 'u001,https://shop.example.com/,2025-09-07T12:03:14Z',\n",
       " 'u002,https://shop.example.com/product/42,2025-09-09T12:04:10Z',\n",
       " 'u001,https://shop.example.com/product/42,2025-09-07T12:07:55Z']"
      ]
     },
     "execution_count": 28,
     "metadata": {},
     "output_type": "execute_result"
    }
   ],
   "source": [
    "lines = sc.textFile(\"/opt/spark/work-dir/data/web_access2.log\")\n",
    "lines.collect()"
   ]
  },
  {
   "cell_type": "markdown",
   "metadata": {},
   "source": [
    "## Transform every line in a tuple"
   ]
  },
  {
   "cell_type": "code",
   "execution_count": 29,
   "metadata": {},
   "outputs": [
    {
     "data": {
      "text/plain": [
       "[('u001', 'https://shop.example.com/', '2025-09-09T12:03:14Z'),\n",
       " ('u002', 'https://shop.example.com/product/42', '2025-09-07T12:04:10Z'),\n",
       " ('u001', 'https://shop.example.com/product/42', '2025-09-07T12:07:55Z'),\n",
       " ('u001', 'https://shop.example.com/', '2025-09-07T12:03:14Z'),\n",
       " ('u002', 'https://shop.example.com/product/42', '2025-09-07T12:04:10Z'),\n",
       " ('u001', 'https://shop.example.com/product/42', '2025-09-07T12:07:55Z'),\n",
       " ('u001', 'https://shop.example.com/', '2025-09-07T12:03:14Z'),\n",
       " ('u002', 'https://shop.example.com/product/42', '2025-09-09T12:04:10Z'),\n",
       " ('u001', 'https://shop.example.com/product/42', '2025-09-07T12:07:55Z'),\n",
       " ('u001', 'https://shop.example.com/', '2025-09-07T12:03:14Z'),\n",
       " ('u002', 'https://shop.example.com/product/42', '2025-09-07T12:04:10Z'),\n",
       " ('u001', 'https://shop.example.com/product/42', '2025-09-09T12:07:55Z'),\n",
       " ('u001', 'https://shop.example.com/', '2025-09-07T12:03:14Z'),\n",
       " ('u002', 'https://shop.example.com/product/42', '2025-09-09T12:04:10Z'),\n",
       " ('u001', 'https://shop.example.com/product/42', '2025-09-07T12:07:55Z')]"
      ]
     },
     "execution_count": 29,
     "metadata": {},
     "output_type": "execute_result"
    }
   ],
   "source": [
    "from pcamarillor.spark_utils import parse_line\n",
    "records = lines.map(parse_line)\n",
    "records.collect()"
   ]
  },
  {
   "cell_type": "markdown",
   "metadata": {},
   "source": [
    "## Filter data from yesterday"
   ]
  },
  {
   "cell_type": "code",
   "execution_count": 33,
   "metadata": {},
   "outputs": [
    {
     "data": {
      "text/plain": [
       "'2025-09-07'"
      ]
     },
     "execution_count": 33,
     "metadata": {},
     "output_type": "execute_result"
    }
   ],
   "source": [
    "from datetime import datetime, timezone, timedelta\n",
    "from pcamarillor.spark_utils import is_yesterday, to_domain\n",
    "yesterday = (datetime.now(timezone.utc).date() - timedelta(days=3)).isoformat()\n",
    "yesterday"
   ]
  },
  {
   "cell_type": "code",
   "execution_count": 34,
   "metadata": {},
   "outputs": [
    {
     "data": {
      "text/plain": [
       "[('u002', 'https://shop.example.com/product/42', '2025-09-07T12:04:10Z'),\n",
       " ('u001', 'https://shop.example.com/product/42', '2025-09-07T12:07:55Z'),\n",
       " ('u001', 'https://shop.example.com/', '2025-09-07T12:03:14Z'),\n",
       " ('u002', 'https://shop.example.com/product/42', '2025-09-07T12:04:10Z'),\n",
       " ('u001', 'https://shop.example.com/product/42', '2025-09-07T12:07:55Z'),\n",
       " ('u001', 'https://shop.example.com/', '2025-09-07T12:03:14Z'),\n",
       " ('u001', 'https://shop.example.com/product/42', '2025-09-07T12:07:55Z'),\n",
       " ('u001', 'https://shop.example.com/', '2025-09-07T12:03:14Z'),\n",
       " ('u002', 'https://shop.example.com/product/42', '2025-09-07T12:04:10Z'),\n",
       " ('u001', 'https://shop.example.com/', '2025-09-07T12:03:14Z'),\n",
       " ('u001', 'https://shop.example.com/product/42', '2025-09-07T12:07:55Z')]"
      ]
     },
     "execution_count": 34,
     "metadata": {},
     "output_type": "execute_result"
    }
   ],
   "source": [
    "y_records = records.filter(lambda record: is_yesterday(record[2], yesterday))\n",
    "y_records.collect()"
   ]
  },
  {
   "cell_type": "markdown",
   "metadata": {},
   "source": [
    "## Reduce by domain, user"
   ]
  },
  {
   "cell_type": "code",
   "execution_count": 35,
   "metadata": {},
   "outputs": [
    {
     "data": {
      "text/plain": [
       "[(('shop.example.com', 'u002'), 1),\n",
       " (('shop.example.com', 'u001'), 1),\n",
       " (('shop.example.com', 'u001'), 1),\n",
       " (('shop.example.com', 'u002'), 1),\n",
       " (('shop.example.com', 'u001'), 1),\n",
       " (('shop.example.com', 'u001'), 1),\n",
       " (('shop.example.com', 'u001'), 1),\n",
       " (('shop.example.com', 'u001'), 1),\n",
       " (('shop.example.com', 'u002'), 1),\n",
       " (('shop.example.com', 'u001'), 1),\n",
       " (('shop.example.com', 'u001'), 1)]"
      ]
     },
     "execution_count": 35,
     "metadata": {},
     "output_type": "execute_result"
    }
   ],
   "source": [
    "domain_user_ones = y_records.map(lambda record: ((to_domain(record[1]), record[0]), 1))\n",
    "domain_user_ones.collect()"
   ]
  },
  {
   "cell_type": "code",
   "execution_count": null,
   "metadata": {},
   "outputs": [],
   "source": []
  },
  {
   "cell_type": "code",
   "execution_count": 36,
   "metadata": {},
   "outputs": [
    {
     "data": {
      "text/plain": [
       "[(('shop.example.com', 'u001'), 1), (('shop.example.com', 'u002'), 1)]"
      ]
     },
     "execution_count": 36,
     "metadata": {},
     "output_type": "execute_result"
    }
   ],
   "source": [
    "unique_domain_user = domain_user_ones.reduceByKey(lambda a, b: 1)\n",
    "unique_domain_user.collect()"
   ]
  },
  {
   "cell_type": "code",
   "execution_count": null,
   "metadata": {},
   "outputs": [],
   "source": []
  },
  {
   "cell_type": "markdown",
   "metadata": {},
   "source": [
    "## Count unique users per domain"
   ]
  },
  {
   "cell_type": "code",
   "execution_count": 37,
   "metadata": {},
   "outputs": [
    {
     "data": {
      "text/plain": [
       "[('shop.example.com', 2)]"
      ]
     },
     "execution_count": 37,
     "metadata": {},
     "output_type": "execute_result"
    }
   ],
   "source": [
    "domain_ones = unique_domain_user.map(lambda kv: (kv[0][0], 1))\n",
    "unique_visitors_per_domain = domain_ones.reduceByKey(lambda a, b: a + b)\n",
    "unique_visitors_per_domain.collect()"
   ]
  },
  {
   "cell_type": "markdown",
   "metadata": {},
   "source": [
    "# Get results"
   ]
  },
  {
   "cell_type": "code",
   "execution_count": 38,
   "metadata": {},
   "outputs": [
    {
     "data": {
      "text/plain": [
       "[('shop.example.com', 2)]"
      ]
     },
     "execution_count": 38,
     "metadata": {},
     "output_type": "execute_result"
    }
   ],
   "source": [
    "result = unique_visitors_per_domain.collect()\n",
    "result"
   ]
  },
  {
   "cell_type": "markdown",
   "metadata": {},
   "source": [
    "# Close SparkContext"
   ]
  },
  {
   "cell_type": "code",
   "execution_count": 39,
   "metadata": {},
   "outputs": [],
   "source": [
    "sc.stop()"
   ]
  },
  {
   "cell_type": "code",
   "execution_count": 42,
   "metadata": {},
   "outputs": [
    {
     "name": "stdout",
     "output_type": "stream",
     "text": [
      "Arantxa -> Temperatures from Celsius to Fahrenheit\n",
      "Daniel ->  Extract Timestamps\n",
      "Francisco -> Counting words\n",
      "Ivan ->  Extract Timestamps\n",
      "Xavier ->  Extract Timestamps\n",
      "Mateo -> Temperatures from Celsius to Fahrenheit\n",
      "Luis ->  Extract Timestamps\n",
      "Joss ->  Extract Timestamps\n",
      "Rodrigo ->  Extract Timestamps\n",
      "Eduardo ->  Extract Timestamps\n",
      "Roberto -> Temperatures from Celsius to Fahrenheit\n",
      "Fernando -> Temperatures from Celsius to Fahrenheit\n",
      "Andre ->  Extract Timestamps\n",
      "Renata -> Temperatures from Celsius to Fahrenheit\n"
     ]
    }
   ],
   "source": [
    "import random\n",
    "names = [\n",
    "    \"Arantxa\",\n",
    "    \"Daniel\",\n",
    "    \"Francisco\",\n",
    "    \"Ivan\",\n",
    "    \"Xavier\",\n",
    "    \"Mateo\",\n",
    "    \"Luis\",\n",
    "    \"Joss\",\n",
    "    \"Rodrigo\",\n",
    "    \"Eduardo\",\n",
    "    \"Roberto\",\n",
    "    \"Fernando\",\n",
    "    \"Andre\",\n",
    "    \"Renata\"\n",
    "]\n",
    "\n",
    "\n",
    "problems = [\"Temperatures from Celsius to Fahrenheit\", \" Extract Timestamps\", \"Counting words\"]\n",
    "assignments = {student: random.choice(problems) for student in names}\n",
    "for s, p in assignments.items():\n",
    "    print(f\"{s} -> {p}\")"
   ]
  },
  {
   "attachments": {
    "217f7662-e731-4f8c-b9c6-e2d36c05f803.png": {
     "image/png": "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"
    }
   },
   "cell_type": "markdown",
   "metadata": {},
   "source": [
    "![image.png](attachment:217f7662-e731-4f8c-b9c6-e2d36c05f803.png)"
   ]
  },
  {
   "cell_type": "code",
   "execution_count": null,
   "metadata": {},
   "outputs": [],
   "source": []
  }
 ],
 "metadata": {
  "kernelspec": {
   "display_name": "Python 3 (ipykernel)",
   "language": "python",
   "name": "python3"
  },
  "language_info": {
   "codemirror_mode": {
    "name": "ipython",
    "version": 3
   },
   "file_extension": ".py",
   "mimetype": "text/x-python",
   "name": "python",
   "nbconvert_exporter": "python",
   "pygments_lexer": "ipython3",
   "version": "3.10.12"
  }
 },
 "nbformat": 4,
 "nbformat_minor": 4
}
