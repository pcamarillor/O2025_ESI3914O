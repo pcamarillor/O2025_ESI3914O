{
 "cells": [
  {
   "cell_type": "markdown",
   "metadata": {},
   "source": [
    "# <center> <img src=\"../img/ITESOLogo.png\" alt=\"ITESO\" width=\"480\" height=\"130\"> </center>\n",
    "# <center> **Departamento de Electrónica, Sistemas e Informática** </center>\n",
    "---\n",
    "## <center> **Big Data** </center>\n",
    "---\n",
    "### <center> **Autumn 2025** </center>\n",
    "---\n",
    "### <center> **Examples on Spark SQL** </center>\n",
    "---\n",
    "**Profesor**: Pablo Camarillo Ramirez"
   ]
  },
  {
   "cell_type": "markdown",
   "metadata": {},
   "source": [
    "# Find the PySpark Installation"
   ]
  },
  {
   "cell_type": "code",
   "execution_count": 1,
   "metadata": {},
   "outputs": [],
   "source": [
    "import findspark\n",
    "findspark.init()"
   ]
  },
  {
   "cell_type": "markdown",
   "metadata": {},
   "source": [
    "# Create SparkSession"
   ]
  },
  {
   "cell_type": "code",
   "execution_count": 2,
   "metadata": {},
   "outputs": [
    {
     "name": "stderr",
     "output_type": "stream",
     "text": [
      "WARNING: Using incubator modules: jdk.incubator.vector\n",
      "Using Spark's default log4j profile: org/apache/spark/log4j2-defaults.properties\n",
      "Setting default log level to \"WARN\".\n",
      "To adjust logging level use sc.setLogLevel(newLevel). For SparkR, use setLogLevel(newLevel).\n",
      "25/09/19 00:46:58 WARN NativeCodeLoader: Unable to load native-hadoop library for your platform... using builtin-java classes where applicable\n"
     ]
    }
   ],
   "source": [
    "from pyspark.sql import SparkSession\n",
    "\n",
    "spark = SparkSession.builder \\\n",
    "    .appName(\"Examples on SparkSQL\") \\\n",
    "    .master(\"spark://bb6818473482:7077\") \\\n",
    "    .config(\"spark.ui.port\", \"4040\") \\\n",
    "    .getOrCreate()\n",
    "\n",
    "sc = spark.sparkContext\n",
    "sc.setLogLevel(\"ERROR\")"
   ]
  },
  {
   "cell_type": "code",
   "execution_count": 3,
   "metadata": {},
   "outputs": [],
   "source": [
    "from pcamarillor.spark_utils import SparkUtils\n",
    "schema = SparkUtils.generate_schema([(\"name\", \"string\"), (\"age\", \"int\"), (\"city\", \"string\")])"
   ]
  },
  {
   "cell_type": "markdown",
   "metadata": {},
   "source": [
    "## Example: Smart Factory Sensor Data"
   ]
  },
  {
   "cell_type": "code",
   "execution_count": 4,
   "metadata": {},
   "outputs": [
    {
     "name": "stderr",
     "output_type": "stream",
     "text": [
      "[Stage 1:>                                                          (0 + 1) / 1]"
     ]
    },
    {
     "name": "stdout",
     "output_type": "stream",
     "text": [
      "+----------+-------------------+----+\n",
      "|machine_id|   sensor_timestamp|temp|\n",
      "+----------+-------------------+----+\n",
      "|      M001|2025-04-26 08:00:00|75.3|\n",
      "|      M002|2025-04-26 08:05:00|68.7|\n",
      "|      M001|2025-04-26 08:10:00|76.1|\n",
      "|      M003|2025-04-26 08:15:00|72.4|\n",
      "|      M002|2025-04-26 08:20:00|69.8|\n",
      "|      M001|2025-04-26 08:25:00|77.5|\n",
      "|      M003|2025-04-26 08:30:00|73.2|\n",
      "|      M002|2025-04-26 08:35:00|70.1|\n",
      "|      M001|2025-04-26 08:40:00|78.0|\n",
      "|      M003|2025-04-26 08:45:00|74.6|\n",
      "+----------+-------------------+----+\n",
      "\n"
     ]
    },
    {
     "name": "stderr",
     "output_type": "stream",
     "text": [
      "                                                                                "
     ]
    }
   ],
   "source": [
    "from datetime import datetime\n",
    "\n",
    "factory_data = [\n",
    "    (\"M001\", datetime(2025, 4, 26, 8, 0, 0), 75.3),\n",
    "    (\"M002\", datetime(2025, 4, 26, 8, 5, 0), 68.7),\n",
    "    (\"M001\", datetime(2025, 4, 26, 8, 10, 0), 76.1),\n",
    "    (\"M003\", datetime(2025, 4, 26, 8, 15, 0), 72.4),\n",
    "    (\"M002\", datetime(2025, 4, 26, 8, 20, 0), 69.8),\n",
    "    (\"M001\", datetime(2025, 4, 26, 8, 25, 0), 77.5),\n",
    "    (\"M003\", datetime(2025, 4, 26, 8, 30, 0), 73.2),\n",
    "    (\"M002\", datetime(2025, 4, 26, 8, 35, 0), 70.1),\n",
    "    (\"M001\", datetime(2025, 4, 26, 8, 40, 0), 78.0),\n",
    "    (\"M003\", datetime(2025, 4, 26, 8, 45, 0), 74.6),\n",
    "]\n",
    "\n",
    "factory_schema = SparkUtils.generate_schema([(\"machine_id\", \"string\"), (\"sensor_timestamp\", \"timestamp\"), (\"temp\", \"float\")])\n",
    "df_factory = spark.createDataFrame(factory_data, factory_schema)\n",
    "df_factory.show()"
   ]
  },
  {
   "cell_type": "markdown",
   "metadata": {},
   "source": [
    "### Explore the schema of the DataFrame"
   ]
  },
  {
   "cell_type": "code",
   "execution_count": 16,
   "metadata": {},
   "outputs": [
    {
     "name": "stdout",
     "output_type": "stream",
     "text": [
      "root\n",
      " |-- machine_id: string (nullable = true)\n",
      " |-- sensor_timestamp: timestamp (nullable = true)\n",
      " |-- temp: float (nullable = true)\n",
      "\n",
      "+----------+-----------------+\n",
      "|machine_id|        avg(temp)|\n",
      "+----------+-----------------+\n",
      "|      M002|69.53333282470703|\n",
      "|      M003|73.39999898274739|\n",
      "|      M001|76.72500038146973|\n",
      "+----------+-----------------+\n",
      "\n"
     ]
    }
   ],
   "source": [
    "from pyspark.sql.functions import col, avg, min, max\n",
    "df_factory.printSchema()\n",
    "df_factory.groupBy(col(\"machine_id\")).agg(avg(\"temp\")).show()"
   ]
  },
  {
   "cell_type": "markdown",
   "metadata": {},
   "source": [
    "### Get the average temperature per machine"
   ]
  },
  {
   "cell_type": "markdown",
   "metadata": {},
   "source": [
    "### Find the maximum and minimum temperature per machine"
   ]
  },
  {
   "cell_type": "code",
   "execution_count": 17,
   "metadata": {},
   "outputs": [
    {
     "name": "stdout",
     "output_type": "stream",
     "text": [
      "+----------+--------+--------+\n",
      "|machine_id|min_temp|max_temp|\n",
      "+----------+--------+--------+\n",
      "|      M002|    68.7|    70.1|\n",
      "|      M003|    72.4|    74.6|\n",
      "|      M001|    75.3|    78.0|\n",
      "+----------+--------+--------+\n",
      "\n"
     ]
    }
   ],
   "source": [
    "df_factory.groupBy(col(\"machine_id\")).agg(min(\"temp\").alias(\"min_temp\"), \n",
    "                                          max(\"temp\").alias(\"max_temp\")).show()"
   ]
  },
  {
   "cell_type": "markdown",
   "metadata": {},
   "source": [
    "### Filter records above a temperature threshold temp > 75)"
   ]
  },
  {
   "cell_type": "code",
   "execution_count": 7,
   "metadata": {},
   "outputs": [
    {
     "name": "stdout",
     "output_type": "stream",
     "text": [
      "+----------+-------------------+----+\n",
      "|machine_id|   sensor_timestamp|temp|\n",
      "+----------+-------------------+----+\n",
      "|      M001|2025-04-26 08:00:00|75.3|\n",
      "|      M001|2025-04-26 08:10:00|76.1|\n",
      "|      M001|2025-04-26 08:25:00|77.5|\n",
      "|      M001|2025-04-26 08:40:00|78.0|\n",
      "+----------+-------------------+----+\n",
      "\n"
     ]
    }
   ],
   "source": [
    "df_factory.filter(col(\"temp\") > 75).show()"
   ]
  },
  {
   "cell_type": "markdown",
   "metadata": {},
   "source": [
    "### Count of readings per machine"
   ]
  },
  {
   "cell_type": "code",
   "execution_count": 8,
   "metadata": {},
   "outputs": [
    {
     "name": "stdout",
     "output_type": "stream",
     "text": [
      "+----------+-----+\n",
      "|machine_id|count|\n",
      "+----------+-----+\n",
      "|      M002|    3|\n",
      "|      M003|    3|\n",
      "|      M001|    4|\n",
      "+----------+-----+\n",
      "\n"
     ]
    }
   ],
   "source": [
    "df_factory.groupBy(col(\"machine_id\")).count().show()"
   ]
  },
  {
   "cell_type": "markdown",
   "metadata": {},
   "source": [
    "### Machine with the highest temperature"
   ]
  },
  {
   "cell_type": "code",
   "execution_count": 10,
   "metadata": {},
   "outputs": [
    {
     "name": "stdout",
     "output_type": "stream",
     "text": [
      "+----------+-------------------+----+\n",
      "|machine_id|   sensor_timestamp|temp|\n",
      "+----------+-------------------+----+\n",
      "|      M001|2025-04-26 08:40:00|78.0|\n",
      "+----------+-------------------+----+\n",
      "\n"
     ]
    }
   ],
   "source": [
    "df_factory.orderBy(col(\"temp\"), ascending=False).limit(1).show()"
   ]
  },
  {
   "cell_type": "code",
   "execution_count": 18,
   "metadata": {},
   "outputs": [],
   "source": [
    "sc.stop()"
   ]
  },
  {
   "cell_type": "code",
   "execution_count": null,
   "metadata": {},
   "outputs": [],
   "source": []
  }
 ],
 "metadata": {
  "kernelspec": {
   "display_name": "Python 3 (ipykernel)",
   "language": "python",
   "name": "python3"
  },
  "language_info": {
   "codemirror_mode": {
    "name": "ipython",
    "version": 3
   },
   "file_extension": ".py",
   "mimetype": "text/x-python",
   "name": "python",
   "nbconvert_exporter": "python",
   "pygments_lexer": "ipython3",
   "version": "3.10.12"
  }
 },
 "nbformat": 4,
 "nbformat_minor": 4
}
