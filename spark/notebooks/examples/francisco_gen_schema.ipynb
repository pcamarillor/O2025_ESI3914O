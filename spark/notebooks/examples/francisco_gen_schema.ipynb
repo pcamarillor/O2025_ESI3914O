{
 "cells": [
  {
   "cell_type": "code",
   "execution_count": null,
   "id": "f6e5aaf8",
   "metadata": {},
   "outputs": [
    {
     "ename": "ModuleNotFoundError",
     "evalue": "No module named 'spark'",
     "output_type": "error",
     "traceback": [
      "\u001b[1;31m---------------------------------------------------------------------------\u001b[0m",
      "\u001b[1;31mModuleNotFoundError\u001b[0m                       Traceback (most recent call last)",
      "Cell \u001b[1;32mIn[5], line 2\u001b[0m\n\u001b[0;32m      1\u001b[0m \u001b[38;5;28;01mfrom\u001b[39;00m\u001b[38;5;250m \u001b[39m\u001b[38;5;21;01mpyspark\u001b[39;00m\u001b[38;5;21;01m.\u001b[39;00m\u001b[38;5;21;01msql\u001b[39;00m\u001b[38;5;250m \u001b[39m\u001b[38;5;28;01mimport\u001b[39;00m SparkSession\n\u001b[1;32m----> 2\u001b[0m \u001b[38;5;28;01mfrom\u001b[39;00m\u001b[38;5;250m \u001b[39m\u001b[38;5;21;01mspark\u001b[39;00m\u001b[38;5;21;01m.\u001b[39;00m\u001b[38;5;21;01mnotebooks\u001b[39;00m\u001b[38;5;21;01m.\u001b[39;00m\u001b[38;5;21;01mlib\u001b[39;00m\u001b[38;5;21;01m.\u001b[39;00m\u001b[38;5;21;01mFrankModule\u001b[39;00m\u001b[38;5;21;01m.\u001b[39;00m\u001b[38;5;21;01mspark_utils\u001b[39;00m\u001b[38;5;250m \u001b[39m\u001b[38;5;28;01mimport\u001b[39;00m SparkUtils\n\u001b[0;32m      4\u001b[0m \u001b[38;5;66;03m# 1. Crear sesión Spark\u001b[39;00m\n\u001b[0;32m      5\u001b[0m spark \u001b[38;5;241m=\u001b[39m SparkSession\u001b[38;5;241m.\u001b[39mbuilder\u001b[38;5;241m.\u001b[39mappName(\u001b[38;5;124m\"\u001b[39m\u001b[38;5;124mTestGenerateSchema\u001b[39m\u001b[38;5;124m\"\u001b[39m)\u001b[38;5;241m.\u001b[39mgetOrCreate()\n",
      "\u001b[1;31mModuleNotFoundError\u001b[0m: No module named 'spark'"
     ]
    }
   ],
   "source": [
    "\n",
    "from pyspark.sql import SparkSession\n",
    "from spark.notebooks.lib.FrankModule.spark_utils import SparkUtils\n",
    "\n",
    "# 1. Crear sesión Spark\n",
    "spark = SparkSession.builder.appName(\"TestGenerateSchema\").getOrCreate()\n",
    "\n",
    "# 2. Definir lista de columnas\n",
    "columns_info = [\n",
    "    (\"name\", \"string\"),\n",
    "    (\"age\", \"int\"),\n",
    "    (\"salary\", \"double\"),\n",
    "    (\"active\", \"boolean\")\n",
    "]\n",
    "\n",
    "# 3. Generar esquema\n",
    "schema = SparkUtils.generate_schema(columns_info)\n",
    "print(schema)\n",
    "\n",
    "# 4. Crear DataFrame de prueba\n",
    "data = [\n",
    "    (\"Nombre uno\", 30, 5000.5, True),\n",
    "    (\"Nombre dos\", 25, 4500.0, False),\n",
    "    (\"Nombre tres\", 22, 4600.0, True)\n",
    "]\n",
    "df = spark.createDataFrame(data, schema)\n",
    "\n",
    "# 5. Mostrar resultados\n",
    "df.printSchema()\n",
    "df.show()\n",
    "\n",
    "# 6. Probar error con tipo no soportado\n",
    "try:\n",
    "    bad_schema = SparkUtils.generate_schema([(\"id\", \"unsupportedType\")])\n",
    "except ValueError as e:\n",
    "    print(\"Error detectado:\", e)\n"
   ]
  }
 ],
 "metadata": {
  "kernelspec": {
   "display_name": "Python 3",
   "language": "python",
   "name": "python3"
  },
  "language_info": {
   "codemirror_mode": {
    "name": "ipython",
    "version": 3
   },
   "file_extension": ".py",
   "mimetype": "text/x-python",
   "name": "python",
   "nbconvert_exporter": "python",
   "pygments_lexer": "ipython3",
   "version": "3.12.10"
  }
 },
 "nbformat": 4,
 "nbformat_minor": 5
}
