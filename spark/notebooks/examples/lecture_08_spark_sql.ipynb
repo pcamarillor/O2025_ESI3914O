{
 "cells": [
  {
   "cell_type": "markdown",
   "metadata": {},
   "source": [
    "# <center> <img src=\"../img/ITESOLogo.png\" alt=\"ITESO\" width=\"480\" height=\"130\"> </center>\n",
    "# <center> **Departamento de Electrónica, Sistemas e Informática** </center>\n",
    "---\n",
    "## <center> **Big Data** </center>\n",
    "---\n",
    "### <center> **Autumn 2025** </center>\n",
    "---\n",
    "### <center> **Examples on Spark SQL** </center>\n",
    "---\n",
    "**Profesor**: Pablo Camarillo Ramirez\n",
    "**Alumno**: Luis Alberto González Escamilla"
   ]
  },
  {
   "cell_type": "markdown",
   "metadata": {},
   "source": [
    "# Find the PySpark Installation"
   ]
  },
  {
   "cell_type": "code",
   "execution_count": 1,
   "metadata": {},
   "outputs": [],
   "source": [
    "import findspark\n",
    "findspark.init()"
   ]
  },
  {
   "cell_type": "markdown",
   "metadata": {},
   "source": [
    "# Create SparkSession"
   ]
  },
  {
   "cell_type": "code",
   "execution_count": 2,
   "metadata": {},
   "outputs": [
    {
     "name": "stderr",
     "output_type": "stream",
     "text": [
      "WARNING: Using incubator modules: jdk.incubator.vector\n",
      "Using Spark's default log4j profile: org/apache/spark/log4j2-defaults.properties\n",
      "Setting default log level to \"WARN\".\n",
      "To adjust logging level use sc.setLogLevel(newLevel). For SparkR, use setLogLevel(newLevel).\n",
      "25/09/12 01:00:57 WARN NativeCodeLoader: Unable to load native-hadoop library for your platform... using builtin-java classes where applicable\n"
     ]
    }
   ],
   "source": [
    "from pyspark.sql import SparkSession\n",
    "\n",
    "spark = SparkSession.builder \\\n",
    "    .appName(\"Examples on SparkSQL\") \\\n",
    "    .master(\"spark://2abf04f86c87:7077\") \\\n",
    "    .config(\"spark.ui.port\", \"4040\") \\\n",
    "    .getOrCreate()\n",
    "\n",
    "sc = spark.sparkContext\n",
    "sc.setLogLevel(\"ERROR\")"
   ]
  },
  {
   "cell_type": "code",
   "execution_count": 10,
   "metadata": {},
   "outputs": [
    {
     "ename": "NotImplementedError",
     "evalue": "Not implemented yet",
     "output_type": "error",
     "traceback": [
      "\u001b[0;31m---------------------------------------------------------------------------\u001b[0m",
      "\u001b[0;31mNotImplementedError\u001b[0m                       Traceback (most recent call last)",
      "Cell \u001b[0;32mIn[10], line 2\u001b[0m\n\u001b[1;32m      1\u001b[0m \u001b[38;5;28;01mfrom\u001b[39;00m\u001b[38;5;250m \u001b[39m\u001b[38;5;21;01mpcamarillor\u001b[39;00m\u001b[38;5;21;01m.\u001b[39;00m\u001b[38;5;21;01mspark_utils\u001b[39;00m\u001b[38;5;250m \u001b[39m\u001b[38;5;28;01mimport\u001b[39;00m SparkUtils\n\u001b[0;32m----> 2\u001b[0m schema \u001b[38;5;241m=\u001b[39m \u001b[43mSparkUtils\u001b[49m\u001b[38;5;241;43m.\u001b[39;49m\u001b[43mgenerate_schema\u001b[49m\u001b[43m(\u001b[49m\u001b[43m[\u001b[49m\u001b[43m(\u001b[49m\u001b[38;5;124;43m\"\u001b[39;49m\u001b[38;5;124;43mname\u001b[39;49m\u001b[38;5;124;43m\"\u001b[39;49m\u001b[43m,\u001b[49m\u001b[43m \u001b[49m\u001b[38;5;124;43m\"\u001b[39;49m\u001b[38;5;124;43mstring\u001b[39;49m\u001b[38;5;124;43m\"\u001b[39;49m\u001b[43m)\u001b[49m\u001b[43m,\u001b[49m\u001b[43m \u001b[49m\u001b[43m(\u001b[49m\u001b[38;5;124;43m\"\u001b[39;49m\u001b[38;5;124;43mage\u001b[39;49m\u001b[38;5;124;43m\"\u001b[39;49m\u001b[43m,\u001b[49m\u001b[43m \u001b[49m\u001b[38;5;124;43m\"\u001b[39;49m\u001b[38;5;124;43mint\u001b[39;49m\u001b[38;5;124;43m\"\u001b[39;49m\u001b[43m)\u001b[49m\u001b[43m,\u001b[49m\u001b[43m \u001b[49m\u001b[43m(\u001b[49m\u001b[38;5;124;43m\"\u001b[39;49m\u001b[38;5;124;43mcity\u001b[39;49m\u001b[38;5;124;43m\"\u001b[39;49m\u001b[43m,\u001b[49m\u001b[43m \u001b[49m\u001b[38;5;124;43m\"\u001b[39;49m\u001b[38;5;124;43mstring\u001b[39;49m\u001b[38;5;124;43m\"\u001b[39;49m\u001b[43m)\u001b[49m\u001b[43m]\u001b[49m\u001b[43m)\u001b[49m\n",
      "File \u001b[0;32m/opt/spark/work-dir/lib/pcamarillor/spark_utils.py:24\u001b[0m, in \u001b[0;36mSparkUtils.generate_schema\u001b[0;34m(columns_info)\u001b[0m\n\u001b[1;32m     22\u001b[0m \u001b[38;5;129m@staticmethod\u001b[39m\n\u001b[1;32m     23\u001b[0m \u001b[38;5;28;01mdef\u001b[39;00m\u001b[38;5;250m \u001b[39m\u001b[38;5;21mgenerate_schema\u001b[39m(columns_info) \u001b[38;5;241m-\u001b[39m\u001b[38;5;241m>\u001b[39m StructType:\n\u001b[0;32m---> 24\u001b[0m     \u001b[38;5;28;01mraise\u001b[39;00m \u001b[38;5;167;01mNotImplementedError\u001b[39;00m(\u001b[38;5;124m\"\u001b[39m\u001b[38;5;124mNot implemented yet\u001b[39m\u001b[38;5;124m\"\u001b[39m)\n",
      "\u001b[0;31mNotImplementedError\u001b[0m: Not implemented yet"
     ]
    }
   ],
   "source": [
    "from pcamarillor.spark_utils import SparkUtils\n",
    "schema = SparkUtils.generate_schema([(\"name\", \"string\"), (\"age\", \"int\"), (\"city\", \"string\")])"
   ]
  },
  {
   "cell_type": "markdown",
   "metadata": {},
   "source": [
    "## Example: Smart Factory Sensor Data"
   ]
  },
  {
   "cell_type": "code",
   "execution_count": 5,
   "metadata": {},
   "outputs": [
    {
     "ename": "NotImplementedError",
     "evalue": "Not implemented yet",
     "output_type": "error",
     "traceback": [
      "\u001b[0;31m---------------------------------------------------------------------------\u001b[0m",
      "\u001b[0;31mNotImplementedError\u001b[0m                       Traceback (most recent call last)",
      "Cell \u001b[0;32mIn[5], line 16\u001b[0m\n\u001b[1;32m      1\u001b[0m \u001b[38;5;28;01mfrom\u001b[39;00m\u001b[38;5;250m \u001b[39m\u001b[38;5;21;01mdatetime\u001b[39;00m\u001b[38;5;250m \u001b[39m\u001b[38;5;28;01mimport\u001b[39;00m datetime\n\u001b[1;32m      3\u001b[0m factory_data \u001b[38;5;241m=\u001b[39m [\n\u001b[1;32m      4\u001b[0m     (\u001b[38;5;124m\"\u001b[39m\u001b[38;5;124mM001\u001b[39m\u001b[38;5;124m\"\u001b[39m, datetime(\u001b[38;5;241m2025\u001b[39m, \u001b[38;5;241m4\u001b[39m, \u001b[38;5;241m26\u001b[39m, \u001b[38;5;241m8\u001b[39m, \u001b[38;5;241m0\u001b[39m, \u001b[38;5;241m0\u001b[39m), \u001b[38;5;241m75.3\u001b[39m),\n\u001b[1;32m      5\u001b[0m     (\u001b[38;5;124m\"\u001b[39m\u001b[38;5;124mM002\u001b[39m\u001b[38;5;124m\"\u001b[39m, datetime(\u001b[38;5;241m2025\u001b[39m, \u001b[38;5;241m4\u001b[39m, \u001b[38;5;241m26\u001b[39m, \u001b[38;5;241m8\u001b[39m, \u001b[38;5;241m5\u001b[39m, \u001b[38;5;241m0\u001b[39m), \u001b[38;5;241m68.7\u001b[39m),\n\u001b[0;32m   (...)\u001b[0m\n\u001b[1;32m     13\u001b[0m     (\u001b[38;5;124m\"\u001b[39m\u001b[38;5;124mM003\u001b[39m\u001b[38;5;124m\"\u001b[39m, datetime(\u001b[38;5;241m2025\u001b[39m, \u001b[38;5;241m4\u001b[39m, \u001b[38;5;241m26\u001b[39m, \u001b[38;5;241m8\u001b[39m, \u001b[38;5;241m45\u001b[39m, \u001b[38;5;241m0\u001b[39m), \u001b[38;5;241m74.6\u001b[39m),\n\u001b[1;32m     14\u001b[0m ]\n\u001b[0;32m---> 16\u001b[0m factory_schema \u001b[38;5;241m=\u001b[39m \u001b[43mSparkUtils\u001b[49m\u001b[38;5;241;43m.\u001b[39;49m\u001b[43mgenerate_schema\u001b[49m\u001b[43m(\u001b[49m\u001b[43m[\u001b[49m\u001b[43m(\u001b[49m\u001b[38;5;124;43m\"\u001b[39;49m\u001b[38;5;124;43mmachine_id\u001b[39;49m\u001b[38;5;124;43m\"\u001b[39;49m\u001b[43m,\u001b[49m\u001b[43m \u001b[49m\u001b[38;5;124;43m\"\u001b[39;49m\u001b[38;5;124;43mstring\u001b[39;49m\u001b[38;5;124;43m\"\u001b[39;49m\u001b[43m)\u001b[49m\u001b[43m,\u001b[49m\u001b[43m \u001b[49m\u001b[43m(\u001b[49m\u001b[38;5;124;43m\"\u001b[39;49m\u001b[38;5;124;43msenso2abf04f86c87r_timestamp\u001b[39;49m\u001b[38;5;124;43m\"\u001b[39;49m\u001b[43m,\u001b[49m\u001b[43m \u001b[49m\u001b[38;5;124;43m\"\u001b[39;49m\u001b[38;5;124;43mtimestamp\u001b[39;49m\u001b[38;5;124;43m\"\u001b[39;49m\u001b[43m)\u001b[49m\u001b[43m,\u001b[49m\u001b[43m \u001b[49m\u001b[43m(\u001b[49m\u001b[38;5;124;43m\"\u001b[39;49m\u001b[38;5;124;43mtemp\u001b[39;49m\u001b[38;5;124;43m\"\u001b[39;49m\u001b[43m,\u001b[49m\u001b[43m \u001b[49m\u001b[38;5;124;43m\"\u001b[39;49m\u001b[38;5;124;43mfloat\u001b[39;49m\u001b[38;5;124;43m\"\u001b[39;49m\u001b[43m)\u001b[49m\u001b[43m]\u001b[49m\u001b[43m)\u001b[49m\n\u001b[1;32m     17\u001b[0m df_factory \u001b[38;5;241m=\u001b[39m spark\u001b[38;5;241m.\u001b[39mcreateDataFrame(factory_data, factory_schema)\n\u001b[1;32m     18\u001b[0m df_factory\u001b[38;5;241m.\u001b[39mshow()\n",
      "File \u001b[0;32m/opt/spark/work-dir/lib/pcamarillor/spark_utils.py:24\u001b[0m, in \u001b[0;36mSparkUtils.generate_schema\u001b[0;34m(columns_info)\u001b[0m\n\u001b[1;32m     22\u001b[0m \u001b[38;5;129m@staticmethod\u001b[39m\n\u001b[1;32m     23\u001b[0m \u001b[38;5;28;01mdef\u001b[39;00m\u001b[38;5;250m \u001b[39m\u001b[38;5;21mgenerate_schema\u001b[39m(columns_info) \u001b[38;5;241m-\u001b[39m\u001b[38;5;241m>\u001b[39m StructType:\n\u001b[0;32m---> 24\u001b[0m     \u001b[38;5;28;01mraise\u001b[39;00m \u001b[38;5;167;01mNotImplementedError\u001b[39;00m(\u001b[38;5;124m\"\u001b[39m\u001b[38;5;124mNot implemented yet\u001b[39m\u001b[38;5;124m\"\u001b[39m)\n",
      "\u001b[0;31mNotImplementedError\u001b[0m: Not implemented yet"
     ]
    }
   ],
   "source": [
    "from datetime import datetime\n",
    "\n",
    "factory_data = [\n",
    "    (\"M001\", datetime(2025, 4, 26, 8, 0, 0), 75.3),\n",
    "    (\"M002\", datetime(2025, 4, 26, 8, 5, 0), 68.7),\n",
    "    (\"M001\", datetime(2025, 4, 26, 8, 10, 0), 76.1),\n",
    "    (\"M003\", datetime(2025, 4, 26, 8, 15, 0), 72.4),\n",
    "    (\"M002\", datetime(2025, 4, 26, 8, 20, 0), 69.8),\n",
    "    (\"M001\", datetime(2025, 4, 26, 8, 25, 0), 77.5),\n",
    "    (\"M003\", datetime(2025, 4, 26, 8, 30, 0), 73.2),\n",
    "    (\"M002\", datetime(2025, 4, 26, 8, 35, 0), 70.1),\n",
    "    (\"M001\", datetime(2025, 4, 26, 8, 40, 0), 78.0),\n",
    "    (\"M003\", datetime(2025, 4, 26, 8, 45, 0), 74.6),\n",
    "]\n",
    "\n",
    "factory_schema = SparkUtils.generate_schema([(\"machine_id\", \"string\"), (\"senso2abf04f86c87r_timestamp\", \"timestamp\"), (\"temp\", \"float\")])\n",
    "df_factory = spark.createDataFrame(factory_data, factory_schema)\n",
    "df_factory.show()"
   ]
  },
  {
   "cell_type": "code",
   "execution_count": 9,
   "metadata": {},
   "outputs": [
    {
     "name": "stdout",
     "output_type": "stream",
     "text": [
      "StructType([StructField('username', StringType(), True), StructField('age', IntegerType(), True), StructField('is_member', BooleanType(), True), StructField('last_login', TimestampType(), True)])\n"
     ]
    }
   ],
   "source": [
    "from luis_gonzalez.spark_utils import SparkUtils\n",
    "\n",
    "my_columns = [\n",
    "    (\"username\", \"StringType\"),\n",
    "    (\"age\", \"IntegerType\"),\n",
    "    (\"is_member\", \"BooleanType\"),\n",
    "    (\"last_login\", \"TimestampType\")\n",
    "]\n",
    "\n",
    "try:\n",
    "    user_schema = SparkUtils.generate_schema(my_columns)\n",
    "    print(user_schema)\n",
    "\n",
    "except ValueError as e:\n",
    "    print(e)"
   ]
  },
  {
   "cell_type": "code",
   "execution_count": null,
   "metadata": {},
   "outputs": [],
   "source": [
    "sc.stop()"
   ]
  }
 ],
 "metadata": {
  "kernelspec": {
   "display_name": "Python 3 (ipykernel)",
   "language": "python",
   "name": "python3"
  },
  "language_info": {
   "codemirror_mode": {
    "name": "ipython",
    "version": 3
   },
   "file_extension": ".py",
   "mimetype": "text/x-python",
   "name": "python",
   "nbconvert_exporter": "python",
   "pygments_lexer": "ipython3",
   "version": "3.10.12"
  }
 },
 "nbformat": 4,
 "nbformat_minor": 4
}
