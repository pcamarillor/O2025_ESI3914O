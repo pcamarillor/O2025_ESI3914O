{
 "cells": [
  {
   "cell_type": "code",
   "execution_count": 1,
   "id": "d6be0fbf-743c-4eff-8057-f12ad0802ef7",
   "metadata": {},
   "outputs": [
    {
     "name": "stderr",
     "output_type": "stream",
     "text": [
      "WARNING: Using incubator modules: jdk.incubator.vector\n",
      "Using Spark's default log4j profile: org/apache/spark/log4j2-defaults.properties\n",
      "Setting default log level to \"WARN\".\n",
      "To adjust logging level use sc.setLogLevel(newLevel). For SparkR, use setLogLevel(newLevel).\n",
      "25/09/12 02:29:30 WARN NativeCodeLoader: Unable to load native-hadoop library for your platform... using builtin-java classes where applicable\n"
     ]
    },
    {
     "data": {
      "text/html": [
       "\n",
       "            <div>\n",
       "                <p><b>SparkSession - in-memory</b></p>\n",
       "                \n",
       "        <div>\n",
       "            <p><b>SparkContext</b></p>\n",
       "\n",
       "            <p><a href=\"http://85766adc7b69:4040\">Spark UI</a></p>\n",
       "\n",
       "            <dl>\n",
       "              <dt>Version</dt>\n",
       "                <dd><code>v4.0.0</code></dd>\n",
       "              <dt>Master</dt>\n",
       "                <dd><code>local[*]</code></dd>\n",
       "              <dt>AppName</dt>\n",
       "                <dd><code>SchemaTest</code></dd>\n",
       "            </dl>\n",
       "        </div>\n",
       "        \n",
       "            </div>\n",
       "        "
      ],
      "text/plain": [
       "<pyspark.sql.session.SparkSession at 0x76f6dd09e530>"
      ]
     },
     "execution_count": 1,
     "metadata": {},
     "output_type": "execute_result"
    }
   ],
   "source": [
    "import findspark\n",
    "findspark.init()\n",
    "\n",
    "from pyspark.sql import SparkSession\n",
    "\n",
    "# Crear sesión Spark\n",
    "spark = SparkSession.builder \\\n",
    "    .appName(\"SchemaTest\") \\\n",
    "    .getOrCreate()\n",
    "\n",
    "spark"
   ]
  },
  {
   "cell_type": "code",
   "execution_count": 2,
   "id": "0be269b1-8cc7-4707-a2d6-00cba5ca51e6",
   "metadata": {},
   "outputs": [],
   "source": [
    "import sys\n",
    "sys.path.append(\"spark/notebooks/lib/AndreModule\")\n",
    "from AndreModule.spark_utils import SchemaGenerator\n",
    "generator = SchemaGenerator()\n"
   ]
  },
  {
   "cell_type": "code",
   "execution_count": 3,
   "id": "0fdbfc8c-4b52-4a80-9484-3df0e984c028",
   "metadata": {},
   "outputs": [
    {
     "name": "stdout",
     "output_type": "stream",
     "text": [
      "Schema generado:\n",
      "struct<nombre:string,edad:int,salario:double,activo:boolean>\n"
     ]
    }
   ],
   "source": [
    "from pyspark.sql.types import StructType, StringType, IntegerType, DoubleType, BooleanType, DateType, TimestampType\n",
    "\n",
    "#Columnas de prueba\n",
    "columns = [\n",
    "    (\"nombre\", \"StringType\"),\n",
    "    (\"edad\", \"IntegerType\"),\n",
    "    (\"salario\", \"DoubleType\"),\n",
    "    (\"activo\", \"BooleanType\")\n",
    "]\n",
    "\n",
    "#Generar schema usando la clase que hice\n",
    "schema = generator.generate_schema(columns)\n",
    "\n",
    "print(\"Schema generado:\")\n",
    "print(schema.simpleString())\n"
   ]
  },
  {
   "cell_type": "code",
   "execution_count": 4,
   "id": "908f0913-6f7e-415e-bc8f-846569708156",
   "metadata": {},
   "outputs": [
    {
     "name": "stderr",
     "output_type": "stream",
     "text": [
      "                                                                                "
     ]
    },
    {
     "name": "stdout",
     "output_type": "stream",
     "text": [
      "+------+----+--------+------+\n",
      "|nombre|edad| salario|activo|\n",
      "+------+----+--------+------+\n",
      "| Andre|  24|55000.25|  true|\n",
      "+------+----+--------+------+\n",
      "\n",
      "root\n",
      " |-- nombre: string (nullable = true)\n",
      " |-- edad: integer (nullable = true)\n",
      " |-- salario: double (nullable = true)\n",
      " |-- activo: boolean (nullable = true)\n",
      "\n"
     ]
    }
   ],
   "source": [
    "data = [\n",
    "    (\"Andre\", 24, 55000.25, True)\n",
    "    \n",
    "]\n",
    "\n",
    "df = spark.createDataFrame(data, schema=schema)\n",
    "df.show()\n",
    "df.printSchema()"
   ]
  },
  {
   "cell_type": "code",
   "execution_count": null,
   "id": "ace251f5-5ed7-4458-a5a6-64e59fd3cacf",
   "metadata": {},
   "outputs": [],
   "source": []
  }
 ],
 "metadata": {
  "kernelspec": {
   "display_name": "Python 3 (ipykernel)",
   "language": "python",
   "name": "python3"
  },
  "language_info": {
   "codemirror_mode": {
    "name": "ipython",
    "version": 3
   },
   "file_extension": ".py",
   "mimetype": "text/x-python",
   "name": "python",
   "nbconvert_exporter": "python",
   "pygments_lexer": "ipython3",
   "version": "3.10.12"
  }
 },
 "nbformat": 4,
 "nbformat_minor": 5
}
