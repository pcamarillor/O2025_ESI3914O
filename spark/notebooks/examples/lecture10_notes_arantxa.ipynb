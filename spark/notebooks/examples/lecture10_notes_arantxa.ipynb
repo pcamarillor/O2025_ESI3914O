{
 "cells": [
  {
   "cell_type": "code",
   "execution_count": 2,
   "id": "059453cc-d6bc-4352-815c-5643cf9da114",
   "metadata": {},
   "outputs": [],
   "source": [
    "import findspark\n",
    "findspark.init()"
   ]
  },
  {
   "cell_type": "code",
   "execution_count": 3,
   "id": "7e0763d0-aa86-4bfe-a02f-9268eca92359",
   "metadata": {},
   "outputs": [
    {
     "name": "stderr",
     "output_type": "stream",
     "text": [
      "WARNING: Using incubator modules: jdk.incubator.vector\n",
      "Using Spark's default log4j profile: org/apache/spark/log4j2-defaults.properties\n",
      "Setting default log level to \"WARN\".\n",
      "To adjust logging level use sc.setLogLevel(newLevel). For SparkR, use setLogLevel(newLevel).\n",
      "25/09/24 00:37:34 WARN NativeCodeLoader: Unable to load native-hadoop library for your platform... using builtin-java classes where applicable\n"
     ]
    }
   ],
   "source": [
    "from pyspark.sql import SparkSession\n",
    "\n",
    "spark = SparkSession.builder \\\n",
    "    .appName(\"Examples on data sources (Files)\") \\\n",
    "    .master(\"spark://bb6818473482:7077\") \\\n",
    "    .config(\"spark.ui.port\", \"4040\") \\\n",
    "    .getOrCreate()\n",
    "\n",
    "sc = spark.sparkContext\n",
    "sc.setLogLevel(\"ERROR\")"
   ]
  },
  {
   "cell_type": "code",
   "execution_count": 9,
   "id": "a301059f-f659-42c6-a375-cddd169964a8",
   "metadata": {},
   "outputs": [
    {
     "name": "stdout",
     "output_type": "stream",
     "text": [
      "+---+--------------------------------------------------------------------------------------------------------+\n",
      "|id |json_col                                                                                                |\n",
      "+---+--------------------------------------------------------------------------------------------------------+\n",
      "|1  |{\"name\": \"Alice\", \"age\": 25, \"payments\": [34, 433, 54], \"address\": {\"city\": \"New York\", \"zip\": \"10001\"}}|\n",
      "|2  |{\"name\": \"Bob\", \"age\": 30, \"address\": {\"city\": \"Los Angeles\", \"zip\": \"90001\"}}                          |\n",
      "|3  |{\"name\": \"Charlie\", \"age\": 35, \"address\": {\"city\": \"Chicago\", \"zip\": \"60601\"}}                          |\n",
      "+---+--------------------------------------------------------------------------------------------------------+\n",
      "\n"
     ]
    }
   ],
   "source": [
    "from arantxa.spark_utils import SparkUtils\n",
    "json_schema = SparkUtils.generate_schema([(\"id\", \"int\"), (\"json_col\", \"string\")])\n",
    "json_data = [\n",
    "    (1, '{\"name\": \"Alice\", \"age\": 25, \"payments\": [34, 433, 54], \"address\": {\"city\": \"New York\", \"zip\": \"10001\"}}'),\n",
    "    (2, '{\"name\": \"Bob\", \"age\": 30, \"address\": {\"city\": \"Los Angeles\", \"zip\": \"90001\"}}'),\n",
    "    (3, '{\"name\": \"Charlie\", \"age\": 35, \"address\": {\"city\": \"Chicago\", \"zip\": \"60601\"}}')\n",
    "]\n",
    "\n",
    "df_json = spark.createDataFrame(json_data, json_schema)\n",
    "df_json.show(truncate=False)"
   ]
  },
  {
   "cell_type": "code",
   "execution_count": 5,
   "id": "b5d2a995-62a6-492c-a18c-c7eaed3acfc3",
   "metadata": {},
   "outputs": [
    {
     "name": "stdout",
     "output_type": "stream",
     "text": [
      "+---+--------------------+-------+\n",
      "| id|            json_col|   name|\n",
      "+---+--------------------+-------+\n",
      "|  1|{\"name\": \"Alice\",...|  Alice|\n",
      "|  2|{\"name\": \"Bob\", \"...|    Bob|\n",
      "|  3|{\"name\": \"Charlie...|Charlie|\n",
      "+---+--------------------+-------+\n",
      "\n"
     ]
    }
   ],
   "source": [
    "from pyspark.sql.functions import get_json_object\n",
    "df_json = df_json.withColumn(\"name\", get_json_object(df_json.json_col, \"$.name\"))\n",
    "df_json.show()"
   ]
  },
  {
   "cell_type": "code",
   "execution_count": 6,
   "id": "44260e08-e1f1-4782-9d9a-ddc8a6ca0c1d",
   "metadata": {},
   "outputs": [
    {
     "name": "stdout",
     "output_type": "stream",
     "text": [
      "+---+--------------------+-------+---+\n",
      "| id|            json_col|   name|age|\n",
      "+---+--------------------+-------+---+\n",
      "|  1|{\"name\": \"Alice\",...|  Alice| 25|\n",
      "|  2|{\"name\": \"Bob\", \"...|    Bob| 30|\n",
      "|  3|{\"name\": \"Charlie...|Charlie| 35|\n",
      "+---+--------------------+-------+---+\n",
      "\n"
     ]
    }
   ],
   "source": [
    "df_json = df_json.withColumn(\"age\", get_json_object(df_json.json_col, \"$.age\"))\n",
    "df_json.show()"
   ]
  },
  {
   "cell_type": "code",
   "execution_count": 10,
   "id": "20a8ba11-2e66-4b9c-983a-3a5ce803e68d",
   "metadata": {},
   "outputs": [
    {
     "name": "stdout",
     "output_type": "stream",
     "text": [
      "root\n",
      " |-- id: integer (nullable = true)\n",
      " |-- json_col: string (nullable = true)\n",
      " |-- parsed: struct (nullable = true)\n",
      " |    |-- name: string (nullable = true)\n",
      " |    |-- age: integer (nullable = true)\n",
      " |    |-- payments: array (nullable = true)\n",
      " |    |    |-- element: integer (containsNull = true)\n",
      " |    |-- address: struct (nullable = true)\n",
      "\n",
      "+---+--------------------------------------------------------------------------------------------------------+------------------------------+\n",
      "|id |json_col                                                                                                |parsed                        |\n",
      "+---+--------------------------------------------------------------------------------------------------------+------------------------------+\n",
      "|1  |{\"name\": \"Alice\", \"age\": 25, \"payments\": [34, 433, 54], \"address\": {\"city\": \"New York\", \"zip\": \"10001\"}}|{Alice, 25, [34, 433, 54], {}}|\n",
      "|2  |{\"name\": \"Bob\", \"age\": 30, \"address\": {\"city\": \"Los Angeles\", \"zip\": \"90001\"}}                          |{Bob, 30, NULL, {}}           |\n",
      "|3  |{\"name\": \"Charlie\", \"age\": 35, \"address\": {\"city\": \"Chicago\", \"zip\": \"60601\"}}                          |{Charlie, 35, NULL, {}}       |\n",
      "+---+--------------------------------------------------------------------------------------------------------+------------------------------+\n",
      "\n"
     ]
    }
   ],
   "source": [
    "from pyspark.sql.functions import from_json\n",
    "# Deine the schema of the JSON object\n",
    "people_schema = SparkUtils.generate_schema([(\"name\", \"string\"),\n",
    "                                            (\"age\", \"int\"),\n",
    "                                            (\"payments\", \"array_int\"),\n",
    "                                            (\"address\", \"struct\")])\n",
    "df_parsed = df_json.withColumn(\"parsed\", from_json(df_json.json_col, people_schema))\n",
    "df_parsed.printSchema()\n",
    "df_parsed.show(truncate=False)"
   ]
  },
  {
   "cell_type": "code",
   "execution_count": 11,
   "id": "c915616e-8cd9-43df-b4cf-83a2e509f7da",
   "metadata": {},
   "outputs": [
    {
     "name": "stdout",
     "output_type": "stream",
     "text": [
      "root\n",
      " |-- id: integer (nullable = true)\n",
      " |-- json_col: string (nullable = true)\n",
      " |-- parsed: struct (nullable = true)\n",
      " |    |-- name: string (nullable = true)\n",
      " |    |-- age: integer (nullable = true)\n",
      " |    |-- payments: array (nullable = true)\n",
      " |    |    |-- element: integer (containsNull = true)\n",
      " |    |-- address: struct (nullable = true)\n",
      "\n"
     ]
    }
   ],
   "source": [
    "df_parsed.printSchema()"
   ]
  },
  {
   "cell_type": "code",
   "execution_count": 12,
   "id": "a1c944dc-96de-4d62-aafe-485e8f353786",
   "metadata": {},
   "outputs": [
    {
     "name": "stdout",
     "output_type": "stream",
     "text": [
      "+-------+------------------+\n",
      "|   name|parsed.payments[1]|\n",
      "+-------+------------------+\n",
      "|  Alice|               433|\n",
      "|    Bob|              NULL|\n",
      "|Charlie|              NULL|\n",
      "+-------+------------------+\n",
      "\n"
     ]
    }
   ],
   "source": [
    "from pyspark.sql.functions import col\n",
    "df_parsed.select(col(\"parsed.name\"), col(\"parsed.payments\").getItem(1)).show()"
   ]
  },
  {
   "cell_type": "code",
   "execution_count": 14,
   "id": "86d33878-94c7-44f2-9df2-b2701bcc13f2",
   "metadata": {},
   "outputs": [
    {
     "name": "stdout",
     "output_type": "stream",
     "text": [
      "+---+-----+\n",
      "| id| name|\n",
      "+---+-----+\n",
      "|  1|Alice|\n",
      "|  2|  Bob|\n",
      "+---+-----+\n",
      "\n",
      "+---+-------+\n",
      "| id|   name|\n",
      "+---+-------+\n",
      "|  3|Charlie|\n",
      "|  4|  David|\n",
      "+---+-------+\n",
      "\n",
      "+---+-------+\n",
      "| id|   name|\n",
      "+---+-------+\n",
      "|  1|  Alice|\n",
      "|  2|    Bob|\n",
      "|  3|Charlie|\n",
      "|  4|  David|\n",
      "+---+-------+\n",
      "\n"
     ]
    }
   ],
   "source": [
    "df_a = spark.createDataFrame([(1, \"Alice\"), (2, \"Bob\")],\n",
    "                              [\"id\", \"name\"])\n",
    "df_a.show()\n",
    "df_b = spark.createDataFrame([(3, \"Charlie\"), (4, \"David\")],\n",
    "                              [\"id\", \"name\"])\n",
    "df_b.show()\n",
    "result = df_a.union(df_b)\n",
    "result.show()"
   ]
  },
  {
   "cell_type": "code",
   "execution_count": 15,
   "id": "2fec47fb-ea2a-46d5-8a2e-cf8cf01e506a",
   "metadata": {},
   "outputs": [],
   "source": [
    "sc.stop()"
   ]
  },
  {
   "cell_type": "code",
   "execution_count": null,
   "id": "4ae59c3d-3a95-4c57-91f9-6c0ce66f1927",
   "metadata": {},
   "outputs": [],
   "source": []
  }
 ],
 "metadata": {
  "kernelspec": {
   "display_name": "Python 3 (ipykernel)",
   "language": "python",
   "name": "python3"
  },
  "language_info": {
   "codemirror_mode": {
    "name": "ipython",
    "version": 3
   },
   "file_extension": ".py",
   "mimetype": "text/x-python",
   "name": "python",
   "nbconvert_exporter": "python",
   "pygments_lexer": "ipython3",
   "version": "3.10.12"
  }
 },
 "nbformat": 4,
 "nbformat_minor": 5
}
