{
 "cells": [
  {
   "cell_type": "code",
   "execution_count": 2,
   "id": "a4587642-2fc7-49cd-9129-22284a4426e0",
   "metadata": {},
   "outputs": [],
   "source": [
    "import findspark"
   ]
  },
  {
   "cell_type": "code",
   "execution_count": 3,
   "id": "c8a60caa-e145-4e52-894f-0be6ccfe24b4",
   "metadata": {},
   "outputs": [],
   "source": [
    "findspark.init()"
   ]
  },
  {
   "cell_type": "code",
   "execution_count": 4,
   "id": "8988de40-a931-4fef-becd-b740a12d0936",
   "metadata": {},
   "outputs": [],
   "source": [
    "from pyspark.sql import SparkSession"
   ]
  },
  {
   "cell_type": "code",
   "execution_count": 9,
   "id": "5ffb1356-6a30-41fa-87ad-6a73018c8945",
   "metadata": {},
   "outputs": [
    {
     "name": "stderr",
     "output_type": "stream",
     "text": [
      "WARNING: Using incubator modules: jdk.incubator.vector\n",
      "Using Spark's default log4j profile: org/apache/spark/log4j2-defaults.properties\n",
      "Setting default log level to \"WARN\".\n",
      "To adjust logging level use sc.setLogLevel(newLevel). For SparkR, use setLogLevel(newLevel).\n",
      "25/09/05 01:31:54 WARN NativeCodeLoader: Unable to load native-hadoop library for your platform... using builtin-java classes where applicable\n"
     ]
    }
   ],
   "source": [
    "spark = SparkSession.builder \\\n",
    "        .appName(\"1st Spark Session\") \\\n",
    "        .master(\"spark://f285a81360d4:7077\") \\\n",
    "        .config(\"spark.ui.port\", \"4040\") \\\n",
    "        .getOrCreate()"
   ]
  },
  {
   "cell_type": "code",
   "execution_count": 10,
   "id": "2e9376fa-e322-4276-a2d0-c626d8bc7e21",
   "metadata": {},
   "outputs": [],
   "source": [
    "sc = spark.sparkContext\n",
    "sc.setLogLevel(\"ERROR\")"
   ]
  },
  {
   "cell_type": "code",
   "execution_count": 11,
   "id": "d10eca3c-63af-4efe-96a1-582efe6a8c6e",
   "metadata": {},
   "outputs": [],
   "source": [
    "# Create an RDD from a list of numbers\n",
    "data = [1,2,3,4,5]\n",
    "rdd = sc.parallelize(data)"
   ]
  },
  {
   "cell_type": "code",
   "execution_count": 12,
   "id": "a47e1c5b-e30e-4ed6-9e6a-41210d186c19",
   "metadata": {},
   "outputs": [],
   "source": [
    "# Compute the squares of each number using map transformation\n",
    "squares_rdd = rdd.map(lambda x: x**2)"
   ]
  },
  {
   "cell_type": "code",
   "execution_count": 13,
   "id": "afe6c0b3-5c80-455d-acaa-ecf71ee50e8c",
   "metadata": {},
   "outputs": [
    {
     "name": "stderr",
     "output_type": "stream",
     "text": [
      "[Stage 0:>                                                          (0 + 1) / 2]"
     ]
    },
    {
     "name": "stdout",
     "output_type": "stream",
     "text": [
      "Squares of the numbers: [1, 4, 9, 16, 25]\n"
     ]
    },
    {
     "name": "stderr",
     "output_type": "stream",
     "text": [
      "                                                                                "
     ]
    }
   ],
   "source": [
    "# Collect the results to a list and print them\n",
    "squares = squares_rdd.collect()\n",
    "print(\"Squares of the numbers:\", squares)"
   ]
  },
  {
   "cell_type": "code",
   "execution_count": 14,
   "id": "48ec21cf-6d61-4df1-9b58-19e25b76191b",
   "metadata": {},
   "outputs": [],
   "source": [
    "# Stop the sparkContext (free memory)\n",
    "sc.stop() "
   ]
  },
  {
   "cell_type": "code",
   "execution_count": null,
   "id": "42c5b4a8-1e6b-4714-83ed-4fe2fb4847b3",
   "metadata": {},
   "outputs": [],
   "source": []
  }
 ],
 "metadata": {
  "kernelspec": {
   "display_name": "Python 3 (ipykernel)",
   "language": "python",
   "name": "python3"
  },
  "language_info": {
   "codemirror_mode": {
    "name": "ipython",
    "version": 3
   },
   "file_extension": ".py",
   "mimetype": "text/x-python",
   "name": "python",
   "nbconvert_exporter": "python",
   "pygments_lexer": "ipython3",
   "version": "3.10.12"
  }
 },
 "nbformat": 4,
 "nbformat_minor": 5
}
