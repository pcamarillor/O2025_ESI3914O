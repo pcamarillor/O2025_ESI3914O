{
 "cells": [
  {
   "cell_type": "code",
   "execution_count": 4,
   "id": "072d9b2a-bd99-4ab1-b3bf-a2efa93971d0",
   "metadata": {},
   "outputs": [],
   "source": [
    "import findspark\n",
    "findspark.init()\n",
    "from mateogarcial.spark_utils import SparkUtils\n",
    "schema_definition = [\n",
    "        (\"name\", \"stringtype\"),\n",
    "        (\"age\", \"integertype\"),\n",
    "        (\"city\", \"StringType\"),\n",
    "        (\"is_student\", \"booleantype\"),\n",
    "        (\"gpa\", \"floattype\"),\n",
    "        (\"registration_date\", \"DateType\")\n",
    "    ]"
   ]
  },
  {
   "cell_type": "code",
   "execution_count": 5,
   "id": "dc11fb83-22f8-4b4b-bbce-bbdd90dfa960",
   "metadata": {},
   "outputs": [
    {
     "name": "stdout",
     "output_type": "stream",
     "text": [
      "Successfully generated schema:\n",
      "StructType([StructField('name', StringType(), True), StructField('age', IntegerType(), True), StructField('city', StringType(), True), StructField('is_student', BooleanType(), True), StructField('gpa', FloatType(), True), StructField('registration_date', DateType(), True)])\n",
      "\n",
      "Schema in tree format:\n",
      "root\n",
      " |-- name: string (nullable = true)\n",
      " |-- age: integer (nullable = true)\n",
      " |-- city: string (nullable = true)\n",
      " |-- is_student: boolean (nullable = true)\n",
      " |-- gpa: float (nullable = true)\n",
      " |-- registration_date: date (nullable = true)\n",
      "\n",
      "\n",
      "--- Testing invalid type ---\n",
      "Error: Unsupported data type 'VARCHAR'. Supported types are: ['string', 'str', 'stringtype', 'integer', 'int', 'integertype', 'short', 'shorttype', 'double', 'doubletype', 'float', 'floattype', 'boolean', 'bool', 'booleantype', 'date', 'datetype', 'timestamp', 'timestamptype', 'binary', 'binarytype']\n"
     ]
    }
   ],
   "source": [
    "try:\n",
    "    # Generate the schema\n",
    "    generated_schema = SparkUtils.generate_schema(schema_definition)\n",
    "    \n",
    "    # Print the generated schema to verify it's correct\n",
    "    print(\"Successfully generated schema:\")\n",
    "    print(generated_schema)\n",
    "    print(\"\\nSchema in tree format:\")\n",
    "    print(generated_schema.treeString())\n",
    "\n",
    "    # Example of an invalid type to test the error handling\n",
    "    print(\"\\n--- Testing invalid type ---\")\n",
    "    invalid_schema_def = [(\"column_a\", \"VARCHAR\")]\n",
    "    SparkUtils.generate_schema(invalid_schema_def)\n",
    "\n",
    "except ValueError as e:\n",
    "    print(f\"Error: {e}\")"
   ]
  },
  {
   "cell_type": "code",
   "execution_count": null,
   "id": "aafd46c2-d222-4d0a-9697-cddf071197f6",
   "metadata": {},
   "outputs": [],
   "source": []
  }
 ],
 "metadata": {
  "kernelspec": {
   "display_name": "Python 3 (ipykernel)",
   "language": "python",
   "name": "python3"
  },
  "language_info": {
   "codemirror_mode": {
    "name": "ipython",
    "version": 3
   },
   "file_extension": ".py",
   "mimetype": "text/x-python",
   "name": "python",
   "nbconvert_exporter": "python",
   "pygments_lexer": "ipython3",
   "version": "3.10.12"
  }
 },
 "nbformat": 4,
 "nbformat_minor": 5
}
