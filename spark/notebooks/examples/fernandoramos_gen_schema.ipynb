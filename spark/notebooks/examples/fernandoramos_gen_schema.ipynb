{
 "cells": [
  {
   "cell_type": "markdown",
   "id": "7228683b",
   "metadata": {},
   "source": [
    "# Test generate_schema() from SparkUtils\n",
    "This notebook demonstrates how to use the generate_schema() method."
   ]
  },
  {
   "cell_type": "code",
   "execution_count": 1,
   "id": "8e6a8dfd",
   "metadata": {},
   "outputs": [],
   "source": [
    "import findspark\n",
    "findspark.init()\n",
    "\n",
    "from pyspark.sql import SparkSession\n",
    "from fernandoramos.spark_utils import SparkUtils"
   ]
  },
  {
   "cell_type": "code",
   "execution_count": 2,
   "id": "4c739c6b",
   "metadata": {},
   "outputs": [
    {
     "name": "stderr",
     "output_type": "stream",
     "text": [
      "WARNING: Using incubator modules: jdk.incubator.vector\n",
      "Using Spark's default log4j profile: org/apache/spark/log4j2-defaults.properties\n",
      "Setting default log level to \"WARN\".\n",
      "To adjust logging level use sc.setLogLevel(newLevel). For SparkR, use setLogLevel(newLevel).\n",
      "25/09/12 01:33:26 WARN NativeCodeLoader: Unable to load native-hadoop library for your platform... using builtin-java classes where applicable\n"
     ]
    }
   ],
   "source": [
    "spark = SparkSession.builder.master('local').appName('SchemaTest').getOrCreate()"
   ]
  },
  {
   "cell_type": "code",
   "execution_count": 3,
   "id": "690647d8",
   "metadata": {},
   "outputs": [
    {
     "name": "stdout",
     "output_type": "stream",
     "text": [
      "StructType([StructField('name', StringType(), False), StructField('age', IntegerType(), True), StructField('city', StringType(), True), StructField('score', FloatType(), False)])\n"
     ]
    }
   ],
   "source": [
    "columns_info = [\n",
    "    ('name', 'string', 0),\n",
    "    ('age', 'int', 1),\n",
    "    ('city', 'string', 1),\n",
    "    ('score', 'float', 0)\n",
    "]\n",
    "schema = SparkUtils.generate_schema(columns_info)\n",
    "print(schema)"
   ]
  },
  {
   "cell_type": "code",
   "execution_count": 6,
   "id": "ce50b4b6",
   "metadata": {},
   "outputs": [
    {
     "name": "stdout",
     "output_type": "stream",
     "text": [
      "+-----+---+----+-----+\n",
      "| name|age|city|score|\n",
      "+-----+---+----+-----+\n",
      "|Alice| 30|  NY| 85.5|\n",
      "|  Bob| 25|  LA| 90.0|\n",
      "+-----+---+----+-----+\n",
      "\n"
     ]
    }
   ],
   "source": [
    "data = [('Alice', 30, 'NY', 85.5), ('Bob', 25, 'LA', 90.0)]\n",
    "df = spark.createDataFrame(data, schema=schema)\n",
    "df.show()"
   ]
  },
  {
   "cell_type": "code",
   "execution_count": null,
   "id": "8ae702e9-e989-4735-8b66-d36538046cf7",
   "metadata": {},
   "outputs": [],
   "source": []
  }
 ],
 "metadata": {
  "kernelspec": {
   "display_name": "Python 3 (ipykernel)",
   "language": "python",
   "name": "python3"
  },
  "language_info": {
   "codemirror_mode": {
    "name": "ipython",
    "version": 3
   },
   "file_extension": ".py",
   "mimetype": "text/x-python",
   "name": "python",
   "nbconvert_exporter": "python",
   "pygments_lexer": "ipython3",
   "version": "3.10.12"
  }
 },
 "nbformat": 4,
 "nbformat_minor": 5
}
