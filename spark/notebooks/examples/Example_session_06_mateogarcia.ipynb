{
 "cells": [
  {
   "cell_type": "code",
   "execution_count": 1,
   "id": "d19e9cd6-63b3-4c76-8faa-aedfb6df6aad",
   "metadata": {},
   "outputs": [],
   "source": [
    "import findspark"
   ]
  },
  {
   "cell_type": "code",
   "execution_count": 2,
   "id": "39f29dad-dffd-4eb3-b25f-10cd38989940",
   "metadata": {},
   "outputs": [],
   "source": [
    "findspark.init()"
   ]
  },
  {
   "cell_type": "code",
   "execution_count": 3,
   "id": "7c8561bb-3834-4a75-901e-a6c5f4b3158d",
   "metadata": {},
   "outputs": [],
   "source": [
    "from pyspark.sql import SparkSession"
   ]
  },
  {
   "cell_type": "code",
   "execution_count": 4,
   "id": "621d5917-e326-41e0-9956-32aa9ae298a6",
   "metadata": {},
   "outputs": [
    {
     "name": "stderr",
     "output_type": "stream",
     "text": [
      "WARNING: Using incubator modules: jdk.incubator.vector\n",
      "Using Spark's default log4j profile: org/apache/spark/log4j2-defaults.properties\n",
      "Setting default log level to \"WARN\".\n",
      "To adjust logging level use sc.setLogLevel(newLevel). For SparkR, use setLogLevel(newLevel).\n",
      "25/09/05 01:32:53 WARN NativeCodeLoader: Unable to load native-hadoop library for your platform... using builtin-java classes where applicable\n"
     ]
    }
   ],
   "source": [
    "spark = SparkSession.builder \\\n",
    "    .appName(\"1st Spark Session\") \\\n",
    "    .master(\"spark://a2a37d1939d6:7077\") \\\n",
    "    .config(\"spark.ui.port\", \"4040\") \\\n",
    "    .getOrCreate()"
   ]
  },
  {
   "cell_type": "code",
   "execution_count": 5,
   "id": "f3887514-9c41-44fb-982a-b9b8ef17b412",
   "metadata": {},
   "outputs": [],
   "source": [
    "sc = spark.sparkContext\n",
    "sc.setLogLevel(\"ERROR\")"
   ]
  },
  {
   "cell_type": "code",
   "execution_count": 6,
   "id": "15f6cad3-b199-4a21-ac82-72f85a959d0b",
   "metadata": {},
   "outputs": [],
   "source": [
    "# Create an RDD from a list of numbers\n",
    "data = [1, 2, 3, 4, 5]\n",
    "rdd = sc.parallelize(data)"
   ]
  },
  {
   "cell_type": "code",
   "execution_count": 7,
   "id": "e76ca6c5-d15c-4164-aeaf-4f4f6b97cfdf",
   "metadata": {},
   "outputs": [],
   "source": [
    "# Compute the squares of each number using map transformation\n",
    "square_rdd = rdd.map(lambda x: x**2)"
   ]
  },
  {
   "cell_type": "code",
   "execution_count": 9,
   "id": "c8cdd762-2379-4f96-8196-00400c55a999",
   "metadata": {},
   "outputs": [
    {
     "name": "stderr",
     "output_type": "stream",
     "text": [
      "[Stage 0:>                                                          (0 + 1) / 2]"
     ]
    },
    {
     "name": "stdout",
     "output_type": "stream",
     "text": [
      "Squares of the numbers: [1, 4, 9, 16, 25]\n"
     ]
    },
    {
     "name": "stderr",
     "output_type": "stream",
     "text": [
      "                                                                                "
     ]
    }
   ],
   "source": [
    "# Collect the results to a list and print them\n",
    "squares = square_rdd.collect()\n",
    "print(\"Squares of the numbers:\", squares)"
   ]
  },
  {
   "cell_type": "code",
   "execution_count": 10,
   "id": "eb8c8ec5-e692-4b9e-990c-8c35438c218e",
   "metadata": {},
   "outputs": [],
   "source": [
    "# Stop the sparkcontext\n",
    "sc.stop()"
   ]
  }
 ],
 "metadata": {
  "kernelspec": {
   "display_name": "Python 3 (ipykernel)",
   "language": "python",
   "name": "python3"
  },
  "language_info": {
   "codemirror_mode": {
    "name": "ipython",
    "version": 3
   },
   "file_extension": ".py",
   "mimetype": "text/x-python",
   "name": "python",
   "nbconvert_exporter": "python",
   "pygments_lexer": "ipython3",
   "version": "3.10.12"
  }
 },
 "nbformat": 4,
 "nbformat_minor": 5
}
