{
 "cells": [
  {
   "cell_type": "code",
   "execution_count": 1,
   "id": "4042d335",
   "metadata": {},
   "outputs": [
    {
     "name": "stdout",
     "output_type": "stream",
     "text": [
      "Nombre: name, Tipo: StringType(), Nullable: True\n",
      "Nombre: age, Tipo: IntegerType(), Nullable: True\n",
      "Nombre: city, Tipo: StringType(), Nullable: True\n"
     ]
    }
   ],
   "source": [
    "import findspark\n",
    "findspark.init()\n",
    "\n",
    "from Daniel_Arellano.sql_im import SparkUtils\n",
    "\n",
    "schema = SparkUtils.generate_schema([\n",
    "    (\"name\", \"string\"),\n",
    "    (\"age\", \"int\"),\n",
    "    (\"city\", \"string\")\n",
    "])"
   ]
  }
 ],
 "metadata": {
  "kernelspec": {
   "display_name": "Python 3 (ipykernel)",
   "language": "python",
   "name": "python3"
  },
  "language_info": {
   "codemirror_mode": {
    "name": "ipython",
    "version": 3
   },
   "file_extension": ".py",
   "mimetype": "text/x-python",
   "name": "python",
   "nbconvert_exporter": "python",
   "pygments_lexer": "ipython3",
   "version": "3.10.12"
  }
 },
 "nbformat": 4,
 "nbformat_minor": 5
}
