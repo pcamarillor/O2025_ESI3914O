{
 "cells": [
  {
   "cell_type": "code",
   "execution_count": 5,
   "id": "49f54e86-f082-48f4-847c-57d289d07639",
   "metadata": {},
   "outputs": [],
   "source": [
    "import findspark\n",
    "findspark.init()"
   ]
  },
  {
   "cell_type": "code",
   "execution_count": 7,
   "id": "fa14f281-b4b4-498e-bad2-64f95654c612",
   "metadata": {},
   "outputs": [
    {
     "name": "stdout",
     "output_type": "stream",
     "text": [
      "StructType([StructField('name', StringType(), True), StructField('age', IntegerType(), True), StructField('salary', FloatType(), True)])\n"
     ]
    }
   ],
   "source": [
    "from jos.spark_utils import SparkUtils\n",
    "\n",
    "schema = SparkUtils.generate_schema([(\"name\", \"string\"), (\"age\", \"int\"), (\"salary\", \"float\")])\n",
    "print(schema)\n"
   ]
  },
  {
   "cell_type": "code",
   "execution_count": null,
   "id": "0421cf0a-74a1-457a-ba89-ead95cd1fa0e",
   "metadata": {},
   "outputs": [],
   "source": []
  }
 ],
 "metadata": {
  "kernelspec": {
   "display_name": "Python 3 (ipykernel)",
   "language": "python",
   "name": "python3"
  },
  "language_info": {
   "codemirror_mode": {
    "name": "ipython",
    "version": 3
   },
   "file_extension": ".py",
   "mimetype": "text/x-python",
   "name": "python",
   "nbconvert_exporter": "python",
   "pygments_lexer": "ipython3",
   "version": "3.10.12"
  }
 },
 "nbformat": 4,
 "nbformat_minor": 5
}
