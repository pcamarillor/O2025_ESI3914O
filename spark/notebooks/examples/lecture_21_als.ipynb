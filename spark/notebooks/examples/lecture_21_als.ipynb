{
 "cells": [
  {
   "cell_type": "markdown",
   "metadata": {},
   "source": [
    "# <center> <img src=\"../img/ITESOLogo.png\" alt=\"ITESO\" width=\"480\" height=\"130\"> </center>\n",
    "# <center> **Departamento de Electrónica, Sistemas e Informática** </center>\n",
    "---\n",
    "## <center> **Big Data** </center>\n",
    "---\n",
    "### <center> **Autumn 2025** </center>\n",
    "---\n",
    "### <center> **Examples on Machine Learning: Alternating Least Squares (ALS)** </center>\n",
    "---\n",
    "**Profesor**: Pablo Camarillo Ramirez"
   ]
  },
  {
   "cell_type": "markdown",
   "metadata": {},
   "source": [
    "# Create SparkSession"
   ]
  },
  {
   "cell_type": "code",
   "execution_count": null,
   "metadata": {},
   "outputs": [],
   "source": [
    "import findspark\n",
    "findspark.init()\n",
    "\n",
    "from pyspark.sql import SparkSession\n",
    "\n",
    "spark = SparkSession.builder \\\n",
    "    .appName(\"ML: ALS\") \\\n",
    "    .master(\"spark://spark-master:7077\") \\\n",
    "    .config(\"spark.ui.port\", \"4040\") \\\n",
    "    .getOrCreate()\n",
    "\n",
    "sc = spark.sparkContext\n",
    "sc.setLogLevel(\"INFO\")\n",
    "\n",
    "# Optimization (reduce the number of shuffle partitions)\n",
    "spark.conf.set(\"spark.sql.shuffle.partitions\", \"5\")"
   ]
  },
  {
   "cell_type": "markdown",
   "metadata": {},
   "source": [
    "# Example 1: Songs recommednation"
   ]
  },
  {
   "cell_type": "code",
   "execution_count": null,
   "metadata": {},
   "outputs": [],
   "source": [
    "from pcamarillor.spark_utils import SparkUtils\n",
    "\n",
    "# Sample user-song interaction data\n",
    "data = [(1, 1, 4),\n",
    "        (1, 2, 5),\n",
    "        (1, 5, 5),\n",
    "        (2, 2, 3),\n",
    "        (2, 3, 4),\n",
    "        (2, 4, 3),\n",
    "        (3, 1, 2),\n",
    "        (3, 3, 5),\n",
    "        (3, 5, 1)]\n",
    "  \n",
    "# Define schema for the DataFrame\n",
    "schema = SparkUtils.generate_schema([(\"user_id\", \"int\"), (\"song_id\", \"int\"), (\"rating\", \"int\")])\n",
    "\n",
    "# Create DataFrame for interactions\n",
    "interactions_df = spark.createDataFrame(data, schema)"
   ]
  },
  {
   "cell_type": "code",
   "execution_count": null,
   "metadata": {},
   "outputs": [],
   "source": [
    "from pyspark.ml.recommendation import ALS\n",
    "\n",
    "als = ALS(\n",
    "    userCol=\"user_id\", \n",
    "    itemCol=\"song_id\", \n",
    "    ratingCol=\"rating\", \n",
    "    maxIter=10, \n",
    "    regParam=0.1, \n",
    "    rank=5, # Controls the dimensionality of the latent vector space for \n",
    "            # users and items.\n",
    "    coldStartStrategy=\"drop\"  # Avoids NaN predictions\n",
    ")"
   ]
  },
  {
   "cell_type": "code",
   "execution_count": null,
   "metadata": {},
   "outputs": [],
   "source": [
    "model = als.fit(interactions_df)\n",
    "print(\"Recommendation system generated successfully\")"
   ]
  },
  {
   "cell_type": "code",
   "execution_count": null,
   "metadata": {},
   "outputs": [],
   "source": [
    "# Generate recommendations for each user\n",
    "user_recommendations = model.recommendForAllUsers(numItems=5)\n",
    "\n",
    "# Show recommendations\n",
    "user_recommendations.show(truncate=False)"
   ]
  },
  {
   "cell_type": "code",
   "execution_count": null,
   "metadata": {},
   "outputs": [],
   "source": [
    "songs = [\n",
    "    (1, \"song a\"),\n",
    "    (2, \"song b\"),\n",
    "    (3, \"song c\"),\n",
    "    (4, \"song d\"),\n",
    "    (5, \"song e\")]\n",
    "\n",
    "songs_schema = SparkUtils.generate_schema([(\"song_id\", \"int\"), (\"title\", \"string\")])\n",
    "songs_df = spark.createDataFrame(songs, songs_schema)"
   ]
  },
  {
   "cell_type": "code",
   "execution_count": null,
   "metadata": {},
   "outputs": [],
   "source": [
    "from pyspark.sql.functions import explode\n",
    "\n",
    "# Explode recommendations for easier reading\n",
    "recommendations = user_recommendations.select(\"user_id\", explode(\"recommendations\").alias(\"rec\"))\n",
    "recommendations = recommendations.join(songs_df, recommendations.rec.song_id == songs_df.song_id).select(\"user_id\", \"title\", \"rec.rating\")\n",
    "\n",
    "# Show user-song recommendations with titles\n",
    "recommendations.show(truncate=False)"
   ]
  },
  {
   "cell_type": "code",
   "execution_count": null,
   "metadata": {},
   "outputs": [],
   "source": [
    "predictions = model.transform(interactions_df)\n",
    "predictions.show(truncate=False)"
   ]
  },
  {
   "cell_type": "code",
   "execution_count": null,
   "metadata": {},
   "outputs": [],
   "source": [
    "# Evaluate the Recommendation System\n",
    "from pyspark.ml.evaluation import RegressionEvaluator\n",
    "# Set up evaluator to compute RMSE\n",
    "evaluator = RegressionEvaluator(\n",
    "    metricName=\"rmse\", \n",
    "    labelCol=\"rating\", \n",
    "    predictionCol=\"prediction\"\n",
    ")\n",
    "\n",
    "# Calculate RMSE\n",
    "rmse = evaluator.evaluate(predictions)\n",
    "print(f\"Root-mean-square error (RMSE) = {rmse}\")"
   ]
  },
  {
   "cell_type": "markdown",
   "metadata": {},
   "source": [
    "# Example 2: Movies"
   ]
  },
  {
   "cell_type": "code",
   "execution_count": null,
   "metadata": {},
   "outputs": [],
   "source": [
    "movies_ratings_path = \"/opt/spark/work-dir/data/ml/als\"\n",
    "\n",
    "movies_ratings_schema = SparkUtils.generate_schema([(\"user_id\", \"int\"), (\"movie_id\", \"int\"), (\"rating\", \"int\"),(\"timestamp\", \"int\")])\n",
    "\n",
    "# Source https://github.com/databricks/Spark-The-Definitive-Guide/blob/master/data/sample_movielens_ratings.txt\n",
    "movies_ratings_df = spark.read \\\n",
    "                    .option(\"header\", \"false\") \\\n",
    "                    .option(\"delimiter\", \"::\") \\\n",
    "                    .schema(movies_ratings_schema) \\\n",
    "                    .csv(movies_ratings_path)\n",
    "\n",
    "movies_ratings_df.printSchema()"
   ]
  },
  {
   "cell_type": "markdown",
   "metadata": {},
   "source": [
    "## Create & Train the ML Model"
   ]
  },
  {
   "cell_type": "code",
   "execution_count": null,
   "metadata": {},
   "outputs": [],
   "source": [
    "# Configure ALS model\n",
    "als = ALS(\n",
    "    userCol=\"user_id\", \n",
    "    itemCol=\"movie_id\",\n",
    "    ratingCol=\"rating\", \n",
    "    maxIter=10,\n",
    "    regParam=0.1,\n",
    "    rank=5, # Controls the dimensionality of the latent vector space for \n",
    "            # users and items.\n",
    "    coldStartStrategy=\"drop\"  # Avoids NaN predictions\n",
    ")\n",
    "# Train the model (THIS STEP MAY TAKE SOME TIME)\n",
    "als_model = als.fit(movies_ratings_df)"
   ]
  },
  {
   "cell_type": "markdown",
   "metadata": {},
   "source": [
    "## Persist the model"
   ]
  },
  {
   "cell_type": "code",
   "execution_count": null,
   "metadata": {},
   "outputs": [],
   "source": [
    "als_model_path = \"/opt/spark/work-dir/data/mlmodels/als/als_movies\"\n",
    "als_model.write().overwrite().save(als_model_path)"
   ]
  },
  {
   "cell_type": "markdown",
   "metadata": {},
   "source": [
    "## Predictions"
   ]
  },
  {
   "cell_type": "code",
   "execution_count": null,
   "metadata": {},
   "outputs": [],
   "source": [
    "from pyspark.ml.recommendation import ALSModel\n",
    "# Load saved model\n",
    "als_model = ALSModel.load(als_model_path)\n",
    "\n",
    "# Generate the  top 5 recommendations for each user\n",
    "\n",
    "user_recommendations = als_model.recommendForAllUsers(numItems=5)\n",
    "# Show recommendations\n",
    "user_recommendations.show(truncate=False)"
   ]
  },
  {
   "cell_type": "markdown",
   "metadata": {},
   "source": [
    "## Test ML Model"
   ]
  },
  {
   "cell_type": "code",
   "execution_count": null,
   "metadata": {},
   "outputs": [],
   "source": [
    "from pyspark.ml.evaluation import RegressionEvaluator\n",
    "\n",
    "# Generate predictions for all users\n",
    "predictions = als_model.transform(movies_ratings_df)\n",
    "\n",
    "\n",
    "# Set up evaluator to compute RMSE\n",
    "evaluator = RegressionEvaluator(\n",
    "    metricName=\"rmse\", \n",
    "    labelCol=\"rating\", \n",
    "    predictionCol=\"prediction\"\n",
    ")\n",
    "\n",
    "# Calculate RMSE\n",
    "rmse = evaluator.evaluate(predictions)\n",
    "print(f\"Root-mean-square error (RMSE) = {rmse}\") "
   ]
  },
  {
   "cell_type": "code",
   "execution_count": null,
   "metadata": {},
   "outputs": [],
   "source": [
    "sc.stop()"
   ]
  }
 ],
 "metadata": {
  "kernelspec": {
   "display_name": "Python 3 (ipykernel)",
   "language": "python",
   "name": "python3"
  },
  "language_info": {
   "codemirror_mode": {
    "name": "ipython",
    "version": 3
   },
   "file_extension": ".py",
   "mimetype": "text/x-python",
   "name": "python",
   "nbconvert_exporter": "python",
   "pygments_lexer": "ipython3",
   "version": "3.10.12"
  }
 },
 "nbformat": 4,
 "nbformat_minor": 4
}
