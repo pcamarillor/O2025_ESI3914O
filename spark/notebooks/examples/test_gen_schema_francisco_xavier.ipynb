{
 "cells": [
  {
   "cell_type": "code",
   "execution_count": 1,
   "id": "c39af129",
   "metadata": {},
   "outputs": [
    {
     "name": "stdout",
     "output_type": "stream",
     "text": [
      "StructType([StructField('name', StringType(), True), StructField('age', IntegerType(), True), StructField('salary', FloatType(), True), StructField('is_active', BooleanType(), True), StructField('joined_on', TimestampType(), True)])\n"
     ]
    }
   ],
   "source": [
    "import sys\n",
    "sys.path.append(\"/opt/spark/work-dir/lib\")  \n",
    "\n",
    "from thexaviroo.spark_utils import SparkUtils\n",
    "\n",
    "schema = SparkUtils.generate_schema([\n",
    "    (\"name\", \"string\"),\n",
    "    (\"age\", \"int\"),\n",
    "    (\"salary\", \"float\"),\n",
    "    (\"is_active\", \"boolean\"),\n",
    "    (\"joined_on\", \"timestamp\")\n",
    "])\n",
    "\n",
    "print(schema)\n"
   ]
  }
 ],
 "metadata": {
  "kernelspec": {
   "display_name": "Python 3 (ipykernel)",
   "language": "python",
   "name": "python3"
  },
  "language_info": {
   "codemirror_mode": {
    "name": "ipython",
    "version": 3
   },
   "file_extension": ".py",
   "mimetype": "text/x-python",
   "name": "python",
   "nbconvert_exporter": "python",
   "pygments_lexer": "ipython3",
   "version": "3.10.12"
  }
 },
 "nbformat": 4,
 "nbformat_minor": 5
}
