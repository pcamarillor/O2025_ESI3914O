{
 "cells": [
  {
   "cell_type": "code",
   "execution_count": 1,
   "id": "d011d26d-964e-428e-ba4a-937ec00faafd",
   "metadata": {},
   "outputs": [],
   "source": [
    "from general.utils import Circle"
   ]
  },
  {
   "cell_type": "code",
   "execution_count": 2,
   "id": "edc95b4b-0ca6-470e-b84d-cac0076d4966",
   "metadata": {},
   "outputs": [
    {
     "data": {
      "text/plain": [
       "Circle(Radius:'52.4')"
      ]
     },
     "execution_count": 2,
     "metadata": {},
     "output_type": "execute_result"
    }
   ],
   "source": [
    "c = Circle(52.4)\n",
    "c"
   ]
  },
  {
   "cell_type": "code",
   "execution_count": 3,
   "id": "943c8cea-864d-49a6-895a-9b65ca3149f8",
   "metadata": {},
   "outputs": [
    {
     "name": "stdout",
     "output_type": "stream",
     "text": [
      "Figure: Circle\n",
      "Area: 8626.05944452071\n",
      "Perimeter: 329.2389100962103\n"
     ]
    }
   ],
   "source": [
    "c.display()"
   ]
  },
  {
   "cell_type": "code",
   "execution_count": 5,
   "id": "da85ab86-2da5-4dce-9729-76c7616d2a5b",
   "metadata": {},
   "outputs": [
    {
     "name": "stdout",
     "output_type": "stream",
     "text": [
      "\n"
     ]
    }
   ],
   "source": [
    "!echo $PYTH0NPATH"
   ]
  },
  {
   "cell_type": "code",
   "execution_count": null,
   "id": "2a07dd71-16bb-4cb6-a663-dad2d107d1b5",
   "metadata": {},
   "outputs": [],
   "source": []
  }
 ],
 "metadata": {
  "kernelspec": {
   "display_name": "Python 3 (ipykernel)",
   "language": "python",
   "name": "python3"
  },
  "language_info": {
   "codemirror_mode": {
    "name": "ipython",
    "version": 3
   },
   "file_extension": ".py",
   "mimetype": "text/x-python",
   "name": "python",
   "nbconvert_exporter": "python",
   "pygments_lexer": "ipython3",
   "version": "3.10.12"
  }
 },
 "nbformat": 4,
 "nbformat_minor": 5
}
