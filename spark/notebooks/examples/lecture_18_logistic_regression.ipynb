{
 "cells": [
  {
   "cell_type": "markdown",
   "metadata": {},
   "source": [
    "# <center> <img src=\"../img/ITESOLogo.png\" alt=\"ITESO\" width=\"480\" height=\"130\"> </center>\n",
    "# <center> **Departamento de Electrónica, Sistemas e Informática** </center>\n",
    "---\n",
    "## <center> **Big Data** </center>\n",
    "---\n",
    "### <center> **Autumn 2025** </center>\n",
    "---\n",
    "### <center> **Examples on Machine Learning: Logistic Regression** </center>\n",
    "---\n",
    "**Profesor**: Pablo Camarillo Ramirez"
   ]
  },
  {
   "cell_type": "markdown",
   "metadata": {},
   "source": [
    "## Recreate docker images and spark cluster:\n",
    "\n",
    "Go to **spark** directory and run:\n",
    "     \n",
    "     sh build-images.sh\n",
    "     docker compose up --scale spark-worker=1 -d"
   ]
  },
  {
   "cell_type": "markdown",
   "metadata": {},
   "source": [
    "# Create SparkSession"
   ]
  },
  {
   "cell_type": "code",
   "execution_count": 1,
   "metadata": {},
   "outputs": [
    {
     "name": "stderr",
     "output_type": "stream",
     "text": [
      "WARNING: Using incubator modules: jdk.incubator.vector\n",
      "Using Spark's default log4j profile: org/apache/spark/log4j2-defaults.properties\n",
      "Setting default log level to \"WARN\".\n",
      "To adjust logging level use sc.setLogLevel(newLevel). For SparkR, use setLogLevel(newLevel).\n",
      "25/10/22 01:20:32 WARN NativeCodeLoader: Unable to load native-hadoop library for your platform... using builtin-java classes where applicable\n"
     ]
    }
   ],
   "source": [
    "import findspark\n",
    "findspark.init()\n",
    "\n",
    "from pyspark.sql import SparkSession\n",
    "\n",
    "spark = SparkSession.builder \\\n",
    "    .appName(\"ML: Logistic Regression\") \\\n",
    "    .master(\"spark://spark-master:7077\") \\\n",
    "    .config(\"spark.ui.port\", \"4040\") \\\n",
    "    .getOrCreate()\n",
    "\n",
    "sc = spark.sparkContext\n",
    "sc.setLogLevel(\"INFO\")\n",
    "\n",
    "# Optimization (reduce the number of shuffle partitions)\n",
    "spark.conf.set(\"spark.sql.shuffle.partitions\", \"5\")"
   ]
  },
  {
   "cell_type": "markdown",
   "metadata": {},
   "source": [
    "# Collect Data"
   ]
  },
  {
   "cell_type": "code",
   "execution_count": 2,
   "metadata": {},
   "outputs": [
    {
     "name": "stderr",
     "output_type": "stream",
     "text": [
      "[Stage 0:>                                                          (0 + 1) / 1]\r"
     ]
    },
    {
     "name": "stdout",
     "output_type": "stream",
     "text": [
      "+-----+----------+----------+\n",
      "|label|feature_x1|feature_x2|\n",
      "+-----+----------+----------+\n",
      "|  1.0|       2.0|       3.0|\n",
      "|  0.0|       1.0|       2.5|\n",
      "|  1.0|       3.0|       5.0|\n",
      "|  0.0|       0.5|       1.0|\n",
      "|  1.0|       4.0|       6.0|\n",
      "+-----+----------+----------+\n",
      "\n"
     ]
    },
    {
     "name": "stderr",
     "output_type": "stream",
     "text": [
      "                                                                                \r"
     ]
    }
   ],
   "source": [
    "from pcamarillor.spark_utils import SparkUtils\n",
    "# Create a small dataset as a list of tuples\n",
    "# Format: (label, feature_x1, feature_x2)\n",
    "data = [\n",
    "    (1.0, 2.0, 3.0),\n",
    "    (0.0, 1.0, 2.5),\n",
    "    (1.0, 3.0, 5.0),\n",
    "    (0.0, 0.5, 1.0),\n",
    "    (1.0, 4.0, 6.0)\n",
    "]\n",
    "\n",
    "# Define schema for the DataFrame\n",
    "schema = SparkUtils.generate_schema([(\"label\", \"float\"), \n",
    "                                     (\"feature_x1\", \"float\"),\n",
    "                                     (\"feature_x2\", \"float\")])\n",
    "\n",
    "# Convert list to a DataFrame\n",
    "df = spark.createDataFrame(data, schema)\n",
    "df.show()"
   ]
  },
  {
   "cell_type": "markdown",
   "metadata": {},
   "source": [
    "### Assemble the features into a single vector column"
   ]
  },
  {
   "cell_type": "code",
   "execution_count": 4,
   "metadata": {},
   "outputs": [
    {
     "name": "stderr",
     "output_type": "stream",
     "text": [
      "[Stage 2:>                                                          (0 + 1) / 1]\r"
     ]
    },
    {
     "name": "stdout",
     "output_type": "stream",
     "text": [
      "+-----+---------+\n",
      "|label| features|\n",
      "+-----+---------+\n",
      "|  1.0|[2.0,3.0]|\n",
      "|  0.0|[1.0,2.5]|\n",
      "|  1.0|[3.0,5.0]|\n",
      "|  0.0|[0.5,1.0]|\n",
      "|  1.0|[4.0,6.0]|\n",
      "+-----+---------+\n",
      "\n"
     ]
    },
    {
     "name": "stderr",
     "output_type": "stream",
     "text": [
      "                                                                                \r"
     ]
    }
   ],
   "source": [
    "from pyspark.ml.feature import VectorAssembler\n",
    "\n",
    "assembler = VectorAssembler(inputCols=[\"feature_x1\", \"feature_x2\"], outputCol=\"features\")\n",
    "data_with_features = assembler.transform(df).select(\"label\", \"features\")\n",
    "data_with_features.show()                                     "
   ]
  },
  {
   "cell_type": "markdown",
   "metadata": {},
   "source": [
    "# Data splitting\n",
    "#### 80% training data and 20% testing data"
   ]
  },
  {
   "cell_type": "code",
   "execution_count": 13,
   "metadata": {},
   "outputs": [],
   "source": [
    "train_df, test_df = data_with_features.randomSplit([0.8, 0.2], seed=13)"
   ]
  },
  {
   "cell_type": "markdown",
   "metadata": {},
   "source": [
    "### Show dataset (for debugging)"
   ]
  },
  {
   "cell_type": "code",
   "execution_count": 14,
   "metadata": {},
   "outputs": [
    {
     "name": "stdout",
     "output_type": "stream",
     "text": [
      "Original Dataset\n",
      "+-----+----------+----------+\n",
      "|label|feature_x1|feature_x2|\n",
      "+-----+----------+----------+\n",
      "|  1.0|       2.0|       3.0|\n",
      "|  0.0|       1.0|       2.5|\n",
      "|  1.0|       3.0|       5.0|\n",
      "|  0.0|       0.5|       1.0|\n",
      "|  1.0|       4.0|       6.0|\n",
      "+-----+----------+----------+\n",
      "\n",
      "train set\n",
      "+-----+---------+\n",
      "|label| features|\n",
      "+-----+---------+\n",
      "|  0.0|[1.0,2.5]|\n",
      "|  0.0|[0.5,1.0]|\n",
      "|  1.0|[3.0,5.0]|\n",
      "|  1.0|[4.0,6.0]|\n",
      "+-----+---------+\n",
      "\n"
     ]
    }
   ],
   "source": [
    "print(\"Original Dataset\")\n",
    "df.show()\n",
    "\n",
    "# Print train dataset\n",
    "print(\"train set\")\n",
    "train_df.show()"
   ]
  },
  {
   "cell_type": "markdown",
   "metadata": {},
   "source": [
    "# Create ML Model"
   ]
  },
  {
   "cell_type": "code",
   "execution_count": 15,
   "metadata": {},
   "outputs": [],
   "source": [
    "from pyspark.ml.classification import LogisticRegression\n",
    "lr = LogisticRegression(maxIter=10, regParam=0.2)"
   ]
  },
  {
   "cell_type": "markdown",
   "metadata": {},
   "source": [
    "# Train ML Model"
   ]
  },
  {
   "cell_type": "code",
   "execution_count": 16,
   "metadata": {},
   "outputs": [
    {
     "name": "stdout",
     "output_type": "stream",
     "text": [
      "Coefficients: [0.4975285118854061,0.34768295416319633]\n"
     ]
    }
   ],
   "source": [
    "lr_model = lr.fit(train_df)\n",
    "\n",
    "# Print coefficients\n",
    "print(\"Coefficients: \" + str(lr_model.coefficients))\n",
    "\n",
    "# Display model summary\n",
    "training_summary = lr_model.summary"
   ]
  },
  {
   "cell_type": "markdown",
   "metadata": {},
   "source": [
    "## Predictions"
   ]
  },
  {
   "cell_type": "code",
   "execution_count": 17,
   "metadata": {},
   "outputs": [
    {
     "name": "stdout",
     "output_type": "stream",
     "text": [
      "+---------+----------+--------------------+\n",
      "| features|prediction|         probability|\n",
      "+---------+----------+--------------------+\n",
      "|[2.0,3.0]|       0.0|[0.56836782386618...|\n",
      "+---------+----------+--------------------+\n",
      "\n"
     ]
    }
   ],
   "source": [
    "# Use the trained model to make predictions on the test data\n",
    "predictions = lr_model.transform(test_df)\n",
    "\n",
    "# Show predictions\n",
    "predictions.select(\"features\", \"prediction\", \"probability\").show()"
   ]
  },
  {
   "cell_type": "markdown",
   "metadata": {},
   "source": [
    "# Test ML Model"
   ]
  },
  {
   "cell_type": "code",
   "execution_count": 18,
   "metadata": {},
   "outputs": [
    {
     "name": "stdout",
     "output_type": "stream",
     "text": [
      "Accuracy: 0.0\n",
      "Precision: 0.0\n",
      "Recall: 0.0\n",
      "F1 Score: 0.0\n"
     ]
    }
   ],
   "source": [
    "from pyspark.ml.evaluation import MulticlassClassificationEvaluator\n",
    "\n",
    "evaluator = MulticlassClassificationEvaluator(labelCol=\"label\",\n",
    "                            predictionCol=\"prediction\")\n",
    "\n",
    "accuracy = evaluator.evaluate(predictions, \n",
    "                  {evaluator.metricName: \"accuracy\"})\n",
    "print(f\"Accuracy: {accuracy}\")\n",
    "precision = evaluator.evaluate(predictions,\n",
    "                  {evaluator.metricName: \"weightedPrecision\"})\n",
    "print(f\"Precision: {precision}\")\n",
    "recall = evaluator.evaluate(predictions,\n",
    "                  {evaluator.metricName: \"weightedRecall\"})\n",
    "print(f\"Recall: {recall}\")\n",
    "f1 = evaluator.evaluate(predictions,\n",
    "                {evaluator.metricName: \"f1\"})\n",
    "print(f\"F1 Score: {f1}\")  "
   ]
  },
  {
   "cell_type": "markdown",
   "metadata": {},
   "source": [
    "# Lab 11: Logistic regression To predict heart disease"
   ]
  },
  {
   "cell_type": "code",
   "execution_count": 23,
   "metadata": {},
   "outputs": [
    {
     "name": "stdout",
     "output_type": "stream",
     "text": [
      "framingham.csv\n"
     ]
    }
   ],
   "source": [
    "!ls data/ml/logistic_regresion/"
   ]
  },
  {
   "cell_type": "markdown",
   "metadata": {},
   "source": [
    "# Data collection"
   ]
  },
  {
   "cell_type": "code",
   "execution_count": 24,
   "metadata": {},
   "outputs": [
    {
     "name": "stdout",
     "output_type": "stream",
     "text": [
      "root\n",
      " |-- male: integer (nullable = true)\n",
      " |-- age: integer (nullable = true)\n",
      " |-- education: integer (nullable = true)\n",
      " |-- currentSmoker: integer (nullable = true)\n",
      " |-- cigsPerDay: integer (nullable = true)\n",
      " |-- BPMeds: integer (nullable = true)\n",
      " |-- prevalentStroke: integer (nullable = true)\n",
      " |-- prevalentHyp: integer (nullable = true)\n",
      " |-- diabetes: integer (nullable = true)\n",
      " |-- totChol: integer (nullable = true)\n",
      " |-- sysBP: float (nullable = true)\n",
      " |-- diaBP: float (nullable = true)\n",
      " |-- BMI: float (nullable = true)\n",
      " |-- heartRate: integer (nullable = true)\n",
      " |-- glucose: integer (nullable = true)\n",
      " |-- TenYearCHD: integer (nullable = true)\n",
      "\n",
      "Number of records:4238\n"
     ]
    }
   ],
   "source": [
    "# Define schema for the DataFrame\n",
    "heart_schema = SparkUtils.generate_schema([\n",
    "    (\"male\", \"int\"), \n",
    "    (\"age\", \"int\"), \n",
    "    (\"education\", \"int\"), \n",
    "    (\"currentSmoker\", \"int\"), \n",
    "    (\"cigsPerDay\", \"int\"), \n",
    "    (\"BPMeds\", \"int\"), \n",
    "    (\"prevalentStroke\", \"int\"), \n",
    "    (\"prevalentHyp\", \"int\"), \n",
    "    (\"diabetes\", \"int\"), \n",
    "    (\"totChol\", \"int\"), \n",
    "    (\"sysBP\", \"float\"), \n",
    "    (\"diaBP\", \"float\"), \n",
    "    (\"BMI\", \"float\"), \n",
    "    (\"heartRate\", \"int\"), \n",
    "    (\"glucose\", \"int\"), \n",
    "    (\"TenYearCHD\", \"int\")])\n",
    "\n",
    "# Source: https://www.kaggle.com/datasets/dileep070/heart-disease-prediction-using-logistic-regression?resource=download\n",
    "\n",
    "heart_df = spark.read \\\n",
    "                .option(\"header\", \"true\") \\\n",
    "                .schema(heart_schema) \\\n",
    "                .csv(\"/opt/spark/work-dir/data/ml/logistic_regresion/framingham.csv\")\n",
    "\n",
    "heart_df.printSchema()\n",
    "print(f\"Number of records:{heart_df.count()}\")"
   ]
  },
  {
   "cell_type": "code",
   "execution_count": 25,
   "metadata": {},
   "outputs": [
    {
     "name": "stdout",
     "output_type": "stream",
     "text": [
      "+----+---+---------+-------------+----------+------+---------------+------------+--------+-------+-----+-----+-----+---------+-------+----------+\n",
      "|male|age|education|currentSmoker|cigsPerDay|BPMeds|prevalentStroke|prevalentHyp|diabetes|totChol|sysBP|diaBP|  BMI|heartRate|glucose|TenYearCHD|\n",
      "+----+---+---------+-------------+----------+------+---------------+------------+--------+-------+-----+-----+-----+---------+-------+----------+\n",
      "|   1| 39|        4|            0|         0|     0|              0|           0|       0|    195|106.0| 70.0|26.97|       80|     77|         0|\n",
      "|   0| 46|        2|            0|         0|     0|              0|           0|       0|    250|121.0| 81.0|28.73|       95|     76|         0|\n",
      "+----+---+---------+-------------+----------+------+---------------+------------+--------+-------+-----+-----+-----+---------+-------+----------+\n",
      "only showing top 2 rows\n"
     ]
    },
    {
     "name": "stderr",
     "output_type": "stream",
     "text": [
      "25/10/22 02:11:07 ERROR TaskSchedulerImpl: Lost executor 0 on 172.24.0.4: worker lost: Not receiving heartbeat for 60 seconds\n",
      "25/10/22 03:57:16 ERROR TaskSchedulerImpl: Lost executor 1 on 172.24.0.4: worker lost: Not receiving heartbeat for 60 seconds\n",
      "25/10/22 04:24:11 ERROR TaskSchedulerImpl: Lost executor 2 on 172.24.0.4: worker lost: Not receiving heartbeat for 60 seconds\n",
      "25/10/22 05:16:32 ERROR TaskSchedulerImpl: Lost executor 3 on 172.24.0.4: worker lost: Not receiving heartbeat for 60 seconds\n",
      "25/10/22 05:32:33 ERROR TaskSchedulerImpl: Lost executor 4 on 172.24.0.4: worker lost: Not receiving heartbeat for 60 seconds\n",
      "25/10/22 06:14:52 ERROR TaskSchedulerImpl: Lost executor 5 on 172.24.0.4: worker lost: Not receiving heartbeat for 60 seconds\n",
      "25/10/22 06:30:52 ERROR TaskSchedulerImpl: Lost executor 6 on 172.24.0.4: worker lost: Not receiving heartbeat for 60 seconds\n",
      "25/10/22 07:17:54 ERROR TaskSchedulerImpl: Lost executor 7 on 172.24.0.4: worker lost: Not receiving heartbeat for 60 seconds\n",
      "25/10/22 07:33:54 ERROR TaskSchedulerImpl: Lost executor 8 on 172.24.0.4: worker lost: Not receiving heartbeat for 60 seconds\n",
      "25/10/22 07:49:55 ERROR TaskSchedulerImpl: Lost executor 9 on 172.24.0.4: worker lost: Not receiving heartbeat for 60 seconds\n",
      "25/10/22 08:20:54 ERROR TaskSchedulerImpl: Lost executor 10 on 172.24.0.4: worker lost: Not receiving heartbeat for 60 seconds\n",
      "25/10/22 08:27:09 ERROR TaskSchedulerImpl: Lost executor 11 on 172.24.0.4: worker lost: Not receiving heartbeat for 60 seconds\n",
      "25/10/22 09:01:30 ERROR TaskSchedulerImpl: Lost executor 12 on 172.24.0.4: worker lost: Not receiving heartbeat for 60 seconds\n",
      "25/10/22 09:17:31 ERROR TaskSchedulerImpl: Lost executor 13 on 172.24.0.4: worker lost: Not receiving heartbeat for 60 seconds\n",
      "25/10/22 09:49:37 ERROR TaskSchedulerImpl: Lost executor 14 on 172.24.0.4: worker lost: Not receiving heartbeat for 60 seconds\n",
      "25/10/22 10:05:37 ERROR TaskSchedulerImpl: Lost executor 15 on 172.24.0.4: worker lost: Not receiving heartbeat for 60 seconds\n",
      "25/10/22 10:52:39 ERROR TaskSchedulerImpl: Lost executor 16 on 172.24.0.4: worker lost: Not receiving heartbeat for 60 seconds\n",
      "25/10/22 11:08:55 ERROR TaskSchedulerImpl: Lost executor 17 on 172.24.0.4: worker lost: Not receiving heartbeat for 60 seconds\n",
      "25/10/22 12:06:37 ERROR TaskSchedulerImpl: Lost executor 18 on 172.24.0.4: worker lost: Not receiving heartbeat for 60 seconds\n",
      "25/10/22 12:22:37 ERROR TaskSchedulerImpl: Lost executor 19 on 172.24.0.4: worker lost: Not receiving heartbeat for 60 seconds\n",
      "25/10/22 12:51:40 ERROR TaskSchedulerImpl: Lost executor 20 on 172.24.0.4: worker lost: Not receiving heartbeat for 60 seconds\n",
      "25/10/22 13:41:23 ERROR TaskSchedulerImpl: Lost executor 21 on 172.24.0.4: worker lost: Not receiving heartbeat for 60 seconds\n",
      "25/10/22 13:52:58 ERROR TaskSchedulerImpl: Lost executor 22 on 172.24.0.4: worker lost: Not receiving heartbeat for 60 seconds\n",
      "25/10/22 14:14:31 ERROR TaskSchedulerImpl: Lost executor 23 on 172.24.0.4: worker lost: Not receiving heartbeat for 60 seconds\n",
      "25/10/22 14:21:33 ERROR TaskSchedulerImpl: Lost executor 24 on 172.24.0.4: worker lost: Not receiving heartbeat for 60 seconds\n",
      "25/10/22 15:09:42 ERROR TaskSchedulerImpl: Lost executor 25 on 172.24.0.4: worker lost: Not receiving heartbeat for 60 seconds\n",
      "25/10/22 16:03:47 ERROR TaskSchedulerImpl: Lost executor 26 on 172.24.0.4: worker lost: Not receiving heartbeat for 60 seconds\n",
      "25/10/22 16:19:48 ERROR TaskSchedulerImpl: Lost executor 27 on 172.24.0.4: worker lost: Not receiving heartbeat for 60 seconds\n",
      "25/10/22 16:39:39 ERROR TaskSchedulerImpl: Lost executor 28 on 172.24.0.4: worker lost: Not receiving heartbeat for 60 seconds\n",
      "25/10/22 16:55:40 ERROR TaskSchedulerImpl: Lost executor 29 on 172.24.0.4: worker lost: Not receiving heartbeat for 60 seconds\n",
      "25/10/22 17:11:40 ERROR TaskSchedulerImpl: Lost executor 30 on 172.24.0.4: worker lost: Not receiving heartbeat for 60 seconds\n",
      "25/10/22 17:56:32 ERROR TaskSchedulerImpl: Lost executor 31 on 172.24.0.4: worker lost: Not receiving heartbeat for 60 seconds\n",
      "25/10/22 18:02:29 ERROR TaskSchedulerImpl: Lost executor 32 on 172.24.0.4: worker lost: Not receiving heartbeat for 60 seconds\n",
      "25/10/22 18:52:24 ERROR TaskSchedulerImpl: Lost executor 33 on 172.24.0.4: worker lost: Not receiving heartbeat for 60 seconds\n",
      "25/10/22 18:55:21 ERROR TaskSchedulerImpl: Lost executor 34 on 172.24.0.4: worker lost: Not receiving heartbeat for 60 seconds\n",
      "25/10/22 19:04:35 ERROR TaskSchedulerImpl: Lost executor 35 on 172.24.0.4: worker lost: Not receiving heartbeat for 60 seconds\n",
      "25/10/22 19:14:11 ERROR TaskSchedulerImpl: Lost executor 36 on 172.24.0.4: worker lost: Not receiving heartbeat for 60 seconds\n",
      "25/10/22 19:18:26 ERROR TaskSchedulerImpl: Lost executor 37 on 172.24.0.4: worker lost: Not receiving heartbeat for 60 seconds\n",
      "25/10/22 19:40:33 ERROR TaskSchedulerImpl: Lost executor 38 on 172.24.0.4: worker lost: Not receiving heartbeat for 60 seconds\n",
      "25/10/22 19:53:58 ERROR TaskSchedulerImpl: Lost executor 39 on 172.24.0.4: worker lost: Not receiving heartbeat for 60 seconds\n",
      "25/10/22 19:58:35 ERROR TaskSchedulerImpl: Lost executor 40 on 172.24.0.4: worker lost: Not receiving heartbeat for 60 seconds\n",
      "25/10/22 20:47:14 ERROR TaskSchedulerImpl: Lost executor 41 on 172.24.0.4: worker lost: Not receiving heartbeat for 60 seconds\n",
      "25/10/22 20:59:40 ERROR TaskSchedulerImpl: Lost executor 42 on 172.24.0.4: worker lost: Not receiving heartbeat for 60 seconds\n",
      "25/10/22 21:04:58 ERROR TaskSchedulerImpl: Lost executor 43 on 172.24.0.4: worker lost: Not receiving heartbeat for 60 seconds\n",
      "25/10/22 21:41:41 ERROR TaskSchedulerImpl: Lost executor 44 on 172.24.0.4: worker lost: Not receiving heartbeat for 60 seconds\n",
      "25/10/22 22:32:13 ERROR TaskSchedulerImpl: Lost executor 45 on 172.24.0.4: worker lost: Not receiving heartbeat for 60 seconds\n",
      "25/10/22 22:48:14 ERROR TaskSchedulerImpl: Lost executor 46 on 172.24.0.4: worker lost: Not receiving heartbeat for 60 seconds\n",
      "25/10/22 23:33:05 ERROR TaskSchedulerImpl: Lost executor 47 on 172.24.0.4: worker lost: Not receiving heartbeat for 60 seconds\n",
      "25/10/22 23:49:05 ERROR TaskSchedulerImpl: Lost executor 48 on 172.24.0.4: worker lost: Not receiving heartbeat for 60 seconds\n",
      "25/10/23 00:38:46 ERROR TaskSchedulerImpl: Lost executor 49 on 172.24.0.4: worker lost: Not receiving heartbeat for 60 seconds\n",
      "25/10/23 00:52:58 ERROR TaskSchedulerImpl: Lost executor 50 on 172.24.0.4: worker lost: Not receiving heartbeat for 60 seconds\n",
      "25/10/23 01:19:03 ERROR TaskSchedulerImpl: Lost executor 51 on 172.24.0.4: worker lost: Not receiving heartbeat for 60 seconds\n",
      "25/10/23 01:35:02 ERROR TaskSchedulerImpl: Lost executor 52 on 172.24.0.4: worker lost: Not receiving heartbeat for 60 seconds\n",
      "25/10/23 01:36:51 ERROR TaskSchedulerImpl: Lost executor 53 on 172.24.0.4: worker lost: Not receiving heartbeat for 60 seconds\n",
      "25/10/23 02:29:13 ERROR TaskSchedulerImpl: Lost executor 54 on 172.24.0.4: worker lost: Not receiving heartbeat for 60 seconds\n",
      "25/10/23 02:45:13 ERROR TaskSchedulerImpl: Lost executor 55 on 172.24.0.4: worker lost: Not receiving heartbeat for 60 seconds\n",
      "25/10/23 03:19:46 ERROR TaskSchedulerImpl: Lost executor 56 on 172.24.0.4: worker lost: Not receiving heartbeat for 60 seconds\n",
      "25/10/23 03:35:46 ERROR TaskSchedulerImpl: Lost executor 57 on 172.24.0.4: worker lost: Not receiving heartbeat for 60 seconds\n",
      "25/10/23 04:23:45 ERROR TaskSchedulerImpl: Lost executor 58 on 172.24.0.4: worker lost: Not receiving heartbeat for 60 seconds\n",
      "25/10/23 04:25:56 ERROR TaskSchedulerImpl: Lost executor 59 on 172.24.0.4: worker lost: Not receiving heartbeat for 60 seconds\n"
     ]
    }
   ],
   "source": [
    "heart_df.show(2)"
   ]
  },
  {
   "cell_type": "markdown",
   "metadata": {},
   "source": [
    "# Data Splitting"
   ]
  },
  {
   "cell_type": "markdown",
   "metadata": {},
   "source": [
    "# Create ML Model"
   ]
  },
  {
   "cell_type": "markdown",
   "metadata": {},
   "source": [
    "# Train ML Model"
   ]
  },
  {
   "cell_type": "markdown",
   "metadata": {},
   "source": [
    "# Test ML Model"
   ]
  },
  {
   "cell_type": "code",
   "execution_count": null,
   "metadata": {},
   "outputs": [],
   "source": [
    "sc.stop()"
   ]
  }
 ],
 "metadata": {
  "kernelspec": {
   "display_name": "Python 3 (ipykernel)",
   "language": "python",
   "name": "python3"
  },
  "language_info": {
   "codemirror_mode": {
    "name": "ipython",
    "version": 3
   },
   "file_extension": ".py",
   "mimetype": "text/x-python",
   "name": "python",
   "nbconvert_exporter": "python",
   "pygments_lexer": "ipython3",
   "version": "3.10.12"
  }
 },
 "nbformat": 4,
 "nbformat_minor": 4
}
