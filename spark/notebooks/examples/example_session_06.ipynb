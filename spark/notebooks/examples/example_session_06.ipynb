{
 "cells": [
  {
   "cell_type": "code",
   "execution_count": 3,
   "id": "7e1f5882-1b32-41d8-94e1-46f10f302222",
   "metadata": {},
   "outputs": [],
   "source": [
    "import findspark"
   ]
  },
  {
   "cell_type": "code",
   "execution_count": 4,
   "id": "c6b57046-5694-4669-b095-dfe3bdac8d19",
   "metadata": {},
   "outputs": [],
   "source": [
    "findspark.init()"
   ]
  },
  {
   "cell_type": "code",
   "execution_count": 6,
   "id": "5ae44730-ba19-489c-b121-f73c47d0bf62",
   "metadata": {},
   "outputs": [],
   "source": [
    "from pyspark.sql import SparkSession"
   ]
  },
  {
   "cell_type": "code",
   "execution_count": 16,
   "id": "1c09916e-d113-4909-977c-3ea5c679f552",
   "metadata": {},
   "outputs": [],
   "source": [
    "spark = SparkSession.builder \\\n",
    "    .appName(\"1st Spark Session\") \\\n",
    "    .master(\"spark://28796b34779d:7077\") \\\n",
    "    .config(\"spark.ui.port\",\"4040\") \\\n",
    "    .getOrCreate()"
   ]
  },
  {
   "cell_type": "code",
   "execution_count": 17,
   "id": "5178fdc7-b0c3-42df-8f9c-b5d0f4002c0a",
   "metadata": {},
   "outputs": [],
   "source": [
    "sc = spark.sparkContext\n",
    "sc.setLogLevel(\"ERROR\")"
   ]
  },
  {
   "cell_type": "code",
   "execution_count": 10,
   "id": "dcb292cd-ab4c-4c6e-a3ec-dded835bd3c8",
   "metadata": {},
   "outputs": [],
   "source": [
    "data = [2, 53, 7775, 75, 3345, 645]\n",
    "\n",
    "rdd = sc.parallelize(data)"
   ]
  },
  {
   "cell_type": "code",
   "execution_count": 11,
   "id": "ae2093b5-580f-4b87-a552-c45cda0f30b4",
   "metadata": {},
   "outputs": [
    {
     "name": "stderr",
     "output_type": "stream",
     "text": [
      "                                                                                "
     ]
    }
   ],
   "source": [
    "s_rdd = rdd.map(lambda x: x ** 2)\n",
    "squares_list = s_rdd.collect()"
   ]
  },
  {
   "cell_type": "code",
   "execution_count": 12,
   "id": "9e18934b-bc2a-4412-a507-665eb946768e",
   "metadata": {},
   "outputs": [
    {
     "data": {
      "text/plain": [
       "[4, 2809, 60450625, 5625, 11189025, 416025]"
      ]
     },
     "execution_count": 12,
     "metadata": {},
     "output_type": "execute_result"
    }
   ],
   "source": [
    "squares_list"
   ]
  },
  {
   "cell_type": "code",
   "execution_count": 13,
   "id": "8d3819c1-28fa-4ffe-9788-75d4ff786267",
   "metadata": {},
   "outputs": [],
   "source": [
    "sc.stop()"
   ]
  },
  {
   "cell_type": "code",
   "execution_count": 18,
   "id": "03a2bf06-e1b7-42ff-ba4f-2a81a54415dc",
   "metadata": {},
   "outputs": [],
   "source": [
    "rdd2 = sc.parallelize(data)"
   ]
  },
  {
   "cell_type": "code",
   "execution_count": 19,
   "id": "81fdf4b8-7fe4-435a-af11-1f427707c553",
   "metadata": {},
   "outputs": [],
   "source": [
    "sc.stop()"
   ]
  }
 ],
 "metadata": {
  "kernelspec": {
   "display_name": "Python 3 (ipykernel)",
   "language": "python",
   "name": "python3"
  },
  "language_info": {
   "codemirror_mode": {
    "name": "ipython",
    "version": 3
   },
   "file_extension": ".py",
   "mimetype": "text/x-python",
   "name": "python",
   "nbconvert_exporter": "python",
   "pygments_lexer": "ipython3",
   "version": "3.10.12"
  }
 },
 "nbformat": 4,
 "nbformat_minor": 5
}
