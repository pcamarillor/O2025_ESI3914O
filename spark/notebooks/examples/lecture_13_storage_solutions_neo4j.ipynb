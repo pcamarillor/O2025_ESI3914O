{
 "cells": [
  {
   "cell_type": "markdown",
   "metadata": {},
   "source": [
    "# <center> <img src=\"../img/ITESOLogo.png\" alt=\"ITESO\" width=\"480\" height=\"130\"> </center>\n",
    "# <center> **Departamento de Electrónica, Sistemas e Informática** </center>\n",
    "---\n",
    "## <center> **Big Data** </center>\n",
    "---\n",
    "### <center> **Autumn 2025** </center>\n",
    "---\n",
    "### <center> **Examples on Storage Solutions (Neo4j)** </center>\n",
    "---\n",
    "**Profesor**: Pablo Camarillo Ramirez"
   ]
  },
  {
   "cell_type": "markdown",
   "metadata": {},
   "source": [
    "# Neo4j setup\n",
    "## Install Neo4j with Docker\n",
    "\n",
    "Go to **spark** directory and run:\n",
    "\n",
    "```\n",
    "docker run \\\n",
    "    -d --restart always \\\n",
    "    --publish=7474:7474 --publish=7687:7687 \\\n",
    "    --env NEO4J_AUTH=neo4j/neo4j@1234 \\\n",
    "    --volume=data_neo4j:/data \\\n",
    "    --name neo4j-iteso \\\n",
    "    --network spark_default \\\n",
    "    neo4j:2025.09.0\n",
    "```"
   ]
  },
  {
   "cell_type": "markdown",
   "metadata": {},
   "source": [
    "# Create SparkSession"
   ]
  },
  {
   "cell_type": "code",
   "execution_count": null,
   "metadata": {},
   "outputs": [],
   "source": [
    "import findspark\n",
    "findspark.init()\n",
    "\n",
    "from pyspark.sql import SparkSession\n",
    "\n",
    "spark = SparkSession.builder \\\n",
    "    .appName(\"Examples on storage solutions with Neo4j\") \\\n",
    "    .master(\"spark://spark-master:7077\") \\\n",
    "    .config(\"spark.jars.packages\", \"org.neo4j:neo4j-connector-apache-spark_2.13:5.3.10_for_spark_3\") \\\n",
    "    .config(\"spark.ui.port\", \"4040\") \\\n",
    "    .getOrCreate()\n",
    "\n",
    "sc = spark.sparkContext\n",
    "sc.setLogLevel(\"ERROR\")\n",
    "# Optimization (reduce the number of shuffle partitions)\n",
    "spark.conf.set(\"spark.sql.shuffle.partitions\", \"5\")"
   ]
  },
  {
   "cell_type": "markdown",
   "metadata": {},
   "source": [
    "# Create DataFrames"
   ]
  },
  {
   "cell_type": "code",
   "execution_count": null,
   "metadata": {},
   "outputs": [],
   "source": [
    "from pcamarillor.spark_utils import SparkUtils\n",
    "\n",
    "# Example Users dataset\n",
    "users_data = [\n",
    "    {\"user_id\": \"U1\", \"name\": \"Alice\", \"country\": \"USA\"},\n",
    "    {\"user_id\": \"U2\", \"name\": \"Bob\", \"country\": \"Canada\"},\n",
    "    {\"user_id\": \"U3\", \"name\": \"Carla\", \"country\": \"Mexico\"},\n",
    "]\n",
    "users_schema = SparkUtils.generate_schema([(\"user_id\", \"string\"), (\"name\", \"string\"), (\"country\", \"string\")])\n",
    "\n",
    "# Example Transactions dataset\n",
    "transactions_data = [\n",
    "    {\"user_id\": \"U1\", \"product\": \"Laptop\", \"amount\": 1200, \"date\": \"2025-01-05\"},\n",
    "    {\"user_id\": \"U2\", \"product\": \"Phone\", \"amount\": 800, \"date\": \"2025-01-07\"},\n",
    "    {\"user_id\": \"U1\", \"product\": \"Mouse\", \"amount\": 20, \"date\": \"2025-01-10\"},\n",
    "    {\"user_id\": \"U3\", \"product\": \"Laptop\", \"amount\": 1150, \"date\": \"2025-01-15\"},\n",
    "]\n",
    "transactions_schema = SparkUtils.generate_schema([(\"user_id\", \"string\"), (\"product\", \"string\"), (\"amount\", \"int\"), (\"date\", \"string\")])\n",
    "\n",
    "# Create DataFrames\n",
    "users_df = spark.createDataFrame(users_data, schema=users_schema)\n",
    "transactions_df = spark.createDataFrame(transactions_data, schema=transactions_schema)\n"
   ]
  },
  {
   "cell_type": "markdown",
   "metadata": {},
   "source": [
    "# Perform transformations"
   ]
  },
  {
   "cell_type": "code",
   "execution_count": null,
   "metadata": {},
   "outputs": [],
   "source": [
    "from pyspark.sql.functions import col\n",
    "\n",
    "# --- NODES ---\n",
    "\n",
    "# User Nodes\n",
    "user_nodes = users_df.select(\n",
    "    col(\"user_id\").alias(\"id\"),\n",
    "    col(\"name\"),\n",
    "    col(\"country\")\n",
    ").dropDuplicates([\"id\"])\n",
    "user_nodes.show()\n",
    "\n",
    "# Product Nodes\n",
    "product_nodes = transactions_df.select(\n",
    "    col(\"product\").alias(\"id\")\n",
    ").dropDuplicates([\"id\"])\n",
    "product_nodes.show()\n",
    "\n",
    "\n",
    "# --- EDGES ---\n",
    "\n",
    "# Purchases: relationships between User -> Product\n",
    "purchase_edges = transactions_df.select(\n",
    "    col(\"user_id\").alias(\"src\"),   # source node (User)\n",
    "    col(\"product\").alias(\"dst\"),   # destination node (Product)\n",
    "    col(\"amount\"),\n",
    "    col(\"date\")\n",
    ")\n",
    "purchase_edges.show()"
   ]
  },
  {
   "cell_type": "markdown",
   "metadata": {},
   "source": [
    "# Write data to a Neo4j Graph"
   ]
  },
  {
   "cell_type": "code",
   "execution_count": null,
   "metadata": {},
   "outputs": [],
   "source": [
    "neo4j_url = \"bolt://neo4j-iteso:7687\"\n",
    "neo4j_user = \"neo4j\"\n",
    "neo4j_passwd = \"neo4j@1234\"\n",
    "\n",
    "user_nodes.write \\\n",
    "  .format(\"org.neo4j.spark.DataSource\") \\\n",
    "  .mode(\"Overwrite\") \\\n",
    "  .option(\"url\", neo4j_url) \\\n",
    "  .option(\"authentication.basic.username\", neo4j_user) \\\n",
    "  .option(\"authentication.basic.password\", neo4j_passwd) \\\n",
    "  .option(\"labels\", \":User\") \\\n",
    "  .option(\"node.keys\", \"id\") \\\n",
    "  .save()\n",
    "\n",
    "print(f\"{user_nodes.count()} users wrote in Neo4j\")\n",
    "\n",
    "\n",
    "product_nodes.write \\\n",
    "  .format(\"org.neo4j.spark.DataSource\") \\\n",
    "  .mode(\"Overwrite\") \\\n",
    "  .option(\"url\", neo4j_url) \\\n",
    "  .option(\"authentication.basic.username\", neo4j_user) \\\n",
    "  .option(\"authentication.basic.password\", neo4j_passwd) \\\n",
    "  .option(\"labels\", \":Product\") \\\n",
    "  .option(\"node.keys\", \"id\") \\\n",
    "  .save()\n",
    "\n",
    "print(f\"{product_nodes.count()} product nodes wrote in Neo4j\")\n",
    "\n",
    "purchase_edges.write \\\n",
    "  .format(\"org.neo4j.spark.DataSource\") \\\n",
    "  .mode(\"Overwrite\") \\\n",
    "  .option(\"url\", neo4j_url) \\\n",
    "  .option(\"authentication.basic.username\", neo4j_user) \\\n",
    "  .option(\"authentication.basic.password\", neo4j_passwd) \\\n",
    "  .option(\"relationship\", \"PURCHASED\") \\\n",
    "  .option(\"relationship.save.strategy\", \"keys\") \\\n",
    "  .option(\"relationship.source.labels\", \":User\") \\\n",
    "  .option(\"relationship.source.save.mode\", \"match\") \\\n",
    "  .option(\"relationship.source.node.keys\", \"src:id\") \\\n",
    "  .option(\"relationship.target.labels\", \":Product\") \\\n",
    "  .option(\"relationship.target.save.mode\", \"match\") \\\n",
    "  .option(\"relationship.target.node.keys\", \"dst:id\") \\\n",
    "  .save()\n",
    "\n",
    "print(f\"{purchase_edges.count()} purchase edges wrote in Neo4j\")"
   ]
  },
  {
   "cell_type": "markdown",
   "metadata": {},
   "source": [
    "# Read data from a Neo4j Graph"
   ]
  },
  {
   "cell_type": "code",
   "execution_count": null,
   "metadata": {},
   "outputs": [],
   "source": [
    "cypher_df = spark.read \\\n",
    "    .format(\"org.neo4j.spark.DataSource\") \\\n",
    "    .option(\"url\", neo4j_url) \\\n",
    "    .option(\"authentication.basic.username\", neo4j_user) \\\n",
    "    .option(\"authentication.basic.password\", neo4j_passwd) \\\n",
    "    .option(\"query\",\n",
    "            \"\"\"\n",
    "            MATCH (u:User)-[r:PURCHASED]->(p:Product)\n",
    "            WHERE r.amount > 1000\n",
    "            RETURN u.name, p.id, r.amount\n",
    "            \"\"\") \\\n",
    "    .load()\n",
    "\n",
    "cypher_df.show()"
   ]
  },
  {
   "cell_type": "code",
   "execution_count": null,
   "metadata": {},
   "outputs": [],
   "source": [
    "sc.stop()"
   ]
  }
 ],
 "metadata": {
  "kernelspec": {
   "display_name": "Python 3 (ipykernel)",
   "language": "python",
   "name": "python3"
  },
  "language_info": {
   "codemirror_mode": {
    "name": "ipython",
    "version": 3
   },
   "file_extension": ".py",
   "mimetype": "text/x-python",
   "name": "python",
   "nbconvert_exporter": "python",
   "pygments_lexer": "ipython3",
   "version": "3.10.12"
  }
 },
 "nbformat": 4,
 "nbformat_minor": 4
}
