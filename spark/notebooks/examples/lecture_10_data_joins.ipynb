{
 "cells": [
  {
   "cell_type": "markdown",
   "metadata": {},
   "source": [
    "# <center> <img src=\"../img/ITESOLogo.png\" alt=\"ITESO\" width=\"480\" height=\"130\"> </center>\n",
    "# <center> **Departamento de Electrónica, Sistemas e Informática** </center>\n",
    "---\n",
    "## <center> **Big Data** </center>\n",
    "---\n",
    "### <center> **Autumn 2025** </center>\n",
    "---\n",
    "### <center> **Examples on Data Joins and JSON columns** </center>\n",
    "---\n",
    "**Profesor**: Pablo Camarillo Ramirez"
   ]
  },
  {
   "cell_type": "markdown",
   "metadata": {},
   "source": [
    "# Create SparkSession"
   ]
  },
  {
   "cell_type": "code",
   "execution_count": 1,
   "metadata": {},
   "outputs": [
    {
     "name": "stderr",
     "output_type": "stream",
     "text": [
      "WARNING: Using incubator modules: jdk.incubator.vector\n",
      "Using Spark's default log4j profile: org/apache/spark/log4j2-defaults.properties\n",
      "Setting default log level to \"WARN\".\n",
      "To adjust logging level use sc.setLogLevel(newLevel). For SparkR, use setLogLevel(newLevel).\n",
      "25/09/23 13:45:39 WARN NativeCodeLoader: Unable to load native-hadoop library for your platform... using builtin-java classes where applicable\n"
     ]
    }
   ],
   "source": [
    "import findspark\n",
    "findspark.init()\n",
    "\n",
    "from pyspark.sql import SparkSession\n",
    "\n",
    "spark = SparkSession.builder \\\n",
    "    .appName(\"Examples on data sources (Files)\") \\\n",
    "    .master(\"spark://55753eb702bd:7077\") \\\n",
    "    .config(\"spark.ui.port\", \"4040\") \\\n",
    "    .getOrCreate()\n",
    "\n",
    "sc = spark.sparkContext\n",
    "sc.setLogLevel(\"ERROR\")"
   ]
  },
  {
   "cell_type": "markdown",
   "metadata": {},
   "source": [
    "# Manipulating JSON Columns"
   ]
  },
  {
   "cell_type": "code",
   "execution_count": 3,
   "metadata": {},
   "outputs": [
    {
     "name": "stdout",
     "output_type": "stream",
     "text": [
      "+---+--------------------------------------------------------------------------------------------------------+\n",
      "|id |json_col                                                                                                |\n",
      "+---+--------------------------------------------------------------------------------------------------------+\n",
      "|1  |{\"name\": \"Alice\", \"age\": 25, \"payments\": [34, 433, 54], \"address\": {\"city\": \"New York\", \"zip\": \"10001\"}}|\n",
      "|2  |{\"name\": \"Bob\", \"age\": 30, \"address\": {\"city\": \"Los Angeles\", \"zip\": \"90001\"}}                          |\n",
      "|3  |{\"name\": \"Charlie\", \"age\": 35, \"address\": {\"city\": \"Chicago\", \"zip\": \"60601\"}}                          |\n",
      "+---+--------------------------------------------------------------------------------------------------------+\n",
      "\n"
     ]
    }
   ],
   "source": [
    "from pcamarillor.spark_utils import SparkUtils\n",
    "json_schema = SparkUtils.generate_schema([(\"id\", \"int\"), (\"json_col\", \"string\")])\n",
    "json_data = [\n",
    "    (1, '{\"name\": \"Alice\", \"age\": 25, \"payments\": [34, 433, 54], \"address\": {\"city\": \"New York\", \"zip\": \"10001\"}}'),\n",
    "    (2, '{\"name\": \"Bob\", \"age\": 30, \"address\": {\"city\": \"Los Angeles\", \"zip\": \"90001\"}}'),\n",
    "    (3, '{\"name\": \"Charlie\", \"age\": 35, \"address\": {\"city\": \"Chicago\", \"zip\": \"60601\"}}')\n",
    "]\n",
    "\n",
    "df_json = spark.createDataFrame(json_data, json_schema)\n",
    "df_json.show(truncate=False)\n"
   ]
  },
  {
   "cell_type": "markdown",
   "metadata": {},
   "source": [
    "### Extract a JSON column with get_json_object function"
   ]
  },
  {
   "cell_type": "code",
   "execution_count": 6,
   "metadata": {},
   "outputs": [
    {
     "name": "stdout",
     "output_type": "stream",
     "text": [
      "+---+--------------------+---+-------+\n",
      "| id|            json_col|age|   name|\n",
      "+---+--------------------+---+-------+\n",
      "|  1|{\"name\": \"Alice\",...| 25|  Alice|\n",
      "|  2|{\"name\": \"Bob\", \"...| 30|    Bob|\n",
      "|  3|{\"name\": \"Charlie...| 35|Charlie|\n",
      "+---+--------------------+---+-------+\n",
      "\n"
     ]
    }
   ],
   "source": [
    "from pyspark.sql.functions import get_json_object\n",
    "df_json = df_json.withColumn(\"name\", get_json_object(df_json.json_col, \"$.name\"))\n",
    "df_json.show()"
   ]
  },
  {
   "cell_type": "code",
   "execution_count": 7,
   "metadata": {},
   "outputs": [
    {
     "name": "stdout",
     "output_type": "stream",
     "text": [
      "+---+--------------------+---+-------+\n",
      "| id|            json_col|age|   name|\n",
      "+---+--------------------+---+-------+\n",
      "|  1|{\"name\": \"Alice\",...| 25|  Alice|\n",
      "|  2|{\"name\": \"Bob\", \"...| 30|    Bob|\n",
      "|  3|{\"name\": \"Charlie...| 35|Charlie|\n",
      "+---+--------------------+---+-------+\n",
      "\n"
     ]
    }
   ],
   "source": [
    "df_json = df_json.withColumn(\"age\", get_json_object(df_json.json_col, \"$.age\"))\n",
    "df_json.show()"
   ]
  },
  {
   "cell_type": "markdown",
   "metadata": {},
   "source": [
    "### Extact a JSON column with from_json"
   ]
  },
  {
   "cell_type": "code",
   "execution_count": 10,
   "metadata": {},
   "outputs": [
    {
     "name": "stdout",
     "output_type": "stream",
     "text": [
      "root\n",
      " |-- id: integer (nullable = true)\n",
      " |-- json_col: string (nullable = true)\n",
      " |-- age: string (nullable = true)\n",
      " |-- name: string (nullable = true)\n",
      " |-- parsed: struct (nullable = true)\n",
      " |    |-- name: string (nullable = true)\n",
      " |    |-- age: integer (nullable = true)\n",
      " |    |-- payments: array (nullable = true)\n",
      " |    |    |-- element: integer (containsNull = true)\n",
      " |    |-- address: struct (nullable = true)\n",
      "\n",
      "+---+--------------------------------------------------------------------------------------------------------+---+-------+------------------------------+\n",
      "|id |json_col                                                                                                |age|name   |parsed                        |\n",
      "+---+--------------------------------------------------------------------------------------------------------+---+-------+------------------------------+\n",
      "|1  |{\"name\": \"Alice\", \"age\": 25, \"payments\": [34, 433, 54], \"address\": {\"city\": \"New York\", \"zip\": \"10001\"}}|25 |Alice  |{Alice, 25, [34, 433, 54], {}}|\n",
      "|2  |{\"name\": \"Bob\", \"age\": 30, \"address\": {\"city\": \"Los Angeles\", \"zip\": \"90001\"}}                          |30 |Bob    |{Bob, 30, NULL, {}}           |\n",
      "|3  |{\"name\": \"Charlie\", \"age\": 35, \"address\": {\"city\": \"Chicago\", \"zip\": \"60601\"}}                          |35 |Charlie|{Charlie, 35, NULL, {}}       |\n",
      "+---+--------------------------------------------------------------------------------------------------------+---+-------+------------------------------+\n",
      "\n"
     ]
    }
   ],
   "source": [
    "from pyspark.sql.functions import from_json\n",
    "# Deine the schema of the JSON object\n",
    "people_schema = SparkUtils.generate_schema([(\"name\", \"string\"),\n",
    "                                            (\"age\", \"int\"),\n",
    "                                            (\"payments\", \"array_int\"),\n",
    "                                            (\"address\", \"struct\")])\n",
    "df_parsed = df_json.withColumn(\"parsed\", from_json(df_json.json_col, people_schema))\n",
    "df_parsed.printSchema()\n",
    "df_parsed.show(truncate=False)"
   ]
  },
  {
   "cell_type": "code",
   "execution_count": 11,
   "metadata": {},
   "outputs": [
    {
     "name": "stdout",
     "output_type": "stream",
     "text": [
      "root\n",
      " |-- id: integer (nullable = true)\n",
      " |-- json_col: string (nullable = true)\n",
      " |-- age: string (nullable = true)\n",
      " |-- name: string (nullable = true)\n",
      " |-- parsed: struct (nullable = true)\n",
      " |    |-- name: string (nullable = true)\n",
      " |    |-- age: integer (nullable = true)\n",
      " |    |-- payments: array (nullable = true)\n",
      " |    |    |-- element: integer (containsNull = true)\n",
      " |    |-- address: struct (nullable = true)\n",
      "\n"
     ]
    }
   ],
   "source": [
    "df_parsed.printSchema()"
   ]
  },
  {
   "cell_type": "code",
   "execution_count": 12,
   "metadata": {},
   "outputs": [
    {
     "name": "stdout",
     "output_type": "stream",
     "text": [
      "+-------+------------------+\n",
      "|   name|parsed.payments[1]|\n",
      "+-------+------------------+\n",
      "|  Alice|               433|\n",
      "|    Bob|              NULL|\n",
      "|Charlie|              NULL|\n",
      "+-------+------------------+\n",
      "\n"
     ]
    }
   ],
   "source": [
    "from pyspark.sql.functions import col\n",
    "df_parsed.select(col(\"parsed.name\"), col(\"parsed.payments\").getItem(1)).show()"
   ]
  },
  {
   "cell_type": "markdown",
   "metadata": {},
   "source": [
    "# Data Joins & Unions"
   ]
  },
  {
   "cell_type": "markdown",
   "metadata": {},
   "source": [
    "## Data Join"
   ]
  },
  {
   "cell_type": "code",
   "execution_count": 13,
   "metadata": {},
   "outputs": [
    {
     "name": "stdout",
     "output_type": "stream",
     "text": [
      "+---+-------+\n",
      "| id|   name|\n",
      "+---+-------+\n",
      "|  1|  Alice|\n",
      "|  2|    Bob|\n",
      "|  3|Charlie|\n",
      "|  4|  David|\n",
      "+---+-------+\n",
      "\n"
     ]
    }
   ],
   "source": [
    "df_a = spark.createDataFrame([(1, \"Alice\"), (2, \"Bob\")],\n",
    "                              [\"id\", \"name\"])\n",
    "df_b = spark.createDataFrame([(3, \"Charlie\"), (4, \"David\")],\n",
    "                              [\"id\", \"name\"])\n",
    "result = df_a.union(df_b)\n",
    "result.show()"
   ]
  },
  {
   "cell_type": "markdown",
   "metadata": {},
   "source": [
    "### Union w/o duplicates"
   ]
  },
  {
   "cell_type": "code",
   "execution_count": 14,
   "metadata": {},
   "outputs": [
    {
     "name": "stdout",
     "output_type": "stream",
     "text": [
      "+---+-----+\n",
      "| id| name|\n",
      "+---+-----+\n",
      "|  1|Alice|\n",
      "|  2|  Bob|\n",
      "|  4|David|\n",
      "+---+-----+\n",
      "\n"
     ]
    }
   ],
   "source": [
    "df_a = spark.createDataFrame([(1, \"Alice\"), (2, \"Bob\")],\n",
    "                              [\"id\", \"name\"])\n",
    "df_b = spark.createDataFrame([(1, \"Alice\"), (4, \"David\")],\n",
    "                              [\"id\", \"name\"])\n",
    "df_a.union(df_b).distinct().show()"
   ]
  },
  {
   "cell_type": "markdown",
   "metadata": {},
   "source": [
    "### Union with Mismatched Schemas"
   ]
  },
  {
   "cell_type": "code",
   "execution_count": 15,
   "metadata": {},
   "outputs": [
    {
     "name": "stdout",
     "output_type": "stream",
     "text": [
      "+---+-----+\n",
      "| id| name|\n",
      "+---+-----+\n",
      "|  1|Alice|\n",
      "|  2|  Bob|\n",
      "+---+-----+\n",
      "\n"
     ]
    }
   ],
   "source": [
    "df_a = spark.createDataFrame([(1, \"Alice\")], [\"id\", \"name\"])\n",
    "df_b = spark.createDataFrame([(\"Bob\", 2)], [\"name\", \"id\"])\n",
    "result = df_a.unionByName(df_b)\n",
    "result.show()"
   ]
  },
  {
   "cell_type": "markdown",
   "metadata": {},
   "source": [
    "### Union by Name with missing columns"
   ]
  },
  {
   "cell_type": "code",
   "execution_count": 16,
   "metadata": {},
   "outputs": [
    {
     "name": "stdout",
     "output_type": "stream",
     "text": [
      "+---+-----+----+\n",
      "| id| name|city|\n",
      "+---+-----+----+\n",
      "|  1|Alice|  NY|\n",
      "+---+-----+----+\n",
      "\n",
      "+---+----+\n",
      "| id|name|\n",
      "+---+----+\n",
      "|  2| Bob|\n",
      "+---+----+\n",
      "\n",
      "+---+-----+----+\n",
      "| id| name|city|\n",
      "+---+-----+----+\n",
      "|  1|Alice|  NY|\n",
      "|  2|  Bob|NULL|\n",
      "+---+-----+----+\n",
      "\n"
     ]
    }
   ],
   "source": [
    "df_a = spark.createDataFrame([(1, \"Alice\", \"NY\")], [\"id\", \"name\", \"city\"])\n",
    "df_a.show()\n",
    "df_b = spark.createDataFrame([(2, \"Bob\")], [\"id\", \"name\"])\n",
    "df_b.show()\n",
    "result = df_a.unionByName(df_b, allowMissingColumns=True)\n",
    "result.show()"
   ]
  },
  {
   "cell_type": "markdown",
   "metadata": {},
   "source": [
    "## Left Join"
   ]
  },
  {
   "cell_type": "markdown",
   "metadata": {},
   "source": [
    "### Datasets"
   ]
  },
  {
   "cell_type": "code",
   "execution_count": 17,
   "metadata": {},
   "outputs": [
    {
     "name": "stdout",
     "output_type": "stream",
     "text": [
      "+---------------+----+---------+\n",
      "|      book_name|cost|writer_id|\n",
      "+---------------+----+---------+\n",
      "|Game of thrones| 400|        1|\n",
      "|          Spark| 500|        2|\n",
      "|          Kafka| 300|        3|\n",
      "|           Java| 350|        5|\n",
      "+---------------+----+---------+\n",
      "\n",
      "+------------------+---------+\n",
      "|       writer_name|writer_id|\n",
      "+------------------+---------+\n",
      "|George R.R. Martin|        1|\n",
      "|           Zaharia|        2|\n",
      "|              Neha|        3|\n",
      "|             James|        4|\n",
      "+------------------+---------+\n",
      "\n"
     ]
    }
   ],
   "source": [
    "book_data = [\n",
    "    (\"Game of thrones\", 400, 1),\n",
    "    (\"Spark\", 500, 2),\n",
    "    (\"Kafka\", 300, 3),\n",
    "    (\"Java\", 350, 5)\n",
    "]\n",
    "df_books = spark.createDataFrame(book_data, [\"book_name\", \"cost\", \"writer_id\"])\n",
    "\n",
    "writer_data = [\n",
    "    (\"George R.R. Martin\", 1),\n",
    "    (\"Zaharia\", 2),\n",
    "    (\"Neha\", 3),\n",
    "    (\"James\", 4)\n",
    "]\n",
    "df_writers = spark.createDataFrame(writer_data, [\"writer_name\", \"writer_id\"])\n",
    "\n",
    "df_books.show()\n",
    "df_writers.show()"
   ]
  },
  {
   "cell_type": "code",
   "execution_count": 18,
   "metadata": {},
   "outputs": [
    {
     "name": "stdout",
     "output_type": "stream",
     "text": [
      "+---------------+----+---------+------------------+---------+\n",
      "|      book_name|cost|writer_id|       writer_name|writer_id|\n",
      "+---------------+----+---------+------------------+---------+\n",
      "|Game of thrones| 400|        1|George R.R. Martin|        1|\n",
      "|          Spark| 500|        2|           Zaharia|        2|\n",
      "|           Java| 350|        5|              NULL|     NULL|\n",
      "|          Kafka| 300|        3|              Neha|        3|\n",
      "+---------------+----+---------+------------------+---------+\n",
      "\n"
     ]
    }
   ],
   "source": [
    "result = df_books.join(df_writers, \n",
    "      df_books[\"writer_id\"] == df_writers[\"writer_id\"], \"left\")\n",
    "result.show()"
   ]
  },
  {
   "cell_type": "code",
   "execution_count": 19,
   "metadata": {},
   "outputs": [
    {
     "name": "stdout",
     "output_type": "stream",
     "text": [
      "+---------+---------------+----+------------------+\n",
      "|writer_id|      book_name|cost|       writer_name|\n",
      "+---------+---------------+----+------------------+\n",
      "|        1|Game of thrones| 400|George R.R. Martin|\n",
      "|        2|          Spark| 500|           Zaharia|\n",
      "|        5|           Java| 350|              NULL|\n",
      "|        3|          Kafka| 300|              Neha|\n",
      "+---------+---------------+----+------------------+\n",
      "\n"
     ]
    }
   ],
   "source": [
    "result = df_books.join(df_writers, on=\"writer_id\", how=\"left\")\n",
    "result.show()"
   ]
  },
  {
   "cell_type": "markdown",
   "metadata": {},
   "source": [
    "## Right join"
   ]
  },
  {
   "cell_type": "code",
   "execution_count": 20,
   "metadata": {},
   "outputs": [
    {
     "name": "stdout",
     "output_type": "stream",
     "text": [
      "+---------------+----+---------+------------------+---------+\n",
      "|      book_name|cost|writer_id|       writer_name|writer_id|\n",
      "+---------------+----+---------+------------------+---------+\n",
      "|Game of thrones| 400|        1|George R.R. Martin|        1|\n",
      "|          Spark| 500|        2|           Zaharia|        2|\n",
      "|          Kafka| 300|        3|              Neha|        3|\n",
      "|           NULL|NULL|     NULL|             James|        4|\n",
      "+---------------+----+---------+------------------+---------+\n",
      "\n"
     ]
    }
   ],
   "source": [
    "result = df_books.join(df_writers, df_books[\"writer_id\"] == df_writers[\"writer_id\"], \"right\")\n",
    "result.show()"
   ]
  },
  {
   "cell_type": "code",
   "execution_count": 21,
   "metadata": {},
   "outputs": [
    {
     "name": "stdout",
     "output_type": "stream",
     "text": [
      "+---------+---------------+----+------------------+\n",
      "|writer_id|      book_name|cost|       writer_name|\n",
      "+---------+---------------+----+------------------+\n",
      "|        1|Game of thrones| 400|George R.R. Martin|\n",
      "|        2|          Spark| 500|           Zaharia|\n",
      "|        3|          Kafka| 300|              Neha|\n",
      "|        4|           NULL|NULL|             James|\n",
      "+---------+---------------+----+------------------+\n",
      "\n"
     ]
    }
   ],
   "source": [
    "result = df_books.join(df_writers, on=\"writer_id\", how=\"right\")\n",
    "result.show()"
   ]
  },
  {
   "cell_type": "code",
   "execution_count": 23,
   "metadata": {},
   "outputs": [
    {
     "name": "stdout",
     "output_type": "stream",
     "text": [
      "+---------+------------------+---------------+----+\n",
      "|writer_id|       writer_name|      book_name|cost|\n",
      "+---------+------------------+---------------+----+\n",
      "|        1|George R.R. Martin|Game of thrones| 400|\n",
      "|        2|           Zaharia|          Spark| 500|\n",
      "|        3|              Neha|          Kafka| 300|\n",
      "|        4|             James|           NULL|NULL|\n",
      "+---------+------------------+---------------+----+\n",
      "\n"
     ]
    }
   ],
   "source": [
    "df_writers.join(df_books, on=\"writer_id\", how=\"left\").show()"
   ]
  },
  {
   "cell_type": "markdown",
   "metadata": {},
   "source": [
    "### Inner Join"
   ]
  },
  {
   "cell_type": "code",
   "execution_count": 24,
   "metadata": {},
   "outputs": [
    {
     "name": "stdout",
     "output_type": "stream",
     "text": [
      "+---------+---------------+----+------------------+\n",
      "|writer_id|      book_name|cost|       writer_name|\n",
      "+---------+---------------+----+------------------+\n",
      "|        1|Game of thrones| 400|George R.R. Martin|\n",
      "|        2|          Spark| 500|           Zaharia|\n",
      "|        3|          Kafka| 300|              Neha|\n",
      "+---------+---------------+----+------------------+\n",
      "\n"
     ]
    }
   ],
   "source": [
    "df_books.join(df_writers, on=\"writer_id\").show()"
   ]
  },
  {
   "cell_type": "code",
   "execution_count": 25,
   "metadata": {},
   "outputs": [
    {
     "name": "stdout",
     "output_type": "stream",
     "text": [
      "/opt/spark/work-dir\n"
     ]
    }
   ],
   "source": [
    "!pwd"
   ]
  },
  {
   "cell_type": "code",
   "execution_count": 27,
   "metadata": {},
   "outputs": [
    {
     "name": "stdout",
     "output_type": "stream",
     "text": [
      "agencies  brands  cars\tcustomers  rentals\n"
     ]
    }
   ],
   "source": [
    "!ls /opt/spark/work-dir/data/car_service/"
   ]
  },
  {
   "cell_type": "code",
   "execution_count": 30,
   "metadata": {},
   "outputs": [
    {
     "name": "stdout",
     "output_type": "stream",
     "text": [
      "+---------+--------------------+\n",
      "|agency_id|         agency_info|\n",
      "+---------+--------------------+\n",
      "|        1|{'agency_name': '...|\n",
      "|        2|{'agency_name': '...|\n",
      "|        3|{'agency_name': '...|\n",
      "|        4|{'agency_name': '...|\n",
      "|        5|{'agency_name': '...|\n",
      "+---------+--------------------+\n",
      "\n"
     ]
    }
   ],
   "source": [
    "agecnies_schema = SparkUtils.generate_schema([(\"agency_id\", \"int\"), (\"agency_info\", \"string\")])\n",
    "agencies_df = spark.read.option(\"header\", True).schema(agecnies_schema).csv(\"/opt/spark/work-dir/data/car_service/agencies\")\n",
    "agencies_df.show()"
   ]
  },
  {
   "cell_type": "code",
   "execution_count": 31,
   "metadata": {},
   "outputs": [
    {
     "data": {
      "text/plain": [
       "24"
      ]
     },
     "execution_count": 31,
     "metadata": {},
     "output_type": "execute_result"
    }
   ],
   "source": [
    "import random\n",
    "students = [\n",
    " 'Juan Carlos', 'Caro', 'Luis Bravo',\n",
    " 'Jose Alfredo', 'Roberto', 'Carlos Eduardo',\n",
    " 'Jaime Contreras', 'Jose Juan', 'Axel Escoto',\n",
    " 'Axel Leonardo', 'Jaime Galindo', 'Axel Gallardo', 'Melina', 'Antonia',\n",
    " 'Santiago', 'Valeria', 'Diego', 'Bernard',\n",
    " 'Luis Pelayo', 'Pablo', 'Luis Regalado',\n",
    " 'Santana', 'Sebastian', 'Sergio'\n",
    "]\n",
    "len(students)"
   ]
  },
  {
   "cell_type": "code",
   "execution_count": 32,
   "metadata": {},
   "outputs": [
    {
     "data": {
      "text/plain": [
       "'Carlos Eduardo'"
      ]
     },
     "execution_count": 32,
     "metadata": {},
     "output_type": "execute_result"
    }
   ],
   "source": [
    "random.choice(students)"
   ]
  },
  {
   "cell_type": "code",
   "execution_count": 33,
   "metadata": {},
   "outputs": [
    {
     "name": "stdout",
     "output_type": "stream",
     "text": [
      "+---------+--------------------+-------------+\n",
      "|agency_id|         agency_info|  agency_name|\n",
      "+---------+--------------------+-------------+\n",
      "|        1|{'agency_name': '...|  NYC Rentals|\n",
      "|        2|{'agency_name': '...|LA Car Rental|\n",
      "|        3|{'agency_name': '...| Zapopan Auto|\n",
      "|        4|{'agency_name': '...|      SF Cars|\n",
      "|        5|{'agency_name': '...|  Mexico Cars|\n",
      "+---------+--------------------+-------------+\n",
      "\n"
     ]
    }
   ],
   "source": [
    "agencies_df = agencies_df.withColumn(\"agency_name\", get_json_object(agencies_df.agency_info, \"$.agency_name\"))\n",
    "agencies_df.show()"
   ]
  },
  {
   "cell_type": "code",
   "execution_count": 34,
   "metadata": {},
   "outputs": [],
   "source": [
    "sc.stop()"
   ]
  }
 ],
 "metadata": {
  "kernelspec": {
   "display_name": "Python 3 (ipykernel)",
   "language": "python",
   "name": "python3"
  },
  "language_info": {
   "codemirror_mode": {
    "name": "ipython",
    "version": 3
   },
   "file_extension": ".py",
   "mimetype": "text/x-python",
   "name": "python",
   "nbconvert_exporter": "python",
   "pygments_lexer": "ipython3",
   "version": "3.10.12"
  }
 },
 "nbformat": 4,
 "nbformat_minor": 4
}
