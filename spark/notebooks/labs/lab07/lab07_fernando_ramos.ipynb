{
 "cells": [
  {
   "cell_type": "markdown",
   "id": "b92d9622",
   "metadata": {},
   "source": [
    "# <center> <img src=\"../../img/ITESOLogo.png\" alt=\"ITESO\" width=\"480\" height=\"130\"> </center>\n",
    "# <center> **Departamento de Electrónica, Sistemas e Informática** </center>\n",
    "---\n",
    "## <center> Computer Systems Engineering  </center>\n",
    "---\n",
    "### <center> Big Data Processing </center>\n",
    "---\n",
    "#### <center> **Autumn 2025** </center>\n",
    "---\n",
    "\n",
    "**Lab 07**: Structured Streaming with Files\n",
    "\n",
    "**Date**: October 7th 2025\n",
    "\n",
    "**Student Name**: Fernando Ramos\n",
    "\n",
    "**Professor**: Pablo Camarillo Ramirez"
   ]
  },
  {
   "cell_type": "code",
   "execution_count": 1,
   "id": "fd5dd7b3-026b-4e9e-ab70-a53f0a2daa81",
   "metadata": {},
   "outputs": [],
   "source": [
    "import findspark\n",
    "findspark.init()"
   ]
  },
  {
   "cell_type": "code",
   "execution_count": 2,
   "id": "47b370c9-23a7-451c-8cea-622f5b2c6e5c",
   "metadata": {},
   "outputs": [
    {
     "name": "stderr",
     "output_type": "stream",
     "text": [
      "WARNING: Using incubator modules: jdk.incubator.vector\n",
      "Using Spark's default log4j profile: org/apache/spark/log4j2-defaults.properties\n",
      "Setting default log level to \"WARN\".\n",
      "To adjust logging level use sc.setLogLevel(newLevel). For SparkR, use setLogLevel(newLevel).\n",
      "25/10/10 01:19:25 WARN NativeCodeLoader: Unable to load native-hadoop library for your platform... using builtin-java classes where applicable\n"
     ]
    }
   ],
   "source": [
    "from pyspark.sql import SparkSession\n",
    "from pyspark.sql.functions import avg, trim, col, count, isnull, when, lit, concat, round, asc, desc\n",
    "from datetime import datetime\n",
    "from fernandoramos.spark_utils import SparkUtils\n",
    "\n",
    "spark = SparkSession.builder \\\n",
    "    .appName(\"Lab07\") \\\n",
    "    .master(\"spark://d3eb0343c341:7077\") \\\n",
    "    .config(\"spark.ui.port\", \"4040\") \\\n",
    "    .getOrCreate()\n",
    "\n",
    "sc = spark.sparkContext\n",
    "sc.setLogLevel(\"ERROR\")"
   ]
  },
  {
   "cell_type": "markdown",
   "id": "875dc63f-449c-4d32-a154-6e7a6730aeeb",
   "metadata": {},
   "source": [
    "## 1. Define Schema for Server Logs"
   ]
  },
  {
   "cell_type": "code",
   "execution_count": 3,
   "id": "99c4ec4d-7bb7-4f7b-904c-af41ffe5847c",
   "metadata": {},
   "outputs": [
    {
     "name": "stdout",
     "output_type": "stream",
     "text": [
      "Schema generated.\n"
     ]
    }
   ],
   "source": [
    "logs_schema = SparkUtils.generate_schema([\n",
    "    (\"timestamp\", \"string\", True),\n",
    "    (\"server_id\", \"string\", True),\n",
    "    (\"temperature_celsius\", \"double\", True),\n",
    "    (\"humidity_percent\", \"double\", True),\n",
    "    (\"status_code\", \"int\", True),\n",
    "    (\"cpu_usage_percent\", \"double\", True),\n",
    "    (\"power_watts\", \"double\", True)\n",
    "])\n",
    "\n",
    "print(\"Schema generated.\")"
   ]
  },
  {
   "cell_type": "markdown",
   "id": "7ce6dd4d-9927-4028-aa93-0399456f4d4c",
   "metadata": {},
   "source": [
    "## 2. Create streaming Datafram"
   ]
  },
  {
   "cell_type": "code",
   "execution_count": 4,
   "id": "61803699-49f5-4de2-a960-34a45724abf2",
   "metadata": {},
   "outputs": [],
   "source": [
    "LOG_DIR = \"/opt/spark/work-dir/lib/fernandoramos/log-generation/\""
   ]
  },
  {
   "cell_type": "code",
   "execution_count": 5,
   "id": "b7ee63f7-8521-45ec-ba97-e430b7623bc9",
   "metadata": {},
   "outputs": [
    {
     "name": "stdout",
     "output_type": "stream",
     "text": [
      "Streaming source configured in directory: /opt/spark/work-dir/lib/fernandoramos/log-generation/\n"
     ]
    }
   ],
   "source": [
    "# Streaming DataFrame that monitors my personal lib directory\n",
    "streaming_logs = spark.readStream \\\n",
    "    .schema(logs_schema) \\\n",
    "    .format(\"json\") \\\n",
    "    .option(\"maxFilesPerTrigger\", 1) \\\n",
    "    .option(\"pathGlobFilter\", \"server_logs_*.json\") \\\n",
    "    .load(LOG_DIR)\n",
    "\n",
    "print(f\"Streaming source configured in directory: {LOG_DIR}\")"
   ]
  },
  {
   "cell_type": "markdown",
   "id": "b7928cd5-2707-4376-9d16-d3aee68919dc",
   "metadata": {},
   "source": [
    "## 3. Data transformation for critical logs filter"
   ]
  },
  {
   "cell_type": "code",
   "execution_count": 6,
   "id": "940e1068-22a2-4f82-865c-ca22c8c26edf",
   "metadata": {},
   "outputs": [],
   "source": [
    "# Add alert columns for critical logs that need reviewing\n",
    "analyzed_logs = streaming_logs \\\n",
    "    .withColumn(\"temp_alert\", \n",
    "                when(col(\"temperature_celsius\") > 26, \"HIGH_TEMP\")\n",
    "                .when(col(\"temperature_celsius\") < 18, \"LOW_TEMP\")\n",
    "                .otherwise(\"NORMAL\")) \\\n",
    "    .withColumn(\"humidity_alert\",\n",
    "                when(col(\"humidity_percent\") > 60, \"HIGH_HUMIDITY\")\n",
    "                .when(col(\"humidity_percent\") < 40, \"LOW_HUMIDITY\")\n",
    "                .otherwise(\"NORMAL\")) \\\n",
    "    .withColumn(\"error_type\",\n",
    "                when(col(\"status_code\") == 500, \"INTERNAL_ERROR\")\n",
    "                .when(col(\"status_code\") == 503, \"SERVICE_UNAVAILABLE\")\n",
    "                .when(col(\"status_code\") == 404, \"NOT_FOUND\")\n",
    "                .when(col(\"status_code\") == 200, \"SUCCESS\")\n",
    "                .otherwise(\"UNKNOWN\")) \\\n",
    "    .withColumn(\"critical_alert\",\n",
    "                when((col(\"status_code\") == 500) | \n",
    "                     (col(\"temperature_celsius\") > 26) |\n",
    "                     (col(\"humidity_percent\") > 60), True)\n",
    "                .otherwise(False))"
   ]
  },
  {
   "cell_type": "markdown",
   "id": "d864d533-4a9c-4232-8866-813ea0ab0a95",
   "metadata": {},
   "source": [
    "## 4. Data display"
   ]
  },
  {
   "cell_type": "code",
   "execution_count": 7,
   "id": "191e183a-8fa8-4331-854a-1583773d51e0",
   "metadata": {},
   "outputs": [
    {
     "name": "stdout",
     "output_type": "stream",
     "text": [
      "Streaming query started - showing all logs\n"
     ]
    },
    {
     "name": "stderr",
     "output_type": "stream",
     "text": [
      "                                                                                "
     ]
    },
    {
     "name": "stdout",
     "output_type": "stream",
     "text": [
      "-------------------------------------------\n",
      "Batch: 0\n",
      "-------------------------------------------\n",
      "+-------------------+----------+-------------------+----------------+-----------+----------+----------+--------------+--------------+\n",
      "|timestamp          |server_id |temperature_celsius|humidity_percent|status_code|error_type|temp_alert|humidity_alert|critical_alert|\n",
      "+-------------------+----------+-------------------+----------------+-----------+----------+----------+--------------+--------------+\n",
      "|2025-10-09 19:19:04|SERVER-004|18.19              |40.43           |200        |SUCCESS   |NORMAL    |NORMAL        |false         |\n",
      "|2025-10-09 19:19:04|SERVER-001|22.49              |57.63           |200        |SUCCESS   |NORMAL    |NORMAL        |false         |\n",
      "|2025-10-09 19:19:04|SERVER-001|21.42              |54.82           |200        |SUCCESS   |NORMAL    |NORMAL        |false         |\n",
      "|2025-10-09 19:19:04|SERVER-005|19.57              |43.18           |200        |SUCCESS   |NORMAL    |NORMAL        |false         |\n",
      "|2025-10-09 19:19:04|SERVER-005|19.32              |46.08           |200        |SUCCESS   |NORMAL    |NORMAL        |false         |\n",
      "|2025-10-09 19:19:04|SERVER-004|21.08              |57.23           |200        |SUCCESS   |NORMAL    |NORMAL        |false         |\n",
      "|2025-10-09 19:19:04|SERVER-005|27.9               |44.0            |200        |SUCCESS   |HIGH_TEMP |NORMAL        |true          |\n",
      "|2025-10-09 19:19:04|SERVER-004|19.16              |55.56           |200        |SUCCESS   |NORMAL    |NORMAL        |false         |\n",
      "|2025-10-09 19:19:04|SERVER-005|20.33              |40.24           |200        |SUCCESS   |NORMAL    |NORMAL        |false         |\n",
      "|2025-10-09 19:19:04|SERVER-004|20.17              |48.89           |200        |SUCCESS   |NORMAL    |NORMAL        |false         |\n",
      "+-------------------+----------+-------------------+----------------+-----------+----------+----------+--------------+--------------+\n",
      "\n",
      "-------------------------------------------\n",
      "Batch: 1\n",
      "-------------------------------------------\n",
      "+-------------------+----------+-------------------+----------------+-----------+-------------------+----------+--------------+--------------+\n",
      "|timestamp          |server_id |temperature_celsius|humidity_percent|status_code|error_type         |temp_alert|humidity_alert|critical_alert|\n",
      "+-------------------+----------+-------------------+----------------+-----------+-------------------+----------+--------------+--------------+\n",
      "|2025-10-09 19:19:09|SERVER-002|23.02              |77.04           |500        |INTERNAL_ERROR     |NORMAL    |HIGH_HUMIDITY |true          |\n",
      "|2025-10-09 19:19:09|SERVER-002|18.71              |43.25           |200        |SUCCESS            |NORMAL    |NORMAL        |false         |\n",
      "|2025-10-09 19:19:09|SERVER-005|23.05              |45.3            |503        |SERVICE_UNAVAILABLE|NORMAL    |NORMAL        |false         |\n",
      "|2025-10-09 19:19:09|SERVER-004|21.51              |44.62           |200        |SUCCESS            |NORMAL    |NORMAL        |false         |\n",
      "|2025-10-09 19:19:09|SERVER-005|22.54              |43.19           |200        |SUCCESS            |NORMAL    |NORMAL        |false         |\n",
      "|2025-10-09 19:19:09|SERVER-005|22.62              |50.67           |200        |SUCCESS            |NORMAL    |NORMAL        |false         |\n",
      "|2025-10-09 19:19:09|SERVER-001|24.4               |43.0            |404        |NOT_FOUND          |NORMAL    |NORMAL        |false         |\n",
      "|2025-10-09 19:19:10|SERVER-005|22.02              |58.44           |200        |SUCCESS            |NORMAL    |NORMAL        |false         |\n",
      "|2025-10-09 19:19:10|SERVER-005|24.32              |40.89           |500        |INTERNAL_ERROR     |NORMAL    |NORMAL        |true          |\n",
      "|2025-10-09 19:19:10|SERVER-002|21.4               |48.64           |200        |SUCCESS            |NORMAL    |NORMAL        |false         |\n",
      "+-------------------+----------+-------------------+----------------+-----------+-------------------+----------+--------------+--------------+\n",
      "\n"
     ]
    },
    {
     "name": "stderr",
     "output_type": "stream",
     "text": [
      "                                                                                "
     ]
    },
    {
     "name": "stdout",
     "output_type": "stream",
     "text": [
      "-------------------------------------------\n",
      "Batch: 2\n",
      "-------------------------------------------\n",
      "+-------------------+----------+-------------------+----------------+-----------+-------------------+----------+--------------+--------------+\n",
      "|timestamp          |server_id |temperature_celsius|humidity_percent|status_code|error_type         |temp_alert|humidity_alert|critical_alert|\n",
      "+-------------------+----------+-------------------+----------------+-----------+-------------------+----------+--------------+--------------+\n",
      "|2025-10-09 19:19:15|SERVER-002|24.11              |57.27           |200        |SUCCESS            |NORMAL    |NORMAL        |false         |\n",
      "|2025-10-09 19:19:15|SERVER-001|24.54              |76.88           |500        |INTERNAL_ERROR     |NORMAL    |HIGH_HUMIDITY |true          |\n",
      "|2025-10-09 19:19:15|SERVER-005|19.49              |54.37           |200        |SUCCESS            |NORMAL    |NORMAL        |false         |\n",
      "|2025-10-09 19:19:15|SERVER-004|22.21              |42.94           |500        |INTERNAL_ERROR     |NORMAL    |NORMAL        |true          |\n",
      "|2025-10-09 19:19:15|SERVER-005|20.63              |49.58           |200        |SUCCESS            |NORMAL    |NORMAL        |false         |\n",
      "|2025-10-09 19:19:15|SERVER-005|23.13              |48.33           |200        |SUCCESS            |NORMAL    |NORMAL        |false         |\n",
      "|2025-10-09 19:19:15|SERVER-005|29.62              |43.27           |503        |SERVICE_UNAVAILABLE|HIGH_TEMP |NORMAL        |true          |\n",
      "|2025-10-09 19:19:15|SERVER-001|23.3               |55.43           |500        |INTERNAL_ERROR     |NORMAL    |NORMAL        |true          |\n",
      "|2025-10-09 19:19:15|SERVER-003|18.98              |40.18           |500        |INTERNAL_ERROR     |NORMAL    |NORMAL        |true          |\n",
      "|2025-10-09 19:19:15|SERVER-001|19.18              |49.02           |200        |SUCCESS            |NORMAL    |NORMAL        |false         |\n",
      "+-------------------+----------+-------------------+----------------+-----------+-------------------+----------+--------------+--------------+\n",
      "\n",
      "-------------------------------------------\n",
      "Batch: 3\n",
      "-------------------------------------------\n",
      "+-------------------+----------+-------------------+----------------+-----------+--------------+----------+--------------+--------------+\n",
      "|timestamp          |server_id |temperature_celsius|humidity_percent|status_code|error_type    |temp_alert|humidity_alert|critical_alert|\n",
      "+-------------------+----------+-------------------+----------------+-----------+--------------+----------+--------------+--------------+\n",
      "|2025-10-09 19:19:20|SERVER-002|20.34              |50.17           |200        |SUCCESS       |NORMAL    |NORMAL        |false         |\n",
      "|2025-10-09 19:19:20|SERVER-001|18.84              |73.69           |200        |SUCCESS       |NORMAL    |HIGH_HUMIDITY |true          |\n",
      "|2025-10-09 19:19:20|SERVER-003|18.46              |46.43           |200        |SUCCESS       |NORMAL    |NORMAL        |false         |\n",
      "|2025-10-09 19:19:20|SERVER-002|22.34              |45.19           |200        |SUCCESS       |NORMAL    |NORMAL        |false         |\n",
      "|2025-10-09 19:19:20|SERVER-005|24.69              |44.16           |200        |SUCCESS       |NORMAL    |NORMAL        |false         |\n",
      "|2025-10-09 19:19:21|SERVER-002|20.66              |41.09           |500        |INTERNAL_ERROR|NORMAL    |NORMAL        |true          |\n",
      "|2025-10-09 19:19:21|SERVER-001|18.85              |50.52           |200        |SUCCESS       |NORMAL    |NORMAL        |false         |\n",
      "|2025-10-09 19:19:21|SERVER-003|22.44              |47.42           |404        |NOT_FOUND     |NORMAL    |NORMAL        |false         |\n",
      "|2025-10-09 19:19:21|SERVER-005|18.04              |68.9            |200        |SUCCESS       |NORMAL    |HIGH_HUMIDITY |true          |\n",
      "|2025-10-09 19:19:21|SERVER-002|20.36              |41.67           |200        |SUCCESS       |NORMAL    |NORMAL        |false         |\n",
      "+-------------------+----------+-------------------+----------------+-----------+--------------+----------+--------------+--------------+\n",
      "\n",
      "-------------------------------------------\n",
      "Batch: 4\n",
      "-------------------------------------------\n",
      "+-------------------+----------+-------------------+----------------+-----------+--------------+----------+--------------+--------------+\n",
      "|timestamp          |server_id |temperature_celsius|humidity_percent|status_code|error_type    |temp_alert|humidity_alert|critical_alert|\n",
      "+-------------------+----------+-------------------+----------------+-----------+--------------+----------+--------------+--------------+\n",
      "|2025-10-09 19:19:26|SERVER-003|19.66              |46.57           |200        |SUCCESS       |NORMAL    |NORMAL        |false         |\n",
      "|2025-10-09 19:19:26|SERVER-003|18.3               |57.04           |500        |INTERNAL_ERROR|NORMAL    |NORMAL        |true          |\n",
      "|2025-10-09 19:19:26|SERVER-004|30.34              |45.14           |200        |SUCCESS       |HIGH_TEMP |NORMAL        |true          |\n",
      "|2025-10-09 19:19:26|SERVER-001|19.02              |53.61           |200        |SUCCESS       |NORMAL    |NORMAL        |false         |\n",
      "|2025-10-09 19:19:26|SERVER-002|26.53              |56.68           |200        |SUCCESS       |HIGH_TEMP |NORMAL        |true          |\n",
      "|2025-10-09 19:19:26|SERVER-004|23.34              |44.5            |500        |INTERNAL_ERROR|NORMAL    |NORMAL        |true          |\n",
      "|2025-10-09 19:19:26|SERVER-005|22.98              |43.07           |200        |SUCCESS       |NORMAL    |NORMAL        |false         |\n",
      "|2025-10-09 19:19:26|SERVER-004|18.82              |50.55           |200        |SUCCESS       |NORMAL    |NORMAL        |false         |\n",
      "|2025-10-09 19:19:26|SERVER-003|24.32              |56.36           |200        |SUCCESS       |NORMAL    |NORMAL        |false         |\n",
      "|2025-10-09 19:19:26|SERVER-002|20.46              |57.93           |200        |SUCCESS       |NORMAL    |NORMAL        |false         |\n",
      "+-------------------+----------+-------------------+----------------+-----------+--------------+----------+--------------+--------------+\n",
      "\n"
     ]
    },
    {
     "name": "stderr",
     "output_type": "stream",
     "text": [
      "                                                                                "
     ]
    },
    {
     "name": "stdout",
     "output_type": "stream",
     "text": [
      "-------------------------------------------\n",
      "Batch: 5\n",
      "-------------------------------------------\n",
      "+-------------------+----------+-------------------+----------------+-----------+-------------------+----------+--------------+--------------+\n",
      "|timestamp          |server_id |temperature_celsius|humidity_percent|status_code|error_type         |temp_alert|humidity_alert|critical_alert|\n",
      "+-------------------+----------+-------------------+----------------+-----------+-------------------+----------+--------------+--------------+\n",
      "|2025-10-09 19:19:31|SERVER-002|20.68              |54.03           |500        |INTERNAL_ERROR     |NORMAL    |NORMAL        |true          |\n",
      "|2025-10-09 19:19:31|SERVER-003|21.34              |67.95           |503        |SERVICE_UNAVAILABLE|NORMAL    |HIGH_HUMIDITY |true          |\n",
      "|2025-10-09 19:19:32|SERVER-005|24.22              |47.96           |200        |SUCCESS            |NORMAL    |NORMAL        |false         |\n",
      "|2025-10-09 19:19:32|SERVER-003|31.21              |70.89           |200        |SUCCESS            |HIGH_TEMP |HIGH_HUMIDITY |true          |\n",
      "|2025-10-09 19:19:32|SERVER-004|26.78              |65.36           |404        |NOT_FOUND          |HIGH_TEMP |HIGH_HUMIDITY |true          |\n",
      "|2025-10-09 19:19:32|SERVER-003|18.3               |79.96           |200        |SUCCESS            |NORMAL    |HIGH_HUMIDITY |true          |\n",
      "|2025-10-09 19:19:32|SERVER-002|19.14              |53.48           |200        |SUCCESS            |NORMAL    |NORMAL        |false         |\n",
      "|2025-10-09 19:19:32|SERVER-001|30.13              |58.1            |200        |SUCCESS            |HIGH_TEMP |NORMAL        |true          |\n",
      "|2025-10-09 19:19:32|SERVER-003|18.22              |41.17           |200        |SUCCESS            |NORMAL    |NORMAL        |false         |\n",
      "|2025-10-09 19:19:32|SERVER-004|20.7               |40.21           |200        |SUCCESS            |NORMAL    |NORMAL        |false         |\n",
      "+-------------------+----------+-------------------+----------------+-----------+-------------------+----------+--------------+--------------+\n",
      "\n",
      "-------------------------------------------\n",
      "Batch: 6\n",
      "-------------------------------------------\n",
      "+-------------------+----------+-------------------+----------------+-----------+--------------+----------+--------------+--------------+\n",
      "|timestamp          |server_id |temperature_celsius|humidity_percent|status_code|error_type    |temp_alert|humidity_alert|critical_alert|\n",
      "+-------------------+----------+-------------------+----------------+-----------+--------------+----------+--------------+--------------+\n",
      "|2025-10-09 19:19:38|SERVER-002|24.74              |51.14           |200        |SUCCESS       |NORMAL    |NORMAL        |false         |\n",
      "|2025-10-09 19:19:38|SERVER-005|19.56              |52.4            |500        |INTERNAL_ERROR|NORMAL    |NORMAL        |true          |\n",
      "|2025-10-09 19:19:38|SERVER-001|27.62              |43.23           |200        |SUCCESS       |HIGH_TEMP |NORMAL        |true          |\n",
      "|2025-10-09 19:19:38|SERVER-002|22.5               |77.88           |200        |SUCCESS       |NORMAL    |HIGH_HUMIDITY |true          |\n",
      "|2025-10-09 19:19:38|SERVER-005|20.56              |55.43           |200        |SUCCESS       |NORMAL    |NORMAL        |false         |\n",
      "|2025-10-09 19:19:38|SERVER-003|20.22              |56.27           |200        |SUCCESS       |NORMAL    |NORMAL        |false         |\n",
      "|2025-10-09 19:19:38|SERVER-004|24.03              |77.32           |200        |SUCCESS       |NORMAL    |HIGH_HUMIDITY |true          |\n",
      "|2025-10-09 19:19:38|SERVER-003|18.46              |43.87           |200        |SUCCESS       |NORMAL    |NORMAL        |false         |\n",
      "|2025-10-09 19:19:38|SERVER-004|19.84              |47.81           |200        |SUCCESS       |NORMAL    |NORMAL        |false         |\n",
      "|2025-10-09 19:19:38|SERVER-002|23.99              |46.57           |200        |SUCCESS       |NORMAL    |NORMAL        |false         |\n",
      "+-------------------+----------+-------------------+----------------+-----------+--------------+----------+--------------+--------------+\n",
      "\n",
      "-------------------------------------------\n",
      "Batch: 7\n",
      "-------------------------------------------\n",
      "+-------------------+----------+-------------------+----------------+-----------+-------------------+----------+--------------+--------------+\n",
      "|timestamp          |server_id |temperature_celsius|humidity_percent|status_code|error_type         |temp_alert|humidity_alert|critical_alert|\n",
      "+-------------------+----------+-------------------+----------------+-----------+-------------------+----------+--------------+--------------+\n",
      "|2025-10-09 19:19:44|SERVER-004|19.14              |50.75           |200        |SUCCESS            |NORMAL    |NORMAL        |false         |\n",
      "|2025-10-09 19:19:44|SERVER-001|22.28              |52.99           |200        |SUCCESS            |NORMAL    |NORMAL        |false         |\n",
      "|2025-10-09 19:19:44|SERVER-004|19.18              |43.27           |404        |NOT_FOUND          |NORMAL    |NORMAL        |false         |\n",
      "|2025-10-09 19:19:44|SERVER-002|18.15              |51.91           |200        |SUCCESS            |NORMAL    |NORMAL        |false         |\n",
      "|2025-10-09 19:19:44|SERVER-002|21.52              |42.55           |200        |SUCCESS            |NORMAL    |NORMAL        |false         |\n",
      "|2025-10-09 19:19:44|SERVER-005|21.21              |49.41           |200        |SUCCESS            |NORMAL    |NORMAL        |false         |\n",
      "|2025-10-09 19:19:44|SERVER-003|21.97              |59.67           |200        |SUCCESS            |NORMAL    |NORMAL        |false         |\n",
      "|2025-10-09 19:19:44|SERVER-004|28.6               |53.73           |500        |INTERNAL_ERROR     |HIGH_TEMP |NORMAL        |true          |\n",
      "|2025-10-09 19:19:44|SERVER-001|24.8               |45.47           |404        |NOT_FOUND          |NORMAL    |NORMAL        |false         |\n",
      "|2025-10-09 19:19:44|SERVER-002|26.93              |40.27           |503        |SERVICE_UNAVAILABLE|HIGH_TEMP |NORMAL        |true          |\n",
      "+-------------------+----------+-------------------+----------------+-----------+-------------------+----------+--------------+--------------+\n",
      "\n"
     ]
    },
    {
     "name": "stderr",
     "output_type": "stream",
     "text": [
      "                                                                                "
     ]
    },
    {
     "name": "stdout",
     "output_type": "stream",
     "text": [
      "-------------------------------------------\n",
      "Batch: 8\n",
      "-------------------------------------------\n",
      "+-------------------+----------+-------------------+----------------+-----------+----------+----------+--------------+--------------+\n",
      "|timestamp          |server_id |temperature_celsius|humidity_percent|status_code|error_type|temp_alert|humidity_alert|critical_alert|\n",
      "+-------------------+----------+-------------------+----------------+-----------+----------+----------+--------------+--------------+\n",
      "|2025-10-09 19:19:49|SERVER-002|23.12              |56.35           |200        |SUCCESS   |NORMAL    |NORMAL        |false         |\n",
      "|2025-10-09 19:19:49|SERVER-002|21.81              |40.3            |200        |SUCCESS   |NORMAL    |NORMAL        |false         |\n",
      "|2025-10-09 19:19:50|SERVER-002|23.21              |45.33           |200        |SUCCESS   |NORMAL    |NORMAL        |false         |\n",
      "|2025-10-09 19:19:50|SERVER-003|18.01              |46.26           |404        |NOT_FOUND |NORMAL    |NORMAL        |false         |\n",
      "|2025-10-09 19:19:50|SERVER-003|24.05              |48.24           |200        |SUCCESS   |NORMAL    |NORMAL        |false         |\n",
      "|2025-10-09 19:19:50|SERVER-001|23.26              |45.02           |200        |SUCCESS   |NORMAL    |NORMAL        |false         |\n",
      "|2025-10-09 19:19:50|SERVER-005|31.38              |48.94           |200        |SUCCESS   |HIGH_TEMP |NORMAL        |true          |\n",
      "|2025-10-09 19:19:50|SERVER-003|21.13              |42.41           |200        |SUCCESS   |NORMAL    |NORMAL        |false         |\n",
      "|2025-10-09 19:19:50|SERVER-003|26.05              |43.98           |200        |SUCCESS   |HIGH_TEMP |NORMAL        |true          |\n",
      "|2025-10-09 19:19:50|SERVER-005|20.68              |57.93           |200        |SUCCESS   |NORMAL    |NORMAL        |false         |\n",
      "+-------------------+----------+-------------------+----------------+-----------+----------+----------+--------------+--------------+\n",
      "\n",
      "-------------------------------------------\n",
      "Batch: 9\n",
      "-------------------------------------------\n",
      "+-------------------+----------+-------------------+----------------+-----------+--------------+----------+--------------+--------------+\n",
      "|timestamp          |server_id |temperature_celsius|humidity_percent|status_code|error_type    |temp_alert|humidity_alert|critical_alert|\n",
      "+-------------------+----------+-------------------+----------------+-----------+--------------+----------+--------------+--------------+\n",
      "|2025-10-09 19:19:55|SERVER-001|18.22              |50.39           |404        |NOT_FOUND     |NORMAL    |NORMAL        |false         |\n",
      "|2025-10-09 19:19:55|SERVER-003|22.06              |43.85           |200        |SUCCESS       |NORMAL    |NORMAL        |false         |\n",
      "|2025-10-09 19:19:55|SERVER-003|27.24              |58.42           |200        |SUCCESS       |HIGH_TEMP |NORMAL        |true          |\n",
      "|2025-10-09 19:19:55|SERVER-004|22.97              |41.02           |200        |SUCCESS       |NORMAL    |NORMAL        |false         |\n",
      "|2025-10-09 19:19:55|SERVER-003|23.44              |52.74           |500        |INTERNAL_ERROR|NORMAL    |NORMAL        |true          |\n",
      "|2025-10-09 19:19:55|SERVER-005|23.88              |54.95           |200        |SUCCESS       |NORMAL    |NORMAL        |false         |\n",
      "|2025-10-09 19:19:55|SERVER-004|22.16              |45.15           |200        |SUCCESS       |NORMAL    |NORMAL        |false         |\n",
      "|2025-10-09 19:19:56|SERVER-004|19.76              |42.81           |200        |SUCCESS       |NORMAL    |NORMAL        |false         |\n",
      "|2025-10-09 19:19:56|SERVER-003|22.03              |42.26           |404        |NOT_FOUND     |NORMAL    |NORMAL        |false         |\n",
      "|2025-10-09 19:19:56|SERVER-002|18.21              |40.84           |200        |SUCCESS       |NORMAL    |NORMAL        |false         |\n",
      "+-------------------+----------+-------------------+----------------+-----------+--------------+----------+--------------+--------------+\n",
      "\n",
      "Query stopped\n"
     ]
    }
   ],
   "source": [
    "# Return all logs\n",
    "query_all_logs = analyzed_logs \\\n",
    "    .select(\n",
    "        \"timestamp\",\n",
    "        \"server_id\",\n",
    "        \"temperature_celsius\",\n",
    "        \"humidity_percent\",\n",
    "        \"status_code\",\n",
    "        \"error_type\",\n",
    "        \"temp_alert\",\n",
    "        \"humidity_alert\",\n",
    "        \"critical_alert\"\n",
    "    ) \\\n",
    "    .writeStream \\\n",
    "    .outputMode(\"append\") \\\n",
    "    .format(\"console\") \\\n",
    "    .option(\"truncate\", \"false\") \\\n",
    "    .start()\n",
    "\n",
    "print(\"Streaming query started - showing all logs\")\n",
    "\n",
    "query_all_logs.awaitTermination(20)  \n",
    "query_all_logs.stop()\n",
    "print(\"Query stopped\")"
   ]
  },
  {
   "cell_type": "code",
   "execution_count": 8,
   "id": "9a522660-e312-49ee-b72c-0ba2c8365e16",
   "metadata": {},
   "outputs": [
    {
     "name": "stdout",
     "output_type": "stream",
     "text": [
      "Streaming query started - showing CRITICAL alerts only\n",
      "-------------------------------------------\n",
      "Batch: 0\n",
      "-------------------------------------------\n",
      "+-------------------+----------+-------------------+----------------+-----------+----------+----------+--------------+\n",
      "|timestamp          |server_id |temperature_celsius|humidity_percent|status_code|error_type|temp_alert|humidity_alert|\n",
      "+-------------------+----------+-------------------+----------------+-----------+----------+----------+--------------+\n",
      "|2025-10-09 19:19:04|SERVER-005|27.9               |44.0            |200        |SUCCESS   |HIGH_TEMP |NORMAL        |\n",
      "+-------------------+----------+-------------------+----------------+-----------+----------+----------+--------------+\n",
      "\n",
      "-------------------------------------------\n",
      "Batch: 1\n",
      "-------------------------------------------\n",
      "+-------------------+----------+-------------------+----------------+-----------+--------------+----------+--------------+\n",
      "|timestamp          |server_id |temperature_celsius|humidity_percent|status_code|error_type    |temp_alert|humidity_alert|\n",
      "+-------------------+----------+-------------------+----------------+-----------+--------------+----------+--------------+\n",
      "|2025-10-09 19:19:09|SERVER-002|23.02              |77.04           |500        |INTERNAL_ERROR|NORMAL    |HIGH_HUMIDITY |\n",
      "|2025-10-09 19:19:10|SERVER-005|24.32              |40.89           |500        |INTERNAL_ERROR|NORMAL    |NORMAL        |\n",
      "+-------------------+----------+-------------------+----------------+-----------+--------------+----------+--------------+\n",
      "\n",
      "-------------------------------------------\n",
      "Batch: 2\n",
      "-------------------------------------------\n",
      "+-------------------+----------+-------------------+----------------+-----------+-------------------+----------+--------------+\n",
      "|timestamp          |server_id |temperature_celsius|humidity_percent|status_code|error_type         |temp_alert|humidity_alert|\n",
      "+-------------------+----------+-------------------+----------------+-----------+-------------------+----------+--------------+\n",
      "|2025-10-09 19:19:15|SERVER-001|24.54              |76.88           |500        |INTERNAL_ERROR     |NORMAL    |HIGH_HUMIDITY |\n",
      "|2025-10-09 19:19:15|SERVER-004|22.21              |42.94           |500        |INTERNAL_ERROR     |NORMAL    |NORMAL        |\n",
      "|2025-10-09 19:19:15|SERVER-005|29.62              |43.27           |503        |SERVICE_UNAVAILABLE|HIGH_TEMP |NORMAL        |\n",
      "|2025-10-09 19:19:15|SERVER-001|23.3               |55.43           |500        |INTERNAL_ERROR     |NORMAL    |NORMAL        |\n",
      "|2025-10-09 19:19:15|SERVER-003|18.98              |40.18           |500        |INTERNAL_ERROR     |NORMAL    |NORMAL        |\n",
      "+-------------------+----------+-------------------+----------------+-----------+-------------------+----------+--------------+\n",
      "\n",
      "-------------------------------------------\n",
      "Batch: 3\n",
      "-------------------------------------------\n",
      "+-------------------+----------+-------------------+----------------+-----------+--------------+----------+--------------+\n",
      "|timestamp          |server_id |temperature_celsius|humidity_percent|status_code|error_type    |temp_alert|humidity_alert|\n",
      "+-------------------+----------+-------------------+----------------+-----------+--------------+----------+--------------+\n",
      "|2025-10-09 19:19:20|SERVER-001|18.84              |73.69           |200        |SUCCESS       |NORMAL    |HIGH_HUMIDITY |\n",
      "|2025-10-09 19:19:21|SERVER-002|20.66              |41.09           |500        |INTERNAL_ERROR|NORMAL    |NORMAL        |\n",
      "|2025-10-09 19:19:21|SERVER-005|18.04              |68.9            |200        |SUCCESS       |NORMAL    |HIGH_HUMIDITY |\n",
      "+-------------------+----------+-------------------+----------------+-----------+--------------+----------+--------------+\n",
      "\n",
      "-------------------------------------------\n",
      "Batch: 4\n",
      "-------------------------------------------\n",
      "+-------------------+----------+-------------------+----------------+-----------+--------------+----------+--------------+\n",
      "|timestamp          |server_id |temperature_celsius|humidity_percent|status_code|error_type    |temp_alert|humidity_alert|\n",
      "+-------------------+----------+-------------------+----------------+-----------+--------------+----------+--------------+\n",
      "|2025-10-09 19:19:26|SERVER-003|18.3               |57.04           |500        |INTERNAL_ERROR|NORMAL    |NORMAL        |\n",
      "|2025-10-09 19:19:26|SERVER-004|30.34              |45.14           |200        |SUCCESS       |HIGH_TEMP |NORMAL        |\n",
      "|2025-10-09 19:19:26|SERVER-002|26.53              |56.68           |200        |SUCCESS       |HIGH_TEMP |NORMAL        |\n",
      "|2025-10-09 19:19:26|SERVER-004|23.34              |44.5            |500        |INTERNAL_ERROR|NORMAL    |NORMAL        |\n",
      "+-------------------+----------+-------------------+----------------+-----------+--------------+----------+--------------+\n",
      "\n",
      "-------------------------------------------\n",
      "Batch: 5\n",
      "-------------------------------------------\n",
      "+-------------------+----------+-------------------+----------------+-----------+-------------------+----------+--------------+\n",
      "|timestamp          |server_id |temperature_celsius|humidity_percent|status_code|error_type         |temp_alert|humidity_alert|\n",
      "+-------------------+----------+-------------------+----------------+-----------+-------------------+----------+--------------+\n",
      "|2025-10-09 19:19:31|SERVER-002|20.68              |54.03           |500        |INTERNAL_ERROR     |NORMAL    |NORMAL        |\n",
      "|2025-10-09 19:19:31|SERVER-003|21.34              |67.95           |503        |SERVICE_UNAVAILABLE|NORMAL    |HIGH_HUMIDITY |\n",
      "|2025-10-09 19:19:32|SERVER-003|31.21              |70.89           |200        |SUCCESS            |HIGH_TEMP |HIGH_HUMIDITY |\n",
      "|2025-10-09 19:19:32|SERVER-004|26.78              |65.36           |404        |NOT_FOUND          |HIGH_TEMP |HIGH_HUMIDITY |\n",
      "|2025-10-09 19:19:32|SERVER-003|18.3               |79.96           |200        |SUCCESS            |NORMAL    |HIGH_HUMIDITY |\n",
      "|2025-10-09 19:19:32|SERVER-001|30.13              |58.1            |200        |SUCCESS            |HIGH_TEMP |NORMAL        |\n",
      "+-------------------+----------+-------------------+----------------+-----------+-------------------+----------+--------------+\n",
      "\n",
      "-------------------------------------------\n",
      "Batch: 6\n",
      "-------------------------------------------\n",
      "+-------------------+----------+-------------------+----------------+-----------+--------------+----------+--------------+\n",
      "|timestamp          |server_id |temperature_celsius|humidity_percent|status_code|error_type    |temp_alert|humidity_alert|\n",
      "+-------------------+----------+-------------------+----------------+-----------+--------------+----------+--------------+\n",
      "|2025-10-09 19:19:38|SERVER-005|19.56              |52.4            |500        |INTERNAL_ERROR|NORMAL    |NORMAL        |\n",
      "|2025-10-09 19:19:38|SERVER-001|27.62              |43.23           |200        |SUCCESS       |HIGH_TEMP |NORMAL        |\n",
      "|2025-10-09 19:19:38|SERVER-002|22.5               |77.88           |200        |SUCCESS       |NORMAL    |HIGH_HUMIDITY |\n",
      "|2025-10-09 19:19:38|SERVER-004|24.03              |77.32           |200        |SUCCESS       |NORMAL    |HIGH_HUMIDITY |\n",
      "+-------------------+----------+-------------------+----------------+-----------+--------------+----------+--------------+\n",
      "\n",
      "-------------------------------------------\n",
      "Batch: 7\n",
      "-------------------------------------------\n",
      "+-------------------+----------+-------------------+----------------+-----------+-------------------+----------+--------------+\n",
      "|timestamp          |server_id |temperature_celsius|humidity_percent|status_code|error_type         |temp_alert|humidity_alert|\n",
      "+-------------------+----------+-------------------+----------------+-----------+-------------------+----------+--------------+\n",
      "|2025-10-09 19:19:44|SERVER-004|28.6               |53.73           |500        |INTERNAL_ERROR     |HIGH_TEMP |NORMAL        |\n",
      "|2025-10-09 19:19:44|SERVER-002|26.93              |40.27           |503        |SERVICE_UNAVAILABLE|HIGH_TEMP |NORMAL        |\n",
      "+-------------------+----------+-------------------+----------------+-----------+-------------------+----------+--------------+\n",
      "\n",
      "-------------------------------------------\n",
      "Batch: 8\n",
      "-------------------------------------------\n",
      "+-------------------+----------+-------------------+----------------+-----------+----------+----------+--------------+\n",
      "|timestamp          |server_id |temperature_celsius|humidity_percent|status_code|error_type|temp_alert|humidity_alert|\n",
      "+-------------------+----------+-------------------+----------------+-----------+----------+----------+--------------+\n",
      "|2025-10-09 19:19:50|SERVER-005|31.38              |48.94           |200        |SUCCESS   |HIGH_TEMP |NORMAL        |\n",
      "|2025-10-09 19:19:50|SERVER-003|26.05              |43.98           |200        |SUCCESS   |HIGH_TEMP |NORMAL        |\n",
      "+-------------------+----------+-------------------+----------------+-----------+----------+----------+--------------+\n",
      "\n",
      "-------------------------------------------\n",
      "Batch: 9\n",
      "-------------------------------------------\n",
      "+-------------------+----------+-------------------+----------------+-----------+--------------+----------+--------------+\n",
      "|timestamp          |server_id |temperature_celsius|humidity_percent|status_code|error_type    |temp_alert|humidity_alert|\n",
      "+-------------------+----------+-------------------+----------------+-----------+--------------+----------+--------------+\n",
      "|2025-10-09 19:19:55|SERVER-003|27.24              |58.42           |200        |SUCCESS       |HIGH_TEMP |NORMAL        |\n",
      "|2025-10-09 19:19:55|SERVER-003|23.44              |52.74           |500        |INTERNAL_ERROR|NORMAL    |NORMAL        |\n",
      "+-------------------+----------+-------------------+----------------+-----------+--------------+----------+--------------+\n",
      "\n",
      "Query stopped\n"
     ]
    }
   ],
   "source": [
    "# Return critical alerts only\n",
    "critical_alerts_only = analyzed_logs \\\n",
    "    .filter(col(\"critical_alert\") == True) \\\n",
    "    .select(\n",
    "        \"timestamp\",\n",
    "        \"server_id\",\n",
    "        \"temperature_celsius\",\n",
    "        \"humidity_percent\",\n",
    "        \"status_code\",\n",
    "        \"error_type\",\n",
    "        \"temp_alert\",\n",
    "        \"humidity_alert\"\n",
    "    )\n",
    "\n",
    "query_critical = critical_alerts_only \\\n",
    "    .writeStream \\\n",
    "    .outputMode(\"append\") \\\n",
    "    .format(\"console\") \\\n",
    "    .option(\"truncate\", \"false\") \\\n",
    "    .start()\n",
    "\n",
    "print(\"Streaming query started - showing CRITICAL alerts only\")\n",
    "\n",
    "query_critical.awaitTermination(20)\n",
    "query_critical.stop()\n",
    "print(\"Query stopped\")"
   ]
  },
  {
   "cell_type": "code",
   "execution_count": 9,
   "id": "19dc571c-2624-420d-9e30-e42d7d8b7a05",
   "metadata": {},
   "outputs": [],
   "source": [
    "sc.stop()"
   ]
  }
 ],
 "metadata": {
  "kernelspec": {
   "display_name": "Python 3 (ipykernel)",
   "language": "python",
   "name": "python3"
  },
  "language_info": {
   "codemirror_mode": {
    "name": "ipython",
    "version": 3
   },
   "file_extension": ".py",
   "mimetype": "text/x-python",
   "name": "python",
   "nbconvert_exporter": "python",
   "pygments_lexer": "ipython3",
   "version": "3.10.12"
  }
 },
 "nbformat": 4,
 "nbformat_minor": 5
}
