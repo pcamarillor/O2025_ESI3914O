{
 "cells": [
  {
   "cell_type": "markdown",
   "id": "b92d9622",
   "metadata": {},
   "source": [
    "# <center> <img src=\"../../img/ITESOLogo.png\" alt=\"ITESO\" width=\"480\" height=\"130\"> </center>\n",
    "# <center> **Departamento de Electrónica, Sistemas e Informática** </center>\n",
    "---\n",
    "## <center> Computer Systems Engineering  </center>\n",
    "---\n",
    "### <center> Big Data Processing </center>\n",
    "---\n",
    "#### <center> **Autumn 2025** </center>\n",
    "---\n",
    "\n",
    "**Lab 07**: Structured Streaming with Files\n",
    "\n",
    "**Date**: October 7th 2025\n",
    "\n",
    "**Student Name**:\n",
    "\n",
    "**Professor**: Pablo Camarillo Ramirez"
   ]
  },
  {
   "cell_type": "code",
   "execution_count": null,
   "id": "4d01e17d-af57-4487-adef-00884a20076f",
   "metadata": {},
   "outputs": [],
   "source": [
    "import findspark\n",
    "findspark.init()\n",
    "\n",
    "from pyspark.sql import SparkSession\n",
    "\n",
    "spark = SparkSession.builder \\\n",
    "    .appName(\"Examples on Structured Streaming\") \\\n",
    "    .master(\"spark://e3b502141eaf:7077\") \\\n",
    "    .config(\"spark.ui.port\", \"4040\") \\\n",
    "    .getOrCreate()\n",
    "\n",
    "sc = spark.sparkContext\n",
    "sc.setLogLevel(\"ERROR\")\n",
    "# Optimization (reduce the number of shuffle partitions)\n",
    "spark.conf.set(\"spark.sql.shuffle.partitions\", \"5\")"
   ]
  },
  {
   "cell_type": "code",
   "execution_count": null,
   "id": "97949df0-39c9-453a-be7b-182e1939897a",
   "metadata": {},
   "outputs": [],
   "source": [
    "# Create the remote connection\n",
    "lines = spark.readStream \\\n",
    "            .format(\"socket\") \\\n",
    "            .option(\"host\", \"localhost\") \\\n",
    "            .option(\"port\", 9999) \\\n",
    "            .load()\n",
    "# Perform some transformations to the input data (word counter)\n",
    "from pyspark.sql.functions import explode, split\n",
    "words = lines.select(explode(split(lines.value, \" \")).alias(\"word\"))\n",
    "word_count = words.groupBy(\"word\").count()\n",
    "\n",
    "# Send transformed data to the Sink\n",
    "query = word_count.writeStream \\\n",
    "            .outputMode(\"complete\") \\\n",
    "            .format(\"console\") \\\n",
    "            .start()\n",
    "query.awaitTermination(20)\n"
   ]
  }
 ],
 "metadata": {
  "kernelspec": {
   "display_name": "Python 3 (ipykernel)",
   "language": "python",
   "name": "python3"
  },
  "language_info": {
   "codemirror_mode": {
    "name": "ipython",
    "version": 3
   },
   "file_extension": ".py",
   "mimetype": "text/x-python",
   "name": "python",
   "nbconvert_exporter": "python",
   "pygments_lexer": "ipython3",
   "version": "3.10.12"
  }
 },
 "nbformat": 4,
 "nbformat_minor": 5
}
