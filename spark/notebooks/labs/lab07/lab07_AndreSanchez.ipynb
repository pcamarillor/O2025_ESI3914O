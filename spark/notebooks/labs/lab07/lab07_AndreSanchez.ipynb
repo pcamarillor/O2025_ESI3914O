{
 "cells": [
  {
   "cell_type": "markdown",
   "id": "b92d9622",
   "metadata": {},
   "source": [
    "# <center> <img src=\"../../img/ITESOLogo.png\" alt=\"ITESO\" width=\"480\" height=\"130\"> </center>\n",
    "# <center> **Departamento de Electrónica, Sistemas e Informática** </center>\n",
    "---\n",
    "## <center> Computer Systems Engineering  </center>\n",
    "---\n",
    "### <center> Big Data Processing </center>\n",
    "---\n",
    "#### <center> **Autumn 2025** </center>\n",
    "---\n",
    "\n",
    "**Lab 07**: Structured Streaming with Files\n",
    "\n",
    "**Date**: October 7th 2025\n",
    "\n",
    "**Student Name**: Andre Jair Sanchez Contreras\n",
    "\n",
    "**Professor**: Pablo Camarillo Ramirez"
   ]
  },
  {
   "cell_type": "code",
   "execution_count": null,
   "id": "01f4ced6-ee66-4f6f-952e-213b0078e0e6",
   "metadata": {},
   "outputs": [],
   "source": [
    "#Create a script that generates random log entries"
   ]
  },
  {
   "cell_type": "code",
   "execution_count": null,
   "id": "ca0932e5-1a8e-4423-99f1-26dd9b6eaf9b",
   "metadata": {},
   "outputs": [],
   "source": [
    "#The pipeline should monitor a directory for simulated server log files, analyze error patterns in real time, and filter alerts for critical issues"
   ]
  },
  {
   "cell_type": "code",
   "execution_count": null,
   "id": "70d93fa8-8881-400d-bb7d-83e938c51c72",
   "metadata": {},
   "outputs": [],
   "source": [
    "#Display at least three micro-batches of the streaming process."
   ]
  }
 ],
 "metadata": {
  "kernelspec": {
   "display_name": "Python 3 (ipykernel)",
   "language": "python",
   "name": "python3"
  },
  "language_info": {
   "codemirror_mode": {
    "name": "ipython",
    "version": 3
   },
   "file_extension": ".py",
   "mimetype": "text/x-python",
   "name": "python",
   "nbconvert_exporter": "python",
   "pygments_lexer": "ipython3",
   "version": "3.10.12"
  }
 },
 "nbformat": 4,
 "nbformat_minor": 5
}
