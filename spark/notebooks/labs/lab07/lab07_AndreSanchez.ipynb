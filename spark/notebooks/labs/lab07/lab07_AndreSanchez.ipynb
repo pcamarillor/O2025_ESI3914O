{
 "cells": [
  {
   "cell_type": "markdown",
   "id": "b92d9622",
   "metadata": {},
   "source": [
    "# <center> <img src=\"../../img/ITESOLogo.png\" alt=\"ITESO\" width=\"480\" height=\"130\"> </center>\n",
    "# <center> **Departamento de Electrónica, Sistemas e Informática** </center>\n",
    "---\n",
    "## <center> Computer Systems Engineering  </center>\n",
    "---\n",
    "### <center> Big Data Processing </center>\n",
    "---\n",
    "#### <center> **Autumn 2025** </center>\n",
    "---\n",
    "\n",
    "**Lab 07**: Structured Streaming with Files\n",
    "\n",
    "**Date**: October 7th 2025\n",
    "\n",
    "**Student Name**: Andre Jair Sanchez Contreras\n",
    "\n",
    "**Professor**: Pablo Camarillo Ramirez"
   ]
  },
  {
   "cell_type": "code",
   "execution_count": null,
   "id": "01f4ced6-ee66-4f6f-952e-213b0078e0e6",
   "metadata": {},
   "outputs": [],
   "source": [
    "from AndreModule.random_logs import random_logs\n",
    "from pcamarillor.spark_utils import SparkUtils"
   ]
  },
  {
   "cell_type": "code",
   "execution_count": null,
   "id": "ca0932e5-1a8e-4423-99f1-26dd9b6eaf9b",
   "metadata": {},
   "outputs": [],
   "source": [
    "#The pipeline should monitor a directory for simulated server log files, analyze error patterns in real time, and filter alerts for critical issues\n",
    "import findspark\n",
    "findspark.init()\n",
    "\n",
    "from pyspark.sql import SparkSession\n",
    "\n",
    "spark = SparkSession.builder \\\n",
    "    .appName(\"Lab07\") \\\n",
    "    .master(\"spark://spark-master:7077\") \\\n",
    "    .config(\"spark.ui.port\", \"4040\") \\\n",
    "    .getOrCreate()\n",
    "\n",
    "sc = spark.sparkContext\n",
    "sc.setLogLevel(\"ERROR\")\n",
    "# Optimization (reduce the number of shuffle partitions)\n",
    "spark.conf.set(\"spark.sql.shuffle.partitions\", \"5\")"
   ]
  },
  {
   "cell_type": "code",
   "execution_count": null,
   "id": "1b3a572a-4a3a-4273-b0d3-ff086999338e",
   "metadata": {},
   "outputs": [],
   "source": [
    "!mkdir -p /opt/spark/work-dir/data/logs_stream/"
   ]
  },
  {
   "cell_type": "code",
   "execution_count": null,
   "id": "d06ab448-0205-449e-9c65-344bddf94892",
   "metadata": {},
   "outputs": [],
   "source": [
    "!ls /opt/spark/work-dir/data/logs_stream/"
   ]
  },
  {
   "cell_type": "code",
   "execution_count": null,
   "id": "70d93fa8-8881-400d-bb7d-83e938c51c72",
   "metadata": {},
   "outputs": [],
   "source": [
    "#Display at least three micro-batches of the streaming process.\n",
    "from pyspark.sql.functions import split, element_at, trim, col\n",
    "\n",
    "SRC = \"/opt/spark/work-dir/data/logs_stream/\"\n",
    "names_schema = SparkUtils.generate_schema([(\"Level\", \"string\"), (\"Message\", \"string\")])\n",
    "\n",
    "logs_df = (spark.readStream\n",
    "    .schema(logs_schema)\n",
    "    .format(\"json\")\n",
    "    .load(SRC))\n",
    "\n",
    "#filtrado\n",
    "filtered = (logs_df\n",
    "    .filter(logs_df.level.isin(\"INFO\", \"WARN\", \"ERROR\"))\n",
    "    .select(\"level\", \"message\"))\n",
    "\n",
    "\n",
    "query = filtered.writeStream \\\n",
    "            .outputMode(\"append\") \\\n",
    "            .format(\"console\") \\\n",
    "            .start()\n",
    "\n",
    "#3 micro-batches\n",
    "query.awaitTermination(30)\n"
   ]
  }
 ],
 "metadata": {
  "kernelspec": {
   "display_name": "Python 3 (ipykernel)",
   "language": "python",
   "name": "python3"
  },
  "language_info": {
   "codemirror_mode": {
    "name": "ipython",
    "version": 3
   },
   "file_extension": ".py",
   "mimetype": "text/x-python",
   "name": "python",
   "nbconvert_exporter": "python",
   "pygments_lexer": "ipython3",
   "version": "3.10.12"
  }
 },
 "nbformat": 4,
 "nbformat_minor": 5
}
