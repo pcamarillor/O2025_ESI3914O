{
 "cells": [
  {
   "cell_type": "markdown",
   "id": "b92d9622",
   "metadata": {},
   "source": [
    "# <center> <img src=\"../../img/ITESOLogo.png\" alt=\"ITESO\" width=\"480\" height=\"130\"> </center>\n",
    "# <center> **Departamento de Electrónica, Sistemas e Informática** </center>\n",
    "---\n",
    "## <center> Computer Systems Engineering  </center>\n",
    "---\n",
    "### <center> Big Data Processing </center>\n",
    "---\n",
    "#### <center> **Autumn 2025** </center>\n",
    "---\n",
    "\n",
    "**Lab 07**: Structured Streaming with Files\n",
    "\n",
    "**Date**: October 7th 2025\n",
    "\n",
    "**Student Name**: Mateo Garcia Lopez\n",
    "\n",
    "**Professor**: Pablo Camarillo Ramirez"
   ]
  },
  {
   "cell_type": "code",
   "execution_count": 1,
   "id": "1583facc-bfd9-4e73-9e4e-14be0d8ba746",
   "metadata": {},
   "outputs": [],
   "source": [
    "# Import Dependencies\n",
    "import findspark\n",
    "findspark.init()\n",
    "\n",
    "from pyspark.sql import SparkSession\n",
    "from pyspark.sql.functions import split, col\n",
    "from mateogarcial.log_stream import generate_log_files"
   ]
  },
  {
   "cell_type": "markdown",
   "id": "4b7cbda7-2c0d-4aec-9dc5-97a4ca4c0fc6",
   "metadata": {},
   "source": [
    "**Initialize Spark**"
   ]
  },
  {
   "cell_type": "code",
   "execution_count": 3,
   "id": "3c9af5e8-1b2d-4889-8e43-2897cb081d0d",
   "metadata": {},
   "outputs": [
    {
     "name": "stderr",
     "output_type": "stream",
     "text": [
      "WARNING: Using incubator modules: jdk.incubator.vector\n",
      "Using Spark's default log4j profile: org/apache/spark/log4j2-defaults.properties\n",
      "Setting default log level to \"WARN\".\n",
      "To adjust logging level use sc.setLogLevel(newLevel). For SparkR, use setLogLevel(newLevel).\n",
      "25/10/10 01:41:00 WARN NativeCodeLoader: Unable to load native-hadoop library for your platform... using builtin-java classes where applicable\n"
     ]
    }
   ],
   "source": [
    "spark = SparkSession.builder \\\n",
    "        .appName(\"RealTimeLogAnalyzer\") \\\n",
    "        .master(\"spark://spark-master:7077\") \\\n",
    "        .config(\"spark.ui.port\", \"4040\") \\\n",
    "        .getOrCreate()\n",
    "\n",
    "spark.sparkContext.setLogLevel(\"ERROR\")\n",
    "spark.conf.set(\"spark.sql.shuffle.partitions\", \"5\")"
   ]
  },
  {
   "cell_type": "markdown",
   "id": "7f66e4b2-e220-4f72-a22e-c80b2a633ce6",
   "metadata": {},
   "source": [
    "**Generate 100 log files**"
   ]
  },
  {
   "cell_type": "code",
   "execution_count": 7,
   "id": "41f18461-399a-464b-bd6e-04310057ea88",
   "metadata": {},
   "outputs": [
    {
     "name": "stdout",
     "output_type": "stream",
     "text": [
      "Generating 100 log files in '/opt/spark/work-dir/data/logs/'...\n",
      "Successfully generated 100 log files.\n"
     ]
    }
   ],
   "source": [
    "generate_log_files(100)"
   ]
  },
  {
   "cell_type": "markdown",
   "id": "3de8d7ad-77bc-4994-954d-effde83daf22",
   "metadata": {},
   "source": [
    "**Spark Streaming Pipeline**\n",
    "- Show all of the logs, ordered by higher to lower"
   ]
  },
  {
   "cell_type": "code",
   "execution_count": 14,
   "id": "e39f88e4-e74f-4d07-bae7-d03a2de4b76e",
   "metadata": {},
   "outputs": [
    {
     "name": "stdout",
     "output_type": "stream",
     "text": [
      "\n",
      "Shows the count of all the logs, for each server-node\n",
      "\n",
      "Monitoring directory '/opt/spark/work-dir/data/logs' for files...\n"
     ]
    },
    {
     "name": "stderr",
     "output_type": "stream",
     "text": [
      "[Stage 31:=========================>                            (139 + 1) / 300]"
     ]
    },
    {
     "data": {
      "text/plain": [
       "False"
      ]
     },
     "execution_count": 14,
     "metadata": {},
     "output_type": "execute_result"
    },
    {
     "name": "stderr",
     "output_type": "stream",
     "text": [
      "                                                                                "
     ]
    },
    {
     "name": "stdout",
     "output_type": "stream",
     "text": [
      "-------------------------------------------\n",
      "Batch: 0\n",
      "-------------------------------------------\n",
      "+---------+-------------+-------------------------+-----+\n",
      "|log_level|server_id    |message                  |count|\n",
      "+---------+-------------+-------------------------+-----+\n",
      "|INFO     |server-node-1|Data export completed    |29   |\n",
      "|INFO     |server-node-3|User login successful    |27   |\n",
      "|INFO     |server-node-4|Data export completed    |24   |\n",
      "|INFO     |server-node-1|User login successful    |24   |\n",
      "|INFO     |server-node-2|Data export completed    |23   |\n",
      "|INFO     |server-node-3|Data export completed    |22   |\n",
      "|INFO     |server-node-2|User login successful    |21   |\n",
      "|INFO     |server-node-4|User login successful    |16   |\n",
      "|WARN     |server-node-1|Disk usage 85%           |10   |\n",
      "|ERROR    |server-node-1|404 Not Found            |10   |\n",
      "|WARN     |server-node-2|Disk usage 85%           |9    |\n",
      "|WARN     |server-node-1|High CPU load detected   |9    |\n",
      "|WARN     |server-node-3|High CPU load detected   |8    |\n",
      "|ERROR    |server-node-1|500 Internal Server Error|6    |\n",
      "|WARN     |server-node-3|Disk usage 85%           |6    |\n",
      "|ERROR    |server-node-3|500 Service Unavailable  |5    |\n",
      "|WARN     |server-node-4|Disk usage 85%           |5    |\n",
      "|WARN     |server-node-4|High CPU load detected   |5    |\n",
      "|ERROR    |server-node-2|500 Service Unavailable  |5    |\n",
      "|ERROR    |server-node-3|500 Internal Server Error|4    |\n",
      "+---------+-------------+-------------------------+-----+\n",
      "only showing top 20 rows\n"
     ]
    }
   ],
   "source": [
    "# 1. SOURCE: Read from the file stream.\n",
    "log_dir_path = \"/opt/spark/work-dir/data/logs\"\n",
    "print(f\"\\nShows the count of all the logs, for each server-node\")\n",
    "print(f\"\\nMonitoring directory '{log_dir_path}' for files...\")\n",
    "\n",
    "raw_logs_df = spark.readStream \\\n",
    "    .format(\"text\") \\\n",
    "    .load(log_dir_path)\n",
    "\n",
    "# 2. TRANSFORMATION: Parse logs and create a full summary.\n",
    "structured_logs_df = raw_logs_df.select(\n",
    "    split(col(\"value\"), \" \\\\| \").alias(\"parts\")\n",
    ").select(\n",
    "    col(\"parts\").getItem(1).alias(\"log_level\"),\n",
    "    col(\"parts\").getItem(2).alias(\"message\"),\n",
    "    col(\"parts\").getItem(3).alias(\"server_id\")\n",
    ")\n",
    "\n",
    "# Group by log level, server, and message to get counts for ALL log types.\n",
    "log_summary_df = structured_logs_df.groupBy(\n",
    "    \"log_level\", \"server_id\", \"message\"\n",
    ").count()\n",
    "\n",
    "# Sort by count of log type\n",
    "sorted_summary_df = log_summary_df.orderBy(col(\"count\").desc())\n",
    "\n",
    "# 3. SINK: Output the complete, sorted summary to the console.\n",
    "query = sorted_summary_df.writeStream \\\n",
    "    .outputMode(\"complete\") \\\n",
    "    .format(\"console\") \\\n",
    "    .option(\"truncate\", \"false\") \\\n",
    "    .start()\n",
    "\n",
    "query.awaitTermination(5)"
   ]
  },
  {
   "cell_type": "markdown",
   "id": "48304809-0157-4e33-81d9-312078bd770c",
   "metadata": {},
   "source": [
    "- Showing only 500 errors"
   ]
  },
  {
   "cell_type": "code",
   "execution_count": null,
   "id": "19e81653-90ef-4a6a-9b22-b74038e01766",
   "metadata": {},
   "outputs": [
    {
     "name": "stderr",
     "output_type": "stream",
     "text": [
      "                                                                                "
     ]
    },
    {
     "name": "stdout",
     "output_type": "stream",
     "text": [
      "-------------------------------------------\n",
      "Batch: 0\n",
      "-------------------------------------------\n",
      "+-------------+-------------------------+-----+\n",
      "|server_id    |message                  |count|\n",
      "+-------------+-------------------------+-----+\n",
      "|server-node-3|500 Service Unavailable  |5    |\n",
      "|server-node-4|500 Service Unavailable  |4    |\n",
      "|server-node-1|500 Internal Server Error|6    |\n",
      "|server-node-3|500 Internal Server Error|4    |\n",
      "|server-node-2|500 Service Unavailable  |5    |\n",
      "+-------------+-------------------------+-----+\n",
      "\n"
     ]
    }
   ],
   "source": [
    "# 1. TRANSFORMATION: Parse and filter logs.\n",
    "structured_logs_df = raw_logs_df.select(\n",
    "    split(col(\"value\"), \" \\\\| \").alias(\"parts\")\n",
    ").select(\n",
    "    col(\"parts\").getItem(0).alias(\"timestamp\"),\n",
    "    col(\"parts\").getItem(1).alias(\"log_level\"),\n",
    "    col(\"parts\").getItem(2).alias(\"message\"),\n",
    "    col(\"parts\").getItem(3).alias(\"server_id\")\n",
    ")\n",
    "\n",
    "critical_errors_df = structured_logs_df.filter(\n",
    "    (col(\"log_level\") == \"ERROR\") & (col(\"message\").contains(\"500\"))\n",
    ")\n",
    "\n",
    "error_counts_df = critical_errors_df.groupBy(\"server_id\", \"message\").count()\n",
    "alerts_df = error_counts_df.filter(col(\"count\") > 2)\n",
    "\n",
    "# 2. SINK: Output the alerts to the console.\n",
    "query = alerts_df.writeStream \\\n",
    "    .outputMode(\"complete\") \\\n",
    "    .format(\"console\") \\\n",
    "    .option(\"truncate\", \"false\") \\\n",
    "    .start()\n",
    "\n",
    "query.awaitTermination(5)"
   ]
  }
 ],
 "metadata": {
  "kernelspec": {
   "display_name": "Python 3 (ipykernel)",
   "language": "python",
   "name": "python3"
  },
  "language_info": {
   "codemirror_mode": {
    "name": "ipython",
    "version": 3
   },
   "file_extension": ".py",
   "mimetype": "text/x-python",
   "name": "python",
   "nbconvert_exporter": "python",
   "pygments_lexer": "ipython3",
   "version": "3.10.12"
  }
 },
 "nbformat": 4,
 "nbformat_minor": 5
}
