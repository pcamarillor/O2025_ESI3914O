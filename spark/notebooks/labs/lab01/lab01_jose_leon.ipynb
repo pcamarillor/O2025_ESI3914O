{
 "cells": [
  {
   "cell_type": "markdown",
   "id": "b92d9622",
   "metadata": {},
   "source": [
    "# <center> <img src=\"../../img/ITESOLogo.png\" alt=\"ITESO\" width=\"480\" height=\"130\"> </center>\n",
    "# <center> **Departamento de Electrónica, Sistemas e Informática** </center>\n",
    "---\n",
    "## <center> Program: _Add your program's name here_  </center>\n",
    "---\n",
    "### <center> **Autumn 2025** </center>\n",
    "---\n",
    "\n",
    "**Lab XX**: lab01\n",
    "\n",
    "**Date**: 2/9/2025\n",
    "\n",
    "**Student Name**: José Ángel León Pérez\n",
    "\n",
    "**Professor**: Pablo Camarillo Ramirez"
   ]
  },
  {
   "cell_type": "markdown",
   "id": "c19928b0",
   "metadata": {},
   "source": [
    "Description\n",
    "You’re given listening data from a music streaming platform. Each user can listen to multiple songs, and each song can be played by multiple users.\n",
    "Your job is to process the data to:\n",
    " \n",
    "\n",
    "1. Remove duplicate play records.\n",
    "2. Track how many unique songs each user has listened to.\n",
    "3. Find the most popular song(s).\n",
    "4. Output results in a structured format."
   ]
  },
  {
   "cell_type": "code",
   "execution_count": null,
   "id": "451f6b7c",
   "metadata": {},
   "outputs": [
    {
     "name": "stdout",
     "output_type": "stream",
     "text": [
      "('UserA', 'Song1')\n",
      "('UserC', 'Song3')\n",
      "('UserC', 'Song1')\n",
      "('UserB', 'Song2')\n",
      "('UserA', 'Song2')\n",
      "('UserD', 'Song3')\n",
      "('UserD', 'Song1')\n",
      "('UserB', 'Song1')\n",
      "\n",
      "\n",
      "UserA: Song1, Song2\n",
      "UserC: Song3, Song1\n",
      "UserB: Song1, Song2\n",
      "UserD: Song3, Song1\n",
      "\n",
      "\n",
      "Song1: 4 reproducciones\n",
      "Song3: 2 reproducciones\n",
      "Song2: 2 reproducciones\n",
      "La cancion mas popular es 4 con 4 reproducciones\n"
     ]
    }
   ],
   "source": [
    "plays = [\n",
    "\n",
    "(\"UserA\", \"Song1\"),\n",
    "\n",
    "(\"UserB\", \"Song1\"),\n",
    "\n",
    "(\"UserA\", \"Song2\"),\n",
    "\n",
    "(\"UserA\", \"Song1\"),\n",
    "\n",
    "(\"UserC\", \"Song3\"),\n",
    "\n",
    "(\"UserB\", \"Song2\"),\n",
    "\n",
    "(\"UserD\", \"Song1\"),\n",
    "\n",
    "(\"UserC\", \"Song1\"),\n",
    "\n",
    "(\"UserD\", \"Song3\"),\n",
    "\n",
    "]\n",
    "\n",
    "\n",
    "unique_plays = set(plays)\n",
    "for play in unique_plays:\n",
    "    print(play)\n",
    "\n",
    "print(\"\\n\")\n",
    "\n",
    "user_songs = {}\n",
    "\n",
    "for u, s in unique_plays:\n",
    "    if u not in user_songs:\n",
    "        user_songs[u] = set()\n",
    "    user_songs[u].add(s)\n",
    "\n",
    "for user, songs in user_songs.items():\n",
    "    print(f\"{user}: {', '.join(songs)}\")\n",
    "\n",
    "print(\"\\n\")\n",
    "\n",
    "most_popular_songs = {}\n",
    "for _, i in unique_plays:\n",
    "    if i not in most_popular_songs:\n",
    "        most_popular_songs[i] = 0\n",
    "    most_popular_songs[i] += 1\n",
    "\n",
    "for song, count in most_popular_songs.items():\n",
    "    print(f\"{song}: {count} reproducciones\")\n",
    "\n",
    "\n",
    "most_popular_songs = sorted(most_popular_songs.items(), key=lambda x: x[1], reverse=True)\n",
    "print(\"La cancion mas popular es\", most_popular_songs[0][0], \"con\", most_popular_songs[0][1], \"reproducciones\")\n"
   ]
  }
 ],
 "metadata": {
  "kernelspec": {
   "display_name": "Python 3 (ipykernel)",
   "language": "python",
   "name": "python3"
  },
  "language_info": {
   "codemirror_mode": {
    "name": "ipython",
    "version": 3
   },
   "file_extension": ".py",
   "mimetype": "text/x-python",
   "name": "python",
   "nbconvert_exporter": "python",
   "pygments_lexer": "ipython3",
   "version": "3.10.12"
  }
 },
 "nbformat": 4,
 "nbformat_minor": 5
}
