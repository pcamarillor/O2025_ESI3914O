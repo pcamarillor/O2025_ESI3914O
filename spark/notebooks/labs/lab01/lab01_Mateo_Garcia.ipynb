{
 "cells": [
  {
   "cell_type": "markdown",
   "id": "b92d9622",
   "metadata": {},
   "source": [
    "# <center> <img src=\"../../img/ITESOLogo.png\" alt=\"ITESO\" width=\"480\" height=\"130\"> </center>\n",
    "# <center> **Departamento de Electrónica, Sistemas e Informática** </center>\n",
    "---\n",
    "## <center> Program: _System's Engineering_  </center>\n",
    "---\n",
    "### <center> **Autumn 2025** </center>\n",
    "---\n",
    "\n",
    "**Lab 01**: Playlist Analyzer\n",
    "\n",
    "**Date**: 09/02/2025\n",
    "\n",
    "**Student Name**: Mateo Garcia\n",
    "\n",
    "**Professor**: Pablo Camarillo Ramirez"
   ]
  },
  {
   "cell_type": "code",
   "execution_count": 2,
   "id": "9c3e3517-07a6-49d9-953b-c1f4209dad71",
   "metadata": {},
   "outputs": [],
   "source": [
    "plays = [\n",
    "\n",
    "(\"UserA\", \"Song1\"),\n",
    "\n",
    "(\"UserB\", \"Song1\"),\n",
    "\n",
    "(\"UserA\", \"Song2\"),\n",
    "\n",
    "(\"UserA\", \"Song1\"),\n",
    "\n",
    "(\"UserC\", \"Song3\"),\n",
    "\n",
    "(\"UserB\", \"Song2\"),\n",
    "\n",
    "(\"UserD\", \"Song1\"),\n",
    "\n",
    "(\"UserC\", \"Song1\"),\n",
    "\n",
    "(\"UserD\", \"Song3\"),\n",
    "\n",
    "]"
   ]
  },
  {
   "cell_type": "code",
   "execution_count": 6,
   "id": "8d3c7e15-499d-4aa6-a801-628ac06aae3b",
   "metadata": {},
   "outputs": [],
   "source": [
    "def process_music(plays):\n",
    "    # Step 1: Remove the duplicates\n",
    "    print(\"Original plays:\", len(plays))\n",
    "    unique_plays = list(set(plays))\n",
    "    print(\"After removing duplicates:\", len(unique_plays))\n",
    "    print()\n",
    "\n",
    "    # Step 2: Store unique user and song, on a dictionary\n",
    "    user_songs = {}\n",
    "    for user, song in unique_plays:\n",
    "        if user not in user_songs:\n",
    "            user_songs[user] = set()\n",
    "        user_songs[user].add(song)\n",
    "\n",
    "    # Step 3: Show unique songs per users\n",
    "    print(\"Unique songs per user:\")\n",
    "    for user in sorted(user_songs.keys()):  # Sort for consistent output\n",
    "        songs = user_songs[user]\n",
    "        print(f\"{user}: {len(songs)} songs\")\n",
    "    \n",
    "    print()\n",
    "\n",
    "    # Step 4: Find the most popular song\n",
    "    song_count = {}\n",
    "    for user, song in unique_plays:\n",
    "        if song not in song_count:\n",
    "            song_count[song] = 0\n",
    "        song_count[song] += 1\n",
    "\n",
    "    # Find the maximum play count\n",
    "    max_count = max(song_count.values())\n",
    "    \n",
    "    # Find all songs with the maximum count\n",
    "    most_popular_songs = [song for song, count in song_count.items() if count == max_count]\n",
    "    \n",
    "    print(f\"Most popular song(s) (played by {max_count} unique users):\")\n",
    "    for song in sorted(most_popular_songs):\n",
    "        print(f\"- {song}\")\n",
    "    \n",
    "    print()\n",
    "\n",
    "    return user_songs, song_count"
   ]
  },
  {
   "cell_type": "code",
   "execution_count": 7,
   "id": "cef103a8-a978-41b3-afd2-4748075bfdc5",
   "metadata": {},
   "outputs": [
    {
     "name": "stdout",
     "output_type": "stream",
     "text": [
      "Original plays: 9\n",
      "After removing duplicates: 8\n",
      "\n",
      "Unique songs per user:\n",
      "UserA: 2 songs\n",
      "UserB: 2 songs\n",
      "UserC: 2 songs\n",
      "UserD: 2 songs\n",
      "\n",
      "Most popular song(s) (played by 4 unique users):\n",
      "- Song1\n",
      "\n"
     ]
    }
   ],
   "source": [
    "if __name__ == \"__main__\":\n",
    "    user_songs, song_stats = process_music(plays)"
   ]
  }
 ],
 "metadata": {
  "kernelspec": {
   "display_name": "Python 3 (ipykernel)",
   "language": "python",
   "name": "python3"
  },
  "language_info": {
   "codemirror_mode": {
    "name": "ipython",
    "version": 3
   },
   "file_extension": ".py",
   "mimetype": "text/x-python",
   "name": "python",
   "nbconvert_exporter": "python",
   "pygments_lexer": "ipython3",
   "version": "3.10.12"
  }
 },
 "nbformat": 4,
 "nbformat_minor": 5
}
