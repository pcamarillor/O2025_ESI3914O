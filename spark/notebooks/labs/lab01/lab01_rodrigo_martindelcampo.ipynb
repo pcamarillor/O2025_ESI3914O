{
 "cells": [
  {
   "cell_type": "markdown",
   "id": "b92d9622",
   "metadata": {},
   "source": [
    "# <center> <img src=\"../../img/ITESOLogo.png\" alt=\"ITESO\" width=\"480\" height=\"130\"> </center>\n",
    "# <center> **Departamento de Electrónica, Sistemas e Informática** </center>\n",
    "---\n",
    "## <center> Program: _Computer Systems Engineering_  </center>\n",
    "---\n",
    "### <center> **Autumn 2025** </center>\n",
    "---\n",
    "\n",
    "**Lab XX**: 01\n",
    "\n",
    "**Date**: 02/09/2025\n",
    "\n",
    "**Student Name**: Rodrigo Martín del Campo\n",
    "\n",
    "**Professor**: Pablo Camarillo Ramirez"
   ]
  },
  {
   "cell_type": "markdown",
   "id": "2c061e3b",
   "metadata": {},
   "source": [
    "##  1. Sample Data Definition\n",
    "\n",
    "In this section, we define the sample listening data from a music streaming platform. Each entry in the list represents a user listening to a song. Since users can listen to the same song multiple times, there may be duplicate records."
   ]
  },
  {
   "cell_type": "code",
   "execution_count": null,
   "id": "3b79f799",
   "metadata": {},
   "outputs": [],
   "source": [
    "# Sample input data\n",
    "plays = [\n",
    "    (\"UserA\", \"Song1\"),\n",
    "    (\"UserB\", \"Song1\"),\n",
    "    (\"UserA\", \"Song2\"),\n",
    "    (\"UserA\", \"Song1\"),\n",
    "    (\"UserC\", \"Song3\"),\n",
    "    (\"UserB\", \"Song2\"),\n",
    "    (\"UserD\", \"Song1\"),\n",
    "    (\"UserC\", \"Song1\"),\n",
    "    (\"UserD\", \"Song3\"),\n",
    "]"
   ]
  },
  {
   "cell_type": "markdown",
   "id": "dda7263b",
   "metadata": {},
   "source": [
    "## 2. Removing Duplicate Play Records\n",
    "\n",
    "To ensure that each play is only counted once per user and song combination, we remove duplicate entries from the listening data.  \n",
    "This step helps us accurately analyze unique user-song interactions by eliminating repeated records of the same user listening to the same song"
   ]
  },
  {
   "cell_type": "code",
   "execution_count": null,
   "id": "7085b2cb",
   "metadata": {},
   "outputs": [
    {
     "name": "stdout",
     "output_type": "stream",
     "text": [
      "Unique play records (duplicates removed):\n",
      "UserD , Song3\n",
      "UserB , Song1\n",
      "UserA , Song1\n",
      "UserB , Song2\n",
      "UserA , Song2\n",
      "UserC , Song3\n",
      "UserC , Song1\n",
      "UserD , Song1\n"
     ]
    }
   ],
   "source": [
    "# Remove duplicate (user, song) pairs using a set, since it doesn't preserve duplicates\n",
    "unique_plays = list(set(plays))\n",
    "\n",
    "# Print the dataset without duplicates\n",
    "print(\"Unique play records (duplicates removed):\")\n",
    "for user, song in unique_plays:\n",
    "    print(f\"{user} , {song}\")"
   ]
  },
  {
   "cell_type": "markdown",
   "id": "82487888",
   "metadata": {},
   "source": [
    "## 3. Counting Unique Songs Per User\n",
    "\n",
    "Now that we have removed duplicate play records, the next step is to determine how many unique songs each user has listened to.  \n",
    "We will group the data by user and count the number of distinct songs associated with each user."
   ]
  },
  {
   "cell_type": "code",
   "execution_count": 10,
   "id": "241ae8ca",
   "metadata": {},
   "outputs": [
    {
     "name": "stdout",
     "output_type": "stream",
     "text": [
      "Number of unique songs each user has listened to:\n",
      "UserD: 2 songs\n",
      "UserB: 2 songs\n",
      "UserA: 2 songs\n",
      "UserC: 2 songs\n"
     ]
    }
   ],
   "source": [
    "# Create a dictionary to store songs per user\n",
    "user_songs = {}  \n",
    "\n",
    "# Loop through each unique (user, song) pair\n",
    "for user, song in unique_plays:\n",
    "    if user not in user_songs:         # If the user is not in the dictionary yet\n",
    "        user_songs[user] = set()       # Create a new set for this user\n",
    "    user_songs[user].add(song)         # Add the song to the user's set (sets avoid duplicates)\n",
    "\n",
    "# Print the number of unique songs per user\n",
    "print(\"Number of unique songs each user has listened to:\")\n",
    "for user, songs in user_songs.items():                     # Loop through each user and their set of songs\n",
    "    print(f\"{user}: {len(songs)} songs\")          # Print the user and the count of unique songs"
   ]
  },
  {
   "cell_type": "markdown",
   "id": "fe2fd85b",
   "metadata": {},
   "source": [
    "## 4. Finding the Most Popular Song\n",
    "\n",
    "In this step, we determine which song or songs have been listened to by the highest number of unique users.  \n",
    "We count how many users listened to each song and identify the song(s) with the maximum count."
   ]
  },
  {
   "cell_type": "code",
   "execution_count": null,
   "id": "b2bb4778",
   "metadata": {},
   "outputs": [
    {
     "name": "stdout",
     "output_type": "stream",
     "text": [
      "Most popular song(s):\n",
      "Song1 with 4 unique listeners\n"
     ]
    }
   ],
   "source": [
    "from collections import Counter # Import Counter for counting occurrences, an extra dictionary could be used for this step but Counter is more convenient\n",
    "\n",
    "# Count how many unique users listened to each song from the unique plays set\n",
    "song_counter = Counter(song for user, song in unique_plays)\n",
    "\n",
    "# Find the maximum number of unique listeners for any song\n",
    "max_counter = max(song_counter.values())\n",
    "\n",
    "# Find all songs with the maximum count (in case of ties)\n",
    "most_popular_songs = [song for song, count in song_counter.items() if count == max_counter]\n",
    "\n",
    "# Print the results\n",
    "print(\"Most popular song:\")\n",
    "for song in most_popular_songs:\n",
    "    print(f\"{song} with {max_counter} unique listeners\") "
   ]
  },
  {
   "cell_type": "markdown",
   "id": "375e7df1",
   "metadata": {},
   "source": [
    "## 5. Output Results in a Structured Format\n",
    "\n",
    "Finally, we present the results in a clear and structured way.  \n",
    "We display a table of how many unique plays each song has has."
   ]
  },
  {
   "cell_type": "code",
   "execution_count": 18,
   "id": "7e8cc3ce",
   "metadata": {},
   "outputs": [
    {
     "name": "stdout",
     "output_type": "stream",
     "text": [
      "Song   |   Unique Plays\n",
      "------------------------\n",
      "Song3  |\t 2\n",
      "Song1  |\t 4\n",
      "Song2  |\t 2\n"
     ]
    }
   ],
   "source": [
    "# Create a dictionary to count unique plays per song\n",
    "song_unique_play_counts = {}\n",
    "\n",
    "for _, song in unique_plays:\n",
    "    if song not in song_unique_play_counts:\n",
    "        song_unique_play_counts[song] = 0\n",
    "    song_unique_play_counts[song] += 1\n",
    "\n",
    "print(\"Song   |   Unique Plays\")\n",
    "print(\"-\" * 24)\n",
    "for song, count in song_unique_play_counts.items():\n",
    "    print(f\"{song:6} |\\t {count}\")"
   ]
  }
 ],
 "metadata": {
  "kernelspec": {
   "display_name": "Python 3 (ipykernel)",
   "language": "python",
   "name": "python3"
  },
  "language_info": {
   "codemirror_mode": {
    "name": "ipython",
    "version": 3
   },
   "file_extension": ".py",
   "mimetype": "text/x-python",
   "name": "python",
   "nbconvert_exporter": "python",
   "pygments_lexer": "ipython3",
   "version": "3.10.12"
  }
 },
 "nbformat": 4,
 "nbformat_minor": 5
}
