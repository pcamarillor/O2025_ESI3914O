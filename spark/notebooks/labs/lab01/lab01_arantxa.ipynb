{
 "cells": [
  {
   "cell_type": "markdown",
   "id": "f4ed9f0b-24d0-4b4e-af54-05c2a3389472",
   "metadata": {},
   "source": [
    "# <center> <img src=\"../../img/ITESOLogo.png\" alt=\"ITESO\" width=\"480\" height=\"130\"> </center>\n",
    "# <center> **Departamento de Electrónica, Sistemas e Informática** </center>\n",
    "---\n",
    "## <center> Program: Big Data  </center>\n",
    "---\n",
    "### <center> **Autumn 2025** </center>\n",
    "---\n",
    "\n",
    "**Lab 01**: Playlist Analyzer\n",
    "\n",
    "**Date**: 2/9/2025\n",
    "\n",
    "**Student Name**: Arantxa Angulo Flores\n",
    "\n",
    "**Professor**: Pablo Camarillo Ramirez"
   ]
  },
  {
   "cell_type": "markdown",
   "id": "ddb111e8-db0e-4fa3-b6f0-2c5763aef77e",
   "metadata": {},
   "source": [
    "Python Code Starts"
   ]
  },
  {
   "cell_type": "code",
   "execution_count": null,
   "id": "5305183f-ab16-475e-b8d2-710dedc58a2a",
   "metadata": {},
   "outputs": [],
   "source": []
  },
  {
   "cell_type": "code",
   "execution_count": null,
   "id": "a7f2ae85-9e38-439a-99b0-00a7eae386d3",
   "metadata": {},
   "outputs": [],
   "source": []
  },
  {
   "cell_type": "code",
   "execution_count": 1,
   "id": "1717029a-1ff3-4b68-8eda-4fdf16b27578",
   "metadata": {},
   "outputs": [],
   "source": [
    "from collections import defaultdict, Counter"
   ]
  },
  {
   "cell_type": "code",
   "execution_count": 2,
   "id": "574fcee3-9b44-48e9-b340-fb6a044d589f",
   "metadata": {},
   "outputs": [],
   "source": [
    "plays = [\n",
    "\n",
    "(\"UserA\", \"Song1\"),\n",
    "(\"UserB\", \"Song1\"),\n",
    "(\"UserA\", \"Song2\"),\n",
    "(\"UserA\", \"Song1\"),\n",
    "(\"UserC\", \"Song3\"),\n",
    "(\"UserB\", \"Song2\"),\n",
    "(\"UserD\", \"Song1\"),\n",
    "(\"UserC\", \"Song1\"),\n",
    "(\"UserD\", \"Song3\"),\n",
    "\n",
    "]"
   ]
  },
  {
   "cell_type": "code",
   "execution_count": 3,
   "id": "a7606ec8-52b9-4344-8e44-a8555bf085a1",
   "metadata": {},
   "outputs": [
    {
     "name": "stdout",
     "output_type": "stream",
     "text": [
      "Remove duplicate play records\n",
      "{('UserA', 'Song2'), ('UserD', 'Song1'), ('UserD', 'Song3'), ('UserB', 'Song1'), ('UserC', 'Song1'), ('UserC', 'Song3'), ('UserB', 'Song2'), ('UserA', 'Song1')}\n",
      "\n"
     ]
    }
   ],
   "source": [
    "# remove duplicate play records\n",
    "unique_plays = set(plays)\n",
    "print(\"Remove duplicate play records\")\n",
    "print(unique_plays)\n",
    "print()"
   ]
  },
  {
   "cell_type": "code",
   "execution_count": 4,
   "id": "21c88e8c-5ec7-442e-ae23-34f0b05d5a4a",
   "metadata": {},
   "outputs": [
    {
     "name": "stdout",
     "output_type": "stream",
     "text": [
      "Unique songs for each user\n",
      "{'UserA': 2, 'UserD': 2, 'UserB': 2, 'UserC': 2}\n",
      "\n"
     ]
    }
   ],
   "source": [
    "# track how many unique songs each user has listened to\n",
    "user_songs = defaultdict(set)\n",
    "for user, song in unique_plays:\n",
    "    user_songs[user].add(song)\n",
    "user_counts = {user: len(songs) for user, songs in user_songs.items()}\n",
    "print(\"Unique songs for each user\")\n",
    "print(user_counts)\n",
    "print()"
   ]
  },
  {
   "cell_type": "code",
   "execution_count": 5,
   "id": "4bef06d9-aa69-471e-bf45-686f420448eb",
   "metadata": {},
   "outputs": [
    {
     "name": "stdout",
     "output_type": "stream",
     "text": [
      "Most popular songs\n",
      "['Song1']\n",
      "\n"
     ]
    }
   ],
   "source": [
    "# Find the most popular songs\n",
    "song_counts = Counter()\n",
    "for user, song in unique_plays:\n",
    "    song_counts[song] += 1\n",
    "\n",
    "max_count = max(song_counts.values())\n",
    "most_popular = [song for song, count in song_counts.items() if count == max_count]\n",
    "print(\"Most popular songs\")\n",
    "print(most_popular)\n",
    "print()"
   ]
  }
 ],
 "metadata": {
  "kernelspec": {
   "display_name": "Python 3 (ipykernel)",
   "language": "python",
   "name": "python3"
  },
  "language_info": {
   "codemirror_mode": {
    "name": "ipython",
    "version": 3
   },
   "file_extension": ".py",
   "mimetype": "text/x-python",
   "name": "python",
   "nbconvert_exporter": "python",
   "pygments_lexer": "ipython3",
   "version": "3.10.12"
  }
 },
 "nbformat": 4,
 "nbformat_minor": 5
}
