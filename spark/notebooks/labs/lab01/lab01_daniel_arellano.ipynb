{
 "cells": [
  {
   "cell_type": "markdown",
   "id": "b92d9622",
   "metadata": {},
   "source": [
    "# <center> <img src=\"../../img/ITESOLogo.png\" alt=\"ITESO\" width=\"480\" height=\"130\"> </center>\n",
    "# <center> **Departamento de Electrónica, Sistemas e Informática** </center>\n",
    "---\n",
    "## <center> Program: Procesamiento de Datos Masivos  </center>\n",
    "---\n",
    "### <center> **Autumn 2025** </center>\n",
    "---\n",
    "\n",
    "**Lab**: 01\n",
    "\n",
    "**Date**: 2 - september - 2025\n",
    "\n",
    "**Student Name**: Luis Daniel Arellano Núñez \n",
    "\n",
    "**Professor**: Pablo Camarillo Ramirez"
   ]
  },
  {
   "cell_type": "markdown",
   "id": "b34028d9",
   "metadata": {},
   "source": [
    "**Eliminate Duplicates by converting the list to a set**"
   ]
  },
  {
   "cell_type": "code",
   "execution_count": 20,
   "id": "80084f62-77ce-4982-98f4-df024aa2f921",
   "metadata": {},
   "outputs": [
    {
     "name": "stdout",
     "output_type": "stream",
     "text": [
      "('UserD', 'Song3')\n",
      "('UserC', 'Song1')\n",
      "('UserC', 'Song3')\n",
      "('UserD', 'Song1')\n",
      "('UserA', 'Song2')\n",
      "('UserA', 'Song1')\n",
      "('UserB', 'Song2')\n",
      "('UserB', 'Song1')\n"
     ]
    }
   ],
   "source": [
    "plays = [\n",
    "    (\"UserA\", \"Song1\"),\n",
    "    (\"UserB\", \"Song1\"),\n",
    "    (\"UserA\", \"Song2\"),\n",
    "    (\"UserA\", \"Song1\"),\n",
    "    (\"UserC\", \"Song3\"),\n",
    "    (\"UserB\", \"Song2\"),\n",
    "    (\"UserD\", \"Song1\"),\n",
    "    (\"UserC\", \"Song1\"),\n",
    "    (\"UserD\", \"Song3\"),\n",
    "]\n",
    "\n",
    "plays_s = set(plays)\n",
    "\n",
    "for x in plays_s:\n",
    "  print(x)"
   ]
  },
  {
   "cell_type": "markdown",
   "id": "a76dd6bc",
   "metadata": {},
   "source": [
    "**We use a dictionary to count how many unique songs an user had heard, using a counter each time the user repeats**"
   ]
  },
  {
   "cell_type": "code",
   "execution_count": 21,
   "id": "d4228bda",
   "metadata": {},
   "outputs": [
    {
     "name": "stdout",
     "output_type": "stream",
     "text": [
      "UserD: 2 songs\n",
      "UserC: 2 songs\n",
      "UserA: 2 songs\n",
      "UserB: 2 songs\n"
     ]
    }
   ],
   "source": [
    "unique = {}\n",
    "\n",
    "for x in plays_s:\n",
    "    if unique.get(x[0]) is None:\n",
    "        unique[x[0]] = 1\n",
    "    else:\n",
    "        unique[x[0]] = unique.get(x[0]) + 1\n",
    "\n",
    "for x, y in unique.items():\n",
    "  print(x + \":\", y, \"songs\")"
   ]
  },
  {
   "cell_type": "markdown",
   "id": "16b4b39d",
   "metadata": {},
   "source": [
    "**Check the popular song**"
   ]
  },
  {
   "cell_type": "code",
   "execution_count": 23,
   "id": "c3a3e0e1",
   "metadata": {},
   "outputs": [
    {
     "name": "stdout",
     "output_type": "stream",
     "text": [
      " The most popular song is Song1 with 4 reproductions\n"
     ]
    }
   ],
   "source": [
    "popular = {}\n",
    "\n",
    "for x in plays_s:\n",
    "    if popular.get(x[1]) is None:\n",
    "        popular[x[1]] = 1\n",
    "    else:\n",
    "        popular[x[1]] = popular.get(x[1]) + 1\n",
    "\n",
    "max_key = max(popular, key=popular.get)\n",
    "max_value = popular[max_key]\n",
    "\n",
    "print(f\" The most popular song is {max_key} with {max_value} reproductions\")"
   ]
  }
 ],
 "metadata": {
  "kernelspec": {
   "display_name": "Python 3 (ipykernel)",
   "language": "python",
   "name": "python3"
  },
  "language_info": {
   "codemirror_mode": {
    "name": "ipython",
    "version": 3
   },
   "file_extension": ".py",
   "mimetype": "text/x-python",
   "name": "python",
   "nbconvert_exporter": "python",
   "pygments_lexer": "ipython3",
   "version": "3.10.12"
  }
 },
 "nbformat": 4,
 "nbformat_minor": 5
}
