{
 "cells": [
  {
   "cell_type": "markdown",
   "id": "b92d9622",
   "metadata": {},
   "source": [
    "# <center> <img src=\"../../img/ITESOLogo.png\" alt=\"ITESO\" width=\"480\" height=\"130\"> </center>\n",
    "# <center> **Departamento de Electrónica, Sistemas e Informática** </center>\n",
    "---\n",
    "## <center> Program: Lab 01 - Playlist Analyzer  </center>\n",
    "---\n",
    "### <center> **Autumn 2025** </center>\n",
    "---\n",
    "\n",
    "**Lab 01**:\n",
    "\n",
    "**September 4th 2025**:\n",
    "\n",
    "**Francisco Xavier Figueroa Jimenez**:\n",
    "\n",
    "**Professor**: Pablo Camarillo Ramirez"
   ]
  },
  {
   "cell_type": "code",
   "execution_count": 1,
   "id": "9427eaed-5083-4933-91a2-e39935916174",
   "metadata": {},
   "outputs": [
    {
     "name": "stdout",
     "output_type": "stream",
     "text": [
      "Unique songs per user:\n",
      "UserC: 2 unique song(s)\n",
      "UserA: 2 unique song(s)\n",
      "UserB: 2 unique song(s)\n",
      "UserD: 2 unique song(s)\n",
      "\n",
      " Most popular song:\n",
      "Song1 with 4 plays\n"
     ]
    }
   ],
   "source": [
    "import sys\n",
    "sys.path.append(\"../../lib/thexaviroo\")\n",
    "\n",
    "from utils2 import (\n",
    "    remove_duplicates,\n",
    "    count_unique_songs_per_user,\n",
    "    find_most_popular_songs\n",
    ")\n",
    "\n",
    "# Input data\n",
    "plays = [\n",
    "    (\"UserA\", \"Song1\"),\n",
    "    (\"UserB\", \"Song1\"),\n",
    "    (\"UserA\", \"Song2\"),\n",
    "    (\"UserA\", \"Song1\"),\n",
    "    (\"UserC\", \"Song3\"),\n",
    "    (\"UserB\", \"Song2\"),\n",
    "    (\"UserD\", \"Song1\"),\n",
    "    (\"UserC\", \"Song1\"),\n",
    "    (\"UserD\", \"Song3\"),\n",
    "]\n",
    "\n",
    "# Apply functions\n",
    "unique_plays = remove_duplicates(plays)\n",
    "user_song_counts = count_unique_songs_per_user(unique_plays)\n",
    "most_popular_songs, max_count = find_most_popular_songs(unique_plays)\n",
    "\n",
    "# Output results\n",
    "print(\"Unique songs per user:\")\n",
    "for user, count in user_song_counts.items():\n",
    "    print(f\"{user}: {count} unique song(s)\")\n",
    "\n",
    "print(\"\\n Most popular song:\")\n",
    "for song in most_popular_songs:\n",
    "    print(f\"{song} with {max_count} plays\")\n"
   ]
  },
  {
   "cell_type": "code",
   "execution_count": null,
   "id": "e7108213-a553-4525-a712-f07b63de6cb5",
   "metadata": {},
   "outputs": [],
   "source": []
  }
 ],
 "metadata": {
  "kernelspec": {
   "display_name": "Python 3 (ipykernel)",
   "language": "python",
   "name": "python3"
  },
  "language_info": {
   "codemirror_mode": {
    "name": "ipython",
    "version": 3
   },
   "file_extension": ".py",
   "mimetype": "text/x-python",
   "name": "python",
   "nbconvert_exporter": "python",
   "pygments_lexer": "ipython3",
   "version": "3.10.12"
  }
 },
 "nbformat": 4,
 "nbformat_minor": 5
}
