{
 "cells": [
  {
   "cell_type": "markdown",
   "id": "header",
   "metadata": {},
   "source": [
    "# <center> <img src=\"../../img/ITESOLogo.png\" alt=\"ITESO\" width=\"480\" height=\"130\"> </center>\n",
    "# <center> **Departamento de Electrónica, Sistemas e Informática** </center>\n",
    "---\n",
    "## <center> Program: Big Data Processing </center>\n",
    "---\n",
    "### <center> **Autumn 2025** </center>\n",
    "---\n",
    "\n",
    "**Lab 01**: Playlist Data Analysis - Final Version\n",
    "\n",
    "**Date**: 02/09/2025\n",
    "\n",
    "**Student Name**: Fernando Ramos\n",
    "\n",
    "**Professor**: Pablo Camarillo Ramirez"
   ]
  },
  {
   "cell_type": "markdown",
   "id": "imports-section",
   "metadata": {},
   "source": [
    "## 1. Import Libraries\n",
    "\n",
    "Using only standard Python libraries available in basic environments."
   ]
  },
  {
   "cell_type": "code",
   "execution_count": 15,
   "id": "imports",
   "metadata": {},
   "outputs": [
    {
     "name": "stdout",
     "output_type": "stream",
     "text": [
      "Standard libraries imported successfully\n"
     ]
    }
   ],
   "source": [
    "from collections import defaultdict, Counter\n",
    "\n",
    "print('Standard libraries imported successfully')"
   ]
  },
  {
   "cell_type": "markdown",
   "id": "data-section",
   "metadata": {},
   "source": [
    "## 2. Load Sample Data\n",
    "\n",
    "Embedded playlist data - no external files needed!"
   ]
  },
  {
   "cell_type": "code",
   "execution_count": 16,
   "id": "data-load",
   "metadata": {},
   "outputs": [
    {
     "name": "stdout",
     "output_type": "stream",
     "text": [
      "Loaded 9 playlist records\n",
      "Data source: Embedded (no external files)\n",
      "Ready for analysis!\n"
     ]
    }
   ],
   "source": [
    "# Sample playlist data\n",
    "playlist_data = [\n",
    "    {\"user\": \"UserA\", \"song\": \"Song1\"},\n",
    "    {\"user\": \"UserB\", \"song\": \"Song1\"},\n",
    "    {\"user\": \"UserA\", \"song\": \"Song2\"},\n",
    "    {\"user\": \"UserA\", \"song\": \"Song1\"},\n",
    "    {\"user\": \"UserC\", \"song\": \"Song3\"},\n",
    "    {\"user\": \"UserB\", \"song\": \"Song2\"},\n",
    "    {\"user\": \"UserD\", \"song\": \"Song1\"},\n",
    "    {\"user\": \"UserC\", \"song\": \"Song1\"},\n",
    "    {\"user\": \"UserD\", \"song\": \"Song3\"}\n",
    "]\n",
    "\n",
    "print(f'Loaded {len(playlist_data)} playlist records')\n",
    "print('Data source: Embedded (no external files)')\n",
    "print('Ready for analysis!')"
   ]
  },
  {
   "cell_type": "markdown",
   "id": "display-section",
   "metadata": {},
   "source": [
    "## 3. Display Original Data\n",
    "\n",
    "Let's see what we're working with..."
   ]
  },
  {
   "cell_type": "code",
   "execution_count": 17,
   "id": "display-data",
   "metadata": {},
   "outputs": [
    {
     "name": "stdout",
     "output_type": "stream",
     "text": [
      "Original Playlist Data:\n",
      "===================================\n",
      "   1. UserA listened to Song1\n",
      "   2. UserB listened to Song1\n",
      "   3. UserA listened to Song2\n",
      "   4. UserA listened to Song1 🔁\n",
      "   5. UserC listened to Song3\n",
      "   6. UserB listened to Song2\n",
      "   7. UserD listened to Song1\n",
      "   8. UserC listened to Song1\n",
      "   9. UserD listened to Song3\n",
      "\n",
      "Total records: 9\n"
     ]
    }
   ],
   "source": [
    "print('Original Playlist Data:')\n",
    "print('=' * 35)\n",
    "\n",
    "for i, record in enumerate(playlist_data, 1):\n",
    "    user = record['user']\n",
    "    song = record['song']\n",
    "    duplicate_marker = ' 🔁' if (user == 'UserA' and song == 'Song1' and i == 4) else ''\n",
    "    print(f'  {i:2d}. {user} listened to {song}{duplicate_marker}')\n",
    "\n",
    "print(f'\\nTotal records: {len(playlist_data)}')"
   ]
  },
  {
   "cell_type": "markdown",
   "id": "dedup-section",
   "metadata": {},
   "source": [
    "## 4. Deduplication Process\n",
    "\n",
    "Remove duplicate user-song combinations using Python sets."
   ]
  },
  {
   "cell_type": "code",
   "execution_count": 18,
   "id": "deduplication",
   "metadata": {},
   "outputs": [
    {
     "name": "stdout",
     "output_type": "stream",
     "text": [
      "Deduplication Results:\n",
      "==============================\n",
      "  Original records: 9\n",
      "  Unique combinations: 8\n",
      "  Duplicates removed: 1\n",
      "\n",
      "Unique User-Song Combinations:\n",
      "----------------------------------------\n",
      "  UserA → Song1\n",
      "  UserA → Song2\n",
      "  UserB → Song1\n",
      "  UserB → Song2\n",
      "  UserC → Song1\n",
      "  UserC → Song3\n",
      "  UserD → Song1\n",
      "  UserD → Song3\n"
     ]
    }
   ],
   "source": [
    "# Create set to automatically handle duplicates\n",
    "unique_plays = set()\n",
    "\n",
    "# Process each record\n",
    "for record in playlist_data:\n",
    "    user = record['user']\n",
    "    song = record['song']\n",
    "    unique_plays.add((user, song))\n",
    "\n",
    "# Show deduplication results\n",
    "print('Deduplication Results:')\n",
    "print('=' * 30)\n",
    "print(f'  Original records: {len(playlist_data)}')\n",
    "print(f'  Unique combinations: {len(unique_plays)}')\n",
    "print(f'  Duplicates removed: {len(playlist_data) - len(unique_plays)}')\n",
    "\n",
    "# Display unique combinations\n",
    "print('\\nUnique User-Song Combinations:')\n",
    "print('-' * 40)\n",
    "for user, song in sorted(unique_plays):\n",
    "    print(f'  {user} → {song}')"
   ]
  },
  {
   "cell_type": "markdown",
   "id": "user-analysis-section",
   "metadata": {},
   "source": [
    "## 5. User Analysis\n",
    "\n",
    "Calculate how many unique songs each user listened to."
   ]
  },
  {
   "cell_type": "code",
   "execution_count": 19,
   "id": "user-analysis",
   "metadata": {},
   "outputs": [
    {
     "name": "stdout",
     "output_type": "stream",
     "text": [
      "User Listening Analysis:\n",
      "===================================\n",
      "\n",
      "UserA:\n",
      "   Unique songs: 2\n",
      "   Songs: Song1 | Song2\n",
      "\n",
      "UserB:\n",
      "   Unique songs: 2\n",
      "   Songs: Song1 | Song2\n",
      "\n",
      "UserC:\n",
      "   Unique songs: 2\n",
      "   Songs: Song1 | Song3\n",
      "\n",
      "UserD:\n",
      "   Unique songs: 2\n",
      "   Songs: Song1 | Song3\n",
      "\n",
      "Total unique users: 4\n"
     ]
    }
   ],
   "source": [
    "# Group songs by user\n",
    "user_songs = defaultdict(set)\n",
    "\n",
    "for user, song in unique_plays:\n",
    "    user_songs[user].add(song)\n",
    "\n",
    "# Display user analysis\n",
    "print('User Listening Analysis:')\n",
    "print('=' * 35)\n",
    "\n",
    "for user in sorted(user_songs.keys()):\n",
    "    songs = sorted(list(user_songs[user]))\n",
    "    song_count = len(songs)\n",
    "    \n",
    "    print(f'\\n{user}:')\n",
    "    print(f'   Unique songs: {song_count}')\n",
    "    print(f'   Songs: {\" | \".join(songs)}')\n",
    "\n",
    "print(f'\\nTotal unique users: {len(user_songs)}')"
   ]
  },
  {
   "cell_type": "markdown",
   "id": "popularity-section",
   "metadata": {},
   "source": [
    "## 6. Song Popularity Analysis\n",
    "\n",
    "Find the most popular songs based on unique listeners."
   ]
  },
  {
   "cell_type": "code",
   "execution_count": 20,
   "id": "popularity-analysis",
   "metadata": {},
   "outputs": [
    {
     "name": "stdout",
     "output_type": "stream",
     "text": [
      "Song Popularity Ranking:\n",
      "===================================\n",
      "\n",
      "MOST POPULAR SONG: Song1\n",
      "Winner with 4 unique listeners!\n"
     ]
    }
   ],
   "source": [
    "# Count unique listeners per song\n",
    "song_listeners = Counter()\n",
    "\n",
    "for user, song in unique_plays:\n",
    "    song_listeners[song] += 1\n",
    "\n",
    "# Display popularity ranking\n",
    "print('Song Popularity Ranking:')\n",
    "print('=' * 35)\n",
    "\n",
    "# Highlight the winner\n",
    "if song_listeners:\n",
    "    most_popular, max_listeners = song_listeners.most_common(1)[0]\n",
    "    print(f'\\nMOST POPULAR SONG: {most_popular}')\n",
    "    print(f'Winner with {max_listeners} unique listeners!')\n",
    "else:\n",
    "    print('\\nNo song data found')"
   ]
  },
  {
   "cell_type": "markdown",
   "id": "summary-section",
   "metadata": {},
   "source": [
    "## 7. Summary Statistics\n",
    "\n",
    "Complete analysis overview."
   ]
  },
  {
   "cell_type": "code",
   "execution_count": 21,
   "id": "summary-stats",
   "metadata": {},
   "outputs": [
    {
     "name": "stdout",
     "output_type": "stream",
     "text": [
      "FINAL ANALYSIS SUMMARY\n",
      "==================================================\n",
      "\n",
      "Dataset Overview:\n",
      "   Original records: 9\n",
      "   Unique plays: 8\n",
      "   Duplicates: 1\n",
      "\n",
      "User Metrics:\n",
      "   Total users: 4\n",
      "   Average songs per user: 2.0\n",
      "\n",
      "Song Metrics:\n",
      "   Total unique songs: 3\n",
      "   Average listeners per song: 2.7\n",
      "\n",
      "Key Findings:\n",
      "   Most popular: Song1 (4 listeners)\n",
      "\n",
      "Analysis completed successfully!\n"
     ]
    }
   ],
   "source": [
    "# Calculate comprehensive statistics\n",
    "total_users = len(user_songs)\n",
    "total_songs = len(song_listeners)\n",
    "total_unique_plays = len(unique_plays)\n",
    "total_original_records = len(playlist_data)\n",
    "duplicate_rate = ((total_original_records - total_unique_plays) / total_original_records * 100)\n",
    "\n",
    "# Average songs per user\n",
    "avg_songs_per_user = sum(len(songs) for songs in user_songs.values()) / total_users if total_users > 0 else 0\n",
    "\n",
    "# Average listeners per song\n",
    "avg_listeners_per_song = sum(song_listeners.values()) / total_songs if total_songs > 0 else 0\n",
    "\n",
    "print('FINAL ANALYSIS SUMMARY')\n",
    "print('=' * 50)\n",
    "\n",
    "print('\\nDataset Overview:')\n",
    "print(f'   Original records: {total_original_records}')\n",
    "print(f'   Unique plays: {total_unique_plays}')\n",
    "print(f'   Duplicates: {total_original_records - total_unique_plays}')\n",
    "\n",
    "print('\\nUser Metrics:')\n",
    "print(f'   Total users: {total_users}')\n",
    "print(f'   Average songs per user: {avg_songs_per_user:.1f}')\n",
    "\n",
    "print('\\nSong Metrics:')\n",
    "print(f'   Total unique songs: {total_songs}')\n",
    "print(f'   Average listeners per song: {avg_listeners_per_song:.1f}')\n",
    "\n",
    "print('\\nKey Findings:')\n",
    "if song_listeners:\n",
    "    most_popular_song, max_listeners = song_listeners.most_common(1)[0]\n",
    "    print(f'   Most popular: {most_popular_song} ({max_listeners} listeners)')\n",
    "\n",
    "print('\\nAnalysis completed successfully!')"
   ]
  },
  {
   "cell_type": "code",
   "execution_count": null,
   "id": "65942932-5d4d-452c-9a5d-eed60865d77e",
   "metadata": {},
   "outputs": [],
   "source": []
  }
 ],
 "metadata": {
  "kernelspec": {
   "display_name": "Python 3 (ipykernel)",
   "language": "python",
   "name": "python3"
  },
  "language_info": {
   "codemirror_mode": {
    "name": "ipython",
    "version": 3
   },
   "file_extension": ".py",
   "mimetype": "text/x-python",
   "name": "python",
   "nbconvert_exporter": "python",
   "pygments_lexer": "ipython3",
   "version": "3.10.12"
  }
 },
 "nbformat": 4,
 "nbformat_minor": 5
}
