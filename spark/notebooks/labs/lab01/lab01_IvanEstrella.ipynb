{
 "cells": [
  {
   "cell_type": "markdown",
   "id": "b92d9622",
   "metadata": {},
   "source": [
    "# <center> <img src=\"../../img/ITESOLogo.png\" alt=\"ITESO\" width=\"480\" height=\"130\"> </center>\n",
    "# <center> **Departamento de Electrónica, Sistemas e Informática** </center>\n",
    "---\n",
    "## <center> Program: Procesamiento de Datos Masivos  </center>\n",
    "---\n",
    "### <center> **Autumn 2025** </center>\n",
    "---\n",
    "\n",
    "**Lab XX**: 01\n",
    "\n",
    "**Date**: September 2nd 2025\n",
    "\n",
    "**Student Name**: Juan Luis Ivan Estrella Lopez\n",
    "\n",
    "**Professor**: Pablo Camarillo Ramirez"
   ]
  },
  {
   "cell_type": "code",
   "execution_count": null,
   "id": "0c1c5f45",
   "metadata": {},
   "outputs": [
    {
     "name": "stdout",
     "output_type": "stream",
     "text": [
      "Song1\n",
      "Song3\n",
      "Song1\n",
      "Song3\n",
      "Song2\n",
      "Song1\n",
      "Song2\n",
      "Song1\n",
      "{'UserD': 2, 'UserC': 2, 'UserB': 2, 'UserA': 2}\n"
     ]
    }
   ],
   "source": [
    "plays = [\n",
    "(\"UserA\", \"Song1\"),\n",
    "(\"UserB\", \"Song1\"),\n",
    "(\"UserA\", \"Song2\"),\n",
    "(\"UserA\", \"Song1\"),\n",
    "(\"UserC\", \"Song3\"),\n",
    "(\"UserB\", \"Song2\"),\n",
    "(\"UserD\", \"Song1\"),\n",
    "(\"UserC\", \"Song1\"),\n",
    "(\"UserD\", \"Song3\"),\n",
    "]\n",
    "\n",
    "# Getting Rid of all duplicates\n",
    "plays = set(plays)\n",
    "print(plays)"
   ]
  },
  {
   "cell_type": "code",
   "execution_count": 24,
   "id": "b63f4996-f5b1-4933-8c81-dac93db2ae55",
   "metadata": {},
   "outputs": [
    {
     "name": "stdout",
     "output_type": "stream",
     "text": [
      "Counter({'UserD': 2, 'UserC': 2, 'UserB': 2, 'UserA': 2})\n"
     ]
    }
   ],
   "source": [
    "from collections import Counter\n",
    "\n",
    "# Number of unique songs for each user\n",
    "keys = [item[0] for item in plays]\n",
    "unique_songs = Counter(keys)\n",
    "\n",
    "print(unique_songs)\n"
   ]
  },
  {
   "cell_type": "code",
   "execution_count": 23,
   "id": "5ca55311-e184-4701-b528-d2834b7c09f6",
   "metadata": {},
   "outputs": [
    {
     "name": "stdout",
     "output_type": "stream",
     "text": [
      "[('Song1', 4)]\n"
     ]
    }
   ],
   "source": [
    "# Most Popular Song\n",
    "print(sum(map(Counter, plays), Counter()).most_common(1))\n"
   ]
  }
 ],
 "metadata": {
  "kernelspec": {
   "display_name": "Python 3 (ipykernel)",
   "language": "python",
   "name": "python3"
  },
  "language_info": {
   "codemirror_mode": {
    "name": "ipython",
    "version": 3
   },
   "file_extension": ".py",
   "mimetype": "text/x-python",
   "name": "python",
   "nbconvert_exporter": "python",
   "pygments_lexer": "ipython3",
   "version": "3.10.12"
  }
 },
 "nbformat": 4,
 "nbformat_minor": 5
}
