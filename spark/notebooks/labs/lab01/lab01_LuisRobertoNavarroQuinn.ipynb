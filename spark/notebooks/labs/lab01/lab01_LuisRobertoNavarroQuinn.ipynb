{
 "cells": [
  {
   "cell_type": "markdown",
   "id": "b92d9622",
   "metadata": {},
   "source": [
    "# <center> <img src=\"../../img/ITESOLogo.png\" alt=\"ITESO\" width=\"480\" height=\"130\"> </center>\n",
    "# <center> **Departamento de Electrónica, Sistemas e Informática** </center>\n",
    "---\n",
    "## <center> Program: _Add your program's name here_  </center>\n",
    "---\n",
    "### <center> **Autumn 2025** </center>\n",
    "---\n",
    "\n",
    "**Lab XX**: 01\n",
    "\n",
    "**Date**: 28/08/25\n",
    "\n",
    "**Student Name**: Luis Roberto Navarro Quinn\n",
    "\n",
    "**Professor**: Pablo Camarillo Ramirez"
   ]
  },
  {
   "cell_type": "code",
   "execution_count": 11,
   "id": "345528e7-9950-485d-864e-1bddf0bbf5a9",
   "metadata": {},
   "outputs": [
    {
     "name": "stdout",
     "output_type": "stream",
     "text": [
      "Unicos{('UserB', 'Song2'), ('UserC', 'Song1'), ('UserC', 'Song3'), ('UserD', 'Song1'), ('UserD', 'Song3'), ('UserA', 'Song2'), ('UserB', 'Song1'), ('UserA', 'Song1')}\n",
      "Reproducciones por persona{'UserB': 2, 'UserC': 2, 'UserD': 2, 'UserA': 2}\n",
      "Más popular['Song1']\n",
      "ConteoCounter({'Song1': 4, 'Song2': 2, 'Song3': 2})\n"
     ]
    }
   ],
   "source": [
    "plays = [\n",
    "\n",
    "(\"UserA\", \"Song1\"),\n",
    "\n",
    "(\"UserB\", \"Song1\"),\n",
    "\n",
    "(\"UserA\", \"Song2\"),\n",
    "\n",
    "(\"UserA\", \"Song1\"),\n",
    "\n",
    "(\"UserC\", \"Song3\"),\n",
    "\n",
    "(\"UserB\", \"Song2\"),\n",
    "\n",
    "(\"UserD\", \"Song1\"),\n",
    "\n",
    "(\"UserC\", \"Song1\"),\n",
    "\n",
    "(\"UserD\", \"Song3\"),\n",
    "\n",
    "]\n",
    "\n",
    "PlaysClean = set(plays)\n",
    "\n",
    "SongUser = {}\n",
    "for user, song in PlaysClean:\n",
    "    SongUser.setdefault(user, set()).add(song)\n",
    "\n",
    "SongUserCounts = {user: len(songs) for user, songs in SongUser.items()}\n",
    "\n",
    "from collections import Counter\n",
    "\n",
    "song_counts = Counter(song for _, song in PlaysClean)\n",
    "max_count = max(song_counts.values())\n",
    "most_popular = [song for song, count in song_counts.items() if count == max_count]\n",
    "\n",
    "\n",
    "print(\"Unicos\" + str(PlaysClean))\n",
    "print(\"Reproducciones por persona\" + str(SongUserCounts))\n",
    "print(\"Más popular\" + str(most_popular))\n",
    "print(\"Conteo\" + str(song_counts))\n"
   ]
  }
 ],
 "metadata": {
  "kernelspec": {
   "display_name": "Python 3",
   "language": "python",
   "name": "python3"
  },
  "language_info": {
   "codemirror_mode": {
    "name": "ipython",
    "version": 3
   },
   "file_extension": ".py",
   "mimetype": "text/x-python",
   "name": "python",
   "nbconvert_exporter": "python",
   "pygments_lexer": "ipython3",
   "version": "3.12.1"
  }
 },
 "nbformat": 4,
 "nbformat_minor": 5
}
