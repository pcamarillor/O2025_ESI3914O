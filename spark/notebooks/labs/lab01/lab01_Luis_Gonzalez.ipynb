{
 "cells": [
  {
   "cell_type": "markdown",
   "id": "b92d9622",
   "metadata": {},
   "source": [
    "# <center> <img src=\"../../img/ITESOLogo.png\" alt=\"ITESO\" width=\"480\" height=\"130\"> </center>\n",
    "# <center> **Departamento de Electrónica, Sistemas e Informática** </center>\n",
    "---\n",
    "## <center> Program: _Procesamiento de Datos Masivos_  </center>\n",
    "---\n",
    "### <center> **Autumn 2025** </center>\n",
    "---\n",
    "\n",
    "**Lab 01**:\n",
    "\n",
    "**September 4, 2025**:\n",
    "\n",
    "**Luis Alberto González Escamilla**:\n",
    "\n",
    "**Professor**: Pablo Camarillo Ramirez"
   ]
  },
  {
   "cell_type": "code",
   "execution_count": 7,
   "id": "413409af-6d82-4dd5-92d0-f7e1fb404c18",
   "metadata": {},
   "outputs": [
    {
     "name": "stdout",
     "output_type": "stream",
     "text": [
      "1. Unique Play Records\n",
      "[('UserA', 'Song1'), ('UserB', 'Song1'), ('UserD', 'Song3'), ('UserC', 'Song3'), ('UserD', 'Song1'), ('UserC', 'Song1'), ('UserA', 'Song2'), ('UserB', 'Song2')]\n",
      "2. Unique Song Count Per User\n",
      "{'UserA': 2, 'UserB': 2, 'UserD': 2, 'UserC': 2}\n",
      "3a. Popularity Count for Each Song\n",
      "{'Song1': 4, 'Song3': 2, 'Song2': 2}\n",
      "3b. Most Popular Song(s)\n",
      "The most popular song(s) were listened to by 4 unique users.\n",
      "The song: ['Song1']\n"
     ]
    }
   ],
   "source": [
    "plays = [\n",
    "    (\"UserA\", \"Song1\"),\n",
    "    (\"UserB\", \"Song1\"),\n",
    "    (\"UserA\", \"Song2\"),\n",
    "    (\"UserA\", \"Song1\"),\n",
    "    (\"UserC\", \"Song3\"),\n",
    "    (\"UserB\", \"Song2\"),\n",
    "    (\"UserD\", \"Song1\"),\n",
    "    (\"UserC\", \"Song1\"),\n",
    "    (\"UserD\", \"Song3\"),\n",
    "]\n",
    "\n",
    "# 1. Remove duplicate play records\n",
    "unique_plays = list(set(plays))\n",
    "\n",
    "print(\"1. Unique Play Records\")\n",
    "print(unique_plays)\n",
    "\n",
    "# 2. Track how many unique songs each user has listened to\n",
    "user_songs = {} \n",
    "\n",
    "for play in unique_plays:\n",
    "    user = play[0]\n",
    "    song = play[1]\n",
    "\n",
    "    if user not in user_songs:\n",
    "        user_songs[user] = [] \n",
    "\n",
    "    user_songs[user].append(song)\n",
    "\n",
    "user_song_counts = {} \n",
    "\n",
    "for user, songs in user_songs.items():\n",
    "    user_song_counts[user] = len(songs)\n",
    "\n",
    "print(\"2. Unique Song Count Per User\")\n",
    "print(user_song_counts)\n",
    "\n",
    "\n",
    "# --- 3. Find the most popular song(s) ---\n",
    "song_counts = {} \n",
    "\n",
    "for play in unique_plays:\n",
    "    song = play[1]\n",
    "\n",
    "    if song not in song_counts:\n",
    "        song_counts[song] = 1\n",
    "    else:\n",
    "        song_counts[song] += 1\n",
    "\n",
    "print(\"3a. Popularity Count for Each Song\")\n",
    "print(song_counts)\n",
    "\n",
    "\n",
    "max_plays = 0\n",
    "for song in song_counts:\n",
    "    count = song_counts[song]\n",
    "    if count > max_plays:\n",
    "        max_plays = count\n",
    "\n",
    "most_popular_songs = []\n",
    "for song in song_counts:\n",
    "    if song_counts[song] == max_plays:\n",
    "        most_popular_songs.append(song)\n",
    "\n",
    "print(\"3b. Most Popular Song(s)\")\n",
    "print(f\"The most popular song(s) were listened to by {max_plays} unique users.\")\n",
    "print(f\"The song: {most_popular_songs}\")"
   ]
  },
  {
   "cell_type": "code",
   "execution_count": null,
   "id": "c5949208-c3bf-4daa-a668-4a70ee0f340b",
   "metadata": {},
   "outputs": [],
   "source": []
  }
 ],
 "metadata": {
  "kernelspec": {
   "display_name": "Python 3 (ipykernel)",
   "language": "python",
   "name": "python3"
  },
  "language_info": {
   "codemirror_mode": {
    "name": "ipython",
    "version": 3
   },
   "file_extension": ".py",
   "mimetype": "text/x-python",
   "name": "python",
   "nbconvert_exporter": "python",
   "pygments_lexer": "ipython3",
   "version": "3.10.12"
  }
 },
 "nbformat": 4,
 "nbformat_minor": 5
}
