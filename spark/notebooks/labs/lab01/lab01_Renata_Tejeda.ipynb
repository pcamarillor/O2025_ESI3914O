{
 "cells": [
  {
   "cell_type": "markdown",
   "id": "faa2edb4-364a-4775-969b-933b89750e6f",
   "metadata": {},
   "source": [
    "# <center> <img src=\"../../img/ITESOLogo.png\" alt=\"ITESO\" width=\"480\" height=\"130\"> </center>\n",
    "# <center> **Departamento de Electrónica, Sistemas e Informática** </center>\n",
    "---\n",
    "## <center> Program: Computer Engineering  </center>\n",
    "---\n",
    "### <center> **Autumn 2025** </center>\n",
    "---\n",
    "\n",
    "**Lab 01**: Playlist analyzer\n",
    "\n",
    "**Date**: 02/09/2025\n",
    "\n",
    "**Student Name**: Renata Tejeda Mercado\n",
    "\n",
    "**Professor**: Pablo Camarillo Ramirez"
   ]
  },
  {
   "cell_type": "code",
   "execution_count": 6,
   "id": "f9b0a93d-fad7-4bbb-a6c8-9f8c84a0931c",
   "metadata": {
    "scrolled": true
   },
   "outputs": [],
   "source": [
    "#input\n",
    "plays = [\n",
    "    (\"UserA\", \"Song1\"),\n",
    "    (\"UserB\", \"Song1\"),\n",
    "    (\"UserA\", \"Song2\"),\n",
    "    (\"UserA\", \"Song1\"),\n",
    "    (\"UserC\", \"Song3\"),\n",
    "    (\"UserB\", \"Song2\"),\n",
    "    (\"UserD\", \"Song1\"),\n",
    "    (\"UserC\", \"Song1\"),\n",
    "    (\"UserD\", \"Song3\"),\n",
    "]"
   ]
  },
  {
   "cell_type": "code",
   "execution_count": 11,
   "id": "2c7b0879-2d1a-4e8d-9d28-a70e1641c7b2",
   "metadata": {},
   "outputs": [
    {
     "name": "stdout",
     "output_type": "stream",
     "text": [
      "('UserA', 'Song1'),\n",
      "('UserA', 'Song2'),\n",
      "('UserB', 'Song1'),\n",
      "('UserB', 'Song2'),\n",
      "('UserC', 'Song1'),\n",
      "('UserC', 'Song3'),\n",
      "('UserD', 'Song1'),\n",
      "('UserD', 'Song3'),\n"
     ]
    }
   ],
   "source": [
    "# Remove duplicate play records.\n",
    "unique_plays = set(plays)\n",
    "for play in sorted(unique_plays):\n",
    "    print(f\"{play},\")"
   ]
  },
  {
   "cell_type": "code",
   "execution_count": 23,
   "id": "07365de3-32c9-40e8-932e-b101587c0224",
   "metadata": {},
   "outputs": [
    {
     "name": "stdout",
     "output_type": "stream",
     "text": [
      " UserA, 2 unique songs\n",
      " UserB, 2 unique songs\n",
      " UserC, 2 unique songs\n",
      " UserD, 2 unique songs\n"
     ]
    }
   ],
   "source": [
    "# Track how many unique songs each user has listened to.\n",
    "    \n",
    "user_songs = {}\n",
    "\n",
    "for user, song in plays:\n",
    "    if user not in user_songs:\n",
    "        user_songs[user] = set()\n",
    "    user_songs[user].add(song) \n",
    "\n",
    "unique_song_counts = {user: len(songs) for user, songs in user_songs.items()}\n",
    "\n",
    "for user, count in unique_song_counts.items():\n",
    "    print(f\" {user}, {count} unique songs\")\n",
    "\n"
   ]
  },
  {
   "cell_type": "code",
   "execution_count": 17,
   "id": "62eef07b-4f7f-4f8d-9bf5-dd1b5ab86028",
   "metadata": {},
   "outputs": [
    {
     "name": "stdout",
     "output_type": "stream",
     "text": [
      "Most popular song: ['Song1'] 4\n"
     ]
    }
   ],
   "source": [
    "song_users = {}\n",
    "\n",
    "for user, song in plays:\n",
    "    if song not in song_users:\n",
    "        song_users[song] = set()\n",
    "    song_users[song].add(user) \n",
    "\n",
    "song_counts = {song: len(users) for song, users in song_users.items()}\n",
    "\n",
    "max_count = max(song_counts.values())\n",
    "most_popular = [song for song, count in song_counts.items() if count == max_count]\n",
    "\n",
    "print(\"Most popular song:\", most_popular, max_count) #It doesn't count the duplicate."
   ]
  },
  {
   "cell_type": "code",
   "execution_count": null,
   "id": "3f9f2ca3-16a4-48e6-b998-a06af540815f",
   "metadata": {},
   "outputs": [],
   "source": []
  }
 ],
 "metadata": {
  "kernelspec": {
   "display_name": "Python 3 (ipykernel)",
   "language": "python",
   "name": "python3"
  },
  "language_info": {
   "codemirror_mode": {
    "name": "ipython",
    "version": 3
   },
   "file_extension": ".py",
   "mimetype": "text/x-python",
   "name": "python",
   "nbconvert_exporter": "python",
   "pygments_lexer": "ipython3",
   "version": "3.10.12"
  }
 },
 "nbformat": 4,
 "nbformat_minor": 5
}
