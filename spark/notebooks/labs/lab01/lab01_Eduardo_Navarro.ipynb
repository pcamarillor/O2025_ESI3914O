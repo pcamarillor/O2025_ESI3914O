{
 "cells": [
  {
   "cell_type": "markdown",
   "id": "b92d9622",
   "metadata": {},
   "source": [
    "# <center> <img src=\"../../img/ITESOLogo.png\" alt=\"ITESO\" width=\"480\" height=\"130\"> </center>\n",
    "# <center> **Departamento de Electrónica, Sistemas e Informática** </center>\n",
    "---\n",
    "## <center> Program:Lab 01: Playlist analyzer</center>\n",
    "---\n",
    "### <center> **Autumn 2025** </center>\n",
    "---\n",
    "\n",
    "**Lab 01**:\n",
    "\n",
    "**04/09/2025**:\n",
    "\n",
    "**Eduardo Navarro Martínez**:\n",
    "\n",
    "**Professor**: Pablo Camarillo Ramirez"
   ]
  },
  {
   "cell_type": "code",
   "execution_count": 17,
   "id": "35f1bc56",
   "metadata": {},
   "outputs": [
    {
     "name": "stdout",
     "output_type": "stream",
     "text": [
      "No Duplicates:\n",
      "\n",
      "('UserA', 'Song1')\n",
      "('UserD', 'Song3')\n",
      "('UserB', 'Song2')\n",
      "('UserD', 'Song1')\n",
      "('UserC', 'Song3')\n",
      "('UserC', 'Song1')\n",
      "('UserA', 'Song2')\n",
      "('UserB', 'Song1')\n",
      "\n",
      "Unique songs per user:\n",
      "\n",
      "UserA songs: ['Song1', 'Song2']\n",
      "UserB songs: ['Song1', 'Song2']\n",
      "UserC songs: ['Song1', 'Song3']\n",
      "UserD songs: ['Song1', 'Song3']\n",
      "\n",
      "Most played song: Song1 with 5 plays\n"
     ]
    }
   ],
   "source": [
    "#Input \n",
    "plays = [\n",
    "\n",
    "(\"UserA\", \"Song1\"),\n",
    "\n",
    "(\"UserB\", \"Song1\"),\n",
    "\n",
    "(\"UserA\", \"Song2\"),\n",
    "\n",
    "(\"UserA\", \"Song1\"),\n",
    "\n",
    "(\"UserC\", \"Song3\"),\n",
    "\n",
    "(\"UserB\", \"Song2\"),\n",
    "\n",
    "(\"UserD\", \"Song1\"),\n",
    "\n",
    "(\"UserC\", \"Song1\"),\n",
    "\n",
    "(\"UserD\", \"Song3\"),\n",
    "\n",
    "]\n",
    "\n",
    "# 1. Remove duplicate play records.\n",
    "\n",
    "unique_plays = list(set(plays))\n",
    "\n",
    "user_songs = {}\n",
    "\n",
    "for user, song in plays:\n",
    "    if user not in user_songs:\n",
    "        user_songs[user] = set()\n",
    "    user_songs[user].add(song)\n",
    "\n",
    "\n",
    "print(\"No Duplicates:\\n\")\n",
    "for unique_plays in unique_plays:\n",
    "    print(unique_plays)\n",
    "\n",
    "# 2. Track how many unique songs each user has listened to.\n",
    "\n",
    "print(\"\\nUnique songs per user:\\n\")\n",
    "for user, songs in user_songs.items():\n",
    "    print(f\"{user} songs: {sorted(songs)}\")\n",
    "\n",
    "\n",
    "# 3. Find the most popular song(s).\n",
    "\n",
    "song_count = {}\n",
    "for user, song in plays:\n",
    "    if song not in song_count:\n",
    "        song_count[song] = 0\n",
    "    song_count[song] += 1\n",
    "\n",
    "most_played_song = max(song_count, key=song_count.get)\n",
    "print(f\"\\nMost played song: {most_played_song} with {song_count[most_played_song]} plays\")\n"
   ]
  },
  {
   "cell_type": "code",
   "execution_count": null,
   "id": "0027fd9c",
   "metadata": {},
   "outputs": [],
   "source": []
  }
 ],
 "metadata": {
  "kernelspec": {
   "display_name": "Python 3",
   "language": "python",
   "name": "python3"
  },
  "language_info": {
   "codemirror_mode": {
    "name": "ipython",
    "version": 3
   },
   "file_extension": ".py",
   "mimetype": "text/x-python",
   "name": "python",
   "nbconvert_exporter": "python",
   "pygments_lexer": "ipython3",
   "version": "3.10.8"
  }
 },
 "nbformat": 4,
 "nbformat_minor": 5
}
