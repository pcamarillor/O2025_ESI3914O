{
 "cells": [
  {
   "cell_type": "markdown",
   "id": "b92d9622",
   "metadata": {},
   "source": [
    "# <center> <img src=\"../../img/ITESOLogo.png\" alt=\"ITESO\" width=\"480\" height=\"130\"> </center>\n",
    "# <center> **Departamento de Electrónica, Sistemas e Informática** </center>\n",
    "---\n",
    "## <center> Computer Systems Engineering  </center>\n",
    "---\n",
    "### <center> Big Data Processing </center>\n",
    "---\n",
    "#### <center> **Autumn 2025** </center>\n",
    "---\n",
    "\n",
    "**Lab 04**: Data Unions & Joins Pipeline\n",
    "\n",
    "**Date**: September 23rd 2025\n",
    "\n",
    "**Student Name**:\n",
    "\n",
    "**Professor**: Pablo Camarillo Ramirez"
   ]
  },
  {
   "cell_type": "code",
   "execution_count": 1,
   "id": "ed17a0b0",
   "metadata": {},
   "outputs": [
    {
     "name": "stderr",
     "output_type": "stream",
     "text": [
      "WARNING: Using incubator modules: jdk.incubator.vector\n",
      "Using Spark's default log4j profile: org/apache/spark/log4j2-defaults.properties\n",
      "Setting default log level to \"WARN\".\n",
      "To adjust logging level use sc.setLogLevel(newLevel). For SparkR, use setLogLevel(newLevel).\n",
      "25/09/26 01:03:10 WARN NativeCodeLoader: Unable to load native-hadoop library for your platform... using builtin-java classes where applicable\n"
     ]
    }
   ],
   "source": [
    "import findspark\n",
    "findspark.init()\n",
    "\n",
    "from pyspark.sql import SparkSession\n",
    "\n",
    "spark = SparkSession.builder \\\n",
    "    .appName(\"Examples on SparkSQL\") \\\n",
    "    .master(\"spark://d89a1b7dddc8:7077\") \\\n",
    "    .config(\"spark.ui.port\", \"4040\") \\\n",
    "    .getOrCreate()\n",
    "\n",
    "sc = spark.sparkContext\n",
    "sc.setLogLevel(\"ERROR\")"
   ]
  },
  {
   "cell_type": "code",
   "execution_count": 2,
   "id": "a93cd621",
   "metadata": {},
   "outputs": [],
   "source": [
    "# Build schema\n",
    "# Import your module\n",
    "from eduardo_navarro.spark_utils import SparkUtils\n",
    "from pyspark.sql.functions import get_json_object\n",
    "\n",
    "schema_agencies = SparkUtils.generate_schema([(\"agency_id\", \"int\"), (\"agency_info\", \"string\")])\n",
    "\n",
    "df_agencies = spark.read.schema(schema_agencies).option(\"header\", True).csv(\"/opt/spark/work-dir/data/car_service/agencies\")\n"
   ]
  },
  {
   "cell_type": "code",
   "execution_count": 3,
   "id": "1692c3c3-400b-4b78-a757-5296d893733b",
   "metadata": {},
   "outputs": [],
   "source": [
    "df_agencies = df_agencies.withColumn(\"agency_name\", get_json_object(df_agencies.agency_info, \"$.agency_name\"))\n"
   ]
  },
  {
   "cell_type": "code",
   "execution_count": 4,
   "id": "afdcbf26-e0da-4257-8061-dbb873387590",
   "metadata": {},
   "outputs": [],
   "source": [
    "schema_rentals = SparkUtils.generate_schema([(\"rental_id\", \"int\"), (\"rental_info\", \"string\")])\n",
    "df_rentals = spark.read.schema(schema_rentals).option(\"header\", True).csv(\"/opt/spark/work-dir/data/car_service/rentals\")\n",
    "\n",
    "df_rentals = df_rentals.withColumn(\"car_id\", get_json_object(df_rentals.rental_info, \"$.car_id\"))\n",
    "df_rentals = df_rentals.withColumn(\"customer_id\", get_json_object(df_rentals.rental_info, \"$.customer_id\"))\n",
    "df_rentals = df_rentals.withColumn(\"agency_id\", get_json_object(df_rentals.rental_info, \"$.agency_id\"))\n",
    "\n",
    "\n"
   ]
  },
  {
   "cell_type": "code",
   "execution_count": 5,
   "id": "ea7199d4-5bab-4ac6-a96e-976a500583bb",
   "metadata": {},
   "outputs": [],
   "source": [
    "schema_customers = SparkUtils.generate_schema([(\"customer_id\", \"int\"), (\"customer_info\", \"string\")])\n",
    "df_customers = spark.read.schema(schema_customers).option(\"header\", True).csv(\"/opt/spark/work-dir/data/car_service/customers\")  \n",
    "df_customers = df_customers.withColumn(\"customer_name\", get_json_object(df_customers.customer_info, \"$.customer_name\"))  \n"
   ]
  },
  {
   "cell_type": "code",
   "execution_count": 6,
   "id": "ab91a4e8-c4bd-46eb-bb51-d7cb47822b29",
   "metadata": {},
   "outputs": [],
   "source": [
    "schema_cars = SparkUtils.generate_schema([(\"car_id\", \"int\"), (\"car_info\", \"string\")])\n",
    "\n",
    "df_cars = spark.read.schema(schema_cars).option(\"header\", True).csv(\"/opt/spark/work-dir/data/car_service/cars\")\n",
    "\n",
    "df_cars = df_cars.withColumn(\"car_name\", get_json_object(df_cars.car_info, \"$.car_name\"))\n"
   ]
  },
  {
   "cell_type": "code",
   "execution_count": 7,
   "id": "b6ec3813-a56a-4540-b1dc-950868372abb",
   "metadata": {},
   "outputs": [
    {
     "name": "stderr",
     "output_type": "stream",
     "text": [
      "                                                                                "
     ]
    },
    {
     "name": "stdout",
     "output_type": "stream",
     "text": [
      "+---------+--------------------+-------------+---------------+\n",
      "|rental_id|            car_name|  agency_name|  customer_name|\n",
      "+---------+--------------------+-------------+---------------+\n",
      "|    11891|Wallace-Carlson M...|  NYC Rentals| Margaret Jones|\n",
      "|    11892|Grimes-Green Model 8|LA Car Rental|Albert Williams|\n",
      "|    11893|Stewart-Allen Mod...|      SF Cars|  Caleb Fleming|\n",
      "|    11894|  Campos PLC Model 4|  NYC Rentals|  Andrew Butler|\n",
      "|    11895|  Wagner LLC Model 1|      SF Cars|  Kristin Potts|\n",
      "+---------+--------------------+-------------+---------------+\n",
      "only showing top 5 rows\n"
     ]
    }
   ],
   "source": [
    "df_final = df_rentals\\\n",
    "    .join(df_cars, on = \"car_id\")\\\n",
    "    .join(df_agencies, on = \"agency_id\")\\\n",
    "    .join(df_customers, on = \"customer_id\")\\\n",
    "    .select(\"rental_id\", \"car_name\", \"agency_name\", \"customer_name\")\n",
    "df_final.show(5)"
   ]
  },
  {
   "cell_type": "code",
   "execution_count": 8,
   "id": "1ee074d6-28c0-4a3b-80a7-0dd7a4c4d945",
   "metadata": {},
   "outputs": [
    {
     "name": "stdout",
     "output_type": "stream",
     "text": [
      "/opt/spark/work-dir/labs/lab04\n"
     ]
    }
   ],
   "source": [
    "!pwd"
   ]
  },
  {
   "cell_type": "code",
   "execution_count": 9,
   "id": "844c19ba-d125-4152-9597-de9d4ba6f941",
   "metadata": {},
   "outputs": [
    {
     "name": "stdout",
     "output_type": "stream",
     "text": [
      "1.1M\t/opt/spark/work-dir/data/car_service/rentals/\n"
     ]
    }
   ],
   "source": [
    "!du -sh /opt/spark/work-dir/data/car_service/rentals/"
   ]
  },
  {
   "cell_type": "code",
   "execution_count": 12,
   "id": "58b696b1-6681-4fc3-b011-40017dc714f4",
   "metadata": {},
   "outputs": [
    {
     "name": "stderr",
     "output_type": "stream",
     "text": [
      "                                                                                "
     ]
    }
   ],
   "source": [
    "base_path = \"/opt/spark/work-dir/data/\"\n",
    "df_final.write \\\n",
    "        .partitionBy(\"agency_name\")\\\n",
    "        .mode(\"overwrite\")\\\n",
    "        .parquet(base_path + \"car_service/output/parquet\")"
   ]
  },
  {
   "cell_type": "code",
   "execution_count": 14,
   "id": "64a2aeca-9cf7-4cc0-a81b-15ccbb4caed4",
   "metadata": {},
   "outputs": [
    {
     "name": "stderr",
     "output_type": "stream",
     "text": [
      "                                                                                "
     ]
    }
   ],
   "source": [
    "df_final.write\\\n",
    "        .partitionBy(\"agency_name\")\\\n",
    "        .mode(\"overwrite\")\\\n",
    "        .option(\"heather\", True)\\\n",
    "        .csv(base_path + \"car_service/output/csv\")"
   ]
  },
  {
   "cell_type": "code",
   "execution_count": null,
   "id": "9078a7dd",
   "metadata": {},
   "outputs": [],
   "source": [
    "sc.stop()\n",
    "\n",
    "\n",
    "\n",
    "\n",
    "\n",
    "\n",
    "\n",
    "\n",
    "\n",
    "\n"
   ]
  }
 ],
 "metadata": {
  "kernelspec": {
   "display_name": "Python 3 (ipykernel)",
   "language": "python",
   "name": "python3"
  },
  "language_info": {
   "codemirror_mode": {
    "name": "ipython",
    "version": 3
   },
   "file_extension": ".py",
   "mimetype": "text/x-python",
   "name": "python",
   "nbconvert_exporter": "python",
   "pygments_lexer": "ipython3",
   "version": "3.10.12"
  }
 },
 "nbformat": 4,
 "nbformat_minor": 5
}
