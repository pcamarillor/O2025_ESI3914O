{
 "cells": [
  {
   "cell_type": "markdown",
   "id": "b92d9622",
   "metadata": {},
   "source": [
    "# <center> <img src=\"../../img/ITESOLogo.png\" alt=\"ITESO\" width=\"480\" height=\"130\"> </center>\n",
    "# <center> **Departamento de Electrónica, Sistemas e Informática** </center>\n",
    "---\n",
    "## <center> Computer Systems Engineering  </center>\n",
    "---\n",
    "### <center> Big Data Processing </center>\n",
    "---\n",
    "#### <center> **Autumn 2025** </center>\n",
    "---\n",
    "\n",
    "**Lab 04**: Data Unions & Joins Pipeline\n",
    "\n",
    "**Date**: September 23rd 2025\n",
    "\n",
    "**Student Name**: Francisco\n",
    "\n",
    "**Professor**: Pablo Camarillo Ramirez"
   ]
  },
  {
   "cell_type": "code",
   "execution_count": 1,
   "id": "e6ac6871-5b69-48cb-93a7-a2286ac38aa8",
   "metadata": {},
   "outputs": [],
   "source": [
    "# Create SparkSession"
   ]
  },
  {
   "cell_type": "code",
   "execution_count": 3,
   "id": "6aef934c-31f8-4de9-a0a3-3aa031f1c74a",
   "metadata": {},
   "outputs": [],
   "source": [
    "import findspark\n",
    "findspark.init()\n",
    "\n",
    "from pyspark.sql import SparkSession\n",
    "\n",
    "spark = SparkSession.builder \\\n",
    "    .appName(\"Examples on data joins\") \\\n",
    "    .master(\"spark://9eae4bedccb3:7077\") \\\n",
    "    .config(\"spark.ui.port\", \"4040\") \\\n",
    "    .getOrCreate()\n",
    "\n",
    "sc = spark.sparkContext\n",
    "sc.setLogLevel(\"ERROR\")"
   ]
  },
  {
   "cell_type": "code",
   "execution_count": 4,
   "id": "cffd9807-a5b9-4cf5-85dc-40917ad51dda",
   "metadata": {},
   "outputs": [
    {
     "name": "stderr",
     "output_type": "stream",
     "text": [
      "[Stage 0:>                                                          (0 + 1) / 1]"
     ]
    },
    {
     "name": "stdout",
     "output_type": "stream",
     "text": [
      "+-----+-----------------------------------------------------+\n",
      "|id_ag|agency_info                                          |\n",
      "+-----+-----------------------------------------------------+\n",
      "|1    |{'agency_name': 'NYC Rentals', 'city': 'New York'}   |\n",
      "|2    |{'agency_name': 'LA Car Rental', 'city': 'Londres'}  |\n",
      "|3    |{'agency_name': 'Zapopan Auto', 'city': 'Zapopan'}   |\n",
      "|4    |{'agency_name': 'SF Cars', 'city': 'San Francisco'}  |\n",
      "|5    |{'agency_name': 'Mexico Cars', 'city': 'Mexico City'}|\n",
      "+-----+-----------------------------------------------------+\n",
      "\n"
     ]
    },
    {
     "name": "stderr",
     "output_type": "stream",
     "text": [
      "                                                                                "
     ]
    }
   ],
   "source": [
    "from FrankModule.spark_utils import SparkUtils\n",
    "schema_ag = SparkUtils.generate_schema([(\"id_ag\", \"int\"), (\"agency_info\", \"string\")])\n",
    "df_agency = spark.read.schema(schema_ag).option(\"header\", True).csv(\"/opt/spark/work-dir/data/car_service/agencies\")\n",
    "df_agency.show(truncate=False)\n"
   ]
  },
  {
   "cell_type": "code",
   "execution_count": 5,
   "id": "460666b1-5f19-48e6-9441-988f6fc31dbb",
   "metadata": {},
   "outputs": [
    {
     "name": "stdout",
     "output_type": "stream",
     "text": [
      "+---------+--------------------------------------------------+\n",
      "|rental_id|rental_info                                       |\n",
      "+---------+--------------------------------------------------+\n",
      "|11891    |{'car_id': 21, 'customer_id': 71, 'agency_id': 1} |\n",
      "|11892    |{'car_id': 11, 'customer_id': 52, 'agency_id': 2} |\n",
      "|11893    |{'car_id': 22, 'customer_id': 116, 'agency_id': 4}|\n",
      "|11894    |{'car_id': 5, 'customer_id': 107, 'agency_id': 1} |\n",
      "|11895    |{'car_id': 4, 'customer_id': 53, 'agency_id': 4}  |\n",
      "|11896    |{'car_id': 8, 'customer_id': 131, 'agency_id': 2} |\n",
      "|11897    |{'car_id': 23, 'customer_id': 66, 'agency_id': 3} |\n",
      "|11898    |{'car_id': 24, 'customer_id': 60, 'agency_id': 4} |\n",
      "|11899    |{'car_id': 27, 'customer_id': 92, 'agency_id': 2} |\n",
      "|11900    |{'car_id': 3, 'customer_id': 40, 'agency_id': 4}  |\n",
      "|11901    |{'car_id': 3, 'customer_id': 35, 'agency_id': 1}  |\n",
      "|11902    |{'car_id': 3, 'customer_id': 72, 'agency_id': 1}  |\n",
      "|11903    |{'car_id': 29, 'customer_id': 58, 'agency_id': 3} |\n",
      "|11904    |{'car_id': 3, 'customer_id': 131, 'agency_id': 4} |\n",
      "|11905    |{'car_id': 27, 'customer_id': 10, 'agency_id': 2} |\n",
      "|11906    |{'car_id': 12, 'customer_id': 40, 'agency_id': 1} |\n",
      "|11907    |{'car_id': 25, 'customer_id': 53, 'agency_id': 3} |\n",
      "|11908    |{'car_id': 14, 'customer_id': 153, 'agency_id': 4}|\n",
      "|11909    |{'car_id': 24, 'customer_id': 96, 'agency_id': 4} |\n",
      "|11910    |{'car_id': 24, 'customer_id': 151, 'agency_id': 4}|\n",
      "+---------+--------------------------------------------------+\n",
      "only showing top 20 rows\n"
     ]
    }
   ],
   "source": [
    "schema_ag = SparkUtils.generate_schema([(\"rental_id\", \"int\"), (\"rental_info\", \"string\")])\n",
    "df_rental = spark.read.schema(schema_ag).option(\"header\", True).csv(\"/opt/spark/work-dir/data/car_service/rentals\")\n",
    "df_rental.show(truncate=False)"
   ]
  },
  {
   "cell_type": "code",
   "execution_count": 6,
   "id": "41a5c826-6418-4f83-aa42-9b00bc1de14e",
   "metadata": {},
   "outputs": [
    {
     "name": "stdout",
     "output_type": "stream",
     "text": [
      "+-----------+-------------------------------------------------------------------------+\n",
      "|custumer_id|custumer_info                                                            |\n",
      "+-----------+-------------------------------------------------------------------------+\n",
      "|1          |{'customer_name': 'Tiffany Riley', 'city': 'Monterrey', 'age': 32}       |\n",
      "|2          |{'customer_name': 'Matthew Davies', 'city': 'Monterrey', 'age': 36}      |\n",
      "|3          |{'customer_name': 'Rebecca Miller', 'city': 'Mexico City', 'age': 30}    |\n",
      "|4          |{'customer_name': 'Katelyn Mccoy', 'city': 'New York', 'age': 34}        |\n",
      "|5          |{'customer_name': 'Dana Dennis', 'city': 'Zapopan', 'age': 26}           |\n",
      "|6          |{'customer_name': 'Daniel Norton', 'city': 'Mexico City', 'age': 34}     |\n",
      "|7          |{'customer_name': 'Robert Garcia', 'city': 'Zapopan', 'age': 47}         |\n",
      "|8          |{'customer_name': 'Michael Williams', 'city': 'Monterrey', 'age': 33}    |\n",
      "|9          |{'customer_name': 'Susan Ferguson', 'city': 'San Francisco', 'age': 41}  |\n",
      "|10         |{'customer_name': 'Alyssa Reid', 'city': 'Mexico City', 'age': 40}       |\n",
      "|11         |{'customer_name': 'Laura Myers', 'city': 'Zapopan', 'age': 50}           |\n",
      "|12         |{'customer_name': 'William Johnson', 'city': 'Monterrey', 'age': 25}     |\n",
      "|13         |{'customer_name': 'Tyler Lopez', 'city': 'Mexico City', 'age': 21}       |\n",
      "|14         |{'customer_name': 'Daniel Owen', 'city': 'Mexico City', 'age': 47}       |\n",
      "|15         |{'customer_name': 'Allison Coleman', 'city': 'Zapopan', 'age': 33}       |\n",
      "|16         |{'customer_name': 'David Walker', 'city': 'Londres', 'age': 33}          |\n",
      "|17         |{'customer_name': 'Hayley White', 'city': 'Monterrey', 'age': 29}        |\n",
      "|18         |{'customer_name': 'Amanda Garcia', 'city': 'Zapopan', 'age': 20}         |\n",
      "|19         |{'customer_name': 'Christina Howard PhD', 'city': 'Monterrey', 'age': 22}|\n",
      "|20         |{'customer_name': 'Tamara Jackson', 'city': 'San Francisco', 'age': 29}  |\n",
      "+-----------+-------------------------------------------------------------------------+\n",
      "only showing top 20 rows\n"
     ]
    }
   ],
   "source": [
    "schema_ag = SparkUtils.generate_schema([(\"custumer_id\", \"int\"), (\"custumer_info\", \"string\")])\n",
    "df_customer = spark.read.schema(schema_ag).option(\"header\", True).csv(\"/opt/spark/work-dir/data/car_service/customers\")\n",
    "df_customer.show(truncate=False)"
   ]
  },
  {
   "cell_type": "code",
   "execution_count": 7,
   "id": "8f066181-2fff-4e9b-9d4d-3c954c26503f",
   "metadata": {},
   "outputs": [
    {
     "name": "stdout",
     "output_type": "stream",
     "text": [
      "+------+----------------------------------------------------------------------------------------+\n",
      "|car_id|car_info                                                                                |\n",
      "+------+----------------------------------------------------------------------------------------+\n",
      "|1     |{'car_name': 'Chang-Fisher Model 7', 'brand_id': 5, 'price_per_day': 139}               |\n",
      "|2     |{'car_name': 'Sheppard-Tucker Model 4', 'brand_id': 6, 'price_per_day': 70}             |\n",
      "|3     |{'car_name': 'Faulkner-Howard Model 5', 'brand_id': 3, 'price_per_day': 53}             |\n",
      "|4     |{'car_name': 'Wagner LLC Model 1', 'brand_id': 5, 'price_per_day': 89}                  |\n",
      "|5     |{'car_name': 'Campos PLC Model 4', 'brand_id': 4, 'price_per_day': 112}                 |\n",
      "|6     |{'car_name': 'Archer-Patel Model 2', 'brand_id': 3, 'price_per_day': 55}                |\n",
      "|7     |{'car_name': 'Patrick, Barrera and Collins Model 6', 'brand_id': 6, 'price_per_day': 66}|\n",
      "|8     |{'car_name': 'Jones, Jefferson and Rivera Model 7', 'brand_id': 2, 'price_per_day': 115}|\n",
      "|9     |{'car_name': 'Garcia, Hamilton and Carr Model 5', 'brand_id': 6, 'price_per_day': 137}  |\n",
      "|10    |{'car_name': 'Levy Group Model 9', 'brand_id': 3, 'price_per_day': 93}                  |\n",
      "|11    |{'car_name': 'Grimes-Green Model 8', 'brand_id': 3, 'price_per_day': 150}               |\n",
      "|12    |{'car_name': 'Moon, Davis and Larsen Model 1', 'brand_id': 6, 'price_per_day': 100}     |\n",
      "|13    |{'car_name': 'Summers, Barnett and Smith Model 6', 'brand_id': 4, 'price_per_day': 139} |\n",
      "|14    |{'car_name': 'Clayton-Cook Model 10', 'brand_id': 6, 'price_per_day': 116}              |\n",
      "|15    |{'car_name': 'Nguyen, Harrell and Lee Model 6', 'brand_id': 2, 'price_per_day': 94}     |\n",
      "|16    |{'car_name': 'Walker, Pratt and Thomas Model 9', 'brand_id': 6, 'price_per_day': 192}   |\n",
      "|17    |{'car_name': 'West, Miller and Flores Model 5', 'brand_id': 1, 'price_per_day': 63}     |\n",
      "|18    |{'car_name': 'Bolton, Burns and Turner Model 10', 'brand_id': 6, 'price_per_day': 110}  |\n",
      "|19    |{'car_name': 'Mann-Kelley Model 3', 'brand_id': 2, 'price_per_day': 146}                |\n",
      "|20    |{'car_name': 'Harris, Lloyd and Payne Model 4', 'brand_id': 6, 'price_per_day': 96}     |\n",
      "+------+----------------------------------------------------------------------------------------+\n",
      "only showing top 20 rows\n"
     ]
    }
   ],
   "source": [
    "schema_ag = SparkUtils.generate_schema([(\"car_id\", \"int\"), (\"car_info\", \"string\")])\n",
    "df_car = spark.read.schema(schema_ag).option(\"header\", True).csv(\"/opt/spark/work-dir/data/car_service/cars\")\n",
    "df_car.show(truncate=False)"
   ]
  },
  {
   "cell_type": "code",
   "execution_count": 14,
   "id": "f00e3397-dd79-4ae3-8f29-589fea72267a",
   "metadata": {},
   "outputs": [
    {
     "name": "stdout",
     "output_type": "stream",
     "text": [
      "+-----+--------------------+-------------+\n",
      "|id_ag|         agency_info|  agency_name|\n",
      "+-----+--------------------+-------------+\n",
      "|    1|{'agency_name': '...|  NYC Rentals|\n",
      "|    2|{'agency_name': '...|LA Car Rental|\n",
      "|    3|{'agency_name': '...| Zapopan Auto|\n",
      "|    4|{'agency_name': '...|      SF Cars|\n",
      "|    5|{'agency_name': '...|  Mexico Cars|\n",
      "+-----+--------------------+-------------+\n",
      "\n",
      "+------+--------------------+--------------------+\n",
      "|car_id|            car_info|            car_name|\n",
      "+------+--------------------+--------------------+\n",
      "|     1|{'car_name': 'Cha...|Chang-Fisher Model 7|\n",
      "|     2|{'car_name': 'She...|Sheppard-Tucker M...|\n",
      "|     3|{'car_name': 'Fau...|Faulkner-Howard M...|\n",
      "|     4|{'car_name': 'Wag...|  Wagner LLC Model 1|\n",
      "|     5|{'car_name': 'Cam...|  Campos PLC Model 4|\n",
      "|     6|{'car_name': 'Arc...|Archer-Patel Model 2|\n",
      "|     7|{'car_name': 'Pat...|Patrick, Barrera ...|\n",
      "|     8|{'car_name': 'Jon...|Jones, Jefferson ...|\n",
      "|     9|{'car_name': 'Gar...|Garcia, Hamilton ...|\n",
      "|    10|{'car_name': 'Lev...|  Levy Group Model 9|\n",
      "|    11|{'car_name': 'Gri...|Grimes-Green Model 8|\n",
      "|    12|{'car_name': 'Moo...|Moon, Davis and L...|\n",
      "|    13|{'car_name': 'Sum...|Summers, Barnett ...|\n",
      "|    14|{'car_name': 'Cla...|Clayton-Cook Mode...|\n",
      "|    15|{'car_name': 'Ngu...|Nguyen, Harrell a...|\n",
      "|    16|{'car_name': 'Wal...|Walker, Pratt and...|\n",
      "|    17|{'car_name': 'Wes...|West, Miller and ...|\n",
      "|    18|{'car_name': 'Bol...|Bolton, Burns and...|\n",
      "|    19|{'car_name': 'Man...| Mann-Kelley Model 3|\n",
      "|    20|{'car_name': 'Har...|Harris, Lloyd and...|\n",
      "+------+--------------------+--------------------+\n",
      "only showing top 20 rows\n",
      "+-----------+--------------------+--------------------+\n",
      "|custumer_id|       custumer_info|       customer_name|\n",
      "+-----------+--------------------+--------------------+\n",
      "|          1|{'customer_name':...|       Tiffany Riley|\n",
      "|          2|{'customer_name':...|      Matthew Davies|\n",
      "|          3|{'customer_name':...|      Rebecca Miller|\n",
      "|          4|{'customer_name':...|       Katelyn Mccoy|\n",
      "|          5|{'customer_name':...|         Dana Dennis|\n",
      "|          6|{'customer_name':...|       Daniel Norton|\n",
      "|          7|{'customer_name':...|       Robert Garcia|\n",
      "|          8|{'customer_name':...|    Michael Williams|\n",
      "|          9|{'customer_name':...|      Susan Ferguson|\n",
      "|         10|{'customer_name':...|         Alyssa Reid|\n",
      "|         11|{'customer_name':...|         Laura Myers|\n",
      "|         12|{'customer_name':...|     William Johnson|\n",
      "|         13|{'customer_name':...|         Tyler Lopez|\n",
      "|         14|{'customer_name':...|         Daniel Owen|\n",
      "|         15|{'customer_name':...|     Allison Coleman|\n",
      "|         16|{'customer_name':...|        David Walker|\n",
      "|         17|{'customer_name':...|        Hayley White|\n",
      "|         18|{'customer_name':...|       Amanda Garcia|\n",
      "|         19|{'customer_name':...|Christina Howard PhD|\n",
      "|         20|{'customer_name':...|      Tamara Jackson|\n",
      "+-----------+--------------------+--------------------+\n",
      "only showing top 20 rows\n",
      "+---------+--------------------+---------+--------------+------------+\n",
      "|rental_id|         rental_info|car_id_fk|customer_id_fk|agency_id_fk|\n",
      "+---------+--------------------+---------+--------------+------------+\n",
      "|    11891|{'car_id': 21, 'c...|       21|            71|           1|\n",
      "|    11892|{'car_id': 11, 'c...|       11|            52|           2|\n",
      "|    11893|{'car_id': 22, 'c...|       22|           116|           4|\n",
      "|    11894|{'car_id': 5, 'cu...|        5|           107|           1|\n",
      "|    11895|{'car_id': 4, 'cu...|        4|            53|           4|\n",
      "|    11896|{'car_id': 8, 'cu...|        8|           131|           2|\n",
      "|    11897|{'car_id': 23, 'c...|       23|            66|           3|\n",
      "|    11898|{'car_id': 24, 'c...|       24|            60|           4|\n",
      "|    11899|{'car_id': 27, 'c...|       27|            92|           2|\n",
      "|    11900|{'car_id': 3, 'cu...|        3|            40|           4|\n",
      "|    11901|{'car_id': 3, 'cu...|        3|            35|           1|\n",
      "|    11902|{'car_id': 3, 'cu...|        3|            72|           1|\n",
      "|    11903|{'car_id': 29, 'c...|       29|            58|           3|\n",
      "|    11904|{'car_id': 3, 'cu...|        3|           131|           4|\n",
      "|    11905|{'car_id': 27, 'c...|       27|            10|           2|\n",
      "|    11906|{'car_id': 12, 'c...|       12|            40|           1|\n",
      "|    11907|{'car_id': 25, 'c...|       25|            53|           3|\n",
      "|    11908|{'car_id': 14, 'c...|       14|           153|           4|\n",
      "|    11909|{'car_id': 24, 'c...|       24|            96|           4|\n",
      "|    11910|{'car_id': 24, 'c...|       24|           151|           4|\n",
      "+---------+--------------------+---------+--------------+------------+\n",
      "only showing top 20 rows\n"
     ]
    }
   ],
   "source": [
    "from pyspark.sql.functions import get_json_object, col\n",
    "\n",
    "# Agencies\n",
    "df_agencies = df_agency \\\n",
    "    .withColumn(\"agency_name\", get_json_object(col(\"agency_info\"), \"$.agency_name\"))\n",
    "\n",
    "# Cars\n",
    "df_cars = df_car \\\n",
    "    .withColumn(\"car_name\", get_json_object(col(\"car_info\"), \"$.car_name\"))\n",
    "\n",
    "# Customers\n",
    "df_customers = df_customer \\\n",
    "    .withColumn(\"customer_name\", get_json_object(col(\"custumer_info\"), \"$.customer_name\"))\n",
    "\n",
    "# Rentals\n",
    "df_rentals = df_rental \\\n",
    "    .withColumn(\"car_id\", get_json_object(col(\"rental_info\"), \"$.car_id\")) \\\n",
    "    .withColumn(\"customer_id\", get_json_object(col(\"rental_info\"), \"$.customer_id\")) \\\n",
    "    .withColumn(\"agency_id\", get_json_object(col(\"rental_info\"), \"$.agency_id\"))\n",
    "\n",
    "df_agencies.show()\n",
    "df_cars.show()\n",
    "df_customers.show()\n",
    "df_rentals.show()"
   ]
  },
  {
   "cell_type": "code",
   "execution_count": 20,
   "id": "2f5b7d0d-4693-4610-9852-2a049c50fc23",
   "metadata": {},
   "outputs": [
    {
     "ename": "AnalysisException",
     "evalue": "[UNRESOLVED_USING_COLUMN_FOR_JOIN] USING column `car_id` cannot be resolved on the left side of the join. The left-side columns: [`agency_id_fk`, `car_id_fk`, `customer_id_fk`, `rental_id`, `rental_info`]. SQLSTATE: 42703",
     "output_type": "error",
     "traceback": [
      "\u001b[0;31m---------------------------------------------------------------------------\u001b[0m",
      "\u001b[0;31mAnalysisException\u001b[0m                         Traceback (most recent call last)",
      "Cell \u001b[0;32mIn[20], line 4\u001b[0m\n\u001b[1;32m      1\u001b[0m \u001b[38;5;28;01mfrom\u001b[39;00m\u001b[38;5;250m \u001b[39m\u001b[38;5;21;01mpyspark\u001b[39;00m\u001b[38;5;21;01m.\u001b[39;00m\u001b[38;5;21;01msql\u001b[39;00m\u001b[38;5;21;01m.\u001b[39;00m\u001b[38;5;21;01mfunctions\u001b[39;00m\u001b[38;5;250m \u001b[39m\u001b[38;5;28;01mimport\u001b[39;00m col\n\u001b[1;32m      3\u001b[0m \u001b[38;5;66;03m# Join Rentals con Cars\u001b[39;00m\n\u001b[0;32m----> 4\u001b[0m df_rentals \u001b[38;5;241m=\u001b[39m \u001b[43mdf_rentals\u001b[49m\u001b[38;5;241;43m.\u001b[39;49m\u001b[43mjoin\u001b[49m\u001b[43m(\u001b[49m\u001b[43mdf_cars\u001b[49m\u001b[43m,\u001b[49m\u001b[43m \u001b[49m\u001b[43mon\u001b[49m\u001b[38;5;241;43m=\u001b[39;49m\u001b[38;5;124;43m\"\u001b[39;49m\u001b[38;5;124;43mcar_id\u001b[39;49m\u001b[38;5;124;43m\"\u001b[39;49m\u001b[43m,\u001b[49m\u001b[43m \u001b[49m\u001b[43mhow\u001b[49m\u001b[38;5;241;43m=\u001b[39;49m\u001b[38;5;124;43m\"\u001b[39;49m\u001b[38;5;124;43mleft\u001b[39;49m\u001b[38;5;124;43m\"\u001b[39;49m\u001b[43m)\u001b[49m\n\u001b[1;32m      6\u001b[0m \u001b[38;5;66;03m# Join con Agencies \u001b[39;00m\n\u001b[1;32m      7\u001b[0m df_rentals \u001b[38;5;241m=\u001b[39m df_rentals\u001b[38;5;241m.\u001b[39mjoin(df_agencies,on\u001b[38;5;241m=\u001b[39m\u001b[38;5;124m\"\u001b[39m\u001b[38;5;124mid_ag\u001b[39m\u001b[38;5;124m\"\u001b[39m, how\u001b[38;5;241m=\u001b[39m\u001b[38;5;124m\"\u001b[39m\u001b[38;5;124mleft\u001b[39m\u001b[38;5;124m\"\u001b[39m)\n",
      "File \u001b[0;32m/opt/spark/python/pyspark/sql/classic/dataframe.py:710\u001b[0m, in \u001b[0;36mDataFrame.join\u001b[0;34m(self, other, on, how)\u001b[0m\n\u001b[1;32m    708\u001b[0m         on \u001b[38;5;241m=\u001b[39m \u001b[38;5;28mself\u001b[39m\u001b[38;5;241m.\u001b[39m_jseq([])\n\u001b[1;32m    709\u001b[0m     \u001b[38;5;28;01massert\u001b[39;00m \u001b[38;5;28misinstance\u001b[39m(how, \u001b[38;5;28mstr\u001b[39m), \u001b[38;5;124m\"\u001b[39m\u001b[38;5;124mhow should be a string\u001b[39m\u001b[38;5;124m\"\u001b[39m\n\u001b[0;32m--> 710\u001b[0m     jdf \u001b[38;5;241m=\u001b[39m \u001b[38;5;28;43mself\u001b[39;49m\u001b[38;5;241;43m.\u001b[39;49m\u001b[43m_jdf\u001b[49m\u001b[38;5;241;43m.\u001b[39;49m\u001b[43mjoin\u001b[49m\u001b[43m(\u001b[49m\u001b[43mother\u001b[49m\u001b[38;5;241;43m.\u001b[39;49m\u001b[43m_jdf\u001b[49m\u001b[43m,\u001b[49m\u001b[43m \u001b[49m\u001b[43mon\u001b[49m\u001b[43m,\u001b[49m\u001b[43m \u001b[49m\u001b[43mhow\u001b[49m\u001b[43m)\u001b[49m\n\u001b[1;32m    711\u001b[0m \u001b[38;5;28;01mreturn\u001b[39;00m DataFrame(jdf, \u001b[38;5;28mself\u001b[39m\u001b[38;5;241m.\u001b[39msparkSession)\n",
      "File \u001b[0;32m/opt/spark/python/lib/py4j-0.10.9.9-src.zip/py4j/java_gateway.py:1362\u001b[0m, in \u001b[0;36mJavaMember.__call__\u001b[0;34m(self, *args)\u001b[0m\n\u001b[1;32m   1356\u001b[0m command \u001b[38;5;241m=\u001b[39m proto\u001b[38;5;241m.\u001b[39mCALL_COMMAND_NAME \u001b[38;5;241m+\u001b[39m\\\n\u001b[1;32m   1357\u001b[0m     \u001b[38;5;28mself\u001b[39m\u001b[38;5;241m.\u001b[39mcommand_header \u001b[38;5;241m+\u001b[39m\\\n\u001b[1;32m   1358\u001b[0m     args_command \u001b[38;5;241m+\u001b[39m\\\n\u001b[1;32m   1359\u001b[0m     proto\u001b[38;5;241m.\u001b[39mEND_COMMAND_PART\n\u001b[1;32m   1361\u001b[0m answer \u001b[38;5;241m=\u001b[39m \u001b[38;5;28mself\u001b[39m\u001b[38;5;241m.\u001b[39mgateway_client\u001b[38;5;241m.\u001b[39msend_command(command)\n\u001b[0;32m-> 1362\u001b[0m return_value \u001b[38;5;241m=\u001b[39m \u001b[43mget_return_value\u001b[49m\u001b[43m(\u001b[49m\n\u001b[1;32m   1363\u001b[0m \u001b[43m    \u001b[49m\u001b[43manswer\u001b[49m\u001b[43m,\u001b[49m\u001b[43m \u001b[49m\u001b[38;5;28;43mself\u001b[39;49m\u001b[38;5;241;43m.\u001b[39;49m\u001b[43mgateway_client\u001b[49m\u001b[43m,\u001b[49m\u001b[43m \u001b[49m\u001b[38;5;28;43mself\u001b[39;49m\u001b[38;5;241;43m.\u001b[39;49m\u001b[43mtarget_id\u001b[49m\u001b[43m,\u001b[49m\u001b[43m \u001b[49m\u001b[38;5;28;43mself\u001b[39;49m\u001b[38;5;241;43m.\u001b[39;49m\u001b[43mname\u001b[49m\u001b[43m)\u001b[49m\n\u001b[1;32m   1365\u001b[0m \u001b[38;5;28;01mfor\u001b[39;00m temp_arg \u001b[38;5;129;01min\u001b[39;00m temp_args:\n\u001b[1;32m   1366\u001b[0m     \u001b[38;5;28;01mif\u001b[39;00m \u001b[38;5;28mhasattr\u001b[39m(temp_arg, \u001b[38;5;124m\"\u001b[39m\u001b[38;5;124m_detach\u001b[39m\u001b[38;5;124m\"\u001b[39m):\n",
      "File \u001b[0;32m/opt/spark/python/pyspark/errors/exceptions/captured.py:288\u001b[0m, in \u001b[0;36mcapture_sql_exception.<locals>.deco\u001b[0;34m(*a, **kw)\u001b[0m\n\u001b[1;32m    284\u001b[0m converted \u001b[38;5;241m=\u001b[39m convert_exception(e\u001b[38;5;241m.\u001b[39mjava_exception)\n\u001b[1;32m    285\u001b[0m \u001b[38;5;28;01mif\u001b[39;00m \u001b[38;5;129;01mnot\u001b[39;00m \u001b[38;5;28misinstance\u001b[39m(converted, UnknownException):\n\u001b[1;32m    286\u001b[0m     \u001b[38;5;66;03m# Hide where the exception came from that shows a non-Pythonic\u001b[39;00m\n\u001b[1;32m    287\u001b[0m     \u001b[38;5;66;03m# JVM exception message.\u001b[39;00m\n\u001b[0;32m--> 288\u001b[0m     \u001b[38;5;28;01mraise\u001b[39;00m converted \u001b[38;5;28;01mfrom\u001b[39;00m\u001b[38;5;250m \u001b[39m\u001b[38;5;28;01mNone\u001b[39;00m\n\u001b[1;32m    289\u001b[0m \u001b[38;5;28;01melse\u001b[39;00m:\n\u001b[1;32m    290\u001b[0m     \u001b[38;5;28;01mraise\u001b[39;00m\n",
      "\u001b[0;31mAnalysisException\u001b[0m: [UNRESOLVED_USING_COLUMN_FOR_JOIN] USING column `car_id` cannot be resolved on the left side of the join. The left-side columns: [`agency_id_fk`, `car_id_fk`, `customer_id_fk`, `rental_id`, `rental_info`]. SQLSTATE: 42703"
     ]
    }
   ],
   "source": [
    "from pyspark.sql.functions import col\n",
    "\n",
    "# Join Rentals con Cars\n",
    "df_rentals = df_rentals.join(df_cars, on=\"car_id\", how=\"left\")\n",
    "\n",
    "# Join con Agencies \n",
    "df_rentals = df_rentals.join(df_agencies,on=\"id_ag\", how=\"left\")\n",
    "\n",
    "# Join con Customers\n",
    "df_rentals = df_rentals.join(df_customers,on=\"customers_id\", how=\"left\")\n",
    "\n",
    "df_rentals.show()\n"
   ]
  },
  {
   "cell_type": "code",
   "execution_count": 21,
   "id": "c068f720-a440-47c6-8c67-376f62ffc5fd",
   "metadata": {},
   "outputs": [
    {
     "ename": "NameError",
     "evalue": "name 'df_join' is not defined",
     "output_type": "error",
     "traceback": [
      "\u001b[0;31m---------------------------------------------------------------------------\u001b[0m",
      "\u001b[0;31mNameError\u001b[0m                                 Traceback (most recent call last)",
      "Cell \u001b[0;32mIn[21], line 1\u001b[0m\n\u001b[0;32m----> 1\u001b[0m final_df \u001b[38;5;241m=\u001b[39m \u001b[43mdf_join\u001b[49m\u001b[38;5;241m.\u001b[39mselect(\n\u001b[1;32m      2\u001b[0m     col(\u001b[38;5;124m\"\u001b[39m\u001b[38;5;124mrental_id\u001b[39m\u001b[38;5;124m\"\u001b[39m),\n\u001b[1;32m      3\u001b[0m     col(\u001b[38;5;124m\"\u001b[39m\u001b[38;5;124mcar_name\u001b[39m\u001b[38;5;124m\"\u001b[39m),\n\u001b[1;32m      4\u001b[0m     col(\u001b[38;5;124m\"\u001b[39m\u001b[38;5;124magency_name\u001b[39m\u001b[38;5;124m\"\u001b[39m),\n\u001b[1;32m      5\u001b[0m     col(\u001b[38;5;124m\"\u001b[39m\u001b[38;5;124mcustomer_name\u001b[39m\u001b[38;5;124m\"\u001b[39m)\n\u001b[1;32m      6\u001b[0m )\n",
      "\u001b[0;31mNameError\u001b[0m: name 'df_join' is not defined"
     ]
    }
   ],
   "source": [
    "final_df = df_join.select(\n",
    "    col(\"rental_id\"),\n",
    "    col(\"car_name\"),\n",
    "    col(\"agency_name\"),\n",
    "    col(\"customer_name\")\n",
    ")"
   ]
  },
  {
   "cell_type": "code",
   "execution_count": 22,
   "id": "9078a7dd",
   "metadata": {},
   "outputs": [],
   "source": [
    "sc.stop()"
   ]
  }
 ],
 "metadata": {
  "kernelspec": {
   "display_name": "Python 3 (ipykernel)",
   "language": "python",
   "name": "python3"
  },
  "language_info": {
   "codemirror_mode": {
    "name": "ipython",
    "version": 3
   },
   "file_extension": ".py",
   "mimetype": "text/x-python",
   "name": "python",
   "nbconvert_exporter": "python",
   "pygments_lexer": "ipython3",
   "version": "3.10.12"
  }
 },
 "nbformat": 4,
 "nbformat_minor": 5
}
