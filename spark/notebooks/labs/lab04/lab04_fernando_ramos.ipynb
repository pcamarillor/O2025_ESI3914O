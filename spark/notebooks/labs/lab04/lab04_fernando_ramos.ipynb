{
 "cells": [
  {
   "cell_type": "markdown",
   "id": "b92d9622",
   "metadata": {},
   "source": [
    "# <center> <img src=\"../../img/ITESOLogo.png\" alt=\"ITESO\" width=\"480\" height=\"130\"> </center>\n",
    "# <center> **Departamento de Electrónica, Sistemas e Informática** </center>\n",
    "---\n",
    "## <center> Computer Systems Engineering  </center>\n",
    "---\n",
    "### <center> Big Data Processing </center>\n",
    "---\n",
    "#### <center> **Autumn 2025** </center>\n",
    "---\n",
    "\n",
    "**Lab 04**: Data Unions & Joins Pipeline\n",
    "\n",
    "**Date**: September 23rd 2025\n",
    "\n",
    "**Student Name**:Fernando Ramos\n",
    "\n",
    "**Professor**: Pablo Camarillo Ramirez"
   ]
  },
  {
   "cell_type": "code",
   "execution_count": 22,
   "id": "8a157e83-d2e9-481d-9829-798859336fef",
   "metadata": {},
   "outputs": [],
   "source": [
    "import findspark\n",
    "findspark.init()"
   ]
  },
  {
   "cell_type": "code",
   "execution_count": 23,
   "id": "ed17a0b0",
   "metadata": {},
   "outputs": [],
   "source": [
    "from pyspark.sql import SparkSession\n",
    "from pyspark.sql.functions import avg, trim, col, count, isnull, when, \\\n",
    "    lit, concat, round, asc, desc, get_json_object\n",
    "from datetime import datetime\n",
    "from fernandoramos.spark_utils import SparkUtils\n",
    "\n",
    "spark = SparkSession.builder \\\n",
    "    .appName(\"Examples on SparkSQL\") \\\n",
    "    .master(\"spark://d3eb0343c341:7077\") \\\n",
    "    .config(\"spark.ui.port\", \"4040\") \\\n",
    "    .getOrCreate()\n",
    "\n",
    "sc = spark.sparkContext\n",
    "sc.setLogLevel(\"ERROR\")"
   ]
  },
  {
   "cell_type": "code",
   "execution_count": 24,
   "id": "a93cd621",
   "metadata": {},
   "outputs": [],
   "source": [
    "schema_agencies = SparkUtils.generate_schema([(\"agency_id\", \"int\"), (\"agency_info\", \"string\")])\n",
    "\n",
    "df_agencies = spark.read.schema(schema_agencies).option(\"header\", True).csv(\"/opt/spark/work-dir/data/car_service/agencies\")"
   ]
  },
  {
   "cell_type": "code",
   "execution_count": 25,
   "id": "5eb7b115-cf63-441c-bc46-a4277f4ff752",
   "metadata": {},
   "outputs": [],
   "source": [
    "df_agencies = df_agencies.withColumn(\"agency_name\", get_json_object(df_agencies.agency_info, \"$.agency_name\"))"
   ]
  },
  {
   "cell_type": "code",
   "execution_count": 26,
   "id": "9ea086eb-d05e-4ee7-9476-256f1ffdbe42",
   "metadata": {},
   "outputs": [],
   "source": [
    "schema_agencies = SparkUtils.generate_schema([(\"rental_id\", \"int\"), (\"rental_info\", \"string\")])\n",
    "\n",
    "df_rental = spark.read.schema(schema_agencies).option(\"header\", True).csv(\"/opt/spark/work-dir/data/car_service/rentals\")"
   ]
  },
  {
   "cell_type": "code",
   "execution_count": 27,
   "id": "edfbc183-86d9-43fc-a6b7-0ad253bd6014",
   "metadata": {},
   "outputs": [],
   "source": [
    "##Extract agency_id\n",
    "df_rental = df_rental.withColumn(\"agency_id\", get_json_object(df_rental.rental_info, \"$.agency_id\")) \\\n",
    "                     .withColumn(\"car_id\", get_json_object(df_rental.rental_info, \"$.car_id\")) \\\n",
    "                     .withColumn(\"customer_id\", get_json_object(df_rental.rental_info, \"$.customer_id\"))"
   ]
  },
  {
   "cell_type": "code",
   "execution_count": 34,
   "id": "f9ef602c-7722-4c30-8de3-8aded5eb8322",
   "metadata": {},
   "outputs": [],
   "source": [
    "schema_agencies = SparkUtils.generate_schema([(\"car_id\", \"int\"), (\"car_info\", \"string\")])\n",
    "\n",
    "df_vehicle = spark.read.schema(schema_agencies).option(\"header\", True).csv(\"/opt/spark/work-dir/data/car_service/cars\")"
   ]
  },
  {
   "cell_type": "code",
   "execution_count": 36,
   "id": "d7fe4e70-2010-49fc-ad5d-c3a6ffb4275a",
   "metadata": {},
   "outputs": [],
   "source": [
    "df_vehicle = df_vehicle.withColumn(\"car_name\", get_json_object(df_vehicle.car_info, \"$.car_name\"))"
   ]
  },
  {
   "cell_type": "code",
   "execution_count": 37,
   "id": "cbf5ac80-5292-4c87-be0b-584de71d0d67",
   "metadata": {},
   "outputs": [],
   "source": [
    "schema_agencies = SparkUtils.generate_schema([(\"customer_id\", \"int\"), (\"customer_info\", \"string\")])\n",
    "\n",
    "df_customer = spark.read.schema(schema_agencies).option(\"header\", True).csv(\"/opt/spark/work-dir/data/car_service/customers\")\n",
    "df_customer = df_customer.withColumn(\"customer_name\", get_json_object(df_customer.customer_info, \"$.customer_name\"))"
   ]
  },
  {
   "cell_type": "code",
   "execution_count": 38,
   "id": "b830dba0-1946-4428-9796-c8ce541723ae",
   "metadata": {},
   "outputs": [],
   "source": [
    "customer_to_join = df_customer.select(\"customer_id\", \"customer_name\")\n",
    "df_final = df_rental.join(customer_to_join, on=\"customer_id\")\n",
    "\n",
    "car_to_join = df_car.select(\"car_id\", \"car_name\")\n",
    "df_final = df_final.join(car_to_join, on=\"car_id\")\n",
    "\n",
    "agency_to_join = df_agencies.select(\"agency_id\", \"agency_name\")\n",
    "df_final = df_final.join(agency_to_join, on=\"agency_id\")"
   ]
  },
  {
   "cell_type": "code",
   "execution_count": 39,
   "id": "94fe888d-c536-4643-a664-1179e5dea8e8",
   "metadata": {},
   "outputs": [],
   "source": [
    "df_show = df_final.select(\"rental_id\", \"customer_name\", \"car_name\", \"agency_name\")"
   ]
  },
  {
   "cell_type": "code",
   "execution_count": 46,
   "id": "9fe36cab-192b-43c5-9768-d6aadd428d2d",
   "metadata": {},
   "outputs": [
    {
     "name": "stdout",
     "output_type": "stream",
     "text": [
      "+---------+---------------+-----------------------------------+-------------+\n",
      "|rental_id|customer_name  |car_name                           |agency_name  |\n",
      "+---------+---------------+-----------------------------------+-------------+\n",
      "|11891    |Margaret Jones |Wallace-Carlson Model 9            |NYC Rentals  |\n",
      "|11892    |Albert Williams|Grimes-Green Model 8               |LA Car Rental|\n",
      "|11893    |Caleb Fleming  |Stewart-Allen Model 5              |SF Cars      |\n",
      "|11894    |Andrew Butler  |Campos PLC Model 4                 |NYC Rentals  |\n",
      "|11895    |Kristin Potts  |Wagner LLC Model 1                 |SF Cars      |\n",
      "|11896    |Jeremy Parks   |Jones, Jefferson and Rivera Model 7|LA Car Rental|\n",
      "|11897    |Terry Wells    |Lopez and Sons Model 9             |Zapopan Auto |\n",
      "|11898    |Marc Williams  |Salazar Ltd Model 8                |SF Cars      |\n",
      "|11899    |Danny Williams |Villanueva PLC Model 7             |LA Car Rental|\n",
      "|11900    |Eric Owens PhD |Faulkner-Howard Model 5            |SF Cars      |\n",
      "|11901    |Laura Perry    |Faulkner-Howard Model 5            |NYC Rentals  |\n",
      "|11902    |Paul Brown     |Faulkner-Howard Model 5            |NYC Rentals  |\n",
      "|11903    |Alexa Hernandez|Atkinson Ltd Model 10              |Zapopan Auto |\n",
      "|11904    |Jeremy Parks   |Faulkner-Howard Model 5            |SF Cars      |\n",
      "|11905    |Alyssa Reid    |Villanueva PLC Model 7             |LA Car Rental|\n",
      "|11906    |Eric Owens PhD |Moon, Davis and Larsen Model 1     |NYC Rentals  |\n",
      "|11907    |Kristin Potts  |Alvarez-Davis Model 3              |Zapopan Auto |\n",
      "|11908    |Amy Ortiz      |Clayton-Cook Model 10              |SF Cars      |\n",
      "|11909    |Laura Gregory  |Salazar Ltd Model 8                |SF Cars      |\n",
      "|11910    |Jay Walsh      |Salazar Ltd Model 8                |SF Cars      |\n",
      "+---------+---------------+-----------------------------------+-------------+\n",
      "only showing top 20 rows\n"
     ]
    }
   ],
   "source": [
    "df_show.show(truncate=False)"
   ]
  },
  {
   "cell_type": "code",
   "execution_count": 52,
   "id": "38bb30e6-3775-476f-b2fc-c2491523ca22",
   "metadata": {},
   "outputs": [
    {
     "name": "stderr",
     "output_type": "stream",
     "text": [
      "                                                                                "
     ]
    }
   ],
   "source": [
    "df_show.write \\\n",
    "    .partitionBy(\"agency_name\") \\\n",
    "    .mode(\"overwrite\") \\\n",
    "    .option(\"header\", True) \\\n",
    "    .csv(\"/opt/spark/work-dir/data/car_service/output/csv\")"
   ]
  },
  {
   "cell_type": "code",
   "execution_count": null,
   "id": "9078a7dd",
   "metadata": {},
   "outputs": [],
   "source": [
    "sc.stop()"
   ]
  }
 ],
 "metadata": {
  "kernelspec": {
   "display_name": "Python 3 (ipykernel)",
   "language": "python",
   "name": "python3"
  },
  "language_info": {
   "codemirror_mode": {
    "name": "ipython",
    "version": 3
   },
   "file_extension": ".py",
   "mimetype": "text/x-python",
   "name": "python",
   "nbconvert_exporter": "python",
   "pygments_lexer": "ipython3",
   "version": "3.10.12"
  }
 },
 "nbformat": 4,
 "nbformat_minor": 5
}
