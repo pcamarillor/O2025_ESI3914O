{
 "cells": [
  {
   "cell_type": "code",
   "execution_count": null,
   "id": "1522eb1c",
   "metadata": {},
   "outputs": [],
   "source": [
    "# Lab 04 - Xavier Figueroa\n",
    "# Objective: Join multiple DataFrames and extract JSON fields using get_json_object\n",
    "\n",
    "import sys\n",
    "sys.path.append(\"/opt/spark/work-dir/lib\")\n",
    "\n",
    "from thexaviroo.spark_utils import SparkUtils\n",
    "\n",
    "# TODO: Load datasets, extract fields, perform joins, and show final DataFrame\n"
   ]
  }
 ],
 "metadata": {
  "language_info": {
   "name": "python"
  }
 },
 "nbformat": 4,
 "nbformat_minor": 5
}
