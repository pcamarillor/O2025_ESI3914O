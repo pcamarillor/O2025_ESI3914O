{
 "cells": [
  {
   "cell_type": "markdown",
   "id": "b92d9622",
   "metadata": {},
   "source": [
    "# <center> <img src=\"../../img/ITESOLogo.png\" alt=\"ITESO\" width=\"480\" height=\"130\"> </center>\n",
    "# <center> **Departamento de Electrónica, Sistemas e Informática** </center>\n",
    "---\n",
    "## <center> Computer Systems Engineering  </center>\n",
    "---\n",
    "### <center> Big Data Processing </center>\n",
    "---\n",
    "#### <center> **Autumn 2025** </center>\n",
    "---\n",
    "\n",
    "**Lab 04**: Data Unions & Joins Pipeline\n",
    "\n",
    "**Date**: September 23rd 2025\n",
    "\n",
    "**Student Name**:\n",
    "\n",
    "**Professor**: Pablo Camarillo Ramirez"
   ]
  },
  {
   "cell_type": "code",
   "execution_count": 1,
   "id": "ed17a0b0",
   "metadata": {},
   "outputs": [
    {
     "name": "stderr",
     "output_type": "stream",
     "text": [
      "WARNING: Using incubator modules: jdk.incubator.vector\n",
      "Using Spark's default log4j profile: org/apache/spark/log4j2-defaults.properties\n",
      "Setting default log level to \"WARN\".\n",
      "To adjust logging level use sc.setLogLevel(newLevel). For SparkR, use setLogLevel(newLevel).\n",
      "25/09/26 01:30:53 WARN NativeCodeLoader: Unable to load native-hadoop library for your platform... using builtin-java classes where applicable\n"
     ]
    }
   ],
   "source": [
    "import findspark\n",
    "findspark.init()\n",
    "\n",
    "from pyspark.sql import SparkSession\n",
    "\n",
    "spark = SparkSession.builder \\\n",
    "    .appName(\"Examples on SparkSQL\") \\\n",
    "    .master(\"spark://bb6818473482:7077\") \\\n",
    "    .config(\"spark.ui.port\", \"4040\") \\\n",
    "    .getOrCreate()\n",
    "\n",
    "sc = spark.sparkContext\n",
    "sc.setLogLevel(\"ERROR\")"
   ]
  },
  {
   "cell_type": "markdown",
   "id": "0d0d05d3-a22e-4446-a353-29acf384ee8f",
   "metadata": {},
   "source": [
    "## BUILD AGENCIES DATAFRAME"
   ]
  },
  {
   "cell_type": "code",
   "execution_count": 2,
   "id": "a93cd621",
   "metadata": {},
   "outputs": [
    {
     "name": "stderr",
     "output_type": "stream",
     "text": [
      "[Stage 0:>                                                          (0 + 1) / 1]"
     ]
    },
    {
     "name": "stdout",
     "output_type": "stream",
     "text": [
      "+---------+-----------------------------------------------------+\n",
      "|agency_id|agency_info                                          |\n",
      "+---------+-----------------------------------------------------+\n",
      "|1        |{'agency_name': 'NYC Rentals', 'city': 'New York'}   |\n",
      "|2        |{'agency_name': 'LA Car Rental', 'city': 'Londres'}  |\n",
      "|3        |{'agency_name': 'Zapopan Auto', 'city': 'Zapopan'}   |\n",
      "|4        |{'agency_name': 'SF Cars', 'city': 'San Francisco'}  |\n",
      "|5        |{'agency_name': 'Mexico Cars', 'city': 'Mexico City'}|\n",
      "+---------+-----------------------------------------------------+\n",
      "\n"
     ]
    },
    {
     "name": "stderr",
     "output_type": "stream",
     "text": [
      "                                                                                "
     ]
    }
   ],
   "source": [
    "# Build AGENCIES DATAFRAMES\n",
    "from arantxa.spark_utils import SparkUtils\n",
    "\n",
    "schema_agencies = SparkUtils.generate_schema([(\"agency_id\", \"int\"), (\"agency_info\", \"string\")])\n",
    "\n",
    "df_agencies = spark.read.schema(schema_agencies).option(\"header\", True).csv(\"/opt/spark/work-dir/data/car_service/agencies\")\n",
    "df_agencies.show(truncate=False)\n"
   ]
  },
  {
   "cell_type": "markdown",
   "id": "af9c8c51-cd5d-448f-883c-70eb336d3f42",
   "metadata": {},
   "source": [
    "## BUILD BRANDS DATAFRAME"
   ]
  },
  {
   "cell_type": "code",
   "execution_count": 3,
   "id": "92b8de8b-9337-4f54-97f8-91ba164fd2e1",
   "metadata": {},
   "outputs": [
    {
     "name": "stdout",
     "output_type": "stream",
     "text": [
      "+--------+-----------------------------------------------------+\n",
      "|brand_id|brand_info                                           |\n",
      "+--------+-----------------------------------------------------+\n",
      "|1       |{'brand_name': 'Mercedes-Benz', 'country': 'Germany'}|\n",
      "|2       |{'brand_name': 'BMW', 'country': 'Germany'}          |\n",
      "|3       |{'brand_name': 'Audi', 'country': 'Germany'}         |\n",
      "|4       |{'brand_name': 'Ford', 'country': 'US'}              |\n",
      "|5       |{'brand_name': 'BYD', 'country': 'China'}            |\n",
      "|6       |{'brand_name': 'Honda', 'country': 'Japan'}          |\n",
      "|7       |{'brand_name': 'Toyota', 'country': 'Japan'}         |\n",
      "+--------+-----------------------------------------------------+\n",
      "\n"
     ]
    }
   ],
   "source": [
    "from arantxa.spark_utils import SparkUtils\n",
    "\n",
    "schema_brands = SparkUtils.generate_schema([(\"brand_id\", \"int\"), (\"brand_info\", \"string\")])\n",
    "\n",
    "df_brands = spark.read.schema(schema_brands).option(\"header\", True).csv(\"/opt/spark/work-dir/data/car_service/brands\")\n",
    "df_brands.show(truncate=False)\n"
   ]
  },
  {
   "cell_type": "markdown",
   "id": "a5ec2e4b-8376-4079-a5b5-b67b0ef9543e",
   "metadata": {},
   "source": [
    "## BUILD CAR NAME DATAFRAME"
   ]
  },
  {
   "cell_type": "code",
   "execution_count": 4,
   "id": "e884e4b0-653d-4338-8b9a-57d975961fc2",
   "metadata": {},
   "outputs": [
    {
     "name": "stderr",
     "output_type": "stream",
     "text": [
      "[Stage 2:>                                                          (0 + 1) / 1]"
     ]
    },
    {
     "name": "stdout",
     "output_type": "stream",
     "text": [
      "+------+----------------------------------------------------------------------------------------+\n",
      "|car_id|car_info                                                                                |\n",
      "+------+----------------------------------------------------------------------------------------+\n",
      "|1     |{'car_name': 'Chang-Fisher Model 7', 'brand_id': 5, 'price_per_day': 139}               |\n",
      "|2     |{'car_name': 'Sheppard-Tucker Model 4', 'brand_id': 6, 'price_per_day': 70}             |\n",
      "|3     |{'car_name': 'Faulkner-Howard Model 5', 'brand_id': 3, 'price_per_day': 53}             |\n",
      "|4     |{'car_name': 'Wagner LLC Model 1', 'brand_id': 5, 'price_per_day': 89}                  |\n",
      "|5     |{'car_name': 'Campos PLC Model 4', 'brand_id': 4, 'price_per_day': 112}                 |\n",
      "|6     |{'car_name': 'Archer-Patel Model 2', 'brand_id': 3, 'price_per_day': 55}                |\n",
      "|7     |{'car_name': 'Patrick, Barrera and Collins Model 6', 'brand_id': 6, 'price_per_day': 66}|\n",
      "|8     |{'car_name': 'Jones, Jefferson and Rivera Model 7', 'brand_id': 2, 'price_per_day': 115}|\n",
      "|9     |{'car_name': 'Garcia, Hamilton and Carr Model 5', 'brand_id': 6, 'price_per_day': 137}  |\n",
      "|10    |{'car_name': 'Levy Group Model 9', 'brand_id': 3, 'price_per_day': 93}                  |\n",
      "|11    |{'car_name': 'Grimes-Green Model 8', 'brand_id': 3, 'price_per_day': 150}               |\n",
      "|12    |{'car_name': 'Moon, Davis and Larsen Model 1', 'brand_id': 6, 'price_per_day': 100}     |\n",
      "|13    |{'car_name': 'Summers, Barnett and Smith Model 6', 'brand_id': 4, 'price_per_day': 139} |\n",
      "|14    |{'car_name': 'Clayton-Cook Model 10', 'brand_id': 6, 'price_per_day': 116}              |\n",
      "|15    |{'car_name': 'Nguyen, Harrell and Lee Model 6', 'brand_id': 2, 'price_per_day': 94}     |\n",
      "|16    |{'car_name': 'Walker, Pratt and Thomas Model 9', 'brand_id': 6, 'price_per_day': 192}   |\n",
      "|17    |{'car_name': 'West, Miller and Flores Model 5', 'brand_id': 1, 'price_per_day': 63}     |\n",
      "|18    |{'car_name': 'Bolton, Burns and Turner Model 10', 'brand_id': 6, 'price_per_day': 110}  |\n",
      "|19    |{'car_name': 'Mann-Kelley Model 3', 'brand_id': 2, 'price_per_day': 146}                |\n",
      "|20    |{'car_name': 'Harris, Lloyd and Payne Model 4', 'brand_id': 6, 'price_per_day': 96}     |\n",
      "+------+----------------------------------------------------------------------------------------+\n",
      "only showing top 20 rows\n"
     ]
    },
    {
     "name": "stderr",
     "output_type": "stream",
     "text": [
      "                                                                                "
     ]
    }
   ],
   "source": [
    "from arantxa.spark_utils import SparkUtils\n",
    "\n",
    "schema_cars = SparkUtils.generate_schema([(\"car_id\", \"int\"), (\"car_info\", \"string\")])\n",
    "\n",
    "df_cars = spark.read.schema(schema_cars).option(\"header\", True).csv(\"/opt/spark/work-dir/data/car_service/cars\")\n",
    "df_cars.show(truncate=False)\n"
   ]
  },
  {
   "cell_type": "markdown",
   "id": "87627a93-3e36-4594-9f21-5245362810bf",
   "metadata": {},
   "source": [
    "## BUILD CUSTOMER DATAFRAME"
   ]
  },
  {
   "cell_type": "code",
   "execution_count": 5,
   "id": "c94ddfff-15ec-4769-b514-fed374e83660",
   "metadata": {},
   "outputs": [
    {
     "name": "stdout",
     "output_type": "stream",
     "text": [
      "+-----------+-------------------------------------------------------------------------+\n",
      "|customer_id|customer_info                                                            |\n",
      "+-----------+-------------------------------------------------------------------------+\n",
      "|1          |{'customer_name': 'Tiffany Riley', 'city': 'Monterrey', 'age': 32}       |\n",
      "|2          |{'customer_name': 'Matthew Davies', 'city': 'Monterrey', 'age': 36}      |\n",
      "|3          |{'customer_name': 'Rebecca Miller', 'city': 'Mexico City', 'age': 30}    |\n",
      "|4          |{'customer_name': 'Katelyn Mccoy', 'city': 'New York', 'age': 34}        |\n",
      "|5          |{'customer_name': 'Dana Dennis', 'city': 'Zapopan', 'age': 26}           |\n",
      "|6          |{'customer_name': 'Daniel Norton', 'city': 'Mexico City', 'age': 34}     |\n",
      "|7          |{'customer_name': 'Robert Garcia', 'city': 'Zapopan', 'age': 47}         |\n",
      "|8          |{'customer_name': 'Michael Williams', 'city': 'Monterrey', 'age': 33}    |\n",
      "|9          |{'customer_name': 'Susan Ferguson', 'city': 'San Francisco', 'age': 41}  |\n",
      "|10         |{'customer_name': 'Alyssa Reid', 'city': 'Mexico City', 'age': 40}       |\n",
      "|11         |{'customer_name': 'Laura Myers', 'city': 'Zapopan', 'age': 50}           |\n",
      "|12         |{'customer_name': 'William Johnson', 'city': 'Monterrey', 'age': 25}     |\n",
      "|13         |{'customer_name': 'Tyler Lopez', 'city': 'Mexico City', 'age': 21}       |\n",
      "|14         |{'customer_name': 'Daniel Owen', 'city': 'Mexico City', 'age': 47}       |\n",
      "|15         |{'customer_name': 'Allison Coleman', 'city': 'Zapopan', 'age': 33}       |\n",
      "|16         |{'customer_name': 'David Walker', 'city': 'Londres', 'age': 33}          |\n",
      "|17         |{'customer_name': 'Hayley White', 'city': 'Monterrey', 'age': 29}        |\n",
      "|18         |{'customer_name': 'Amanda Garcia', 'city': 'Zapopan', 'age': 20}         |\n",
      "|19         |{'customer_name': 'Christina Howard PhD', 'city': 'Monterrey', 'age': 22}|\n",
      "|20         |{'customer_name': 'Tamara Jackson', 'city': 'San Francisco', 'age': 29}  |\n",
      "+-----------+-------------------------------------------------------------------------+\n",
      "only showing top 20 rows\n"
     ]
    }
   ],
   "source": [
    "from arantxa.spark_utils import SparkUtils\n",
    "\n",
    "schema_customers = SparkUtils.generate_schema([(\"customer_id\", \"int\"), (\"customer_info\", \"string\")])\n",
    "\n",
    "df_customers = spark.read.schema(schema_customers).option(\"header\", True).csv(\"/opt/spark/work-dir/data/car_service/customers\")\n",
    "df_customers.show(truncate=False)\n"
   ]
  },
  {
   "cell_type": "markdown",
   "id": "391f679d-f0cc-4a86-9ee9-d6eb2a147cd1",
   "metadata": {},
   "source": [
    "## BUILD RENTAL DATAFRAME"
   ]
  },
  {
   "cell_type": "code",
   "execution_count": 6,
   "id": "8e9694e5-05b9-4414-b620-4996f55b95ab",
   "metadata": {},
   "outputs": [
    {
     "name": "stdout",
     "output_type": "stream",
     "text": [
      "+---------+--------------------------------------------------+\n",
      "|rental_id|rental_info                                       |\n",
      "+---------+--------------------------------------------------+\n",
      "|11891    |{'car_id': 21, 'customer_id': 71, 'agency_id': 1} |\n",
      "|11892    |{'car_id': 11, 'customer_id': 52, 'agency_id': 2} |\n",
      "|11893    |{'car_id': 22, 'customer_id': 116, 'agency_id': 4}|\n",
      "|11894    |{'car_id': 5, 'customer_id': 107, 'agency_id': 1} |\n",
      "|11895    |{'car_id': 4, 'customer_id': 53, 'agency_id': 4}  |\n",
      "|11896    |{'car_id': 8, 'customer_id': 131, 'agency_id': 2} |\n",
      "|11897    |{'car_id': 23, 'customer_id': 66, 'agency_id': 3} |\n",
      "|11898    |{'car_id': 24, 'customer_id': 60, 'agency_id': 4} |\n",
      "|11899    |{'car_id': 27, 'customer_id': 92, 'agency_id': 2} |\n",
      "|11900    |{'car_id': 3, 'customer_id': 40, 'agency_id': 4}  |\n",
      "|11901    |{'car_id': 3, 'customer_id': 35, 'agency_id': 1}  |\n",
      "|11902    |{'car_id': 3, 'customer_id': 72, 'agency_id': 1}  |\n",
      "|11903    |{'car_id': 29, 'customer_id': 58, 'agency_id': 3} |\n",
      "|11904    |{'car_id': 3, 'customer_id': 131, 'agency_id': 4} |\n",
      "|11905    |{'car_id': 27, 'customer_id': 10, 'agency_id': 2} |\n",
      "|11906    |{'car_id': 12, 'customer_id': 40, 'agency_id': 1} |\n",
      "|11907    |{'car_id': 25, 'customer_id': 53, 'agency_id': 3} |\n",
      "|11908    |{'car_id': 14, 'customer_id': 153, 'agency_id': 4}|\n",
      "|11909    |{'car_id': 24, 'customer_id': 96, 'agency_id': 4} |\n",
      "|11910    |{'car_id': 24, 'customer_id': 151, 'agency_id': 4}|\n",
      "+---------+--------------------------------------------------+\n",
      "only showing top 20 rows\n"
     ]
    }
   ],
   "source": [
    "from arantxa.spark_utils import SparkUtils\n",
    "\n",
    "schema_rentals = SparkUtils.generate_schema([(\"rental_id\", \"int\"), (\"rental_info\", \"string\")])\n",
    "\n",
    "df_rentals = spark.read.schema(schema_rentals).option(\"header\", True).csv(\"/opt/spark/work-dir/data/car_service/rentals\")\n",
    "df_rentals.show(truncate=False)\n"
   ]
  },
  {
   "cell_type": "markdown",
   "id": "5330abab-245b-4577-b580-0d0b9b3d038e",
   "metadata": {},
   "source": [
    "## BUILD LAZY DATAFRAME"
   ]
  },
  {
   "cell_type": "code",
   "execution_count": 7,
   "id": "be998b00-0a92-4c89-91c6-9e7ac1d9bdcf",
   "metadata": {},
   "outputs": [
    {
     "name": "stdout",
     "output_type": "stream",
     "text": [
      "+---------+-----------------------------------+-------------+---------------+\n",
      "|rental_id|car_name                           |agency_name  |customer_name  |\n",
      "+---------+-----------------------------------+-------------+---------------+\n",
      "|11891    |Wallace-Carlson Model 9            |NYC Rentals  |Margaret Jones |\n",
      "|11892    |Grimes-Green Model 8               |LA Car Rental|Albert Williams|\n",
      "|11893    |Stewart-Allen Model 5              |SF Cars      |Caleb Fleming  |\n",
      "|11894    |Campos PLC Model 4                 |NYC Rentals  |Andrew Butler  |\n",
      "|11895    |Wagner LLC Model 1                 |SF Cars      |Kristin Potts  |\n",
      "|11896    |Jones, Jefferson and Rivera Model 7|LA Car Rental|Jeremy Parks   |\n",
      "|11897    |Lopez and Sons Model 9             |Zapopan Auto |Terry Wells    |\n",
      "|11898    |Salazar Ltd Model 8                |SF Cars      |Marc Williams  |\n",
      "|11899    |Villanueva PLC Model 7             |LA Car Rental|Danny Williams |\n",
      "|11900    |Faulkner-Howard Model 5            |SF Cars      |Eric Owens PhD |\n",
      "|11901    |Faulkner-Howard Model 5            |NYC Rentals  |Laura Perry    |\n",
      "|11902    |Faulkner-Howard Model 5            |NYC Rentals  |Paul Brown     |\n",
      "|11903    |Atkinson Ltd Model 10              |Zapopan Auto |Alexa Hernandez|\n",
      "|11904    |Faulkner-Howard Model 5            |SF Cars      |Jeremy Parks   |\n",
      "|11905    |Villanueva PLC Model 7             |LA Car Rental|Alyssa Reid    |\n",
      "|11906    |Moon, Davis and Larsen Model 1     |NYC Rentals  |Eric Owens PhD |\n",
      "|11907    |Alvarez-Davis Model 3              |Zapopan Auto |Kristin Potts  |\n",
      "|11908    |Clayton-Cook Model 10              |SF Cars      |Amy Ortiz      |\n",
      "|11909    |Salazar Ltd Model 8                |SF Cars      |Laura Gregory  |\n",
      "|11910    |Salazar Ltd Model 8                |SF Cars      |Jay Walsh      |\n",
      "+---------+-----------------------------------+-------------+---------------+\n",
      "only showing top 20 rows\n"
     ]
    }
   ],
   "source": [
    "from arantxa.spark_utils import SparkUtils\n",
    "from pyspark.sql.functions import get_json_object, col\n",
    "\n",
    "# Extract fields from rentals JSON\n",
    "df_rentals_extracted = df_rentals \\\n",
    "    .withColumn(\"extracted_car_id\", get_json_object(col(\"rental_info\"), \"$.car_id\").cast(\"int\")) \\\n",
    "    .withColumn(\"extracted_customer_id\", get_json_object(col(\"rental_info\"), \"$.customer_id\").cast(\"int\")) \\\n",
    "    .withColumn(\"extracted_agency_id\", get_json_object(col(\"rental_info\"), \"$.agency_id\").cast(\"int\"))\n",
    "# Extract fields from cars JSON\n",
    "df_cars_extracted = df_cars \\\n",
    "    .withColumn(\"car_name\", get_json_object(col(\"car_info\"), \"$.car_name\"))\n",
    "# Extract fields from agencies JSON  \n",
    "df_agencies_extracted = df_agencies \\\n",
    "    .withColumn(\"agency_name\", get_json_object(col(\"agency_info\"), \"$.agency_name\"))\n",
    "# Extract fields from customers JSON\n",
    "df_customers_extracted = df_customers \\\n",
    "    .withColumn(\"customer_name\", get_json_object(col(\"customer_info\"), \"$.customer_name\"))\n",
    "\n",
    "\n",
    "# Build the complete pipeline using the extracted columns\n",
    "final_pipeline = df_rentals_extracted \\\n",
    "    .join(df_cars_extracted, \n",
    "          df_rentals_extracted.extracted_car_id == df_cars_extracted.car_id, \n",
    "          \"left\") \\\n",
    "    .join(df_agencies_extracted, \n",
    "          df_rentals_extracted.extracted_agency_id == df_agencies_extracted.agency_id, \n",
    "          \"left\") \\\n",
    "    .join(df_customers_extracted, \n",
    "          df_rentals_extracted.extracted_customer_id == df_customers_extracted.customer_id, \n",
    "          \"left\") \\\n",
    "    .select(\"rental_id\", \"car_name\", \"agency_name\", \"customer_name\")\n",
    "\n",
    "final_pipeline.show(truncate=False)"
   ]
  },
  {
   "cell_type": "markdown",
   "id": "87d12538-ce1b-4c08-b0e7-89393c8951cc",
   "metadata": {},
   "source": [
    "## PERSIST DATA"
   ]
  },
  {
   "cell_type": "code",
   "execution_count": 8,
   "id": "18023970-0b8b-4108-a863-7a535353600d",
   "metadata": {},
   "outputs": [
    {
     "name": "stdout",
     "output_type": "stream",
     "text": [
      "/opt/spark/work-dir/labs/lab04\n"
     ]
    }
   ],
   "source": [
    "!pwd"
   ]
  },
  {
   "cell_type": "code",
   "execution_count": 9,
   "id": "a8ce8f11-9d12-4256-8aae-dcc834958baf",
   "metadata": {},
   "outputs": [
    {
     "name": "stderr",
     "output_type": "stream",
     "text": [
      "                                                                                "
     ]
    }
   ],
   "source": [
    "final_pipeline.write \\\n",
    "    .partitionBy(\"agency_name\") \\\n",
    "    .mode(\"overwrite\") \\\n",
    "    .parquet(\"/opt/spark/work-dir/\" + \"car_service/output/parquet\")"
   ]
  },
  {
   "cell_type": "code",
   "execution_count": 10,
   "id": "879ea4e1-6367-494f-91a8-8557448b23f3",
   "metadata": {},
   "outputs": [
    {
     "name": "stdout",
     "output_type": "stream",
     "text": [
      "'agency_name=LA Car Rental'  'agency_name=SF Cars'\t  _SUCCESS\n",
      "'agency_name=NYC Rentals'    'agency_name=Zapopan Auto'\n"
     ]
    }
   ],
   "source": [
    "!ls /opt/spark/work-dir/car_service/output/parquet"
   ]
  },
  {
   "cell_type": "code",
   "execution_count": 11,
   "id": "090f2f58-f758-434e-bd2b-b015e69e2964",
   "metadata": {},
   "outputs": [
    {
     "name": "stdout",
     "output_type": "stream",
     "text": [
      "144K\t/opt/spark/work-dir/car_service/output/parquet\n"
     ]
    }
   ],
   "source": [
    "!du -sh /opt/spark/work-dir/car_service/output/parquet"
   ]
  },
  {
   "cell_type": "markdown",
   "id": "1d729152-216f-4ab1-b82a-45ede1278dbc",
   "metadata": {},
   "source": [
    "## CSV PERSIST"
   ]
  },
  {
   "cell_type": "code",
   "execution_count": 12,
   "id": "6662fb8b-f53c-4e9d-b874-012c6537b001",
   "metadata": {},
   "outputs": [
    {
     "name": "stderr",
     "output_type": "stream",
     "text": [
      "                                                                                "
     ]
    }
   ],
   "source": [
    "final_pipeline.write \\\n",
    "    .partitionBy(\"agency_name\") \\\n",
    "    .mode(\"overwrite\") \\\n",
    "    .option(\"header\", True) \\\n",
    "    .csv(\"/opt/spark/work-dir/\" + \"car_service/output/rentals/csv\")"
   ]
  },
  {
   "cell_type": "code",
   "execution_count": 13,
   "id": "d54021d3-5652-4945-9768-5388b6800654",
   "metadata": {},
   "outputs": [
    {
     "name": "stdout",
     "output_type": "stream",
     "text": [
      "'agency_name=LA Car Rental'  'agency_name=SF Cars'\t  _SUCCESS\n",
      "'agency_name=NYC Rentals'    'agency_name=Zapopan Auto'\n"
     ]
    }
   ],
   "source": [
    "!ls ../../car_service/output/rentals/csv"
   ]
  },
  {
   "cell_type": "code",
   "execution_count": 14,
   "id": "ae401f36-d585-40f8-94e1-3801f04da216",
   "metadata": {},
   "outputs": [
    {
     "name": "stdout",
     "output_type": "stream",
     "text": [
      "856K\t../../car_service/output/rentals/csv\n"
     ]
    }
   ],
   "source": [
    "!du -sh ../../car_service/output/rentals/csv"
   ]
  },
  {
   "cell_type": "code",
   "execution_count": 15,
   "id": "a7ac0d39-639f-4f79-8ec1-ba2a9bcf5f77",
   "metadata": {},
   "outputs": [],
   "source": [
    "sc.stop()"
   ]
  },
  {
   "cell_type": "markdown",
   "id": "a9efa72a-ae2f-449c-8e1b-3beca6410375",
   "metadata": {},
   "source": []
  }
 ],
 "metadata": {
  "kernelspec": {
   "display_name": "Python 3 (ipykernel)",
   "language": "python",
   "name": "python3"
  },
  "language_info": {
   "codemirror_mode": {
    "name": "ipython",
    "version": 3
   },
   "file_extension": ".py",
   "mimetype": "text/x-python",
   "name": "python",
   "nbconvert_exporter": "python",
   "pygments_lexer": "ipython3",
   "version": "3.10.12"
  }
 },
 "nbformat": 4,
 "nbformat_minor": 5
}
