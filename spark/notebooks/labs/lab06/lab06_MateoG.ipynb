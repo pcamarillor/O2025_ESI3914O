{
 "cells": [
  {
   "cell_type": "markdown",
   "id": "b92d9622",
   "metadata": {},
   "source": [
    "# <center> <img src=\"../../img/ITESOLogo.png\" alt=\"ITESO\" width=\"480\" height=\"130\"> </center>\n",
    "# <center> **Departamento de Electrónica, Sistemas e Informática** </center>\n",
    "---\n",
    "## <center> Computer Systems Engineering  </center>\n",
    "---\n",
    "### <center> Big Data Processing </center>\n",
    "---\n",
    "#### <center> **Autumn 2025** </center>\n",
    "---\n",
    "\n",
    "**Lab 05**: Data pipeline with Neo4j\n",
    "\n",
    "**Date**: October 2nd 2025\n",
    "\n",
    "**Student Name**: Mateo Garcia Lopez\n",
    "\n",
    "**Professor**: Pablo Camarillo Ramirez"
   ]
  },
  {
   "cell_type": "markdown",
   "id": "7893c817",
   "metadata": {},
   "source": [
    "# Dataset description"
   ]
  },
  {
   "cell_type": "markdown",
   "id": "9b2e84c3",
   "metadata": {},
   "source": [
    "# Data ingestion"
   ]
  },
  {
   "cell_type": "code",
   "execution_count": 1,
   "id": "ed17a0b0",
   "metadata": {},
   "outputs": [
    {
     "name": "stderr",
     "output_type": "stream",
     "text": [
      "WARNING: Using incubator modules: jdk.incubator.vector\n",
      ":: loading settings :: url = jar:file:/opt/spark/jars/ivy-2.5.3.jar!/org/apache/ivy/core/settings/ivysettings.xml\n",
      "Ivy Default Cache set to: /root/.ivy2.5.2/cache\n",
      "The jars for the packages stored in: /root/.ivy2.5.2/jars\n",
      "org.neo4j#neo4j-connector-apache-spark_2.13 added as a dependency\n",
      ":: resolving dependencies :: org.apache.spark#spark-submit-parent-ffc8f543-187a-4ad4-af8e-69073a17ccc8;1.0\n",
      "\tconfs: [default]\n",
      "\tfound org.neo4j#neo4j-connector-apache-spark_2.13;5.3.10_for_spark_3 in central\n",
      "\tfound org.neo4j#neo4j-connector-apache-spark_2.13_common;5.3.10_for_spark_3 in central\n",
      "\tfound org.neo4j#caniuse-core;1.3.0 in central\n",
      "\tfound org.neo4j#caniuse-api;1.3.0 in central\n",
      "\tfound org.jetbrains.kotlin#kotlin-stdlib;2.1.20 in central\n",
      "\tfound org.jetbrains#annotations;13.0 in central\n",
      "\tfound org.neo4j#caniuse-neo4j-detection;1.3.0 in central\n",
      "\tfound org.neo4j.driver#neo4j-java-driver-slim;4.4.21 in central\n",
      "\tfound org.reactivestreams#reactive-streams;1.0.4 in central\n",
      "\tfound io.netty#netty-handler;4.1.127.Final in central\n",
      "\tfound io.netty#netty-common;4.1.127.Final in central\n",
      "\tfound io.netty#netty-resolver;4.1.127.Final in central\n",
      "\tfound io.netty#netty-buffer;4.1.127.Final in central\n",
      "\tfound io.netty#netty-transport;4.1.127.Final in central\n",
      "\tfound io.netty#netty-transport-native-unix-common;4.1.127.Final in central\n",
      "\tfound io.netty#netty-codec;4.1.127.Final in central\n",
      "\tfound io.netty#netty-tcnative-classes;2.0.73.Final in central\n",
      "\tfound io.projectreactor#reactor-core;3.6.11 in central\n",
      "\tfound org.neo4j#neo4j-cypher-dsl;2022.11.0 in central\n",
      "\tfound org.apiguardian#apiguardian-api;1.1.2 in central\n",
      "\tfound org.neo4j.connectors#commons-authn-spi;1.0.0-rc2 in central\n",
      "\tfound org.neo4j.connectors#commons-reauth-driver;1.0.0-rc2 in central\n",
      "\tfound org.slf4j#slf4j-api;2.0.17 in central\n",
      "\tfound org.neo4j.connectors#commons-authn-provided;1.0.0-rc2 in central\n",
      ":: resolution report :: resolve 495ms :: artifacts dl 7ms\n",
      "\t:: modules in use:\n",
      "\tio.netty#netty-buffer;4.1.127.Final from central in [default]\n",
      "\tio.netty#netty-codec;4.1.127.Final from central in [default]\n",
      "\tio.netty#netty-common;4.1.127.Final from central in [default]\n",
      "\tio.netty#netty-handler;4.1.127.Final from central in [default]\n",
      "\tio.netty#netty-resolver;4.1.127.Final from central in [default]\n",
      "\tio.netty#netty-tcnative-classes;2.0.73.Final from central in [default]\n",
      "\tio.netty#netty-transport;4.1.127.Final from central in [default]\n",
      "\tio.netty#netty-transport-native-unix-common;4.1.127.Final from central in [default]\n",
      "\tio.projectreactor#reactor-core;3.6.11 from central in [default]\n",
      "\torg.apiguardian#apiguardian-api;1.1.2 from central in [default]\n",
      "\torg.jetbrains#annotations;13.0 from central in [default]\n",
      "\torg.jetbrains.kotlin#kotlin-stdlib;2.1.20 from central in [default]\n",
      "\torg.neo4j#caniuse-api;1.3.0 from central in [default]\n",
      "\torg.neo4j#caniuse-core;1.3.0 from central in [default]\n",
      "\torg.neo4j#caniuse-neo4j-detection;1.3.0 from central in [default]\n",
      "\torg.neo4j#neo4j-connector-apache-spark_2.13;5.3.10_for_spark_3 from central in [default]\n",
      "\torg.neo4j#neo4j-connector-apache-spark_2.13_common;5.3.10_for_spark_3 from central in [default]\n",
      "\torg.neo4j#neo4j-cypher-dsl;2022.11.0 from central in [default]\n",
      "\torg.neo4j.connectors#commons-authn-provided;1.0.0-rc2 from central in [default]\n",
      "\torg.neo4j.connectors#commons-authn-spi;1.0.0-rc2 from central in [default]\n",
      "\torg.neo4j.connectors#commons-reauth-driver;1.0.0-rc2 from central in [default]\n",
      "\torg.neo4j.driver#neo4j-java-driver-slim;4.4.21 from central in [default]\n",
      "\torg.reactivestreams#reactive-streams;1.0.4 from central in [default]\n",
      "\torg.slf4j#slf4j-api;2.0.17 from central in [default]\n",
      "\t---------------------------------------------------------------------\n",
      "\t|                  |            modules            ||   artifacts   |\n",
      "\t|       conf       | number| search|dwnlded|evicted|| number|dwnlded|\n",
      "\t---------------------------------------------------------------------\n",
      "\t|      default     |   24  |   0   |   0   |   0   ||   24  |   0   |\n",
      "\t---------------------------------------------------------------------\n",
      ":: retrieving :: org.apache.spark#spark-submit-parent-ffc8f543-187a-4ad4-af8e-69073a17ccc8\n",
      "\tconfs: [default]\n",
      "\t0 artifacts copied, 24 already retrieved (0kB/6ms)\n",
      "25/10/06 01:56:19 WARN NativeCodeLoader: Unable to load native-hadoop library for your platform... using builtin-java classes where applicable\n",
      "Using Spark's default log4j profile: org/apache/spark/log4j2-defaults.properties\n",
      "Setting default log level to \"WARN\".\n",
      "To adjust logging level use sc.setLogLevel(newLevel). For SparkR, use setLogLevel(newLevel).\n"
     ]
    }
   ],
   "source": [
    "import findspark\n",
    "findspark.init()\n",
    "\n",
    "from pyspark.sql import SparkSession\n",
    "\n",
    "spark = SparkSession.builder \\\n",
    "    .appName(\"Examples on SparkSQL\") \\\n",
    "    .master(\"spark://spark-master:7077\") \\\n",
    "    .config(\"spark.jars.packages\", \"org.neo4j:neo4j-connector-apache-spark_2.13:5.3.10_for_spark_3\") \\\n",
    "    .config(\"spark.ui.port\", \"4040\") \\\n",
    "    .getOrCreate()\n",
    "\n",
    "sc = spark.sparkContext\n",
    "sc.setLogLevel(\"ERROR\")"
   ]
  },
  {
   "cell_type": "code",
   "execution_count": 2,
   "id": "a93cd621",
   "metadata": {},
   "outputs": [
    {
     "name": "stdout",
     "output_type": "stream",
     "text": [
      "DataFrames created successfully using generated schemas:\n"
     ]
    },
    {
     "name": "stderr",
     "output_type": "stream",
     "text": [
      "                                                                                "
     ]
    },
    {
     "name": "stdout",
     "output_type": "stream",
     "text": [
      "+-------+-----+\n",
      "|user_id| name|\n",
      "+-------+-----+\n",
      "|     u1|Mateo|\n",
      "|     u2| Juan|\n",
      "|     u3|Carla|\n",
      "+-------+-----+\n",
      "\n",
      "root\n",
      " |-- user_id: string (nullable = true)\n",
      " |-- name: string (nullable = true)\n",
      "\n",
      "+-------+-------+------+\n",
      "|user_id|product|amount|\n",
      "+-------+-------+------+\n",
      "|     u1| Laptop|  6900|\n",
      "|     u2|  Phone|   999|\n",
      "|     u1|  Mouse|   125|\n",
      "|     u3| Laptop|  4337|\n",
      "+-------+-------+------+\n",
      "\n",
      "root\n",
      " |-- user_id: string (nullable = true)\n",
      " |-- product: string (nullable = true)\n",
      " |-- amount: integer (nullable = true)\n",
      "\n",
      "+---------+---------+\n",
      "|user_id_1|user_id_2|\n",
      "+---------+---------+\n",
      "|       u1|       u2|\n",
      "|       u2|       u3|\n",
      "+---------+---------+\n",
      "\n",
      "root\n",
      " |-- user_id_1: string (nullable = true)\n",
      " |-- user_id_2: string (nullable = true)\n",
      "\n"
     ]
    }
   ],
   "source": [
    "# Build schema\n",
    "# Import your module\n",
    "from mateogarcial.spark_utils import SparkUtils\n",
    "\n",
    "# 1. Define the data and column information\n",
    "users_data = [(\"u1\", \"Mateo\"), (\"u2\", \"Juan\"), (\"u3\", \"Carla\")]\n",
    "users_columns_info = [(\"user_id\", \"string\"), (\"name\", \"string\")]\n",
    "\n",
    "transactions_data = [(\"u1\", \"Laptop\", 6900), (\"u2\", \"Phone\", 999), (\"u1\", \"Mouse\", 125), (\"u3\", \"Laptop\", 4337)]\n",
    "transactions_columns_info = [(\"user_id\", \"string\"), (\"product\", \"string\"), (\"amount\", \"int\")]\n",
    "\n",
    "friends_data = [(\"u1\", \"u2\"), (\"u2\", \"u3\")]\n",
    "friends_columns_info = [(\"user_id_1\", \"string\"), (\"user_id_2\", \"string\")]\n",
    "\n",
    "# 2. Generate schemas using my utility\n",
    "users_schema = SparkUtils.generate_schema(users_columns_info)\n",
    "transactions_schema = SparkUtils.generate_schema(transactions_columns_info)\n",
    "friends_schema = SparkUtils.generate_schema(friends_columns_info)\n",
    "\n",
    "# 3. Create the DataFrames with the generated schemas\n",
    "users_df = spark.createDataFrame(users_data, users_schema)\n",
    "transactions_df = spark.createDataFrame(transactions_data, transactions_schema)\n",
    "friends_df = spark.createDataFrame(friends_data, friends_schema)\n",
    "\n",
    "# 4. Verify the results\n",
    "print(\"DataFrames created successfully using generated schemas:\")\n",
    "users_df.show()\n",
    "users_df.printSchema()\n",
    "\n",
    "transactions_df.show()\n",
    "transactions_df.printSchema()\n",
    "\n",
    "friends_df.show()\n",
    "friends_df.printSchema()"
   ]
  },
  {
   "cell_type": "markdown",
   "id": "372e82d5",
   "metadata": {},
   "source": [
    "# Transformations"
   ]
  },
  {
   "cell_type": "code",
   "execution_count": 3,
   "id": "000b6d0d",
   "metadata": {},
   "outputs": [
    {
     "name": "stdout",
     "output_type": "stream",
     "text": [
      "Four DataFrames: user_nodes_df, product_nodes_df, purchased_edges_df, friends_edges_df\n",
      "+---+-----+\n",
      "| id| name|\n",
      "+---+-----+\n",
      "| u1|Mateo|\n",
      "| u2| Juan|\n",
      "| u3|Carla|\n",
      "+---+-----+\n",
      "\n"
     ]
    },
    {
     "name": "stderr",
     "output_type": "stream",
     "text": [
      "                                                                                "
     ]
    },
    {
     "name": "stdout",
     "output_type": "stream",
     "text": [
      "+------+\n",
      "|    id|\n",
      "+------+\n",
      "| Phone|\n",
      "|Laptop|\n",
      "| Mouse|\n",
      "+------+\n",
      "\n",
      "+---+------+------+\n",
      "|src|   dst|amount|\n",
      "+---+------+------+\n",
      "| u1|Laptop|  6900|\n",
      "| u2| Phone|   999|\n",
      "| u1| Mouse|   125|\n",
      "| u3|Laptop|  4337|\n",
      "+---+------+------+\n",
      "\n",
      "+---+---+\n",
      "|src|dst|\n",
      "+---+---+\n",
      "| u1| u2|\n",
      "| u2| u3|\n",
      "+---+---+\n",
      "\n"
     ]
    }
   ],
   "source": [
    "# Add the code for your transformations to create nodes and edges DataFrames HERE\n",
    "from pyspark.sql.functions import col\n",
    "\n",
    "# 1. Create a DF for User nodes\n",
    "user_nodes_df = users_df.select(\n",
    "    col(\"user_id\").alias(\"id\"),\n",
    "    \"name\"\n",
    ")\n",
    "\n",
    "# 2. Create a DF for Product nodes\n",
    "product_nodes_df = transactions_df.select(\"product\").distinct().withColumnRenamed(\"product\", \"id\")\n",
    "\n",
    "# 3. Create a DF for PURCHASED edges\n",
    "purchased_edges_df = transactions_df.select(\n",
    "    col(\"user_id\").alias(\"src\"),\n",
    "    col(\"product\").alias(\"dst\"),\n",
    "    \"amount\"\n",
    ")\n",
    "\n",
    "# 4. Create a DF for FRIEND edges\n",
    "friends_edges_df = friends_df.select(\n",
    "    col(\"user_id_1\").alias(\"src\"),\n",
    "    col(\"user_id_2\").alias(\"dst\")\n",
    ")\n",
    "\n",
    "print(\"Four DataFrames: user_nodes_df, product_nodes_df, purchased_edges_df, friends_edges_df\")\n",
    "user_nodes_df.show()\n",
    "product_nodes_df.show()\n",
    "purchased_edges_df.show()\n",
    "friends_edges_df.show()"
   ]
  },
  {
   "cell_type": "markdown",
   "id": "e3a68775",
   "metadata": {},
   "source": [
    "# Writing Data in Neo4j"
   ]
  },
  {
   "cell_type": "code",
   "execution_count": 4,
   "id": "d01d7a89",
   "metadata": {},
   "outputs": [
    {
     "name": "stdout",
     "output_type": "stream",
     "text": [
      "Graph data has been successfully written.\n"
     ]
    }
   ],
   "source": [
    "# --- Define Connection Details ---\n",
    "NEO4J_URL = \"bolt://neo4j-iteso:7687\"\n",
    "NEO4J_USER = \"neo4j\"\n",
    "NEO4J_PASSWORD = \"neo4j@1234\"\n",
    "\n",
    "# Write User nodes\n",
    "user_nodes_df.write \\\n",
    "    .format(\"org.neo4j.spark.DataSource\") \\\n",
    "    .mode(\"Overwrite\") \\\n",
    "    .option(\"url\", NEO4J_URL) \\\n",
    "    .option(\"authentication.basic.username\", NEO4J_USER) \\\n",
    "    .option(\"authentication.basic.password\", NEO4J_PASSWORD) \\\n",
    "    .option(\"query\", \"MERGE (u:User {id: event.id}) SET u.name = event.name\") \\\n",
    "    .save()\n",
    "\n",
    "# Write Product nodes\n",
    "product_nodes_df.write \\\n",
    "    .format(\"org.neo4j.spark.DataSource\") \\\n",
    "    .mode(\"Append\") \\\n",
    "    .option(\"url\", NEO4J_URL) \\\n",
    "    .option(\"authentication.basic.username\", NEO4J_USER) \\\n",
    "    .option(\"authentication.basic.password\", NEO4J_PASSWORD) \\\n",
    "    .option(\"query\", \"MERGE (p:Product {id: event.id})\") \\\n",
    "    .save()\n",
    "\n",
    "# Write PURCHASED relationships\n",
    "purchased_edges_df.write \\\n",
    "    .format(\"org.neo4j.spark.DataSource\") \\\n",
    "    .mode(\"Append\") \\\n",
    "    .option(\"url\", NEO4J_URL) \\\n",
    "    .option(\"authentication.basic.username\", NEO4J_USER) \\\n",
    "    .option(\"authentication.basic.password\", NEO4J_PASSWORD) \\\n",
    "    .option(\"relationship\", \"PURCHASED\") \\\n",
    "    .option(\"relationship.save.strategy\", \"keys\") \\\n",
    "    .option(\"relationship.source.labels\", \":User\") \\\n",
    "    .option(\"relationship.source.node.properties\", \"src:id\") \\\n",
    "    .option(\"relationship.target.labels\", \":Product\") \\\n",
    "    .option(\"relationship.target.node.properties\", \"dst:id\") \\\n",
    "    .option(\"relationship.properties\", \"amount\") \\\n",
    "    .save()\n",
    "\n",
    "# Write FRIEND relationships\n",
    "friends_edges_df.write \\\n",
    "    .format(\"org.neo4j.spark.DataSource\") \\\n",
    "    .mode(\"Append\") \\\n",
    "    .option(\"url\", NEO4J_URL) \\\n",
    "    .option(\"authentication.basic.username\", NEO4J_USER) \\\n",
    "    .option(\"authentication.basic.password\", NEO4J_PASSWORD) \\\n",
    "    .option(\"relationship\", \"FRIEND\") \\\n",
    "    .option(\"relationship.save.strategy\", \"keys\") \\\n",
    "    .option(\"relationship.source.labels\", \":User\") \\\n",
    "    .option(\"relationship.source.node.properties\", \"src:id\") \\\n",
    "    .option(\"relationship.target.labels\", \":User\") \\\n",
    "    .option(\"relationship.target.node.properties\", \"dst:id\") \\\n",
    "    .save()\n",
    "\n",
    "print(\"Graph data has been successfully written.\")"
   ]
  },
  {
   "cell_type": "markdown",
   "id": "f30287ea",
   "metadata": {},
   "source": [
    "# Read and Query Graphs with PySpark"
   ]
  },
  {
   "cell_type": "code",
   "execution_count": 5,
   "id": "03ca7b56",
   "metadata": {},
   "outputs": [
    {
     "name": "stdout",
     "output_type": "stream",
     "text": [
      "Query results from Neo4j:\n",
      "+-----+-------+--------------------+\n",
      "| user|product|             friends|\n",
      "+-----+-------+--------------------+\n",
      "|Carla| Laptop|[Juan, Carla, Mat...|\n",
      "| Juan| Laptop|[Juan, Carla, Mat...|\n",
      "|Mateo| Laptop|[Carla, Juan, Mat...|\n",
      "+-----+-------+--------------------+\n",
      "\n"
     ]
    }
   ],
   "source": [
    "# Add the code to read a data frame from Neo4J and run a simple query to verify \n",
    "cypher_query = \"\"\"\n",
    "MATCH (u:User)-[:PURCHASED]->(p:Product {id: 'Laptop'})\n",
    "OPTIONAL MATCH (u)-[:FRIEND]->(friend:User)\n",
    "RETURN u.name AS user, p.id AS product, collect(friend.name) AS friends\n",
    "\"\"\"\n",
    "\n",
    "graph_data = spark.read \\\n",
    "    .format(\"org.neo4j.spark.DataSource\") \\\n",
    "    .option(\"url\", NEO4J_URL) \\\n",
    "    .option(\"authentication.type\", \"basic\") \\\n",
    "    .option(\"authentication.basic.username\", NEO4J_USER) \\\n",
    "    .option(\"authentication.basic.password\", NEO4J_PASSWORD) \\\n",
    "    .option(\"query\", cypher_query) \\\n",
    "    .load()\n",
    "\n",
    "print(\"Query results from Neo4j:\")\n",
    "graph_data.show()"
   ]
  },
  {
   "cell_type": "code",
   "execution_count": 6,
   "id": "9078a7dd",
   "metadata": {},
   "outputs": [],
   "source": [
    "sc.stop()"
   ]
  }
 ],
 "metadata": {
  "kernelspec": {
   "display_name": "Python 3 (ipykernel)",
   "language": "python",
   "name": "python3"
  },
  "language_info": {
   "codemirror_mode": {
    "name": "ipython",
    "version": 3
   },
   "file_extension": ".py",
   "mimetype": "text/x-python",
   "name": "python",
   "nbconvert_exporter": "python",
   "pygments_lexer": "ipython3",
   "version": "3.10.12"
  }
 },
 "nbformat": 4,
 "nbformat_minor": 5
}
