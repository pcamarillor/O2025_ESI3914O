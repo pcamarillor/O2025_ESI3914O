{
 "cells": [
  {
   "cell_type": "markdown",
   "id": "b92d9622",
   "metadata": {},
   "source": [
    "# <center> <img src=\"../../img/ITESOLogo.png\" alt=\"ITESO\" width=\"480\" height=\"130\"> </center>\n",
    "# <center> **Departamento de Electrónica, Sistemas e Informática** </center>\n",
    "---\n",
    "## <center> Computer Systems Engineering  </center>\n",
    "---\n",
    "### <center> Big Data Processing </center>\n",
    "---\n",
    "#### <center> **Autumn 2025** </center>\n",
    "---\n",
    "\n",
    "**Lab 06**: Writing Data in Neo4j\n",
    "\n",
    "**Date**: October 5 2025\n",
    "\n",
    "**Student Name**: Andre Jair Sanchez Contreras\n",
    "\n",
    "**Professor**: Pablo Camarillo Ramirez"
   ]
  },
  {
   "cell_type": "markdown",
   "id": "7893c817",
   "metadata": {},
   "source": [
    "# Dataset description"
   ]
  },
  {
   "cell_type": "code",
   "execution_count": null,
   "id": "cc865374-bbf5-4ede-8365-0c0e9105345d",
   "metadata": {},
   "outputs": [],
   "source": [
    "In this dataset \n",
    "\n",
    "Link:https://www.kaggle.com/datasets/zahidmughal2343/amazon-sales-2025?select=amazon_sales_data+2025.csv"
   ]
  },
  {
   "cell_type": "markdown",
   "id": "9b2e84c3",
   "metadata": {},
   "source": [
    "# Data ingestion"
   ]
  },
  {
   "cell_type": "code",
   "execution_count": null,
   "id": "ed17a0b0",
   "metadata": {},
   "outputs": [],
   "source": [
    "import findspark\n",
    "findspark.init()\n",
    "\n",
    "from pyspark.sql import SparkSession\n",
    "\n",
    "USE_LOCAL = True  \n",
    "\n",
    "neo4j_pkg = \"org.neo4j:neo4j-connector-apache-spark_2.13:5.3.10_for_spark_3\"\n",
    "\n",
    "if USE_LOCAL:\n",
    "    \n",
    "    spark = (SparkSession.builder\n",
    "        .appName(\"Amazon → Neo4j (LOCAL)\")\n",
    "        .master(\"local[*]\")                         \n",
    "        .config(\"spark.jars.packages\", neo4j_pkg)   \n",
    "        .config(\"spark.ui.port\", \"4040\")\n",
    "        .getOrCreate())\n",
    "else:\n",
    "    \n",
    "    spark = (SparkSession.builder\n",
    "        .appName(\"Amazon → Neo4j (CLUSTER)\")\n",
    "        .master(\"spark://spark-master:7077\")\n",
    "        .config(\"spark.jars.packages\", neo4j_pkg)\n",
    "        .config(\"spark.ui.port\", \"4040\")\n",
    "        .getOrCreate())\n",
    "\n",
    "sc = spark.sparkContext\n",
    "sc.setLogLevel(\"ERROR\")\n",
    "spark.conf.set(\"spark.sql.shuffle.partitions\", \"5\")"
   ]
  },
  {
   "cell_type": "code",
   "execution_count": null,
   "id": "6ed5d010-3cbc-453a-8fb6-b624460b6af1",
   "metadata": {},
   "outputs": [],
   "source": [
    "# Build schema\n",
    "# Import your module"
   ]
  },
  {
   "cell_type": "code",
   "execution_count": null,
   "id": "605a1cdb-bb31-49b4-82d7-31d9f08b4146",
   "metadata": {},
   "outputs": [],
   "source": [
    "from pcamarillor.spark_utils import SparkUtils"
   ]
  },
  {
   "cell_type": "code",
   "execution_count": null,
   "id": "dffaaac1-8e71-4183-b03f-bfe88c20cdeb",
   "metadata": {},
   "outputs": [],
   "source": [
    "from pyspark.sql import functions as F\n",
    "\n",
    "\n",
    "csv_path = \"/opt/spark/work-dir/data/amazon/amazon_sales_data_2025.csv\"\n",
    "\n",
    "df_raw = (spark.read\n",
    "    .option(\"header\", \"true\")\n",
    "    .option(\"inferSchema\", \"true\")\n",
    "    .csv(csv_path))\n",
    "\n",
    "df = (df_raw\n",
    "    .withColumnRenamed(\"Order ID\", \"order_id\")\n",
    "    .withColumn(\"date\",          F.to_date(\"Date\"))\n",
    "    .withColumnRenamed(\"Product\",           \"product\")\n",
    "    .withColumnRenamed(\"Category\",          \"category\")\n",
    "    .withColumn(\"price\",         F.col(\"Price\").cast(\"double\"))\n",
    "    .withColumn(\"quantity\",      F.col(\"Quantity\").cast(\"int\"))\n",
    "    .withColumn(\"total_sales\",   F.col(\"Total Sales\").cast(\"double\"))\n",
    "    .withColumnRenamed(\"Customer Name\",     \"customer_name\")\n",
    "    .withColumnRenamed(\"Customer Location\", \"city\")\n",
    "    .withColumnRenamed(\"Payment Method\",    \"payment\")\n",
    "    .withColumnRenamed(\"Status\",            \"status\")\n",
    "    .select(\"order_id\",\"date\",\"product\",\"category\",\"price\",\"quantity\",\n",
    "            \"total_sales\",\"customer_name\",\"city\",\"payment\",\"status\")\n",
    ")\n",
    "\n",
    "\n",
    "\n",
    "df.show(5, truncate=False)\n",
    "df.printSchema()\n"
   ]
  },
  {
   "cell_type": "code",
   "execution_count": null,
   "id": "8a26263b-562a-4736-b28a-75115b5e26d8",
   "metadata": {},
   "outputs": [],
   "source": []
  },
  {
   "cell_type": "markdown",
   "id": "372e82d5",
   "metadata": {},
   "source": [
    "# Transformations"
   ]
  },
  {
   "cell_type": "code",
   "execution_count": null,
   "id": "000b6d0d",
   "metadata": {},
   "outputs": [],
   "source": [
    "# Add the code for your transformations to create nodes and edges DataFrames HERE"
   ]
  },
  {
   "cell_type": "markdown",
   "id": "e3a68775",
   "metadata": {},
   "source": [
    "# Writing Data in Neo4j"
   ]
  },
  {
   "cell_type": "code",
   "execution_count": null,
   "id": "d01d7a89",
   "metadata": {},
   "outputs": [],
   "source": [
    "# Add the code to write a graph from PySpark's DataFrames to Neo4j"
   ]
  },
  {
   "cell_type": "markdown",
   "id": "f30287ea",
   "metadata": {},
   "source": [
    "# Read and Query Graphs with PySpark"
   ]
  },
  {
   "cell_type": "code",
   "execution_count": null,
   "id": "03ca7b56",
   "metadata": {},
   "outputs": [],
   "source": [
    "# Add the code to read a data frame from Neo4J and run a simple query to verify \n"
   ]
  },
  {
   "cell_type": "code",
   "execution_count": null,
   "id": "9078a7dd",
   "metadata": {},
   "outputs": [],
   "source": [
    "sc.stop()"
   ]
  }
 ],
 "metadata": {
  "kernelspec": {
   "display_name": "Python 3 (ipykernel)",
   "language": "python",
   "name": "python3"
  },
  "language_info": {
   "codemirror_mode": {
    "name": "ipython",
    "version": 3
   },
   "file_extension": ".py",
   "mimetype": "text/x-python",
   "name": "python",
   "nbconvert_exporter": "python",
   "pygments_lexer": "ipython3",
   "version": "3.10.12"
  }
 },
 "nbformat": 4,
 "nbformat_minor": 5
}
