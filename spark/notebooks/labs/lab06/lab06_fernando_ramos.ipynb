{
 "cells": [
  {
   "cell_type": "markdown",
   "id": "b92d9622",
   "metadata": {},
   "source": [
    "# <center> <img src=\"../../img/ITESOLogo.png\" alt=\"ITESO\" width=\"480\" height=\"130\"> </center>\n",
    "# <center> **Departamento de Electrónica, Sistemas e Informática** </center>\n",
    "---\n",
    "## <center> Computer Systems Engineering  </center>\n",
    "---\n",
    "### <center> Big Data Processing </center>\n",
    "---\n",
    "#### <center> **Autumn 2025** </center>\n",
    "---\n",
    "\n",
    "**Lab 05**: Data pipeline with Neo4j\n",
    "\n",
    "**Date**: October 2nd 2025\n",
    "\n",
    "**Student Name**: Fernando Ramos\n",
    "\n",
    "**Professor**: Pablo Camarillo Ramirez"
   ]
  },
  {
   "cell_type": "markdown",
   "id": "7893c817",
   "metadata": {},
   "source": [
    "# Dataset description\n",
    "This dataset I will be using contains email communication details between employees of the same organization.\n",
    "\n",
    "**Nodes:**\n",
    "- Person: Represents employees with properties:\n",
    "  - id (email address)\n",
    "  - name\n",
    "  - department\n",
    "  - seniority\n",
    "\n",
    "**Edges (Relationships):**\n",
    "- SENT: Represents email communication \n",
    "  - Source: From_Name, From_Email\n",
    "  - Destination: To_Name, To_Name\n",
    "  - Properties: topic, date, sentiment, device, within_work_hours"
   ]
  },
  {
   "cell_type": "markdown",
   "id": "9b2e84c3",
   "metadata": {},
   "source": [
    "# Data ingestion"
   ]
  },
  {
   "cell_type": "code",
   "execution_count": 1,
   "id": "a5384861-d5a9-43bc-86e5-69fd2441cc30",
   "metadata": {},
   "outputs": [],
   "source": [
    "import findspark\n",
    "findspark.init()"
   ]
  },
  {
   "cell_type": "code",
   "execution_count": 2,
   "id": "ed17a0b0",
   "metadata": {},
   "outputs": [
    {
     "name": "stderr",
     "output_type": "stream",
     "text": [
      "WARNING: Using incubator modules: jdk.incubator.vector\n",
      ":: loading settings :: url = jar:file:/opt/spark/jars/ivy-2.5.3.jar!/org/apache/ivy/core/settings/ivysettings.xml\n",
      "Ivy Default Cache set to: /root/.ivy2.5.2/cache\n",
      "The jars for the packages stored in: /root/.ivy2.5.2/jars\n",
      "org.neo4j#neo4j-connector-apache-spark_2.13 added as a dependency\n",
      ":: resolving dependencies :: org.apache.spark#spark-submit-parent-fd5188fa-9055-417d-ab1c-ca2f3d6914b3;1.0\n",
      "\tconfs: [default]\n",
      "\tfound org.neo4j#neo4j-connector-apache-spark_2.13;5.3.10_for_spark_3 in central\n",
      "\tfound org.neo4j#neo4j-connector-apache-spark_2.13_common;5.3.10_for_spark_3 in central\n",
      "\tfound org.neo4j#caniuse-core;1.3.0 in central\n",
      "\tfound org.neo4j#caniuse-api;1.3.0 in central\n",
      "\tfound org.jetbrains.kotlin#kotlin-stdlib;2.1.20 in central\n",
      "\tfound org.jetbrains#annotations;13.0 in central\n",
      "\tfound org.neo4j#caniuse-neo4j-detection;1.3.0 in central\n",
      "\tfound org.neo4j.driver#neo4j-java-driver-slim;4.4.21 in central\n",
      "\tfound org.reactivestreams#reactive-streams;1.0.4 in central\n",
      "\tfound io.netty#netty-handler;4.1.127.Final in central\n",
      "\tfound io.netty#netty-common;4.1.127.Final in central\n",
      "\tfound io.netty#netty-resolver;4.1.127.Final in central\n",
      "\tfound io.netty#netty-buffer;4.1.127.Final in central\n",
      "\tfound io.netty#netty-transport;4.1.127.Final in central\n",
      "\tfound io.netty#netty-transport-native-unix-common;4.1.127.Final in central\n",
      "\tfound io.netty#netty-codec;4.1.127.Final in central\n",
      "\tfound io.netty#netty-tcnative-classes;2.0.73.Final in central\n",
      "\tfound io.projectreactor#reactor-core;3.6.11 in central\n",
      "\tfound org.neo4j#neo4j-cypher-dsl;2022.11.0 in central\n",
      "\tfound org.apiguardian#apiguardian-api;1.1.2 in central\n",
      "\tfound org.neo4j.connectors#commons-authn-spi;1.0.0-rc2 in central\n",
      "\tfound org.neo4j.connectors#commons-reauth-driver;1.0.0-rc2 in central\n",
      "\tfound org.slf4j#slf4j-api;2.0.17 in central\n",
      "\tfound org.neo4j.connectors#commons-authn-provided;1.0.0-rc2 in central\n",
      ":: resolution report :: resolve 835ms :: artifacts dl 33ms\n",
      "\t:: modules in use:\n",
      "\tio.netty#netty-buffer;4.1.127.Final from central in [default]\n",
      "\tio.netty#netty-codec;4.1.127.Final from central in [default]\n",
      "\tio.netty#netty-common;4.1.127.Final from central in [default]\n",
      "\tio.netty#netty-handler;4.1.127.Final from central in [default]\n",
      "\tio.netty#netty-resolver;4.1.127.Final from central in [default]\n",
      "\tio.netty#netty-tcnative-classes;2.0.73.Final from central in [default]\n",
      "\tio.netty#netty-transport;4.1.127.Final from central in [default]\n",
      "\tio.netty#netty-transport-native-unix-common;4.1.127.Final from central in [default]\n",
      "\tio.projectreactor#reactor-core;3.6.11 from central in [default]\n",
      "\torg.apiguardian#apiguardian-api;1.1.2 from central in [default]\n",
      "\torg.jetbrains#annotations;13.0 from central in [default]\n",
      "\torg.jetbrains.kotlin#kotlin-stdlib;2.1.20 from central in [default]\n",
      "\torg.neo4j#caniuse-api;1.3.0 from central in [default]\n",
      "\torg.neo4j#caniuse-core;1.3.0 from central in [default]\n",
      "\torg.neo4j#caniuse-neo4j-detection;1.3.0 from central in [default]\n",
      "\torg.neo4j#neo4j-connector-apache-spark_2.13;5.3.10_for_spark_3 from central in [default]\n",
      "\torg.neo4j#neo4j-connector-apache-spark_2.13_common;5.3.10_for_spark_3 from central in [default]\n",
      "\torg.neo4j#neo4j-cypher-dsl;2022.11.0 from central in [default]\n",
      "\torg.neo4j.connectors#commons-authn-provided;1.0.0-rc2 from central in [default]\n",
      "\torg.neo4j.connectors#commons-authn-spi;1.0.0-rc2 from central in [default]\n",
      "\torg.neo4j.connectors#commons-reauth-driver;1.0.0-rc2 from central in [default]\n",
      "\torg.neo4j.driver#neo4j-java-driver-slim;4.4.21 from central in [default]\n",
      "\torg.reactivestreams#reactive-streams;1.0.4 from central in [default]\n",
      "\torg.slf4j#slf4j-api;2.0.17 from central in [default]\n",
      "\t---------------------------------------------------------------------\n",
      "\t|                  |            modules            ||   artifacts   |\n",
      "\t|       conf       | number| search|dwnlded|evicted|| number|dwnlded|\n",
      "\t---------------------------------------------------------------------\n",
      "\t|      default     |   24  |   0   |   0   |   0   ||   24  |   0   |\n",
      "\t---------------------------------------------------------------------\n",
      ":: retrieving :: org.apache.spark#spark-submit-parent-fd5188fa-9055-417d-ab1c-ca2f3d6914b3\n",
      "\tconfs: [default]\n",
      "\t0 artifacts copied, 24 already retrieved (0kB/15ms)\n",
      "25/10/05 23:43:52 WARN NativeCodeLoader: Unable to load native-hadoop library for your platform... using builtin-java classes where applicable\n",
      "Using Spark's default log4j profile: org/apache/spark/log4j2-defaults.properties\n",
      "Setting default log level to \"WARN\".\n",
      "To adjust logging level use sc.setLogLevel(newLevel). For SparkR, use setLogLevel(newLevel).\n"
     ]
    }
   ],
   "source": [
    "from pyspark.sql import SparkSession\n",
    "from pyspark.sql.functions import avg, trim, col, count, isnull, when, lit, concat, round, asc, desc\n",
    "from datetime import datetime\n",
    "from fernandoramos.spark_utils import SparkUtils\n",
    "\n",
    "spark = SparkSession.builder \\\n",
    "    .appName(\"Examples on storage solutions with PosgreSQL\") \\\n",
    "    .master(\"spark://d3eb0343c341:7077\") \\\n",
    "    .config(\"spark.jars.packages\", \"org.neo4j:neo4j-connector-apache-spark_2.13:5.3.10_for_spark_3\") \\\n",
    "    .config(\"spark.ui.port\", \"4040\") \\\n",
    "    .getOrCreate()\n",
    "\n",
    "sc = spark.sparkContext\n",
    "sc.setLogLevel(\"ERROR\")"
   ]
  },
  {
   "cell_type": "markdown",
   "id": "f7c0034a-49aa-46eb-9058-f4ab4c63a992",
   "metadata": {},
   "source": [
    "## Dataset\n",
    "This dataset I will be using contains email communication between employees of the same organization.\n",
    "\n",
    "**Nodes:**\n",
    "- Person: Represents employees with properties:\n",
    "  - id (email address - unique identifier)\n",
    "  - name\n",
    "  - department\n",
    "  - seniority\n",
    "  - department_color\n",
    "  - department_aura\n",
    "\n",
    "**Edges (Relationships):**\n",
    "- SENT: Represents email communication \n",
    "  - Source: From_Name (sender)\n",
    "  - Destination: To_Name (recipient)\n",
    "  - Properties: topic, date, sentiment, device, within_work_hours"
   ]
  },
  {
   "cell_type": "code",
   "execution_count": 3,
   "id": "a93cd621",
   "metadata": {},
   "outputs": [],
   "source": [
    "# User (node) schema\n",
    "person_schema_columns = [\n",
    "    (\"Name\", \"string\"),\n",
    "    (\"Department\", \"string\"),\n",
    "    (\"email\", \"string\"),\n",
    "    (\"Base 64 Image\", \"string\"),\n",
    "    (\"Seniority\", \"string\"),\n",
    "    (\"Department color\", \"string\"),\n",
    "    (\"Department aura\", \"string\")\n",
    "]\n",
    "person_schema = SparkUtils.generate_schema(person_schema_columns)\n",
    "\n",
    "# Mail (edge) schema\n",
    "sent_schema_columns = [\n",
    "    (\"Email id\", \"int\"),\n",
    "    (\"From Name\", \"string\"),\n",
    "    (\"From seniority\", \"string\"),\n",
    "    (\"From Department\", \"string\"),\n",
    "    (\"To Name\", \"string\"),\n",
    "    (\"To seniority\", \"string\"),\n",
    "    (\"To Department\", \"string\"),\n",
    "    (\"Email topic\", \"string\"),\n",
    "    (\"Date\", \"date\"),\n",
    "    (\"Sentiment\", \"string\"),\n",
    "    (\"Is opened?\", \"string\"),\n",
    "    (\"Device\", \"string\"),\n",
    "    (\"Within work hours\", \"string\"),\n",
    "    (\"Within workdays\", \"string\")\n",
    "]\n",
    "sent_schema = SparkUtils.generate_schema(sent_schema_columns)\n",
    "\n",
    "base_path = \"/opt/spark/work-dir/data/mailing/\"\n",
    "df_person = spark.read \\\n",
    "           .option(\"header\", \"true\") \\\n",
    "           .schema(person_schema) \\\n",
    "           .csv(base_path + \"users.csv\")\n",
    "df_sent = spark.read \\\n",
    "           .option(\"header\", \"true\") \\\n",
    "           .schema(sent_schema) \\\n",
    "           .csv(base_path + \"mails.csv\")"
   ]
  },
  {
   "cell_type": "markdown",
   "id": "372e82d5",
   "metadata": {},
   "source": [
    "# Transformations"
   ]
  },
  {
   "cell_type": "code",
   "execution_count": 4,
   "id": "000b6d0d",
   "metadata": {},
   "outputs": [],
   "source": [
    "# These mapping will be used to join with person data \n",
    "# and retrieve their email addresses through names\n",
    "from_mapping = df_person.select(\n",
    "    col(\"Name\").alias(\"From Name\"),\n",
    "    col(\"email\").alias(\"from_email\")\n",
    ")\n",
    "to_mapping = df_person.select(\n",
    "    col(\"Name\").alias(\"To Name\"),\n",
    "    col(\"email\").alias(\"to_email\")\n",
    ")\n",
    "\n",
    "person_nodes = df_person.select(\n",
    "    col(\"email\").alias(\"id\"),\n",
    "    col(\"Name\").alias(\"name\"),\n",
    "    col(\"Department\").alias(\"department\"),\n",
    "    col(\"Seniority\").alias(\"seniority\")\n",
    ")\n",
    "\n",
    "sent_edges = df_sent \\\n",
    "    .join(from_mapping, \"From Name\") \\\n",
    "    .join(to_mapping, \"To Name\") \\\n",
    "    .select(\n",
    "        col(\"from_email\").alias(\"src\"),\n",
    "        col(\"to_email\").alias(\"dst\"),\n",
    "        col(\"Email topic\").alias(\"topic\"),\n",
    "        col(\"Date\").alias(\"date\"),\n",
    "        col(\"Sentiment\").alias(\"sentiment\"),\n",
    "        col(\"Is opened?\").alias(\"is_opened\"),\n",
    "        col(\"Device\").alias(\"device\"),\n",
    "        col(\"Within work hours\").alias(\"within_work_hours\"),\n",
    "        col(\"Within workdays\").alias(\"within_workdays\")\n",
    "    )"
   ]
  },
  {
   "cell_type": "markdown",
   "id": "e3a68775",
   "metadata": {},
   "source": [
    "# Writing Data in Neo4j"
   ]
  },
  {
   "cell_type": "code",
   "execution_count": 6,
   "id": "d01d7a89",
   "metadata": {},
   "outputs": [
    {
     "name": "stderr",
     "output_type": "stream",
     "text": [
      "                                                                                "
     ]
    }
   ],
   "source": [
    "# Add the code to write a graph from PySpark's DataFrames to Neo4j\n",
    "# Person nodes\n",
    "person_nodes.write \\\n",
    "    .format(\"org.neo4j.spark.DataSource\") \\\n",
    "    .option(\"url\", \"bolt://neo4j-iteso:7687\") \\\n",
    "    .option(\"authentication.basic.username\", \"neo4j\") \\\n",
    "    .option(\"authentication.basic.password\", \"neo4j@1234\") \\\n",
    "    .option(\"labels\", \":Person\") \\\n",
    "    .option(\"node.keys\", \"id\") \\\n",
    "    .mode(\"Overwrite\") \\\n",
    "    .save()\n",
    "\n",
    "# SENT relationships\n",
    "sent_edges.write \\\n",
    "    .format(\"org.neo4j.spark.DataSource\") \\\n",
    "    .option(\"url\", \"bolt://neo4j-iteso:7687\") \\\n",
    "    .option(\"authentication.basic.username\", \"neo4j\") \\\n",
    "    .option(\"authentication.basic.password\", \"neo4j@1234\") \\\n",
    "    .option(\"relationship\", \"SENT\") \\\n",
    "    .option(\"relationship.save.strategy\", \"keys\") \\\n",
    "    .option(\"relationship.source.labels\", \":Person\") \\\n",
    "    .option(\"relationship.source.node.keys\", \"src:id\") \\\n",
    "    .option(\"relationship.source.save.mode\", \"overwrite\") \\\n",
    "    .option(\"relationship.target.labels\", \":Person\") \\\n",
    "    .option(\"relationship.target.node.keys\", \"dst:id\") \\\n",
    "    .option(\"relationship.target.save.mode\", \"overwrite\") \\\n",
    "    .mode(\"Overwrite\") \\\n",
    "    .save()"
   ]
  },
  {
   "cell_type": "markdown",
   "id": "f30287ea",
   "metadata": {},
   "source": [
    "# Read and Query Graphs with PySpark"
   ]
  },
  {
   "cell_type": "code",
   "execution_count": 7,
   "id": "03ca7b56",
   "metadata": {},
   "outputs": [
    {
     "name": "stdout",
     "output_type": "stream",
     "text": [
      "+--------------------+--------------------+-----------+\n",
      "|         sender_name|          department|emails_sent|\n",
      "+--------------------+--------------------+-----------+\n",
      "|Constancia Di Bar...|Executive Management|         46|\n",
      "|        Reina Trobey|Information Techn...|         21|\n",
      "|      Marilyn Seeman|Information Techn...|         14|\n",
      "|      Emmey Matoshin|               Sales|         11|\n",
      "|        Leona McAree|Executive Management|         10|\n",
      "|       Faythe Vassel|               Legal|         10|\n",
      "|     Maurine Golding|               Legal|         10|\n",
      "|       Jorey Deguara| Product development|          7|\n",
      "|      Mata McGifford|    Customer Service|          7|\n",
      "|        Traci Habbal|           Marketing|          6|\n",
      "+--------------------+--------------------+-----------+\n",
      "only showing top 10 rows\n"
     ]
    }
   ],
   "source": [
    "# Retrieve top 10 email senders\n",
    "query_top_senders = \"\"\"\n",
    "MATCH (sender:Person)-[r:SENT]->(receiver:Person)\n",
    "RETURN sender.name AS sender_name, \n",
    "       sender.department AS department,\n",
    "       count(r) AS emails_sent\n",
    "ORDER BY emails_sent DESC\n",
    "\"\"\"\n",
    "\n",
    "df_top_senders = spark.read \\\n",
    "    .format(\"org.neo4j.spark.DataSource\") \\\n",
    "    .option(\"url\", \"bolt://neo4j-iteso:7687\") \\\n",
    "    .option(\"authentication.basic.username\", \"neo4j\") \\\n",
    "    .option(\"authentication.basic.password\", \"neo4j@1234\") \\\n",
    "    .option(\"query\", query_top_senders) \\\n",
    "    .load()\n",
    "\n",
    "df_top_senders.show(10)"
   ]
  },
  {
   "cell_type": "code",
   "execution_count": 8,
   "id": "66ea74e8-ed14-4e1e-8e64-b299884dbfe7",
   "metadata": {},
   "outputs": [
    {
     "name": "stdout",
     "output_type": "stream",
     "text": [
      "+---------+-----+\n",
      "|sentiment|count|\n",
      "+---------+-----+\n",
      "|  neutral|  159|\n",
      "| positive|   80|\n",
      "| negative|   25|\n",
      "+---------+-----+\n",
      "\n"
     ]
    }
   ],
   "source": [
    "# Retrieve sentiment analysis\n",
    "query_sentiment = \"\"\"\n",
    "MATCH (sender:Person)-[r:SENT]->(receiver:Person)\n",
    "RETURN r.sentiment AS sentiment,\n",
    "       count(r) AS count\n",
    "ORDER BY count DESC\n",
    "\"\"\"\n",
    "\n",
    "df_sentiment = spark.read \\\n",
    "    .format(\"org.neo4j.spark.DataSource\") \\\n",
    "    .option(\"url\", \"bolt://neo4j-iteso:7687\") \\\n",
    "    .option(\"authentication.basic.username\", \"neo4j\") \\\n",
    "    .option(\"authentication.basic.password\", \"neo4j@1234\") \\\n",
    "    .option(\"query\", query_sentiment) \\\n",
    "    .load()\n",
    "\n",
    "df_sentiment.show()"
   ]
  },
  {
   "cell_type": "code",
   "execution_count": 9,
   "id": "9078a7dd",
   "metadata": {},
   "outputs": [],
   "source": [
    "sc.stop()"
   ]
  },
  {
   "cell_type": "code",
   "execution_count": null,
   "id": "d338ce9b-c1f3-4e8e-95f7-e768bba1b8dd",
   "metadata": {},
   "outputs": [],
   "source": []
  }
 ],
 "metadata": {
  "kernelspec": {
   "display_name": "Python 3 (ipykernel)",
   "language": "python",
   "name": "python3"
  },
  "language_info": {
   "codemirror_mode": {
    "name": "ipython",
    "version": 3
   },
   "file_extension": ".py",
   "mimetype": "text/x-python",
   "name": "python",
   "nbconvert_exporter": "python",
   "pygments_lexer": "ipython3",
   "version": "3.10.12"
  }
 },
 "nbformat": 4,
 "nbformat_minor": 5
}
