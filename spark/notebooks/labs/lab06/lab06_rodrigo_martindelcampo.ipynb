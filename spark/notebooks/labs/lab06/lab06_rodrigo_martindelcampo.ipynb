{
 "cells": [
  {
   "cell_type": "markdown",
   "id": "b92d9622",
   "metadata": {},
   "source": [
    "# <center> <img src=\"../../img/ITESOLogo.png\" alt=\"ITESO\" width=\"480\" height=\"130\"> </center>\n",
    "# <center> **Departamento de Electrónica, Sistemas e Informática** </center>\n",
    "---\n",
    "## <center> Computer Systems Engineering  </center>\n",
    "---\n",
    "### <center> Big Data Processing </center>\n",
    "---\n",
    "#### <center> **Autumn 2025** </center>\n",
    "---\n",
    "\n",
    "**Lab 05**: Data pipeline with Neo4j\n",
    "\n",
    "**Date**: October 2nd 2025\n",
    "\n",
    "**Student Name**: Rodrigo Martín del Campo\n",
    "\n",
    "**Professor**: Pablo Camarillo Ramirez"
   ]
  },
  {
   "cell_type": "markdown",
   "id": "7893c817",
   "metadata": {},
   "source": [
    "# Dataset description\n",
    "\n",
    "\n",
    "The dataset I chose contains heroes and comics, and the relationship between them, it works with two CSV files:\n",
    "\n",
    "- **`nodes.csv`** — columns: `node` (name of the hero or comic), `type` (`hero` or `comic`).\n",
    "- **`edges.csv`** — columns: `hero`, `comic` (each row means that hero appears in that comic) `(:Hero)-[:APPEARS_IN]->(:Comic)` (where the hero is the source and comic the destination).\n",
    "\n"
   ]
  },
  {
   "cell_type": "markdown",
   "id": "9b2e84c3",
   "metadata": {},
   "source": [
    "# Data ingestion"
   ]
  },
  {
   "cell_type": "code",
   "execution_count": 22,
   "id": "ed17a0b0",
   "metadata": {},
   "outputs": [],
   "source": [
    "import findspark\n",
    "findspark.init()\n",
    "\n",
    "from pyspark.sql import SparkSession\n",
    "\n",
    "spark = SparkSession.builder \\\n",
    "    .appName(\"Examples on storage solutions with Neo4j\") \\\n",
    "    .master(\"spark://7239a1f7373c:7077\") \\\n",
    "    .config(\"spark.jars.packages\", \"org.neo4j:neo4j-connector-apache-spark_2.13:5.3.10_for_spark_3\") \\\n",
    "    .config(\"spark.ui.port\", \"4040\") \\\n",
    "    .getOrCreate()\n",
    "\n",
    "sc = spark.sparkContext\n",
    "sc.setLogLevel(\"ERROR\")"
   ]
  },
  {
   "cell_type": "code",
   "execution_count": 16,
   "id": "a93cd621",
   "metadata": {},
   "outputs": [
    {
     "name": "stderr",
     "output_type": "stream",
     "text": [
      "                                                                                \r"
     ]
    },
    {
     "name": "stdout",
     "output_type": "stream",
     "text": [
      "+--------------------+-----+\n",
      "|                node| type|\n",
      "+--------------------+-----+\n",
      "|             2001 10|comic|\n",
      "|              2001 8|comic|\n",
      "|              2001 9|comic|\n",
      "|24-HOUR MAN/EMMANUEL| hero|\n",
      "|3-D MAN/CHARLES CHAN| hero|\n",
      "+--------------------+-----+\n",
      "only showing top 5 rows\n",
      "+--------------------+------+\n",
      "|                hero| comic|\n",
      "+--------------------+------+\n",
      "|24-HOUR MAN/EMMANUEL|AA2 35|\n",
      "|3-D MAN/CHARLES CHAN| AVF 4|\n",
      "|3-D MAN/CHARLES CHAN| AVF 5|\n",
      "|3-D MAN/CHARLES CHAN| COC 1|\n",
      "|3-D MAN/CHARLES CHAN|H2 251|\n",
      "+--------------------+------+\n",
      "only showing top 5 rows\n"
     ]
    }
   ],
   "source": [
    "# Build schema\n",
    "# Import your module\n",
    "from martindelcampo.spark_utils import SparkUtils \n",
    "\n",
    "base_path = \"/opt/spark/work-dir/data/\" \n",
    "\n",
    "schema_nodes = SparkUtils.generate_schema([\n",
    "    (\"node\", \"string\"),  # id/name of the hero or comic\n",
    "    (\"type\", \"string\")   # hero or comic\n",
    "])\n",
    "\n",
    "schema_edges = SparkUtils.generate_schema([\n",
    "    (\"hero\", \"string\"),  # source column\n",
    "    (\"comic\", \"string\")  # destination column\n",
    "])\n",
    "\n",
    "df_nodes = spark.read.schema(schema_nodes).option(\"header\", True).csv(base_path + \"marvel_network/nodes\")\n",
    "df_edges = spark.read.schema(schema_edges).option(\"header\", True).csv(base_path + \"marvel_network/edges\")\n",
    "\n",
    "df_nodes.show(5)\n",
    "df_edges.show(5)   \n"
   ]
  },
  {
   "cell_type": "markdown",
   "id": "372e82d5",
   "metadata": {},
   "source": [
    "# Transformations"
   ]
  },
  {
   "cell_type": "code",
   "execution_count": 17,
   "id": "000b6d0d",
   "metadata": {},
   "outputs": [
    {
     "name": "stdout",
     "output_type": "stream",
     "text": [
      "+--------------------+--------+\n",
      "|src                 |dst     |\n",
      "+--------------------+--------+\n",
      "|24-HOUR MAN/EMMANUEL|AA2 35  |\n",
      "|3-D MAN/CHARLES CHAN|AVF 4   |\n",
      "|3-D MAN/CHARLES CHAN|AVF 5   |\n",
      "|3-D MAN/CHARLES CHAN|COC 1   |\n",
      "|3-D MAN/CHARLES CHAN|H2 251  |\n",
      "|3-D MAN/CHARLES CHAN|H2 252  |\n",
      "|3-D MAN/CHARLES CHAN|M/PRM 35|\n",
      "|3-D MAN/CHARLES CHAN|M/PRM 36|\n",
      "|3-D MAN/CHARLES CHAN|M/PRM 37|\n",
      "|3-D MAN/CHARLES CHAN|WI? 9   |\n",
      "|4-D MAN/MERCURIO    |CA3 36  |\n",
      "|4-D MAN/MERCURIO    |CM 51   |\n",
      "|4-D MAN/MERCURIO    |Q 14    |\n",
      "|4-D MAN/MERCURIO    |Q 16    |\n",
      "|4-D MAN/MERCURIO    |T 208   |\n",
      "|4-D MAN/MERCURIO    |T 214   |\n",
      "|4-D MAN/MERCURIO    |T 215   |\n",
      "|4-D MAN/MERCURIO    |T 216   |\n",
      "|4-D MAN/MERCURIO    |T 440   |\n",
      "|8-BALL/             |SLEEP 1 |\n",
      "+--------------------+--------+\n",
      "only showing top 20 rows\n"
     ]
    }
   ],
   "source": [
    "# Add the code for your transformations to create nodes and edges DataFrames HERE\n",
    "# The transformations for the datesets I chose aren't really necessary since the edges csv already contains the source and destination columns (it's a very straightforward dataset)\n",
    "# But I will do them anyway to show how to create nodes and edges DataFrames\n",
    "from pyspark.sql.functions import col\n",
    "\n",
    "# Hero Nodes\n",
    "hero_nodes = df_nodes.where(col(\"type\") == \"hero\").select(\n",
    "    col(\"node\").alias(\"id\"),      \n",
    "    col(\"node\").alias(\"name\")     \n",
    ").dropDuplicates([\"id\"])\n",
    "\n",
    "# Comic Nodes\n",
    "comic_nodes = df_nodes.where(col(\"type\") == \"comic\").select(\n",
    "    col(\"node\").alias(\"id\"),      \n",
    "    col(\"node\").alias(\"title\")   \n",
    ").dropDuplicates([\"id\"])\n",
    "\n",
    "# APPEARS_IN: relationships between Hero -> Comic\n",
    "appears_in_edges = df_edges.select(\n",
    "    col(\"hero\").alias(\"src\"),   # source node (Hero)\n",
    "    col(\"comic\").alias(\"dst\")   # destination node (Comic)\n",
    ")\n",
    "appears_in_edges.show(truncate=False)"
   ]
  },
  {
   "cell_type": "markdown",
   "id": "e3a68775",
   "metadata": {},
   "source": [
    "# Writing Data in Neo4j"
   ]
  },
  {
   "cell_type": "code",
   "execution_count": 18,
   "id": "d01d7a89",
   "metadata": {},
   "outputs": [
    {
     "name": "stderr",
     "output_type": "stream",
     "text": [
      "                                                                                \r"
     ]
    },
    {
     "name": "stdout",
     "output_type": "stream",
     "text": [
      "6439 Hero nodes wrote in Neo4j\n"
     ]
    },
    {
     "name": "stderr",
     "output_type": "stream",
     "text": [
      "                                                                                \r"
     ]
    },
    {
     "name": "stdout",
     "output_type": "stream",
     "text": [
      "12651 Comic nodes wrote in Neo4j\n"
     ]
    },
    {
     "name": "stderr",
     "output_type": "stream",
     "text": [
      "                                                                                \r"
     ]
    },
    {
     "name": "stdout",
     "output_type": "stream",
     "text": [
      "65058 APPEARS_IN edges wrote in Neo4j\n"
     ]
    }
   ],
   "source": [
    "# Add the code to write a graph from PySpark's DataFrames to Neo4j\n",
    "neo4j_url = \"bolt://neo4j-iteso:7687\"\n",
    "neo4j_user = \"neo4j\"\n",
    "neo4j_passwd = \"neo4j@1234\"\n",
    "\n",
    "# Write the hero nodes\n",
    "hero_nodes.write \\\n",
    "  .format(\"org.neo4j.spark.DataSource\") \\\n",
    "  .mode(\"Overwrite\") \\\n",
    "  .option(\"url\", neo4j_url) \\\n",
    "  .option(\"authentication.basic.username\", neo4j_user) \\\n",
    "  .option(\"authentication.basic.password\", neo4j_passwd) \\\n",
    "  .option(\"labels\", \":Hero\") \\\n",
    "  .option(\"node.keys\", \"id\") \\\n",
    "  .save()\n",
    "\n",
    "print(f\"{hero_nodes.count()} Hero nodes wrote in Neo4j\")\n",
    "\n",
    "\n",
    "# 2) Write the comic nodes\n",
    "comic_nodes.write \\\n",
    "  .format(\"org.neo4j.spark.DataSource\") \\\n",
    "  .mode(\"Overwrite\") \\\n",
    "  .option(\"url\", neo4j_url) \\\n",
    "  .option(\"authentication.basic.username\", neo4j_user) \\\n",
    "  .option(\"authentication.basic.password\", neo4j_passwd) \\\n",
    "  .option(\"labels\", \":Comic\") \\\n",
    "  .option(\"node.keys\", \"id\") \\\n",
    "  .save()\n",
    "\n",
    "print(f\"{comic_nodes.count()} Comic nodes wrote in Neo4j\")\n",
    "\n",
    "\n",
    "# 3) Write the APPEARS_IN relationships\n",
    "appears_in_edges.write \\\n",
    "  .format(\"org.neo4j.spark.DataSource\") \\\n",
    "  .mode(\"Overwrite\") \\\n",
    "  .option(\"url\", neo4j_url) \\\n",
    "  .option(\"authentication.basic.username\", neo4j_user) \\\n",
    "  .option(\"authentication.basic.password\", neo4j_passwd) \\\n",
    "  .option(\"relationship\", \"APPEARS_IN\") \\\n",
    "  .option(\"relationship.save.strategy\", \"keys\") \\\n",
    "  .option(\"relationship.source.labels\", \":Hero\") \\\n",
    "  .option(\"relationship.source.save.mode\", \"match\") \\\n",
    "  .option(\"relationship.source.node.keys\", \"src:id\") \\\n",
    "  .option(\"relationship.target.labels\", \":Comic\") \\\n",
    "  .option(\"relationship.target.save.mode\", \"match\") \\\n",
    "  .option(\"relationship.target.node.keys\", \"dst:id\") \\\n",
    "  .save()\n",
    "\n",
    "print(f\"{appears_in_edges.count()} APPEARS_IN edges wrote in Neo4j\")\n"
   ]
  },
  {
   "cell_type": "markdown",
   "id": "f30287ea",
   "metadata": {},
   "source": [
    "# Read and Query Graphs with PySpark"
   ]
  },
  {
   "cell_type": "code",
   "execution_count": 23,
   "id": "03ca7b56",
   "metadata": {},
   "outputs": [
    {
     "name": "stdout",
     "output_type": "stream",
     "text": [
      "Heroes that appear in comic 'W2 10':\n"
     ]
    },
    {
     "name": "stderr",
     "output_type": "stream",
     "text": [
      "[Stage 0:>                                                          (0 + 1) / 1]\r"
     ]
    },
    {
     "name": "stdout",
     "output_type": "stream",
     "text": [
      "+--------------------+\n",
      "|hero                |\n",
      "+--------------------+\n",
      "|MCCABE, LINDSAY     |\n",
      "|SPIDER-WOMAN/JESSICA|\n",
      "|TAI                 |\n",
      "|WOLVERINE/LOGAN     |\n",
      "+--------------------+\n",
      "\n"
     ]
    },
    {
     "name": "stderr",
     "output_type": "stream",
     "text": [
      "                                                                                \r"
     ]
    }
   ],
   "source": [
    "# Add the code to read a data frame from Neo4J and run a simple query to verify \n",
    "heroes_in_w2_10 = spark.read \\\n",
    "  .format(\"org.neo4j.spark.DataSource\") \\\n",
    "  .option(\"url\", neo4j_url) \\\n",
    "  .option(\"authentication.basic.username\", neo4j_user) \\\n",
    "  .option(\"authentication.basic.password\", neo4j_passwd) \\\n",
    "  .option(\"query\", \"\"\"\n",
    "      MATCH (h:Hero)-[:APPEARS_IN]->(c:Comic)\n",
    "      WHERE c.id = 'W2 10'\n",
    "      RETURN h.id AS hero\n",
    "      ORDER BY hero\n",
    "  \"\"\") \\\n",
    "  .load()\n",
    "\n",
    "print(\"Heroes that appear in comic 'W2 10':\")\n",
    "heroes_in_w2_10.show(truncate=False)"
   ]
  },
  {
   "cell_type": "code",
   "execution_count": 24,
   "id": "9078a7dd",
   "metadata": {},
   "outputs": [],
   "source": [
    "sc.stop()"
   ]
  }
 ],
 "metadata": {
  "kernelspec": {
   "display_name": "Python 3 (ipykernel)",
   "language": "python",
   "name": "python3"
  },
  "language_info": {
   "codemirror_mode": {
    "name": "ipython",
    "version": 3
   },
   "file_extension": ".py",
   "mimetype": "text/x-python",
   "name": "python",
   "nbconvert_exporter": "python",
   "pygments_lexer": "ipython3",
   "version": "3.10.12"
  }
 },
 "nbformat": 4,
 "nbformat_minor": 5
}
