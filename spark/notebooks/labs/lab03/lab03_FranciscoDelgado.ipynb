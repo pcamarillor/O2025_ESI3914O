{
 "cells": [
  {
   "cell_type": "markdown",
   "id": "b92d9622",
   "metadata": {},
   "source": [
    "# <center> <img src=\"../../img/ITESOLogo.png\" alt=\"ITESO\" width=\"480\" height=\"130\"> </center>\n",
    "# <center> **Departamento de Electrónica, Sistemas e Informática** </center>\n",
    "---\n",
    "## <center> Computer Systems Engineering  </center>\n",
    "---\n",
    "### <center> Big Data Processing </center>\n",
    "---\n",
    "#### <center> **Autumn 2025** </center>\n",
    "---\n",
    "\n",
    "**Lab 03**: Data Cleaning and Transformation Pipeline\n",
    "\n",
    "**Date**: September 18th 2025\n",
    "\n",
    "**Student Name**: Francisco Delgado\n",
    "\n",
    "**Professor**: Pablo Camarillo Ramirez"
   ]
  },
  {
   "cell_type": "code",
   "execution_count": 1,
   "id": "546462aa-00c7-418b-ab00-6794b28b6e7d",
   "metadata": {},
   "outputs": [],
   "source": [
    "import findspark\n",
    "findspark.init()"
   ]
  },
  {
   "cell_type": "code",
   "execution_count": 2,
   "id": "8c59ed86-8fb9-47b5-a114-ee3b99adbd75",
   "metadata": {},
   "outputs": [
    {
     "name": "stderr",
     "output_type": "stream",
     "text": [
      "WARNING: Using incubator modules: jdk.incubator.vector\n",
      "Using Spark's default log4j profile: org/apache/spark/log4j2-defaults.properties\n",
      "Setting default log level to \"WARN\".\n",
      "To adjust logging level use sc.setLogLevel(newLevel). For SparkR, use setLogLevel(newLevel).\n",
      "25/10/02 04:42:46 WARN NativeCodeLoader: Unable to load native-hadoop library for your platform... using builtin-java classes where applicable\n"
     ]
    }
   ],
   "source": [
    "from pyspark.sql import SparkSession\n",
    "\n",
    "spark = SparkSession.builder \\\n",
    "    .appName(\"Examples on data sources (Files)\") \\\n",
    "    .master(\"spark://9eae4bedccb3:7077\") \\\n",
    "    .config(\"spark.ui.port\", \"4040\") \\\n",
    "    .getOrCreate()\n",
    "\n",
    "sc = spark.sparkContext\n",
    "sc.setLogLevel(\"ERROR\")"
   ]
  },
  {
   "cell_type": "code",
   "execution_count": 3,
   "id": "896841f8-a1bd-4abe-b7c0-6b279a58667b",
   "metadata": {},
   "outputs": [],
   "source": [
    "from pyspark.sql.types import (\n",
    "    StructType, StructField, StringType, IntegerType, FloatType,\n",
    "    DoubleType, LongType, ShortType, DecimalType\n",
    ")\n",
    "from pyspark.sql.functions import col, when, count, isnan, lit, concat, udf\n",
    "\n",
    "NUMERIC_TYPES = (DoubleType, FloatType, IntegerType, LongType, ShortType, DecimalType)\n",
    "\n",
    "def count_nulls(df):\n",
    "    exprs = []\n",
    "    for field in df.schema.fields:\n",
    "        c = field.name\n",
    "        if isinstance(field.dataType, NUMERIC_TYPES):\n",
    "            exprs.append(count(when(col(c).isNull() | isnan(col(c)), c)).alias(c))\n",
    "        else:\n",
    "            exprs.append(count(when(col(c).isNull(), c)).alias(c))\n",
    "    return df.select(exprs)\n",
    "\n"
   ]
  },
  {
   "cell_type": "code",
   "execution_count": 4,
   "id": "c24383fa-5efe-4afd-9c83-4f74712e2f71",
   "metadata": {},
   "outputs": [
    {
     "data": {
      "text/plain": [
       "StructType([StructField('index', IntegerType(), True), StructField('airline', StringType(), True), StructField('flight', StringType(), True), StructField('source_city', StringType(), True), StructField('departure_time', StringType(), True), StructField('stops', StringType(), True), StructField('arrival_time', StringType(), True), StructField('destination_city', StringType(), True), StructField('class', StringType(), True), StructField('duration', FloatType(), True), StructField('days_left', IntegerType(), True), StructField('price', IntegerType(), True)])"
      ]
     },
     "execution_count": 4,
     "metadata": {},
     "output_type": "execute_result"
    }
   ],
   "source": [
    "airlines_schema = StructType([\n",
    "    StructField(\"index\", IntegerType(), True),\n",
    "    StructField(\"airline\", StringType(), True),\n",
    "    StructField(\"flight\", StringType(), True),\n",
    "    StructField(\"source_city\", StringType(), True),\n",
    "    StructField(\"departure_time\", StringType(), True),\n",
    "    StructField(\"stops\", StringType(), True),\n",
    "    StructField(\"arrival_time\", StringType(), True),\n",
    "    StructField(\"destination_city\", StringType(), True),\n",
    "    StructField(\"class\", StringType(), True),\n",
    "    StructField(\"duration\", FloatType(), True),\n",
    "    StructField(\"days_left\", IntegerType(), True),\n",
    "    StructField(\"price\", IntegerType(), True),\n",
    "])\n",
    "airlines_schema\n"
   ]
  },
  {
   "cell_type": "code",
   "execution_count": 5,
   "id": "e534eb92-1761-4b97-877c-0be8a351fbdb",
   "metadata": {},
   "outputs": [
    {
     "name": "stderr",
     "output_type": "stream",
     "text": [
      "[Stage 0:>                                                          (0 + 1) / 1]"
     ]
    },
    {
     "name": "stdout",
     "output_type": "stream",
     "text": [
      "+-----+--------+-------+-----------+--------------+-----+-------------+----------------+-------+--------+---------+-----+\n",
      "|index| airline| flight|source_city|departure_time|stops| arrival_time|destination_city|  class|duration|days_left|price|\n",
      "+-----+--------+-------+-----------+--------------+-----+-------------+----------------+-------+--------+---------+-----+\n",
      "|    0|SpiceJet|SG-8709|      Delhi|       Evening| zero|        Night|          Mumbai|Economy|    2.17|        1| 5953|\n",
      "|    1|SpiceJet|SG-8157|      Delhi| Early_Morning| zero|      Morning|          Mumbai|Economy|    2.33|        1| 5953|\n",
      "|    2| AirAsia| I5-764|      Delhi| Early_Morning| zero|Early_Morning|          Mumbai|Economy|    2.17|        1| 5956|\n",
      "|    3| Vistara| UK-995|      Delhi|       Morning| zero|    Afternoon|          Mumbai|Economy|    2.25|        1| 5955|\n",
      "|    4| Vistara| UK-963|      Delhi|       Morning| zero|      Morning|          Mumbai|Economy|    2.33|        1| 5955|\n",
      "+-----+--------+-------+-----------+--------------+-----+-------------+----------------+-------+--------+---------+-----+\n",
      "only showing top 5 rows\n",
      "root\n",
      " |-- index: integer (nullable = true)\n",
      " |-- airline: string (nullable = true)\n",
      " |-- flight: string (nullable = true)\n",
      " |-- source_city: string (nullable = true)\n",
      " |-- departure_time: string (nullable = true)\n",
      " |-- stops: string (nullable = true)\n",
      " |-- arrival_time: string (nullable = true)\n",
      " |-- destination_city: string (nullable = true)\n",
      " |-- class: string (nullable = true)\n",
      " |-- duration: float (nullable = true)\n",
      " |-- days_left: integer (nullable = true)\n",
      " |-- price: integer (nullable = true)\n",
      "\n"
     ]
    },
    {
     "name": "stderr",
     "output_type": "stream",
     "text": [
      "                                                                                "
     ]
    }
   ],
   "source": [
    "DATA_PATH = \"/opt/spark/work-dir/data/airline/\"  # change if needed\n",
    "df = spark.read \\\n",
    "    .option(\"header\", \"true\") \\\n",
    "    .schema(airlines_schema) \\\n",
    "    .csv(DATA_PATH)\n",
    "df.show(5)\n",
    "df.printSchema()"
   ]
  },
  {
   "cell_type": "code",
   "execution_count": 6,
   "id": "5f89e54f",
   "metadata": {
    "scrolled": true
   },
   "outputs": [
    {
     "name": "stdout",
     "output_type": "stream",
     "text": [
      "Nulls BEFORE cleaning:\n"
     ]
    },
    {
     "name": "stderr",
     "output_type": "stream",
     "text": [
      "                                                                                "
     ]
    },
    {
     "name": "stdout",
     "output_type": "stream",
     "text": [
      "+-----+-------+------+-----------+--------------+-----+------------+----------------+-----+--------+---------+-----+\n",
      "|index|airline|flight|source_city|departure_time|stops|arrival_time|destination_city|class|duration|days_left|price|\n",
      "+-----+-------+------+-----------+--------------+-----+------------+----------------+-----+--------+---------+-----+\n",
      "|0    |0      |0     |0          |0             |0    |0           |0               |0    |0       |0        |0    |\n",
      "+-----+-------+------+-----------+--------------+-----+------------+----------------+-----+--------+---------+-----+\n",
      "\n",
      "Nulls AFTER cleaning:\n"
     ]
    },
    {
     "name": "stderr",
     "output_type": "stream",
     "text": [
      "[Stage 4:=============================>                             (1 + 1) / 2]"
     ]
    },
    {
     "name": "stdout",
     "output_type": "stream",
     "text": [
      "+-----+-------+------+-----------+--------------+-----+------------+----------------+-----+--------+---------+-----+\n",
      "|index|airline|flight|source_city|departure_time|stops|arrival_time|destination_city|class|duration|days_left|price|\n",
      "+-----+-------+------+-----------+--------------+-----+------------+----------------+-----+--------+---------+-----+\n",
      "|0    |0      |0     |0          |0             |0    |0           |0               |0    |0       |0        |0    |\n",
      "+-----+-------+------+-----------+--------------+-----+------------+----------------+-----+--------+---------+-----+\n",
      "\n"
     ]
    },
    {
     "name": "stderr",
     "output_type": "stream",
     "text": [
      "                                                                                "
     ]
    }
   ],
   "source": [
    "print(\"Nulls BEFORE cleaning:\")\n",
    "count_nulls(df).show(truncate=False)\n",
    "\n",
    "cols_to_drop = []  # e.g., [\"index\", \"flight\"]\n",
    "df_clean = df.drop(*cols_to_drop)\n",
    "\n",
    "print(\"Nulls AFTER cleaning:\")\n",
    "count_nulls(df_clean).show(truncate=False)"
   ]
  },
  {
   "cell_type": "code",
   "execution_count": 7,
   "id": "41d6cc43",
   "metadata": {},
   "outputs": [
    {
     "name": "stdout",
     "output_type": "stream",
     "text": [
      "+--------+-------+--------------+-----+-------+--------------+-----------+-------------+-----------+-----+------------+\n",
      "|airline |flight |route         |stops|stops_n|departure_time|dep_time_id|arrival_time |arr_time_id|price|is_expensive|\n",
      "+--------+-------+--------------+-----+-------+--------------+-----------+-------------+-----------+-----+------------+\n",
      "|SpiceJet|SG-8709|Delhi → Mumbai|zero |0      |Evening       |3          |Night        |4          |5953 |false       |\n",
      "|SpiceJet|SG-8157|Delhi → Mumbai|zero |0      |Early_Morning |0          |Morning      |1          |5953 |false       |\n",
      "|AirAsia |I5-764 |Delhi → Mumbai|zero |0      |Early_Morning |0          |Early_Morning|0          |5956 |false       |\n",
      "|Vistara |UK-995 |Delhi → Mumbai|zero |0      |Morning       |1          |Afternoon    |2          |5955 |false       |\n",
      "|Vistara |UK-963 |Delhi → Mumbai|zero |0      |Morning       |1          |Morning      |1          |5955 |false       |\n",
      "|Vistara |UK-945 |Delhi → Mumbai|zero |0      |Morning       |1          |Afternoon    |2          |5955 |false       |\n",
      "|Vistara |UK-927 |Delhi → Mumbai|zero |0      |Morning       |1          |Morning      |1          |6060 |true        |\n",
      "|Vistara |UK-951 |Delhi → Mumbai|zero |0      |Afternoon     |2          |Evening      |3          |6060 |true        |\n",
      "|GO_FIRST|G8-334 |Delhi → Mumbai|zero |0      |Early_Morning |0          |Morning      |1          |5954 |false       |\n",
      "|GO_FIRST|G8-336 |Delhi → Mumbai|zero |0      |Afternoon     |2          |Evening      |3          |5954 |false       |\n",
      "+--------+-------+--------------+-----+-------+--------------+-----------+-------------+-----------+-----+------------+\n",
      "only showing top 10 rows\n"
     ]
    },
    {
     "name": "stderr",
     "output_type": "stream",
     "text": [
      "                                                                                "
     ]
    }
   ],
   "source": [
    "stops_map = {\n",
    "    \"non-stop\": 0, \"nonstop\": 0, \"zero\": 0, \"0\": 0,\n",
    "    \"one\": 1, \"1\": 1,\n",
    "    \"two\": 2, \"2\": 2,\n",
    "    \"three\": 3, \"3\": 3\n",
    "}\n",
    "def norm_stops(s):\n",
    "    if s is None:\n",
    "        return None\n",
    "    key = s.strip().lower()\n",
    "    return stops_map.get(key, None)\n",
    "from pyspark.sql.types import IntegerType\n",
    "norm_stops_udf = udf(norm_stops, IntegerType())\n",
    "\n",
    "# 5.2 Time category encoding\n",
    "time_order = [\n",
    "    \"Early_Morning\", \"Morning\", \"Afternoon\", \"Evening\", \"Night\", \"Late_Night\"\n",
    "]\n",
    "time_to_id = {name: i for i, name in enumerate(time_order)}\n",
    "def encode_time_bucket(s):\n",
    "    if s is None:\n",
    "        return None\n",
    "    return time_to_id.get(s.strip(), None)\n",
    "encode_time_udf = udf(encode_time_bucket, IntegerType())\n",
    "\n",
    "df_tr = (\n",
    "    df_clean\n",
    "    .withColumn(\"stops_n\", norm_stops_udf(col(\"stops\")))\n",
    "    .withColumn(\"route\", concat(col(\"source_city\"), lit(\" → \"), col(\"destination_city\")))\n",
    "    .withColumn(\"dep_time_id\", encode_time_udf(col(\"departure_time\")))\n",
    "    .withColumn(\"arr_time_id\", encode_time_udf(col(\"arrival_time\")))\n",
    "    .withColumn(\"is_expensive\", (col(\"price\") > 6000))\n",
    ")\n",
    "df_tr.select(\"airline\",\"flight\",\"route\",\"stops\",\"stops_n\",\"departure_time\",\"dep_time_id\",\"arrival_time\",\"arr_time_id\",\"price\",\"is_expensive\").show(10, truncate=False)\n",
    "\n"
   ]
  },
  {
   "cell_type": "code",
   "execution_count": 8,
   "id": "cccd9421",
   "metadata": {},
   "outputs": [
    {
     "name": "stderr",
     "output_type": "stream",
     "text": [
      "                                                                                "
     ]
    },
    {
     "name": "stdout",
     "output_type": "stream",
     "text": [
      "+---------+------------------+\n",
      "|airline  |avg_price         |\n",
      "+---------+------------------+\n",
      "|Vistara  |30396.53630170735 |\n",
      "|Air_India|23507.01911190229 |\n",
      "|SpiceJet |6179.278881367218 |\n",
      "|GO_FIRST |5652.007595045959 |\n",
      "|Indigo   |5324.216303339517 |\n",
      "|AirAsia  |4091.0727419555224|\n",
      "+---------+------------------+\n",
      "\n"
     ]
    },
    {
     "name": "stderr",
     "output_type": "stream",
     "text": [
      "                                                                                "
     ]
    },
    {
     "name": "stdout",
     "output_type": "stream",
     "text": [
      "+---------------------+------------------+\n",
      "|route                |avg_duration      |\n",
      "+---------------------+------------------+\n",
      "|Kolkata → Chennai    |14.774181563782903|\n",
      "|Chennai → Kolkata    |14.515774035955694|\n",
      "|Bangalore → Chennai  |14.480207509137166|\n",
      "|Bangalore → Hyderabad|14.162432783513621|\n",
      "|Chennai → Bangalore  |13.952593563812163|\n",
      "|Kolkata → Hyderabad  |13.853107514948396|\n",
      "|Kolkata → Bangalore  |13.79294687524098 |\n",
      "|Hyderabad → Kolkata  |13.535322410033165|\n",
      "|Hyderabad → Chennai  |13.293238468912078|\n",
      "|Mumbai → Hyderabad   |13.263310412247066|\n",
      "|Chennai → Hyderabad  |13.153984931732971|\n",
      "|Bangalore → Kolkata  |13.099143404859825|\n",
      "|Kolkata → Mumbai     |12.991932481150478|\n",
      "|Mumbai → Kolkata     |12.836848115489666|\n",
      "|Delhi → Kolkata      |12.73596614766045 |\n",
      "|Mumbai → Chennai     |12.665900287564627|\n",
      "|Delhi → Hyderabad    |12.518350118710492|\n",
      "|Delhi → Chennai      |12.433964745763944|\n",
      "|Chennai → Mumbai     |12.374656244132625|\n",
      "|Hyderabad → Bangalore|12.09331678643705 |\n",
      "+---------------------+------------------+\n",
      "only showing top 20 rows\n"
     ]
    },
    {
     "name": "stderr",
     "output_type": "stream",
     "text": [
      "                                                                                "
     ]
    },
    {
     "name": "stdout",
     "output_type": "stream",
     "text": [
      "+---------+---------+---------+\n",
      "|airline  |min_price|max_price|\n",
      "+---------+---------+---------+\n",
      "|AirAsia  |1105     |31917    |\n",
      "|Air_India|1526     |90970    |\n",
      "|GO_FIRST |1105     |32803    |\n",
      "|Indigo   |1105     |31952    |\n",
      "|SpiceJet |1106     |34158    |\n",
      "|Vistara  |1714     |123071   |\n",
      "+---------+---------+---------+\n",
      "\n"
     ]
    },
    {
     "name": "stderr",
     "output_type": "stream",
     "text": [
      "[Stage 17:=============================>                            (1 + 1) / 2]"
     ]
    },
    {
     "name": "stdout",
     "output_type": "stream",
     "text": [
      "+-----------+-----+\n",
      "|dep_time_id|count|\n",
      "+-----------+-----+\n",
      "|0          |66790|\n",
      "|1          |71146|\n",
      "|2          |47794|\n",
      "|3          |65102|\n",
      "|4          |48015|\n",
      "|5          |1306 |\n",
      "+-----------+-----+\n",
      "\n"
     ]
    },
    {
     "name": "stderr",
     "output_type": "stream",
     "text": [
      "                                                                                "
     ]
    }
   ],
   "source": [
    "from pyspark.sql.functions import avg, min as spark_min, max as spark_max\n",
    "\n",
    "avg_price_per_airline = df_tr.groupBy(\"airline\").agg(avg(\"price\").alias(\"avg_price\"))\n",
    "avg_price_per_airline.orderBy(col(\"avg_price\").desc()).show(20, truncate=False)\n",
    "\n",
    "avg_duration_per_route = df_tr.groupBy(\"route\").agg(avg(\"duration\").alias(\"avg_duration\"))\n",
    "avg_duration_per_route.orderBy(col(\"avg_duration\").desc()).show(20, truncate=False)\n",
    "\n",
    "minmax_price_per_airline = df_tr.groupBy(\"airline\").agg(\n",
    "    spark_min(\"price\").alias(\"min_price\"),\n",
    "    spark_max(\"price\").alias(\"max_price\")\n",
    ")\n",
    "minmax_price_per_airline.orderBy(\"airline\").show(50, truncate=False)\n",
    "\n",
    "count_by_dep_cat = df_tr.groupBy(\"dep_time_id\").count().orderBy(\"dep_time_id\")\n",
    "count_by_dep_cat.show(10, truncate=False)"
   ]
  }
 ],
 "metadata": {
  "kernelspec": {
   "display_name": "Python 3 (ipykernel)",
   "language": "python",
   "name": "python3"
  },
  "language_info": {
   "codemirror_mode": {
    "name": "ipython",
    "version": 3
   },
   "file_extension": ".py",
   "mimetype": "text/x-python",
   "name": "python",
   "nbconvert_exporter": "python",
   "pygments_lexer": "ipython3",
   "version": "3.10.12"
  }
 },
 "nbformat": 4,
 "nbformat_minor": 5
}
