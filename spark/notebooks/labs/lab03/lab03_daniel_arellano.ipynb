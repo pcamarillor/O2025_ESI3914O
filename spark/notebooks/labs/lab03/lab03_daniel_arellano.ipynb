{
 "cells": [
  {
   "cell_type": "markdown",
   "id": "b92d9622",
   "metadata": {},
   "source": [
    "# <center> <img src=\"../../img/ITESOLogo.png\" alt=\"ITESO\" width=\"480\" height=\"130\"> </center>\n",
    "# <center> **Departamento de Electrónica, Sistemas e Informática** </center>\n",
    "---\n",
    "## <center> Computer Systems Engineering  </center>\n",
    "---\n",
    "### <center> Big Data Processing </center>\n",
    "---\n",
    "#### <center> **Autumn 2025** </center>\n",
    "---\n",
    "\n",
    "**Lab 03**: Data Cleaning and Transformation Pipeline\n",
    "\n",
    "**Date**: September 18th 2025\n",
    "\n",
    "**Student Name**: Luis Daniel Arellano Núñez\n",
    "\n",
    "**Professor**: Pablo Camarillo Ramirez"
   ]
  },
  {
   "cell_type": "code",
   "execution_count": 1,
   "id": "6aff4ffe-7c95-4d83-a1da-d872c0388dde",
   "metadata": {},
   "outputs": [],
   "source": [
    "import findspark\n",
    "findspark.init()"
   ]
  },
  {
   "cell_type": "code",
   "execution_count": 2,
   "id": "acf0ff0d-f969-48bd-8eb0-9df0e2f5997d",
   "metadata": {},
   "outputs": [
    {
     "name": "stderr",
     "output_type": "stream",
     "text": [
      "WARNING: Using incubator modules: jdk.incubator.vector\n",
      "25/10/01 01:26:35 WARN NativeCodeLoader: Unable to load native-hadoop library for your platform... using builtin-java classes where applicable\n",
      "Using Spark's default log4j profile: org/apache/spark/log4j2-defaults.properties\n",
      "Setting default log level to \"WARN\".\n",
      "To adjust logging level use sc.setLogLevel(newLevel). For SparkR, use setLogLevel(newLevel).\n"
     ]
    }
   ],
   "source": [
    "from pyspark.sql import SparkSession\n",
    "\n",
    "spark = SparkSession.builder \\\n",
    "    .appName(\"Examples on storage solutions with PosgreSQL\") \\\n",
    "    .master(\"spark://8c99a6c586f5:7077\") \\\n",
    "    .config(\"spark.jars\", \"/opt/spark/work-dir/jars/postgresql-42.7.8.jar\") \\\n",
    "    .config(\"spark.ui.port\", \"4040\") \\\n",
    "    .getOrCreate()\n",
    "\n",
    "sc = spark.sparkContext\n",
    "sc.setLogLevel(\"ERROR\")"
   ]
  },
  {
   "cell_type": "markdown",
   "id": "10b67437-4a5f-4e30-89e1-c3d2191cefe5",
   "metadata": {},
   "source": [
    "### Define the Schema"
   ]
  },
  {
   "cell_type": "code",
   "execution_count": 3,
   "id": "e69c5131-1242-4f99-8901-e49f2d396df4",
   "metadata": {},
   "outputs": [
    {
     "data": {
      "text/plain": [
       "StructType([StructField('index', IntegerType(), True), StructField('airline', StringType(), True), StructField('flight', StringType(), True), StructField('source_city', StringType(), True), StructField('departure_time', StringType(), True), StructField('stops', StringType(), True), StructField('arrival_time', StringType(), True), StructField('destination_city', StringType(), True), StructField('class', StringType(), True), StructField('duration', FloatType(), True), StructField('days_left', IntegerType(), True), StructField('price', IntegerType(), True)])"
      ]
     },
     "execution_count": 3,
     "metadata": {},
     "output_type": "execute_result"
    }
   ],
   "source": [
    "from Daniel_Arellano.sql_im import SparkUtils\n",
    "airlines_schema_columns = [(\"index\", \"int\"), \n",
    "     (\"airline\", \"string\"), \n",
    "     (\"flight\", \"string\"),\n",
    "     (\"source_city\", \"string\"),\n",
    "     (\"departure_time\", \"string\"),\n",
    "     (\"stops\", \"string\"),\n",
    "     (\"arrival_time\", \"string\"),\n",
    "     (\"destination_city\", \"string\"),\n",
    "     (\"class\", \"string\"),\n",
    "     (\"duration\", \"float\"),\n",
    "     (\"days_left\", \"int\"),\n",
    "     (\"price\", \"int\")\n",
    "     ]\n",
    "airlines_schema = SparkUtils.generate_schema(airlines_schema_columns)\n",
    "airlines_schema"
   ]
  },
  {
   "cell_type": "markdown",
   "id": "9e93c302-b2da-496a-9ba6-3c35e98c7ff4",
   "metadata": {},
   "source": [
    "### Load the CSV"
   ]
  },
  {
   "cell_type": "code",
   "execution_count": 4,
   "id": "5ed0112e-8c04-425d-9e0d-def5fdeed692",
   "metadata": {},
   "outputs": [
    {
     "name": "stderr",
     "output_type": "stream",
     "text": [
      "[Stage 0:>                                                          (0 + 1) / 1]"
     ]
    },
    {
     "name": "stdout",
     "output_type": "stream",
     "text": [
      "+-----+--------+-------+-----------+--------------+-----+-------------+----------------+-------+--------+---------+-----+\n",
      "|index| airline| flight|source_city|departure_time|stops| arrival_time|destination_city|  class|duration|days_left|price|\n",
      "+-----+--------+-------+-----------+--------------+-----+-------------+----------------+-------+--------+---------+-----+\n",
      "|    0|SpiceJet|SG-8709|      Delhi|       Evening| zero|        Night|          Mumbai|Economy|    2.17|        1| 5953|\n",
      "|    1|SpiceJet|SG-8157|      Delhi| Early_Morning| zero|      Morning|          Mumbai|Economy|    2.33|        1| 5953|\n",
      "|    2| AirAsia| I5-764|      Delhi| Early_Morning| zero|Early_Morning|          Mumbai|Economy|    2.17|        1| 5956|\n",
      "|    3| Vistara| UK-995|      Delhi|       Morning| zero|    Afternoon|          Mumbai|Economy|    2.25|        1| 5955|\n",
      "|    4| Vistara| UK-963|      Delhi|       Morning| zero|      Morning|          Mumbai|Economy|    2.33|        1| 5955|\n",
      "+-----+--------+-------+-----------+--------------+-----+-------------+----------------+-------+--------+---------+-----+\n",
      "only showing top 5 rows\n"
     ]
    },
    {
     "name": "stderr",
     "output_type": "stream",
     "text": [
      "                                                                                "
     ]
    }
   ],
   "source": [
    "df_airlines = spark.read \\\n",
    "                .option(\"header\", \"true\") \\\n",
    "                .schema(airlines_schema) \\\n",
    "                .csv(\"/opt/spark/work-dir/data/airline/\")\n",
    "\n",
    "df_airlines.show(n=5)"
   ]
  },
  {
   "cell_type": "markdown",
   "id": "7f18d79a-1f57-44ef-9cfd-b5231619a5f6",
   "metadata": {},
   "source": [
    "### Data cleaning"
   ]
  },
  {
   "cell_type": "code",
   "execution_count": 6,
   "id": "72e1e822-0bee-4490-92b5-72f86231b453",
   "metadata": {},
   "outputs": [
    {
     "name": "stderr",
     "output_type": "stream",
     "text": [
      "                                                                                "
     ]
    },
    {
     "name": "stdout",
     "output_type": "stream",
     "text": [
      "number of records before cleaning: 300153\n"
     ]
    },
    {
     "name": "stderr",
     "output_type": "stream",
     "text": [
      "                                                                                "
     ]
    },
    {
     "name": "stdout",
     "output_type": "stream",
     "text": [
      "+-----+-------+------+-----------+--------------+-----+------------+----------------+-----+--------+---------+-----+\n",
      "|index|airline|flight|source_city|departure_time|stops|arrival_time|destination_city|class|duration|days_left|price|\n",
      "+-----+-------+------+-----------+--------------+-----+------------+----------------+-----+--------+---------+-----+\n",
      "|    0|      0|     0|          0|             0|    0|           0|               0|    0|       0|        0|    0|\n",
      "+-----+-------+------+-----------+--------------+-----+------------+----------------+-----+--------+---------+-----+\n",
      "\n"
     ]
    },
    {
     "name": "stderr",
     "output_type": "stream",
     "text": [
      "                                                                                "
     ]
    },
    {
     "name": "stdout",
     "output_type": "stream",
     "text": [
      "number of records after cleaning with trim: 300153\n"
     ]
    },
    {
     "name": "stderr",
     "output_type": "stream",
     "text": [
      "                                                                                "
     ]
    },
    {
     "name": "stdout",
     "output_type": "stream",
     "text": [
      "+-----+-------+------+-----------+--------------+-----+------------+----------------+-----+--------+---------+-----+\n",
      "|index|airline|flight|source_city|departure_time|stops|arrival_time|destination_city|class|duration|days_left|price|\n",
      "+-----+-------+------+-----------+--------------+-----+------------+----------------+-----+--------+---------+-----+\n",
      "|    0|      0|     0|          0|             0|    0|           0|               0|    0|       0|        0|    0|\n",
      "+-----+-------+------+-----------+--------------+-----+------------+----------------+-----+--------+---------+-----+\n",
      "\n"
     ]
    },
    {
     "name": "stderr",
     "output_type": "stream",
     "text": [
      "                                                                                "
     ]
    },
    {
     "name": "stdout",
     "output_type": "stream",
     "text": [
      "number of records after cleaning with dropna: 300153\n"
     ]
    },
    {
     "name": "stderr",
     "output_type": "stream",
     "text": [
      "                                                                                "
     ]
    },
    {
     "name": "stdout",
     "output_type": "stream",
     "text": [
      "+-----+-------+------+-----------+--------------+-----+------------+----------------+-----+--------+---------+-----+\n",
      "|index|airline|flight|source_city|departure_time|stops|arrival_time|destination_city|class|duration|days_left|price|\n",
      "+-----+-------+------+-----------+--------------+-----+------------+----------------+-----+--------+---------+-----+\n",
      "|    0|      0|     0|          0|             0|    0|           0|               0|    0|       0|        0|    0|\n",
      "+-----+-------+------+-----------+--------------+-----+------------+----------------+-----+--------+---------+-----+\n",
      "\n"
     ]
    },
    {
     "name": "stderr",
     "output_type": "stream",
     "text": [
      "[Stage 28:=============================>                            (1 + 1) / 2]"
     ]
    },
    {
     "name": "stdout",
     "output_type": "stream",
     "text": [
      "Number of null columns is: 0\n"
     ]
    },
    {
     "name": "stderr",
     "output_type": "stream",
     "text": [
      "                                                                                "
     ]
    }
   ],
   "source": [
    "from pyspark.sql.functions import trim, col, count, isnull, when\n",
    "print(f\"number of records before cleaning: {df_airlines.count()}\")\n",
    "# Get number of null values for each column before cleaning \n",
    "df_airlines.select([count(when(isnull(c[0]) | col(c[0]).isNull(), c[0])).alias(c[0]) for c in airlines_schema_columns]).show()\n",
    "\n",
    "# Perform data cleaning with trim (column by column)\n",
    "airlines_clean = df_airlines \\\n",
    "        .dropDuplicates([\"index\"]) \\\n",
    "        .withColumn(\"airline\", trim(\"airline\")) \\\n",
    "        .withColumn(\"source_city\", trim(\"source_city\")) \\\n",
    "        .withColumn(\"destination_city\", trim(\"destination_city\")) \\\n",
    "        .filter(col(\"price\").isNotNull())\n",
    "\n",
    "# Simply using dropna()\n",
    "airlines_clean_v2 = df_airlines.dropna()\n",
    "\n",
    "print(f\"number of records after cleaning with trim: {airlines_clean.count()}\")\n",
    "airlines_clean.select([count(when(isnull(c[0]) | col(c[0]).isNull(), c[0])).alias(c[0]) for c in airlines_schema_columns]).show()\n",
    "\n",
    "print(f\"number of records after cleaning with dropna: {airlines_clean_v2.count()}\")\n",
    "airlines_clean_v2.select([count(when(isnull(c[0]) | col(c[0]).isNull(), c[0])).alias(c[0]) for c in airlines_schema_columns]).show()\n",
    "\n",
    "print(f\"Number of null columns is: {df_airlines.count() - airlines_clean_v2.count()}\")"
   ]
  },
  {
   "cell_type": "markdown",
   "id": "60308731-7d0a-4ef5-94a0-4359339bb6ee",
   "metadata": {},
   "source": [
    "### Eliminate unecessary columns for the lab (class and days_left)"
   ]
  },
  {
   "cell_type": "code",
   "execution_count": 7,
   "id": "2146c435-fe13-499e-b5e4-fa912f8e8fa4",
   "metadata": {},
   "outputs": [
    {
     "name": "stdout",
     "output_type": "stream",
     "text": [
      "+-----+--------+-------+-----------+--------------+-----+-------------+----------------+--------+-----+\n",
      "|index| airline| flight|source_city|departure_time|stops| arrival_time|destination_city|duration|price|\n",
      "+-----+--------+-------+-----------+--------------+-----+-------------+----------------+--------+-----+\n",
      "|    0|SpiceJet|SG-8709|      Delhi|       Evening| zero|        Night|          Mumbai|    2.17| 5953|\n",
      "|    1|SpiceJet|SG-8157|      Delhi| Early_Morning| zero|      Morning|          Mumbai|    2.33| 5953|\n",
      "|    2| AirAsia| I5-764|      Delhi| Early_Morning| zero|Early_Morning|          Mumbai|    2.17| 5956|\n",
      "|    3| Vistara| UK-995|      Delhi|       Morning| zero|    Afternoon|          Mumbai|    2.25| 5955|\n",
      "|    4| Vistara| UK-963|      Delhi|       Morning| zero|      Morning|          Mumbai|    2.33| 5955|\n",
      "+-----+--------+-------+-----------+--------------+-----+-------------+----------------+--------+-----+\n",
      "only showing top 5 rows\n"
     ]
    }
   ],
   "source": [
    "df_lab03_clean = airlines_clean_v2.drop(\"class\")\n",
    "df_lab03_clean = df_lab03_clean.drop(\"days_left\")\n",
    "\n",
    "df_lab03_clean.show(n=5)"
   ]
  },
  {
   "cell_type": "markdown",
   "id": "b81c82a4-da73-4cd9-a4d3-787d9da36a40",
   "metadata": {},
   "source": [
    "### Normalize categorical values: map “zero” → 0, “one” → 1, etc. in stops."
   ]
  },
  {
   "cell_type": "code",
   "execution_count": 8,
   "id": "f09d6733-5f07-4c89-84a5-e870a4a04365",
   "metadata": {},
   "outputs": [
    {
     "name": "stdout",
     "output_type": "stream",
     "text": [
      "+-----+--------+-------+-----------+--------------+-----+-------------+----------------+--------+-----+\n",
      "|index| airline| flight|source_city|departure_time|stops| arrival_time|destination_city|duration|price|\n",
      "+-----+--------+-------+-----------+--------------+-----+-------------+----------------+--------+-----+\n",
      "|    0|SpiceJet|SG-8709|      Delhi|       Evening|    0|        Night|          Mumbai|    2.17| 5953|\n",
      "|    1|SpiceJet|SG-8157|      Delhi| Early_Morning|    0|      Morning|          Mumbai|    2.33| 5953|\n",
      "|    2| AirAsia| I5-764|      Delhi| Early_Morning|    0|Early_Morning|          Mumbai|    2.17| 5956|\n",
      "|    3| Vistara| UK-995|      Delhi|       Morning|    0|    Afternoon|          Mumbai|    2.25| 5955|\n",
      "|    4| Vistara| UK-963|      Delhi|       Morning|    0|      Morning|          Mumbai|    2.33| 5955|\n",
      "+-----+--------+-------+-----------+--------------+-----+-------------+----------------+--------+-----+\n",
      "only showing top 5 rows\n"
     ]
    }
   ],
   "source": [
    "from pyspark.sql.functions import when, lit, col\n",
    "\n",
    "df_stops = df_lab03_clean.withColumn(\n",
    "    \"stops\",\n",
    "    when(df_lab03_clean.stops == \"zero\", lit(0))\n",
    "    .when(df_lab03_clean.stops == \"one\", lit(1))\n",
    "    .when(df_lab03_clean.stops == \"two_or_more\", lit(2))\n",
    ")\n",
    "\n",
    "df_stops.show(n=5)"
   ]
  },
  {
   "cell_type": "markdown",
   "id": "f7102ce0-94ef-468c-9e14-a0c1ade50e49",
   "metadata": {},
   "source": [
    "### Create a new column called route: “Delhi → Mumbai” from source_city and destination_city."
   ]
  },
  {
   "cell_type": "code",
   "execution_count": 9,
   "id": "51c33ef4-620f-47cf-b223-03e85cd094b8",
   "metadata": {},
   "outputs": [
    {
     "name": "stdout",
     "output_type": "stream",
     "text": [
      "+-----+--------+-------+-----------+--------------+-----+-------------+----------------+--------+-----+--------------+\n",
      "|index| airline| flight|source_city|departure_time|stops| arrival_time|destination_city|duration|price|         route|\n",
      "+-----+--------+-------+-----------+--------------+-----+-------------+----------------+--------+-----+--------------+\n",
      "|    0|SpiceJet|SG-8709|      Delhi|       Evening|    0|        Night|          Mumbai|    2.17| 5953|Delhi → Mumbai|\n",
      "|    1|SpiceJet|SG-8157|      Delhi| Early_Morning|    0|      Morning|          Mumbai|    2.33| 5953|Delhi → Mumbai|\n",
      "|    2| AirAsia| I5-764|      Delhi| Early_Morning|    0|Early_Morning|          Mumbai|    2.17| 5956|Delhi → Mumbai|\n",
      "|    3| Vistara| UK-995|      Delhi|       Morning|    0|    Afternoon|          Mumbai|    2.25| 5955|Delhi → Mumbai|\n",
      "|    4| Vistara| UK-963|      Delhi|       Morning|    0|      Morning|          Mumbai|    2.33| 5955|Delhi → Mumbai|\n",
      "+-----+--------+-------+-----------+--------------+-----+-------------+----------------+--------+-----+--------------+\n",
      "only showing top 5 rows\n"
     ]
    }
   ],
   "source": [
    "from pyspark.sql.functions import concat_ws, col\n",
    "\n",
    "df_routes = df_stops.withColumn(\n",
    "    \"route\", concat_ws(\" → \", df_stops.source_city, df_stops.destination_city)\n",
    ")\n",
    "\n",
    "df_routes.show(5)"
   ]
  },
  {
   "cell_type": "markdown",
   "id": "fc1ab0c1-d2bb-4ff7-8512-bc5d3ec5da00",
   "metadata": {},
   "source": [
    "### Transform departure_time and arrival_time to numerical categories (Morning, Afternoon, etc.), then encode as numbers (0=Early_Morning, 1=Morning, etc.)."
   ]
  },
  {
   "cell_type": "code",
   "execution_count": 10,
   "id": "978ac073-5e08-4075-8f62-94a56011067a",
   "metadata": {},
   "outputs": [
    {
     "name": "stdout",
     "output_type": "stream",
     "text": [
      "+-----+--------+-------+-----------+--------------+-----+------------+----------------+--------+-----+--------------+\n",
      "|index| airline| flight|source_city|departure_time|stops|arrival_time|destination_city|duration|price|         route|\n",
      "+-----+--------+-------+-----------+--------------+-----+------------+----------------+--------+-----+--------------+\n",
      "|    0|SpiceJet|SG-8709|      Delhi|             3|    0|           4|          Mumbai|    2.17| 5953|Delhi → Mumbai|\n",
      "|    1|SpiceJet|SG-8157|      Delhi|             0|    0|           1|          Mumbai|    2.33| 5953|Delhi → Mumbai|\n",
      "|    2| AirAsia| I5-764|      Delhi|             0|    0|           0|          Mumbai|    2.17| 5956|Delhi → Mumbai|\n",
      "|    3| Vistara| UK-995|      Delhi|             1|    0|           2|          Mumbai|    2.25| 5955|Delhi → Mumbai|\n",
      "|    4| Vistara| UK-963|      Delhi|             1|    0|           1|          Mumbai|    2.33| 5955|Delhi → Mumbai|\n",
      "+-----+--------+-------+-----------+--------------+-----+------------+----------------+--------+-----+--------------+\n",
      "only showing top 5 rows\n"
     ]
    }
   ],
   "source": [
    "from pyspark.sql.functions import when, lit, col\n",
    "\n",
    "df_times = df_routes.withColumn(\n",
    "    \"departure_time\",\n",
    "    when(df_routes.departure_time == \"Early_Morning\", lit(0))\n",
    "    .when(df_routes.departure_time == \"Morning\", lit(1))\n",
    "    .when(df_routes.departure_time == \"Afternoon\", lit(2))\n",
    "    .when(df_routes.departure_time == \"Evening\", lit(3))\n",
    "    .when(df_routes.departure_time == \"Night\", lit(4))\n",
    "    .when(df_routes.departure_time == \"Late_Night\", lit(5))\n",
    ")\n",
    "\n",
    "df_times = df_times.withColumn(\n",
    "    \"arrival_time\",\n",
    "    when(df_times.arrival_time == \"Early_Morning\", lit(0))\n",
    "    .when(df_times.arrival_time == \"Morning\", lit(1))\n",
    "    .when(df_times.arrival_time == \"Afternoon\", lit(2))\n",
    "    .when(df_times.arrival_time == \"Evening\", lit(3))\n",
    "    .when(df_times.arrival_time == \"Night\", lit(4))\n",
    "    .when(df_times.arrival_time == \"Late_Night\", lit(5))\n",
    ")\n",
    "\n",
    "df_times.show(n=5)"
   ]
  },
  {
   "cell_type": "markdown",
   "id": "238390f5-b52b-4947-a54c-96ee837c1573",
   "metadata": {},
   "source": [
    "### Add a new column is_expensive: when(price > 6000, True).otherwise(False)."
   ]
  },
  {
   "cell_type": "code",
   "execution_count": 11,
   "id": "d386d3d8-91c2-4c89-91b8-28f3c9f0aab7",
   "metadata": {},
   "outputs": [
    {
     "name": "stdout",
     "output_type": "stream",
     "text": [
      "+-----+--------+-------+-----------+--------------+-----+------------+----------------+--------+-----+--------------+------------+\n",
      "|index| airline| flight|source_city|departure_time|stops|arrival_time|destination_city|duration|price|         route|is_expensive|\n",
      "+-----+--------+-------+-----------+--------------+-----+------------+----------------+--------+-----+--------------+------------+\n",
      "|    0|SpiceJet|SG-8709|      Delhi|             3|    0|           4|          Mumbai|    2.17| 5953|Delhi → Mumbai|       false|\n",
      "|    1|SpiceJet|SG-8157|      Delhi|             0|    0|           1|          Mumbai|    2.33| 5953|Delhi → Mumbai|       false|\n",
      "|    2| AirAsia| I5-764|      Delhi|             0|    0|           0|          Mumbai|    2.17| 5956|Delhi → Mumbai|       false|\n",
      "|    3| Vistara| UK-995|      Delhi|             1|    0|           2|          Mumbai|    2.25| 5955|Delhi → Mumbai|       false|\n",
      "|    4| Vistara| UK-963|      Delhi|             1|    0|           1|          Mumbai|    2.33| 5955|Delhi → Mumbai|       false|\n",
      "|    5| Vistara| UK-945|      Delhi|             1|    0|           2|          Mumbai|    2.33| 5955|Delhi → Mumbai|       false|\n",
      "|    6| Vistara| UK-927|      Delhi|             1|    0|           1|          Mumbai|    2.08| 6060|Delhi → Mumbai|        true|\n",
      "|    7| Vistara| UK-951|      Delhi|             2|    0|           3|          Mumbai|    2.17| 6060|Delhi → Mumbai|        true|\n",
      "|    8|GO_FIRST| G8-334|      Delhi|             0|    0|           1|          Mumbai|    2.17| 5954|Delhi → Mumbai|       false|\n",
      "|    9|GO_FIRST| G8-336|      Delhi|             2|    0|           3|          Mumbai|    2.25| 5954|Delhi → Mumbai|       false|\n",
      "+-----+--------+-------+-----------+--------------+-----+------------+----------------+--------+-----+--------------+------------+\n",
      "only showing top 10 rows\n"
     ]
    }
   ],
   "source": [
    "from pyspark.sql.functions import when\n",
    "\n",
    "df_expensive = df_times.withColumn(\n",
    "    \"is_expensive\",\n",
    "    when(df_times.price > 6000, True)\n",
    "    .otherwise(False)\n",
    ")\n",
    "\n",
    "df_expensive.show(n=10)\n",
    "\n",
    "df_final = df_expensive"
   ]
  },
  {
   "cell_type": "markdown",
   "id": "443506b9-f4f4-4776-b35a-1acf6acaae0a",
   "metadata": {},
   "source": [
    "### Average price per airline."
   ]
  },
  {
   "cell_type": "code",
   "execution_count": 18,
   "id": "9ffb1592-1678-4061-927c-5739c5212f25",
   "metadata": {},
   "outputs": [
    {
     "name": "stderr",
     "output_type": "stream",
     "text": [
      "[Stage 66:=============================>                            (1 + 1) / 2]"
     ]
    },
    {
     "name": "stdout",
     "output_type": "stream",
     "text": [
      "+---------+------------------+\n",
      "|  airline|     Average Price|\n",
      "+---------+------------------+\n",
      "|   Indigo| 5324.216303339517|\n",
      "| SpiceJet| 6179.278881367218|\n",
      "|Air_India| 23507.01911190229|\n",
      "|  AirAsia|4091.0727419555224|\n",
      "| GO_FIRST| 5652.007595045959|\n",
      "|  Vistara| 30396.53630170735|\n",
      "+---------+------------------+\n",
      "\n"
     ]
    },
    {
     "name": "stderr",
     "output_type": "stream",
     "text": [
      "                                                                                "
     ]
    }
   ],
   "source": [
    "# SELECT AVG(price) FROM df AS AVG_price GROUP BY airline\n",
    "from pyspark.sql.functions import col, avg, min, max, count\n",
    "\n",
    "df_final.groupBy(col(\"airline\")).agg(avg(\"price\").alias(\"Average Price\")).show()"
   ]
  },
  {
   "cell_type": "markdown",
   "id": "c2280303-6218-4b9a-b1a8-7a22993c56b0",
   "metadata": {},
   "source": [
    "### Average duration per route."
   ]
  },
  {
   "cell_type": "code",
   "execution_count": 19,
   "id": "57974f81-331e-4f96-bd90-1a89e832ac30",
   "metadata": {},
   "outputs": [
    {
     "name": "stderr",
     "output_type": "stream",
     "text": [
      "[Stage 69:=============================>                            (1 + 1) / 2]"
     ]
    },
    {
     "name": "stdout",
     "output_type": "stream",
     "text": [
      "+--------------------+------------------+\n",
      "|               route|  Average duration|\n",
      "+--------------------+------------------+\n",
      "|Hyderabad → Banga...| 12.09331678643705|\n",
      "|    Mumbai → Kolkata|12.836848115489666|\n",
      "|    Mumbai → Chennai|12.665900287564627|\n",
      "|  Mumbai → Hyderabad|13.263310412247066|\n",
      "|  Mumbai → Bangalore|11.612022516178817|\n",
      "|   Bangalore → Delhi|  9.77995566082195|\n",
      "| Kolkata → Bangalore| 13.79294687524098|\n",
      "|   Hyderabad → Delhi|10.829816602522587|\n",
      "| Bangalore → Chennai|14.480207509137166|\n",
      "|  Bangalore → Mumbai| 10.90507225639642|\n",
      "|      Mumbai → Delhi|  9.81805726844943|\n",
      "|  Hyderabad → Mumbai|11.962923295795918|\n",
      "|   Kolkata → Chennai|14.774181563782903|\n",
      "| Kolkata → Hyderabad|13.853107514948396|\n",
      "|   Delhi → Bangalore| 10.35412503844018|\n",
      "|      Delhi → Mumbai|10.367774213738123|\n",
      "| Hyderabad → Chennai|13.293238468912078|\n",
      "|Bangalore → Hyder...|14.162432783513621|\n",
      "|     Kolkata → Delhi| 11.60498857561711|\n",
      "|   Delhi → Hyderabad|12.518350118710492|\n",
      "+--------------------+------------------+\n",
      "only showing top 20 rows\n"
     ]
    },
    {
     "name": "stderr",
     "output_type": "stream",
     "text": [
      "                                                                                "
     ]
    }
   ],
   "source": [
    "# SELECT AVG(duration) FROM df AS AVG_duration GROUP BY route\n",
    "from pyspark.sql.functions import col, avg, min, max, count\n",
    "\n",
    "df_final.groupBy(col(\"route\")).agg(avg(\"duration\").alias(\"Average duration\")).show()"
   ]
  },
  {
   "cell_type": "markdown",
   "id": "4d3c2d8f-43d1-4efd-a511-14a37907cd26",
   "metadata": {},
   "source": [
    "### Minimum and maximum price per airline."
   ]
  },
  {
   "cell_type": "code",
   "execution_count": 20,
   "id": "301afbf2-93d2-41f3-9f59-240c653df140",
   "metadata": {},
   "outputs": [
    {
     "name": "stderr",
     "output_type": "stream",
     "text": [
      "[Stage 72:=============================>                            (1 + 1) / 2]"
     ]
    },
    {
     "name": "stdout",
     "output_type": "stream",
     "text": [
      "+---------+---------+---------+\n",
      "|  airline|Min price|Max price|\n",
      "+---------+---------+---------+\n",
      "|   Indigo|     1105|    31952|\n",
      "| SpiceJet|     1106|    34158|\n",
      "|Air_India|     1526|    90970|\n",
      "|  AirAsia|     1105|    31917|\n",
      "| GO_FIRST|     1105|    32803|\n",
      "|  Vistara|     1714|   123071|\n",
      "+---------+---------+---------+\n",
      "\n"
     ]
    },
    {
     "name": "stderr",
     "output_type": "stream",
     "text": [
      "                                                                                "
     ]
    }
   ],
   "source": [
    "# SELECT min(price), max(price) FROM df GROUP BY airline\n",
    "from pyspark.sql.functions import col, avg, min, max, count\n",
    "\n",
    "df_final.groupBy(col(\"airline\")).agg(min(\"price\").alias(\"Min price\"), max(\"price\").alias(\"Max price\")).show()"
   ]
  },
  {
   "cell_type": "markdown",
   "id": "fdc14164-969a-4ef4-b224-1d3de9aa58c5",
   "metadata": {},
   "source": [
    "### Count flights by departure_time category."
   ]
  },
  {
   "cell_type": "code",
   "execution_count": 24,
   "id": "6d717fbf-c062-4a8c-99b4-ca922e119954",
   "metadata": {},
   "outputs": [
    {
     "name": "stderr",
     "output_type": "stream",
     "text": [
      "[Stage 84:=============================>                            (1 + 1) / 2]"
     ]
    },
    {
     "name": "stdout",
     "output_type": "stream",
     "text": [
      "+--------------+------------+\n",
      "|departure_time|# of flights|\n",
      "+--------------+------------+\n",
      "|       Evening|       65102|\n",
      "|       Morning|       71146|\n",
      "|    Late_Night|        1306|\n",
      "|     Afternoon|       47794|\n",
      "| Early_Morning|       66790|\n",
      "|         Night|       48015|\n",
      "+--------------+------------+\n",
      "\n"
     ]
    },
    {
     "name": "stderr",
     "output_type": "stream",
     "text": [
      "                                                                                "
     ]
    }
   ],
   "source": [
    "# SELECT count(flight) FROM df GROUP BY departure_time\n",
    "from pyspark.sql.functions import col, avg, count\n",
    "\n",
    "#Here i use another df version where the departure time was still a string \n",
    "#Is not an error, i think the string version is more understandable for the user\n",
    "df_routes.groupBy(col(\"departure_time\")).agg(count(\"flight\").alias(\"# of flights\")).show()"
   ]
  },
  {
   "cell_type": "code",
   "execution_count": 12,
   "id": "319d7921-317f-4c0e-9e59-011d61faa281",
   "metadata": {},
   "outputs": [
    {
     "name": "stderr",
     "output_type": "stream",
     "text": [
      "[Stage 36:=============================>                            (1 + 1) / 2]"
     ]
    },
    {
     "name": "stdout",
     "output_type": "stream",
     "text": [
      "DataFrame successfully written into a PosgreSQL DB !\n"
     ]
    },
    {
     "name": "stderr",
     "output_type": "stream",
     "text": [
      "                                                                                "
     ]
    }
   ],
   "source": [
    "jdbc_url = \"jdbc:postgresql://postgres-iteso:5432/postgres\"\n",
    "table_name = \"airlines_Daniel_Arellano\"\n",
    "\n",
    "df_final.write \\\n",
    "    .format(\"jdbc\") \\\n",
    "    .option(\"url\", jdbc_url) \\\n",
    "    .option(\"dbtable\", table_name) \\\n",
    "    .option(\"user\", \"postgres\") \\\n",
    "    .option(\"password\", \"Admin@1234\") \\\n",
    "    .option(\"driver\", \"org.postgresql.Driver\") \\\n",
    "    .save()\n",
    "\n",
    "print(\"DataFrame successfully written into a PosgreSQL DB !\")"
   ]
  },
  {
   "cell_type": "code",
   "execution_count": 13,
   "id": "2e350cfd-14f1-44c0-a754-c63586ccc3aa",
   "metadata": {},
   "outputs": [
    {
     "name": "stdout",
     "output_type": "stream",
     "text": [
      "root\n",
      " |-- index: integer (nullable = true)\n",
      " |-- airline: string (nullable = true)\n",
      " |-- flight: string (nullable = true)\n",
      " |-- source_city: string (nullable = true)\n",
      " |-- departure_time: integer (nullable = true)\n",
      " |-- stops: integer (nullable = true)\n",
      " |-- arrival_time: integer (nullable = true)\n",
      " |-- destination_city: string (nullable = true)\n",
      " |-- duration: float (nullable = true)\n",
      " |-- price: integer (nullable = true)\n",
      " |-- route: string (nullable = true)\n",
      " |-- is_expensive: boolean (nullable = true)\n",
      "\n"
     ]
    },
    {
     "name": "stderr",
     "output_type": "stream",
     "text": [
      "[Stage 37:>                                                         (0 + 1) / 1]"
     ]
    },
    {
     "name": "stdout",
     "output_type": "stream",
     "text": [
      "+-----+--------+-------+-----------+--------------+-----+------------+----------------+--------+-----+--------------+------------+\n",
      "|index|airline |flight |source_city|departure_time|stops|arrival_time|destination_city|duration|price|route         |is_expensive|\n",
      "+-----+--------+-------+-----------+--------------+-----+------------+----------------+--------+-----+--------------+------------+\n",
      "|0    |SpiceJet|SG-8709|Delhi      |3             |0    |4           |Mumbai          |2.17    |5953 |Delhi → Mumbai|false       |\n",
      "|1    |SpiceJet|SG-8157|Delhi      |0             |0    |1           |Mumbai          |2.33    |5953 |Delhi → Mumbai|false       |\n",
      "|2    |AirAsia |I5-764 |Delhi      |0             |0    |0           |Mumbai          |2.17    |5956 |Delhi → Mumbai|false       |\n",
      "|3    |Vistara |UK-995 |Delhi      |1             |0    |2           |Mumbai          |2.25    |5955 |Delhi → Mumbai|false       |\n",
      "|4    |Vistara |UK-963 |Delhi      |1             |0    |1           |Mumbai          |2.33    |5955 |Delhi → Mumbai|false       |\n",
      "+-----+--------+-------+-----------+--------------+-----+------------+----------------+--------+-----+--------------+------------+\n",
      "only showing top 5 rows\n"
     ]
    },
    {
     "name": "stderr",
     "output_type": "stream",
     "text": [
      "                                                                                "
     ]
    }
   ],
   "source": [
    "jdbc_url = \"jdbc:postgresql://postgres-iteso:5432/postgres\"\n",
    "db_properties = {\n",
    "      \"user\": \"postgres\",      \n",
    "      \"password\": \"Admin@1234\",\n",
    "      \"driver\": \"org.postgresql.Driver\"\n",
    "  }\n",
    "\n",
    "df = spark.read \\\n",
    "    .jdbc(url=jdbc_url, table=table_name, properties=db_properties)\n",
    "\n",
    "df.printSchema()\n",
    "df.show(5, truncate=False)"
   ]
  },
  {
   "cell_type": "code",
   "execution_count": 14,
   "id": "8365f4da-f1b6-42e7-a47d-24cc9d576303",
   "metadata": {},
   "outputs": [],
   "source": [
    "sc.stop()"
   ]
  }
 ],
 "metadata": {
  "kernelspec": {
   "display_name": "Python 3 (ipykernel)",
   "language": "python",
   "name": "python3"
  },
  "language_info": {
   "codemirror_mode": {
    "name": "ipython",
    "version": 3
   },
   "file_extension": ".py",
   "mimetype": "text/x-python",
   "name": "python",
   "nbconvert_exporter": "python",
   "pygments_lexer": "ipython3",
   "version": "3.10.12"
  }
 },
 "nbformat": 4,
 "nbformat_minor": 5
}
