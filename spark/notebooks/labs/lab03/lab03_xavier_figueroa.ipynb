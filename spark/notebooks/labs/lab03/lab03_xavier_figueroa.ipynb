{
 "cells": [
  {
   "cell_type": "code",
   "execution_count": null,
   "id": "269fa480",
   "metadata": {},
   "outputs": [],
   "source": [
    "# Lab 3 - Francisco Xavier Figueroa Jimenez \n",
    "# Will add code later. Only creating for pull request for now.\n"
   ]
  }
 ],
 "metadata": {
  "language_info": {
   "name": "python"
  }
 },
 "nbformat": 4,
 "nbformat_minor": 5
}
