{
 "cells": [
  {
   "cell_type": "markdown",
   "id": "b92d9622",
   "metadata": {},
   "source": [
    "# <center> <img src=\"../../img/ITESOLogo.png\" alt=\"ITESO\" width=\"480\" height=\"130\"> </center>\n",
    "# <center> **Departamento de Electrónica, Sistemas e Informática** </center>\n",
    "---\n",
    "## <center> Computer Systems Engineering  </center>\n",
    "---\n",
    "### <center> Big Data Processing </center>\n",
    "---\n",
    "#### <center> **Autumn 2025** </center>\n",
    "---\n",
    "\n",
    "**Lab 03**: Data Cleaning and Transformation Pipeline\n",
    "\n",
    "**Date**: September 18th 2025\n",
    "\n",
    "**Student Name**:\n",
    "\n",
    "**Professor**: Pablo Camarillo Ramirez"
   ]
  },
  {
   "cell_type": "code",
   "execution_count": 1,
   "id": "e9b55bb8-9070-417c-a4c1-2849ebc2ccdf",
   "metadata": {},
   "outputs": [],
   "source": [
    "import findspark\n",
    "findspark.init()"
   ]
  },
  {
   "cell_type": "code",
   "execution_count": 2,
   "id": "31107793-7a44-40c4-bcdf-4675a0385703",
   "metadata": {},
   "outputs": [
    {
     "name": "stderr",
     "output_type": "stream",
     "text": [
      "WARNING: Using incubator modules: jdk.incubator.vector\n",
      "Using Spark's default log4j profile: org/apache/spark/log4j2-defaults.properties\n",
      "Setting default log level to \"WARN\".\n",
      "To adjust logging level use sc.setLogLevel(newLevel). For SparkR, use setLogLevel(newLevel).\n",
      "25/09/20 02:36:29 WARN NativeCodeLoader: Unable to load native-hadoop library for your platform... using builtin-java classes where applicable\n"
     ]
    }
   ],
   "source": [
    "from pyspark.sql import SparkSession\n",
    "\n",
    "spark = SparkSession.builder \\\n",
    "    .appName(\"Examples on data sources (Files)\") \\\n",
    "    .master(\"spark://c8812d8dfa8b:7077\") \\\n",
    "    .config(\"spark.ui.port\", \"4040\") \\\n",
    "    .getOrCreate()\n",
    "\n",
    "sc = spark.sparkContext\n",
    "sc.setLogLevel(\"ERROR\")"
   ]
  },
  {
   "cell_type": "code",
   "execution_count": 3,
   "id": "66ab45da-c0fe-46c0-ba5a-be74c93d4375",
   "metadata": {},
   "outputs": [
    {
     "name": "stderr",
     "output_type": "stream",
     "text": [
      "                                                                                "
     ]
    },
    {
     "name": "stdout",
     "output_type": "stream",
     "text": [
      "+-----+--------+-------+-----------+--------------+-----+-------------+----------------+-------+--------+---------+-----+\n",
      "|index| airline| flight|source_city|departure_time|stops| arrival_time|destination_city|  class|duration|days_left|price|\n",
      "+-----+--------+-------+-----------+--------------+-----+-------------+----------------+-------+--------+---------+-----+\n",
      "|    0|SpiceJet|SG-8709|      Delhi|       Evening| zero|        Night|          Mumbai|Economy|    2.17|        1| 5953|\n",
      "|    1|SpiceJet|SG-8157|      Delhi| Early_Morning| zero|      Morning|          Mumbai|Economy|    2.33|        1| 5953|\n",
      "|    2| AirAsia| I5-764|      Delhi| Early_Morning| zero|Early_Morning|          Mumbai|Economy|    2.17|        1| 5956|\n",
      "|    3| Vistara| UK-995|      Delhi|       Morning| zero|    Afternoon|          Mumbai|Economy|    2.25|        1| 5955|\n",
      "|    4| Vistara| UK-963|      Delhi|       Morning| zero|      Morning|          Mumbai|Economy|    2.33|        1| 5955|\n",
      "+-----+--------+-------+-----------+--------------+-----+-------------+----------------+-------+--------+---------+-----+\n",
      "only showing top 5 rows\n"
     ]
    },
    {
     "name": "stderr",
     "output_type": "stream",
     "text": [
      "[Stage 2:>                                                          (0 + 2) / 2]"
     ]
    },
    {
     "name": "stdout",
     "output_type": "stream",
     "text": [
      "Número de registros inicial: 300153\n"
     ]
    },
    {
     "name": "stderr",
     "output_type": "stream",
     "text": [
      "                                                                                "
     ]
    }
   ],
   "source": [
    "df_airlines = spark.read \\\n",
    "    .option(\"header\", \"true\") \\\n",
    "    .csv(\"/opt/spark/work-dir/data/airline/\")\n",
    "\n",
    "df_airlines.show(5)\n",
    "print(f\"Número de registros inicial: {df_airlines.count()}\")"
   ]
  },
  {
   "cell_type": "code",
   "execution_count": 4,
   "id": "b7b65e71-1985-48b0-813e-a91bb5f0d4d9",
   "metadata": {},
   "outputs": [
    {
     "name": "stderr",
     "output_type": "stream",
     "text": [
      "[Stage 5:=============================>                             (1 + 1) / 2]"
     ]
    },
    {
     "name": "stdout",
     "output_type": "stream",
     "text": [
      "+-----+-------+------+-----------+--------------+-----+------------+----------------+-----+--------+---------+-----+\n",
      "|index|airline|flight|source_city|departure_time|stops|arrival_time|destination_city|class|duration|days_left|price|\n",
      "+-----+-------+------+-----------+--------------+-----+------------+----------------+-----+--------+---------+-----+\n",
      "|    0|      0|     0|          0|             0|    0|           0|               0|    0|       0|        0|    0|\n",
      "+-----+-------+------+-----------+--------------+-----+------------+----------------+-----+--------+---------+-----+\n",
      "\n"
     ]
    },
    {
     "name": "stderr",
     "output_type": "stream",
     "text": [
      "                                                                                "
     ]
    }
   ],
   "source": [
    "# Drop unnecessary columns. Count how many null values the dataset has before/after the cleaning process.\n",
    "\n",
    "from pyspark.sql.functions import col, when, count, isnull\n",
    "\n",
    "nulls_before = df_airlines.select([\n",
    "    count(when(isnull(c) | col(c).isNull(), c)).alias(c) for c in df_airlines.columns\n",
    "])\n",
    "nulls_before.show()"
   ]
  },
  {
   "cell_type": "code",
   "execution_count": 5,
   "id": "60d51b92-6ef2-484a-97bb-d1f05cd7aceb",
   "metadata": {},
   "outputs": [
    {
     "name": "stderr",
     "output_type": "stream",
     "text": [
      "                                                                                "
     ]
    },
    {
     "name": "stdout",
     "output_type": "stream",
     "text": [
      "Número de registros después de limpiar: 300153\n"
     ]
    },
    {
     "name": "stderr",
     "output_type": "stream",
     "text": [
      "[Stage 16:>                                                         (0 + 2) / 2]"
     ]
    },
    {
     "name": "stdout",
     "output_type": "stream",
     "text": [
      "+-----+-------+------+-----------+--------------+-----+------------+----------------+-----+--------+---------+-----+\n",
      "|index|airline|flight|source_city|departure_time|stops|arrival_time|destination_city|class|duration|days_left|price|\n",
      "+-----+-------+------+-----------+--------------+-----+------------+----------------+-----+--------+---------+-----+\n",
      "|    0|      0|     0|          0|             0|    0|           0|               0|    0|       0|        0|    0|\n",
      "+-----+-------+------+-----------+--------------+-----+------------+----------------+-----+--------+---------+-----+\n",
      "\n"
     ]
    },
    {
     "name": "stderr",
     "output_type": "stream",
     "text": [
      "                                                                                "
     ]
    }
   ],
   "source": [
    "from pyspark.sql.functions import trim\n",
    "\n",
    "airlines_clean = df_airlines \\\n",
    "    .dropDuplicates([\"index\"]) \\\n",
    "    .withColumn(\"airline\", trim(\"airline\")) \\\n",
    "    .withColumn(\"source_city\", trim(\"source_city\")) \\\n",
    "    .withColumn(\"destination_city\", trim(\"destination_city\")) \\\n",
    "    .filter(col(\"price\").isNotNull())\n",
    "\n",
    "print(f\"Número de registros después de limpiar: {airlines_clean.count()}\")\n",
    "\n",
    "nulls_after = airlines_clean.select([\n",
    "    count(when(isnull(c) | col(c).isNull(), c)).alias(c) for c in airlines_clean.columns\n",
    "])\n",
    "nulls_after.show()\n"
   ]
  },
  {
   "cell_type": "code",
   "execution_count": 6,
   "id": "321833ab-e4a2-4a84-9cbf-b11f8101d808",
   "metadata": {},
   "outputs": [],
   "source": [
    "#Normalize categorical values: map “zero” → 0, “one” → 1, etc. in stops.\n",
    "\n",
    "from pyspark.sql.functions import lit\n",
    "\n",
    "airlines_t1 = airlines_clean.withColumn(\n",
    "    \"stops_numeric\",\n",
    "    when(col(\"stops\") == \"zero\", lit(0))\n",
    "    .when(col(\"stops\") == \"one\", lit(1))\n",
    "    .when(col(\"stops\") == \"two\", lit(2))\n",
    "    .when(col(\"stops\") == \"three\", lit(3))\n",
    "    .when(col(\"stops\") == \"four\", lit(4))\n",
    ")\n"
   ]
  },
  {
   "cell_type": "code",
   "execution_count": 7,
   "id": "df26bc22-ecdb-4297-b2ef-c2b7f526660b",
   "metadata": {},
   "outputs": [
    {
     "name": "stdout",
     "output_type": "stream",
     "text": [
      "root\n",
      " |-- index: string (nullable = true)\n",
      " |-- airline: string (nullable = true)\n",
      " |-- flight: string (nullable = true)\n",
      " |-- source_city: string (nullable = true)\n",
      " |-- departure_time: string (nullable = true)\n",
      " |-- stops: string (nullable = true)\n",
      " |-- arrival_time: string (nullable = true)\n",
      " |-- destination_city: string (nullable = true)\n",
      " |-- class: string (nullable = true)\n",
      " |-- duration: double (nullable = true)\n",
      " |-- days_left: string (nullable = true)\n",
      " |-- price: double (nullable = true)\n",
      " |-- stops_numeric: integer (nullable = true)\n",
      " |-- route: string (nullable = false)\n",
      " |-- departure_time_cat: integer (nullable = true)\n",
      " |-- arrival_time_cat: integer (nullable = true)\n",
      " |-- is_expensive: boolean (nullable = false)\n",
      "\n"
     ]
    },
    {
     "name": "stderr",
     "output_type": "stream",
     "text": [
      "[Stage 20:=============================>                            (1 + 1) / 2]"
     ]
    },
    {
     "name": "stdout",
     "output_type": "stream",
     "text": [
      "+------+--------+-------+-----------+--------------+-----+------------+----------------+-------+--------+---------+-------+-------------+------------------+------------------+----------------+------------+\n",
      "| index| airline| flight|source_city|departure_time|stops|arrival_time|destination_city|  class|duration|days_left|  price|stops_numeric|             route|departure_time_cat|arrival_time_cat|is_expensive|\n",
      "+------+--------+-------+-----------+--------------+-----+------------+----------------+-------+--------+---------+-------+-------------+------------------+------------------+----------------+------------+\n",
      "|     0|SpiceJet|SG-8709|      Delhi|       Evening| zero|       Night|          Mumbai|Economy|    2.17|        1| 5953.0|            0|    Delhi → Mumbai|                 3|            NULL|       false|\n",
      "|   100| Vistara| UK-705|      Delhi| Early_Morning|  one|       Night|          Mumbai|Economy|   12.83|        1|18450.0|            1|    Delhi → Mumbai|                 0|            NULL|        true|\n",
      "|  1000|  Indigo|6E-2373|      Delhi|     Afternoon|  one|     Evening|          Mumbai|Economy|     6.0|        7| 9373.0|            1|    Delhi → Mumbai|                 2|               3|        true|\n",
      "| 10000|GO_FIRST| G8-392|      Delhi|     Afternoon|  one|       Night|       Bangalore|Economy|    7.17|        1| 7424.0|            1| Delhi → Bangalore|                 2|            NULL|        true|\n",
      "|100000| Vistara| UK-810|  Bangalore| Early_Morning|  one|       Night|          Mumbai|Economy|   14.25|       34| 7212.0|            1|Bangalore → Mumbai|                 0|            NULL|        true|\n",
      "+------+--------+-------+-----------+--------------+-----+------------+----------------+-------+--------+---------+-------+-------------+------------------+------------------+----------------+------------+\n",
      "only showing top 5 rows\n"
     ]
    },
    {
     "name": "stderr",
     "output_type": "stream",
     "text": [
      "                                                                                "
     ]
    }
   ],
   "source": [
    "from pyspark.sql.functions import col, lit, when, concat_ws\n",
    "\n",
    "# Transform departure_time and arrival_time to numerical categories (Morning, Afternoon, etc.), then encode as numbers (0=Early_Morning, 1=Morning, etc.).\n",
    "\n",
    "airlines_t1 = airlines_clean.withColumn(\n",
    "    \"stops_numeric\",\n",
    "    when(col(\"stops\") == \"zero\", lit(0))\n",
    "    .when(col(\"stops\") == \"one\", lit(1))\n",
    "    .when(col(\"stops\") == \"two\", lit(2))\n",
    "    .when(col(\"stops\") == \"three\", lit(3))\n",
    "    .when(col(\"stops\") == \"four\", lit(4))\n",
    ")\n",
    "\n",
    "# # Create a new column called route: “Delhi → Mumbai” from source_city and destination_city.\n",
    "\n",
    "airlines_t2 = airlines_t1.withColumn(\n",
    "    \"route\",\n",
    "    concat_ws(\" → \", col(\"source_city\"), col(\"destination_city\"))\n",
    ")\n",
    "\n",
    "airlines_t3 = airlines_t2 \\\n",
    "    .withColumn(\n",
    "        \"departure_time_cat\",\n",
    "        when(col(\"departure_time\") == \"Early_Morning\", lit(0))\n",
    "        .when(col(\"departure_time\") == \"Morning\", lit(1))\n",
    "        .when(col(\"departure_time\") == \"Afternoon\", lit(2))\n",
    "        .when(col(\"departure_time\") == \"Evening\", lit(3))\n",
    "    ) \\\n",
    "    .withColumn(\n",
    "        \"arrival_time_cat\",\n",
    "        when(col(\"arrival_time\") == \"Early_Morning\", lit(0))\n",
    "        .when(col(\"arrival_time\") == \"Morning\", lit(1))\n",
    "        .when(col(\"arrival_time\") == \"Afternoon\", lit(2))\n",
    "        .when(col(\"arrival_time\") == \"Evening\", lit(3))\n",
    "    )\n",
    "\n",
    "# Add a new column is_expensive: when(price > 6000, True).otherwise(False).\n",
    "airlines_final = airlines_t3.withColumn(\n",
    "    \"is_expensive\",\n",
    "    when(col(\"price\").cast(\"double\") > 6000, lit(True)).otherwise(lit(False))\n",
    ") \\\n",
    "    .withColumn(\"price\", col(\"price\").cast(\"double\")) \\\n",
    "    .withColumn(\"duration\", col(\"duration\").cast(\"double\"))\n",
    "\n",
    "airlines_final.printSchema()\n",
    "airlines_final.show(5)\n"
   ]
  },
  {
   "cell_type": "code",
   "execution_count": 8,
   "id": "a96846aa-88c1-4400-88cd-f218ffb3718e",
   "metadata": {},
   "outputs": [
    {
     "name": "stderr",
     "output_type": "stream",
     "text": [
      "                                                                                "
     ]
    },
    {
     "name": "stdout",
     "output_type": "stream",
     "text": [
      "+---------+------------------+\n",
      "|  airline|        avg(price)|\n",
      "+---------+------------------+\n",
      "|   Indigo| 5324.216303339517|\n",
      "| SpiceJet| 6179.278881367218|\n",
      "|Air_India| 23507.01911190229|\n",
      "|  AirAsia|4091.0727419555224|\n",
      "| GO_FIRST| 5652.007595045959|\n",
      "|  Vistara| 30396.53630170735|\n",
      "+---------+------------------+\n",
      "\n"
     ]
    },
    {
     "name": "stderr",
     "output_type": "stream",
     "text": [
      "                                                                                "
     ]
    },
    {
     "name": "stdout",
     "output_type": "stream",
     "text": [
      "+--------------------+------------------+\n",
      "|               route|     avg(duration)|\n",
      "+--------------------+------------------+\n",
      "|Hyderabad → Banga...|12.093316781257894|\n",
      "|    Mumbai → Kolkata|12.836848119346259|\n",
      "|    Mumbai → Chennai| 12.66590029615016|\n",
      "|  Mumbai → Hyderabad|13.263310410697287|\n",
      "|  Mumbai → Bangalore|11.612022506790714|\n",
      "|   Bangalore → Delhi| 9.779955655713803|\n",
      "| Kolkata → Bangalore|13.792946864820731|\n",
      "|   Hyderabad → Delhi|10.829816600046978|\n",
      "| Bangalore → Chennai|14.480207488299458|\n",
      "|    Chennai → Mumbai|12.374656243306948|\n",
      "|  Bangalore → Mumbai|10.905072262153327|\n",
      "| Chennai → Bangalore|13.952593562297878|\n",
      "|      Mumbai → Delhi| 9.818057262475426|\n",
      "|  Hyderabad → Mumbai| 11.96292329093789|\n",
      "|   Chennai → Kolkata|14.515774022626285|\n",
      "|   Kolkata → Chennai|14.774181572222966|\n",
      "| Kolkata → Hyderabad|13.853107509180667|\n",
      "|   Delhi → Bangalore|10.354125035683628|\n",
      "|      Delhi → Mumbai|10.367774216757198|\n",
      "| Hyderabad → Chennai|13.293238467552772|\n",
      "+--------------------+------------------+\n",
      "only showing top 20 rows\n"
     ]
    },
    {
     "name": "stderr",
     "output_type": "stream",
     "text": [
      "                                                                                "
     ]
    },
    {
     "name": "stdout",
     "output_type": "stream",
     "text": [
      "+---------+----------+\n",
      "|  airline|max(price)|\n",
      "+---------+----------+\n",
      "|   Indigo|   31952.0|\n",
      "| SpiceJet|   34158.0|\n",
      "|Air_India|   90970.0|\n",
      "|  AirAsia|   31917.0|\n",
      "| GO_FIRST|   32803.0|\n",
      "|  Vistara|  123071.0|\n",
      "+---------+----------+\n",
      "\n"
     ]
    },
    {
     "name": "stderr",
     "output_type": "stream",
     "text": [
      "[Stage 41:=============================>                            (1 + 1) / 2]"
     ]
    },
    {
     "name": "stdout",
     "output_type": "stream",
     "text": [
      "+------------------+-----+\n",
      "|departure_time_cat|count|\n",
      "+------------------+-----+\n",
      "|              NULL|49321|\n",
      "|                 1|71146|\n",
      "|                 3|65102|\n",
      "|                 2|47794|\n",
      "|                 0|66790|\n",
      "+------------------+-----+\n",
      "\n"
     ]
    },
    {
     "name": "stderr",
     "output_type": "stream",
     "text": [
      "                                                                                "
     ]
    }
   ],
   "source": [
    "\n",
    "# Get the average price per airline.\n",
    "airlines_final.groupBy(\"airline\").avg(\"price\").show()\n",
    "\n",
    "# Average duration per route.\n",
    "airlines_final.groupBy(\"route\").avg(\"duration\").show()\n",
    "\n",
    "# Minimum and maximum price per airline.\n",
    "airlines_final.groupBy(\"airline\") \\\n",
    "    .agg({\"price\": \"min\", \"price\": \"max\"}) \\\n",
    "    .show()\n",
    "\n",
    "# Count flights by departure_time category.\n",
    "airlines_final.groupBy(\"departure_time_cat\").count().show()"
   ]
  },
  {
   "cell_type": "code",
   "execution_count": 9,
   "id": "16009a57-272d-45c1-af04-ee9e1d341240",
   "metadata": {},
   "outputs": [],
   "source": [
    "sc.stop()"
   ]
  }
 ],
 "metadata": {
  "kernelspec": {
   "display_name": "Python 3 (ipykernel)",
   "language": "python",
   "name": "python3"
  },
  "language_info": {
   "codemirror_mode": {
    "name": "ipython",
    "version": 3
   },
   "file_extension": ".py",
   "mimetype": "text/x-python",
   "name": "python",
   "nbconvert_exporter": "python",
   "pygments_lexer": "ipython3",
   "version": "3.10.12"
  }
 },
 "nbformat": 4,
 "nbformat_minor": 5
}
