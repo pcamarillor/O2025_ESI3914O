{
 "cells": [
  {
   "cell_type": "markdown",
   "id": "b92d9622",
   "metadata": {},
   "source": [
    "# <center> <img src=\"../../img/ITESOLogo.png\" alt=\"ITESO\" width=\"480\" height=\"130\"> </center>\n",
    "# <center> **Departamento de Electrónica, Sistemas e Informática** </center>\n",
    "---\n",
    "## <center> Computer Systems Engineering  </center>\n",
    "---\n",
    "### <center> Big Data Processing </center>\n",
    "---\n",
    "#### <center> **Autumn 2025** </center>\n",
    "---\n",
    "\n",
    "**Lab 03**: Data Cleaning and Transformation Pipeline\n",
    "\n",
    "**Date**: September 18th 2025\n",
    "\n",
    "**Student Name**: Juan Luis Ivan Estrella Lopez\n",
    "\n",
    "**Professor**: Pablo Camarillo Ramirez"
   ]
  },
  {
   "cell_type": "code",
   "execution_count": 1,
   "id": "425d9ced-c5a7-4fbd-9a68-a7c810fed0f8",
   "metadata": {},
   "outputs": [],
   "source": [
    "# IMPORTING FINDSPARK\n",
    "import findspark\n",
    "findspark.init()"
   ]
  },
  {
   "cell_type": "code",
   "execution_count": 2,
   "id": "57e21d9d-5203-46b6-9893-fb27b0e8a547",
   "metadata": {},
   "outputs": [
    {
     "name": "stderr",
     "output_type": "stream",
     "text": [
      "WARNING: Using incubator modules: jdk.incubator.vector\n",
      "Using Spark's default log4j profile: org/apache/spark/log4j2-defaults.properties\n",
      "Setting default log level to \"WARN\".\n",
      "To adjust logging level use sc.setLogLevel(newLevel). For SparkR, use setLogLevel(newLevel).\n",
      "25/09/20 00:05:52 WARN NativeCodeLoader: Unable to load native-hadoop library for your platform... using builtin-java classes where applicable\n"
     ]
    }
   ],
   "source": [
    "from pyspark.sql import SparkSession\n",
    "\n",
    "spark = SparkSession.builder \\\n",
    "    .appName(\"Examples on data sources (Files)\") \\\n",
    "    .master(\"spark://e3b502141eaf:7077\") \\\n",
    "    .config(\"spark.ui.port\", \"4040\") \\\n",
    "    .getOrCreate()\n",
    "\n",
    "sc = spark.sparkContext\n",
    "sc.setLogLevel(\"ERROR\")"
   ]
  },
  {
   "cell_type": "code",
   "execution_count": 3,
   "id": "ac36280b-5abb-44bc-91aa-3079a6f60f77",
   "metadata": {},
   "outputs": [
    {
     "data": {
      "text/plain": [
       "StructType([StructField('index', IntegerType(), True), StructField('airline', StringType(), True), StructField('flight', StringType(), True), StructField('source_city', StringType(), True), StructField('departure_time', StringType(), True), StructField('stops', StringType(), True), StructField('arrival_time', StringType(), True), StructField('destination_city', StringType(), True), StructField('class', StringType(), True), StructField('duration', FloatType(), True), StructField('days_left', IntegerType(), True), StructField('price', IntegerType(), True)])"
      ]
     },
     "execution_count": 3,
     "metadata": {},
     "output_type": "execute_result"
    }
   ],
   "source": [
    "from IvanE.SparkUtilsIvan import SparkUtils\n",
    "airlines_schema_columns = [(\"index\", \"int\"), \n",
    "     (\"airline\", \"string\"), \n",
    "     (\"flight\", \"string\"),\n",
    "     (\"source_city\", \"string\"),\n",
    "     (\"departure_time\", \"string\"),\n",
    "     (\"stops\", \"string\"),\n",
    "     (\"arrival_time\", \"string\"),\n",
    "     (\"destination_city\", \"string\"),\n",
    "     (\"class\", \"string\"),\n",
    "     (\"duration\", \"float\"),\n",
    "     (\"days_left\", \"int\"),\n",
    "     (\"price\", \"int\")\n",
    "     ]\n",
    "airlines_schema = SparkUtils.generate_schema(airlines_schema_columns)\n",
    "airlines_schema"
   ]
  },
  {
   "cell_type": "code",
   "execution_count": 4,
   "id": "c620b04c-a777-4c6a-918e-0bb8e11a7ea8",
   "metadata": {},
   "outputs": [
    {
     "name": "stderr",
     "output_type": "stream",
     "text": [
      "[Stage 0:>                                                          (0 + 1) / 1]"
     ]
    },
    {
     "name": "stdout",
     "output_type": "stream",
     "text": [
      "+-----+--------+-------+-----------+--------------+-----+-------------+----------------+-------+--------+---------+-----+\n",
      "|index| airline| flight|source_city|departure_time|stops| arrival_time|destination_city|  class|duration|days_left|price|\n",
      "+-----+--------+-------+-----------+--------------+-----+-------------+----------------+-------+--------+---------+-----+\n",
      "|    0|SpiceJet|SG-8709|      Delhi|       Evening| zero|        Night|          Mumbai|Economy|    2.17|        1| 5953|\n",
      "|    1|SpiceJet|SG-8157|      Delhi| Early_Morning| zero|      Morning|          Mumbai|Economy|    2.33|        1| 5953|\n",
      "|    2| AirAsia| I5-764|      Delhi| Early_Morning| zero|Early_Morning|          Mumbai|Economy|    2.17|        1| 5956|\n",
      "|    3| Vistara| UK-995|      Delhi|       Morning| zero|    Afternoon|          Mumbai|Economy|    2.25|        1| 5955|\n",
      "|    4| Vistara| UK-963|      Delhi|       Morning| zero|      Morning|          Mumbai|Economy|    2.33|        1| 5955|\n",
      "+-----+--------+-------+-----------+--------------+-----+-------------+----------------+-------+--------+---------+-----+\n",
      "only showing top 5 rows\n"
     ]
    },
    {
     "name": "stderr",
     "output_type": "stream",
     "text": [
      "                                                                                "
     ]
    }
   ],
   "source": [
    "df_airlines = spark.read \\\n",
    "                .option(\"header\", \"true\") \\\n",
    "                .schema(airlines_schema) \\\n",
    "                .csv(\"/opt/spark/work-dir/data/airline/\")\n",
    "\n",
    "df_airlines.show(n=5)"
   ]
  },
  {
   "cell_type": "code",
   "execution_count": 5,
   "id": "b0b0b93b-d9e0-4f46-b642-5a97ab2faa10",
   "metadata": {},
   "outputs": [
    {
     "name": "stderr",
     "output_type": "stream",
     "text": [
      "                                                                                "
     ]
    },
    {
     "name": "stdout",
     "output_type": "stream",
     "text": [
      "number of records before cleaning: 300153\n"
     ]
    },
    {
     "name": "stderr",
     "output_type": "stream",
     "text": [
      "                                                                                "
     ]
    },
    {
     "name": "stdout",
     "output_type": "stream",
     "text": [
      "+-----+-------+------+-----------+--------------+-----+------------+----------------+-----+--------+---------+-----+\n",
      "|index|airline|flight|source_city|departure_time|stops|arrival_time|destination_city|class|duration|days_left|price|\n",
      "+-----+-------+------+-----------+--------------+-----+------------+----------------+-----+--------+---------+-----+\n",
      "|    0|      0|     0|          0|             0|    0|           0|               0|    0|       0|        0|    0|\n",
      "+-----+-------+------+-----------+--------------+-----+------------+----------------+-----+--------+---------+-----+\n",
      "\n"
     ]
    },
    {
     "name": "stderr",
     "output_type": "stream",
     "text": [
      "                                                                                "
     ]
    },
    {
     "name": "stdout",
     "output_type": "stream",
     "text": [
      "number of records after cleaning with trim: 300153\n"
     ]
    },
    {
     "name": "stderr",
     "output_type": "stream",
     "text": [
      "                                                                                "
     ]
    },
    {
     "name": "stdout",
     "output_type": "stream",
     "text": [
      "+-----+-------+------+-----------+--------------+-----+------------+----------------+-----+--------+---------+-----+\n",
      "|index|airline|flight|source_city|departure_time|stops|arrival_time|destination_city|class|duration|days_left|price|\n",
      "+-----+-------+------+-----------+--------------+-----+------------+----------------+-----+--------+---------+-----+\n",
      "|    0|      0|     0|          0|             0|    0|           0|               0|    0|       0|        0|    0|\n",
      "+-----+-------+------+-----------+--------------+-----+------------+----------------+-----+--------+---------+-----+\n",
      "\n"
     ]
    },
    {
     "name": "stderr",
     "output_type": "stream",
     "text": [
      "                                                                                "
     ]
    },
    {
     "name": "stdout",
     "output_type": "stream",
     "text": [
      "number of records after cleaning with dropna: 300153\n"
     ]
    },
    {
     "name": "stderr",
     "output_type": "stream",
     "text": [
      "[Stage 22:=============================>                            (1 + 1) / 2]"
     ]
    },
    {
     "name": "stdout",
     "output_type": "stream",
     "text": [
      "+-----+-------+------+-----------+--------------+-----+------------+----------------+-----+--------+---------+-----+\n",
      "|index|airline|flight|source_city|departure_time|stops|arrival_time|destination_city|class|duration|days_left|price|\n",
      "+-----+-------+------+-----------+--------------+-----+------------+----------------+-----+--------+---------+-----+\n",
      "|    0|      0|     0|          0|             0|    0|           0|               0|    0|       0|        0|    0|\n",
      "+-----+-------+------+-----------+--------------+-----+------------+----------------+-----+--------+---------+-----+\n",
      "\n"
     ]
    },
    {
     "name": "stderr",
     "output_type": "stream",
     "text": [
      "                                                                                "
     ]
    }
   ],
   "source": [
    "from pyspark.sql.functions import trim, col, count, isnull, when\n",
    "print(f\"number of records before cleaning: {df_airlines.count()}\")\n",
    "# Get number of null values for each column before cleaning \n",
    "df_airlines.select([count(when(isnull(c[0]) | col(c[0]).isNull(), c[0])).alias(c[0]) for c in airlines_schema_columns]).show()\n",
    "\n",
    "# Perform data cleaning with trim (column by column)\n",
    "airlines_clean = df_airlines \\\n",
    "        .dropDuplicates([\"index\"]) \\\n",
    "        .withColumn(\"airline\", trim(\"airline\")) \\\n",
    "        .withColumn(\"source_city\", trim(\"source_city\")) \\\n",
    "        .withColumn(\"destination_city\", trim(\"destination_city\")) \\\n",
    "        .filter(col(\"price\").isNotNull())\n",
    "\n",
    "# Simply using dropna()\n",
    "airlines_clean_v2 = df_airlines.dropna()\n",
    "\n",
    "print(f\"number of records after cleaning with trim: {airlines_clean.count()}\")\n",
    "airlines_clean.select([count(when(isnull(c[0]) | col(c[0]).isNull(), c[0])).alias(c[0]) for c in airlines_schema_columns]).show()\n",
    "\n",
    "print(f\"number of records after cleaning with dropna: {airlines_clean_v2.count()}\")\n",
    "airlines_clean_v2.select([count(when(isnull(c[0]) | col(c[0]).isNull(), c[0])).alias(c[0]) for c in airlines_schema_columns]).show()"
   ]
  },
  {
   "cell_type": "code",
   "execution_count": 63,
   "id": "bed4a62f-26af-46e2-aa9c-d709135036f1",
   "metadata": {},
   "outputs": [
    {
     "name": "stdout",
     "output_type": "stream",
     "text": [
      "+-----+---------+-------+-----------+--------------+-----+-------------+----------------+-------+--------+---------+-----+---------------+\n",
      "|index|  airline| flight|source_city|departure_time|stops| arrival_time|destination_city|  class|duration|days_left|price|          route|\n",
      "+-----+---------+-------+-----------+--------------+-----+-------------+----------------+-------+--------+---------+-----+---------------+\n",
      "|    0| SpiceJet|SG-8709|      Delhi|       Evening|    0|        Night|          Mumbai|Economy|    2.17|        1| 5953|Delhi -> Mumbai|\n",
      "|    1| SpiceJet|SG-8157|      Delhi| Early_Morning|    0|      Morning|          Mumbai|Economy|    2.33|        1| 5953|Delhi -> Mumbai|\n",
      "|    2|  AirAsia| I5-764|      Delhi| Early_Morning|    0|Early_Morning|          Mumbai|Economy|    2.17|        1| 5956|Delhi -> Mumbai|\n",
      "|    3|  Vistara| UK-995|      Delhi|       Morning|    0|    Afternoon|          Mumbai|Economy|    2.25|        1| 5955|Delhi -> Mumbai|\n",
      "|    4|  Vistara| UK-963|      Delhi|       Morning|    0|      Morning|          Mumbai|Economy|    2.33|        1| 5955|Delhi -> Mumbai|\n",
      "|    5|  Vistara| UK-945|      Delhi|       Morning|    0|    Afternoon|          Mumbai|Economy|    2.33|        1| 5955|Delhi -> Mumbai|\n",
      "|    6|  Vistara| UK-927|      Delhi|       Morning|    0|      Morning|          Mumbai|Economy|    2.08|        1| 6060|Delhi -> Mumbai|\n",
      "|    7|  Vistara| UK-951|      Delhi|     Afternoon|    0|      Evening|          Mumbai|Economy|    2.17|        1| 6060|Delhi -> Mumbai|\n",
      "|    8| GO_FIRST| G8-334|      Delhi| Early_Morning|    0|      Morning|          Mumbai|Economy|    2.17|        1| 5954|Delhi -> Mumbai|\n",
      "|    9| GO_FIRST| G8-336|      Delhi|     Afternoon|    0|      Evening|          Mumbai|Economy|    2.25|        1| 5954|Delhi -> Mumbai|\n",
      "|   10| GO_FIRST| G8-392|      Delhi|     Afternoon|    0|      Evening|          Mumbai|Economy|    2.25|        1| 5954|Delhi -> Mumbai|\n",
      "|   11| GO_FIRST| G8-338|      Delhi|       Morning|    0|    Afternoon|          Mumbai|Economy|    2.33|        1| 5954|Delhi -> Mumbai|\n",
      "|   12|   Indigo|6E-5001|      Delhi| Early_Morning|    0|      Morning|          Mumbai|Economy|    2.17|        1| 5955|Delhi -> Mumbai|\n",
      "|   13|   Indigo|6E-6202|      Delhi|       Morning|    0|    Afternoon|          Mumbai|Economy|    2.17|        1| 5955|Delhi -> Mumbai|\n",
      "|   14|   Indigo| 6E-549|      Delhi|     Afternoon|    0|      Evening|          Mumbai|Economy|    2.25|        1| 5955|Delhi -> Mumbai|\n",
      "|   15|   Indigo|6E-6278|      Delhi|       Morning|    0|      Morning|          Mumbai|Economy|    2.33|        1| 5955|Delhi -> Mumbai|\n",
      "|   16|Air_India| AI-887|      Delhi| Early_Morning|    0|      Morning|          Mumbai|Economy|    2.08|        1| 5955|Delhi -> Mumbai|\n",
      "|   17|Air_India| AI-665|      Delhi| Early_Morning|    0|      Morning|          Mumbai|Economy|    2.17|        1| 5955|Delhi -> Mumbai|\n",
      "|   18|  AirAsia| I5-747|      Delhi|       Evening|    1|Early_Morning|          Mumbai|Economy|   12.25|        1| 5949|Delhi -> Mumbai|\n",
      "|   19|  AirAsia| I5-747|      Delhi|       Evening|    1|      Morning|          Mumbai|Economy|   16.33|        1| 5949|Delhi -> Mumbai|\n",
      "+-----+---------+-------+-----------+--------------+-----+-------------+----------------+-------+--------+---------+-----+---------------+\n",
      "only showing top 20 rows\n"
     ]
    },
    {
     "name": "stderr",
     "output_type": "stream",
     "text": [
      "                                                                                "
     ]
    },
    {
     "name": "stdout",
     "output_type": "stream",
     "text": [
      "+-----+---------+-------+-----------+--------------+-----+------------+----------------+-------+--------+---------+-----+---------------+\n",
      "|index|  airline| flight|source_city|departure_time|stops|arrival_time|destination_city|  class|duration|days_left|price|          route|\n",
      "+-----+---------+-------+-----------+--------------+-----+------------+----------------+-------+--------+---------+-----+---------------+\n",
      "|    0| SpiceJet|SG-8709|      Delhi|             3|    0|           4|          Mumbai|Economy|    2.17|        1| 5953|Delhi -> Mumbai|\n",
      "|    1| SpiceJet|SG-8157|      Delhi|             0|    0|           1|          Mumbai|Economy|    2.33|        1| 5953|Delhi -> Mumbai|\n",
      "|    2|  AirAsia| I5-764|      Delhi|             0|    0|           0|          Mumbai|Economy|    2.17|        1| 5956|Delhi -> Mumbai|\n",
      "|    3|  Vistara| UK-995|      Delhi|             1|    0|           2|          Mumbai|Economy|    2.25|        1| 5955|Delhi -> Mumbai|\n",
      "|    4|  Vistara| UK-963|      Delhi|             1|    0|           1|          Mumbai|Economy|    2.33|        1| 5955|Delhi -> Mumbai|\n",
      "|    5|  Vistara| UK-945|      Delhi|             1|    0|           2|          Mumbai|Economy|    2.33|        1| 5955|Delhi -> Mumbai|\n",
      "|    6|  Vistara| UK-927|      Delhi|             1|    0|           1|          Mumbai|Economy|    2.08|        1| 6060|Delhi -> Mumbai|\n",
      "|    7|  Vistara| UK-951|      Delhi|             2|    0|           3|          Mumbai|Economy|    2.17|        1| 6060|Delhi -> Mumbai|\n",
      "|    8| GO_FIRST| G8-334|      Delhi|             0|    0|           1|          Mumbai|Economy|    2.17|        1| 5954|Delhi -> Mumbai|\n",
      "|    9| GO_FIRST| G8-336|      Delhi|             2|    0|           3|          Mumbai|Economy|    2.25|        1| 5954|Delhi -> Mumbai|\n",
      "|   10| GO_FIRST| G8-392|      Delhi|             2|    0|           3|          Mumbai|Economy|    2.25|        1| 5954|Delhi -> Mumbai|\n",
      "|   11| GO_FIRST| G8-338|      Delhi|             1|    0|           2|          Mumbai|Economy|    2.33|        1| 5954|Delhi -> Mumbai|\n",
      "|   12|   Indigo|6E-5001|      Delhi|             0|    0|           1|          Mumbai|Economy|    2.17|        1| 5955|Delhi -> Mumbai|\n",
      "|   13|   Indigo|6E-6202|      Delhi|             1|    0|           2|          Mumbai|Economy|    2.17|        1| 5955|Delhi -> Mumbai|\n",
      "|   14|   Indigo| 6E-549|      Delhi|             2|    0|           3|          Mumbai|Economy|    2.25|        1| 5955|Delhi -> Mumbai|\n",
      "|   15|   Indigo|6E-6278|      Delhi|             1|    0|           1|          Mumbai|Economy|    2.33|        1| 5955|Delhi -> Mumbai|\n",
      "|   16|Air_India| AI-887|      Delhi|             0|    0|           1|          Mumbai|Economy|    2.08|        1| 5955|Delhi -> Mumbai|\n",
      "|   17|Air_India| AI-665|      Delhi|             0|    0|           1|          Mumbai|Economy|    2.17|        1| 5955|Delhi -> Mumbai|\n",
      "|   18|  AirAsia| I5-747|      Delhi|             3|    1|           0|          Mumbai|Economy|   12.25|        1| 5949|Delhi -> Mumbai|\n",
      "|   19|  AirAsia| I5-747|      Delhi|             3|    1|           1|          Mumbai|Economy|   16.33|        1| 5949|Delhi -> Mumbai|\n",
      "+-----+---------+-------+-----------+--------------+-----+------------+----------------+-------+--------+---------+-----+---------------+\n",
      "only showing top 20 rows\n",
      "+-----+---------+-------+-----------+--------------+-----+------------+----------------+-------+--------+---------+-----+---------------+------------+\n",
      "|index|  airline| flight|source_city|departure_time|stops|arrival_time|destination_city|  class|duration|days_left|price|          route|is_expensive|\n",
      "+-----+---------+-------+-----------+--------------+-----+------------+----------------+-------+--------+---------+-----+---------------+------------+\n",
      "|    0| SpiceJet|SG-8709|      Delhi|             3|    0|           4|          Mumbai|Economy|    2.17|        1| 5953|Delhi -> Mumbai|       false|\n",
      "|    1| SpiceJet|SG-8157|      Delhi|             0|    0|           1|          Mumbai|Economy|    2.33|        1| 5953|Delhi -> Mumbai|       false|\n",
      "|    2|  AirAsia| I5-764|      Delhi|             0|    0|           0|          Mumbai|Economy|    2.17|        1| 5956|Delhi -> Mumbai|       false|\n",
      "|    3|  Vistara| UK-995|      Delhi|             1|    0|           2|          Mumbai|Economy|    2.25|        1| 5955|Delhi -> Mumbai|       false|\n",
      "|    4|  Vistara| UK-963|      Delhi|             1|    0|           1|          Mumbai|Economy|    2.33|        1| 5955|Delhi -> Mumbai|       false|\n",
      "|    5|  Vistara| UK-945|      Delhi|             1|    0|           2|          Mumbai|Economy|    2.33|        1| 5955|Delhi -> Mumbai|       false|\n",
      "|    6|  Vistara| UK-927|      Delhi|             1|    0|           1|          Mumbai|Economy|    2.08|        1| 6060|Delhi -> Mumbai|        true|\n",
      "|    7|  Vistara| UK-951|      Delhi|             2|    0|           3|          Mumbai|Economy|    2.17|        1| 6060|Delhi -> Mumbai|        true|\n",
      "|    8| GO_FIRST| G8-334|      Delhi|             0|    0|           1|          Mumbai|Economy|    2.17|        1| 5954|Delhi -> Mumbai|       false|\n",
      "|    9| GO_FIRST| G8-336|      Delhi|             2|    0|           3|          Mumbai|Economy|    2.25|        1| 5954|Delhi -> Mumbai|       false|\n",
      "|   10| GO_FIRST| G8-392|      Delhi|             2|    0|           3|          Mumbai|Economy|    2.25|        1| 5954|Delhi -> Mumbai|       false|\n",
      "|   11| GO_FIRST| G8-338|      Delhi|             1|    0|           2|          Mumbai|Economy|    2.33|        1| 5954|Delhi -> Mumbai|       false|\n",
      "|   12|   Indigo|6E-5001|      Delhi|             0|    0|           1|          Mumbai|Economy|    2.17|        1| 5955|Delhi -> Mumbai|       false|\n",
      "|   13|   Indigo|6E-6202|      Delhi|             1|    0|           2|          Mumbai|Economy|    2.17|        1| 5955|Delhi -> Mumbai|       false|\n",
      "|   14|   Indigo| 6E-549|      Delhi|             2|    0|           3|          Mumbai|Economy|    2.25|        1| 5955|Delhi -> Mumbai|       false|\n",
      "|   15|   Indigo|6E-6278|      Delhi|             1|    0|           1|          Mumbai|Economy|    2.33|        1| 5955|Delhi -> Mumbai|       false|\n",
      "|   16|Air_India| AI-887|      Delhi|             0|    0|           1|          Mumbai|Economy|    2.08|        1| 5955|Delhi -> Mumbai|       false|\n",
      "|   17|Air_India| AI-665|      Delhi|             0|    0|           1|          Mumbai|Economy|    2.17|        1| 5955|Delhi -> Mumbai|       false|\n",
      "|   18|  AirAsia| I5-747|      Delhi|             3|    1|           0|          Mumbai|Economy|   12.25|        1| 5949|Delhi -> Mumbai|       false|\n",
      "|   19|  AirAsia| I5-747|      Delhi|             3|    1|           1|          Mumbai|Economy|   16.33|        1| 5949|Delhi -> Mumbai|       false|\n",
      "+-----+---------+-------+-----------+--------------+-----+------------+----------------+-------+--------+---------+-----+---------------+------------+\n",
      "only showing top 20 rows\n"
     ]
    },
    {
     "name": "stderr",
     "output_type": "stream",
     "text": [
      "                                                                                "
     ]
    },
    {
     "name": "stdout",
     "output_type": "stream",
     "text": [
      "+---------+------------------+\n",
      "|  airline|        avg(price)|\n",
      "+---------+------------------+\n",
      "|   Indigo| 5324.216303339517|\n",
      "| SpiceJet| 6179.278881367218|\n",
      "|Air_India| 23507.01911190229|\n",
      "|  AirAsia|4091.0727419555224|\n",
      "| GO_FIRST| 5652.007595045959|\n",
      "|  Vistara| 30396.53630170735|\n",
      "+---------+------------------+\n",
      "\n"
     ]
    },
    {
     "name": "stderr",
     "output_type": "stream",
     "text": [
      "                                                                                "
     ]
    },
    {
     "name": "stdout",
     "output_type": "stream",
     "text": [
      "+--------------------+------------------+\n",
      "|               route|     avg(duration)|\n",
      "+--------------------+------------------+\n",
      "|    Delhi -> Chennai|12.433964745763944|\n",
      "|  Hyderabad -> Delhi|10.829816602522587|\n",
      "|   Mumbai -> Chennai|12.665900287564627|\n",
      "|Hyderabad -> Kolkata|13.535322410033165|\n",
      "| Hyderabad -> Mumbai|11.962923295795918|\n",
      "| Mumbai -> Bangalore|11.612022516178817|\n",
      "|    Delhi -> Kolkata| 12.73596614766045|\n",
      "|   Mumbai -> Kolkata|12.836848115489666|\n",
      "|Bangalore -> Kolkata|13.099143404859825|\n",
      "| Mumbai -> Hyderabad|13.263310412247066|\n",
      "|    Kolkata -> Delhi| 11.60498857561711|\n",
      "|Hyderabad -> Chennai|13.293238468912078|\n",
      "|     Delhi -> Mumbai|10.367774213738123|\n",
      "|   Kolkata -> Mumbai|12.991932481150478|\n",
      "|     Mumbai -> Delhi|  9.81805726844943|\n",
      "|Kolkata -> Hyderabad|13.853107514948396|\n",
      "|Bangalore -> Chennai|14.480207509137166|\n",
      "|  Bangalore -> Delhi|  9.77995566082195|\n",
      "|Bangalore -> Hyde...|14.162432783513621|\n",
      "|Hyderabad -> Bang...| 12.09331678643705|\n",
      "+--------------------+------------------+\n",
      "only showing top 20 rows\n"
     ]
    },
    {
     "name": "stderr",
     "output_type": "stream",
     "text": [
      "                                                                                "
     ]
    },
    {
     "name": "stdout",
     "output_type": "stream",
     "text": [
      "+---------+---------+---------+\n",
      "|  airline|min_price|max_price|\n",
      "+---------+---------+---------+\n",
      "|   Indigo|     1105|    31952|\n",
      "| SpiceJet|     1106|    34158|\n",
      "|Air_India|     1526|    90970|\n",
      "|  AirAsia|     1105|    31917|\n",
      "| GO_FIRST|     1105|    32803|\n",
      "|  Vistara|     1714|   123071|\n",
      "+---------+---------+---------+\n",
      "\n"
     ]
    },
    {
     "name": "stderr",
     "output_type": "stream",
     "text": [
      "[Stage 208:============================>                            (1 + 1) / 2]"
     ]
    },
    {
     "name": "stdout",
     "output_type": "stream",
     "text": [
      "+--------------+-----+\n",
      "|departure_time|count|\n",
      "+--------------+-----+\n",
      "|             1|71146|\n",
      "|             3|65102|\n",
      "|             5| 1306|\n",
      "|             4|48015|\n",
      "|             2|47794|\n",
      "|             0|66790|\n",
      "+--------------+-----+\n",
      "\n"
     ]
    },
    {
     "name": "stderr",
     "output_type": "stream",
     "text": [
      "                                                                                "
     ]
    }
   ],
   "source": [
    "from pyspark.sql.functions import when, lit, concat, col, avg, min, max\n",
    "# Perform the 1st transformation changing str to int\n",
    "airlines_t1 = airlines_clean_v2.withColumn(\"stops\",\n",
    "                                           when(airlines_clean_v2.stops == \"zero\", lit(0)).when(airlines_clean_v2.stops == \"one\", lit(1))\n",
    "                                          .otherwise(lit(2)))\n",
    "#airlines_t1.filter(col('stops_numerico')==2).show()\n",
    "\n",
    "# Perform the 2nd transformation, concat source city and the destination\n",
    "airlines_t2 = airlines_t1.withColumn(\"route\", (concat(col(\"source_city\"), lit(\" -> \"), col(\"destination_city\"))))\n",
    "airlines_t2.show()\n",
    "\n",
    "airlines_t2.select('arrival_time').distinct().collect()\n",
    "\n",
    "\n",
    "# Perform the 3rd transformation, changing arrival time to numeric\n",
    "airlines_t3 = airlines_t2.withColumn(\"arrival_time\",\n",
    "                                           when(airlines_t2.arrival_time == \"Early_Morning\", lit(0)).when(airlines_t2.arrival_time == \"Morning\", lit(1))\n",
    "                                           .when(airlines_t2.arrival_time == \"Afternoon\", lit(2)).when(airlines_t2.arrival_time == \"Evening\", lit(3))\n",
    "                                            .when(airlines_t2.arrival_time == \"Night\", lit(4)).when(airlines_t2.arrival_time == \"Late_Night\", lit(5)))\n",
    "airlines_t3 = airlines_t3.withColumn(\"departure_time\",\n",
    "                                           when(airlines_t3.departure_time == \"Early_Morning\", lit(0)).when(airlines_t3.departure_time == \"Morning\", lit(1))\n",
    "                                           .when(airlines_t3.departure_time == \"Afternoon\", lit(2)).when(airlines_t3.departure_time == \"Evening\", lit(3))\n",
    "                                            .when(airlines_t3.departure_time == \"Night\", lit(4)).when(airlines_t3.departure_time == \"Late_Night\", lit(5)))\n",
    "airlines_t3.show()\n",
    "\n",
    "# 4th Transformation, is the flight expensive\n",
    "airlines_t4 = airlines_t3.withColumn(\"is_expensive\", when(airlines_t3.price > 6000, True).otherwise(False))\n",
    "airlines_t4.show()\n",
    "\n",
    "\n",
    "# Aggregations:\n",
    "# Avg price per airline\n",
    "airlines_t4.groupBy(col(\"airline\")).agg(avg(\"price\")).show()\n",
    "\n",
    "# Avg diration per route\n",
    "airlines_t4.groupBy(col(\"route\")).agg(avg(\"duration\")).show()\n",
    "\n",
    "# Min and Max price per airline\n",
    "airlines_t4.groupBy(col(\"airline\")).agg(min(\"price\").alias(\"min_price\"),\n",
    "                                          max(\"price\").alias(\"max_price\")).show()\n",
    "\n",
    "# Count Flights per Departure_time\n",
    "airlines_t4.groupBy(col(\"departure_time\")).count().show()\n",
    "\n",
    "\n",
    "\n"
   ]
  }
 ],
 "metadata": {
  "kernelspec": {
   "display_name": "Python 3 (ipykernel)",
   "language": "python",
   "name": "python3"
  },
  "language_info": {
   "codemirror_mode": {
    "name": "ipython",
    "version": 3
   },
   "file_extension": ".py",
   "mimetype": "text/x-python",
   "name": "python",
   "nbconvert_exporter": "python",
   "pygments_lexer": "ipython3",
   "version": "3.10.12"
  }
 },
 "nbformat": 4,
 "nbformat_minor": 5
}
