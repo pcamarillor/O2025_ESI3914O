{
 "cells": [
  {
   "cell_type": "markdown",
   "id": "b92d9622",
   "metadata": {},
   "source": [
    "# <center> <img src=\"../../img/ITESOLogo.png\" alt=\"ITESO\" width=\"480\" height=\"130\"> </center>\n",
    "# <center> **Departamento de Electrónica, Sistemas e Informática** </center>\n",
    "---\n",
    "## <center> Computer Systems Engineering  </center>\n",
    "---\n",
    "### <center> Big Data Processing </center>\n",
    "---\n",
    "#### <center> **Autumn 2025** </center>\n",
    "---\n",
    "\n",
    "**Lab 03**: Data Cleaning and Transformation Pipeline\n",
    "\n",
    "**Date**: September 18th 2025\n",
    "\n",
    "**Student Name**: Andre Jair Sanchez Contreras\n",
    "\n",
    "**Professor**: Pablo Camarillo Ramirez"
   ]
  },
  {
   "cell_type": "code",
   "execution_count": 1,
   "id": "f88a9d04-445b-45bc-afed-614084517942",
   "metadata": {},
   "outputs": [],
   "source": [
    "import findspark\n",
    "findspark.init()"
   ]
  },
  {
   "cell_type": "code",
   "execution_count": 2,
   "id": "db730f86-03e3-46c7-99e0-026b2ee95b80",
   "metadata": {},
   "outputs": [],
   "source": [
    "from pyspark.sql.functions import col, when, count, expr, min , max, avg, round"
   ]
  },
  {
   "cell_type": "code",
   "execution_count": 3,
   "id": "1cdecba3-84c5-4835-ad4c-5b7d5e08d64b",
   "metadata": {},
   "outputs": [],
   "source": [
    "from pyspark.sql.types import StructType, StructField, StringType, IntegerType, DoubleType"
   ]
  },
  {
   "cell_type": "code",
   "execution_count": 4,
   "id": "5ed6e027-a4fe-48f4-b82f-a5977ea0168d",
   "metadata": {},
   "outputs": [],
   "source": [
    "from pyspark.sql import SparkSession"
   ]
  },
  {
   "cell_type": "code",
   "execution_count": 5,
   "id": "590484e8-a57d-4891-a273-aa8573121e05",
   "metadata": {},
   "outputs": [
    {
     "name": "stderr",
     "output_type": "stream",
     "text": [
      "WARNING: Using incubator modules: jdk.incubator.vector\n",
      "Using Spark's default log4j profile: org/apache/spark/log4j2-defaults.properties\n",
      "Setting default log level to \"WARN\".\n",
      "To adjust logging level use sc.setLogLevel(newLevel). For SparkR, use setLogLevel(newLevel).\n",
      "25/09/22 03:19:09 WARN NativeCodeLoader: Unable to load native-hadoop library for your platform... using builtin-java classes where applicable\n"
     ]
    }
   ],
   "source": [
    "spark = SparkSession.builder \\\n",
    "    .appName(\"AirlinesDataCleaning\") \\\n",
    "    .getOrCreate()"
   ]
  },
  {
   "cell_type": "code",
   "execution_count": 6,
   "id": "86528878-5a5b-48e5-85d7-4d152944e1ce",
   "metadata": {},
   "outputs": [],
   "source": [
    "airlines_schema = StructType([\n",
    "    StructField(\"index\", IntegerType(), True),\n",
    "    StructField(\"airline\", StringType(), True),\n",
    "    StructField(\"flight\", StringType(), True),\n",
    "    StructField(\"source_city\", StringType(), True),\n",
    "    StructField(\"departure_time\", StringType(), True),\n",
    "    StructField(\"stops\", StringType(), True),\n",
    "    StructField(\"arrival_time\", StringType(), True),\n",
    "    StructField(\"destination_city\", StringType(), True),\n",
    "    StructField(\"class\", StringType(), True),\n",
    "    StructField(\"duration\", DoubleType(), True),\n",
    "    StructField(\"days_left\", IntegerType(), True),\n",
    "    StructField(\"price\", IntegerType(), True)\n",
    "])"
   ]
  },
  {
   "cell_type": "code",
   "execution_count": 7,
   "id": "7c5e8803-2bd2-46a4-93d6-9f0d9695f9b3",
   "metadata": {},
   "outputs": [
    {
     "name": "stderr",
     "output_type": "stream",
     "text": [
      "                                                                                "
     ]
    },
    {
     "name": "stdout",
     "output_type": "stream",
     "text": [
      "+-----+--------+-------+-----------+--------------+-----+-------------+----------------+-------+--------+---------+-----+\n",
      "|index| airline| flight|source_city|departure_time|stops| arrival_time|destination_city|  class|duration|days_left|price|\n",
      "+-----+--------+-------+-----------+--------------+-----+-------------+----------------+-------+--------+---------+-----+\n",
      "|    0|SpiceJet|SG-8709|      Delhi|       Evening| zero|        Night|          Mumbai|Economy|    2.17|        1| 5953|\n",
      "|    1|SpiceJet|SG-8157|      Delhi| Early_Morning| zero|      Morning|          Mumbai|Economy|    2.33|        1| 5953|\n",
      "|    2| AirAsia| I5-764|      Delhi| Early_Morning| zero|Early_Morning|          Mumbai|Economy|    2.17|        1| 5956|\n",
      "|    3| Vistara| UK-995|      Delhi|       Morning| zero|    Afternoon|          Mumbai|Economy|    2.25|        1| 5955|\n",
      "|    4| Vistara| UK-963|      Delhi|       Morning| zero|      Morning|          Mumbai|Economy|    2.33|        1| 5955|\n",
      "|    5| Vistara| UK-945|      Delhi|       Morning| zero|    Afternoon|          Mumbai|Economy|    2.33|        1| 5955|\n",
      "|    6| Vistara| UK-927|      Delhi|       Morning| zero|      Morning|          Mumbai|Economy|    2.08|        1| 6060|\n",
      "|    7| Vistara| UK-951|      Delhi|     Afternoon| zero|      Evening|          Mumbai|Economy|    2.17|        1| 6060|\n",
      "|    8|GO_FIRST| G8-334|      Delhi| Early_Morning| zero|      Morning|          Mumbai|Economy|    2.17|        1| 5954|\n",
      "|    9|GO_FIRST| G8-336|      Delhi|     Afternoon| zero|      Evening|          Mumbai|Economy|    2.25|        1| 5954|\n",
      "+-----+--------+-------+-----------+--------------+-----+-------------+----------------+-------+--------+---------+-----+\n",
      "only showing top 10 rows\n"
     ]
    }
   ],
   "source": [
    "#Upload dataset\n",
    "df_airlines = spark.read \\\n",
    "    .option(\"header\", \"true\") \\\n",
    "    .csv(\"/opt/Dataset/airlines_flights_data.csv\")\n",
    "\n",
    "df_airlines.show(10)"
   ]
  },
  {
   "cell_type": "code",
   "execution_count": 8,
   "id": "79fd627f-7d80-4f91-ab67-ec67e8918daa",
   "metadata": {},
   "outputs": [
    {
     "name": "stderr",
     "output_type": "stream",
     "text": [
      "[Stage 2:>                                                          (0 + 6) / 6]"
     ]
    },
    {
     "name": "stdout",
     "output_type": "stream",
     "text": [
      "+-----+-------+------+-----------+--------------+-----+------------+----------------+-----+--------+---------+-----+\n",
      "|index|airline|flight|source_city|departure_time|stops|arrival_time|destination_city|class|duration|days_left|price|\n",
      "+-----+-------+------+-----------+--------------+-----+------------+----------------+-----+--------+---------+-----+\n",
      "|    0|      0|     0|          0|             0|    0|           0|               0|    0|       0|        0|    0|\n",
      "+-----+-------+------+-----------+--------------+-----+------------+----------------+-----+--------+---------+-----+\n",
      "\n"
     ]
    },
    {
     "name": "stderr",
     "output_type": "stream",
     "text": [
      "                                                                                "
     ]
    }
   ],
   "source": [
    "#count null values \n",
    "df_airlines.select([\n",
    "    count(when(col(dataset).isNull(), dataset)).alias(dataset) for dataset in df_airlines.columns\n",
    "]).show()"
   ]
  },
  {
   "cell_type": "code",
   "execution_count": 10,
   "id": "a3f2713f-fdb9-47fb-9577-72ab71f92502",
   "metadata": {},
   "outputs": [
    {
     "name": "stdout",
     "output_type": "stream",
     "text": [
      "+-----+----------------+\n",
      "|stops|stops_normalized|\n",
      "+-----+----------------+\n",
      "| zero|               0|\n",
      "| zero|               0|\n",
      "| zero|               0|\n",
      "| zero|               0|\n",
      "| zero|               0|\n",
      "| zero|               0|\n",
      "| zero|               0|\n",
      "| zero|               0|\n",
      "| zero|               0|\n",
      "| zero|               0|\n",
      "| zero|               0|\n",
      "| zero|               0|\n",
      "| zero|               0|\n",
      "| zero|               0|\n",
      "| zero|               0|\n",
      "| zero|               0|\n",
      "| zero|               0|\n",
      "| zero|               0|\n",
      "|  one|               1|\n",
      "|  one|               1|\n",
      "+-----+----------------+\n",
      "only showing top 20 rows\n"
     ]
    }
   ],
   "source": [
    "#categorical values \"zero\" -> 0 and \"one\" -> 1 etc\n",
    "#using expr function spark because allows me to execute expressions directly \n",
    "df_airlines = df_airlines.withColumn(\n",
    "    \"stops_normalized\",\n",
    "    expr(\"\"\"\n",
    "        CASE \n",
    "            WHEN stops = 'zero' THEN 0\n",
    "            WHEN stops = 'one' THEN 1\n",
    "            WHEN stops = 'two' THEN 2\n",
    "            WHEN stops = 'three' THEN 3\n",
    "            ELSE NULL\n",
    "        END\n",
    "    \"\"\")\n",
    ")\n",
    "\n",
    "df_airlines.select(\"stops\", \"stops_normalized\").show(20)\n"
   ]
  },
  {
   "cell_type": "code",
   "execution_count": 11,
   "id": "3775a2af-bb7e-43c4-8f3a-426bad79c0a5",
   "metadata": {},
   "outputs": [
    {
     "name": "stdout",
     "output_type": "stream",
     "text": [
      "+-----------+----------------+--------------+\n",
      "|source_city|destination_city|         route|\n",
      "+-----------+----------------+--------------+\n",
      "|      Delhi|          Mumbai|Delhi → Mumbai|\n",
      "|      Delhi|          Mumbai|Delhi → Mumbai|\n",
      "|      Delhi|          Mumbai|Delhi → Mumbai|\n",
      "|      Delhi|          Mumbai|Delhi → Mumbai|\n",
      "|      Delhi|          Mumbai|Delhi → Mumbai|\n",
      "+-----------+----------------+--------------+\n",
      "only showing top 5 rows\n"
     ]
    }
   ],
   "source": [
    "#Route column using concat in both string and the function expr\n",
    "df_airlines = df_airlines.withColumn(\n",
    "    \"route\",\n",
    "    expr(\"concat(source_city, ' → ', destination_city)\")\n",
    ")\n",
    "\n",
    "df_airlines.select(\"source_city\", \"destination_city\", \"route\").show(5)\n"
   ]
  },
  {
   "cell_type": "code",
   "execution_count": 12,
   "id": "12902008-892d-4e93-bd03-4f1817f2e221",
   "metadata": {},
   "outputs": [
    {
     "name": "stdout",
     "output_type": "stream",
     "text": [
      "+-----+------------+\n",
      "|price|is_expensive|\n",
      "+-----+------------+\n",
      "| 5953|       false|\n",
      "| 5953|       false|\n",
      "| 5956|       false|\n",
      "| 5955|       false|\n",
      "| 5955|       false|\n",
      "| 5955|       false|\n",
      "| 6060|        true|\n",
      "| 6060|        true|\n",
      "| 5954|       false|\n",
      "| 5954|       false|\n",
      "+-----+------------+\n",
      "only showing top 10 rows\n"
     ]
    }
   ],
   "source": [
    "#Create column is_expensive when the price is > 6000\n",
    "df_airlines = df_airlines.withColumn(\n",
    "    \"is_expensive\",\n",
    "    expr(\"CASE WHEN price > 6000 THEN True ELSE False END\")\n",
    ")\n",
    "\n",
    "df_airlines.select(\"price\", \"is_expensive\").show(10)\n"
   ]
  },
  {
   "cell_type": "code",
   "execution_count": 14,
   "id": "cf0edbb1-99c4-40c1-8472-484ee8abf686",
   "metadata": {},
   "outputs": [
    {
     "name": "stdout",
     "output_type": "stream",
     "text": [
      "+---------+---------+\n",
      "|  airline|avg_price|\n",
      "+---------+---------+\n",
      "|  AirAsia|  4091.07|\n",
      "|   Indigo|  5324.22|\n",
      "| GO_FIRST|  5652.01|\n",
      "| SpiceJet|  6179.28|\n",
      "|Air_India| 23507.02|\n",
      "|  Vistara| 30396.54|\n",
      "+---------+---------+\n",
      "\n"
     ]
    }
   ],
   "source": [
    "#Average price, using the rounding function to display the result with 2 decimal points\n",
    "df_airlines.groupBy(\"airline\") \\\n",
    "    .agg(round(avg(\"price\"), 2).alias(\"avg_price\")) \\\n",
    "    .orderBy(\"avg_price\") \\\n",
    "    .show(10)"
   ]
  },
  {
   "cell_type": "code",
   "execution_count": 16,
   "id": "9a49f57e-a8bb-48dd-8dc7-24388952a751",
   "metadata": {},
   "outputs": [
    {
     "name": "stdout",
     "output_type": "stream",
     "text": [
      "+------------------+------------+\n",
      "|             route|avg_duration|\n",
      "+------------------+------------+\n",
      "| Bangalore → Delhi|        9.78|\n",
      "|    Mumbai → Delhi|        9.82|\n",
      "| Delhi → Bangalore|       10.35|\n",
      "|    Delhi → Mumbai|       10.37|\n",
      "| Hyderabad → Delhi|       10.83|\n",
      "|Bangalore → Mumbai|       10.91|\n",
      "|   Chennai → Delhi|       11.15|\n",
      "|   Kolkata → Delhi|        11.6|\n",
      "|Mumbai → Bangalore|       11.61|\n",
      "|Hyderabad → Mumbai|       11.96|\n",
      "+------------------+------------+\n",
      "only showing top 10 rows\n"
     ]
    }
   ],
   "source": [
    "#Average duration, using the rounding function to display the result with 2 decimal points\n",
    "df_airlines.groupBy(\"route\") \\\n",
    "    .agg(round(avg(\"duration\"), 2).alias(\"avg_duration\")) \\\n",
    "    .orderBy(\"avg_duration\") \\\n",
    "    .show(10)"
   ]
  },
  {
   "cell_type": "code",
   "execution_count": 17,
   "id": "bc805729-dfa6-4140-8d8f-d14f810acb6e",
   "metadata": {},
   "outputs": [
    {
     "name": "stderr",
     "output_type": "stream",
     "text": [
      "[Stage 21:>                                                         (0 + 6) / 6]"
     ]
    },
    {
     "name": "stdout",
     "output_type": "stream",
     "text": [
      "+---------+---------+---------+\n",
      "|  airline|min_price|max_price|\n",
      "+---------+---------+---------+\n",
      "|  AirAsia|    10001|     9922|\n",
      "|Air_India|    10005|     9998|\n",
      "| GO_FIRST|    10011|     9999|\n",
      "|   Indigo|    10003|     9998|\n",
      "| SpiceJet|    10012|     9971|\n",
      "|  Vistara|    10000|     9998|\n",
      "+---------+---------+---------+\n",
      "\n"
     ]
    },
    {
     "name": "stderr",
     "output_type": "stream",
     "text": [
      "                                                                                "
     ]
    }
   ],
   "source": [
    "#Min and max of the prices of each airline\n",
    "df_airlines.groupBy(\"airline\") \\\n",
    "    .agg(\n",
    "        min(\"price\").alias(\"min_price\"),\n",
    "        max(\"price\").alias(\"max_price\")\n",
    "    ) \\\n",
    "    .orderBy(\"airline\") \\\n",
    "    .show(10)"
   ]
  },
  {
   "cell_type": "code",
   "execution_count": 18,
   "id": "69045a7d-4229-4426-985c-308b1c1c7f17",
   "metadata": {},
   "outputs": [
    {
     "name": "stderr",
     "output_type": "stream",
     "text": [
      "[Stage 24:======================================>                   (4 + 2) / 6]"
     ]
    },
    {
     "name": "stdout",
     "output_type": "stream",
     "text": [
      "+--------------+------------+\n",
      "|departure_time|flight_count|\n",
      "+--------------+------------+\n",
      "|    Late_Night|        1306|\n",
      "|     Afternoon|       47794|\n",
      "|         Night|       48015|\n",
      "|       Evening|       65102|\n",
      "| Early_Morning|       66790|\n",
      "|       Morning|       71146|\n",
      "+--------------+------------+\n",
      "\n"
     ]
    },
    {
     "name": "stderr",
     "output_type": "stream",
     "text": [
      "                                                                                "
     ]
    }
   ],
   "source": [
    "#count flights by departure time\n",
    "df_airlines.groupBy(\"departure_time\") \\\n",
    "    .agg(count(\"*\").alias(\"flight_count\")) \\\n",
    "    .orderBy(\"flight_count\") \\\n",
    "    .show()\n"
   ]
  },
  {
   "cell_type": "code",
   "execution_count": null,
   "id": "85c82069-c91a-442e-9818-0ceb3c3cef39",
   "metadata": {},
   "outputs": [],
   "source": []
  }
 ],
 "metadata": {
  "kernelspec": {
   "display_name": "Python 3 (ipykernel)",
   "language": "python",
   "name": "python3"
  },
  "language_info": {
   "codemirror_mode": {
    "name": "ipython",
    "version": 3
   },
   "file_extension": ".py",
   "mimetype": "text/x-python",
   "name": "python",
   "nbconvert_exporter": "python",
   "pygments_lexer": "ipython3",
   "version": "3.10.12"
  }
 },
 "nbformat": 4,
 "nbformat_minor": 5
}
