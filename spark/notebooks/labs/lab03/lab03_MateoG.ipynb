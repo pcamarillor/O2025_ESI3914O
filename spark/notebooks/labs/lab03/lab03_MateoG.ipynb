{
 "cells": [
  {
   "cell_type": "markdown",
   "id": "b92d9622",
   "metadata": {},
   "source": [
    "# <center> <img src=\"../../img/ITESOLogo.png\" alt=\"ITESO\" width=\"480\" height=\"130\"> </center>\n",
    "# <center> **Departamento de Electrónica, Sistemas e Informática** </center>\n",
    "---\n",
    "## <center> Computer Systems Engineering  </center>\n",
    "---\n",
    "### <center> Big Data Processing </center>\n",
    "---\n",
    "#### <center> **Autumn 2025** </center>\n",
    "---\n",
    "\n",
    "**Lab 03**: Data Cleaning and Transformation Pipeline\n",
    "\n",
    "**Date**: September 18th 2025\n",
    "\n",
    "**Student Name**: Mateo Garcia Lopez\n",
    "\n",
    "**Professor**: Pablo Camarillo Ramirez"
   ]
  },
  {
   "cell_type": "code",
   "execution_count": 5,
   "id": "48910e4a-53f3-4472-b5aa-ab188db7c245",
   "metadata": {},
   "outputs": [],
   "source": [
    "import findspark\n",
    "findspark.init()\n",
    "\n",
    "from pyspark.sql import SparkSession\n",
    "from pyspark.sql.functions import col, count, when, isnull, trim, lit, concat_ws, avg, min, max"
   ]
  },
  {
   "cell_type": "code",
   "execution_count": 7,
   "id": "48ef78f3-c7d9-43c0-af49-0ee0e8112c77",
   "metadata": {},
   "outputs": [],
   "source": [
    "# - 1. Spark Session Initialization -\n",
    "spark = SparkSession.builder \\\n",
    "    .appName(\"Airline Data Processing\") \\\n",
    "    .master(\"spark://00a67c339fa3:7077\") \\\n",
    "    .config(\"spark.ui.port\", \"4040\") \\\n",
    "    .getOrCreate()\n",
    "\n",
    "sc = spark.sparkContext\n",
    "sc.setLogLevel(\"ERROR\")"
   ]
  },
  {
   "cell_type": "code",
   "execution_count": 9,
   "id": "110de801-a6b0-43d3-89f3-2a957362aadc",
   "metadata": {},
   "outputs": [
    {
     "name": "stderr",
     "output_type": "stream",
     "text": [
      "[Stage 25:>                                                         (0 + 1) / 1]"
     ]
    },
    {
     "name": "stdout",
     "output_type": "stream",
     "text": [
      "+-----+--------+-------+-----------+--------------+-----+-------------+----------------+-------+--------+---------+-----+\n",
      "|index| airline| flight|source_city|departure_time|stops| arrival_time|destination_city|  class|duration|days_left|price|\n",
      "+-----+--------+-------+-----------+--------------+-----+-------------+----------------+-------+--------+---------+-----+\n",
      "|    0|SpiceJet|SG-8709|      Delhi|       Evening| zero|        Night|          Mumbai|Economy|    2.17|        1| 5953|\n",
      "|    1|SpiceJet|SG-8157|      Delhi| Early_Morning| zero|      Morning|          Mumbai|Economy|    2.33|        1| 5953|\n",
      "|    2| AirAsia| I5-764|      Delhi| Early_Morning| zero|Early_Morning|          Mumbai|Economy|    2.17|        1| 5956|\n",
      "|    3| Vistara| UK-995|      Delhi|       Morning| zero|    Afternoon|          Mumbai|Economy|    2.25|        1| 5955|\n",
      "|    4| Vistara| UK-963|      Delhi|       Morning| zero|      Morning|          Mumbai|Economy|    2.33|        1| 5955|\n",
      "+-----+--------+-------+-----------+--------------+-----+-------------+----------------+-------+--------+---------+-----+\n",
      "only showing top 5 rows\n"
     ]
    },
    {
     "name": "stderr",
     "output_type": "stream",
     "text": [
      "                                                                                "
     ]
    }
   ],
   "source": [
    "df_airlines = spark.read \\\n",
    "                .option(\"header\", \"true\") \\\n",
    "                .schema(airlines_schema) \\\n",
    "                .csv(\"/opt/spark/work-dir/data/airline/\")\n",
    "\n",
    "df_airlines.show(n=5)"
   ]
  },
  {
   "cell_type": "code",
   "execution_count": 11,
   "id": "0f6d0d8b-abb7-48bb-b078-3a9d008476e0",
   "metadata": {},
   "outputs": [
    {
     "data": {
      "text/plain": [
       "StructType([StructField('index', IntegerType(), True), StructField('airline', StringType(), True), StructField('flight', StringType(), True), StructField('source_city', StringType(), True), StructField('departure_time', StringType(), True), StructField('stops', StringType(), True), StructField('arrival_time', StringType(), True), StructField('destination_city', StringType(), True), StructField('class', StringType(), True), StructField('duration', FloatType(), True), StructField('days_left', IntegerType(), True), StructField('price', IntegerType(), True)])"
      ]
     },
     "execution_count": 11,
     "metadata": {},
     "output_type": "execute_result"
    }
   ],
   "source": [
    "from pcamarillor.spark_utils import SparkUtils\n",
    "airlines_schema_columns = [(\"index\", \"int\"), \n",
    "     (\"airline\", \"string\"), \n",
    "     (\"flight\", \"string\"),\n",
    "     (\"source_city\", \"string\"),\n",
    "     (\"departure_time\", \"string\"),\n",
    "     (\"stops\", \"string\"),\n",
    "     (\"arrival_time\", \"string\"),\n",
    "     (\"destination_city\", \"string\"),\n",
    "     (\"class\", \"string\"),\n",
    "     (\"duration\", \"float\"),\n",
    "     (\"days_left\", \"int\"),\n",
    "     (\"price\", \"int\")\n",
    "     ]\n",
    "airlines_schema = SparkUtils.generate_schema(airlines_schema_columns)\n",
    "airlines_schema"
   ]
  },
  {
   "cell_type": "code",
   "execution_count": 12,
   "id": "96032a60-4a0b-49a5-8c45-6b4098deffaf",
   "metadata": {},
   "outputs": [
    {
     "name": "stderr",
     "output_type": "stream",
     "text": [
      "                                                                                "
     ]
    },
    {
     "name": "stdout",
     "output_type": "stream",
     "text": [
      "number of records before cleaning: 300153\n"
     ]
    },
    {
     "name": "stderr",
     "output_type": "stream",
     "text": [
      "                                                                                "
     ]
    },
    {
     "name": "stdout",
     "output_type": "stream",
     "text": [
      "+-----+-------+------+-----------+--------------+-----+------------+----------------+-----+--------+---------+-----+\n",
      "|index|airline|flight|source_city|departure_time|stops|arrival_time|destination_city|class|duration|days_left|price|\n",
      "+-----+-------+------+-----------+--------------+-----+------------+----------------+-----+--------+---------+-----+\n",
      "|    0|      0|     0|          0|             0|    0|           0|               0|    0|       0|        0|    0|\n",
      "+-----+-------+------+-----------+--------------+-----+------------+----------------+-----+--------+---------+-----+\n",
      "\n"
     ]
    },
    {
     "name": "stderr",
     "output_type": "stream",
     "text": [
      "                                                                                "
     ]
    },
    {
     "name": "stdout",
     "output_type": "stream",
     "text": [
      "number of records after cleaning with trim: 300153\n"
     ]
    },
    {
     "name": "stderr",
     "output_type": "stream",
     "text": [
      "                                                                                "
     ]
    },
    {
     "name": "stdout",
     "output_type": "stream",
     "text": [
      "+-----+-------+------+-----------+--------------+-----+------------+----------------+-----+--------+---------+-----+\n",
      "|index|airline|flight|source_city|departure_time|stops|arrival_time|destination_city|class|duration|days_left|price|\n",
      "+-----+-------+------+-----------+--------------+-----+------------+----------------+-----+--------+---------+-----+\n",
      "|    0|      0|     0|          0|             0|    0|           0|               0|    0|       0|        0|    0|\n",
      "+-----+-------+------+-----------+--------------+-----+------------+----------------+-----+--------+---------+-----+\n",
      "\n"
     ]
    },
    {
     "name": "stderr",
     "output_type": "stream",
     "text": [
      "                                                                                "
     ]
    },
    {
     "name": "stdout",
     "output_type": "stream",
     "text": [
      "number of records after cleaning with dropna: 300153\n"
     ]
    },
    {
     "name": "stderr",
     "output_type": "stream",
     "text": [
      "[Stage 47:=============================>                            (1 + 1) / 2]"
     ]
    },
    {
     "name": "stdout",
     "output_type": "stream",
     "text": [
      "+-----+-------+------+-----------+--------------+-----+------------+----------------+-----+--------+---------+-----+\n",
      "|index|airline|flight|source_city|departure_time|stops|arrival_time|destination_city|class|duration|days_left|price|\n",
      "+-----+-------+------+-----------+--------------+-----+------------+----------------+-----+--------+---------+-----+\n",
      "|    0|      0|     0|          0|             0|    0|           0|               0|    0|       0|        0|    0|\n",
      "+-----+-------+------+-----------+--------------+-----+------------+----------------+-----+--------+---------+-----+\n",
      "\n"
     ]
    },
    {
     "name": "stderr",
     "output_type": "stream",
     "text": [
      "                                                                                "
     ]
    }
   ],
   "source": [
    "from pyspark.sql.functions import trim, col, count, isnull, when\n",
    "print(f\"number of records before cleaning: {df_airlines.count()}\")\n",
    "# Get number of null values for each column before cleaning \n",
    "df_airlines.select([count(when(isnull(c[0]) | col(c[0]).isNull(), c[0])).alias(c[0]) for c in airlines_schema_columns]).show()\n",
    "\n",
    "# Perform data cleaning with trim (column by column)\n",
    "airlines_clean = df_airlines \\\n",
    "        .dropDuplicates([\"index\"]) \\\n",
    "        .withColumn(\"airline\", trim(\"airline\")) \\\n",
    "        .withColumn(\"source_city\", trim(\"source_city\")) \\\n",
    "        .withColumn(\"destination_city\", trim(\"destination_city\")) \\\n",
    "        .filter(col(\"price\").isNotNull())\n",
    "\n",
    "# Simply using dropna()\n",
    "airlines_clean_v2 = df_airlines.dropna()\n",
    "\n",
    "print(f\"number of records after cleaning with trim: {airlines_clean.count()}\")\n",
    "airlines_clean.select([count(when(isnull(c[0]) | col(c[0]).isNull(), c[0])).alias(c[0]) for c in airlines_schema_columns]).show()\n",
    "\n",
    "print(f\"number of records after cleaning with dropna: {airlines_clean_v2.count()}\")\n",
    "airlines_clean_v2.select([count(when(isnull(c[0]) | col(c[0]).isNull(), c[0])).alias(c[0]) for c in airlines_schema_columns]).show()"
   ]
  },
  {
   "cell_type": "code",
   "execution_count": 14,
   "id": "26eb86af-317d-4af0-8cbe-cf8508f72187",
   "metadata": {},
   "outputs": [],
   "source": [
    "# - 4. Data Transformations -\n",
    "\n",
    "# Applying all transformations sequentially\n",
    "transformed_df = airlines_clean \\\n",
    "    .withColumn(\n",
    "        # Normalize 'stops' column: \"zero\" -> 0, \"one\" -> 1, \"two_or_more\" -> 2\n",
    "        \"stops\",\n",
    "        when(col(\"stops\") == \"zero\", 0)\n",
    "        .when(col(\"stops\") == \"one\", 1)\n",
    "        .otherwise(2) # Assuming \"two_or_more\" is the only other possibility\n",
    "    ) \\\n",
    "    .withColumn(\n",
    "        # Create a new column 'route'\n",
    "        \"route\",\n",
    "        concat_ws(\" → \", col(\"source_city\"), col(\"destination_city\"))\n",
    "    ) \\\n",
    "    .withColumn(\n",
    "        # Encode 'departure_time' numerically\n",
    "        \"departure_time_encoded\",\n",
    "        when(col(\"departure_time\") == \"Early_Morning\", 0)\n",
    "        .when(col(\"departure_time\") == \"Morning\", 1)\n",
    "        .when(col(\"departure_time\") == \"Afternoon\", 2)\n",
    "        .when(col(\"departure_time\") == \"Evening\", 3)\n",
    "        .when(col(\"departure_time\") == \"Night\", 4)\n",
    "        .otherwise(5) # For \"Late_Night\"\n",
    "    ) \\\n",
    "    .withColumn(\n",
    "        # Encode 'arrival_time' numerically\n",
    "        \"arrival_time_encoded\",\n",
    "        when(col(\"arrival_time\") == \"Early_Morning\", 0)\n",
    "        .when(col(\"arrival_time\") == \"Morning\", 1)\n",
    "        .when(col(\"arrival_time\") == \"Afternoon\", 2)\n",
    "        .when(col(\"arrival_time\") == \"Evening\", 3)\n",
    "        .when(col(\"arrival_time\") == \"Night\", 4)\n",
    "        .otherwise(5) # For \"Late_Night\"\n",
    "    ) \\\n",
    "    .withColumn(\n",
    "        # Add a new boolean column 'is_expensive'\n",
    "        \"is_expensive\",\n",
    "        when(col(\"price\") > 6000, True).otherwise(False)\n",
    "    )"
   ]
  },
  {
   "cell_type": "code",
   "execution_count": 15,
   "id": "bd46b703-44ec-44f8-a1d4-de4dbeacb1c7",
   "metadata": {},
   "outputs": [
    {
     "name": "stdout",
     "output_type": "stream",
     "text": [
      "\n",
      "✅ All transformations applied successfully. Final DataFrame schema and sample:\n",
      "root\n",
      " |-- index: integer (nullable = true)\n",
      " |-- airline: string (nullable = true)\n",
      " |-- flight: string (nullable = true)\n",
      " |-- source_city: string (nullable = true)\n",
      " |-- departure_time: string (nullable = true)\n",
      " |-- stops: integer (nullable = false)\n",
      " |-- arrival_time: string (nullable = true)\n",
      " |-- destination_city: string (nullable = true)\n",
      " |-- class: string (nullable = true)\n",
      " |-- duration: float (nullable = true)\n",
      " |-- days_left: integer (nullable = true)\n",
      " |-- price: integer (nullable = true)\n",
      " |-- route: string (nullable = false)\n",
      " |-- departure_time_encoded: integer (nullable = false)\n",
      " |-- arrival_time_encoded: integer (nullable = false)\n",
      " |-- is_expensive: boolean (nullable = false)\n",
      "\n"
     ]
    },
    {
     "name": "stderr",
     "output_type": "stream",
     "text": [
      "[Stage 50:=============================>                            (1 + 1) / 2]"
     ]
    },
    {
     "name": "stdout",
     "output_type": "stream",
     "text": [
      "+--------+-----+--------------+--------------+----------------------+-----+------------+\n",
      "| airline|stops|         route|departure_time|departure_time_encoded|price|is_expensive|\n",
      "+--------+-----+--------------+--------------+----------------------+-----+------------+\n",
      "|SpiceJet|    0|Delhi → Mumbai| Early_Morning|                     0| 5953|       false|\n",
      "| Vistara|    0|Delhi → Mumbai|       Morning|                     1| 5955|       false|\n",
      "| Vistara|    0|Delhi → Mumbai|       Morning|                     1| 5955|       false|\n",
      "| Vistara|    0|Delhi → Mumbai|       Morning|                     1| 6060|        true|\n",
      "|GO_FIRST|    0|Delhi → Mumbai|     Afternoon|                     2| 5954|       false|\n",
      "+--------+-----+--------------+--------------+----------------------+-----+------------+\n",
      "only showing top 5 rows\n"
     ]
    },
    {
     "name": "stderr",
     "output_type": "stream",
     "text": [
      "                                                                                "
     ]
    }
   ],
   "source": [
    "print(\"\\nAll transformations applied successfully. Final DataFrame schema and sample:\")\n",
    "transformed_df.printSchema()\n",
    "transformed_df.select(\"airline\", \"stops\", \"route\", \"departure_time\", \"departure_time_encoded\", \"price\", \"is_expensive\").show(5)"
   ]
  },
  {
   "cell_type": "code",
   "execution_count": 16,
   "id": "0fd9a330-843c-4e47-b73e-71c303513fa1",
   "metadata": {},
   "outputs": [
    {
     "name": "stdout",
     "output_type": "stream",
     "text": [
      "\n",
      "- Aggregation Results -\n",
      "\n",
      "Average price per airline:\n"
     ]
    },
    {
     "name": "stderr",
     "output_type": "stream",
     "text": [
      "                                                                                "
     ]
    },
    {
     "name": "stdout",
     "output_type": "stream",
     "text": [
      "+---------+------------------+\n",
      "|  airline|     average_price|\n",
      "+---------+------------------+\n",
      "|  Vistara| 30396.53630170735|\n",
      "|Air_India| 23507.01911190229|\n",
      "| SpiceJet| 6179.278881367218|\n",
      "| GO_FIRST| 5652.007595045959|\n",
      "|   Indigo| 5324.216303339517|\n",
      "|  AirAsia|4091.0727419555224|\n",
      "+---------+------------------+\n",
      "\n",
      "\n",
      "Average duration per route:\n"
     ]
    },
    {
     "name": "stderr",
     "output_type": "stream",
     "text": [
      "                                                                                "
     ]
    },
    {
     "name": "stdout",
     "output_type": "stream",
     "text": [
      "+--------------------+------------------+\n",
      "|               route|  average_duration|\n",
      "+--------------------+------------------+\n",
      "|   Kolkata → Chennai|14.774181563782903|\n",
      "|   Chennai → Kolkata|14.515774035955694|\n",
      "| Bangalore → Chennai|14.480207509137166|\n",
      "|Bangalore → Hyder...|14.162432783513621|\n",
      "| Chennai → Bangalore|13.952593563812163|\n",
      "| Kolkata → Hyderabad|13.853107514948396|\n",
      "| Kolkata → Bangalore| 13.79294687524098|\n",
      "| Hyderabad → Kolkata|13.535322410033165|\n",
      "| Hyderabad → Chennai|13.293238468912078|\n",
      "|  Mumbai → Hyderabad|13.263310412247066|\n",
      "| Chennai → Hyderabad|13.153984931732971|\n",
      "| Bangalore → Kolkata|13.099143404859825|\n",
      "|    Kolkata → Mumbai|12.991932481150478|\n",
      "|    Mumbai → Kolkata|12.836848115489666|\n",
      "|     Delhi → Kolkata| 12.73596614766045|\n",
      "|    Mumbai → Chennai|12.665900287564627|\n",
      "|   Delhi → Hyderabad|12.518350118710492|\n",
      "|     Delhi → Chennai|12.433964745763944|\n",
      "|    Chennai → Mumbai|12.374656244132625|\n",
      "|Hyderabad → Banga...| 12.09331678643705|\n",
      "+--------------------+------------------+\n",
      "only showing top 20 rows\n",
      "\n",
      "Minimum and maximum price per airline:\n"
     ]
    },
    {
     "name": "stderr",
     "output_type": "stream",
     "text": [
      "                                                                                "
     ]
    },
    {
     "name": "stdout",
     "output_type": "stream",
     "text": [
      "+---------+---------+---------+\n",
      "|  airline|min_price|max_price|\n",
      "+---------+---------+---------+\n",
      "|  AirAsia|     1105|    31917|\n",
      "|Air_India|     1526|    90970|\n",
      "| GO_FIRST|     1105|    32803|\n",
      "|   Indigo|     1105|    31952|\n",
      "| SpiceJet|     1106|    34158|\n",
      "|  Vistara|     1714|   123071|\n",
      "+---------+---------+---------+\n",
      "\n",
      "\n",
      "Count of flights by departure time category:\n"
     ]
    },
    {
     "name": "stderr",
     "output_type": "stream",
     "text": [
      "[Stage 71:=============================>                            (1 + 1) / 2]"
     ]
    },
    {
     "name": "stdout",
     "output_type": "stream",
     "text": [
      "+--------------+-----+\n",
      "|departure_time|count|\n",
      "+--------------+-----+\n",
      "|       Morning|71146|\n",
      "| Early_Morning|66790|\n",
      "|       Evening|65102|\n",
      "|         Night|48015|\n",
      "|     Afternoon|47794|\n",
      "|    Late_Night| 1306|\n",
      "+--------------+-----+\n",
      "\n"
     ]
    },
    {
     "name": "stderr",
     "output_type": "stream",
     "text": [
      "                                                                                "
     ]
    }
   ],
   "source": [
    "# --- 5. Aggregations ---\n",
    "\n",
    "print(\"\\n- Aggregation Results -\")\n",
    "\n",
    "## Get the average price per airline\n",
    "print(\"\\nAverage price per airline:\")\n",
    "avg_price_per_airline = transformed_df.groupBy(\"airline\") \\\n",
    "                                      .agg(avg(\"price\").alias(\"average_price\")) \\\n",
    "                                      .orderBy(col(\"average_price\").desc())\n",
    "avg_price_per_airline.show()\n",
    "\n",
    "## Average duration per route\n",
    "print(\"\\nAverage duration per route:\")\n",
    "avg_duration_per_route = transformed_df.groupBy(\"route\") \\\n",
    "                                       .agg(avg(\"duration\").alias(\"average_duration\")) \\\n",
    "                                       .orderBy(col(\"average_duration\").desc())\n",
    "avg_duration_per_route.show()\n",
    "\n",
    "## Minimum and maximum price per airline\n",
    "print(\"\\nMinimum and maximum price per airline:\")\n",
    "min_max_price_per_airline = transformed_df.groupBy(\"airline\") \\\n",
    "                                          .agg(\n",
    "                                              min(\"price\").alias(\"min_price\"),\n",
    "                                              max(\"price\").alias(\"max_price\")\n",
    "                                          ) \\\n",
    "                                          .orderBy(\"airline\")\n",
    "min_max_price_per_airline.show()\n",
    "\n",
    "## Count flights by departure_time category\n",
    "print(\"\\nCount of flights by departure time category:\")\n",
    "flights_by_departure = transformed_df.groupBy(\"departure_time\") \\\n",
    "                                     .count() \\\n",
    "                                     .orderBy(col(\"count\").desc())\n",
    "flights_by_departure.show()"
   ]
  },
  {
   "cell_type": "code",
   "execution_count": 17,
   "id": "61ff9465-cea9-483a-ad89-72929f86511c",
   "metadata": {},
   "outputs": [],
   "source": [
    "spark.stop()"
   ]
  }
 ],
 "metadata": {
  "kernelspec": {
   "display_name": "Python 3 (ipykernel)",
   "language": "python",
   "name": "python3"
  },
  "language_info": {
   "codemirror_mode": {
    "name": "ipython",
    "version": 3
   },
   "file_extension": ".py",
   "mimetype": "text/x-python",
   "name": "python",
   "nbconvert_exporter": "python",
   "pygments_lexer": "ipython3",
   "version": "3.10.12"
  }
 },
 "nbformat": 4,
 "nbformat_minor": 5
}
