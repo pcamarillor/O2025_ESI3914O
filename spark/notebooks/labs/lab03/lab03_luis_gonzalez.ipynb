{
 "cells": [
  {
   "cell_type": "markdown",
   "id": "b92d9622",
   "metadata": {},
   "source": [
    "# <center> <img src=\"../../img/ITESOLogo.png\" alt=\"ITESO\" width=\"480\" height=\"130\"> </center>\n",
    "# <center> **Departamento de Electrónica, Sistemas e Informática** </center>\n",
    "---\n",
    "## <center> Program: _Procesamiento de Datos Masivos_  </center>\n",
    "---\n",
    "### <center> **Autumn 2025** </center>\n",
    "---\n",
    "\n",
    "**Lab 03**:\n",
    "\n",
    "**September 20, 2025**:\n",
    "\n",
    "**Luis Alberto González Escamilla**:\n",
    "\n",
    "**Professor**: Pablo Camarillo Ramirez"
   ]
  },
  {
   "cell_type": "code",
   "execution_count": 1,
   "id": "413409af-6d82-4dd5-92d0-f7e1fb404c18",
   "metadata": {},
   "outputs": [],
   "source": [
    "import findspark\n",
    "findspark.init()"
   ]
  },
  {
   "cell_type": "code",
   "execution_count": 2,
   "id": "c5949208-c3bf-4daa-a668-4a70ee0f340b",
   "metadata": {},
   "outputs": [
    {
     "name": "stderr",
     "output_type": "stream",
     "text": [
      "WARNING: Using incubator modules: jdk.incubator.vector\n",
      "Using Spark's default log4j profile: org/apache/spark/log4j2-defaults.properties\n",
      "Setting default log level to \"WARN\".\n",
      "To adjust logging level use sc.setLogLevel(newLevel). For SparkR, use setLogLevel(newLevel).\n",
      "25/09/22 08:51:42 WARN NativeCodeLoader: Unable to load native-hadoop library for your platform... using builtin-java classes where applicable\n",
      "25/09/22 08:51:43 WARN Utils: Service 'SparkUI' could not bind on port 4040. Attempting port 4041.\n"
     ]
    }
   ],
   "source": [
    "from pyspark.sql import SparkSession\n",
    "\n",
    "spark = SparkSession.builder \\\n",
    "    .appName(\"Examples on data sources (Files)\") \\\n",
    "    .master(\"spark://2abf04f86c87:7077\") \\\n",
    "    .config(\"spark.ui.port\", \"4040\") \\\n",
    "    .getOrCreate()\n",
    "\n",
    "sc = spark.sparkContext\n",
    "sc.setLogLevel(\"ERROR\")"
   ]
  },
  {
   "cell_type": "code",
   "execution_count": 3,
   "id": "6c57585e-a5d7-468e-a0ab-1d9b0a79323b",
   "metadata": {},
   "outputs": [
    {
     "data": {
      "text/plain": [
       "StructType([StructField('index', IntegerType(), True), StructField('airline', StringType(), True), StructField('flight', StringType(), True), StructField('source_city', StringType(), True), StructField('departure_time', StringType(), True), StructField('stops', StringType(), True), StructField('arrival_time', StringType(), True), StructField('destination_city', StringType(), True), StructField('class', StringType(), True), StructField('duration', FloatType(), True), StructField('days_left', IntegerType(), True), StructField('price', IntegerType(), True)])"
      ]
     },
     "execution_count": 3,
     "metadata": {},
     "output_type": "execute_result"
    }
   ],
   "source": [
    "from luis_gonzalez.spark_utils import SparkUtils\n",
    "airlines_schema_columns = [(\"index\", \"int\"), \n",
    "     (\"airline\", \"string\"), \n",
    "     (\"flight\", \"string\"),\n",
    "     (\"source_city\", \"string\"),\n",
    "     (\"departure_time\", \"string\"),\n",
    "     (\"stops\", \"string\"),\n",
    "     (\"arrival_time\", \"string\"),\n",
    "     (\"destination_city\", \"string\"),\n",
    "     (\"class\", \"string\"),\n",
    "     (\"duration\", \"float\"),\n",
    "     (\"days_left\", \"int\"),\n",
    "     (\"price\", \"int\")\n",
    "     ]\n",
    "airlines_schema = SparkUtils.generate_schema(airlines_schema_columns)\n",
    "airlines_schema"
   ]
  },
  {
   "cell_type": "code",
   "execution_count": null,
   "id": "c1a761ff-45b3-4ea7-bb7f-551018919dee",
   "metadata": {},
   "outputs": [
    {
     "name": "stderr",
     "output_type": "stream",
     "text": [
      "[Stage 0:>                                                          (0 + 0) / 1]"
     ]
    }
   ],
   "source": [
    "df_airlines = spark.read \\\n",
    "                .option(\"header\", \"true\") \\\n",
    "                .schema(airlines_schema) \\\n",
    "                .csv(\"/opt/spark/work-dir/data/airline/\")\n",
    "\n",
    "df_airlines.show(n=5)"
   ]
  },
  {
   "cell_type": "code",
   "execution_count": null,
   "id": "2312e34c-16d7-470c-81fb-3fc7adef194a",
   "metadata": {},
   "outputs": [],
   "source": [
    "from pyspark.sql.functions import trim, col, count, isnull, when, avg, min, max, lit, concat\n",
    "print(f\"number of records before cleaning: {df_airlines.count()}\")\n",
    "# Get number of null values for each column before cleaning \n",
    "df_airlines.select([count(when(isnull(c[0]) | col(c[0]).isNull(), c[0])).alias(c[0]) for c in airlines_schema_columns]).show()\n",
    "\n",
    "# Perform data cleaning with trim (column by column)\n",
    "airlines_clean = df_airlines \\\n",
    "        .dropDuplicates([\"index\"]) \\\n",
    "        .withColumn(\"airline\", trim(\"airline\")) \\\n",
    "        .withColumn(\"source_city\", trim(\"source_city\")) \\\n",
    "        .withColumn(\"destination_city\", trim(\"destination_city\")) \\\n",
    "        .filter(col(\"price\").isNotNull())\n",
    "\n",
    "# Simply using dropna()\n",
    "airlines_clean_v2 = df_airlines.dropna()\n",
    "\n",
    "print(f\"number of records after cleaning with trim: {airlines_clean.count()}\")\n",
    "airlines_clean.select([count(when(isnull(c[0]) | col(c[0]).isNull(), c[0])).alias(c[0]) for c in airlines_schema_columns]).show()\n",
    "\n",
    "print(f\"number of records after cleaning with dropna: {airlines_clean_v2.count()}\")\n",
    "airlines_clean_v2.select([count(when(isnull(c[0]) | col(c[0]).isNull(), c[0])).alias(c[0]) for c in airlines_schema_columns]).show()"
   ]
  },
  {
   "cell_type": "markdown",
   "id": "ca7b91a5-cb4b-44a1-97e8-133386cef622",
   "metadata": {},
   "source": [
    "### #1. Stops transformation"
   ]
  },
  {
   "cell_type": "code",
   "execution_count": null,
   "id": "ad645bf7-e3a7-4c69-a998-9c1a57fddad9",
   "metadata": {},
   "outputs": [],
   "source": [
    "airlines_t1 = airlines_clean_v2.withColumn(\"stops_numeric\",\n",
    "                                 when(col(\"stops\") == \"zero\", lit(0))\n",
    "                                .when(col(\"stops\") == \"one\", lit(1))\n",
    "                                .when(col(\"stops\") == \"two_or_more\", lit(2))\n",
    "                                .when(col(\"stops\") == \"two\", lit(2))\n",
    "                                .otherwise(lit(0)))\n",
    "\n",
    "airlines_t1.show()"
   ]
  },
  {
   "cell_type": "markdown",
   "id": "1bd8c4b0-1541-4147-af9f-4cb852324897",
   "metadata": {},
   "source": [
    "### #2. Create route column"
   ]
  },
  {
   "cell_type": "code",
   "execution_count": null,
   "id": "2b619b3e-3906-4781-8c04-dddbe96d94b9",
   "metadata": {},
   "outputs": [],
   "source": [
    "airlines_t2 = airlines_t1.withColumn(\"route\", concat(col(\"source_city\"), lit(\" → \"), col(\"destination_city\")))\n",
    "\n",
    "airlines_t2.show()"
   ]
  },
  {
   "cell_type": "markdown",
   "id": "5279a0bc-f9e8-48e2-bcfc-c3a61590388c",
   "metadata": {},
   "source": [
    "### #3. Transform time columns to numerical"
   ]
  },
  {
   "cell_type": "code",
   "execution_count": null,
   "id": "81d3ecf4-031f-4181-bf58-4e6025f8a3ef",
   "metadata": {},
   "outputs": [],
   "source": [
    "time_mapping = {\n",
    "    \"Early_Morning\": 0,\n",
    "    \"Morning\": 1,\n",
    "    \"Afternoon\": 2,\n",
    "    \"Evening\": 3,\n",
    "    \"Night\": 4\n",
    "}\n",
    "\n",
    "airlines_t3 = airlines_t2 \\\n",
    "    .withColumn(\"departure_time_numeric\",\n",
    "                when(col(\"departure_time\") == \"Early_Morning\", lit(0))\n",
    "                .when(col(\"departure_time\") == \"Morning\", lit(1))\n",
    "                .when(col(\"departure_time\") == \"Afternoon\", lit(2))\n",
    "                .when(col(\"departure_time\") == \"Evening\", lit(3))\n",
    "                .when(col(\"departure_time\") == \"Night\", lit(4))\n",
    "                .otherwise(lit(0))) \\\n",
    "    .withColumn(\"arrival_time_numeric\",\n",
    "                when(col(\"arrival_time\") == \"Early_Morning\", lit(0))\n",
    "                .when(col(\"arrival_time\") == \"Morning\", lit(1))\n",
    "                .when(col(\"arrival_time\") == \"Afternoon\", lit(2))\n",
    "                .when(col(\"arrival_time\") == \"Evening\", lit(3))\n",
    "                .when(col(\"arrival_time\") == \"Night\", lit(4))\n",
    "                .otherwise(lit(0)))\n",
    "\n",
    "airlines_t3.show()"
   ]
  },
  {
   "cell_type": "markdown",
   "id": "2db1998f-27a3-414a-b484-fec6bbe4b15a",
   "metadata": {},
   "source": [
    "### #4. Add is_expensive column"
   ]
  },
  {
   "cell_type": "code",
   "execution_count": null,
   "id": "82dca711-257b-46a2-9083-239f5830d529",
   "metadata": {},
   "outputs": [],
   "source": [
    "airlines_final = airlines_t3.withColumn(\"is_expensive\", when(col(\"price\") > 6000, lit(True)).otherwise(lit(False)))\n",
    "airlines_final.show()"
   ]
  },
  {
   "cell_type": "markdown",
   "id": "e9508f88-9a80-4148-9059-b3fb3bab2864",
   "metadata": {},
   "source": [
    "## **Aggregations**"
   ]
  },
  {
   "cell_type": "markdown",
   "id": "1877a2fa-0def-4519-84c1-bcd041a7b6bf",
   "metadata": {},
   "source": [
    "### #1. Average price per airline"
   ]
  },
  {
   "cell_type": "code",
   "execution_count": null,
   "id": "c72c3a1d-15bb-4e5f-a248-dff171d3c75f",
   "metadata": {},
   "outputs": [],
   "source": [
    "avg_price_per_airline = airlines_final.groupBy(\"airline\").agg(avg(\"price\").alias(\"avg_price\"))\n",
    "avg_price_per_airline.orderBy(\"avg_price\", ascending=False).show()"
   ]
  },
  {
   "cell_type": "markdown",
   "id": "2d7b3165-c814-424d-bb09-dd478dce49ce",
   "metadata": {},
   "source": [
    "### #2. Average duration per route"
   ]
  },
  {
   "cell_type": "code",
   "execution_count": null,
   "id": "9cd6192b-b25d-40ba-a495-6e147b76b579",
   "metadata": {},
   "outputs": [],
   "source": [
    "avg_duration_per_route = airlines_final.groupBy(\"route\").agg(avg(\"duration\").alias(\"avg_duration\"))\n",
    "avg_duration_per_route.orderBy(\"avg_duration\", ascending=False).show()"
   ]
  },
  {
   "cell_type": "markdown",
   "id": "a9c926ad-8e4a-4499-b8f3-1822fd96eee4",
   "metadata": {},
   "source": [
    "### #3. Minimum and maximum price per airline"
   ]
  },
  {
   "cell_type": "code",
   "execution_count": null,
   "id": "d41c9e3d-155e-4fc4-a33d-d830c9236f8d",
   "metadata": {},
   "outputs": [],
   "source": [
    "min_max_price_per_airline = airlines_final.groupBy(\"airline\").agg(\n",
    "    min(\"price\").alias(\"min_price\"),\n",
    "    max(\"price\").alias(\"max_price\")\n",
    ")\n",
    "min_max_price_per_airline.orderBy(\"min_price\").show()"
   ]
  },
  {
   "cell_type": "markdown",
   "id": "be785f87-a30f-4061-8ff6-b31291e619a8",
   "metadata": {},
   "source": [
    "### #4. Count flights by departure_time category"
   ]
  },
  {
   "cell_type": "code",
   "execution_count": null,
   "id": "c033f41d-26ad-4b2c-a9ef-b1360800c561",
   "metadata": {},
   "outputs": [],
   "source": [
    "flights_by_departure = airlines_final.groupBy(\"departure_time\").agg(count(\"*\").alias(\"flight_count\"))\n",
    "flights_by_departure.orderBy(\"flight_count\", ascending=False).show()"
   ]
  },
  {
   "cell_type": "code",
   "execution_count": null,
   "id": "f24cbe8d-a7eb-4dda-affa-9a8b0f405ac4",
   "metadata": {},
   "outputs": [],
   "source": [
    "sc.stop()"
   ]
  }
 ],
 "metadata": {
  "kernelspec": {
   "display_name": "Python 3 (ipykernel)",
   "language": "python",
   "name": "python3"
  },
  "language_info": {
   "codemirror_mode": {
    "name": "ipython",
    "version": 3
   },
   "file_extension": ".py",
   "mimetype": "text/x-python",
   "name": "python",
   "nbconvert_exporter": "python",
   "pygments_lexer": "ipython3",
   "version": "3.10.12"
  }
 },
 "nbformat": 4,
 "nbformat_minor": 5
}
