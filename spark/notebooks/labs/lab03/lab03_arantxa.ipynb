{
 "cells": [
  {
   "cell_type": "markdown",
   "id": "b92d9622",
   "metadata": {},
   "source": [
    "# <center> <img src=\"../../img/ITESOLogo.png\" alt=\"ITESO\" width=\"480\" height=\"130\"> </center>\n",
    "# <center> **Departamento de Electrónica, Sistemas e Informática** </center>\n",
    "---\n",
    "## <center> Computer Systems Engineering  </center>\n",
    "---\n",
    "### <center> Big Data Processing </center>\n",
    "---\n",
    "#### <center> **Autumn 2025** </center>\n",
    "---\n",
    "\n",
    "**Lab 03**: Data Cleaning and Transformation Pipeline\n",
    "\n",
    "**Date**: September 18th 2025\n",
    "\n",
    "**Student Name**:\n",
    "\n",
    "**Professor**: Pablo Camarillo Ramirez"
   ]
  },
  {
   "cell_type": "code",
   "execution_count": 1,
   "id": "b3b82c85-fc13-4d97-ae07-47420b2e4a52",
   "metadata": {},
   "outputs": [],
   "source": [
    "import findspark\n",
    "findspark.init()\n",
    "\n",
    "from pyspark.sql import SparkSession\n",
    "from pyspark.sql.functions import col, count, isnull, when, trim, concat_ws, lit, avg, min, max\n",
    "from arantxa.spark_utils import SparkUtils"
   ]
  },
  {
   "cell_type": "code",
   "execution_count": 2,
   "id": "20da98c1-d77e-4a46-8926-516588f8f9a1",
   "metadata": {},
   "outputs": [
    {
     "name": "stderr",
     "output_type": "stream",
     "text": [
      "WARNING: Using incubator modules: jdk.incubator.vector\n",
      "Using Spark's default log4j profile: org/apache/spark/log4j2-defaults.properties\n",
      "Setting default log level to \"WARN\".\n",
      "To adjust logging level use sc.setLogLevel(newLevel). For SparkR, use setLogLevel(newLevel).\n",
      "25/09/20 02:42:49 WARN NativeCodeLoader: Unable to load native-hadoop library for your platform... using builtin-java classes where applicable\n"
     ]
    }
   ],
   "source": [
    "spark = SparkSession.builder \\\n",
    "    .appName(\"Examples on data sources (Files)\") \\\n",
    "    .master(\"spark://bb6818473482:7077\") \\\n",
    "    .config(\"spark.ui.port\", \"4040\") \\\n",
    "    .getOrCreate()\n",
    "\n",
    "sc = spark.sparkContext\n",
    "sc.setLogLevel(\"ERROR\")"
   ]
  },
  {
   "cell_type": "code",
   "execution_count": 3,
   "id": "7b03cf2d-8bf8-4825-8e59-d4688bb2808b",
   "metadata": {},
   "outputs": [],
   "source": [
    "### DEFINE SCHEMA\n",
    "airlines_schema_columns = [(\"index\", \"int\"), \n",
    "     (\"airline\", \"string\"), \n",
    "     (\"flight\", \"string\"),\n",
    "     (\"source_city\", \"string\"),\n",
    "     (\"departure_time\", \"string\"),\n",
    "     (\"stops\", \"string\"),\n",
    "     (\"arrival_time\", \"string\"),\n",
    "     (\"destination_city\", \"string\"),\n",
    "     (\"class\", \"string\"),\n",
    "     (\"duration\", \"float\"),\n",
    "     (\"days_left\", \"int\"),\n",
    "     (\"price\", \"int\")\n",
    "     ]\n",
    "\n",
    "airlines_schema = SparkUtils.generate_schema(airlines_schema_columns)"
   ]
  },
  {
   "cell_type": "code",
   "execution_count": 6,
   "id": "fa6eaadf-60fa-4747-83b0-70397b03d2e6",
   "metadata": {},
   "outputs": [
    {
     "name": "stdout",
     "output_type": "stream",
     "text": [
      "Dataset loaded successfully. Schema and first 5 rows:\n",
      "root\n",
      " |-- index: integer (nullable = true)\n",
      " |-- airline: string (nullable = true)\n",
      " |-- flight: string (nullable = true)\n",
      " |-- source_city: string (nullable = true)\n",
      " |-- departure_time: string (nullable = true)\n",
      " |-- stops: string (nullable = true)\n",
      " |-- arrival_time: string (nullable = true)\n",
      " |-- destination_city: string (nullable = true)\n",
      " |-- class: string (nullable = true)\n",
      " |-- duration: float (nullable = true)\n",
      " |-- days_left: integer (nullable = true)\n",
      " |-- price: integer (nullable = true)\n",
      "\n"
     ]
    },
    {
     "name": "stderr",
     "output_type": "stream",
     "text": [
      "[Stage 0:>                                                          (0 + 1) / 1]"
     ]
    },
    {
     "name": "stdout",
     "output_type": "stream",
     "text": [
      "+-----+--------+-------+-----------+--------------+-----+-------------+----------------+-------+--------+---------+-----+\n",
      "|index| airline| flight|source_city|departure_time|stops| arrival_time|destination_city|  class|duration|days_left|price|\n",
      "+-----+--------+-------+-----------+--------------+-----+-------------+----------------+-------+--------+---------+-----+\n",
      "|    0|SpiceJet|SG-8709|      Delhi|       Evening| zero|        Night|          Mumbai|Economy|    2.17|        1| 5953|\n",
      "|    1|SpiceJet|SG-8157|      Delhi| Early_Morning| zero|      Morning|          Mumbai|Economy|    2.33|        1| 5953|\n",
      "|    2| AirAsia| I5-764|      Delhi| Early_Morning| zero|Early_Morning|          Mumbai|Economy|    2.17|        1| 5956|\n",
      "|    3| Vistara| UK-995|      Delhi|       Morning| zero|    Afternoon|          Mumbai|Economy|    2.25|        1| 5955|\n",
      "|    4| Vistara| UK-963|      Delhi|       Morning| zero|      Morning|          Mumbai|Economy|    2.33|        1| 5955|\n",
      "+-----+--------+-------+-----------+--------------+-----+-------------+----------------+-------+--------+---------+-----+\n",
      "only showing top 5 rows\n"
     ]
    },
    {
     "name": "stderr",
     "output_type": "stream",
     "text": [
      "                                                                                "
     ]
    }
   ],
   "source": [
    "### LOAD CSV\n",
    "df_airlines = spark.read \\\n",
    "                .option(\"header\", \"true\") \\\n",
    "                .schema(airlines_schema) \\\n",
    "                .csv(\"/opt/spark/work-dir/data/airline/\")\n",
    "\n",
    "print(\"Dataset loaded successfully. Schema and first 5 rows:\")\n",
    "df_airlines.printSchema()\n",
    "df_airlines.show(n=5)"
   ]
  },
  {
   "cell_type": "code",
   "execution_count": 7,
   "id": "30700cd5-49aa-450e-866b-79a4cd259bc5",
   "metadata": {},
   "outputs": [
    {
     "name": "stderr",
     "output_type": "stream",
     "text": [
      "                                                                                "
     ]
    },
    {
     "name": "stdout",
     "output_type": "stream",
     "text": [
      "Original record count: 300153\n",
      "Null values count before cleaning:\n"
     ]
    },
    {
     "name": "stderr",
     "output_type": "stream",
     "text": [
      "                                                                                "
     ]
    },
    {
     "name": "stdout",
     "output_type": "stream",
     "text": [
      "+-----+-------+------+-----------+--------------+-----+------------+----------------+-----+--------+---------+-----+\n",
      "|index|airline|flight|source_city|departure_time|stops|arrival_time|destination_city|class|duration|days_left|price|\n",
      "+-----+-------+------+-----------+--------------+-----+------------+----------------+-----+--------+---------+-----+\n",
      "|    0|      0|     0|          0|             0|    0|           0|               0|    0|       0|        0|    0|\n",
      "+-----+-------+------+-----------+--------------+-----+------------+----------------+-----+--------+---------+-----+\n",
      "\n"
     ]
    },
    {
     "name": "stderr",
     "output_type": "stream",
     "text": [
      "                                                                                "
     ]
    },
    {
     "name": "stdout",
     "output_type": "stream",
     "text": [
      "Record count after dropping columns and nulls: 300153\n",
      "Null values count after cleaning:\n"
     ]
    },
    {
     "name": "stderr",
     "output_type": "stream",
     "text": [
      "[Stage 10:=============================>                            (1 + 1) / 2]"
     ]
    },
    {
     "name": "stdout",
     "output_type": "stream",
     "text": [
      "+-------+-----------+--------------+-----+------------+----------------+-----+--------+---------+-----+\n",
      "|airline|source_city|departure_time|stops|arrival_time|destination_city|class|duration|days_left|price|\n",
      "+-------+-----------+--------------+-----+------------+----------------+-----+--------+---------+-----+\n",
      "|      0|          0|             0|    0|           0|               0|    0|       0|        0|    0|\n",
      "+-------+-----------+--------------+-----+------------+----------------+-----+--------+---------+-----+\n",
      "\n"
     ]
    },
    {
     "name": "stderr",
     "output_type": "stream",
     "text": [
      "                                                                                "
     ]
    }
   ],
   "source": [
    "### DATA CLEANING\n",
    "print(f\"Original record count: {df_airlines.count()}\")\n",
    "print(\"Null values count before cleaning:\")\n",
    "df_airlines.select([count(when(isnull(c), c)).alias(c) for c in df_airlines.columns]).show()\n",
    "\n",
    "# Drop unnecessary columns and remove any rows with nulls\n",
    "df_cleaned = df_airlines.drop(\"index\", \"flight\").dropna()\n",
    "\n",
    "print(f\"Record count after dropping columns and nulls: {df_cleaned.count()}\")\n",
    "print(\"Null values count after cleaning:\")\n",
    "df_cleaned.select([count(when(isnull(c), c)).alias(c) for c in df_cleaned.columns]).show()"
   ]
  },
  {
   "cell_type": "code",
   "execution_count": 10,
   "id": "c8120dd9-8e2d-4865-b9a1-bf8a638b32fd",
   "metadata": {},
   "outputs": [
    {
     "name": "stdout",
     "output_type": "stream",
     "text": [
      "DataFrame after all transformations:\n",
      "+--------+-----------+--------------+-----+-------------+----------------+-------+--------+---------+-----+-------------+--------------+----------------------+--------------------+------------+\n",
      "| airline|source_city|departure_time|stops| arrival_time|destination_city|  class|duration|days_left|price|stops_numeric|         route|departure_time_encoded|arrival_time_encoded|is_expensive|\n",
      "+--------+-----------+--------------+-----+-------------+----------------+-------+--------+---------+-----+-------------+--------------+----------------------+--------------------+------------+\n",
      "|SpiceJet|      Delhi|       Evening| zero|        Night|          Mumbai|Economy|    2.17|        1| 5953|            0|Delhi → Mumbai|                     3|                   4|       false|\n",
      "|SpiceJet|      Delhi| Early_Morning| zero|      Morning|          Mumbai|Economy|    2.33|        1| 5953|            0|Delhi → Mumbai|                     0|                   1|       false|\n",
      "| AirAsia|      Delhi| Early_Morning| zero|Early_Morning|          Mumbai|Economy|    2.17|        1| 5956|            0|Delhi → Mumbai|                     0|                   0|       false|\n",
      "| Vistara|      Delhi|       Morning| zero|    Afternoon|          Mumbai|Economy|    2.25|        1| 5955|            0|Delhi → Mumbai|                     1|                   2|       false|\n",
      "| Vistara|      Delhi|       Morning| zero|      Morning|          Mumbai|Economy|    2.33|        1| 5955|            0|Delhi → Mumbai|                     1|                   1|       false|\n",
      "| Vistara|      Delhi|       Morning| zero|    Afternoon|          Mumbai|Economy|    2.33|        1| 5955|            0|Delhi → Mumbai|                     1|                   2|       false|\n",
      "| Vistara|      Delhi|       Morning| zero|      Morning|          Mumbai|Economy|    2.08|        1| 6060|            0|Delhi → Mumbai|                     1|                   1|        true|\n",
      "| Vistara|      Delhi|     Afternoon| zero|      Evening|          Mumbai|Economy|    2.17|        1| 6060|            0|Delhi → Mumbai|                     2|                   3|        true|\n",
      "|GO_FIRST|      Delhi| Early_Morning| zero|      Morning|          Mumbai|Economy|    2.17|        1| 5954|            0|Delhi → Mumbai|                     0|                   1|       false|\n",
      "|GO_FIRST|      Delhi|     Afternoon| zero|      Evening|          Mumbai|Economy|    2.25|        1| 5954|            0|Delhi → Mumbai|                     2|                   3|       false|\n",
      "+--------+-----------+--------------+-----+-------------+----------------+-------+--------+---------+-----+-------------+--------------+----------------------+--------------------+------------+\n",
      "only showing top 10 rows\n"
     ]
    }
   ],
   "source": [
    "### DATA TRANSFORMATION\n",
    "df_transformed = df_cleaned \\\n",
    "    .withColumn(\"stops_numeric\",\n",
    "                when(col(\"stops\") == \"zero\", 0)\n",
    "                .when(col(\"stops\") == \"one\", 1)\n",
    "                .otherwise(2)) \\\n",
    "    .withColumn(\"route\", concat_ws(\" → \", col(\"source_city\"), col(\"destination_city\"))) \\\n",
    "    .withColumn(\"departure_time_encoded\",\n",
    "                when(col(\"departure_time\") == \"Early_Morning\", 0)\n",
    "                .when(col(\"departure_time\") == \"Morning\", 1)\n",
    "                .when(col(\"departure_time\") == \"Afternoon\", 2)\n",
    "                .when(col(\"departure_time\") == \"Evening\", 3)\n",
    "                .when(col(\"departure_time\") == \"Night\", 4)\n",
    "                .otherwise(5)) \\\n",
    "    .withColumn(\"arrival_time_encoded\",\n",
    "                when(col(\"arrival_time\") == \"Early_Morning\", 0)\n",
    "                .when(col(\"arrival_time\") == \"Morning\", 1)\n",
    "                .when(col(\"arrival_time\") == \"Afternoon\", 2)\n",
    "                .when(col(\"arrival_time\") == \"Evening\", 3)\n",
    "                .when(col(\"arrival_time\") == \"Night\", 4)\n",
    "                .otherwise(5)) \\\n",
    "    .withColumn(\"is_expensive\",\n",
    "                when(col(\"price\") > 6000, True)\n",
    "                .otherwise(False))\n",
    "\n",
    "print(\"DataFrame after all transformations:\")\n",
    "df_transformed.show(n=10)"
   ]
  },
  {
   "cell_type": "code",
   "execution_count": 11,
   "id": "410a911d-7668-418a-995e-731ce6a0dbd1",
   "metadata": {},
   "outputs": [
    {
     "name": "stdout",
     "output_type": "stream",
     "text": [
      "## Average price per airline ##\n"
     ]
    },
    {
     "name": "stderr",
     "output_type": "stream",
     "text": [
      "[Stage 14:=============================>                            (1 + 1) / 2]"
     ]
    },
    {
     "name": "stdout",
     "output_type": "stream",
     "text": [
      "+---------+------------------+\n",
      "|  airline|         avg_price|\n",
      "+---------+------------------+\n",
      "|   Indigo| 5324.216303339517|\n",
      "| SpiceJet| 6179.278881367218|\n",
      "|Air_India| 23507.01911190229|\n",
      "|  AirAsia|4091.0727419555224|\n",
      "| GO_FIRST| 5652.007595045959|\n",
      "|  Vistara| 30396.53630170735|\n",
      "+---------+------------------+\n",
      "\n"
     ]
    },
    {
     "name": "stderr",
     "output_type": "stream",
     "text": [
      "                                                                                "
     ]
    }
   ],
   "source": [
    "### AGGREGATIONS - AVG PRICE PER AIRLINE\n",
    "print(\"## Average price per airline ##\")\n",
    "avg_price_per_airline = df_transformed.groupBy(\"airline\").agg(avg(\"price\").alias(\"avg_price\"))\n",
    "avg_price_per_airline.show()"
   ]
  },
  {
   "cell_type": "code",
   "execution_count": 12,
   "id": "e21c2b31-cbdb-4a80-af05-b76cecc37d51",
   "metadata": {},
   "outputs": [
    {
     "name": "stdout",
     "output_type": "stream",
     "text": [
      "## Average duration per route ##\n"
     ]
    },
    {
     "name": "stderr",
     "output_type": "stream",
     "text": [
      "[Stage 17:=============================>                            (1 + 1) / 2]"
     ]
    },
    {
     "name": "stdout",
     "output_type": "stream",
     "text": [
      "+--------------------+------------------+\n",
      "|               route|      avg_duration|\n",
      "+--------------------+------------------+\n",
      "|Hyderabad → Banga...| 12.09331678643705|\n",
      "|    Mumbai → Kolkata|12.836848115489666|\n",
      "|    Mumbai → Chennai|12.665900287564627|\n",
      "|  Mumbai → Hyderabad|13.263310412247066|\n",
      "|  Mumbai → Bangalore|11.612022516178817|\n",
      "|   Bangalore → Delhi|  9.77995566082195|\n",
      "| Kolkata → Bangalore| 13.79294687524098|\n",
      "|   Hyderabad → Delhi|10.829816602522587|\n",
      "| Bangalore → Chennai|14.480207509137166|\n",
      "|  Bangalore → Mumbai| 10.90507225639642|\n",
      "|      Mumbai → Delhi|  9.81805726844943|\n",
      "|  Hyderabad → Mumbai|11.962923295795918|\n",
      "|   Kolkata → Chennai|14.774181563782903|\n",
      "| Kolkata → Hyderabad|13.853107514948396|\n",
      "|   Delhi → Bangalore| 10.35412503844018|\n",
      "|      Delhi → Mumbai|10.367774213738123|\n",
      "| Hyderabad → Chennai|13.293238468912078|\n",
      "|Bangalore → Hyder...|14.162432783513621|\n",
      "|     Kolkata → Delhi| 11.60498857561711|\n",
      "|   Delhi → Hyderabad|12.518350118710492|\n",
      "+--------------------+------------------+\n",
      "only showing top 20 rows\n"
     ]
    },
    {
     "name": "stderr",
     "output_type": "stream",
     "text": [
      "                                                                                "
     ]
    }
   ],
   "source": [
    "### AGGREGATIONS - AVG DURATION PER ROUTE\n",
    "print(\"## Average duration per route ##\")\n",
    "avg_duration_per_route = df_transformed.groupBy(\"route\").agg(avg(\"duration\").alias(\"avg_duration\"))\n",
    "avg_duration_per_route.show()"
   ]
  },
  {
   "cell_type": "code",
   "execution_count": 13,
   "id": "dddf531f-a5d0-4e4b-b856-e561803b08eb",
   "metadata": {},
   "outputs": [
    {
     "name": "stdout",
     "output_type": "stream",
     "text": [
      "## Minimum and maximum price per airline ##\n"
     ]
    },
    {
     "name": "stderr",
     "output_type": "stream",
     "text": [
      "[Stage 20:>                                                         (0 + 2) / 2]"
     ]
    },
    {
     "name": "stdout",
     "output_type": "stream",
     "text": [
      "+---------+---------+---------+\n",
      "|  airline|min_price|max_price|\n",
      "+---------+---------+---------+\n",
      "|   Indigo|     1105|    31952|\n",
      "| SpiceJet|     1106|    34158|\n",
      "|Air_India|     1526|    90970|\n",
      "|  AirAsia|     1105|    31917|\n",
      "| GO_FIRST|     1105|    32803|\n",
      "|  Vistara|     1714|   123071|\n",
      "+---------+---------+---------+\n",
      "\n"
     ]
    },
    {
     "name": "stderr",
     "output_type": "stream",
     "text": [
      "                                                                                "
     ]
    }
   ],
   "source": [
    "### AGGREGATIONS - MIN/MAX PRICE PER AIRLINE\n",
    "print(\"## Minimum and maximum price per airline ##\")\n",
    "price_range_per_airline = df_transformed.groupBy(\"airline\").agg(\n",
    "    min(\"price\").alias(\"min_price\"),\n",
    "    max(\"price\").alias(\"max_price\")\n",
    ")\n",
    "price_range_per_airline.show()"
   ]
  },
  {
   "cell_type": "code",
   "execution_count": null,
   "id": "ceb0cfa7-9b07-4d8c-9e38-ca3b1b2f6f81",
   "metadata": {},
   "outputs": [],
   "source": [
    "### AGGREGATIONS - FLIGHTS BY DEPARTURE TIME\n",
    "print(\"## Count flights by departure time category ##\")\n",
    "flights_by_departure = df_transformed.groupBy(\"departure_time\").count()\n",
    "flights_by_departure.show()"
   ]
  },
  {
   "cell_type": "code",
   "execution_count": null,
   "id": "761c15e8-919a-44bd-9840-bb56259b4dde",
   "metadata": {},
   "outputs": [],
   "source": [
    "sc.stop()"
   ]
  }
 ],
 "metadata": {
  "kernelspec": {
   "display_name": "Python 3 (ipykernel)",
   "language": "python",
   "name": "python3"
  },
  "language_info": {
   "codemirror_mode": {
    "name": "ipython",
    "version": 3
   },
   "file_extension": ".py",
   "mimetype": "text/x-python",
   "name": "python",
   "nbconvert_exporter": "python",
   "pygments_lexer": "ipython3",
   "version": "3.10.12"
  }
 },
 "nbformat": 4,
 "nbformat_minor": 5
}
