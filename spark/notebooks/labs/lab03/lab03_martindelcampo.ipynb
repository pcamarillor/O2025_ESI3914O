{
 "cells": [
  {
   "cell_type": "markdown",
   "id": "ba5e2cd8",
   "metadata": {},
   "source": [
    "# <center> <img src=\"../../img/ITESOLogo.png\" alt=\"ITESO\" width=\"480\" height=\"130\"> </center>\n",
    "# <center> **Departamento de Electrónica, Sistemas e Informática** </center>\n",
    "---\n",
    "## <center> Computer Systems Engineering  </center>\n",
    "---\n",
    "### <center> Big Data Processing </center>\n",
    "---\n",
    "#### <center> **Autumn 2025** </center>\n",
    "---\n",
    "\n",
    "**Lab 03**: Data Cleaning and Transformation Pipeline\n",
    "\n",
    "**Date**: September 18th 2025\n",
    "\n",
    "**Student Name**: Rodrigo Martín del Campo\n",
    "\n",
    "**Professor**: Pablo Camarillo Ramirez"
   ]
  },
  {
   "cell_type": "markdown",
   "id": "7ded6e40",
   "metadata": {},
   "source": [
    "## 1. Importing Required Libraries\n",
    "\n",
    "This section imports the necessary libraries for Spark and initializes the Spark environment."
   ]
  },
  {
   "cell_type": "code",
   "execution_count": 106,
   "id": "28d6b138",
   "metadata": {},
   "outputs": [],
   "source": [
    "import findspark\n",
    "findspark.init()\n",
    "from pyspark.sql import SparkSession\n",
    "from pyspark.sql.functions import trim, col, count, isnull, when, lit, concat, avg, min, max"
   ]
  },
  {
   "cell_type": "markdown",
   "id": "9e6b0c8a",
   "metadata": {},
   "source": [
    "## 2. Creating the Spark Session\n",
    "\n",
    "Here, we create a Spark session and set up the Spark context for our application."
   ]
  },
  {
   "cell_type": "code",
   "execution_count": 107,
   "id": "b889cec2",
   "metadata": {},
   "outputs": [],
   "source": [
    "spark = SparkSession.builder \\\n",
    "    .appName(\"Examples on data sources (Files)\") \\\n",
    "    .master(\"spark://7239a1f7373c:7077\") \\\n",
    "    .config(\"spark.ui.port\", \"4040\") \\\n",
    "    .getOrCreate()\n",
    "\n",
    "sc = spark.sparkContext\n",
    "sc.setLogLevel(\"ERROR\")"
   ]
  },
  {
   "cell_type": "markdown",
   "id": "a2a04b6a",
   "metadata": {},
   "source": [
    "## 3. Defining the Data Schema\n",
    "\n",
    "We define the schema for the airlines dataset using a utility function."
   ]
  },
  {
   "cell_type": "code",
   "execution_count": 108,
   "id": "a891f7e9",
   "metadata": {},
   "outputs": [
    {
     "data": {
      "text/plain": [
       "StructType([StructField('index', IntegerType(), True), StructField('airline', StringType(), True), StructField('flight', StringType(), True), StructField('source_city', StringType(), True), StructField('departure_time', StringType(), True), StructField('stops', StringType(), True), StructField('arrival_time', StringType(), True), StructField('destination_city', StringType(), True), StructField('class', StringType(), True), StructField('duration', FloatType(), True), StructField('days_left', IntegerType(), True), StructField('price', IntegerType(), True)])"
      ]
     },
     "execution_count": 108,
     "metadata": {},
     "output_type": "execute_result"
    }
   ],
   "source": [
    "from martindelcampo.spark_utils import SparkUtils\n",
    "airlines_schema_columns = [(\"index\", \"int\"), \n",
    "     (\"airline\", \"string\"), \n",
    "     (\"flight\", \"string\"),\n",
    "     (\"source_city\", \"string\"),\n",
    "     (\"departure_time\", \"string\"),\n",
    "     (\"stops\", \"string\"),\n",
    "     (\"arrival_time\", \"string\"),\n",
    "     (\"destination_city\", \"string\"),\n",
    "     (\"class\", \"string\"),\n",
    "     (\"duration\", \"float\"),\n",
    "     (\"days_left\", \"int\"),\n",
    "     (\"price\", \"int\")\n",
    "     ]\n",
    "airlines_schema = SparkUtils.generate_schema(airlines_schema_columns)\n",
    "airlines_schema"
   ]
  },
  {
   "cell_type": "markdown",
   "id": "58286580",
   "metadata": {},
   "source": [
    "## 4. Loading the Dataset\n",
    "\n",
    "We load the airlines dataset from a CSV file using the defined schema."
   ]
  },
  {
   "cell_type": "code",
   "execution_count": 109,
   "id": "f492989e",
   "metadata": {},
   "outputs": [],
   "source": [
    "df_airlines = spark.read \\\n",
    "                .option(\"header\", \"true\") \\\n",
    "                .schema(airlines_schema) \\\n",
    "                .csv(\"/opt/spark/work-dir/data/airline/\")"
   ]
  },
  {
   "cell_type": "markdown",
   "id": "d3315e16",
   "metadata": {},
   "source": [
    "## 5. Clean Dataset\n",
    "\n",
    "Drop unnecessary columns. Count how many null values the dataset has before/after the cleaning process."
   ]
  },
  {
   "cell_type": "code",
   "execution_count": 110,
   "id": "8f96bf5a",
   "metadata": {},
   "outputs": [
    {
     "name": "stderr",
     "output_type": "stream",
     "text": [
      "                                                                                \r"
     ]
    },
    {
     "name": "stdout",
     "output_type": "stream",
     "text": [
      "number of records before cleaning: 300153\n"
     ]
    },
    {
     "name": "stderr",
     "output_type": "stream",
     "text": [
      "                                                                                \r"
     ]
    },
    {
     "name": "stdout",
     "output_type": "stream",
     "text": [
      "+-----+-------+------+-----------+--------------+-----+------------+----------------+-----+--------+---------+-----+\n",
      "|index|airline|flight|source_city|departure_time|stops|arrival_time|destination_city|class|duration|days_left|price|\n",
      "+-----+-------+------+-----------+--------------+-----+------------+----------------+-----+--------+---------+-----+\n",
      "|    0|      0|     0|          0|             0|    0|           0|               0|    0|       0|        0|    0|\n",
      "+-----+-------+------+-----------+--------------+-----+------------+----------------+-----+--------+---------+-----+\n",
      "\n"
     ]
    },
    {
     "name": "stderr",
     "output_type": "stream",
     "text": [
      "                                                                                \r"
     ]
    },
    {
     "name": "stdout",
     "output_type": "stream",
     "text": [
      "+-----+--------+-----------+--------------+-----+------------+----------------+--------+-----+\n",
      "|index| airline|source_city|departure_time|stops|arrival_time|destination_city|duration|price|\n",
      "+-----+--------+-----------+--------------+-----+------------+----------------+--------+-----+\n",
      "|    1|SpiceJet|      Delhi| Early_Morning| zero|     Morning|          Mumbai|    2.33| 5953|\n",
      "|    3| Vistara|      Delhi|       Morning| zero|   Afternoon|          Mumbai|    2.25| 5955|\n",
      "|    5| Vistara|      Delhi|       Morning| zero|   Afternoon|          Mumbai|    2.33| 5955|\n",
      "|    6| Vistara|      Delhi|       Morning| zero|     Morning|          Mumbai|    2.08| 6060|\n",
      "|    9|GO_FIRST|      Delhi|     Afternoon| zero|     Evening|          Mumbai|    2.25| 5954|\n",
      "+-----+--------+-----------+--------------+-----+------------+----------------+--------+-----+\n",
      "only showing top 5 rows\n"
     ]
    },
    {
     "name": "stderr",
     "output_type": "stream",
     "text": [
      "                                                                                \r"
     ]
    },
    {
     "name": "stdout",
     "output_type": "stream",
     "text": [
      "number of records after cleaning: 300153\n"
     ]
    },
    {
     "name": "stderr",
     "output_type": "stream",
     "text": [
      "[Stage 409:============================>                            (1 + 1) / 2]\r"
     ]
    },
    {
     "name": "stdout",
     "output_type": "stream",
     "text": [
      "+-----+-------+-----------+--------------+-----+------------+----------------+--------+-----+\n",
      "|index|airline|source_city|departure_time|stops|arrival_time|destination_city|duration|price|\n",
      "+-----+-------+-----------+--------------+-----+------------+----------------+--------+-----+\n",
      "|    0|      0|          0|             0|    0|           0|               0|       0|    0|\n",
      "+-----+-------+-----------+--------------+-----+------------+----------------+--------+-----+\n",
      "\n"
     ]
    },
    {
     "name": "stderr",
     "output_type": "stream",
     "text": [
      "                                                                                \r"
     ]
    }
   ],
   "source": [
    "print(f\"number of records before cleaning: {df_airlines.count()}\")\n",
    "df_airlines.select([count(when(isnull(c[0]) | col(c[0]).isNull(), c[0])).alias(c[0]) for c in airlines_schema_columns]).show()\n",
    "\n",
    "# Trim like we did in class, and additionally I drop the columns class and flight which are not necessary for this lab\n",
    "df_airlines_clean = df_airlines \\\n",
    "        .drop(\"class\", \"flight\", \"days_left\") \\\n",
    "        .dropDuplicates([\"index\"]) \\\n",
    "        .withColumn(\"airline\", trim(\"airline\")) \\\n",
    "        .withColumn(\"source_city\", trim(\"source_city\")) \\\n",
    "        .withColumn(\"destination_city\", trim(\"destination_city\")) \\\n",
    "        .filter(col(\"price\").isNotNull())\n",
    "\n",
    "# Show the number of records after cleaning to verify changes and then count records after cleaning\n",
    "df_airlines_clean.show(5)  \n",
    "print(f\"number of records after cleaning: {df_airlines_clean.count()}\") \n",
    "df_airlines_clean.select([count(when(col(c[0]).isNull(), c[0])).alias(c[0]) for c in airlines_schema_columns if c[0] not in [\"class\", \"flight\", \"days_left\"]]).show()"
   ]
  },
  {
   "cell_type": "markdown",
   "id": "8a13d805",
   "metadata": {},
   "source": [
    "## 6. Normalize categorical values: map “zero” → 0, “one” → 1, etc. in stops."
   ]
  },
  {
   "cell_type": "code",
   "execution_count": 111,
   "id": "155b5e80",
   "metadata": {},
   "outputs": [
    {
     "name": "stderr",
     "output_type": "stream",
     "text": [
      "[Stage 413:============================>                            (1 + 1) / 2]\r"
     ]
    },
    {
     "name": "stdout",
     "output_type": "stream",
     "text": [
      "+-----+---------+-----------+--------------+-----+-------------+----------------+--------+-----+\n",
      "|index|  airline|source_city|departure_time|stops| arrival_time|destination_city|duration|price|\n",
      "+-----+---------+-----------+--------------+-----+-------------+----------------+--------+-----+\n",
      "|    1| SpiceJet|      Delhi| Early_Morning|    0|      Morning|          Mumbai|    2.33| 5953|\n",
      "|    3|  Vistara|      Delhi|       Morning|    0|    Afternoon|          Mumbai|    2.25| 5955|\n",
      "|    5|  Vistara|      Delhi|       Morning|    0|    Afternoon|          Mumbai|    2.33| 5955|\n",
      "|    6|  Vistara|      Delhi|       Morning|    0|      Morning|          Mumbai|    2.08| 6060|\n",
      "|    9| GO_FIRST|      Delhi|     Afternoon|    0|      Evening|          Mumbai|    2.25| 5954|\n",
      "|   12|   Indigo|      Delhi| Early_Morning|    0|      Morning|          Mumbai|    2.17| 5955|\n",
      "|   13|   Indigo|      Delhi|       Morning|    0|    Afternoon|          Mumbai|    2.17| 5955|\n",
      "|   15|   Indigo|      Delhi|       Morning|    0|      Morning|          Mumbai|    2.33| 5955|\n",
      "|   16|Air_India|      Delhi| Early_Morning|    0|      Morning|          Mumbai|    2.08| 5955|\n",
      "|   17|Air_India|      Delhi| Early_Morning|    0|      Morning|          Mumbai|    2.17| 5955|\n",
      "|   19|  AirAsia|      Delhi|       Evening|    1|      Morning|          Mumbai|   16.33| 5949|\n",
      "|   20| GO_FIRST|      Delhi| Early_Morning|    1|      Evening|          Mumbai|   11.75| 5954|\n",
      "|   22| GO_FIRST|      Delhi|       Evening|    1|      Morning|          Mumbai|   15.67| 5954|\n",
      "|   26|   Indigo|      Delhi|       Evening|    0|      Evening|          Mumbai|    2.17| 6585|\n",
      "|   27|  AirAsia|      Delhi|       Morning|    1|    Afternoon|          Mumbai|    5.83| 8869|\n",
      "|   28| SpiceJet|      Delhi|       Evening|    0|        Night|          Mumbai|    2.33|10260|\n",
      "|   31|   Indigo|      Delhi|     Afternoon|    1|      Evening|          Mumbai|     6.0|10838|\n",
      "|   34|  Vistara|      Delhi|     Afternoon|    1|      Morning|          Mumbai|    18.0|12150|\n",
      "|   35|  Vistara|      Delhi|       Morning|    1|      Morning|          Mumbai|   23.17|12150|\n",
      "|   37|Air_India|      Delhi| Early_Morning|    1|    Afternoon|          Mumbai|    8.83|11900|\n",
      "|   40|Air_India|      Delhi|         Night|    1|      Morning|          Mumbai|    11.0|12150|\n",
      "|   41|Air_India|      Delhi|     Afternoon|    1|      Morning|          Mumbai|   19.08|12150|\n",
      "|   43|Air_India|      Delhi| Early_Morning|    1|      Morning|          Mumbai|   26.42|12150|\n",
      "|   44|Air_India|      Delhi|         Night|    1|    Afternoon|          Mumbai|   17.75|12215|\n",
      "|   47|  Vistara|      Delhi|     Afternoon|    1|    Afternoon|          Mumbai|   26.67|12885|\n",
      "|   48|  AirAsia|      Delhi|       Evening|    1|Early_Morning|          Mumbai|   15.17|12539|\n",
      "|   52|Air_India|      Delhi| Early_Morning|    1|      Morning|          Mumbai|    26.0|12990|\n",
      "|   53|Air_India|      Delhi|     Afternoon|    1|    Afternoon|          Mumbai|   21.75|13086|\n",
      "|   54|   Indigo|      Delhi|     Afternoon|    1|      Evening|          Mumbai|    3.83|13279|\n",
      "|   57|   Indigo|      Delhi|     Afternoon|    1|        Night|          Mumbai|    8.33|13279|\n",
      "|   61|  Vistara|      Delhi| Early_Morning|    1|    Afternoon|          Mumbai|     6.5|13935|\n",
      "|   64|  Vistara|      Delhi|       Evening|    1|        Night|          Mumbai|   26.67|14093|\n",
      "|   65|  Vistara|      Delhi|       Evening|    1|        Night|          Mumbai|   28.17|14093|\n",
      "|   72| GO_FIRST|      Delhi|       Morning|    1|      Evening|          Mumbai|    7.08|14539|\n",
      "|   76|  Vistara|      Delhi|       Evening|    0|        Night|          Mumbai|    2.25|15720|\n",
      "|   78|  Vistara|      Delhi|       Evening|    1|        Night|          Mumbai|    26.0|15983|\n",
      "|   81|   Indigo|      Delhi| Early_Morning|    1|    Afternoon|          Mumbai|    5.08|15720|\n",
      "|   85|  Vistara|      Delhi|       Evening|    1|        Night|          Mumbai|   26.67|16665|\n",
      "|   86|Air_India|      Delhi|       Evening|    1|        Night|          Mumbai|   27.17|16455|\n",
      "|   88|  Vistara|      Delhi|       Evening|    1|        Night|          Mumbai|    5.75|17348|\n",
      "|   91|  Vistara|      Delhi|       Morning|    1|        Night|          Mumbai|   13.75|17348|\n",
      "|   92|  Vistara|      Delhi|       Evening|    1|      Morning|          Mumbai|   17.83|17348|\n",
      "|   93|  Vistara|      Delhi| Early_Morning|    1|    Afternoon|          Mumbai|     5.5|17400|\n",
      "|   94|  Vistara|      Delhi|       Evening|    1|    Afternoon|          Mumbai|    19.5|17505|\n",
      "|   96|Air_India|      Delhi|         Night|    1|        Night|          Mumbai|   23.83|17295|\n",
      "|  101| GO_FIRST|      Delhi|       Morning|    1|      Evening|          Mumbai|    8.92|18487|\n",
      "|  103|  Vistara|      Delhi|       Morning|    1|        Night|          Mumbai|   11.17|18923|\n",
      "|  107|Air_India|      Delhi|     Afternoon|    1|        Night|          Mumbai|    7.92|19710|\n",
      "|  108|Air_India|      Delhi| Early_Morning|    1|        Night|          Mumbai|   13.25|19710|\n",
      "|  111|  Vistara|      Delhi|       Evening|    1|        Night|          Mumbai|     6.0|21075|\n",
      "|  112| GO_FIRST|      Delhi|       Morning|    1|      Evening|          Mumbai|    6.33|21111|\n",
      "|  115|Air_India|      Delhi| Early_Morning|    1|      Evening|          Mumbai|    11.0|25800|\n",
      "|  117|Air_India|      Delhi|       Morning|    1|      Evening|          Mumbai|    6.08|29580|\n",
      "|  120|  Vistara|      Delhi|       Morning|    0|      Morning|          Mumbai|    2.08| 5955|\n",
      "|  122|  Vistara|      Delhi|       Evening|    0|        Night|          Mumbai|    2.25| 5955|\n",
      "|  126| GO_FIRST|      Delhi| Early_Morning|    0|      Morning|          Mumbai|    2.17| 5954|\n",
      "|  127| GO_FIRST|      Delhi|     Afternoon|    0|      Evening|          Mumbai|    2.25| 5954|\n",
      "|  128| GO_FIRST|      Delhi|       Evening|    0|        Night|          Mumbai|    2.25| 5954|\n",
      "|  132|   Indigo|      Delhi| Early_Morning|    0|      Morning|          Mumbai|    2.17| 5955|\n",
      "|  133|   Indigo|      Delhi|       Evening|    0|      Evening|          Mumbai|    2.17| 5955|\n",
      "|  137|   Indigo|      Delhi|         Night|    0|        Night|          Mumbai|    2.25| 5955|\n",
      "|  139|   Indigo|      Delhi|       Morning|    0|      Morning|          Mumbai|    2.33| 5955|\n",
      "|  140|   Indigo|      Delhi|       Morning|    0|      Morning|          Mumbai|     2.5| 5955|\n",
      "|  142|Air_India|      Delhi|       Evening|    0|      Evening|          Mumbai|     2.0| 5955|\n",
      "|  146|Air_India|      Delhi|       Evening|    0|        Night|          Mumbai|    2.25| 5955|\n",
      "|  148|  AirAsia|      Delhi|       Evening|    1|      Morning|          Mumbai|   16.33| 5949|\n",
      "|  152|Air_India|      Delhi|       Evening|    1|        Night|          Mumbai|    3.75| 5955|\n",
      "|  154|  Vistara|      Delhi|     Afternoon|    0|      Evening|          Mumbai|    2.17| 7530|\n",
      "|  155|  Vistara|      Delhi|     Afternoon|    0|      Evening|          Mumbai|    2.17| 7530|\n",
      "|  157|  AirAsia|      Delhi|       Evening|    1|Early_Morning|          Mumbai|   15.17| 7419|\n",
      "|  159|   Indigo|      Delhi| Early_Morning|    1|      Evening|          Mumbai|   10.25| 8396|\n",
      "|  163|Air_India|      Delhi|       Morning|    1|        Night|          Mumbai|   14.17| 9840|\n",
      "|  164|Air_India|      Delhi|       Morning|    1|        Night|          Mumbai|   15.75| 9840|\n",
      "|  165|  Vistara|      Delhi|     Afternoon|    1|    Afternoon|          Mumbai|   25.58|10566|\n",
      "|  168|Air_India|      Delhi| Early_Morning|    1|    Afternoon|          Mumbai|    9.75|10523|\n",
      "|  169|  Vistara|      Delhi|         Night|    1|        Night|          Mumbai|   26.42|11048|\n",
      "|  175|   Indigo|      Delhi|       Morning|    2|      Evening|          Mumbai|    9.67|11678|\n",
      "|  177|  Vistara|      Delhi|       Evening|    1|      Morning|          Mumbai|   14.67|12150|\n",
      "|  178|  Vistara|      Delhi|       Evening|    1|      Morning|          Mumbai|   16.17|12150|\n",
      "|  179|  Vistara|      Delhi|       Morning|    1|      Morning|          Mumbai|   24.17|12150|\n",
      "|  182|Air_India|      Delhi| Early_Morning|    1|    Afternoon|          Mumbai|   10.08|11900|\n",
      "|  183|  Vistara|      Delhi|       Morning|    1|        Night|          Mumbai|   12.58|12308|\n",
      "|  185|  Vistara|      Delhi|       Morning|    1|      Morning|          Mumbai|   23.17|12570|\n",
      "|  189|Air_India|      Delhi| Early_Morning|    1|    Afternoon|          Mumbai|    7.25|12298|\n",
      "|  190|   Indigo|      Delhi|         Night|    1|      Morning|          Mumbai|   10.17|12302|\n",
      "|  191|Air_India|      Delhi|         Night|    1|        Night|          Mumbai|    23.5|12465|\n",
      "|  192|  Vistara|      Delhi|     Afternoon|    1|      Morning|          Mumbai|    18.0|12990|\n",
      "|  193|Air_India|      Delhi|       Morning|    1|   Late_Night|          Mumbai|   13.25|12675|\n",
      "|  196|Air_India|      Delhi|       Morning|    1|        Night|          Mumbai|    11.5|12990|\n",
      "|  197|Air_India|      Delhi|         Night|    1|    Afternoon|          Mumbai|   16.17|12990|\n",
      "|  202|  Vistara|      Delhi|       Evening|    1|        Night|          Mumbai|    5.33|13673|\n",
      "|  205|  Vistara|      Delhi|       Morning|    1|        Night|          Mumbai|   12.17|14093|\n",
      "|  206|  Vistara|      Delhi|       Morning|    1|        Night|          Mumbai|   13.75|14093|\n",
      "|  207|Air_India|      Delhi|       Evening|    1|      Morning|          Mumbai|   15.83|13830|\n",
      "|  209|  Vistara|      Delhi|       Morning|    1|        Night|          Mumbai|   11.17|14513|\n",
      "|  210|  Vistara|      Delhi|       Morning|    1|        Night|          Mumbai|   12.75|14513|\n",
      "|  211|Air_India|      Delhi|       Morning|    1|      Evening|          Mumbai|    5.67|14250|\n",
      "|  212| GO_FIRST|      Delhi|       Evening|    1|      Morning|          Mumbai|   15.17|14409|\n",
      "|  217|  Vistara|      Delhi|       Evening|    1|      Morning|          Mumbai|   15.58|15353|\n",
      "|  218|  Vistara|      Delhi|       Evening|    1|      Morning|          Mumbai|   17.83|15353|\n",
      "+-----+---------+-----------+--------------+-----+-------------+----------------+--------+-----+\n",
      "only showing top 100 rows\n"
     ]
    },
    {
     "name": "stderr",
     "output_type": "stream",
     "text": [
      "                                                                                \r"
     ]
    }
   ],
   "source": [
    "df_airlines_clean_v2 = df_airlines_clean.withColumn(\n",
    "    \"stops\",\n",
    "    when(col(\"stops\") == \"zero\", lit(0))\n",
    "    .when(col(\"stops\") == \"one\", lit(1))\n",
    "    .when(col(\"stops\") == \"two_or_more\", lit(2))\n",
    ")\n",
    "\n",
    "# Show some records to verify changes\n",
    "df_airlines_clean_v2.show(100)"
   ]
  },
  {
   "cell_type": "markdown",
   "id": "175947a4",
   "metadata": {},
   "source": [
    "## 7. Create a new column called route: “Delhi → Mumbai” from source_city and destination_city."
   ]
  },
  {
   "cell_type": "code",
   "execution_count": 112,
   "id": "3d6f8cd0",
   "metadata": {},
   "outputs": [
    {
     "name": "stderr",
     "output_type": "stream",
     "text": [
      "[Stage 416:============================>                            (1 + 1) / 2]\r"
     ]
    },
    {
     "name": "stdout",
     "output_type": "stream",
     "text": [
      "+-----+---------+--------------+-----+------------+--------+-----+--------------+\n",
      "|index|  airline|departure_time|stops|arrival_time|duration|price|         route|\n",
      "+-----+---------+--------------+-----+------------+--------+-----+--------------+\n",
      "|    1| SpiceJet| Early_Morning|    0|     Morning|    2.33| 5953|Delhi → Mumbai|\n",
      "|    3|  Vistara|       Morning|    0|   Afternoon|    2.25| 5955|Delhi → Mumbai|\n",
      "|    5|  Vistara|       Morning|    0|   Afternoon|    2.33| 5955|Delhi → Mumbai|\n",
      "|    6|  Vistara|       Morning|    0|     Morning|    2.08| 6060|Delhi → Mumbai|\n",
      "|    9| GO_FIRST|     Afternoon|    0|     Evening|    2.25| 5954|Delhi → Mumbai|\n",
      "|   12|   Indigo| Early_Morning|    0|     Morning|    2.17| 5955|Delhi → Mumbai|\n",
      "|   13|   Indigo|       Morning|    0|   Afternoon|    2.17| 5955|Delhi → Mumbai|\n",
      "|   15|   Indigo|       Morning|    0|     Morning|    2.33| 5955|Delhi → Mumbai|\n",
      "|   16|Air_India| Early_Morning|    0|     Morning|    2.08| 5955|Delhi → Mumbai|\n",
      "|   17|Air_India| Early_Morning|    0|     Morning|    2.17| 5955|Delhi → Mumbai|\n",
      "+-----+---------+--------------+-----+------------+--------+-----+--------------+\n",
      "only showing top 10 rows\n"
     ]
    },
    {
     "name": "stderr",
     "output_type": "stream",
     "text": [
      "                                                                                \r"
     ]
    }
   ],
   "source": [
    "df_airlines_clean_v2 = df_airlines_clean_v2.withColumn(\n",
    "    \"route\",\n",
    "    concat(col(\"source_city\").cast(\"string\"), lit(\" → \"), col(\"destination_city\").cast(\"string\"))\n",
    ")\n",
    "\n",
    "df_airlines_clean_v2 = df_airlines_clean_v2.drop(\"source_city\", \"destination_city\")\n",
    "\n",
    "df_airlines_clean_v2.show(10)"
   ]
  },
  {
   "cell_type": "markdown",
   "id": "e5e2f699",
   "metadata": {},
   "source": [
    "## 8. Transform departure_time and arrival_time to numerical categories "
   ]
  },
  {
   "cell_type": "code",
   "execution_count": 113,
   "id": "1d29abd2",
   "metadata": {},
   "outputs": [
    {
     "name": "stderr",
     "output_type": "stream",
     "text": [
      "[Stage 419:============================>                            (1 + 1) / 2]\r"
     ]
    },
    {
     "name": "stdout",
     "output_type": "stream",
     "text": [
      "+-----+---------+--------------+-----+------------+--------+-----+--------------+\n",
      "|index|  airline|departure_time|stops|arrival_time|duration|price|         route|\n",
      "+-----+---------+--------------+-----+------------+--------+-----+--------------+\n",
      "|    1| SpiceJet|             0|    0|           1|    2.33| 5953|Delhi → Mumbai|\n",
      "|    3|  Vistara|             1|    0|           2|    2.25| 5955|Delhi → Mumbai|\n",
      "|    5|  Vistara|             1|    0|           2|    2.33| 5955|Delhi → Mumbai|\n",
      "|    6|  Vistara|             1|    0|           1|    2.08| 6060|Delhi → Mumbai|\n",
      "|    9| GO_FIRST|             2|    0|           3|    2.25| 5954|Delhi → Mumbai|\n",
      "|   12|   Indigo|             0|    0|           1|    2.17| 5955|Delhi → Mumbai|\n",
      "|   13|   Indigo|             1|    0|           2|    2.17| 5955|Delhi → Mumbai|\n",
      "|   15|   Indigo|             1|    0|           1|    2.33| 5955|Delhi → Mumbai|\n",
      "|   16|Air_India|             0|    0|           1|    2.08| 5955|Delhi → Mumbai|\n",
      "|   17|Air_India|             0|    0|           1|    2.17| 5955|Delhi → Mumbai|\n",
      "+-----+---------+--------------+-----+------------+--------+-----+--------------+\n",
      "only showing top 10 rows\n"
     ]
    },
    {
     "name": "stderr",
     "output_type": "stream",
     "text": [
      "                                                                                \r"
     ]
    }
   ],
   "source": [
    "# departure_time -> numeric\n",
    "df_airlines_clean_v2 = df_airlines_clean_v2.withColumn(\n",
    "    \"departure_time\",\n",
    "    when(col(\"departure_time\") == \"Early_Morning\", 0)\n",
    "    .when(col(\"departure_time\") == \"Morning\", 1)\n",
    "    .when(col(\"departure_time\") == \"Afternoon\", 2)\n",
    "    .when(col(\"departure_time\") == \"Evening\", 3)\n",
    "    .when(col(\"departure_time\") == \"Night\", 4)\n",
    "    .when(col(\"departure_time\") == \"Late_Night\", 5)\n",
    ")\n",
    "\n",
    "# arrival_time -> numeric\n",
    "df_airlines_clean_v2 = df_airlines_clean_v2.withColumn(\n",
    "    \"arrival_time\",\n",
    "    when(col(\"arrival_time\") == \"Early_Morning\", 0)\n",
    "    .when(col(\"arrival_time\") == \"Morning\", 1)\n",
    "    .when(col(\"arrival_time\") == \"Afternoon\", 2)\n",
    "    .when(col(\"arrival_time\") == \"Evening\", 3)\n",
    "    .when(col(\"arrival_time\") == \"Night\", 4)\n",
    "    .when(col(\"arrival_time\") == \"Late_Night\", 5)\n",
    ")\n",
    "\n",
    "df_airlines_clean_v2.show(10)"
   ]
  },
  {
   "cell_type": "markdown",
   "id": "0c26f71f",
   "metadata": {},
   "source": [
    "## 9. Add a new column is_expensive: when(price > 6000, True).otherwise(False)."
   ]
  },
  {
   "cell_type": "code",
   "execution_count": 114,
   "id": "e87ac0b6",
   "metadata": {},
   "outputs": [
    {
     "name": "stderr",
     "output_type": "stream",
     "text": [
      "[Stage 422:============================>                            (1 + 1) / 2]\r"
     ]
    },
    {
     "name": "stdout",
     "output_type": "stream",
     "text": [
      "+-----+---------+--------------+-----+------------+--------+-----+--------------+------------+\n",
      "|index|  airline|departure_time|stops|arrival_time|duration|price|         route|is_expensive|\n",
      "+-----+---------+--------------+-----+------------+--------+-----+--------------+------------+\n",
      "|    1| SpiceJet|             0|    0|           1|    2.33| 5953|Delhi → Mumbai|       false|\n",
      "|    3|  Vistara|             1|    0|           2|    2.25| 5955|Delhi → Mumbai|       false|\n",
      "|    5|  Vistara|             1|    0|           2|    2.33| 5955|Delhi → Mumbai|       false|\n",
      "|    6|  Vistara|             1|    0|           1|    2.08| 6060|Delhi → Mumbai|        true|\n",
      "|    9| GO_FIRST|             2|    0|           3|    2.25| 5954|Delhi → Mumbai|       false|\n",
      "|   12|   Indigo|             0|    0|           1|    2.17| 5955|Delhi → Mumbai|       false|\n",
      "|   13|   Indigo|             1|    0|           2|    2.17| 5955|Delhi → Mumbai|       false|\n",
      "|   15|   Indigo|             1|    0|           1|    2.33| 5955|Delhi → Mumbai|       false|\n",
      "|   16|Air_India|             0|    0|           1|    2.08| 5955|Delhi → Mumbai|       false|\n",
      "|   17|Air_India|             0|    0|           1|    2.17| 5955|Delhi → Mumbai|       false|\n",
      "+-----+---------+--------------+-----+------------+--------+-----+--------------+------------+\n",
      "only showing top 10 rows\n"
     ]
    },
    {
     "name": "stderr",
     "output_type": "stream",
     "text": [
      "                                                                                \r"
     ]
    }
   ],
   "source": [
    "df_airlines_clean_v2 = df_airlines_clean_v2.withColumn(\n",
    "    \"is_expensive\",\n",
    "    when(col(\"price\") > 6000, lit(True)).otherwise(lit(False))\n",
    ")\n",
    "\n",
    "df_airlines_clean_v2.show(10)"
   ]
  },
  {
   "cell_type": "markdown",
   "id": "11d98b06",
   "metadata": {},
   "source": [
    "## 10. Additional aggregations"
   ]
  },
  {
   "cell_type": "code",
   "execution_count": 115,
   "id": "0ab8e8b0",
   "metadata": {},
   "outputs": [
    {
     "name": "stdout",
     "output_type": "stream",
     "text": [
      "Average price of each airline:\n"
     ]
    },
    {
     "name": "stderr",
     "output_type": "stream",
     "text": [
      "                                                                                \r"
     ]
    },
    {
     "name": "stdout",
     "output_type": "stream",
     "text": [
      "+---------+------------------+\n",
      "|  airline|         avg_price|\n",
      "+---------+------------------+\n",
      "|  AirAsia|4091.0727419555224|\n",
      "|Air_India| 23507.01911190229|\n",
      "| GO_FIRST| 5652.007595045959|\n",
      "|   Indigo| 5324.216303339517|\n",
      "| SpiceJet| 6179.278881367218|\n",
      "|  Vistara| 30396.53630170735|\n",
      "+---------+------------------+\n",
      "\n",
      "Average duration per route:\n"
     ]
    },
    {
     "name": "stderr",
     "output_type": "stream",
     "text": [
      "                                                                                \r"
     ]
    },
    {
     "name": "stdout",
     "output_type": "stream",
     "text": [
      "+--------------------+------------------+\n",
      "|               route|      avg_duration|\n",
      "+--------------------+------------------+\n",
      "| Bangalore → Chennai|14.480207509137166|\n",
      "|   Bangalore → Delhi|  9.77995566082195|\n",
      "|Bangalore → Hyder...|14.162432783513621|\n",
      "| Bangalore → Kolkata|13.099143404859825|\n",
      "|  Bangalore → Mumbai| 10.90507225639642|\n",
      "| Chennai → Bangalore|13.952593563812163|\n",
      "|     Chennai → Delhi|  11.1493744312541|\n",
      "| Chennai → Hyderabad|13.153984931732971|\n",
      "|   Chennai → Kolkata|14.515774035955694|\n",
      "|    Chennai → Mumbai|12.374656244132625|\n",
      "|   Delhi → Bangalore| 10.35412503844018|\n",
      "|     Delhi → Chennai|12.433964745763944|\n",
      "|   Delhi → Hyderabad|12.518350118710492|\n",
      "|     Delhi → Kolkata| 12.73596614766045|\n",
      "|      Delhi → Mumbai|10.367774213738123|\n",
      "|Hyderabad → Banga...| 12.09331678643705|\n",
      "| Hyderabad → Chennai|13.293238468912078|\n",
      "|   Hyderabad → Delhi|10.829816602522587|\n",
      "| Hyderabad → Kolkata|13.535322410033165|\n",
      "|  Hyderabad → Mumbai|11.962923295795918|\n",
      "+--------------------+------------------+\n",
      "only showing top 20 rows\n",
      "Min and max price of each airline\n"
     ]
    },
    {
     "name": "stderr",
     "output_type": "stream",
     "text": [
      "                                                                                \r"
     ]
    },
    {
     "name": "stdout",
     "output_type": "stream",
     "text": [
      "+---------+---------+---------+\n",
      "|  airline|min_price|max_price|\n",
      "+---------+---------+---------+\n",
      "|  AirAsia|     1105|    31917|\n",
      "|Air_India|     1526|    90970|\n",
      "| GO_FIRST|     1105|    32803|\n",
      "|   Indigo|     1105|    31952|\n",
      "| SpiceJet|     1106|    34158|\n",
      "|  Vistara|     1714|   123071|\n",
      "+---------+---------+---------+\n",
      "\n",
      "Flight count by departure_time category:\n"
     ]
    },
    {
     "name": "stderr",
     "output_type": "stream",
     "text": [
      "[Stage 443:============================>                            (1 + 1) / 2]\r"
     ]
    },
    {
     "name": "stdout",
     "output_type": "stream",
     "text": [
      "+--------------+------------+\n",
      "|departure_time|flight_count|\n",
      "+--------------+------------+\n",
      "|             0|       66790|\n",
      "|             1|       71146|\n",
      "|             2|       47794|\n",
      "|             3|       65102|\n",
      "|             4|       48015|\n",
      "|             5|        1306|\n",
      "+--------------+------------+\n",
      "\n"
     ]
    },
    {
     "name": "stderr",
     "output_type": "stream",
     "text": [
      "                                                                                \r"
     ]
    }
   ],
   "source": [
    "# 1) Average price per airline\n",
    "print(\"Average price of each airline:\")\n",
    "df_airlines_clean_v2.groupBy(\"airline\") \\\n",
    "    .agg(avg(\"price\").alias(\"avg_price\")) \\\n",
    "    .orderBy(\"airline\") \\\n",
    "    .show()\n",
    "\n",
    "# 2) Average duration per route\n",
    "print(\"Average duration per route:\")\n",
    "df_airlines_clean_v2.groupBy(\"route\") \\\n",
    "    .agg(avg(\"duration\").alias(\"avg_duration\")) \\\n",
    "    .orderBy(\"route\") \\\n",
    "    .show()\n",
    "\n",
    "# 3) Minimum and maximum price per airline\n",
    "print(\"Min and max price of each airline\")\n",
    "df_airlines_clean_v2.groupBy(\"airline\") \\\n",
    "    .agg(min(\"price\").alias(\"min_price\"),\n",
    "         max(\"price\").alias(\"max_price\")) \\\n",
    "    .orderBy(\"airline\") \\\n",
    "    .show()\n",
    "\n",
    "# 4) Count flights by departure_time category\n",
    "print(\"Flight count by departure_time category:\")\n",
    "df_airlines_clean_v2.groupBy(\"departure_time\") \\\n",
    "    .agg(count(\"*\").alias(\"flight_count\")) \\\n",
    "    .orderBy(\"departure_time\") \\\n",
    "    .show()"
   ]
  }
 ],
 "metadata": {
  "kernelspec": {
   "display_name": "Python 3 (ipykernel)",
   "language": "python",
   "name": "python3"
  },
  "language_info": {
   "codemirror_mode": {
    "name": "ipython",
    "version": 3
   },
   "file_extension": ".py",
   "mimetype": "text/x-python",
   "name": "python",
   "nbconvert_exporter": "python",
   "pygments_lexer": "ipython3",
   "version": "3.10.12"
  }
 },
 "nbformat": 4,
 "nbformat_minor": 5
}
