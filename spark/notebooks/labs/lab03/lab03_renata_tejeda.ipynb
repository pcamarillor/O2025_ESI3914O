{
 "cells": [
  {
   "cell_type": "markdown",
   "id": "63bb92c7-9ed4-4645-a837-80ac6b32664e",
   "metadata": {},
   "source": [
    "# <center> <img src=\"../../img/ITESOLogo.png\" alt=\"ITESO\" width=\"480\" height=\"130\"> </center>\n",
    "# <center> **Departamento de Electrónica, Sistemas e Informática** </center>\n",
    "---\n",
    "## <center> Computer Systems Engineering  </center>\n",
    "---\n",
    "### <center> Big Data Processing </center>\n",
    "---\n",
    "#### <center> **Autumn 2025** </center>\n",
    "---\n",
    "\n",
    "**Lab 03**: Data Cleaning and Transformation Pipeline\n",
    "\n",
    "**Date**: September 18th 2025\n",
    "\n",
    "**Student Name**: Renata Tejeda Mercado\n",
    "\n",
    "**Professor**: Pablo Camarillo Ramirez"
   ]
  },
  {
   "cell_type": "markdown",
   "id": "a1089dd5-be59-4034-b6d4-977145888e07",
   "metadata": {},
   "source": [
    "# Find PySpark Installation"
   ]
  },
  {
   "cell_type": "code",
   "execution_count": 1,
   "id": "601d99ac-24c1-4b0d-b240-7c7fe201363c",
   "metadata": {},
   "outputs": [],
   "source": [
    "import findspark\n",
    "findspark.init()"
   ]
  },
  {
   "cell_type": "markdown",
   "id": "c464e56f-1dfb-4ffc-9a5d-eb8fbadcd8fd",
   "metadata": {},
   "source": [
    "# Create SparkSession"
   ]
  },
  {
   "cell_type": "code",
   "execution_count": 2,
   "id": "78faf01b-c831-4362-8b0f-1adb6b362d5f",
   "metadata": {},
   "outputs": [
    {
     "name": "stderr",
     "output_type": "stream",
     "text": [
      "WARNING: Using incubator modules: jdk.incubator.vector\n",
      "Using Spark's default log4j profile: org/apache/spark/log4j2-defaults.properties\n",
      "Setting default log level to \"WARN\".\n",
      "To adjust logging level use sc.setLogLevel(newLevel). For SparkR, use setLogLevel(newLevel).\n",
      "25/09/22 06:33:09 WARN NativeCodeLoader: Unable to load native-hadoop library for your platform... using builtin-java classes where applicable\n"
     ]
    }
   ],
   "source": [
    "from pyspark.sql import SparkSession\n",
    "\n",
    "spark = SparkSession.builder \\\n",
    "    .appName(\"Examples on data sources (Files)\") \\\n",
    "    .master(\"spark://34c8a8d7a9e7:7077\") \\\n",
    "    .config(\"spark.ui.port\", \"4040\") \\\n",
    "    .getOrCreate()\n",
    "\n",
    "sc = spark.sparkContext\n",
    "sc.setLogLevel(\"ERROR\")"
   ]
  },
  {
   "cell_type": "markdown",
   "id": "f5dc5127-e3d5-4308-ae73-3e55eb5b449d",
   "metadata": {},
   "source": [
    "# Define the Schema"
   ]
  },
  {
   "cell_type": "code",
   "execution_count": 3,
   "id": "e65690f1-6f9e-4b9c-afdc-0275d95e259a",
   "metadata": {},
   "outputs": [
    {
     "data": {
      "text/plain": [
       "StructType([StructField('index', IntegerType(), True), StructField('airline', StringType(), True), StructField('flight', StringType(), True), StructField('source_city', StringType(), True), StructField('departure_time', StringType(), True), StructField('stops', StringType(), True), StructField('arrival_time', StringType(), True), StructField('destination_city', StringType(), True), StructField('class', StringType(), True), StructField('duration', FloatType(), True), StructField('days_left', IntegerType(), True), StructField('price', IntegerType(), True)])"
      ]
     },
     "execution_count": 3,
     "metadata": {},
     "output_type": "execute_result"
    }
   ],
   "source": [
    "from codrenatat.spark_utils import SparkUtils\n",
    "airlines_schema_columns = [(\"index\", \"int\"), \n",
    "     (\"airline\", \"string\"), \n",
    "     (\"flight\", \"string\"),\n",
    "     (\"source_city\", \"string\"),\n",
    "     (\"departure_time\", \"string\"),\n",
    "     (\"stops\", \"string\"),\n",
    "     (\"arrival_time\", \"string\"),\n",
    "     (\"destination_city\", \"string\"),\n",
    "     (\"class\", \"string\"),\n",
    "     (\"duration\", \"float\"),\n",
    "     (\"days_left\", \"int\"),\n",
    "     (\"price\", \"int\")\n",
    "     ]\n",
    "airlines_schema = SparkUtils.generate_schema(airlines_schema_columns)\n",
    "airlines_schema"
   ]
  },
  {
   "cell_type": "markdown",
   "id": "7d3c16a2-e6d9-43ab-8b7a-3ba8ca9ae0e9",
   "metadata": {},
   "source": [
    "# Load CSV"
   ]
  },
  {
   "cell_type": "code",
   "execution_count": 4,
   "id": "53cb5a20-9688-4e2f-9930-d5b436344646",
   "metadata": {},
   "outputs": [
    {
     "name": "stderr",
     "output_type": "stream",
     "text": [
      "[Stage 0:>                                                          (0 + 1) / 1]"
     ]
    },
    {
     "name": "stdout",
     "output_type": "stream",
     "text": [
      "+-----+--------+-------+-----------+--------------+-----+-------------+----------------+-------+--------+---------+-----+\n",
      "|index| airline| flight|source_city|departure_time|stops| arrival_time|destination_city|  class|duration|days_left|price|\n",
      "+-----+--------+-------+-----------+--------------+-----+-------------+----------------+-------+--------+---------+-----+\n",
      "|    0|SpiceJet|SG-8709|      Delhi|       Evening| zero|        Night|          Mumbai|Economy|    2.17|        1| 5953|\n",
      "|    1|SpiceJet|SG-8157|      Delhi| Early_Morning| zero|      Morning|          Mumbai|Economy|    2.33|        1| 5953|\n",
      "|    2| AirAsia| I5-764|      Delhi| Early_Morning| zero|Early_Morning|          Mumbai|Economy|    2.17|        1| 5956|\n",
      "|    3| Vistara| UK-995|      Delhi|       Morning| zero|    Afternoon|          Mumbai|Economy|    2.25|        1| 5955|\n",
      "|    4| Vistara| UK-963|      Delhi|       Morning| zero|      Morning|          Mumbai|Economy|    2.33|        1| 5955|\n",
      "+-----+--------+-------+-----------+--------------+-----+-------------+----------------+-------+--------+---------+-----+\n",
      "only showing top 5 rows\n"
     ]
    },
    {
     "name": "stderr",
     "output_type": "stream",
     "text": [
      "                                                                                "
     ]
    }
   ],
   "source": [
    "df_airlines = spark.read \\\n",
    "                .option(\"header\", \"true\") \\\n",
    "                .schema(airlines_schema) \\\n",
    "                .csv(\"/opt/spark/work-dir/data/airline/\")\n",
    "\n",
    "df_airlines.show(n=5)"
   ]
  },
  {
   "cell_type": "markdown",
   "id": "b82a2e08-9a5a-4fd6-9b53-674693e65977",
   "metadata": {},
   "source": [
    "# Count how many null values the dataset has before/after the cleaning process."
   ]
  },
  {
   "cell_type": "code",
   "execution_count": 7,
   "id": "f522eefd-7b9d-42bd-bbe6-f12c08c36d95",
   "metadata": {
    "scrolled": true
   },
   "outputs": [
    {
     "name": "stdout",
     "output_type": "stream",
     "text": [
      "number of records before cleaning: 300153\n",
      "+-----+-------+------+-----------+--------------+-----+------------+----------------+-----+--------+---------+-----+\n",
      "|index|airline|flight|source_city|departure_time|stops|arrival_time|destination_city|class|duration|days_left|price|\n",
      "+-----+-------+------+-----------+--------------+-----+------------+----------------+-----+--------+---------+-----+\n",
      "|    0|      0|     0|          0|             0|    0|           0|               0|    0|       0|        0|    0|\n",
      "+-----+-------+------+-----------+--------------+-----+------------+----------------+-----+--------+---------+-----+\n",
      "\n"
     ]
    },
    {
     "name": "stderr",
     "output_type": "stream",
     "text": [
      "                                                                                "
     ]
    },
    {
     "name": "stdout",
     "output_type": "stream",
     "text": [
      "number of records after cleaning with trim: 300153\n"
     ]
    },
    {
     "name": "stderr",
     "output_type": "stream",
     "text": [
      "                                                                                "
     ]
    },
    {
     "name": "stdout",
     "output_type": "stream",
     "text": [
      "+-----+-------+------+-----------+--------------+-----+------------+----------------+-----+--------+---------+-----+\n",
      "|index|airline|flight|source_city|departure_time|stops|arrival_time|destination_city|class|duration|days_left|price|\n",
      "+-----+-------+------+-----------+--------------+-----+------------+----------------+-----+--------+---------+-----+\n",
      "|    0|      0|     0|          0|             0|    0|           0|               0|    0|       0|        0|    0|\n",
      "+-----+-------+------+-----------+--------------+-----+------------+----------------+-----+--------+---------+-----+\n",
      "\n",
      "number of records after cleaning with dropna: 300153\n",
      "+-----+-------+------+-----------+--------------+-----+------------+----------------+-----+--------+---------+-----+\n",
      "|index|airline|flight|source_city|departure_time|stops|arrival_time|destination_city|class|duration|days_left|price|\n",
      "+-----+-------+------+-----------+--------------+-----+------------+----------------+-----+--------+---------+-----+\n",
      "|    0|      0|     0|          0|             0|    0|           0|               0|    0|       0|        0|    0|\n",
      "+-----+-------+------+-----------+--------------+-----+------------+----------------+-----+--------+---------+-----+\n",
      "\n"
     ]
    }
   ],
   "source": [
    "from pyspark.sql.functions import trim, col, count, isnull, when\n",
    "print(f\"number of records before cleaning: {df_airlines.count()}\")\n",
    "# Get number of null values for each column before cleaning \n",
    "df_airlines.select([count(when(isnull(c[0]) | col(c[0]).isNull(), c[0])).alias(c[0]) for c in airlines_schema_columns]).show()\n",
    "\n",
    "# Perform data cleaning with trim (column by column)\n",
    "airlines_clean = df_airlines \\\n",
    "        .dropDuplicates([\"index\"]) \\\n",
    "        .withColumn(\"airline\", trim(\"airline\")) \\\n",
    "        .withColumn(\"source_city\", trim(\"source_city\")) \\\n",
    "        .withColumn(\"destination_city\", trim(\"destination_city\")) \\\n",
    "        .filter(col(\"price\").isNotNull())\n",
    "\n",
    "# Simply using dropna()\n",
    "airlines_clean_v2 = df_airlines.dropna()\n",
    "\n",
    "print(f\"number of records after cleaning with trim: {airlines_clean.count()}\")\n",
    "airlines_clean.select([count(when(isnull(c[0]) | col(c[0]).isNull(), c[0])).alias(c[0]) for c in airlines_schema_columns]).show()\n",
    "\n",
    "print(f\"number of records after cleaning with dropna: {airlines_clean_v2.count()}\")\n",
    "airlines_clean_v2.select([count(when(isnull(c[0]) | col(c[0]).isNull(), c[0])).alias(c[0]) for c in airlines_schema_columns]).show()"
   ]
  },
  {
   "cell_type": "markdown",
   "id": "4c875a31-25cb-416c-aeec-dd4ec975d761",
   "metadata": {},
   "source": [
    "# Drop unnecessary columns."
   ]
  },
  {
   "cell_type": "code",
   "execution_count": 8,
   "id": "030ce62f-4b1b-48b0-a8e9-960429ac62d0",
   "metadata": {},
   "outputs": [
    {
     "name": "stdout",
     "output_type": "stream",
     "text": [
      "root\n",
      " |-- airline: string (nullable = true)\n",
      " |-- source_city: string (nullable = true)\n",
      " |-- departure_time: string (nullable = true)\n",
      " |-- stops: string (nullable = true)\n",
      " |-- arrival_time: string (nullable = true)\n",
      " |-- destination_city: string (nullable = true)\n",
      " |-- duration: float (nullable = true)\n",
      " |-- price: integer (nullable = true)\n",
      "\n"
     ]
    }
   ],
   "source": [
    "# work from the trimmed one.\n",
    "cleaned = airlines_clean\n",
    "\n",
    "# drop columns you don't need.\n",
    "cleaned = airlines_clean.drop(\"index\", \"flight\", \"class\", \"days_left\")\n",
    "cleaned.printSchema()"
   ]
  },
  {
   "cell_type": "markdown",
   "id": "cb4332df-a0b9-4a2d-b0ac-6551e6c6b136",
   "metadata": {},
   "source": [
    "# Normalize categorical values: map “zero” → 0, “one” → 1, etc. in stops."
   ]
  },
  {
   "cell_type": "code",
   "execution_count": 9,
   "id": "4615ff6b-f3e0-49b5-98e4-1753589adf25",
   "metadata": {},
   "outputs": [],
   "source": [
    "from pyspark.sql.functions import col, trim, lower, when, lit, concat\n",
    "\n",
    "tmp = cleaned\n",
    "\n",
    "# 1) Map (zero=0, one=1, else=2)\n",
    "tmp = tmp.withColumn(\"stops_trim\", trim(col(\"stops\")))\n",
    "tmp = tmp.withColumn(\"stops_lower\", lower(col(\"stops_trim\")))\n",
    "tmp = tmp.withColumn(\n",
    "    \"stops_numeric\",\n",
    "    when(col(\"stops_lower\") == \"zero\", lit(0))\n",
    "    .when(col(\"stops_lower\") == \"one\", lit(1))\n",
    "    .otherwise(lit(2))  # assume anything else means 2\n",
    ")"
   ]
  },
  {
   "cell_type": "markdown",
   "id": "d9c9d884-6604-42d0-8fa9-23addd40dac1",
   "metadata": {},
   "source": [
    "# Create a new column called route: “Delhi → Mumbai” from source_city and destination_city."
   ]
  },
  {
   "cell_type": "code",
   "execution_count": 10,
   "id": "c837df4b-220c-4462-8374-6f13967217b0",
   "metadata": {},
   "outputs": [],
   "source": [
    "# Delhi → Mumbai\n",
    "tmp = tmp.withColumn(\n",
    "    \"route\",\n",
    "    concat(trim(col(\"source_city\")), lit(\" -> \"), trim(col(\"destination_city\")))\n",
    ")"
   ]
  },
  {
   "cell_type": "markdown",
   "id": "315343bc-9432-48fa-8a75-a812c5cf203b",
   "metadata": {},
   "source": [
    "# Transform departure_time and arrival_time to numerical categories (Morning, Afternoon, etc.), then encode as numbers (0=Early_Morning, 1=Morning, etc.)."
   ]
  },
  {
   "cell_type": "code",
   "execution_count": 11,
   "id": "512bdbe3-2ee2-437d-ac48-9ba0a1a662b0",
   "metadata": {},
   "outputs": [],
   "source": [
    "tmp = tmp.withColumn(\"departure_time_low\", lower(trim(col(\"departure_time\"))))\n",
    "tmp = tmp.withColumn(\"arrival_time_low\",   lower(trim(col(\"arrival_time\"))))\n",
    "\n",
    "# map to numbers:\n",
    "# 0=early_morning, 1=morning, 2=afternoon, 3=evening, 4=night, 5=late_night\n",
    "tmp = tmp.withColumn(\n",
    "    \"departure_time_cat\",\n",
    "    when(col(\"departure_time_low\") == \"early_morning\", lit(0))\n",
    "    .when(col(\"departure_time_low\") == \"morning\",      lit(1))\n",
    "    .when(col(\"departure_time_low\") == \"afternoon\",    lit(2))\n",
    "    .when(col(\"departure_time_low\") == \"evening\",      lit(3))\n",
    "    .when(col(\"departure_time_low\") == \"night\",        lit(4))\n",
    "    .when(col(\"departure_time_low\") == \"late_night\",   lit(5))\n",
    "    .otherwise(lit(None).cast(\"int\"))\n",
    ")\n",
    "\n",
    "tmp = tmp.withColumn(\n",
    "    \"arrival_time_cat\",\n",
    "    when(col(\"arrival_time_low\") == \"early_morning\", lit(0))\n",
    "    .when(col(\"arrival_time_low\") == \"morning\",      lit(1))\n",
    "    .when(col(\"arrival_time_low\") == \"afternoon\",    lit(2))\n",
    "    .when(col(\"arrival_time_low\") == \"evening\",      lit(3))\n",
    "    .when(col(\"arrival_time_low\") == \"night\",        lit(4))\n",
    "    .when(col(\"arrival_time_low\") == \"late_night\",   lit(5))\n",
    "    .otherwise(lit(None).cast(\"int\"))\n",
    ")"
   ]
  },
  {
   "cell_type": "markdown",
   "id": "2ea2c2c7-b96c-4e50-9862-25f130004a2a",
   "metadata": {},
   "source": [
    "# Add a new column is_expensive: when(price > 6000, True).otherwise(False)."
   ]
  },
  {
   "cell_type": "code",
   "execution_count": 12,
   "id": "daf0e7a4-3ef2-4ba6-b5ae-424b07f1e6d0",
   "metadata": {},
   "outputs": [
    {
     "name": "stderr",
     "output_type": "stream",
     "text": [
      "[Stage 31:=============================>                            (1 + 1) / 2]"
     ]
    },
    {
     "name": "stdout",
     "output_type": "stream",
     "text": [
      "+---------+---------------+-----+-------------+--------------+------------------+------------+----------------+-----+------------+\n",
      "|airline  |route          |stops|stops_numeric|departure_time|departure_time_cat|arrival_time|arrival_time_cat|price|is_expensive|\n",
      "+---------+---------------+-----+-------------+--------------+------------------+------------+----------------+-----+------------+\n",
      "|SpiceJet |Delhi -> Mumbai|zero |0            |Early_Morning |0                 |Morning     |1               |5953 |false       |\n",
      "|Vistara  |Delhi -> Mumbai|zero |0            |Morning       |1                 |Afternoon   |2               |5955 |false       |\n",
      "|Vistara  |Delhi -> Mumbai|zero |0            |Morning       |1                 |Afternoon   |2               |5955 |false       |\n",
      "|Vistara  |Delhi -> Mumbai|zero |0            |Morning       |1                 |Morning     |1               |6060 |true        |\n",
      "|GO_FIRST |Delhi -> Mumbai|zero |0            |Afternoon     |2                 |Evening     |3               |5954 |false       |\n",
      "|Indigo   |Delhi -> Mumbai|zero |0            |Early_Morning |0                 |Morning     |1               |5955 |false       |\n",
      "|Indigo   |Delhi -> Mumbai|zero |0            |Morning       |1                 |Afternoon   |2               |5955 |false       |\n",
      "|Indigo   |Delhi -> Mumbai|zero |0            |Morning       |1                 |Morning     |1               |5955 |false       |\n",
      "|Air_India|Delhi -> Mumbai|zero |0            |Early_Morning |0                 |Morning     |1               |5955 |false       |\n",
      "|Air_India|Delhi -> Mumbai|zero |0            |Early_Morning |0                 |Morning     |1               |5955 |false       |\n",
      "|AirAsia  |Delhi -> Mumbai|one  |1            |Evening       |3                 |Morning     |1               |5949 |false       |\n",
      "|GO_FIRST |Delhi -> Mumbai|one  |1            |Early_Morning |0                 |Evening     |3               |5954 |false       |\n",
      "|GO_FIRST |Delhi -> Mumbai|one  |1            |Evening       |3                 |Morning     |1               |5954 |false       |\n",
      "|Indigo   |Delhi -> Mumbai|zero |0            |Evening       |3                 |Evening     |3               |6585 |true        |\n",
      "|AirAsia  |Delhi -> Mumbai|one  |1            |Morning       |1                 |Afternoon   |2               |8869 |true        |\n",
      "+---------+---------------+-----+-------------+--------------+------------------+------------+----------------+-----+------------+\n",
      "only showing top 15 rows\n"
     ]
    },
    {
     "name": "stderr",
     "output_type": "stream",
     "text": [
      "                                                                                "
     ]
    }
   ],
   "source": [
    "# 4) IS_EXPENSIVE\n",
    "tmp = tmp.withColumn(\"is_expensive\", col(\"price\") > 6000)\n",
    "\n",
    "# final df\n",
    "airlines_final = tmp\n",
    "\n",
    "# quick check\n",
    "airlines_final.select(\n",
    "    \"airline\", \"route\",\n",
    "    \"stops\", \"stops_numeric\",\n",
    "    \"departure_time\", \"departure_time_cat\",\n",
    "    \"arrival_time\", \"arrival_time_cat\",\n",
    "    \"price\", \"is_expensive\"\n",
    ").show(15, truncate=False)"
   ]
  },
  {
   "cell_type": "code",
   "execution_count": 13,
   "id": "1d4b7445-15f3-473d-a6ae-9dd211ae7131",
   "metadata": {},
   "outputs": [
    {
     "name": "stderr",
     "output_type": "stream",
     "text": [
      "                                                                                "
     ]
    },
    {
     "name": "stdout",
     "output_type": "stream",
     "text": [
      "+---------+---------+\n",
      "|airline  |avg_price|\n",
      "+---------+---------+\n",
      "|AirAsia  |4091.07  |\n",
      "|Air_India|23507.02 |\n",
      "|GO_FIRST |5652.01  |\n",
      "|Indigo   |5324.22  |\n",
      "|SpiceJet |6179.28  |\n",
      "|Vistara  |30396.54 |\n",
      "+---------+---------+\n",
      "\n",
      "+----------------------+------------------+\n",
      "|route                 |avg_duration_hours|\n",
      "+----------------------+------------------+\n",
      "|Bangalore -> Chennai  |14.48             |\n",
      "|Bangalore -> Delhi    |9.78              |\n",
      "|Bangalore -> Hyderabad|14.16             |\n",
      "|Bangalore -> Kolkata  |13.1              |\n",
      "|Bangalore -> Mumbai   |10.91             |\n",
      "|Chennai -> Bangalore  |13.95             |\n",
      "|Chennai -> Delhi      |11.15             |\n",
      "|Chennai -> Hyderabad  |13.15             |\n",
      "|Chennai -> Kolkata    |14.52             |\n",
      "|Chennai -> Mumbai     |12.37             |\n",
      "+----------------------+------------------+\n",
      "only showing top 10 rows\n",
      "+---------+---------+---------+\n",
      "|airline  |min_price|max_price|\n",
      "+---------+---------+---------+\n",
      "|AirAsia  |1105     |31917    |\n",
      "|Air_India|1526     |90970    |\n",
      "|GO_FIRST |1105     |32803    |\n",
      "|Indigo   |1105     |31952    |\n",
      "|SpiceJet |1106     |34158    |\n",
      "|Vistara  |1714     |123071   |\n",
      "+---------+---------+---------+\n",
      "\n",
      "+--------------+------------------+-----+\n",
      "|departure_time|departure_time_cat|count|\n",
      "+--------------+------------------+-----+\n",
      "|Early_Morning |0                 |66790|\n",
      "|Morning       |1                 |71146|\n",
      "|Afternoon     |2                 |47794|\n",
      "|Evening       |3                 |65102|\n",
      "|Night         |4                 |48015|\n",
      "|Late_Night    |5                 |1306 |\n",
      "+--------------+------------------+-----+\n",
      "\n"
     ]
    }
   ],
   "source": [
    "\n",
    "# 1) Get the average price per airline.\n",
    "avg_price_per_airline = airlines_final.groupBy(\"airline\") \\\n",
    "    .agg(round(avg(\"price\"), 2).alias(\"avg_price\")) \\\n",
    "    .orderBy(\"airline\")\n",
    "avg_price_per_airline.show(truncate=False)\n",
    "\n",
    "# 2) Average duration per route.\n",
    "avg_duration_per_route = airlines_final.groupBy(\"route\") \\\n",
    "    .agg(round(avg(\"duration\"), 2).alias(\"avg_duration_hours\")) \\\n",
    "    .orderBy(\"route\")\n",
    "avg_duration_per_route.show(10, truncate=False)\n",
    "\n",
    "# 3) Minimum and maximum price per airline.\n",
    "min_max_price_per_airline = airlines_final.groupBy(\"airline\") \\\n",
    "    .agg(\n",
    "        spark_min(\"price\").alias(\"min_price\"),\n",
    "        spark_max(\"price\").alias(\"max_price\")\n",
    "    ) \\\n",
    "    .orderBy(\"airline\")\n",
    "min_max_price_per_airline.show(truncate=False)\n",
    "\n",
    "# 4) Count flights by departure_time category.\n",
    "count_by_dep_time = airlines_final.groupBy(\"departure_time\", \"departure_time_cat\") \\\n",
    "    .count() \\\n",
    "    .orderBy(\"departure_time_cat\")\n",
    "count_by_dep_time.show(truncate=False)\n"
   ]
  },
  {
   "cell_type": "code",
   "execution_count": 14,
   "id": "0a1cb873-3410-4498-9812-1673fd8b1b75",
   "metadata": {},
   "outputs": [],
   "source": [
    "sc.stop()"
   ]
  },
  {
   "cell_type": "code",
   "execution_count": null,
   "id": "ad067d2c-1600-4668-b0f9-5cc9440cfd5f",
   "metadata": {},
   "outputs": [],
   "source": []
  }
 ],
 "metadata": {
  "kernelspec": {
   "display_name": "Python 3 (ipykernel)",
   "language": "python",
   "name": "python3"
  },
  "language_info": {
   "codemirror_mode": {
    "name": "ipython",
    "version": 3
   },
   "file_extension": ".py",
   "mimetype": "text/x-python",
   "name": "python",
   "nbconvert_exporter": "python",
   "pygments_lexer": "ipython3",
   "version": "3.10.12"
  }
 },
 "nbformat": 4,
 "nbformat_minor": 5
}
