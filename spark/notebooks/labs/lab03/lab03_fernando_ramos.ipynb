{
 "cells": [
  {
   "cell_type": "markdown",
   "id": "b92d9622",
   "metadata": {},
   "source": [
    "# <center> <img src=\"../../img/ITESOLogo.png\" alt=\"ITESO\" width=\"480\" height=\"130\"> </center>\n",
    "# <center> **Departamento de Electrónica, Sistemas e Informática** </center>\n",
    "---\n",
    "## <center> Computer Systems Engineering  </center>\n",
    "---\n",
    "### <center> Big Data Processing </center>\n",
    "---\n",
    "#### <center> **Autumn 2025** </center>\n",
    "---\n",
    "\n",
    "**Lab 03**: Data Cleaning and Transformation Pipeline\n",
    "\n",
    "**Date**: September 18th 2025\n",
    "\n",
    "**Student Name**:\n",
    "\n",
    "**Professor**: Pablo Camarillo Ramirez\n",
    "\n",
    "#### **By:** Fernando Ramos"
   ]
  },
  {
   "cell_type": "code",
   "execution_count": 1,
   "id": "0b633dca-ad83-4d25-a00b-6103c70a18b5",
   "metadata": {},
   "outputs": [],
   "source": [
    "import findspark\n",
    "findspark.init()"
   ]
  },
  {
   "cell_type": "code",
   "execution_count": 158,
   "id": "51a268a9-e5e2-4b46-95b6-8992b1a63eb6",
   "metadata": {},
   "outputs": [],
   "source": [
    "from pyspark.sql import SparkSession\n",
    "from pyspark.sql.functions import avg, trim, col, count, isnull, when, lit, concat, round, asc, desc\n",
    "from datetime import datetime\n",
    "from fernandoramos.spark_utils import SparkUtils\n",
    "\n",
    "spark = SparkSession.builder \\\n",
    "    .appName(\"Examples on SparkSQL\") \\\n",
    "    .master(\"spark://d3eb0343c341:7077\") \\\n",
    "    .config(\"spark.ui.port\", \"4040\") \\\n",
    "    .getOrCreate()\n",
    "\n",
    "sc = spark.sparkContext\n",
    "sc.setLogLevel(\"ERROR\")"
   ]
  },
  {
   "cell_type": "code",
   "execution_count": 159,
   "id": "80cb4c2d-cbdb-4b86-9fbb-9eb666cd6f5a",
   "metadata": {},
   "outputs": [
    {
     "data": {
      "text/plain": [
       "StructType([StructField('index', IntegerType(), True), StructField('airline', StringType(), True), StructField('flight', StringType(), True), StructField('source_city', StringType(), True), StructField('departure_time', StringType(), True), StructField('stops', StringType(), True), StructField('arrival_time', StringType(), True), StructField('destination_city', StringType(), True), StructField('class', StringType(), True), StructField('duration', FloatType(), True), StructField('days_left', IntegerType(), True), StructField('price', DoubleType(), True)])"
      ]
     },
     "execution_count": 159,
     "metadata": {},
     "output_type": "execute_result"
    }
   ],
   "source": [
    "airlines_schema_columns = [(\"index\", \"int\"), \n",
    "     (\"airline\", \"string\"), \n",
    "     (\"flight\", \"string\"),\n",
    "     (\"source_city\", \"string\"),\n",
    "     (\"departure_time\", \"string\"),\n",
    "     (\"stops\", \"string\"),\n",
    "     (\"arrival_time\", \"string\"),\n",
    "     (\"destination_city\", \"string\"),\n",
    "     (\"class\", \"string\"),\n",
    "     (\"duration\", \"float\"),\n",
    "     (\"days_left\", \"int\"),\n",
    "     (\"price\", \"double\")\n",
    "     ]\n",
    "\n",
    "airlines_schema = SparkUtils.generate_schema(airlines_schema_columns)\n",
    "airlines_schema"
   ]
  },
  {
   "cell_type": "code",
   "execution_count": 160,
   "id": "e8496e29-86ae-48b9-a63a-2589feb2e6a5",
   "metadata": {},
   "outputs": [
    {
     "name": "stdout",
     "output_type": "stream",
     "text": [
      "+-----+---------+-------+-----------+--------------+-----+-------------+----------------+-------+--------+---------+-----+\n",
      "|index|  airline| flight|source_city|departure_time|stops| arrival_time|destination_city|  class|duration|days_left|price|\n",
      "+-----+---------+-------+-----------+--------------+-----+-------------+----------------+-------+--------+---------+-----+\n",
      "|    0| SpiceJet|SG-8709|      Delhi|       Evening| zero|        Night|          Mumbai|Economy|    2.17|        1| 5953|\n",
      "|    1| SpiceJet|SG-8157|      Delhi| Early_Morning| zero|      Morning|          Mumbai|Economy|    2.33|        1| 5953|\n",
      "|    2|  AirAsia| I5-764|      Delhi| Early_Morning| zero|Early_Morning|          Mumbai|Economy|    2.17|        1| 5956|\n",
      "|    3|  Vistara| UK-995|      Delhi|       Morning| zero|    Afternoon|          Mumbai|Economy|    2.25|        1| 5955|\n",
      "|    4|  Vistara| UK-963|      Delhi|       Morning| zero|      Morning|          Mumbai|Economy|    2.33|        1| 5955|\n",
      "|    5|  Vistara| UK-945|      Delhi|       Morning| zero|    Afternoon|          Mumbai|Economy|    2.33|        1| 5955|\n",
      "|    6|  Vistara| UK-927|      Delhi|       Morning| zero|      Morning|          Mumbai|Economy|    2.08|        1| 6060|\n",
      "|    7|  Vistara| UK-951|      Delhi|     Afternoon| zero|      Evening|          Mumbai|Economy|    2.17|        1| 6060|\n",
      "|    8| GO_FIRST| G8-334|      Delhi| Early_Morning| zero|      Morning|          Mumbai|Economy|    2.17|        1| 5954|\n",
      "|    9| GO_FIRST| G8-336|      Delhi|     Afternoon| zero|      Evening|          Mumbai|Economy|    2.25|        1| 5954|\n",
      "|   10| GO_FIRST| G8-392|      Delhi|     Afternoon| zero|      Evening|          Mumbai|Economy|    2.25|        1| 5954|\n",
      "|   11| GO_FIRST| G8-338|      Delhi|       Morning| zero|    Afternoon|          Mumbai|Economy|    2.33|        1| 5954|\n",
      "|   12|   Indigo|6E-5001|      Delhi| Early_Morning| zero|      Morning|          Mumbai|Economy|    2.17|        1| 5955|\n",
      "|   13|   Indigo|6E-6202|      Delhi|       Morning| zero|    Afternoon|          Mumbai|Economy|    2.17|        1| 5955|\n",
      "|   14|   Indigo| 6E-549|      Delhi|     Afternoon| zero|      Evening|          Mumbai|Economy|    2.25|        1| 5955|\n",
      "|   15|   Indigo|6E-6278|      Delhi|       Morning| zero|      Morning|          Mumbai|Economy|    2.33|        1| 5955|\n",
      "|   16|Air_India| AI-887|      Delhi| Early_Morning| zero|      Morning|          Mumbai|Economy|    2.08|        1| 5955|\n",
      "|   17|Air_India| AI-665|      Delhi| Early_Morning| zero|      Morning|          Mumbai|Economy|    2.17|        1| 5955|\n",
      "|   18|  AirAsia| I5-747|      Delhi|       Evening|  one|Early_Morning|          Mumbai|Economy|   12.25|        1| 5949|\n",
      "|   19|  AirAsia| I5-747|      Delhi|       Evening|  one|      Morning|          Mumbai|Economy|   16.33|        1| 5949|\n",
      "+-----+---------+-------+-----------+--------------+-----+-------------+----------------+-------+--------+---------+-----+\n",
      "only showing top 20 rows\n"
     ]
    }
   ],
   "source": [
    "airlines_dataset = spark \\\n",
    "    .read \\\n",
    "    .format(\"csv\") \\\n",
    "    .option(\"key\", \"value\") \\\n",
    "    .option(\"header\", \"true\") \\\n",
    "    .option(\"schema\", airlines_schema) \\\n",
    "    .csv(\"/opt/spark/work-dir/data/airline/\") \n",
    "\n",
    "airlines_dataset.show()"
   ]
  },
  {
   "cell_type": "code",
   "execution_count": 161,
   "id": "b500e905-8ff9-425a-810c-f1ec4fd6b208",
   "metadata": {},
   "outputs": [
    {
     "name": "stdout",
     "output_type": "stream",
     "text": [
      "number of records before cleaning: 300153\n"
     ]
    },
    {
     "name": "stderr",
     "output_type": "stream",
     "text": [
      "                                                                                "
     ]
    },
    {
     "name": "stdout",
     "output_type": "stream",
     "text": [
      "+-----+-------+------+-----------+--------------+-----+------------+----------------+-----+--------+---------+-----+\n",
      "|index|airline|flight|source_city|departure_time|stops|arrival_time|destination_city|class|duration|days_left|price|\n",
      "+-----+-------+------+-----------+--------------+-----+------------+----------------+-----+--------+---------+-----+\n",
      "|    0|      0|     0|          0|             0|    0|           0|               0|    0|       0|        0|    0|\n",
      "+-----+-------+------+-----------+--------------+-----+------------+----------------+-----+--------+---------+-----+\n",
      "\n"
     ]
    },
    {
     "name": "stderr",
     "output_type": "stream",
     "text": [
      "                                                                                "
     ]
    },
    {
     "name": "stdout",
     "output_type": "stream",
     "text": [
      "number of records after cleaning with trim: 300153\n"
     ]
    },
    {
     "name": "stderr",
     "output_type": "stream",
     "text": [
      "                                                                                "
     ]
    },
    {
     "name": "stdout",
     "output_type": "stream",
     "text": [
      "+-----+-------+------+-----------+--------------+-----+------------+----------------+-----+--------+---------+-----+\n",
      "|index|airline|flight|source_city|departure_time|stops|arrival_time|destination_city|class|duration|days_left|price|\n",
      "+-----+-------+------+-----------+--------------+-----+------------+----------------+-----+--------+---------+-----+\n",
      "|    0|      0|     0|          0|             0|    0|           0|               0|    0|       0|        0|    0|\n",
      "+-----+-------+------+-----------+--------------+-----+------------+----------------+-----+--------+---------+-----+\n",
      "\n"
     ]
    },
    {
     "name": "stderr",
     "output_type": "stream",
     "text": [
      "                                                                                "
     ]
    },
    {
     "name": "stdout",
     "output_type": "stream",
     "text": [
      "number of records after cleaning with dropna: 300153\n"
     ]
    },
    {
     "name": "stderr",
     "output_type": "stream",
     "text": [
      "[Stage 741:============================>                            (1 + 1) / 2]"
     ]
    },
    {
     "name": "stdout",
     "output_type": "stream",
     "text": [
      "+-----+-------+------+-----------+--------------+-----+------------+----------------+-----+--------+---------+-----+\n",
      "|index|airline|flight|source_city|departure_time|stops|arrival_time|destination_city|class|duration|days_left|price|\n",
      "+-----+-------+------+-----------+--------------+-----+------------+----------------+-----+--------+---------+-----+\n",
      "|    0|      0|     0|          0|             0|    0|           0|               0|    0|       0|        0|    0|\n",
      "+-----+-------+------+-----------+--------------+-----+------------+----------------+-----+--------+---------+-----+\n",
      "\n"
     ]
    },
    {
     "name": "stderr",
     "output_type": "stream",
     "text": [
      "                                                                                "
     ]
    }
   ],
   "source": [
    "print(f\"number of records before cleaning: {airlines_dataset.count()}\")\n",
    "\n",
    "# Get number of null values for each column before cleaning \n",
    "airlines_dataset.select([count(when(isnull(c[0]) | col(c[0]).isNull(), c[0])).alias(c[0]) for c in airlines_schema_columns]).show()\n",
    "\n",
    "# Perform data cleaning with trim (column by column)\n",
    "airlines_clean = airlines_dataset \\\n",
    "        .dropDuplicates([\"index\"]) \\\n",
    "        .withColumn(\"airline\", trim(\"airline\")) \\\n",
    "        .withColumn(\"source_city\", trim(\"source_city\")) \\\n",
    "        .withColumn(\"destination_city\", trim(\"destination_city\")) \\\n",
    "        .filter(col(\"price\").isNotNull())\n",
    "\n",
    "# Simply using dropna()\n",
    "airlines_clean_v2 = airlines_clean.dropna()\n",
    "\n",
    "print(f\"number of records after cleaning with trim: {airlines_clean.count()}\")\n",
    "airlines_clean.select([count(when(isnull(c[0]) | col(c[0]).isNull(), c[0])).alias(c[0]) for c in airlines_schema_columns]).show()\n",
    "\n",
    "print(f\"number of records after cleaning with dropna: {airlines_clean_v2.count()}\")\n",
    "airlines_clean_v2.select([count(when(isnull(c[0]) | col(c[0]).isNull(), c[0])).alias(c[0]) for c in airlines_schema_columns]).show()"
   ]
  },
  {
   "cell_type": "markdown",
   "id": "e6488089-0fea-4086-902a-abfc8e203297",
   "metadata": {},
   "source": [
    "## 1st transformation: Normalize categorical values: map “zero” → 0, “one” → 1, etc. in stops"
   ]
  },
  {
   "cell_type": "code",
   "execution_count": 162,
   "id": "3f7961f9-cb4b-4184-bac9-a1b8da9cda6f",
   "metadata": {},
   "outputs": [
    {
     "name": "stderr",
     "output_type": "stream",
     "text": [
      "[Stage 747:============================>                            (1 + 1) / 2]"
     ]
    },
    {
     "name": "stdout",
     "output_type": "stream",
     "text": [
      "+------+--------+-------+-----+-------------+\n",
      "| index| airline| flight|stops|stops_numeric|\n",
      "+------+--------+-------+-----+-------------+\n",
      "|     0|SpiceJet|SG-8709| zero|            0|\n",
      "|   100| Vistara| UK-705|  one|            1|\n",
      "|  1000|  Indigo|6E-2373|  one|            1|\n",
      "| 10000|GO_FIRST| G8-392|  one|            1|\n",
      "|100000| Vistara| UK-810|  one|            1|\n",
      "+------+--------+-------+-----+-------------+\n",
      "only showing top 5 rows\n"
     ]
    },
    {
     "name": "stderr",
     "output_type": "stream",
     "text": [
      "                                                                                "
     ]
    }
   ],
   "source": [
    "# Perform the 1st transformation: Normalize categorical values: map “zero” → 0, “one” → 1, etc. in stops.\n",
    "\n",
    "airlines_t1 = airlines_clean_v2.withColumn(\"stops_numeric\",\n",
    "                                           when(airlines_clean_v2.stops == \"zero\", lit(0)) \\\n",
    "                                           .when(airlines_clean_v2.stops == \"one\", lit(1)) \\\n",
    "                                           .when(airlines_clean_v2.stops == \"two_or_more\", lit(2))\n",
    ")\n",
    "airlines_t1.select(\"index\", \"airline\", \"flight\", \"stops\", \"stops_numeric\").show(n=5)"
   ]
  },
  {
   "cell_type": "markdown",
   "id": "8709d211-a2c7-4049-b647-7c866f073d49",
   "metadata": {},
   "source": [
    "## 2nd transformation: Create a new column called route: “Delhi → Mumbai” from source_city and destination_city"
   ]
  },
  {
   "cell_type": "code",
   "execution_count": 163,
   "id": "b33b09c0-5a41-406d-8350-e51fb01a98ca",
   "metadata": {},
   "outputs": [
    {
     "name": "stderr",
     "output_type": "stream",
     "text": [
      "[Stage 750:============================>                            (1 + 1) / 2]"
     ]
    },
    {
     "name": "stdout",
     "output_type": "stream",
     "text": [
      "+------+--------+-------+-----------+----------------+-----------------+\n",
      "| index| airline| flight|source_city|destination_city|            route|\n",
      "+------+--------+-------+-----------+----------------+-----------------+\n",
      "|     0|SpiceJet|SG-8709|      Delhi|          Mumbai|    Delhi->Mumbai|\n",
      "|   100| Vistara| UK-705|      Delhi|          Mumbai|    Delhi->Mumbai|\n",
      "|  1000|  Indigo|6E-2373|      Delhi|          Mumbai|    Delhi->Mumbai|\n",
      "| 10000|GO_FIRST| G8-392|      Delhi|       Bangalore| Delhi->Bangalore|\n",
      "|100000| Vistara| UK-810|  Bangalore|          Mumbai|Bangalore->Mumbai|\n",
      "+------+--------+-------+-----------+----------------+-----------------+\n",
      "only showing top 5 rows\n"
     ]
    },
    {
     "name": "stderr",
     "output_type": "stream",
     "text": [
      "                                                                                "
     ]
    }
   ],
   "source": [
    "# Perform the 2nd transformation: Create a new column called route: “Delhi → Mumbai” from source_city and destination_city\n",
    "\n",
    "airlines_t2 = airlines_t1.withColumn(\"route\", \n",
    "                                     concat(col(\"source_city\"), lit(\"->\"), col(\"destination_city\"))\n",
    ")\n",
    "airlines_t2.select(\"index\", \"airline\", \"flight\", \"source_city\", \"destination_city\", \"route\").show(n=5)"
   ]
  },
  {
   "cell_type": "markdown",
   "id": "4304c780-35c5-4c01-8329-a972ede56d7a",
   "metadata": {},
   "source": [
    "## 3rd transformation: Transform departure_time and arrival_time to numerical categories (Morning, Afternoon, etc.), then encode as numbers (0=Early_Morning, 1=Morning, etc.)"
   ]
  },
  {
   "cell_type": "code",
   "execution_count": 164,
   "id": "1dd3aeba-2ae8-4904-aab0-c663dbba39bf",
   "metadata": {},
   "outputs": [
    {
     "name": "stderr",
     "output_type": "stream",
     "text": [
      "[Stage 753:============================>                            (1 + 1) / 2]"
     ]
    },
    {
     "name": "stdout",
     "output_type": "stream",
     "text": [
      "+------+--------+-------+--------------+----------------------+\n",
      "| index| airline| flight|departure_time|departure_time_numeric|\n",
      "+------+--------+-------+--------------+----------------------+\n",
      "|     0|SpiceJet|SG-8709|       Evening|                     2|\n",
      "|   100| Vistara| UK-705| Early_Morning|                     0|\n",
      "|  1000|  Indigo|6E-2373|     Afternoon|                     3|\n",
      "| 10000|GO_FIRST| G8-392|     Afternoon|                     3|\n",
      "|100000| Vistara| UK-810| Early_Morning|                     0|\n",
      "+------+--------+-------+--------------+----------------------+\n",
      "only showing top 5 rows\n"
     ]
    },
    {
     "name": "stderr",
     "output_type": "stream",
     "text": [
      "                                                                                "
     ]
    }
   ],
   "source": [
    "# Perform the 3rd transformation: Transform departure_time and arrival_time to numerical categories (Morning, Afternoon, etc.), \n",
    "# then encode as numbers (0=Early_Morning, 1=Morning, etc.)\n",
    "\n",
    "airlines_t3_p1 = airlines_t2.withColumn(\"departure_time_numeric\",\n",
    "                                     when(airlines_t2.departure_time == \"Early_Morning\", lit(0)) \\\n",
    "                                     .when(airlines_t2.departure_time == \"Morning\", lit(1)) \\\n",
    "                                     .when(airlines_t2.departure_time == \"Evening\", lit(2)) \\\n",
    "                                     .when(airlines_t2.departure_time == \"Afternoon\", lit(3)) \\\n",
    "                                     .when(airlines_t2.departure_time == \"Night\", lit(4)) \\\n",
    "                                     .when(airlines_t2.departure_time == \"Late_Night\", lit(5)) \n",
    ")\n",
    "airlines_t3_p1.select(\"index\", \"airline\", \"flight\", \"departure_time\", \"departure_time_numeric\").show(n=5)"
   ]
  },
  {
   "cell_type": "code",
   "execution_count": 173,
   "id": "3aa6bed0-f0fb-4147-b140-89142fb3a39a",
   "metadata": {},
   "outputs": [
    {
     "name": "stderr",
     "output_type": "stream",
     "text": [
      "[Stage 795:============================>                            (1 + 1) / 2]"
     ]
    },
    {
     "name": "stdout",
     "output_type": "stream",
     "text": [
      "+------+--------+-------+------------+--------------------+\n",
      "| index| airline| flight|arrival_time|arrival_time_numeric|\n",
      "+------+--------+-------+------------+--------------------+\n",
      "|     0|SpiceJet|SG-8709|       Night|                   4|\n",
      "|   100| Vistara| UK-705|       Night|                   4|\n",
      "|  1000|  Indigo|6E-2373|     Evening|                   2|\n",
      "| 10000|GO_FIRST| G8-392|       Night|                   4|\n",
      "|100000| Vistara| UK-810|       Night|                   4|\n",
      "+------+--------+-------+------------+--------------------+\n",
      "only showing top 5 rows\n"
     ]
    },
    {
     "name": "stderr",
     "output_type": "stream",
     "text": [
      "                                                                                "
     ]
    }
   ],
   "source": [
    "airlines_t3_p2 = airlines_t3_p1.withColumn(\"arrival_time_numeric\",\n",
    "                                     when(airlines_t3_p1.arrival_time == \"Early_Morning\", lit(0)) \\\n",
    "                                     .when(airlines_t3_p1.arrival_time == \"Morning\", lit(1)) \\\n",
    "                                     .when(airlines_t3_p1.arrival_time == \"Evening\", lit(2)) \\\n",
    "                                     .when(airlines_t3_p1.arrival_time == \"Afternoon\", lit(3)) \\\n",
    "                                     .when(airlines_t3_p1.arrival_time == \"Night\", lit(4)) \\\n",
    "                                     .when(airlines_t3_p1.arrival_time == \"Late_Night\", lit(5)) \n",
    ")\n",
    "airlines_t3_p2.select(\"index\", \"airline\", \"flight\", \"arrival_time\", \"arrival_time_numeric\").show(n=5)"
   ]
  },
  {
   "cell_type": "markdown",
   "id": "5f7936d1-7748-453a-aaa7-37d46528d42e",
   "metadata": {},
   "source": [
    "## 4th transformation: Add a new column is_expensive: when(price > 6000, True).otherwise(False)"
   ]
  },
  {
   "cell_type": "code",
   "execution_count": 166,
   "id": "f9c7bc96-f022-460a-9f04-127e30b9f2cb",
   "metadata": {},
   "outputs": [
    {
     "name": "stderr",
     "output_type": "stream",
     "text": [
      "[Stage 759:============================>                            (1 + 1) / 2]"
     ]
    },
    {
     "name": "stdout",
     "output_type": "stream",
     "text": [
      "+------+--------+-------+-----+------------+\n",
      "| index| airline| flight|price|is_expensive|\n",
      "+------+--------+-------+-----+------------+\n",
      "|     0|SpiceJet|SG-8709| 5953|       false|\n",
      "|   100| Vistara| UK-705|18450|        true|\n",
      "|  1000|  Indigo|6E-2373| 9373|        true|\n",
      "| 10000|GO_FIRST| G8-392| 7424|        true|\n",
      "|100000| Vistara| UK-810| 7212|        true|\n",
      "+------+--------+-------+-----+------------+\n",
      "only showing top 5 rows\n"
     ]
    },
    {
     "name": "stderr",
     "output_type": "stream",
     "text": [
      "                                                                                "
     ]
    }
   ],
   "source": [
    "# Perform the 4th transformation: Add a new column is_expensive: when(price > 6000, True).otherwise(False)\n",
    "\n",
    "airlines_t4 = airlines_t3_p2.withColumn(\"is_expensive\",\n",
    "                                        when(airlines_t3_p2.price > 6000, lit(True)) \\\n",
    "                                        .when(airlines_t3_p2.price <= 6000, lit(False))\n",
    ")\n",
    "airlines_t4.select(\"index\", \"airline\", \"flight\", \"price\", \"is_expensive\").show(n=5)"
   ]
  },
  {
   "cell_type": "markdown",
   "id": "48b272f1-2b2a-4d56-8fff-30e380b2bdd7",
   "metadata": {},
   "source": [
    "## Get the average price per airline."
   ]
  },
  {
   "cell_type": "code",
   "execution_count": 167,
   "id": "ab99a347-ad4b-4abe-9db9-140dc0182b07",
   "metadata": {},
   "outputs": [
    {
     "name": "stderr",
     "output_type": "stream",
     "text": [
      "[Stage 764:============================>                            (1 + 1) / 2]"
     ]
    },
    {
     "name": "stdout",
     "output_type": "stream",
     "text": [
      "+---------+-------------+\n",
      "|  airline|average_price|\n",
      "+---------+-------------+\n",
      "|  AirAsia|      4091.07|\n",
      "|   Indigo|      5324.22|\n",
      "| GO_FIRST|      5652.01|\n",
      "| SpiceJet|      6179.28|\n",
      "|Air_India|     23507.02|\n",
      "|  Vistara|     30396.54|\n",
      "+---------+-------------+\n",
      "\n"
     ]
    },
    {
     "name": "stderr",
     "output_type": "stream",
     "text": [
      "                                                                                "
     ]
    }
   ],
   "source": [
    "airlines_t4.groupBy(col(\"airline\")) \\\n",
    "    .agg(round(avg(\"price\"), 2).alias(\"average_price\")) \\\n",
    "    .orderBy(\"average_price\") \\\n",
    "    .show()"
   ]
  },
  {
   "cell_type": "markdown",
   "id": "ef06cfd4-b9f1-4fc8-ade4-59e5d6ae35b2",
   "metadata": {},
   "source": [
    "## Get the average duration per route."
   ]
  },
  {
   "cell_type": "code",
   "execution_count": 169,
   "id": "1a685280-d3f7-4e9d-a8a6-28183fddd8e2",
   "metadata": {},
   "outputs": [
    {
     "name": "stderr",
     "output_type": "stream",
     "text": [
      "[Stage 774:============================>                            (1 + 1) / 2]"
     ]
    },
    {
     "name": "stdout",
     "output_type": "stream",
     "text": [
      "+--------------------+----------------+\n",
      "|               route|average_duration|\n",
      "+--------------------+----------------+\n",
      "|    Kolkata->Chennai|           14.77|\n",
      "|    Chennai->Kolkata|           14.52|\n",
      "|  Bangalore->Chennai|           14.48|\n",
      "|Bangalore->Hyderabad|           14.16|\n",
      "|  Chennai->Bangalore|           13.95|\n",
      "|  Kolkata->Hyderabad|           13.85|\n",
      "|  Kolkata->Bangalore|           13.79|\n",
      "|  Hyderabad->Kolkata|           13.54|\n",
      "|  Hyderabad->Chennai|           13.29|\n",
      "|   Mumbai->Hyderabad|           13.26|\n",
      "|  Chennai->Hyderabad|           13.15|\n",
      "|  Bangalore->Kolkata|            13.1|\n",
      "|     Kolkata->Mumbai|           12.99|\n",
      "|     Mumbai->Kolkata|           12.84|\n",
      "|      Delhi->Kolkata|           12.74|\n",
      "|     Mumbai->Chennai|           12.67|\n",
      "|    Delhi->Hyderabad|           12.52|\n",
      "|      Delhi->Chennai|           12.43|\n",
      "|     Chennai->Mumbai|           12.37|\n",
      "|Hyderabad->Bangalore|           12.09|\n",
      "+--------------------+----------------+\n",
      "only showing top 20 rows\n"
     ]
    },
    {
     "name": "stderr",
     "output_type": "stream",
     "text": [
      "                                                                                "
     ]
    }
   ],
   "source": [
    "airlines_t4.groupBy(col(\"route\")) \\\n",
    "    .agg(round(avg(\"duration\"), 2).alias(\"average_duration\")) \\\n",
    "    .orderBy(desc(\"average_duration\")) \\\n",
    "    .show()"
   ]
  },
  {
   "cell_type": "markdown",
   "id": "b8dec3fb-59de-4303-85cb-60014d84d6f0",
   "metadata": {},
   "source": [
    "## Get the minimum and maximum price per airline."
   ]
  },
  {
   "cell_type": "code",
   "execution_count": 170,
   "id": "b2089ce4-04e4-447e-8b05-d3a5859e0fbd",
   "metadata": {},
   "outputs": [
    {
     "name": "stderr",
     "output_type": "stream",
     "text": [
      "[Stage 780:============================>                            (1 + 1) / 2]"
     ]
    },
    {
     "name": "stdout",
     "output_type": "stream",
     "text": [
      "+---------+---------+---------+\n",
      "|  airline|min_price|max_price|\n",
      "+---------+---------+---------+\n",
      "|   Indigo|     1105|    31952|\n",
      "| SpiceJet|     1106|    34158|\n",
      "|Air_India|     1526|    90970|\n",
      "|  AirAsia|     1105|    31917|\n",
      "| GO_FIRST|     1105|    32803|\n",
      "|  Vistara|     1714|   123071|\n",
      "+---------+---------+---------+\n",
      "\n"
     ]
    },
    {
     "name": "stderr",
     "output_type": "stream",
     "text": [
      "                                                                                "
     ]
    }
   ],
   "source": [
    "from pyspark.sql.types import IntegerType\n",
    "\n",
    "airlines_t4.groupBy(col(\"airline\")) \\\n",
    "    .agg(min(col(\"price\").cast(IntegerType())).alias(\"min_price\"), \\\n",
    "         max(col(\"price\").cast(IntegerType())).alias(\"max_price\")) \\\n",
    "    .show()"
   ]
  },
  {
   "cell_type": "markdown",
   "id": "754d788c-02b8-49e6-86ee-720c62c52d81",
   "metadata": {},
   "source": [
    "## Get the count flights by departure_time category."
   ]
  },
  {
   "cell_type": "code",
   "execution_count": 171,
   "id": "8648a9b3-39f4-4352-aa25-c287bbb2d5a2",
   "metadata": {},
   "outputs": [
    {
     "name": "stderr",
     "output_type": "stream",
     "text": [
      "[Stage 786:============================>                            (1 + 1) / 2]"
     ]
    },
    {
     "name": "stdout",
     "output_type": "stream",
     "text": [
      "+--------------+-------------+\n",
      "|departure_time|total_flights|\n",
      "+--------------+-------------+\n",
      "|    Late_Night|         1306|\n",
      "|     Afternoon|        47794|\n",
      "|         Night|        48015|\n",
      "|       Evening|        65102|\n",
      "| Early_Morning|        66790|\n",
      "|       Morning|        71146|\n",
      "+--------------+-------------+\n",
      "\n"
     ]
    },
    {
     "name": "stderr",
     "output_type": "stream",
     "text": [
      "                                                                                "
     ]
    }
   ],
   "source": [
    "airlines_t4.groupBy(col(\"departure_time\")) \\\n",
    "    .agg(count(\"index\").alias(\"total_flights\")) \\\n",
    "    .orderBy(\"total_flights\") \\\n",
    "    .show()"
   ]
  }
 ],
 "metadata": {
  "kernelspec": {
   "display_name": "Python 3 (ipykernel)",
   "language": "python",
   "name": "python3"
  },
  "language_info": {
   "codemirror_mode": {
    "name": "ipython",
    "version": 3
   },
   "file_extension": ".py",
   "mimetype": "text/x-python",
   "name": "python",
   "nbconvert_exporter": "python",
   "pygments_lexer": "ipython3",
   "version": "3.10.12"
  }
 },
 "nbformat": 4,
 "nbformat_minor": 5
}
