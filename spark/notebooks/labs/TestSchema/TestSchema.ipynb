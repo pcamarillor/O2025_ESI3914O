{
 "cells": [
  {
   "cell_type": "code",
   "execution_count": 31,
   "id": "f0e25399-8e03-4e21-93b3-229eade2a644",
   "metadata": {},
   "outputs": [],
   "source": [
    "import findspark\n",
    "findspark.init()"
   ]
  },
  {
   "cell_type": "code",
   "execution_count": 32,
   "id": "86cf2aec-8ba1-4087-b391-4cb17050e044",
   "metadata": {},
   "outputs": [],
   "source": [
    "from codrenatat.spark_utils import SparkUtils"
   ]
  },
  {
   "cell_type": "code",
   "execution_count": 33,
   "id": "7441a12b-1f70-4aaa-a16c-4b373cd9f9c0",
   "metadata": {},
   "outputs": [],
   "source": [
    "schema = SparkUtils.generate_schema([(\"name\", \"string\"),(\"age\", \"int\"),(\"city\", \"string\")])"
   ]
  },
  {
   "cell_type": "code",
   "execution_count": 34,
   "id": "2cbcb2c3-1287-40ba-a7d1-4f3eb849a574",
   "metadata": {},
   "outputs": [
    {
     "name": "stdout",
     "output_type": "stream",
     "text": [
      "struct<name:string,age:int,city:string>\n"
     ]
    }
   ],
   "source": [
    "print(schema.simpleString())"
   ]
  },
  {
   "cell_type": "code",
   "execution_count": null,
   "id": "227001b2-4755-4a4a-a59f-497950ba28bb",
   "metadata": {},
   "outputs": [],
   "source": []
  }
 ],
 "metadata": {
  "kernelspec": {
   "display_name": "Python 3 (ipykernel)",
   "language": "python",
   "name": "python3"
  },
  "language_info": {
   "codemirror_mode": {
    "name": "ipython",
    "version": 3
   },
   "file_extension": ".py",
   "mimetype": "text/x-python",
   "name": "python",
   "nbconvert_exporter": "python",
   "pygments_lexer": "ipython3",
   "version": "3.10.12"
  }
 },
 "nbformat": 4,
 "nbformat_minor": 5
}
