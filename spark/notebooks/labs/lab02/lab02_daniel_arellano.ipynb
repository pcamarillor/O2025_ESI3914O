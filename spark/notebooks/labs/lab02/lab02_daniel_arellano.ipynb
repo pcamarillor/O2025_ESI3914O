{
 "cells": [
  {
   "cell_type": "markdown",
   "id": "dfeec634",
   "metadata": {},
   "source": [
    "# <center> <img src=\"../../img/ITESOLogo.png\" alt=\"ITESO\" width=\"480\" height=\"130\"> </center>\n",
    "# <center> **Departamento de Electrónica, Sistemas e Informática** </center>\n",
    "---\n",
    "## <center> Program: Procesamiento de Datos Masivos  </center>\n",
    "---\n",
    "### <center> **Autumn 2025** </center>\n",
    "---\n",
    "\n",
    "**Lab**: 02\n",
    "\n",
    "**Date**: 8 - september - 2025\n",
    "\n",
    "**Student Name**: Luis Daniel Arellano Núñez \n",
    "\n",
    "**Professor**: Pablo Camarillo Ramirez"
   ]
  },
  {
   "cell_type": "code",
   "execution_count": null,
   "id": "15311692",
   "metadata": {},
   "outputs": [
    {
     "name": "stdout",
     "output_type": "stream",
     "text": [
      "1500\n",
      "1300\n",
      "1300\n"
     ]
    }
   ],
   "source": [
    "from Daniel_Arellano.bankaccount import BankAccount\n",
    "\n",
    "# Crear cuenta con saldo inicial de 1000\n",
    "account = BankAccount(1000)\n",
    "\n",
    "print(account.process(\"deposit\", 500))     # 1500\n",
    "print(account.process(\"withdraw\", 200))    # 1300\n",
    "print(account.process(\"get_balance\"))      # 1300\n"
   ]
  }
 ],
 "metadata": {
  "kernelspec": {
   "display_name": "Python 3 (ipykernel)",
   "language": "python",
   "name": "python3"
  }
 },
 "nbformat": 4,
 "nbformat_minor": 5
}
