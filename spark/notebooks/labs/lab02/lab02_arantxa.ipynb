{
 "cells": [
  {
   "cell_type": "markdown",
   "id": "dfeec634",
   "metadata": {},
   "source": [
    "# <center> <img src=\"../../img/ITESOLogo.png\" alt=\"ITESO\" width=\"480\" height=\"130\"> </center>\n",
    "# <center> **Departamento de Electrónica, Sistemas e Informática** </center>\n",
    "---\n",
    "## <center> Program: _Add your program's name here_  </center>\n",
    "---\n",
    "### <center> **Autumn 2025** </center>\n",
    "---\n",
    "\n",
    "**Lab 02**:\n",
    "\n",
    "**Date**:\n",
    "\n",
    "**Student Name**:\n",
    "\n",
    "**Professor**: Pablo Camarillo Ramirez"
   ]
  },
  {
   "cell_type": "code",
   "execution_count": 1,
   "id": "6eea04fc",
   "metadata": {},
   "outputs": [],
   "source": [
    "# Import the BankAccount class \n",
    "import sys\n",
    "import os"
   ]
  },
  {
   "cell_type": "code",
   "execution_count": 2,
   "id": "3e5fdd6a",
   "metadata": {},
   "outputs": [],
   "source": [
    "# Add the lib directory to Python path \n",
    "sys.path.append('../../lib')"
   ]
  },
  {
   "cell_type": "code",
   "execution_count": 4,
   "id": "28df07f7",
   "metadata": {},
   "outputs": [],
   "source": [
    "from arantxa.BankAccount import BankAccount"
   ]
  },
  {
   "cell_type": "code",
   "execution_count": 5,
   "id": "e034d8bd-1cb9-4e80-9117-33afc4a23805",
   "metadata": {},
   "outputs": [
    {
     "name": "stdout",
     "output_type": "stream",
     "text": [
      "Created account: BankAccount with balance: $1000\n",
      "\n"
     ]
    }
   ],
   "source": [
    "# Create a bank account with initial balance\n",
    "account = BankAccount(1000)\n",
    "print(f\"Created account: {account}\")\n",
    "print()"
   ]
  },
  {
   "cell_type": "code",
   "execution_count": 6,
   "id": "1bae4882-d03d-4240-95de-20805d0e96ea",
   "metadata": {},
   "outputs": [
    {
     "name": "stdout",
     "output_type": "stream",
     "text": [
      "=== Problem Statement Operations ===\n",
      "Operation 1: Deposited $13. New balance: $1013\n"
     ]
    }
   ],
   "source": [
    "# Test operations \n",
    "print(\"=== Problem Statement Operations ===\")\n",
    "result1 = account.process(\"deposit\", 13)\n",
    "print(\"Operation 1:\", result1)"
   ]
  },
  {
   "cell_type": "code",
   "execution_count": 7,
   "id": "be717bef-d628-4a68-a1ac-9dc3de980784",
   "metadata": {},
   "outputs": [
    {
     "name": "stdout",
     "output_type": "stream",
     "text": [
      "Operation 2: Withdrew $717. New balance: $296\n"
     ]
    }
   ],
   "source": [
    "result2 = account.process(\"withdraw\", 717)\n",
    "print(\"Operation 2:\", result2)"
   ]
  },
  {
   "cell_type": "code",
   "execution_count": 8,
   "id": "c57dcc9f-e578-4eb6-a421-7c09da4c128b",
   "metadata": {},
   "outputs": [
    {
     "name": "stdout",
     "output_type": "stream",
     "text": [
      "Final: Current balance: $296\n",
      "\n"
     ]
    }
   ],
   "source": [
    "final_balance = account.process(\"get_balance\")\n",
    "print(\"Final:\", final_balance)\n",
    "print()"
   ]
  },
  {
   "cell_type": "code",
   "execution_count": 9,
   "id": "21568584-2b2a-4459-bcf9-cd137158e031",
   "metadata": {},
   "outputs": [
    {
     "name": "stdout",
     "output_type": "stream",
     "text": [
      "=== Additional Operations ===\n",
      "Transaction History:\n",
      "Initial deposit: $1000\n",
      "Deposit: $13\n",
      "Withdrawal: $717\n",
      "\n"
     ]
    }
   ],
   "source": [
    "# Test additional operations\n",
    "print(\"=== Additional Operations ===\")\n",
    "result = account.process(\"transaction_history\")\n",
    "print(\"Transaction History:\")\n",
    "print(result)\n",
    "print()"
   ]
  },
  {
   "cell_type": "code",
   "execution_count": 10,
   "id": "290fcd7d-1a4e-412a-bda1-452d5738618e",
   "metadata": {},
   "outputs": [
    {
     "name": "stdout",
     "output_type": "stream",
     "text": [
      "Initial: Current balance: $500\n",
      "Final: Current balance: $700\n",
      "\n",
      "Transaction History:\n",
      "Initial deposit: $500\n",
      "Deposit: $250\n",
      "Withdrawal: $100\n",
      "Deposit: $50\n",
      "\n"
     ]
    }
   ],
   "source": [
    "account2 = BankAccount(500)\n",
    "print(\"Initial:\", account2.process(\"get_balance\"))\n",
    "\n",
    "account2.process(\"deposit\", 250)\n",
    "account2.process(\"withdraw\", 100)\n",
    "account2.process(\"deposit\", 50)\n",
    "\n",
    "print(\"Final:\", account2.process(\"get_balance\"))\n",
    "print(\"\\nTransaction History:\")\n",
    "print(account2.process(\"transaction_history\"))\n",
    "print()"
   ]
  }
 ],
 "metadata": {
  "kernelspec": {
   "display_name": "Python 3 (ipykernel)",
   "language": "python",
   "name": "python3"
  },
  "language_info": {
   "codemirror_mode": {
    "name": "ipython",
    "version": 3
   },
   "file_extension": ".py",
   "mimetype": "text/x-python",
   "name": "python",
   "nbconvert_exporter": "python",
   "pygments_lexer": "ipython3",
   "version": "3.10.12"
  }
 },
 "nbformat": 4,
 "nbformat_minor": 5
}
