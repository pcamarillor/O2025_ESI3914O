{
 "cells": [
  {
   "cell_type": "markdown",
   "id": "dfeec634",
   "metadata": {},
   "source": [
    "# <center> <img src=\"../../img/ITESOLogo.png\" alt=\"ITESO\" width=\"480\" height=\"130\"> </center>\n",
    "# <center> **Departamento de Electrónica, Sistemas e Informática** </center>\n",
    "---\n",
    "## <center> Program: _System's Engineering_  </center>\n",
    "---\n",
    "### <center> **Autumn 2025** </center>\n",
    "---\n",
    "\n",
    "**Lab 02**: Bank Account Manager\n",
    "\n",
    "**Date**: 09/02/2025\n",
    "\n",
    "**Student Name**: Mateo Garcia\n",
    "\n",
    "**Professor**: Pablo Camarillo Ramirez"
   ]
  },
  {
   "cell_type": "code",
   "execution_count": 1,
   "id": "109f5982-bdd6-48c6-b9a1-6a7d84ff465b",
   "metadata": {},
   "outputs": [],
   "source": [
    "from mateogarcial.BankAccount import BankAccount"
   ]
  },
  {
   "cell_type": "code",
   "execution_count": 4,
   "id": "fefbef9b-6773-4dd9-a905-375dc6081757",
   "metadata": {},
   "outputs": [
    {
     "name": "stdout",
     "output_type": "stream",
     "text": [
      "Initial balance check: Current balance: $1000.56\n"
     ]
    }
   ],
   "source": [
    "# Create first account with $1000.56\n",
    "account1 = BankAccount(1000.56)\n",
    "print(f\"Initial balance check: {account1.process('get_balance')}\")"
   ]
  },
  {
   "cell_type": "code",
   "execution_count": 5,
   "id": "571050fa-09ab-4a63-b39d-ae5e6a692c05",
   "metadata": {},
   "outputs": [
    {
     "name": "stdout",
     "output_type": "stream",
     "text": [
      "Zero balance check: Current balance: $0.00\n"
     ]
    }
   ],
   "source": [
    "# Create second account with $0\n",
    "account2 = BankAccount()\n",
    "print(f\"Zero balance check: {account2.process('get_balance')}\")"
   ]
  },
  {
   "cell_type": "code",
   "execution_count": 6,
   "id": "378a29d1-5aea-4fdb-9aec-ee70e4c5857d",
   "metadata": {},
   "outputs": [
    {
     "name": "stdout",
     "output_type": "stream",
     "text": [
      "Depositing $13: Deposited $13.00. New balance: $1013.56\n",
      "Depositing $500 to account2: Deposited $500.00. New balance: $500.00\n"
     ]
    }
   ],
   "source": [
    "# Test deposit functionality\n",
    "print(f\"Depositing $13: {account1.process('deposit', 13)}\")\n",
    "print(f\"Depositing $500 to account2: {account2.process('deposit', 500)}\")"
   ]
  },
  {
   "cell_type": "code",
   "execution_count": 7,
   "id": "43567346-3074-4ac8-8121-657ea20d4199",
   "metadata": {},
   "outputs": [
    {
     "name": "stdout",
     "output_type": "stream",
     "text": [
      "Withdrawing $717: Withdrew $717.00. New balance: $296.56\n",
      "Current balance after withdrawal: Current balance: $296.56\n"
     ]
    }
   ],
   "source": [
    "# Test withdrawal functionality\n",
    "print(f\"Withdrawing $717: {account1.process('withdraw', 717)}\")\n",
    "print(f\"Current balance after withdrawal: {account1.process('get_balance')}\")"
   ]
  },
  {
   "cell_type": "code",
   "execution_count": 10,
   "id": "30656c14-1456-44c3-8c52-174d35e39295",
   "metadata": {},
   "outputs": [
    {
     "name": "stdout",
     "output_type": "stream",
     "text": [
      "Available operations: ['deposit', 'withdraw', 'get_balance', 'check_balance', 'transfer', 'add_interest']\n"
     ]
    }
   ],
   "source": [
    "print(f\"Available operations: {account1.get_available_operations()}\")"
   ]
  },
  {
   "cell_type": "code",
   "execution_count": 13,
   "id": "e718d732-a15d-4e0e-9353-e260d4ba3d4c",
   "metadata": {},
   "outputs": [
    {
     "name": "stdout",
     "output_type": "stream",
     "text": [
      "Negative withdrawal: Error executing 'withdraw': Withdrawal amount must be positive\n"
     ]
    }
   ],
   "source": [
    "# Test negative withdrawal\n",
    "print(f\"Negative withdrawal: {account1.process('withdraw', -50)}\")"
   ]
  },
  {
   "cell_type": "code",
   "execution_count": 14,
   "id": "41e6eb56-c978-4dda-84d6-bc210b1f837c",
   "metadata": {},
   "outputs": [
    {
     "name": "stdout",
     "output_type": "stream",
     "text": [
      "Insufficient funds withdrawal: Error executing 'withdraw': Insufficient funds\n"
     ]
    }
   ],
   "source": [
    "# Test insufficient funds\n",
    "print(f\"Insufficient funds withdrawal: {account1.process('withdraw', 10000)}\")"
   ]
  }
 ],
 "metadata": {
  "kernelspec": {
   "display_name": "Python 3 (ipykernel)",
   "language": "python",
   "name": "python3"
  },
  "language_info": {
   "codemirror_mode": {
    "name": "ipython",
    "version": 3
   },
   "file_extension": ".py",
   "mimetype": "text/x-python",
   "name": "python",
   "nbconvert_exporter": "python",
   "pygments_lexer": "ipython3",
   "version": "3.10.12"
  }
 },
 "nbformat": 4,
 "nbformat_minor": 5
}
