{
 "cells": [
  {
   "cell_type": "markdown",
   "id": "4e3f406a-6a48-4caa-90a9-665d475f46ab",
   "metadata": {},
   "source": [
    "# Lab 02: Bank Account Manager\n",
    "## Fernando Ramos"
   ]
  },
  {
   "cell_type": "markdown",
   "id": "883204ff-108b-4401-9e0f-f5b7996e5d4b",
   "metadata": {},
   "source": [
    "## Importaciones"
   ]
  },
  {
   "cell_type": "code",
   "execution_count": 1,
   "id": "34b1e17f-780d-437b-a0b0-e9f369c9fc18",
   "metadata": {
    "scrolled": true
   },
   "outputs": [
    {
     "name": "stdout",
     "output_type": "stream",
     "text": [
      "BankAccount imported with success.\n"
     ]
    }
   ],
   "source": [
    "import sys\n",
    "from fernandoramos.BankAccount import BankAccount\n",
    "\n",
    "print(\"BankAccount imported with success.\")"
   ]
  },
  {
   "cell_type": "markdown",
   "id": "f01a4110-ce9c-4c18-86ff-45918b4f694b",
   "metadata": {},
   "source": [
    "## Ejemplo de implementación"
   ]
  },
  {
   "cell_type": "code",
   "execution_count": 2,
   "id": "d3fda923-9b8b-4e74-b3c5-49c40b997a83",
   "metadata": {},
   "outputs": [
    {
     "name": "stdout",
     "output_type": "stream",
     "text": [
      "Cuenta creada: BankAccount(balance=$1000.00)\n",
      "Operaciones disponibles: ['deposit', 'withdraw', 'get_balance']\n",
      "\n",
      "Depósito realizado: {'operation': 'deposit', 'amount': 13, 'balance_before': 1000.0, 'balance_after': 1013.0}\n",
      "Retiro realizado: {'operation': 'withdraw', 'amount': 717, 'balance_before': 1013.0, 'balance_after': 296.0}\n",
      "Saldo final: {'operation': 'get_balance', 'current_balance': 296.0}\n"
     ]
    }
   ],
   "source": [
    "# Crear una cuenta con saldo inicial de 1000 (como en el ejemplo)\n",
    "account = BankAccount(1000)\n",
    "print(f\"Cuenta creada: {account}\")\n",
    "print(f\"Operaciones disponibles: {account.get_available_operations()}\")\n",
    "\n",
    "# Realizar depósito de 13 (como en el ejemplo)\n",
    "result_deposit = account.process(\"deposit\", 13)\n",
    "print(f\"\\nDepósito realizado: {result_deposit}\")\n",
    "\n",
    "# Realizar retiro de 717 (como en el ejemplo)  \n",
    "result_withdraw = account.process(\"withdraw\", 717)\n",
    "print(f\"Retiro realizado: {result_withdraw}\")\n",
    "\n",
    "# Verificar saldo final\n",
    "result_balance = account.process(\"get_balance\")\n",
    "print(f\"Saldo final: {result_balance}\")"
   ]
  },
  {
   "cell_type": "code",
   "execution_count": null,
   "id": "45f6243d-1b5b-4ba2-8fb1-7aa809012060",
   "metadata": {},
   "outputs": [],
   "source": []
  },
  {
   "cell_type": "code",
   "execution_count": null,
   "id": "887fb192-8713-4fb3-afc2-ed4f59574f40",
   "metadata": {},
   "outputs": [],
   "source": []
  },
  {
   "cell_type": "code",
   "execution_count": null,
   "id": "2c6dd8ee-67bf-49bd-a623-b68b87b17304",
   "metadata": {},
   "outputs": [],
   "source": []
  }
 ],
 "metadata": {
  "kernelspec": {
   "display_name": "Python 3 (ipykernel)",
   "language": "python",
   "name": "python3"
  },
  "language_info": {
   "codemirror_mode": {
    "name": "ipython",
    "version": 3
   },
   "file_extension": ".py",
   "mimetype": "text/x-python",
   "name": "python",
   "nbconvert_exporter": "python",
   "pygments_lexer": "ipython3",
   "version": "3.10.12"
  }
 },
 "nbformat": 4,
 "nbformat_minor": 5
}
