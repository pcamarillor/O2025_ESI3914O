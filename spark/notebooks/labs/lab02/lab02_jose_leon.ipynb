{
 "cells": [
  {
   "cell_type": "code",
   "execution_count": 7,
   "id": "1230c732",
   "metadata": {},
   "outputs": [
    {
     "name": "stdout",
     "output_type": "stream",
     "text": [
      "Initial balance: 1000\n",
      "After deposit: 1500\n",
      "After withdrawal: 1200\n",
      "Final balance: 1200\n"
     ]
    }
   ],
   "source": [
    "import sys\n",
    "sys.path.append(\"../..\")   \n",
    "from lib.general.jos_module import BankAccount\n",
    "\n",
    "account = BankAccount(1000)\n",
    "\n",
    "print(\"Initial balance:\", account.get_balance())\n",
    "\n",
    "account.process(\"deposit\", 500)\n",
    "print(\"After deposit:\", account.get_balance())\n",
    "\n",
    "account.process(\"withdraw\", 300)\n",
    "print(\"After withdrawal:\", account.get_balance())\n",
    "\n",
    "print(\"Final balance:\", account.process(\"get_balance\"))\n"
   ]
  },
  {
   "cell_type": "code",
   "execution_count": null,
   "id": "80bad90b-31b6-437f-9494-803fecb62bb9",
   "metadata": {},
   "outputs": [],
   "source": []
  }
 ],
 "metadata": {
  "kernelspec": {
   "display_name": "Python 3 (ipykernel)",
   "language": "python",
   "name": "python3"
  },
  "language_info": {
   "codemirror_mode": {
    "name": "ipython",
    "version": 3
   },
   "file_extension": ".py",
   "mimetype": "text/x-python",
   "name": "python",
   "nbconvert_exporter": "python",
   "pygments_lexer": "ipython3",
   "version": "3.10.12"
  }
 },
 "nbformat": 4,
 "nbformat_minor": 5
}
