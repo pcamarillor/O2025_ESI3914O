{
 "cells": [
  {
   "cell_type": "markdown",
   "id": "dfeec634",
   "metadata": {},
   "source": [
    "# <center> <img src=\"../../img/ITESOLogo.png\" alt=\"ITESO\" width=\"480\" height=\"130\"> </center>\n",
    "# <center> **Departamento de Electrónica, Sistemas e Informática** </center>\n",
    "---\n",
    "## <center> Program: _Computer Systems Engineering_  </center>\n",
    "---\n",
    "### <center> **Autumn 2025** </center>\n",
    "---\n",
    "\n",
    "**Lab 02**: Bank Account Manager\n",
    "\n",
    "**Date**: 09/09/2025\n",
    "\n",
    "**Student Name**: Rodrigo Martín del Campo\n",
    "\n",
    "**Professor**: Pablo Camarillo Ramirez"
   ]
  },
  {
   "cell_type": "markdown",
   "id": "798f0edc",
   "metadata": {},
   "source": [
    "## 1. Import Class\n",
    "\n",
    "We start by importing the BankAccount class from the module created in my personal directory within the lib folder. Once this is done, we can simply use the operations saved in the class dictionary."
   ]
  },
  {
   "cell_type": "code",
   "execution_count": 1,
   "id": "c3b0e851",
   "metadata": {},
   "outputs": [],
   "source": [
    "from martindelcampo.bank_account import BankAccount"
   ]
  },
  {
   "cell_type": "markdown",
   "id": "3006c9d5",
   "metadata": {},
   "source": [
    "## 2. Test Functionality of Operations\n",
    "\n",
    "Now that we have successfully imported the BankAccount class, we can simply test our functions defined within it's dictionary."
   ]
  },
  {
   "cell_type": "code",
   "execution_count": 2,
   "id": "063870b0",
   "metadata": {},
   "outputs": [
    {
     "name": "stdout",
     "output_type": "stream",
     "text": [
      "Balance first account: 296.0\n",
      "Balance second account: 600.0\n"
     ]
    }
   ],
   "source": [
    "# Sample use as shown in the lab instructions\n",
    "acct = BankAccount(1000)\n",
    "acct.process(\"deposit\", 13)\n",
    "acct.process(\"withdraw\", 717)\n",
    "print('Balance first account:' , acct.process(\"get_balance\"))\n",
    "\n",
    "# Second sample use to verify functionality\n",
    "acct2 = BankAccount(500)\n",
    "acct2.process(\"withdraw\", 100)  \n",
    "acct2.process(\"deposit\", 200)\n",
    "print('Balance second account:' , acct2.process(\"get_balance\"))"
   ]
  }
 ],
 "metadata": {
  "kernelspec": {
   "display_name": "Python 3 (ipykernel)",
   "language": "python",
   "name": "python3"
  },
  "language_info": {
   "codemirror_mode": {
    "name": "ipython",
    "version": 3
   },
   "file_extension": ".py",
   "mimetype": "text/x-python",
   "name": "python",
   "nbconvert_exporter": "python",
   "pygments_lexer": "ipython3",
   "version": "3.10.12"
  }
 },
 "nbformat": 4,
 "nbformat_minor": 5
}
