{
 "cells": [
  {
   "cell_type": "markdown",
   "id": "b92d9622",
   "metadata": {},
   "source": [
    "# <center> <img src=\"../../img/ITESOLogo.png\" alt=\"ITESO\" width=\"480\" height=\"130\"> </center>\n",
    "# <center> **Departamento de Electrónica, Sistemas e Informática** </center>\n",
    "---\n",
    "## <center> Program: _Procesamiento de Datos Masivos_  </center>\n",
    "---\n",
    "### <center> **Autumn 2025** </center>\n",
    "---\n",
    "\n",
    "**Lab 02**:\n",
    "\n",
    "**September 9, 2025**:\n",
    "\n",
    "**Luis Alberto González Escamilla**:\n",
    "\n",
    "**Professor**: Pablo Camarillo Ramirez"
   ]
  },
  {
   "cell_type": "code",
   "execution_count": 4,
   "id": "413409af-6d82-4dd5-92d0-f7e1fb404c18",
   "metadata": {},
   "outputs": [
    {
     "name": "stdout",
     "output_type": "stream",
     "text": [
      "Creating Account\n",
      "New account created with initial balance: $1000\n",
      "Processing Transactions\n",
      "Deposited: $13. New balance: $1013\n",
      "Withdrew: $717. New balance: $296\n",
      "Current balance is: $296\n",
      "--- Testing Edge Cases ---\n",
      "Error: 'transfer_funds' is not a valid operation.\n",
      "Error: The 'deposit' operation requires an amount.\n"
     ]
    }
   ],
   "source": [
    "from luis_gonzalez.account import BankAccount\n",
    "\n",
    "# 1. Create a new account with an initial balance of $1000\n",
    "print(\"Creating Account\")\n",
    "account = BankAccount(1000)\n",
    "\n",
    "# 2. Process a few operations\n",
    "print(\"Processing Transactions\")\n",
    "account.process(\"deposit\", 13)\n",
    "account.process(\"withdraw\", 717)\n",
    "account.process(\"get_balance\")\n",
    "\n",
    "# 3. Try invalid operations\n",
    "print(\"--- Testing Edge Cases ---\")\n",
    "account.process(\"transfer_funds\", 50) # This should fail gracefully\n",
    "account.process(\"deposit\") # This should also fail gracefully\n"
   ]
  },
  {
   "cell_type": "code",
   "execution_count": null,
   "id": "c5949208-c3bf-4daa-a668-4a70ee0f340b",
   "metadata": {},
   "outputs": [],
   "source": []
  },
  {
   "cell_type": "code",
   "execution_count": null,
   "id": "6c57585e-a5d7-468e-a0ab-1d9b0a79323b",
   "metadata": {},
   "outputs": [],
   "source": []
  }
 ],
 "metadata": {
  "kernelspec": {
   "display_name": "Python 3 (ipykernel)",
   "language": "python",
   "name": "python3"
  },
  "language_info": {
   "codemirror_mode": {
    "name": "ipython",
    "version": 3
   },
   "file_extension": ".py",
   "mimetype": "text/x-python",
   "name": "python",
   "nbconvert_exporter": "python",
   "pygments_lexer": "ipython3",
   "version": "3.10.12"
  }
 },
 "nbformat": 4,
 "nbformat_minor": 5
}
