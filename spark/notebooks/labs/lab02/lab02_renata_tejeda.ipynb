{
 "cells": [
  {
   "cell_type": "markdown",
   "id": "838b9756-eb0b-4b35-b36e-bfce3f0ede50",
   "metadata": {},
   "source": [
    "# <center> <img src=\"../../img/ITESOLogo.png\" alt=\"ITESO\" width=\"480\" height=\"130\"> </center>\n",
    "# <center> **Departamento de Electrónica, Sistemas e Informática** </center>\n",
    "---\n",
    "## <center> Program: Ingeniería en Sistemas  </center>\n",
    "---\n",
    "### <center> **Autumn 2025** </center>\n",
    "---\n",
    "\n",
    "**Lab 02**: Bank Account Manager\n",
    "\n",
    "**Date**: 09 de Septiembre del 2025\n",
    "\n",
    "**Student Name**: Renata Tejeda Mercado\n",
    "\n",
    "**Professor**: Pablo Camarillo Ramirez"
   ]
  },
  {
   "cell_type": "code",
   "execution_count": 16,
   "id": "57f996cc-62d8-4aea-96f2-ae64770d7b6b",
   "metadata": {},
   "outputs": [
    {
     "name": "stdout",
     "output_type": "stream",
     "text": [
      "Deposited 50, new balance: 1050\n",
      "Withdrew 300, new balance: 750\n",
      "Current balance: 750\n"
     ]
    }
   ],
   "source": [
    "from codrenatat.bank_account import BankAccount\n",
    "\n",
    "account = BankAccount(1000)\n",
    "print(account.process(\"deposit\", 50))     \n",
    "print(account.process(\"withdraw\", 300))   \n",
    "print(account.process(\"get_balance\"))     \n"
   ]
  },
  {
   "cell_type": "code",
   "execution_count": null,
   "id": "86fe1777-f554-4cf5-8aa6-10ae2cc78112",
   "metadata": {},
   "outputs": [],
   "source": []
  }
 ],
 "metadata": {
  "kernelspec": {
   "display_name": "Python 3 (ipykernel)",
   "language": "python",
   "name": "python3"
  },
  "language_info": {
   "codemirror_mode": {
    "name": "ipython",
    "version": 3
   },
   "file_extension": ".py",
   "mimetype": "text/x-python",
   "name": "python",
   "nbconvert_exporter": "python",
   "pygments_lexer": "ipython3",
   "version": "3.10.12"
  }
 },
 "nbformat": 4,
 "nbformat_minor": 5
}
