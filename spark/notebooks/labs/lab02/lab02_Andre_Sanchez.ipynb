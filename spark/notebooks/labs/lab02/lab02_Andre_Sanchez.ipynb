{
 "cells": [
  {
   "cell_type": "markdown",
   "id": "dfeec634",
   "metadata": {},
   "source": [
    "# <center> <img src=\"../../img/ITESOLogo.png\" alt=\"ITESO\" width=\"480\" height=\"130\"> </center>\n",
    "# <center> **Departamento de Electrónica, Sistemas e Informática** </center>\n",
    "---\n",
    "## <center> Program: Bank Account Manager  </center>\n",
    "---\n",
    "### <center> **Autumn 2025** </center>\n",
    "---\n",
    "\n",
    "**Lab 02**:\n",
    "\n",
    "**Date**: 8- Septiembre -2025\n",
    "\n",
    "**Student Name**: Andre Jair Sanchez Contreras\n",
    "\n",
    "**Professor**: Pablo Camarillo Ramirez"
   ]
  },
  {
   "cell_type": "code",
   "execution_count": 1,
   "id": "449e0753-e17b-4a48-b24b-710c8c1254ee",
   "metadata": {},
   "outputs": [],
   "source": [
    "import sys\n",
    "sys.path.append(\"spark/notebooks/lib\")"
   ]
  },
  {
   "cell_type": "code",
   "execution_count": 2,
   "id": "9e35d46c-6904-4a84-8cd2-f266f8e09dbe",
   "metadata": {},
   "outputs": [],
   "source": [
    "from bank_account import BankAccount"
   ]
  },
  {
   "cell_type": "code",
   "execution_count": 3,
   "id": "31957596-0c11-40db-b2ef-65ff31c5acd5",
   "metadata": {},
   "outputs": [],
   "source": [
    "account = BankAccount(2000)"
   ]
  },
  {
   "cell_type": "code",
   "execution_count": 4,
   "id": "93710d97-2f72-4e44-b153-4de6bd67ec6d",
   "metadata": {},
   "outputs": [
    {
     "name": "stdout",
     "output_type": "stream",
     "text": [
      "Depositado 200. Nuevo Balance: 2200\n"
     ]
    }
   ],
   "source": [
    "print(account.process(\"deposit\", 200))    #Depositar"
   ]
  },
  {
   "cell_type": "code",
   "execution_count": 5,
   "id": "a9f38f50-1b15-40a9-88fb-5169ded77ea8",
   "metadata": {},
   "outputs": [
    {
     "name": "stdout",
     "output_type": "stream",
     "text": [
      "Retiraste 500. Nuevo Balance: 1700\n"
     ]
    }
   ],
   "source": [
    "print(account.process(\"withdraw\", 500))   #Retirar"
   ]
  },
  {
   "cell_type": "code",
   "execution_count": 6,
   "id": "e9cd712d-56fe-429b-8a96-1e8490d33440",
   "metadata": {},
   "outputs": [
    {
     "name": "stdout",
     "output_type": "stream",
     "text": [
      "Balance Actual: 1700\n"
     ]
    }
   ],
   "source": [
    "print(account.process(\"get_balance\"))     #Consultar balance actual"
   ]
  },
  {
   "cell_type": "code",
   "execution_count": 7,
   "id": "633ddbf3-6db0-4309-b3cb-1cc021825fcf",
   "metadata": {},
   "outputs": [
    {
     "name": "stdout",
     "output_type": "stream",
     "text": [
      "La Operacion 'Robar' no existe.\n"
     ]
    }
   ],
   "source": [
    "print(account.process(\"Robar\", 300))   #Movimientos Invalidos"
   ]
  },
  {
   "cell_type": "code",
   "execution_count": null,
   "id": "84ca7fdc-fb38-4bd8-a3e4-15988cbfe81a",
   "metadata": {},
   "outputs": [],
   "source": []
  }
 ],
 "metadata": {
  "kernelspec": {
   "display_name": "Python 3 (ipykernel)",
   "language": "python",
   "name": "python3"
  },
  "language_info": {
   "codemirror_mode": {
    "name": "ipython",
    "version": 3
   },
   "file_extension": ".py",
   "mimetype": "text/x-python",
   "name": "python",
   "nbconvert_exporter": "python",
   "pygments_lexer": "ipython3",
   "version": "3.10.12"
  }
 },
 "nbformat": 4,
 "nbformat_minor": 5
}
